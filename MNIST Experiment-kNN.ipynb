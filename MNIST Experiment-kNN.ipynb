{
 "metadata": {
  "name": ""
 },
 "nbformat": 3,
 "nbformat_minor": 0,
 "worksheets": [
  {
   "cells": [
    {
     "cell_type": "markdown",
     "metadata": {},
     "source": [
      "### 1. Preprocessing\n",
      "\n",
      "* Scale down 50%\n",
      "* PCA-50"
     ]
    },
    {
     "cell_type": "code",
     "collapsed": false,
     "input": [
      "def scale_image(x, scale=0.5):\n",
      "    from scipy.misc import imresize\n",
      "    n = x.shape[0]\n",
      "    sx = x.reshape((sqrt(n),sqrt(n)))\n",
      "    small = imresize(sx, scale)\n",
      "    return small.reshape(-1)\n",
      "\n",
      "def transform_data_pca(X):\n",
      "    from sklearn.decomposition import PCA\n",
      "    X = np.array([scale_image(x, 0.5) for x in X])\n",
      "    pca = PCA(n_components=100)\n",
      "    Tx = pca.fit_transform(X)\n",
      "    print(pca.explained_variance_ratio_.cumsum()) \n",
      "    return Tx"
     ],
     "language": "python",
     "metadata": {},
     "outputs": [],
     "prompt_number": 34
    },
    {
     "cell_type": "code",
     "collapsed": false,
     "input": [
      "import numpy as np\n",
      "from sklearn.datasets import fetch_mldata\n",
      " \n",
      "mnist = fetch_mldata('MNIST original', data_home='.')\n",
      "\n",
      "max_n = min(10000, len(mnist.data))\n",
      "rand_idx = range(len(mnist.data))\n",
      "np.random.shuffle(rand_idx)\n",
      "mnist.data = mnist.data[rand_idx[:max_n]]\n",
      "mnist.target = mnist.target[rand_idx[:max_n]].astype(int)\n",
      "\n",
      "transformed_data = transform_data_pca(mnist.data)"
     ],
     "language": "python",
     "metadata": {},
     "outputs": [
      {
       "output_type": "stream",
       "stream": "stdout",
       "text": [
        "[ 0.1181718   0.20150833  0.27412548  0.33810525  0.39640161  0.44643101\n",
        "  0.48501587  0.51776662  0.54861107  0.57470861  0.59735856  0.61942066\n",
        "  0.63865453  0.65664596  0.67389315  0.69012858  0.70374562  0.71728689\n",
        "  0.72977875  0.74159146  0.75273292  0.76280183  0.77278775  0.78190972\n",
        "  0.79074021  0.79924905  0.80731805  0.8149944   0.8223235   0.8292764\n",
        "  0.83581108  0.84205623  0.84795291  0.853731    0.85920132  0.86435834\n",
        "  0.8692961   0.87402984  0.87869982  0.88320653  0.8875882   0.89174825\n",
        "  0.89571763  0.89961958  0.90336052  0.90699316  0.91039237  0.91370213\n",
        "  0.91686189  0.91995796  0.92283136  0.92561474  0.92835146  0.93106454\n",
        "  0.93362836  0.93614285  0.93860286  0.940999    0.94330294  0.94553182\n",
        "  0.94771168  0.94982402  0.95182104  0.95374503  0.95554426  0.95731577\n",
        "  0.95898519  0.96062869  0.96223751  0.96383042  0.96533676  0.96679305\n",
        "  0.96822268  0.96958513  0.97087647  0.97215556  0.97336931  0.97457277\n",
        "  0.97571029  0.9768096   0.97789716  0.9789477   0.97996324  0.98091659\n",
        "  0.98185695  0.98278267  0.98367969  0.98456107  0.98539425  0.98618016\n",
        "  0.98693704  0.98767069  0.98835714  0.98901247  0.98964039  0.990232\n",
        "  0.9908128   0.99136584  0.9919047   0.99243438]\n"
       ]
      }
     ],
     "prompt_number": 35
    },
    {
     "cell_type": "code",
     "collapsed": false,
     "input": [
      "def kld(p,q):\n",
      "    return -np.sum(p * np.log(q))\n",
      "    \n",
      "def alpha_divergence(exp, obs, alpha=1):\n",
      "    if alpha==1:\n",
      "        return kld(obs, exp)\n",
      "    p = obs\n",
      "    q = exp\n",
      "    return (np.sum((p**alpha)*(q**(1-alpha))) - 1.0)/(alpha*(alpha-1))\n",
      "\n",
      "def alpha_classifier(obs, P, alpha):\n",
      "    c = np.argmin([alpha_divergence(P[i,:], obs, alpha) for i in range(P.shape[0])])\n",
      "    return c\n",
      "\n",
      "def max_classifier(obs):\n",
      "    return obs.argmax()"
     ],
     "language": "python",
     "metadata": {},
     "outputs": [],
     "prompt_number": 36
    },
    {
     "cell_type": "code",
     "collapsed": false,
     "input": [
      "from sklearn import cross_validation\n",
      "from sklearn.neighbors import KNeighborsClassifier\n",
      "import pickle\n",
      "import random\n",
      "\n",
      "def make_distribution(Sx, M):\n",
      "    dist,_  = np.histogram(Sx, bins=M, range=(0,M), density=True)\n",
      "    return dist\n",
      "    \n",
      "def prototypical_P(nx, Y_train, M):\n",
      "    m = make_distribution(Y_train[nx].reshape(-1), M)\n",
      "    print m.round(2)\n",
      "    return m\n",
      "\n",
      "def compute_errors_fixed_P(X_test, Y_test, Y_train, P, nn_all, kn, M, alpha):         \n",
      "    correct_ll = 0\n",
      "    correct_ah = 0\n",
      "    nx = nn_all.kneighbors(X_test, n_neighbors=kn, return_distance=False)\n",
      "    for i,x in enumerate(nx):\n",
      "        dx = make_distribution(Y_train[x], M)\n",
      "        ll = max_classifier(dx)\n",
      "        ah = alpha_classifier(dx, P, alpha)\n",
      "        if ll == Y_test[i]:\n",
      "            correct_ll += 1\n",
      "        if ah == Y_test[i]:\n",
      "            correct_ah += 1\n",
      "    return 1.0 - np.array([float(correct_ll)/len(X_test), float(correct_ah)/len(X_test)])\n",
      "\n",
      "def run_experiment_fixed_P(kfold, X, Y, alpha, bias=0.01, metric='manhattan'):\n",
      "    test_errors = []\n",
      "    plot_data = {}\n",
      "    skf = cross_validation.StratifiedKFold(Y, n_folds=kfold)\n",
      "    M = np.max(Y).astype(int) + 1\n",
      "    for (fold_idx,(train_index, test_index)) in enumerate(skf):\n",
      "        \n",
      "        print \"== Fold %d ==\"%fold_idx\n",
      "        \n",
      "        X_train = X[train_index]\n",
      "        Y_train = Y[train_index] \n",
      "        X_test = X[test_index]\n",
      "        Y_test = Y[test_index]\n",
      "            \n",
      "        # train overall NN models\n",
      "        print \"Fitting model...\"\n",
      "        nn_all = KNeighborsClassifier(metric=metric)\n",
      "        nn_all.fit(X_train, Y_train)\n",
      "            \n",
      "        # compute test errors using different k\n",
      "        test_err = []\n",
      "        all_kn = [1,3,5,7,9,11,20,40]\n",
      "        for kn in all_kn:\n",
      "            \n",
      "            print \"Finding mean for k=%d...\"%kn\n",
      "            P = np.zeros((M,M))\n",
      "            for j in range(M):\n",
      "                idx = (Y_train == j)\n",
      "                #i_idx, = np.nonzero(idx)\n",
      "                #idx = np.random.choice(i_idx, size=10)\n",
      "                nx = nn_all.kneighbors(X_train[idx], n_neighbors=kn, return_distance=False)\n",
      "                P[j,:] = prototypical_P(nx, Y_train, M) + bias\n",
      "                P[j,:] = P[j,:] / P[j,:].sum()\n",
      "   \n",
      "            print \"Saving plot_data...\"\n",
      "            plot_data[(fold_idx, kn)] = P\n",
      "            pickle.dump(plot_data, open('mnist_knn_plot_data.p','wb'))\n",
      "                \n",
      "            print \"Start testing...\"\n",
      "            test_err.append(compute_errors_fixed_P(X_test, Y_test, Y_train, P, nn_all, kn, M, alpha))\n",
      "            #raise\n",
      "            \n",
      "        print test_err\n",
      "        test_errors.append(test_err)\n",
      "        \n",
      "    test_error_mean = np.mean(test_errors, axis=0)\n",
      "    test_error_std = np.std(test_errors, axis=0)\n",
      "    return (test_error_mean, test_error_std, all_kn) \n",
      "\n",
      "def plot_results(ts_m,ts_sd,x):\n",
      "    figure(figsize=(10,8))\n",
      "    errorbar(x, ts_m[:,0], yerr=ts_sd[:,0], fmt='sb-', label='max', lw=2)\n",
      "    errorbar(x, ts_m[:,1], yerr=ts_sd[:,1], fmt='or-', label='alpha-d', lw=2)\n",
      "    legend()\n",
      "    xlabel('size of neighborhood')\n",
      "    ylabel('error rate')\n",
      "    title(\"Test error\")\n",
      "    grid()"
     ],
     "language": "python",
     "metadata": {},
     "outputs": [],
     "prompt_number": 37
    },
    {
     "cell_type": "code",
     "collapsed": false,
     "input": [
      "(ts_m,ts_sd,x) = run_experiment_fixed_P(10, transformed_data, mnist.target, alpha=1, bias=1e-2)\n",
      "plot_results(ts_m,ts_sd,x)"
     ],
     "language": "python",
     "metadata": {},
     "outputs": [
      {
       "output_type": "stream",
       "stream": "stdout",
       "text": [
        "== Fold 0 ==\n",
        "Fitting model..."
       ]
      },
      {
       "output_type": "stream",
       "stream": "stdout",
       "text": [
        "\n",
        "Finding mean for k=1..."
       ]
      },
      {
       "output_type": "stream",
       "stream": "stdout",
       "text": [
        "\n",
        "[ 1.  0.  0.  0.  0.  0.  0.  0.  0.  0.]"
       ]
      },
      {
       "output_type": "stream",
       "stream": "stdout",
       "text": [
        "\n",
        "[ 0.  1.  0.  0.  0.  0.  0.  0.  0.  0.]"
       ]
      },
      {
       "output_type": "stream",
       "stream": "stdout",
       "text": [
        "\n",
        "[ 0.  0.  1.  0.  0.  0.  0.  0.  0.  0.]"
       ]
      },
      {
       "output_type": "stream",
       "stream": "stdout",
       "text": [
        "\n",
        "[ 0.  0.  0.  1.  0.  0.  0.  0.  0.  0.]"
       ]
      },
      {
       "output_type": "stream",
       "stream": "stdout",
       "text": [
        "\n",
        "[ 0.  0.  0.  0.  1.  0.  0.  0.  0.  0.]"
       ]
      },
      {
       "output_type": "stream",
       "stream": "stdout",
       "text": [
        "\n",
        "[ 0.  0.  0.  0.  0.  1.  0.  0.  0.  0.]"
       ]
      },
      {
       "output_type": "stream",
       "stream": "stdout",
       "text": [
        "\n",
        "[ 0.  0.  0.  0.  0.  0.  1.  0.  0.  0.]\n",
        "[ 0.  0.  0.  0.  0.  0.  0.  1.  0.  0.]"
       ]
      },
      {
       "output_type": "stream",
       "stream": "stdout",
       "text": [
        "\n",
        "[ 0.  0.  0.  0.  0.  0.  0.  0.  1.  0.]\n",
        "[ 0.  0.  0.  0.  0.  0.  0.  0.  0.  1.]"
       ]
      },
      {
       "output_type": "stream",
       "stream": "stdout",
       "text": [
        "\n",
        "Saving plot_data...\n",
        "Start testing...\n",
        "Finding mean for k=3..."
       ]
      },
      {
       "output_type": "stream",
       "stream": "stdout",
       "text": [
        "\n",
        "[ 0.99  0.    0.    0.    0.    0.    0.    0.    0.    0.  ]"
       ]
      },
      {
       "output_type": "stream",
       "stream": "stdout",
       "text": [
        "\n",
        "[ 0.  1.  0.  0.  0.  0.  0.  0.  0.  0.]"
       ]
      },
      {
       "output_type": "stream",
       "stream": "stdout",
       "text": [
        "\n",
        "[ 0.01  0.01  0.94  0.01  0.    0.    0.    0.02  0.01  0.  ]"
       ]
      },
      {
       "output_type": "stream",
       "stream": "stdout",
       "text": [
        "\n",
        "[ 0.    0.01  0.01  0.94  0.    0.02  0.    0.01  0.01  0.01]"
       ]
      },
      {
       "output_type": "stream",
       "stream": "stdout",
       "text": [
        "\n",
        "[ 0.    0.01  0.    0.    0.94  0.    0.    0.01  0.    0.04]"
       ]
      },
      {
       "output_type": "stream",
       "stream": "stdout",
       "text": [
        "\n",
        "[ 0.01  0.    0.    0.03  0.    0.93  0.01  0.    0.01  0.01]"
       ]
      },
      {
       "output_type": "stream",
       "stream": "stdout",
       "text": [
        "\n",
        "[ 0.01  0.    0.    0.    0.    0.01  0.98  0.    0.    0.  ]"
       ]
      },
      {
       "output_type": "stream",
       "stream": "stdout",
       "text": [
        "\n",
        "[ 0.    0.01  0.    0.    0.01  0.    0.    0.95  0.    0.02]"
       ]
      },
      {
       "output_type": "stream",
       "stream": "stdout",
       "text": [
        "\n",
        "[ 0.    0.02  0.    0.02  0.    0.02  0.01  0.01  0.89  0.02]"
       ]
      },
      {
       "output_type": "stream",
       "stream": "stdout",
       "text": [
        "\n",
        "[ 0.    0.    0.    0.01  0.01  0.    0.    0.02  0.    0.95]"
       ]
      },
      {
       "output_type": "stream",
       "stream": "stdout",
       "text": [
        "\n",
        "Saving plot_data...\n",
        "Start testing...\n",
        "Finding mean for k=5..."
       ]
      },
      {
       "output_type": "stream",
       "stream": "stdout",
       "text": [
        "\n",
        "[ 0.99  0.    0.    0.    0.    0.    0.    0.    0.    0.  ]"
       ]
      },
      {
       "output_type": "stream",
       "stream": "stdout",
       "text": [
        "\n",
        "[ 0.    0.99  0.    0.    0.    0.    0.    0.    0.    0.  ]"
       ]
      },
      {
       "output_type": "stream",
       "stream": "stdout",
       "text": [
        "\n",
        "[ 0.01  0.02  0.91  0.01  0.01  0.    0.01  0.02  0.01  0.01]"
       ]
      },
      {
       "output_type": "stream",
       "stream": "stdout",
       "text": [
        "\n",
        "[ 0.    0.01  0.01  0.92  0.    0.03  0.    0.01  0.01  0.01]"
       ]
      },
      {
       "output_type": "stream",
       "stream": "stdout",
       "text": [
        "\n",
        "[ 0.    0.01  0.    0.    0.9   0.    0.    0.01  0.    0.06]"
       ]
      },
      {
       "output_type": "stream",
       "stream": "stdout",
       "text": [
        "\n",
        "[ 0.01  0.    0.    0.04  0.01  0.9   0.02  0.    0.01  0.02]"
       ]
      },
      {
       "output_type": "stream",
       "stream": "stdout",
       "text": [
        "\n",
        "[ 0.01  0.    0.    0.    0.    0.01  0.97  0.    0.    0.  ]"
       ]
      },
      {
       "output_type": "stream",
       "stream": "stdout",
       "text": [
        "\n",
        "[ 0.    0.02  0.    0.    0.01  0.    0.    0.93  0.    0.03]"
       ]
      },
      {
       "output_type": "stream",
       "stream": "stdout",
       "text": [
        "\n",
        "[ 0.01  0.03  0.01  0.03  0.01  0.04  0.01  0.01  0.85  0.02]"
       ]
      },
      {
       "output_type": "stream",
       "stream": "stdout",
       "text": [
        "\n",
        "[ 0.    0.    0.    0.01  0.02  0.    0.    0.03  0.    0.93]"
       ]
      },
      {
       "output_type": "stream",
       "stream": "stdout",
       "text": [
        "\n",
        "Saving plot_data...\n",
        "Start testing...\n",
        "Finding mean for k=7..."
       ]
      },
      {
       "output_type": "stream",
       "stream": "stdout",
       "text": [
        "\n",
        "[ 0.98  0.    0.    0.    0.    0.    0.01  0.    0.    0.  ]"
       ]
      },
      {
       "output_type": "stream",
       "stream": "stdout",
       "text": [
        "\n",
        "[ 0.    0.99  0.    0.    0.    0.    0.    0.    0.    0.  ]"
       ]
      },
      {
       "output_type": "stream",
       "stream": "stdout",
       "text": [
        "\n",
        "[ 0.02  0.02  0.89  0.01  0.01  0.    0.01  0.03  0.01  0.01]"
       ]
      },
      {
       "output_type": "stream",
       "stream": "stdout",
       "text": [
        "\n",
        "[ 0.    0.01  0.01  0.9   0.    0.03  0.    0.01  0.01  0.01]"
       ]
      },
      {
       "output_type": "stream",
       "stream": "stdout",
       "text": [
        "\n",
        "[ 0.    0.01  0.    0.    0.88  0.    0.01  0.01  0.    0.08]"
       ]
      },
      {
       "output_type": "stream",
       "stream": "stdout",
       "text": [
        "\n",
        "[ 0.01  0.01  0.    0.04  0.01  0.88  0.02  0.    0.02  0.02]"
       ]
      },
      {
       "output_type": "stream",
       "stream": "stdout",
       "text": [
        "\n",
        "[ 0.01  0.01  0.    0.    0.    0.01  0.96  0.    0.    0.  ]"
       ]
      },
      {
       "output_type": "stream",
       "stream": "stdout",
       "text": [
        "\n",
        "[ 0.    0.02  0.    0.    0.01  0.    0.    0.92  0.    0.04]"
       ]
      },
      {
       "output_type": "stream",
       "stream": "stdout",
       "text": [
        "\n",
        "[ 0.01  0.03  0.01  0.04  0.01  0.04  0.01  0.01  0.82  0.03]"
       ]
      },
      {
       "output_type": "stream",
       "stream": "stdout",
       "text": [
        "\n",
        "[ 0.    0.01  0.    0.01  0.03  0.    0.    0.04  0.    0.91]"
       ]
      },
      {
       "output_type": "stream",
       "stream": "stdout",
       "text": [
        "\n",
        "Saving plot_data...\n",
        "Start testing...\n",
        "Finding mean for k=9..."
       ]
      },
      {
       "output_type": "stream",
       "stream": "stdout",
       "text": [
        "\n",
        "[ 0.98  0.    0.    0.    0.    0.    0.01  0.    0.    0.  ]"
       ]
      },
      {
       "output_type": "stream",
       "stream": "stdout",
       "text": [
        "\n",
        "[ 0.    0.99  0.    0.    0.    0.    0.    0.    0.    0.  ]"
       ]
      },
      {
       "output_type": "stream",
       "stream": "stdout",
       "text": [
        "\n",
        "[ 0.02  0.02  0.87  0.01  0.01  0.    0.01  0.03  0.01  0.01]"
       ]
      },
      {
       "output_type": "stream",
       "stream": "stdout",
       "text": [
        "\n",
        "[ 0.    0.01  0.01  0.89  0.    0.04  0.    0.01  0.02  0.01]"
       ]
      },
      {
       "output_type": "stream",
       "stream": "stdout",
       "text": [
        "\n",
        "[ 0.    0.02  0.    0.    0.86  0.    0.01  0.02  0.    0.1 ]"
       ]
      },
      {
       "output_type": "stream",
       "stream": "stdout",
       "text": [
        "\n",
        "[ 0.01  0.01  0.    0.05  0.01  0.86  0.02  0.    0.02  0.02]"
       ]
      },
      {
       "output_type": "stream",
       "stream": "stdout",
       "text": [
        "\n",
        "[ 0.02  0.01  0.    0.    0.    0.01  0.96  0.    0.    0.  ]"
       ]
      },
      {
       "output_type": "stream",
       "stream": "stdout",
       "text": [
        "\n",
        "[ 0.    0.02  0.    0.    0.01  0.    0.    0.91  0.    0.04]"
       ]
      },
      {
       "output_type": "stream",
       "stream": "stdout",
       "text": [
        "\n",
        "[ 0.01  0.04  0.01  0.04  0.01  0.04  0.01  0.01  0.8   0.03]"
       ]
      },
      {
       "output_type": "stream",
       "stream": "stdout",
       "text": [
        "\n",
        "[ 0.    0.01  0.    0.01  0.03  0.    0.    0.05  0.    0.89]"
       ]
      },
      {
       "output_type": "stream",
       "stream": "stdout",
       "text": [
        "\n",
        "Saving plot_data...\n",
        "Start testing...\n",
        "Finding mean for k=11..."
       ]
      },
      {
       "output_type": "stream",
       "stream": "stdout",
       "text": [
        "\n",
        "[ 0.98  0.    0.    0.    0.    0.01  0.01  0.    0.    0.  ]"
       ]
      },
      {
       "output_type": "stream",
       "stream": "stdout",
       "text": [
        "\n",
        "[ 0.    0.99  0.    0.    0.    0.    0.    0.    0.    0.  ]"
       ]
      },
      {
       "output_type": "stream",
       "stream": "stdout",
       "text": [
        "\n",
        "[ 0.02  0.03  0.86  0.02  0.01  0.    0.01  0.03  0.01  0.01]"
       ]
      },
      {
       "output_type": "stream",
       "stream": "stdout",
       "text": [
        "\n",
        "[ 0.    0.02  0.01  0.88  0.    0.04  0.    0.01  0.02  0.02]"
       ]
      },
      {
       "output_type": "stream",
       "stream": "stdout",
       "text": [
        "\n",
        "[ 0.    0.02  0.    0.    0.84  0.    0.01  0.02  0.    0.11]"
       ]
      },
      {
       "output_type": "stream",
       "stream": "stdout",
       "text": [
        "\n",
        "[ 0.01  0.01  0.    0.06  0.01  0.85  0.02  0.    0.02  0.02]"
       ]
      },
      {
       "output_type": "stream",
       "stream": "stdout",
       "text": [
        "\n",
        "[ 0.02  0.01  0.    0.    0.    0.01  0.96  0.    0.    0.  ]"
       ]
      },
      {
       "output_type": "stream",
       "stream": "stdout",
       "text": [
        "\n",
        "[ 0.    0.02  0.    0.    0.02  0.    0.    0.9   0.    0.05]"
       ]
      },
      {
       "output_type": "stream",
       "stream": "stdout",
       "text": [
        "\n",
        "[ 0.01  0.04  0.01  0.04  0.01  0.05  0.01  0.01  0.78  0.03]"
       ]
      },
      {
       "output_type": "stream",
       "stream": "stdout",
       "text": [
        "\n",
        "[ 0.    0.01  0.    0.01  0.04  0.    0.    0.05  0.    0.88]"
       ]
      },
      {
       "output_type": "stream",
       "stream": "stdout",
       "text": [
        "\n",
        "Saving plot_data...\n",
        "Start testing...\n",
        "Finding mean for k=20..."
       ]
      },
      {
       "output_type": "stream",
       "stream": "stdout",
       "text": [
        "\n",
        "[ 0.97  0.    0.    0.    0.    0.01  0.01  0.    0.    0.  ]"
       ]
      },
      {
       "output_type": "stream",
       "stream": "stdout",
       "text": [
        "\n",
        "[ 0.    0.99  0.    0.    0.    0.    0.    0.    0.    0.  ]"
       ]
      },
      {
       "output_type": "stream",
       "stream": "stdout",
       "text": [
        "\n",
        "[ 0.03  0.05  0.8   0.02  0.02  0.    0.01  0.04  0.02  0.01]"
       ]
      },
      {
       "output_type": "stream",
       "stream": "stdout",
       "text": [
        "\n",
        "[ 0.01  0.02  0.01  0.84  0.    0.05  0.    0.01  0.02  0.02]"
       ]
      },
      {
       "output_type": "stream",
       "stream": "stdout",
       "text": [
        "\n",
        "[ 0.    0.03  0.    0.    0.78  0.    0.01  0.02  0.    0.15]"
       ]
      },
      {
       "output_type": "stream",
       "stream": "stdout",
       "text": [
        "\n",
        "[ 0.01  0.02  0.    0.07  0.01  0.8   0.02  0.01  0.02  0.03]"
       ]
      },
      {
       "output_type": "stream",
       "stream": "stdout",
       "text": [
        "\n",
        "[ 0.02  0.01  0.    0.    0.01  0.01  0.94  0.    0.    0.  ]"
       ]
      },
      {
       "output_type": "stream",
       "stream": "stdout",
       "text": [
        "\n",
        "[ 0.    0.03  0.    0.    0.02  0.    0.    0.88  0.    0.06]"
       ]
      },
      {
       "output_type": "stream",
       "stream": "stdout",
       "text": [
        "\n",
        "[ 0.01  0.05  0.01  0.05  0.02  0.05  0.02  0.01  0.73  0.04]"
       ]
      },
      {
       "output_type": "stream",
       "stream": "stdout",
       "text": [
        "\n",
        "[ 0.01  0.01  0.    0.01  0.05  0.    0.    0.07  0.    0.84]"
       ]
      },
      {
       "output_type": "stream",
       "stream": "stdout",
       "text": [
        "\n",
        "Saving plot_data...\n",
        "Start testing...\n",
        "Finding mean for k=40..."
       ]
      },
      {
       "output_type": "stream",
       "stream": "stdout",
       "text": [
        "\n",
        "[ 0.95  0.01  0.    0.    0.    0.01  0.02  0.    0.    0.  ]"
       ]
      },
      {
       "output_type": "stream",
       "stream": "stdout",
       "text": [
        "\n",
        "[ 0.    0.99  0.    0.    0.    0.    0.    0.    0.    0.  ]"
       ]
      },
      {
       "output_type": "stream",
       "stream": "stdout",
       "text": [
        "\n",
        "[ 0.03  0.08  0.72  0.04  0.02  0.01  0.01  0.05  0.02  0.02]"
       ]
      },
      {
       "output_type": "stream",
       "stream": "stdout",
       "text": [
        "\n",
        "[ 0.01  0.04  0.01  0.79  0.    0.07  0.01  0.02  0.03  0.03]"
       ]
      },
      {
       "output_type": "stream",
       "stream": "stdout",
       "text": [
        "\n",
        "[ 0.    0.04  0.    0.    0.71  0.    0.01  0.03  0.    0.2 ]"
       ]
      },
      {
       "output_type": "stream",
       "stream": "stdout",
       "text": [
        "\n",
        "[ 0.02  0.03  0.    0.09  0.02  0.72  0.03  0.01  0.04  0.04]"
       ]
      },
      {
       "output_type": "stream",
       "stream": "stdout",
       "text": [
        "\n",
        "[ 0.03  0.02  0.    0.    0.01  0.02  0.91  0.    0.01  0.  ]"
       ]
      },
      {
       "output_type": "stream",
       "stream": "stdout",
       "text": [
        "\n",
        "[ 0.    0.04  0.    0.    0.02  0.    0.    0.83  0.    0.09]"
       ]
      },
      {
       "output_type": "stream",
       "stream": "stdout",
       "text": [
        "\n",
        "[ 0.02  0.07  0.02  0.06  0.02  0.06  0.02  0.02  0.65  0.06]"
       ]
      },
      {
       "output_type": "stream",
       "stream": "stdout",
       "text": [
        "\n",
        "[ 0.01  0.01  0.    0.01  0.07  0.01  0.    0.09  0.    0.79]"
       ]
      },
      {
       "output_type": "stream",
       "stream": "stdout",
       "text": [
        "\n",
        "Saving plot_data...\n",
        "Start testing...\n",
        "[array([ 0.074,  0.074]), array([ 0.066,  0.059]), array([ 0.069,  0.063]), array([ 0.067,  0.065]), array([ 0.069,  0.068]), array([ 0.073,  0.068]), array([ 0.087,  0.078]), array([ 0.106,  0.09 ])]"
       ]
      },
      {
       "output_type": "stream",
       "stream": "stdout",
       "text": [
        "\n",
        "== Fold 1 ==\n",
        "Fitting model...\n",
        "Finding mean for k=1..."
       ]
      },
      {
       "output_type": "stream",
       "stream": "stdout",
       "text": [
        "\n",
        "[ 1.  0.  0.  0.  0.  0.  0.  0.  0.  0.]\n",
        "[ 0.  1.  0.  0.  0.  0.  0.  0.  0.  0.]"
       ]
      },
      {
       "output_type": "stream",
       "stream": "stdout",
       "text": [
        "\n",
        "[ 0.  0.  1.  0.  0.  0.  0.  0.  0.  0.]\n",
        "[ 0.  0.  0.  1.  0.  0.  0.  0.  0.  0.]"
       ]
      },
      {
       "output_type": "stream",
       "stream": "stdout",
       "text": [
        "\n",
        "[ 0.  0.  0.  0.  1.  0.  0.  0.  0.  0.]\n",
        "[ 0.  0.  0.  0.  0.  1.  0.  0.  0.  0.]"
       ]
      },
      {
       "output_type": "stream",
       "stream": "stdout",
       "text": [
        "\n",
        "[ 0.  0.  0.  0.  0.  0.  1.  0.  0.  0.]\n",
        "[ 0.  0.  0.  0.  0.  0.  0.  1.  0.  0.]"
       ]
      },
      {
       "output_type": "stream",
       "stream": "stdout",
       "text": [
        "\n",
        "[ 0.  0.  0.  0.  0.  0.  0.  0.  1.  0.]\n",
        "[ 0.  0.  0.  0.  0.  0.  0.  0.  0.  1.]"
       ]
      },
      {
       "output_type": "stream",
       "stream": "stdout",
       "text": [
        "\n",
        "Saving plot_data...\n",
        "Start testing...\n",
        "Finding mean for k=3..."
       ]
      },
      {
       "output_type": "stream",
       "stream": "stdout",
       "text": [
        "\n",
        "[ 0.99  0.    0.    0.    0.    0.    0.    0.    0.    0.  ]"
       ]
      },
      {
       "output_type": "stream",
       "stream": "stdout",
       "text": [
        "\n",
        "[ 0.  1.  0.  0.  0.  0.  0.  0.  0.  0.]"
       ]
      },
      {
       "output_type": "stream",
       "stream": "stdout",
       "text": [
        "\n",
        "[ 0.01  0.01  0.94  0.01  0.    0.    0.    0.02  0.01  0.  ]"
       ]
      },
      {
       "output_type": "stream",
       "stream": "stdout",
       "text": [
        "\n",
        "[ 0.    0.01  0.    0.95  0.    0.02  0.    0.    0.01  0.01]"
       ]
      },
      {
       "output_type": "stream",
       "stream": "stdout",
       "text": [
        "\n",
        "[ 0.    0.01  0.    0.    0.94  0.    0.    0.01  0.    0.04]"
       ]
      },
      {
       "output_type": "stream",
       "stream": "stdout",
       "text": [
        "\n",
        "[ 0.01  0.    0.    0.02  0.    0.93  0.01  0.    0.01  0.01]"
       ]
      },
      {
       "output_type": "stream",
       "stream": "stdout",
       "text": [
        "\n",
        "[ 0.01  0.    0.    0.    0.    0.01  0.98  0.    0.    0.  ]"
       ]
      },
      {
       "output_type": "stream",
       "stream": "stdout",
       "text": [
        "\n",
        "[ 0.    0.01  0.    0.    0.01  0.    0.    0.96  0.    0.02]"
       ]
      },
      {
       "output_type": "stream",
       "stream": "stdout",
       "text": [
        "\n",
        "[ 0.    0.02  0.01  0.02  0.01  0.03  0.01  0.01  0.89  0.02]"
       ]
      },
      {
       "output_type": "stream",
       "stream": "stdout",
       "text": [
        "\n",
        "[ 0.    0.    0.    0.01  0.01  0.    0.    0.02  0.    0.95]"
       ]
      },
      {
       "output_type": "stream",
       "stream": "stdout",
       "text": [
        "\n",
        "Saving plot_data...\n",
        "Start testing...\n",
        "Finding mean for k=5..."
       ]
      },
      {
       "output_type": "stream",
       "stream": "stdout",
       "text": [
        "\n",
        "[ 0.99  0.    0.    0.    0.    0.    0.    0.    0.    0.  ]"
       ]
      },
      {
       "output_type": "stream",
       "stream": "stdout",
       "text": [
        "\n",
        "[ 0.    0.99  0.    0.    0.    0.    0.    0.    0.    0.  ]"
       ]
      },
      {
       "output_type": "stream",
       "stream": "stdout",
       "text": [
        "\n",
        "[ 0.01  0.02  0.9   0.01  0.01  0.    0.    0.02  0.01  0.01]"
       ]
      },
      {
       "output_type": "stream",
       "stream": "stdout",
       "text": [
        "\n",
        "[ 0.    0.01  0.01  0.92  0.    0.03  0.    0.01  0.01  0.01]"
       ]
      },
      {
       "output_type": "stream",
       "stream": "stdout",
       "text": [
        "\n",
        "[ 0.    0.01  0.    0.    0.9   0.    0.    0.01  0.    0.06]"
       ]
      },
      {
       "output_type": "stream",
       "stream": "stdout",
       "text": [
        "\n",
        "[ 0.01  0.    0.    0.03  0.01  0.9   0.01  0.    0.01  0.02]"
       ]
      },
      {
       "output_type": "stream",
       "stream": "stdout",
       "text": [
        "\n",
        "[ 0.01  0.    0.    0.    0.    0.01  0.97  0.    0.    0.  ]"
       ]
      },
      {
       "output_type": "stream",
       "stream": "stdout",
       "text": [
        "\n",
        "[ 0.    0.02  0.    0.    0.01  0.    0.    0.93  0.    0.03]"
       ]
      },
      {
       "output_type": "stream",
       "stream": "stdout",
       "text": [
        "\n",
        "[ 0.01  0.02  0.01  0.03  0.01  0.04  0.01  0.01  0.84  0.03]"
       ]
      },
      {
       "output_type": "stream",
       "stream": "stdout",
       "text": [
        "\n",
        "[ 0.    0.    0.    0.01  0.02  0.    0.    0.03  0.    0.93]"
       ]
      },
      {
       "output_type": "stream",
       "stream": "stdout",
       "text": [
        "\n",
        "Saving plot_data...\n",
        "Start testing...\n",
        "Finding mean for k=7..."
       ]
      },
      {
       "output_type": "stream",
       "stream": "stdout",
       "text": [
        "\n",
        "[ 0.98  0.    0.    0.    0.    0.    0.01  0.    0.    0.  ]"
       ]
      },
      {
       "output_type": "stream",
       "stream": "stdout",
       "text": [
        "\n",
        "[ 0.    0.99  0.    0.    0.    0.    0.    0.    0.    0.  ]"
       ]
      },
      {
       "output_type": "stream",
       "stream": "stdout",
       "text": [
        "\n",
        "[ 0.02  0.02  0.88  0.01  0.01  0.    0.01  0.03  0.01  0.01]"
       ]
      },
      {
       "output_type": "stream",
       "stream": "stdout",
       "text": [
        "\n",
        "[ 0.    0.01  0.01  0.9   0.    0.03  0.    0.01  0.02  0.01]"
       ]
      },
      {
       "output_type": "stream",
       "stream": "stdout",
       "text": [
        "\n",
        "[ 0.    0.02  0.    0.    0.88  0.    0.01  0.01  0.    0.08]"
       ]
      },
      {
       "output_type": "stream",
       "stream": "stdout",
       "text": [
        "\n",
        "[ 0.01  0.01  0.    0.04  0.01  0.88  0.02  0.    0.02  0.02]"
       ]
      },
      {
       "output_type": "stream",
       "stream": "stdout",
       "text": [
        "\n",
        "[ 0.01  0.01  0.    0.    0.    0.01  0.97  0.    0.    0.  ]"
       ]
      },
      {
       "output_type": "stream",
       "stream": "stdout",
       "text": [
        "\n",
        "[ 0.    0.02  0.    0.    0.01  0.    0.    0.92  0.    0.04]"
       ]
      },
      {
       "output_type": "stream",
       "stream": "stdout",
       "text": [
        "\n",
        "[ 0.01  0.03  0.01  0.04  0.01  0.04  0.01  0.01  0.82  0.03]"
       ]
      },
      {
       "output_type": "stream",
       "stream": "stdout",
       "text": [
        "\n",
        "[ 0.    0.    0.    0.01  0.03  0.    0.    0.04  0.    0.91]"
       ]
      },
      {
       "output_type": "stream",
       "stream": "stdout",
       "text": [
        "\n",
        "Saving plot_data...\n",
        "Start testing...\n",
        "Finding mean for k=9..."
       ]
      },
      {
       "output_type": "stream",
       "stream": "stdout",
       "text": [
        "\n",
        "[ 0.98  0.    0.    0.    0.    0.01  0.01  0.    0.    0.  ]"
       ]
      },
      {
       "output_type": "stream",
       "stream": "stdout",
       "text": [
        "\n",
        "[ 0.    0.99  0.    0.    0.    0.    0.    0.    0.    0.  ]"
       ]
      },
      {
       "output_type": "stream",
       "stream": "stdout",
       "text": [
        "\n",
        "[ 0.02  0.02  0.87  0.02  0.01  0.    0.01  0.03  0.01  0.01]"
       ]
      },
      {
       "output_type": "stream",
       "stream": "stdout",
       "text": [
        "\n",
        "[ 0.    0.01  0.01  0.89  0.    0.04  0.    0.01  0.02  0.01]"
       ]
      },
      {
       "output_type": "stream",
       "stream": "stdout",
       "text": [
        "\n",
        "[ 0.    0.02  0.    0.    0.86  0.    0.01  0.01  0.    0.1 ]"
       ]
      },
      {
       "output_type": "stream",
       "stream": "stdout",
       "text": [
        "\n",
        "[ 0.01  0.01  0.    0.05  0.01  0.86  0.02  0.    0.02  0.02]"
       ]
      },
      {
       "output_type": "stream",
       "stream": "stdout",
       "text": [
        "\n",
        "[ 0.02  0.01  0.    0.    0.    0.01  0.96  0.    0.    0.  ]"
       ]
      },
      {
       "output_type": "stream",
       "stream": "stdout",
       "text": [
        "\n",
        "[ 0.    0.02  0.    0.    0.01  0.    0.    0.91  0.    0.04]"
       ]
      },
      {
       "output_type": "stream",
       "stream": "stdout",
       "text": [
        "\n",
        "[ 0.01  0.03  0.01  0.04  0.01  0.04  0.01  0.01  0.79  0.03]"
       ]
      },
      {
       "output_type": "stream",
       "stream": "stdout",
       "text": [
        "\n",
        "[ 0.    0.01  0.    0.01  0.03  0.    0.    0.04  0.    0.9 ]"
       ]
      },
      {
       "output_type": "stream",
       "stream": "stdout",
       "text": [
        "\n",
        "Saving plot_data...\n",
        "Start testing...\n",
        "Finding mean for k=11..."
       ]
      },
      {
       "output_type": "stream",
       "stream": "stdout",
       "text": [
        "\n",
        "[ 0.98  0.    0.    0.    0.    0.01  0.01  0.    0.    0.  ]"
       ]
      },
      {
       "output_type": "stream",
       "stream": "stdout",
       "text": [
        "\n",
        "[ 0.    0.99  0.    0.    0.    0.    0.    0.    0.    0.  ]"
       ]
      },
      {
       "output_type": "stream",
       "stream": "stdout",
       "text": [
        "\n",
        "[ 0.02  0.03  0.85  0.02  0.01  0.    0.01  0.03  0.01  0.01]"
       ]
      },
      {
       "output_type": "stream",
       "stream": "stdout",
       "text": [
        "\n",
        "[ 0.    0.02  0.01  0.88  0.    0.04  0.    0.01  0.02  0.02]"
       ]
      },
      {
       "output_type": "stream",
       "stream": "stdout",
       "text": [
        "\n",
        "[ 0.    0.02  0.    0.    0.84  0.    0.01  0.01  0.    0.11]"
       ]
      },
      {
       "output_type": "stream",
       "stream": "stdout",
       "text": [
        "\n",
        "[ 0.01  0.01  0.    0.06  0.01  0.84  0.02  0.    0.02  0.02]"
       ]
      },
      {
       "output_type": "stream",
       "stream": "stdout",
       "text": [
        "\n",
        "[ 0.02  0.01  0.    0.    0.    0.01  0.96  0.    0.    0.  ]"
       ]
      },
      {
       "output_type": "stream",
       "stream": "stdout",
       "text": [
        "\n",
        "[ 0.    0.02  0.    0.    0.01  0.    0.    0.9   0.    0.05]"
       ]
      },
      {
       "output_type": "stream",
       "stream": "stdout",
       "text": [
        "\n",
        "[ 0.01  0.04  0.01  0.05  0.01  0.05  0.01  0.01  0.77  0.04]"
       ]
      },
      {
       "output_type": "stream",
       "stream": "stdout",
       "text": [
        "\n",
        "[ 0.    0.01  0.    0.01  0.04  0.    0.    0.05  0.    0.88]"
       ]
      },
      {
       "output_type": "stream",
       "stream": "stdout",
       "text": [
        "\n",
        "Saving plot_data...\n",
        "Start testing...\n",
        "Finding mean for k=20..."
       ]
      },
      {
       "output_type": "stream",
       "stream": "stdout",
       "text": [
        "\n",
        "[ 0.97  0.    0.    0.    0.    0.01  0.01  0.    0.    0.  ]"
       ]
      },
      {
       "output_type": "stream",
       "stream": "stdout",
       "text": [
        "\n",
        "[ 0.    0.99  0.    0.    0.    0.    0.    0.    0.    0.  ]"
       ]
      },
      {
       "output_type": "stream",
       "stream": "stdout",
       "text": [
        "\n",
        "[ 0.03  0.05  0.8   0.02  0.02  0.    0.01  0.04  0.02  0.02]"
       ]
      },
      {
       "output_type": "stream",
       "stream": "stdout",
       "text": [
        "\n",
        "[ 0.01  0.02  0.01  0.84  0.    0.05  0.01  0.01  0.02  0.02]"
       ]
      },
      {
       "output_type": "stream",
       "stream": "stdout",
       "text": [
        "\n",
        "[ 0.    0.03  0.01  0.    0.78  0.    0.01  0.02  0.    0.15]"
       ]
      },
      {
       "output_type": "stream",
       "stream": "stdout",
       "text": [
        "\n",
        "[ 0.01  0.02  0.    0.07  0.01  0.8   0.02  0.01  0.02  0.03]"
       ]
      },
      {
       "output_type": "stream",
       "stream": "stdout",
       "text": [
        "\n",
        "[ 0.02  0.02  0.    0.    0.01  0.01  0.94  0.    0.    0.  ]"
       ]
      },
      {
       "output_type": "stream",
       "stream": "stdout",
       "text": [
        "\n",
        "[ 0.    0.03  0.    0.    0.02  0.    0.    0.87  0.    0.06]"
       ]
      },
      {
       "output_type": "stream",
       "stream": "stdout",
       "text": [
        "\n",
        "[ 0.01  0.05  0.01  0.06  0.02  0.05  0.01  0.01  0.72  0.05]"
       ]
      },
      {
       "output_type": "stream",
       "stream": "stdout",
       "text": [
        "\n",
        "[ 0.01  0.01  0.    0.01  0.05  0.    0.    0.07  0.    0.85]"
       ]
      },
      {
       "output_type": "stream",
       "stream": "stdout",
       "text": [
        "\n",
        "Saving plot_data...\n",
        "Start testing...\n",
        "Finding mean for k=40..."
       ]
      },
      {
       "output_type": "stream",
       "stream": "stdout",
       "text": [
        "\n",
        "[ 0.94  0.01  0.    0.    0.    0.01  0.02  0.    0.    0.  ]"
       ]
      },
      {
       "output_type": "stream",
       "stream": "stdout",
       "text": [
        "\n",
        "[ 0.    0.99  0.    0.    0.    0.    0.    0.    0.    0.  ]"
       ]
      },
      {
       "output_type": "stream",
       "stream": "stdout",
       "text": [
        "\n",
        "[ 0.03  0.08  0.72  0.04  0.02  0.01  0.01  0.05  0.02  0.02]"
       ]
      },
      {
       "output_type": "stream",
       "stream": "stdout",
       "text": [
        "\n",
        "[ 0.01  0.04  0.02  0.78  0.    0.07  0.01  0.02  0.03  0.03]"
       ]
      },
      {
       "output_type": "stream",
       "stream": "stdout",
       "text": [
        "\n",
        "[ 0.    0.04  0.01  0.    0.71  0.    0.01  0.03  0.    0.2 ]"
       ]
      },
      {
       "output_type": "stream",
       "stream": "stdout",
       "text": [
        "\n",
        "[ 0.02  0.04  0.    0.09  0.02  0.72  0.03  0.01  0.04  0.04]"
       ]
      },
      {
       "output_type": "stream",
       "stream": "stdout",
       "text": [
        "\n",
        "[ 0.03  0.03  0.    0.    0.01  0.01  0.91  0.    0.01  0.  ]"
       ]
      },
      {
       "output_type": "stream",
       "stream": "stdout",
       "text": [
        "\n",
        "[ 0.    0.04  0.    0.    0.02  0.    0.    0.83  0.    0.09]"
       ]
      },
      {
       "output_type": "stream",
       "stream": "stdout",
       "text": [
        "\n",
        "[ 0.02  0.07  0.02  0.07  0.02  0.06  0.02  0.02  0.64  0.06]"
       ]
      },
      {
       "output_type": "stream",
       "stream": "stdout",
       "text": [
        "\n",
        "[ 0.01  0.01  0.    0.01  0.07  0.01  0.    0.09  0.    0.8 ]"
       ]
      },
      {
       "output_type": "stream",
       "stream": "stdout",
       "text": [
        "\n",
        "Saving plot_data...\n",
        "Start testing...\n",
        "[array([ 0.062,  0.062]), array([ 0.061,  0.058]), array([ 0.061,  0.058]), array([ 0.064,  0.056]), array([ 0.063,  0.058]), array([ 0.067,  0.059]), array([ 0.079,  0.071]), array([ 0.096,  0.076])]"
       ]
      },
      {
       "output_type": "stream",
       "stream": "stdout",
       "text": [
        "\n",
        "== Fold 2 ==\n",
        "Fitting model..."
       ]
      },
      {
       "output_type": "stream",
       "stream": "stdout",
       "text": [
        "\n",
        "Finding mean for k=1..."
       ]
      },
      {
       "output_type": "stream",
       "stream": "stdout",
       "text": [
        "\n",
        "[ 1.  0.  0.  0.  0.  0.  0.  0.  0.  0.]"
       ]
      },
      {
       "output_type": "stream",
       "stream": "stdout",
       "text": [
        "\n",
        "[ 0.  1.  0.  0.  0.  0.  0.  0.  0.  0.]"
       ]
      },
      {
       "output_type": "stream",
       "stream": "stdout",
       "text": [
        "\n",
        "[ 0.  0.  1.  0.  0.  0.  0.  0.  0.  0.]"
       ]
      },
      {
       "output_type": "stream",
       "stream": "stdout",
       "text": [
        "\n",
        "[ 0.  0.  0.  1.  0.  0.  0.  0.  0.  0.]"
       ]
      },
      {
       "output_type": "stream",
       "stream": "stdout",
       "text": [
        "\n",
        "[ 0.  0.  0.  0.  1.  0.  0.  0.  0.  0.]"
       ]
      },
      {
       "output_type": "stream",
       "stream": "stdout",
       "text": [
        "\n",
        "[ 0.  0.  0.  0.  0.  1.  0.  0.  0.  0.]"
       ]
      },
      {
       "output_type": "stream",
       "stream": "stdout",
       "text": [
        "\n",
        "[ 0.  0.  0.  0.  0.  0.  1.  0.  0.  0.]"
       ]
      },
      {
       "output_type": "stream",
       "stream": "stdout",
       "text": [
        "\n",
        "[ 0.  0.  0.  0.  0.  0.  0.  1.  0.  0.]"
       ]
      },
      {
       "output_type": "stream",
       "stream": "stdout",
       "text": [
        "\n",
        "[ 0.  0.  0.  0.  0.  0.  0.  0.  1.  0.]"
       ]
      },
      {
       "output_type": "stream",
       "stream": "stdout",
       "text": [
        "\n",
        "[ 0.  0.  0.  0.  0.  0.  0.  0.  0.  1.]"
       ]
      },
      {
       "output_type": "stream",
       "stream": "stdout",
       "text": [
        "\n",
        "Saving plot_data...\n",
        "Start testing...\n",
        "Finding mean for k=3..."
       ]
      },
      {
       "output_type": "stream",
       "stream": "stdout",
       "text": [
        "\n",
        "[ 0.99  0.    0.    0.    0.    0.    0.    0.    0.    0.  ]"
       ]
      },
      {
       "output_type": "stream",
       "stream": "stdout",
       "text": [
        "\n",
        "[ 0.  1.  0.  0.  0.  0.  0.  0.  0.  0.]"
       ]
      },
      {
       "output_type": "stream",
       "stream": "stdout",
       "text": [
        "\n",
        "[ 0.01  0.01  0.94  0.01  0.    0.    0.    0.02  0.01  0.  ]"
       ]
      },
      {
       "output_type": "stream",
       "stream": "stdout",
       "text": [
        "\n",
        "[ 0.    0.01  0.    0.94  0.    0.02  0.    0.    0.01  0.01]"
       ]
      },
      {
       "output_type": "stream",
       "stream": "stdout",
       "text": [
        "\n",
        "[ 0.    0.01  0.    0.    0.94  0.    0.    0.01  0.    0.04]"
       ]
      },
      {
       "output_type": "stream",
       "stream": "stdout",
       "text": [
        "\n",
        "[ 0.01  0.    0.    0.03  0.    0.93  0.01  0.    0.01  0.01]"
       ]
      },
      {
       "output_type": "stream",
       "stream": "stdout",
       "text": [
        "\n",
        "[ 0.01  0.    0.    0.    0.    0.01  0.98  0.    0.    0.  ]"
       ]
      },
      {
       "output_type": "stream",
       "stream": "stdout",
       "text": [
        "\n",
        "[ 0.    0.01  0.    0.    0.01  0.    0.    0.96  0.    0.02]"
       ]
      },
      {
       "output_type": "stream",
       "stream": "stdout",
       "text": [
        "\n",
        "[ 0.    0.02  0.01  0.03  0.01  0.02  0.01  0.01  0.88  0.02]"
       ]
      },
      {
       "output_type": "stream",
       "stream": "stdout",
       "text": [
        "\n",
        "[ 0.    0.    0.    0.01  0.01  0.    0.    0.02  0.    0.95]"
       ]
      },
      {
       "output_type": "stream",
       "stream": "stdout",
       "text": [
        "\n",
        "Saving plot_data...\n",
        "Start testing...\n",
        "Finding mean for k=5..."
       ]
      },
      {
       "output_type": "stream",
       "stream": "stdout",
       "text": [
        "\n",
        "[ 0.99  0.    0.    0.    0.    0.    0.    0.    0.    0.  ]"
       ]
      },
      {
       "output_type": "stream",
       "stream": "stdout",
       "text": [
        "\n",
        "[ 0.    0.99  0.    0.    0.    0.    0.    0.    0.    0.  ]"
       ]
      },
      {
       "output_type": "stream",
       "stream": "stdout",
       "text": [
        "\n",
        "[ 0.01  0.02  0.91  0.01  0.01  0.    0.01  0.02  0.01  0.01]"
       ]
      },
      {
       "output_type": "stream",
       "stream": "stdout",
       "text": [
        "\n",
        "[ 0.    0.01  0.01  0.92  0.    0.03  0.    0.01  0.01  0.01]"
       ]
      },
      {
       "output_type": "stream",
       "stream": "stdout",
       "text": [
        "\n",
        "[ 0.    0.01  0.    0.    0.91  0.    0.    0.01  0.    0.06]"
       ]
      },
      {
       "output_type": "stream",
       "stream": "stdout",
       "text": [
        "\n",
        "[ 0.01  0.    0.    0.04  0.01  0.9   0.01  0.    0.01  0.02]"
       ]
      },
      {
       "output_type": "stream",
       "stream": "stdout",
       "text": [
        "\n",
        "[ 0.01  0.    0.    0.    0.    0.01  0.97  0.    0.    0.  ]"
       ]
      },
      {
       "output_type": "stream",
       "stream": "stdout",
       "text": [
        "\n",
        "[ 0.    0.02  0.    0.    0.01  0.    0.    0.93  0.    0.03]"
       ]
      },
      {
       "output_type": "stream",
       "stream": "stdout",
       "text": [
        "\n",
        "[ 0.01  0.03  0.01  0.03  0.01  0.03  0.01  0.01  0.84  0.03]"
       ]
      },
      {
       "output_type": "stream",
       "stream": "stdout",
       "text": [
        "\n",
        "[ 0.    0.    0.    0.01  0.02  0.    0.    0.03  0.    0.92]"
       ]
      },
      {
       "output_type": "stream",
       "stream": "stdout",
       "text": [
        "\n",
        "Saving plot_data...\n",
        "Start testing...\n",
        "Finding mean for k=7..."
       ]
      },
      {
       "output_type": "stream",
       "stream": "stdout",
       "text": [
        "\n",
        "[ 0.98  0.    0.    0.    0.    0.    0.01  0.    0.    0.  ]"
       ]
      },
      {
       "output_type": "stream",
       "stream": "stdout",
       "text": [
        "\n",
        "[ 0.    0.99  0.    0.    0.    0.    0.    0.    0.    0.  ]"
       ]
      },
      {
       "output_type": "stream",
       "stream": "stdout",
       "text": [
        "\n",
        "[ 0.02  0.02  0.89  0.01  0.01  0.    0.01  0.02  0.01  0.01]"
       ]
      },
      {
       "output_type": "stream",
       "stream": "stdout",
       "text": [
        "\n",
        "[ 0.    0.01  0.01  0.9   0.    0.03  0.    0.01  0.02  0.01]"
       ]
      },
      {
       "output_type": "stream",
       "stream": "stdout",
       "text": [
        "\n",
        "[ 0.    0.02  0.    0.    0.88  0.    0.    0.01  0.    0.08]"
       ]
      },
      {
       "output_type": "stream",
       "stream": "stdout",
       "text": [
        "\n",
        "[ 0.01  0.01  0.    0.04  0.01  0.88  0.02  0.    0.01  0.02]"
       ]
      },
      {
       "output_type": "stream",
       "stream": "stdout",
       "text": [
        "\n",
        "[ 0.01  0.01  0.    0.    0.    0.01  0.97  0.    0.    0.  ]"
       ]
      },
      {
       "output_type": "stream",
       "stream": "stdout",
       "text": [
        "\n",
        "[ 0.    0.02  0.    0.    0.01  0.    0.    0.92  0.    0.04]"
       ]
      },
      {
       "output_type": "stream",
       "stream": "stdout",
       "text": [
        "\n",
        "[ 0.01  0.03  0.01  0.04  0.01  0.04  0.01  0.01  0.81  0.03]"
       ]
      },
      {
       "output_type": "stream",
       "stream": "stdout",
       "text": [
        "\n",
        "[ 0.    0.01  0.    0.01  0.03  0.    0.    0.04  0.    0.91]"
       ]
      },
      {
       "output_type": "stream",
       "stream": "stdout",
       "text": [
        "\n",
        "Saving plot_data...\n",
        "Start testing...\n",
        "Finding mean for k=9..."
       ]
      },
      {
       "output_type": "stream",
       "stream": "stdout",
       "text": [
        "\n",
        "[ 0.98  0.    0.    0.    0.    0.    0.01  0.    0.    0.  ]"
       ]
      },
      {
       "output_type": "stream",
       "stream": "stdout",
       "text": [
        "\n",
        "[ 0.    0.99  0.    0.    0.    0.    0.    0.    0.    0.  ]"
       ]
      },
      {
       "output_type": "stream",
       "stream": "stdout",
       "text": [
        "\n",
        "[ 0.02  0.03  0.87  0.01  0.01  0.    0.01  0.03  0.01  0.01]"
       ]
      },
      {
       "output_type": "stream",
       "stream": "stdout",
       "text": [
        "\n",
        "[ 0.    0.01  0.01  0.89  0.    0.04  0.    0.01  0.02  0.02]"
       ]
      },
      {
       "output_type": "stream",
       "stream": "stdout",
       "text": [
        "\n",
        "[ 0.    0.02  0.    0.    0.85  0.    0.01  0.02  0.    0.1 ]"
       ]
      },
      {
       "output_type": "stream",
       "stream": "stdout",
       "text": [
        "\n",
        "[ 0.01  0.01  0.    0.05  0.01  0.86  0.02  0.    0.01  0.02]"
       ]
      },
      {
       "output_type": "stream",
       "stream": "stdout",
       "text": [
        "\n",
        "[ 0.02  0.01  0.    0.    0.    0.01  0.96  0.    0.    0.  ]"
       ]
      },
      {
       "output_type": "stream",
       "stream": "stdout",
       "text": [
        "\n",
        "[ 0.    0.02  0.    0.    0.02  0.    0.    0.91  0.    0.04]"
       ]
      },
      {
       "output_type": "stream",
       "stream": "stdout",
       "text": [
        "\n",
        "[ 0.01  0.04  0.01  0.04  0.01  0.04  0.01  0.01  0.79  0.03]"
       ]
      },
      {
       "output_type": "stream",
       "stream": "stdout",
       "text": [
        "\n",
        "[ 0.    0.01  0.    0.01  0.03  0.    0.    0.05  0.    0.89]"
       ]
      },
      {
       "output_type": "stream",
       "stream": "stdout",
       "text": [
        "\n",
        "Saving plot_data...\n",
        "Start testing...\n",
        "Finding mean for k=11..."
       ]
      },
      {
       "output_type": "stream",
       "stream": "stdout",
       "text": [
        "\n",
        "[ 0.98  0.    0.    0.    0.    0.    0.01  0.    0.    0.  ]"
       ]
      },
      {
       "output_type": "stream",
       "stream": "stdout",
       "text": [
        "\n",
        "[ 0.    0.99  0.    0.    0.    0.    0.    0.    0.    0.  ]"
       ]
      },
      {
       "output_type": "stream",
       "stream": "stdout",
       "text": [
        "\n",
        "[ 0.02  0.03  0.86  0.01  0.01  0.    0.01  0.03  0.01  0.01]"
       ]
      },
      {
       "output_type": "stream",
       "stream": "stdout",
       "text": [
        "\n",
        "[ 0.    0.02  0.01  0.87  0.    0.04  0.    0.01  0.02  0.02]"
       ]
      },
      {
       "output_type": "stream",
       "stream": "stdout",
       "text": [
        "\n",
        "[ 0.    0.02  0.    0.    0.83  0.    0.01  0.02  0.    0.11]"
       ]
      },
      {
       "output_type": "stream",
       "stream": "stdout",
       "text": [
        "\n",
        "[ 0.01  0.01  0.    0.06  0.01  0.85  0.02  0.    0.02  0.02]"
       ]
      },
      {
       "output_type": "stream",
       "stream": "stdout",
       "text": [
        "\n",
        "[ 0.02  0.01  0.    0.    0.    0.01  0.96  0.    0.    0.  ]"
       ]
      },
      {
       "output_type": "stream",
       "stream": "stdout",
       "text": [
        "\n",
        "[ 0.    0.02  0.    0.    0.02  0.    0.    0.9   0.    0.05]"
       ]
      },
      {
       "output_type": "stream",
       "stream": "stdout",
       "text": [
        "\n",
        "[ 0.01  0.04  0.01  0.05  0.01  0.04  0.01  0.01  0.77  0.04]"
       ]
      },
      {
       "output_type": "stream",
       "stream": "stdout",
       "text": [
        "\n",
        "[ 0.    0.01  0.    0.01  0.03  0.    0.    0.05  0.    0.88]"
       ]
      },
      {
       "output_type": "stream",
       "stream": "stdout",
       "text": [
        "\n",
        "Saving plot_data...\n",
        "Start testing...\n",
        "Finding mean for k=20..."
       ]
      },
      {
       "output_type": "stream",
       "stream": "stdout",
       "text": [
        "\n",
        "[ 0.97  0.    0.    0.    0.    0.01  0.01  0.    0.    0.  ]"
       ]
      },
      {
       "output_type": "stream",
       "stream": "stdout",
       "text": [
        "\n",
        "[ 0.    0.99  0.    0.    0.    0.    0.    0.    0.    0.  ]"
       ]
      },
      {
       "output_type": "stream",
       "stream": "stdout",
       "text": [
        "\n",
        "[ 0.03  0.05  0.8   0.02  0.02  0.    0.01  0.04  0.02  0.01]"
       ]
      },
      {
       "output_type": "stream",
       "stream": "stdout",
       "text": [
        "\n",
        "[ 0.01  0.02  0.01  0.84  0.    0.05  0.    0.01  0.02  0.02]"
       ]
      },
      {
       "output_type": "stream",
       "stream": "stdout",
       "text": [
        "\n",
        "[ 0.    0.03  0.    0.    0.78  0.    0.01  0.02  0.    0.15]"
       ]
      },
      {
       "output_type": "stream",
       "stream": "stdout",
       "text": [
        "\n",
        "[ 0.02  0.02  0.    0.08  0.01  0.79  0.02  0.01  0.02  0.03]"
       ]
      },
      {
       "output_type": "stream",
       "stream": "stdout",
       "text": [
        "\n",
        "[ 0.02  0.01  0.    0.    0.01  0.01  0.94  0.    0.    0.  ]"
       ]
      },
      {
       "output_type": "stream",
       "stream": "stdout",
       "text": [
        "\n",
        "[ 0.    0.03  0.    0.    0.02  0.    0.    0.87  0.    0.06]"
       ]
      },
      {
       "output_type": "stream",
       "stream": "stdout",
       "text": [
        "\n",
        "[ 0.01  0.06  0.01  0.06  0.02  0.05  0.02  0.01  0.72  0.05]"
       ]
      },
      {
       "output_type": "stream",
       "stream": "stdout",
       "text": [
        "\n",
        "[ 0.01  0.01  0.    0.01  0.05  0.    0.    0.07  0.    0.85]"
       ]
      },
      {
       "output_type": "stream",
       "stream": "stdout",
       "text": [
        "\n",
        "Saving plot_data...\n",
        "Start testing...\n",
        "Finding mean for k=40..."
       ]
      },
      {
       "output_type": "stream",
       "stream": "stdout",
       "text": [
        "\n",
        "[ 0.94  0.01  0.    0.    0.    0.01  0.02  0.    0.01  0.  ]"
       ]
      },
      {
       "output_type": "stream",
       "stream": "stdout",
       "text": [
        "\n",
        "[ 0.    0.99  0.    0.    0.    0.    0.    0.    0.    0.  ]"
       ]
      },
      {
       "output_type": "stream",
       "stream": "stdout",
       "text": [
        "\n",
        "[ 0.03  0.08  0.72  0.03  0.02  0.01  0.01  0.05  0.02  0.02]"
       ]
      },
      {
       "output_type": "stream",
       "stream": "stdout",
       "text": [
        "\n",
        "[ 0.01  0.04  0.02  0.78  0.    0.07  0.01  0.02  0.03  0.03]"
       ]
      },
      {
       "output_type": "stream",
       "stream": "stdout",
       "text": [
        "\n",
        "[ 0.    0.04  0.01  0.    0.7   0.    0.01  0.03  0.    0.2 ]"
       ]
      },
      {
       "output_type": "stream",
       "stream": "stdout",
       "text": [
        "\n",
        "[ 0.02  0.04  0.    0.09  0.01  0.71  0.03  0.01  0.03  0.04]"
       ]
      },
      {
       "output_type": "stream",
       "stream": "stdout",
       "text": [
        "\n",
        "[ 0.03  0.02  0.    0.    0.01  0.01  0.91  0.    0.01  0.  ]"
       ]
      },
      {
       "output_type": "stream",
       "stream": "stdout",
       "text": [
        "\n",
        "[ 0.    0.04  0.    0.    0.02  0.    0.    0.83  0.    0.09]"
       ]
      },
      {
       "output_type": "stream",
       "stream": "stdout",
       "text": [
        "\n",
        "[ 0.02  0.08  0.02  0.07  0.02  0.06  0.02  0.02  0.64  0.06]"
       ]
      },
      {
       "output_type": "stream",
       "stream": "stdout",
       "text": [
        "\n",
        "[ 0.01  0.01  0.    0.01  0.07  0.01  0.    0.09  0.    0.8 ]"
       ]
      },
      {
       "output_type": "stream",
       "stream": "stdout",
       "text": [
        "\n",
        "Saving plot_data...\n",
        "Start testing...\n",
        "[array([ 0.066,  0.066]), array([ 0.063,  0.058]), array([ 0.062,  0.058]), array([ 0.057,  0.056]), array([ 0.058,  0.057]), array([ 0.066,  0.059]), array([ 0.075,  0.061]), array([ 0.086,  0.074])]"
       ]
      },
      {
       "output_type": "stream",
       "stream": "stdout",
       "text": [
        "\n",
        "== Fold 3 ==\n",
        "Fitting model...\n",
        "Finding mean for k=1..."
       ]
      },
      {
       "output_type": "stream",
       "stream": "stdout",
       "text": [
        "\n",
        "[ 1.  0.  0.  0.  0.  0.  0.  0.  0.  0.]\n",
        "[ 0.  1.  0.  0.  0.  0.  0.  0.  0.  0.]"
       ]
      },
      {
       "output_type": "stream",
       "stream": "stdout",
       "text": [
        "\n",
        "[ 0.  0.  1.  0.  0.  0.  0.  0.  0.  0.]"
       ]
      },
      {
       "output_type": "stream",
       "stream": "stdout",
       "text": [
        "\n",
        "[ 0.  0.  0.  1.  0.  0.  0.  0.  0.  0.]"
       ]
      },
      {
       "output_type": "stream",
       "stream": "stdout",
       "text": [
        "\n",
        "[ 0.  0.  0.  0.  1.  0.  0.  0.  0.  0.]\n",
        "[ 0.  0.  0.  0.  0.  1.  0.  0.  0.  0.]"
       ]
      },
      {
       "output_type": "stream",
       "stream": "stdout",
       "text": [
        "\n",
        "[ 0.  0.  0.  0.  0.  0.  1.  0.  0.  0.]\n",
        "[ 0.  0.  0.  0.  0.  0.  0.  1.  0.  0.]"
       ]
      },
      {
       "output_type": "stream",
       "stream": "stdout",
       "text": [
        "\n",
        "[ 0.  0.  0.  0.  0.  0.  0.  0.  1.  0.]\n",
        "[ 0.  0.  0.  0.  0.  0.  0.  0.  0.  1.]"
       ]
      },
      {
       "output_type": "stream",
       "stream": "stdout",
       "text": [
        "\n",
        "Saving plot_data...\n",
        "Start testing...\n",
        "Finding mean for k=3..."
       ]
      },
      {
       "output_type": "stream",
       "stream": "stdout",
       "text": [
        "\n",
        "[ 0.99  0.    0.    0.    0.    0.    0.    0.    0.    0.  ]"
       ]
      },
      {
       "output_type": "stream",
       "stream": "stdout",
       "text": [
        "\n",
        "[ 0.    0.99  0.    0.    0.    0.    0.    0.    0.    0.  ]"
       ]
      },
      {
       "output_type": "stream",
       "stream": "stdout",
       "text": [
        "\n",
        "[ 0.01  0.01  0.95  0.    0.    0.    0.    0.02  0.    0.  ]"
       ]
      },
      {
       "output_type": "stream",
       "stream": "stdout",
       "text": [
        "\n",
        "[ 0.    0.01  0.01  0.94  0.    0.02  0.    0.01  0.01  0.01]"
       ]
      },
      {
       "output_type": "stream",
       "stream": "stdout",
       "text": [
        "\n",
        "[ 0.    0.01  0.    0.    0.94  0.    0.    0.01  0.    0.04]"
       ]
      },
      {
       "output_type": "stream",
       "stream": "stdout",
       "text": [
        "\n",
        "[ 0.01  0.    0.    0.02  0.    0.93  0.01  0.    0.01  0.01]"
       ]
      },
      {
       "output_type": "stream",
       "stream": "stdout",
       "text": [
        "\n",
        "[ 0.01  0.    0.    0.    0.    0.    0.98  0.    0.    0.  ]"
       ]
      },
      {
       "output_type": "stream",
       "stream": "stdout",
       "text": [
        "\n",
        "[ 0.    0.01  0.    0.    0.01  0.    0.    0.95  0.    0.02]"
       ]
      },
      {
       "output_type": "stream",
       "stream": "stdout",
       "text": [
        "\n",
        "[ 0.    0.02  0.01  0.02  0.    0.03  0.01  0.01  0.89  0.02]"
       ]
      },
      {
       "output_type": "stream",
       "stream": "stdout",
       "text": [
        "\n",
        "[ 0.    0.    0.    0.    0.01  0.    0.    0.02  0.    0.95]"
       ]
      },
      {
       "output_type": "stream",
       "stream": "stdout",
       "text": [
        "\n",
        "Saving plot_data...\n",
        "Start testing...\n",
        "Finding mean for k=5..."
       ]
      },
      {
       "output_type": "stream",
       "stream": "stdout",
       "text": [
        "\n",
        "[ 0.99  0.    0.    0.    0.    0.    0.01  0.    0.    0.  ]"
       ]
      },
      {
       "output_type": "stream",
       "stream": "stdout",
       "text": [
        "\n",
        "[ 0.    0.99  0.    0.    0.    0.    0.    0.    0.    0.  ]"
       ]
      },
      {
       "output_type": "stream",
       "stream": "stdout",
       "text": [
        "\n",
        "[ 0.01  0.02  0.92  0.01  0.01  0.    0.01  0.02  0.01  0.01]"
       ]
      },
      {
       "output_type": "stream",
       "stream": "stdout",
       "text": [
        "\n",
        "[ 0.    0.01  0.01  0.92  0.    0.03  0.    0.01  0.01  0.01]"
       ]
      },
      {
       "output_type": "stream",
       "stream": "stdout",
       "text": [
        "\n",
        "[ 0.    0.01  0.    0.    0.9   0.    0.    0.01  0.    0.07]"
       ]
      },
      {
       "output_type": "stream",
       "stream": "stdout",
       "text": [
        "\n",
        "[ 0.01  0.    0.    0.04  0.    0.9   0.02  0.    0.01  0.02]"
       ]
      },
      {
       "output_type": "stream",
       "stream": "stdout",
       "text": [
        "\n",
        "[ 0.01  0.    0.    0.    0.    0.01  0.97  0.    0.    0.  ]"
       ]
      },
      {
       "output_type": "stream",
       "stream": "stdout",
       "text": [
        "\n",
        "[ 0.    0.02  0.    0.    0.01  0.    0.    0.93  0.    0.03]"
       ]
      },
      {
       "output_type": "stream",
       "stream": "stdout",
       "text": [
        "\n",
        "[ 0.01  0.03  0.01  0.03  0.01  0.04  0.01  0.01  0.84  0.02]"
       ]
      },
      {
       "output_type": "stream",
       "stream": "stdout",
       "text": [
        "\n",
        "[ 0.    0.    0.    0.01  0.02  0.    0.    0.03  0.    0.93]"
       ]
      },
      {
       "output_type": "stream",
       "stream": "stdout",
       "text": [
        "\n",
        "Saving plot_data...\n",
        "Start testing...\n",
        "Finding mean for k=7..."
       ]
      },
      {
       "output_type": "stream",
       "stream": "stdout",
       "text": [
        "\n",
        "[ 0.98  0.    0.    0.    0.    0.    0.01  0.    0.    0.  ]"
       ]
      },
      {
       "output_type": "stream",
       "stream": "stdout",
       "text": [
        "\n",
        "[ 0.    0.99  0.    0.    0.    0.    0.    0.    0.    0.  ]"
       ]
      },
      {
       "output_type": "stream",
       "stream": "stdout",
       "text": [
        "\n",
        "[ 0.02  0.02  0.9   0.01  0.01  0.    0.01  0.02  0.01  0.01]"
       ]
      },
      {
       "output_type": "stream",
       "stream": "stdout",
       "text": [
        "\n",
        "[ 0.    0.01  0.01  0.9   0.    0.03  0.    0.01  0.02  0.01]"
       ]
      },
      {
       "output_type": "stream",
       "stream": "stdout",
       "text": [
        "\n",
        "[ 0.    0.02  0.    0.    0.88  0.    0.    0.01  0.    0.08]"
       ]
      },
      {
       "output_type": "stream",
       "stream": "stdout",
       "text": [
        "\n",
        "[ 0.01  0.01  0.    0.04  0.01  0.88  0.02  0.    0.01  0.02]"
       ]
      },
      {
       "output_type": "stream",
       "stream": "stdout",
       "text": [
        "\n",
        "[ 0.01  0.01  0.    0.    0.    0.01  0.97  0.    0.    0.  ]"
       ]
      },
      {
       "output_type": "stream",
       "stream": "stdout",
       "text": [
        "\n",
        "[ 0.    0.02  0.    0.    0.01  0.    0.    0.92  0.    0.04]"
       ]
      },
      {
       "output_type": "stream",
       "stream": "stdout",
       "text": [
        "\n",
        "[ 0.01  0.03  0.01  0.04  0.01  0.04  0.01  0.01  0.81  0.03]"
       ]
      },
      {
       "output_type": "stream",
       "stream": "stdout",
       "text": [
        "\n",
        "[ 0.    0.    0.    0.01  0.03  0.    0.    0.04  0.    0.91]"
       ]
      },
      {
       "output_type": "stream",
       "stream": "stdout",
       "text": [
        "\n",
        "Saving plot_data...\n",
        "Start testing...\n",
        "Finding mean for k=9..."
       ]
      },
      {
       "output_type": "stream",
       "stream": "stdout",
       "text": [
        "\n",
        "[ 0.98  0.    0.    0.    0.    0.    0.01  0.    0.    0.  ]"
       ]
      },
      {
       "output_type": "stream",
       "stream": "stdout",
       "text": [
        "\n",
        "[ 0.    0.99  0.    0.    0.    0.    0.    0.    0.    0.  ]"
       ]
      },
      {
       "output_type": "stream",
       "stream": "stdout",
       "text": [
        "\n",
        "[ 0.02  0.02  0.88  0.01  0.01  0.    0.01  0.02  0.01  0.01]"
       ]
      },
      {
       "output_type": "stream",
       "stream": "stdout",
       "text": [
        "\n",
        "[ 0.    0.01  0.01  0.89  0.    0.04  0.    0.01  0.02  0.01]"
       ]
      },
      {
       "output_type": "stream",
       "stream": "stdout",
       "text": [
        "\n",
        "[ 0.    0.02  0.    0.    0.86  0.    0.01  0.01  0.    0.1 ]"
       ]
      },
      {
       "output_type": "stream",
       "stream": "stdout",
       "text": [
        "\n",
        "[ 0.01  0.01  0.    0.05  0.01  0.86  0.02  0.    0.02  0.02]"
       ]
      },
      {
       "output_type": "stream",
       "stream": "stdout",
       "text": [
        "\n",
        "[ 0.01  0.01  0.    0.    0.    0.01  0.96  0.    0.    0.  ]"
       ]
      },
      {
       "output_type": "stream",
       "stream": "stdout",
       "text": [
        "\n",
        "[ 0.    0.02  0.    0.    0.01  0.    0.    0.91  0.    0.04]"
       ]
      },
      {
       "output_type": "stream",
       "stream": "stdout",
       "text": [
        "\n",
        "[ 0.01  0.04  0.01  0.04  0.01  0.05  0.01  0.01  0.79  0.03]"
       ]
      },
      {
       "output_type": "stream",
       "stream": "stdout",
       "text": [
        "\n",
        "[ 0.    0.01  0.    0.01  0.03  0.    0.    0.04  0.    0.89]"
       ]
      },
      {
       "output_type": "stream",
       "stream": "stdout",
       "text": [
        "\n",
        "Saving plot_data...\n",
        "Start testing...\n",
        "Finding mean for k=11..."
       ]
      },
      {
       "output_type": "stream",
       "stream": "stdout",
       "text": [
        "\n",
        "[ 0.98  0.    0.    0.    0.    0.    0.01  0.    0.    0.  ]"
       ]
      },
      {
       "output_type": "stream",
       "stream": "stdout",
       "text": [
        "\n",
        "[ 0.    0.99  0.    0.    0.    0.    0.    0.    0.    0.  ]"
       ]
      },
      {
       "output_type": "stream",
       "stream": "stdout",
       "text": [
        "\n",
        "[ 0.02  0.03  0.87  0.01  0.01  0.    0.01  0.03  0.01  0.01]"
       ]
      },
      {
       "output_type": "stream",
       "stream": "stdout",
       "text": [
        "\n",
        "[ 0.    0.02  0.01  0.88  0.    0.04  0.    0.01  0.02  0.01]"
       ]
      },
      {
       "output_type": "stream",
       "stream": "stdout",
       "text": [
        "\n",
        "[ 0.    0.02  0.    0.    0.84  0.    0.01  0.01  0.    0.11]"
       ]
      },
      {
       "output_type": "stream",
       "stream": "stdout",
       "text": [
        "\n",
        "[ 0.01  0.01  0.    0.05  0.01  0.85  0.02  0.    0.02  0.02]"
       ]
      },
      {
       "output_type": "stream",
       "stream": "stdout",
       "text": [
        "\n",
        "[ 0.02  0.01  0.    0.    0.    0.01  0.96  0.    0.    0.  ]"
       ]
      },
      {
       "output_type": "stream",
       "stream": "stdout",
       "text": [
        "\n",
        "[ 0.    0.02  0.    0.    0.02  0.    0.    0.9   0.    0.05]"
       ]
      },
      {
       "output_type": "stream",
       "stream": "stdout",
       "text": [
        "\n",
        "[ 0.01  0.04  0.01  0.05  0.01  0.05  0.01  0.01  0.77  0.03]"
       ]
      },
      {
       "output_type": "stream",
       "stream": "stdout",
       "text": [
        "\n",
        "[ 0.    0.01  0.    0.01  0.04  0.    0.    0.05  0.    0.88]"
       ]
      },
      {
       "output_type": "stream",
       "stream": "stdout",
       "text": [
        "\n",
        "Saving plot_data...\n",
        "Start testing...\n",
        "Finding mean for k=20..."
       ]
      },
      {
       "output_type": "stream",
       "stream": "stdout",
       "text": [
        "\n",
        "[ 0.97  0.    0.    0.    0.    0.01  0.01  0.    0.    0.  ]"
       ]
      },
      {
       "output_type": "stream",
       "stream": "stdout",
       "text": [
        "\n",
        "[ 0.    0.99  0.    0.    0.    0.    0.    0.    0.    0.  ]"
       ]
      },
      {
       "output_type": "stream",
       "stream": "stdout",
       "text": [
        "\n",
        "[ 0.03  0.05  0.81  0.02  0.02  0.    0.01  0.03  0.02  0.01]"
       ]
      },
      {
       "output_type": "stream",
       "stream": "stdout",
       "text": [
        "\n",
        "[ 0.01  0.02  0.01  0.84  0.    0.05  0.    0.01  0.02  0.02]"
       ]
      },
      {
       "output_type": "stream",
       "stream": "stdout",
       "text": [
        "\n",
        "[ 0.    0.03  0.    0.    0.78  0.    0.01  0.02  0.    0.15]"
       ]
      },
      {
       "output_type": "stream",
       "stream": "stdout",
       "text": [
        "\n",
        "[ 0.01  0.02  0.    0.07  0.01  0.8   0.02  0.01  0.03  0.03]"
       ]
      },
      {
       "output_type": "stream",
       "stream": "stdout",
       "text": [
        "\n",
        "[ 0.02  0.01  0.    0.    0.01  0.01  0.94  0.    0.    0.  ]"
       ]
      },
      {
       "output_type": "stream",
       "stream": "stdout",
       "text": [
        "\n",
        "[ 0.    0.03  0.    0.    0.02  0.    0.    0.87  0.    0.06]"
       ]
      },
      {
       "output_type": "stream",
       "stream": "stdout",
       "text": [
        "\n",
        "[ 0.01  0.05  0.01  0.06  0.02  0.05  0.02  0.01  0.72  0.04]"
       ]
      },
      {
       "output_type": "stream",
       "stream": "stdout",
       "text": [
        "\n",
        "[ 0.01  0.01  0.    0.01  0.05  0.    0.    0.07  0.    0.85]"
       ]
      },
      {
       "output_type": "stream",
       "stream": "stdout",
       "text": [
        "\n",
        "Saving plot_data...\n",
        "Start testing...\n",
        "Finding mean for k=40..."
       ]
      },
      {
       "output_type": "stream",
       "stream": "stdout",
       "text": [
        "\n",
        "[ 0.95  0.01  0.    0.    0.    0.01  0.02  0.    0.    0.  ]"
       ]
      },
      {
       "output_type": "stream",
       "stream": "stdout",
       "text": [
        "\n",
        "[ 0.    0.99  0.    0.    0.    0.    0.    0.    0.    0.  ]"
       ]
      },
      {
       "output_type": "stream",
       "stream": "stdout",
       "text": [
        "\n",
        "[ 0.03  0.08  0.72  0.03  0.02  0.01  0.02  0.04  0.02  0.02]"
       ]
      },
      {
       "output_type": "stream",
       "stream": "stdout",
       "text": [
        "\n",
        "[ 0.01  0.04  0.02  0.78  0.    0.07  0.01  0.02  0.03  0.03]"
       ]
      },
      {
       "output_type": "stream",
       "stream": "stdout",
       "text": [
        "\n",
        "[ 0.    0.04  0.01  0.    0.71  0.    0.01  0.03  0.    0.2 ]"
       ]
      },
      {
       "output_type": "stream",
       "stream": "stdout",
       "text": [
        "\n",
        "[ 0.02  0.03  0.    0.09  0.02  0.72  0.03  0.01  0.04  0.04]"
       ]
      },
      {
       "output_type": "stream",
       "stream": "stdout",
       "text": [
        "\n",
        "[ 0.03  0.02  0.    0.    0.01  0.01  0.91  0.    0.01  0.  ]"
       ]
      },
      {
       "output_type": "stream",
       "stream": "stdout",
       "text": [
        "\n",
        "[ 0.    0.04  0.    0.    0.02  0.    0.    0.83  0.    0.09]"
       ]
      },
      {
       "output_type": "stream",
       "stream": "stdout",
       "text": [
        "\n",
        "[ 0.02  0.07  0.02  0.07  0.02  0.06  0.02  0.02  0.64  0.06]"
       ]
      },
      {
       "output_type": "stream",
       "stream": "stdout",
       "text": [
        "\n",
        "[ 0.01  0.01  0.    0.01  0.08  0.01  0.    0.09  0.    0.79]"
       ]
      },
      {
       "output_type": "stream",
       "stream": "stdout",
       "text": [
        "\n",
        "Saving plot_data...\n",
        "Start testing...\n",
        "[array([ 0.049,  0.049]), array([ 0.056,  0.052]), array([ 0.063,  0.059]), array([ 0.074,  0.069]), array([ 0.073,  0.062]), array([ 0.082,  0.072]), array([ 0.084,  0.069]), array([ 0.101,  0.083])]"
       ]
      },
      {
       "output_type": "stream",
       "stream": "stdout",
       "text": [
        "\n",
        "== Fold 4 ==\n",
        "Fitting model...\n",
        "Finding mean for k=1..."
       ]
      },
      {
       "output_type": "stream",
       "stream": "stdout",
       "text": [
        "\n",
        "[ 1.  0.  0.  0.  0.  0.  0.  0.  0.  0.]\n",
        "[ 0.  1.  0.  0.  0.  0.  0.  0.  0.  0.]"
       ]
      },
      {
       "output_type": "stream",
       "stream": "stdout",
       "text": [
        "\n",
        "[ 0.  0.  1.  0.  0.  0.  0.  0.  0.  0.]\n",
        "[ 0.  0.  0.  1.  0.  0.  0.  0.  0.  0.]"
       ]
      },
      {
       "output_type": "stream",
       "stream": "stdout",
       "text": [
        "\n",
        "[ 0.  0.  0.  0.  1.  0.  0.  0.  0.  0.]\n",
        "[ 0.  0.  0.  0.  0.  1.  0.  0.  0.  0.]"
       ]
      },
      {
       "output_type": "stream",
       "stream": "stdout",
       "text": [
        "\n",
        "[ 0.  0.  0.  0.  0.  0.  1.  0.  0.  0.]\n",
        "[ 0.  0.  0.  0.  0.  0.  0.  1.  0.  0.]"
       ]
      },
      {
       "output_type": "stream",
       "stream": "stdout",
       "text": [
        "\n",
        "[ 0.  0.  0.  0.  0.  0.  0.  0.  1.  0.]\n",
        "[ 0.  0.  0.  0.  0.  0.  0.  0.  0.  1.]"
       ]
      },
      {
       "output_type": "stream",
       "stream": "stdout",
       "text": [
        "\n",
        "Saving plot_data...\n",
        "Start testing...\n",
        "Finding mean for k=3..."
       ]
      },
      {
       "output_type": "stream",
       "stream": "stdout",
       "text": [
        "\n",
        "[ 0.99  0.    0.    0.    0.    0.    0.    0.    0.    0.  ]"
       ]
      },
      {
       "output_type": "stream",
       "stream": "stdout",
       "text": [
        "\n",
        "[ 0.  1.  0.  0.  0.  0.  0.  0.  0.  0.]"
       ]
      },
      {
       "output_type": "stream",
       "stream": "stdout",
       "text": [
        "\n",
        "[ 0.01  0.01  0.94  0.    0.    0.    0.    0.02  0.    0.  ]"
       ]
      },
      {
       "output_type": "stream",
       "stream": "stdout",
       "text": [
        "\n",
        "[ 0.    0.    0.01  0.95  0.    0.02  0.    0.01  0.01  0.01]"
       ]
      },
      {
       "output_type": "stream",
       "stream": "stdout",
       "text": [
        "\n",
        "[ 0.    0.01  0.    0.    0.94  0.    0.    0.    0.    0.04]"
       ]
      },
      {
       "output_type": "stream",
       "stream": "stdout",
       "text": [
        "\n",
        "[ 0.01  0.    0.    0.03  0.    0.93  0.01  0.    0.01  0.01]"
       ]
      },
      {
       "output_type": "stream",
       "stream": "stdout",
       "text": [
        "\n",
        "[ 0.01  0.    0.    0.    0.    0.01  0.98  0.    0.    0.  ]"
       ]
      },
      {
       "output_type": "stream",
       "stream": "stdout",
       "text": [
        "\n",
        "[ 0.    0.01  0.    0.    0.01  0.    0.    0.96  0.    0.02]"
       ]
      },
      {
       "output_type": "stream",
       "stream": "stdout",
       "text": [
        "\n",
        "[ 0.    0.02  0.01  0.03  0.    0.02  0.01  0.    0.88  0.02]"
       ]
      },
      {
       "output_type": "stream",
       "stream": "stdout",
       "text": [
        "\n",
        "[ 0.    0.    0.    0.    0.01  0.    0.    0.02  0.    0.95]"
       ]
      },
      {
       "output_type": "stream",
       "stream": "stdout",
       "text": [
        "\n",
        "Saving plot_data...\n",
        "Start testing...\n",
        "Finding mean for k=5..."
       ]
      },
      {
       "output_type": "stream",
       "stream": "stdout",
       "text": [
        "\n",
        "[ 0.99  0.    0.    0.    0.    0.    0.01  0.    0.    0.  ]"
       ]
      },
      {
       "output_type": "stream",
       "stream": "stdout",
       "text": [
        "\n",
        "[ 0.    0.99  0.    0.    0.    0.    0.    0.    0.    0.  ]"
       ]
      },
      {
       "output_type": "stream",
       "stream": "stdout",
       "text": [
        "\n",
        "[ 0.01  0.01  0.91  0.01  0.01  0.    0.01  0.02  0.01  0.01]"
       ]
      },
      {
       "output_type": "stream",
       "stream": "stdout",
       "text": [
        "\n",
        "[ 0.    0.01  0.01  0.92  0.    0.03  0.    0.01  0.01  0.01]"
       ]
      },
      {
       "output_type": "stream",
       "stream": "stdout",
       "text": [
        "\n",
        "[ 0.    0.01  0.    0.    0.91  0.    0.01  0.01  0.    0.06]"
       ]
      },
      {
       "output_type": "stream",
       "stream": "stdout",
       "text": [
        "\n",
        "[ 0.01  0.    0.    0.04  0.    0.9   0.01  0.    0.01  0.01]"
       ]
      },
      {
       "output_type": "stream",
       "stream": "stdout",
       "text": [
        "\n",
        "[ 0.01  0.    0.    0.    0.    0.01  0.97  0.    0.    0.  ]"
       ]
      },
      {
       "output_type": "stream",
       "stream": "stdout",
       "text": [
        "\n",
        "[ 0.    0.02  0.    0.    0.01  0.    0.    0.93  0.    0.03]"
       ]
      },
      {
       "output_type": "stream",
       "stream": "stdout",
       "text": [
        "\n",
        "[ 0.01  0.03  0.01  0.03  0.01  0.03  0.01  0.01  0.84  0.02]"
       ]
      },
      {
       "output_type": "stream",
       "stream": "stdout",
       "text": [
        "\n",
        "[ 0.    0.    0.    0.01  0.02  0.    0.    0.03  0.    0.93]"
       ]
      },
      {
       "output_type": "stream",
       "stream": "stdout",
       "text": [
        "\n",
        "Saving plot_data...\n",
        "Start testing...\n",
        "Finding mean for k=7..."
       ]
      },
      {
       "output_type": "stream",
       "stream": "stdout",
       "text": [
        "\n",
        "[ 0.98  0.    0.    0.    0.    0.    0.01  0.    0.    0.  ]"
       ]
      },
      {
       "output_type": "stream",
       "stream": "stdout",
       "text": [
        "\n",
        "[ 0.    0.99  0.    0.    0.    0.    0.    0.    0.    0.  ]"
       ]
      },
      {
       "output_type": "stream",
       "stream": "stdout",
       "text": [
        "\n",
        "[ 0.02  0.02  0.89  0.01  0.01  0.    0.01  0.03  0.01  0.01]"
       ]
      },
      {
       "output_type": "stream",
       "stream": "stdout",
       "text": [
        "\n",
        "[ 0.    0.01  0.01  0.9   0.    0.03  0.    0.01  0.02  0.01]"
       ]
      },
      {
       "output_type": "stream",
       "stream": "stdout",
       "text": [
        "\n",
        "[ 0.    0.02  0.    0.    0.88  0.    0.01  0.01  0.    0.08]"
       ]
      },
      {
       "output_type": "stream",
       "stream": "stdout",
       "text": [
        "\n",
        "[ 0.01  0.01  0.    0.05  0.01  0.88  0.02  0.    0.02  0.02]"
       ]
      },
      {
       "output_type": "stream",
       "stream": "stdout",
       "text": [
        "\n",
        "[ 0.02  0.01  0.    0.    0.    0.01  0.96  0.    0.    0.  ]"
       ]
      },
      {
       "output_type": "stream",
       "stream": "stdout",
       "text": [
        "\n",
        "[ 0.    0.02  0.    0.    0.01  0.    0.    0.92  0.    0.04]"
       ]
      },
      {
       "output_type": "stream",
       "stream": "stdout",
       "text": [
        "\n",
        "[ 0.01  0.03  0.01  0.04  0.01  0.04  0.01  0.01  0.82  0.03]"
       ]
      },
      {
       "output_type": "stream",
       "stream": "stdout",
       "text": [
        "\n",
        "[ 0.    0.    0.    0.01  0.03  0.    0.    0.04  0.    0.91]"
       ]
      },
      {
       "output_type": "stream",
       "stream": "stdout",
       "text": [
        "\n",
        "Saving plot_data...\n",
        "Start testing...\n",
        "Finding mean for k=9..."
       ]
      },
      {
       "output_type": "stream",
       "stream": "stdout",
       "text": [
        "\n",
        "[ 0.98  0.    0.    0.    0.    0.    0.01  0.    0.    0.  ]"
       ]
      },
      {
       "output_type": "stream",
       "stream": "stdout",
       "text": [
        "\n",
        "[ 0.    0.99  0.    0.    0.    0.    0.    0.    0.    0.  ]"
       ]
      },
      {
       "output_type": "stream",
       "stream": "stdout",
       "text": [
        "\n",
        "[ 0.02  0.02  0.87  0.01  0.01  0.    0.01  0.03  0.01  0.01]"
       ]
      },
      {
       "output_type": "stream",
       "stream": "stdout",
       "text": [
        "\n",
        "[ 0.    0.01  0.01  0.89  0.    0.04  0.    0.01  0.02  0.01]"
       ]
      },
      {
       "output_type": "stream",
       "stream": "stdout",
       "text": [
        "\n",
        "[ 0.    0.02  0.    0.    0.86  0.    0.01  0.01  0.    0.1 ]"
       ]
      },
      {
       "output_type": "stream",
       "stream": "stdout",
       "text": [
        "\n",
        "[ 0.01  0.01  0.    0.05  0.01  0.86  0.02  0.    0.02  0.02]"
       ]
      },
      {
       "output_type": "stream",
       "stream": "stdout",
       "text": [
        "\n",
        "[ 0.02  0.01  0.    0.    0.    0.01  0.96  0.    0.    0.  ]"
       ]
      },
      {
       "output_type": "stream",
       "stream": "stdout",
       "text": [
        "\n",
        "[ 0.    0.02  0.    0.    0.01  0.    0.    0.91  0.    0.04]"
       ]
      },
      {
       "output_type": "stream",
       "stream": "stdout",
       "text": [
        "\n",
        "[ 0.01  0.04  0.01  0.04  0.01  0.04  0.01  0.01  0.79  0.03]"
       ]
      },
      {
       "output_type": "stream",
       "stream": "stdout",
       "text": [
        "\n",
        "[ 0.    0.01  0.    0.01  0.03  0.    0.    0.04  0.    0.9 ]"
       ]
      },
      {
       "output_type": "stream",
       "stream": "stdout",
       "text": [
        "\n",
        "Saving plot_data...\n",
        "Start testing...\n",
        "Finding mean for k=11..."
       ]
      },
      {
       "output_type": "stream",
       "stream": "stdout",
       "text": [
        "\n",
        "[ 0.98  0.    0.    0.    0.    0.01  0.01  0.    0.    0.  ]"
       ]
      },
      {
       "output_type": "stream",
       "stream": "stdout",
       "text": [
        "\n",
        "[ 0.    0.99  0.    0.    0.    0.    0.    0.    0.    0.  ]"
       ]
      },
      {
       "output_type": "stream",
       "stream": "stdout",
       "text": [
        "\n",
        "[ 0.02  0.03  0.86  0.01  0.01  0.    0.01  0.03  0.01  0.01]"
       ]
      },
      {
       "output_type": "stream",
       "stream": "stdout",
       "text": [
        "\n",
        "[ 0.    0.02  0.01  0.88  0.    0.04  0.    0.01  0.02  0.02]"
       ]
      },
      {
       "output_type": "stream",
       "stream": "stdout",
       "text": [
        "\n",
        "[ 0.    0.02  0.    0.    0.84  0.    0.01  0.02  0.    0.11]"
       ]
      },
      {
       "output_type": "stream",
       "stream": "stdout",
       "text": [
        "\n",
        "[ 0.01  0.01  0.    0.06  0.01  0.84  0.02  0.    0.02  0.02]"
       ]
      },
      {
       "output_type": "stream",
       "stream": "stdout",
       "text": [
        "\n",
        "[ 0.02  0.01  0.    0.    0.    0.01  0.95  0.    0.    0.  ]"
       ]
      },
      {
       "output_type": "stream",
       "stream": "stdout",
       "text": [
        "\n",
        "[ 0.    0.02  0.    0.    0.02  0.    0.    0.9   0.    0.05]"
       ]
      },
      {
       "output_type": "stream",
       "stream": "stdout",
       "text": [
        "\n",
        "[ 0.01  0.04  0.01  0.05  0.01  0.04  0.01  0.01  0.78  0.03]"
       ]
      },
      {
       "output_type": "stream",
       "stream": "stdout",
       "text": [
        "\n",
        "[ 0.    0.01  0.    0.01  0.04  0.    0.    0.05  0.    0.88]"
       ]
      },
      {
       "output_type": "stream",
       "stream": "stdout",
       "text": [
        "\n",
        "Saving plot_data...\n",
        "Start testing...\n",
        "Finding mean for k=20..."
       ]
      },
      {
       "output_type": "stream",
       "stream": "stdout",
       "text": [
        "\n",
        "[ 0.97  0.    0.    0.    0.    0.01  0.01  0.    0.    0.  ]"
       ]
      },
      {
       "output_type": "stream",
       "stream": "stdout",
       "text": [
        "\n",
        "[ 0.    0.99  0.    0.    0.    0.    0.    0.    0.    0.  ]"
       ]
      },
      {
       "output_type": "stream",
       "stream": "stdout",
       "text": [
        "\n",
        "[ 0.03  0.05  0.81  0.02  0.01  0.    0.01  0.04  0.02  0.01]"
       ]
      },
      {
       "output_type": "stream",
       "stream": "stdout",
       "text": [
        "\n",
        "[ 0.01  0.02  0.01  0.84  0.    0.05  0.    0.01  0.02  0.02]"
       ]
      },
      {
       "output_type": "stream",
       "stream": "stdout",
       "text": [
        "\n",
        "[ 0.    0.03  0.    0.    0.78  0.    0.01  0.02  0.    0.15]"
       ]
      },
      {
       "output_type": "stream",
       "stream": "stdout",
       "text": [
        "\n",
        "[ 0.01  0.02  0.    0.08  0.01  0.79  0.02  0.01  0.03  0.03]"
       ]
      },
      {
       "output_type": "stream",
       "stream": "stdout",
       "text": [
        "\n",
        "[ 0.02  0.02  0.    0.    0.01  0.01  0.94  0.    0.    0.  ]"
       ]
      },
      {
       "output_type": "stream",
       "stream": "stdout",
       "text": [
        "\n",
        "[ 0.    0.03  0.    0.    0.02  0.    0.    0.87  0.    0.06]"
       ]
      },
      {
       "output_type": "stream",
       "stream": "stdout",
       "text": [
        "\n",
        "[ 0.01  0.06  0.01  0.05  0.01  0.05  0.02  0.01  0.72  0.04]"
       ]
      },
      {
       "output_type": "stream",
       "stream": "stdout",
       "text": [
        "\n",
        "[ 0.01  0.01  0.    0.01  0.05  0.    0.    0.07  0.    0.85]"
       ]
      },
      {
       "output_type": "stream",
       "stream": "stdout",
       "text": [
        "\n",
        "Saving plot_data...\n",
        "Start testing...\n",
        "Finding mean for k=40..."
       ]
      },
      {
       "output_type": "stream",
       "stream": "stdout",
       "text": [
        "\n",
        "[ 0.94  0.01  0.    0.    0.    0.01  0.02  0.    0.    0.  ]"
       ]
      },
      {
       "output_type": "stream",
       "stream": "stdout",
       "text": [
        "\n",
        "[ 0.    0.99  0.    0.    0.    0.    0.    0.    0.    0.  ]"
       ]
      },
      {
       "output_type": "stream",
       "stream": "stdout",
       "text": [
        "\n",
        "[ 0.03  0.08  0.72  0.03  0.02  0.01  0.01  0.05  0.02  0.02]"
       ]
      },
      {
       "output_type": "stream",
       "stream": "stdout",
       "text": [
        "\n",
        "[ 0.01  0.04  0.02  0.79  0.    0.06  0.01  0.01  0.03  0.03]"
       ]
      },
      {
       "output_type": "stream",
       "stream": "stdout",
       "text": [
        "\n",
        "[ 0.    0.04  0.01  0.    0.71  0.    0.01  0.03  0.    0.2 ]"
       ]
      },
      {
       "output_type": "stream",
       "stream": "stdout",
       "text": [
        "\n",
        "[ 0.02  0.04  0.    0.1   0.01  0.72  0.03  0.01  0.04  0.04]"
       ]
      },
      {
       "output_type": "stream",
       "stream": "stdout",
       "text": [
        "\n",
        "[ 0.03  0.03  0.    0.    0.01  0.01  0.91  0.    0.01  0.  ]"
       ]
      },
      {
       "output_type": "stream",
       "stream": "stdout",
       "text": [
        "\n",
        "[ 0.    0.05  0.    0.    0.02  0.    0.    0.83  0.    0.09]"
       ]
      },
      {
       "output_type": "stream",
       "stream": "stdout",
       "text": [
        "\n",
        "[ 0.02  0.08  0.02  0.07  0.02  0.06  0.02  0.02  0.65  0.06]"
       ]
      },
      {
       "output_type": "stream",
       "stream": "stdout",
       "text": [
        "\n",
        "[ 0.01  0.01  0.    0.01  0.07  0.01  0.    0.09  0.    0.8 ]"
       ]
      },
      {
       "output_type": "stream",
       "stream": "stdout",
       "text": [
        "\n",
        "Saving plot_data...\n",
        "Start testing...\n",
        "[array([ 0.068,  0.068]), array([ 0.065,  0.065]), array([ 0.065,  0.064]), array([ 0.067,  0.061]), array([ 0.063,  0.061]), array([ 0.067,  0.062]), array([ 0.086,  0.076]), array([ 0.094,  0.087])]"
       ]
      },
      {
       "output_type": "stream",
       "stream": "stdout",
       "text": [
        "\n",
        "== Fold 5 ==\n",
        "Fitting model...\n",
        "Finding mean for k=1..."
       ]
      },
      {
       "output_type": "stream",
       "stream": "stdout",
       "text": [
        "\n",
        "[ 1.  0.  0.  0.  0.  0.  0.  0.  0.  0.]\n",
        "[ 0.  1.  0.  0.  0.  0.  0.  0.  0.  0.]"
       ]
      },
      {
       "output_type": "stream",
       "stream": "stdout",
       "text": [
        "\n",
        "[ 0.  0.  1.  0.  0.  0.  0.  0.  0.  0.]\n",
        "[ 0.  0.  0.  1.  0.  0.  0.  0.  0.  0.]"
       ]
      },
      {
       "output_type": "stream",
       "stream": "stdout",
       "text": [
        "\n",
        "[ 0.  0.  0.  0.  1.  0.  0.  0.  0.  0.]\n",
        "[ 0.  0.  0.  0.  0.  1.  0.  0.  0.  0.]"
       ]
      },
      {
       "output_type": "stream",
       "stream": "stdout",
       "text": [
        "\n",
        "[ 0.  0.  0.  0.  0.  0.  1.  0.  0.  0.]\n",
        "[ 0.  0.  0.  0.  0.  0.  0.  1.  0.  0.]"
       ]
      },
      {
       "output_type": "stream",
       "stream": "stdout",
       "text": [
        "\n",
        "[ 0.  0.  0.  0.  0.  0.  0.  0.  1.  0.]\n",
        "[ 0.  0.  0.  0.  0.  0.  0.  0.  0.  1.]"
       ]
      },
      {
       "output_type": "stream",
       "stream": "stdout",
       "text": [
        "\n",
        "Saving plot_data...\n",
        "Start testing...\n",
        "Finding mean for k=3..."
       ]
      },
      {
       "output_type": "stream",
       "stream": "stdout",
       "text": [
        "\n",
        "[ 0.99  0.    0.    0.    0.    0.    0.    0.    0.    0.  ]"
       ]
      },
      {
       "output_type": "stream",
       "stream": "stdout",
       "text": [
        "\n",
        "[ 0.    0.99  0.    0.    0.    0.    0.    0.    0.    0.  ]"
       ]
      },
      {
       "output_type": "stream",
       "stream": "stdout",
       "text": [
        "\n",
        "[ 0.01  0.01  0.94  0.01  0.    0.    0.    0.02  0.01  0.  ]"
       ]
      },
      {
       "output_type": "stream",
       "stream": "stdout",
       "text": [
        "\n",
        "[ 0.    0.    0.01  0.95  0.    0.02  0.    0.    0.01  0.01]"
       ]
      },
      {
       "output_type": "stream",
       "stream": "stdout",
       "text": [
        "\n",
        "[ 0.    0.01  0.    0.    0.95  0.    0.    0.01  0.    0.03]"
       ]
      },
      {
       "output_type": "stream",
       "stream": "stdout",
       "text": [
        "\n",
        "[ 0.01  0.    0.    0.02  0.    0.93  0.01  0.    0.01  0.01]"
       ]
      },
      {
       "output_type": "stream",
       "stream": "stdout",
       "text": [
        "\n",
        "[ 0.01  0.    0.    0.    0.    0.01  0.98  0.    0.    0.  ]"
       ]
      },
      {
       "output_type": "stream",
       "stream": "stdout",
       "text": [
        "\n",
        "[ 0.    0.01  0.    0.    0.01  0.    0.    0.95  0.    0.02]"
       ]
      },
      {
       "output_type": "stream",
       "stream": "stdout",
       "text": [
        "\n",
        "[ 0.    0.01  0.01  0.02  0.    0.02  0.01  0.01  0.89  0.02]"
       ]
      },
      {
       "output_type": "stream",
       "stream": "stdout",
       "text": [
        "\n",
        "[ 0.    0.    0.    0.01  0.01  0.    0.    0.02  0.    0.96]"
       ]
      },
      {
       "output_type": "stream",
       "stream": "stdout",
       "text": [
        "\n",
        "Saving plot_data...\n",
        "Start testing...\n",
        "Finding mean for k=5..."
       ]
      },
      {
       "output_type": "stream",
       "stream": "stdout",
       "text": [
        "\n",
        "[ 0.99  0.    0.    0.    0.    0.    0.01  0.    0.    0.  ]"
       ]
      },
      {
       "output_type": "stream",
       "stream": "stdout",
       "text": [
        "\n",
        "[ 0.    0.99  0.    0.    0.    0.    0.    0.    0.    0.  ]"
       ]
      },
      {
       "output_type": "stream",
       "stream": "stdout",
       "text": [
        "\n",
        "[ 0.01  0.01  0.91  0.01  0.01  0.    0.01  0.02  0.01  0.01]"
       ]
      },
      {
       "output_type": "stream",
       "stream": "stdout",
       "text": [
        "\n",
        "[ 0.    0.01  0.01  0.93  0.    0.02  0.    0.01  0.01  0.01]"
       ]
      },
      {
       "output_type": "stream",
       "stream": "stdout",
       "text": [
        "\n",
        "[ 0.    0.02  0.    0.    0.9   0.    0.    0.01  0.    0.06]"
       ]
      },
      {
       "output_type": "stream",
       "stream": "stdout",
       "text": [
        "\n",
        "[ 0.01  0.    0.    0.03  0.01  0.9   0.01  0.    0.01  0.02]"
       ]
      },
      {
       "output_type": "stream",
       "stream": "stdout",
       "text": [
        "\n",
        "[ 0.01  0.    0.    0.    0.    0.01  0.97  0.    0.    0.  ]"
       ]
      },
      {
       "output_type": "stream",
       "stream": "stdout",
       "text": [
        "\n",
        "[ 0.    0.02  0.    0.    0.01  0.    0.    0.93  0.    0.03]"
       ]
      },
      {
       "output_type": "stream",
       "stream": "stdout",
       "text": [
        "\n",
        "[ 0.01  0.02  0.01  0.03  0.01  0.04  0.01  0.01  0.85  0.02]"
       ]
      },
      {
       "output_type": "stream",
       "stream": "stdout",
       "text": [
        "\n",
        "[ 0.    0.    0.    0.01  0.02  0.    0.    0.03  0.    0.93]"
       ]
      },
      {
       "output_type": "stream",
       "stream": "stdout",
       "text": [
        "\n",
        "Saving plot_data...\n",
        "Start testing...\n",
        "Finding mean for k=7..."
       ]
      },
      {
       "output_type": "stream",
       "stream": "stdout",
       "text": [
        "\n",
        "[ 0.98  0.    0.    0.    0.    0.    0.01  0.    0.    0.  ]"
       ]
      },
      {
       "output_type": "stream",
       "stream": "stdout",
       "text": [
        "\n",
        "[ 0.    0.99  0.    0.    0.    0.    0.    0.    0.    0.  ]"
       ]
      },
      {
       "output_type": "stream",
       "stream": "stdout",
       "text": [
        "\n",
        "[ 0.02  0.02  0.89  0.01  0.01  0.    0.01  0.03  0.01  0.01]"
       ]
      },
      {
       "output_type": "stream",
       "stream": "stdout",
       "text": [
        "\n",
        "[ 0.    0.01  0.01  0.91  0.    0.03  0.    0.01  0.02  0.01]"
       ]
      },
      {
       "output_type": "stream",
       "stream": "stdout",
       "text": [
        "\n",
        "[ 0.    0.02  0.    0.    0.88  0.    0.01  0.01  0.    0.08]"
       ]
      },
      {
       "output_type": "stream",
       "stream": "stdout",
       "text": [
        "\n",
        "[ 0.01  0.01  0.    0.04  0.01  0.87  0.02  0.    0.02  0.02]"
       ]
      },
      {
       "output_type": "stream",
       "stream": "stdout",
       "text": [
        "\n",
        "[ 0.01  0.01  0.    0.    0.    0.01  0.96  0.    0.    0.  ]"
       ]
      },
      {
       "output_type": "stream",
       "stream": "stdout",
       "text": [
        "\n",
        "[ 0.    0.02  0.    0.    0.01  0.    0.    0.92  0.    0.04]"
       ]
      },
      {
       "output_type": "stream",
       "stream": "stdout",
       "text": [
        "\n",
        "[ 0.01  0.03  0.01  0.03  0.01  0.04  0.01  0.01  0.82  0.03]"
       ]
      },
      {
       "output_type": "stream",
       "stream": "stdout",
       "text": [
        "\n",
        "[ 0.    0.    0.    0.01  0.03  0.    0.    0.04  0.    0.91]"
       ]
      },
      {
       "output_type": "stream",
       "stream": "stdout",
       "text": [
        "\n",
        "Saving plot_data...\n",
        "Start testing...\n",
        "Finding mean for k=9..."
       ]
      },
      {
       "output_type": "stream",
       "stream": "stdout",
       "text": [
        "\n",
        "[ 0.98  0.    0.    0.    0.    0.    0.01  0.    0.    0.  ]"
       ]
      },
      {
       "output_type": "stream",
       "stream": "stdout",
       "text": [
        "\n",
        "[ 0.    0.99  0.    0.    0.    0.    0.    0.    0.    0.  ]"
       ]
      },
      {
       "output_type": "stream",
       "stream": "stdout",
       "text": [
        "\n",
        "[ 0.02  0.02  0.87  0.01  0.01  0.    0.01  0.03  0.01  0.01]"
       ]
      },
      {
       "output_type": "stream",
       "stream": "stdout",
       "text": [
        "\n",
        "[ 0.    0.01  0.01  0.9   0.    0.03  0.    0.01  0.02  0.01]"
       ]
      },
      {
       "output_type": "stream",
       "stream": "stdout",
       "text": [
        "\n",
        "[ 0.    0.02  0.    0.    0.86  0.    0.01  0.02  0.    0.1 ]"
       ]
      },
      {
       "output_type": "stream",
       "stream": "stdout",
       "text": [
        "\n",
        "[ 0.01  0.01  0.    0.05  0.01  0.86  0.02  0.    0.02  0.02]"
       ]
      },
      {
       "output_type": "stream",
       "stream": "stdout",
       "text": [
        "\n",
        "[ 0.02  0.01  0.    0.    0.    0.01  0.96  0.    0.    0.  ]"
       ]
      },
      {
       "output_type": "stream",
       "stream": "stdout",
       "text": [
        "\n",
        "[ 0.    0.02  0.    0.    0.01  0.    0.    0.91  0.    0.04]"
       ]
      },
      {
       "output_type": "stream",
       "stream": "stdout",
       "text": [
        "\n",
        "[ 0.01  0.03  0.01  0.04  0.01  0.04  0.01  0.01  0.8   0.03]"
       ]
      },
      {
       "output_type": "stream",
       "stream": "stdout",
       "text": [
        "\n",
        "[ 0.    0.01  0.    0.01  0.03  0.    0.    0.05  0.    0.9 ]"
       ]
      },
      {
       "output_type": "stream",
       "stream": "stdout",
       "text": [
        "\n",
        "Saving plot_data...\n",
        "Start testing...\n",
        "Finding mean for k=11..."
       ]
      },
      {
       "output_type": "stream",
       "stream": "stdout",
       "text": [
        "\n",
        "[ 0.98  0.    0.    0.    0.    0.    0.01  0.    0.    0.  ]"
       ]
      },
      {
       "output_type": "stream",
       "stream": "stdout",
       "text": [
        "\n",
        "[ 0.    0.99  0.    0.    0.    0.    0.    0.    0.    0.  ]"
       ]
      },
      {
       "output_type": "stream",
       "stream": "stdout",
       "text": [
        "\n",
        "[ 0.02  0.03  0.86  0.02  0.01  0.    0.01  0.03  0.01  0.01]"
       ]
      },
      {
       "output_type": "stream",
       "stream": "stdout",
       "text": [
        "\n",
        "[ 0.    0.01  0.01  0.88  0.    0.04  0.    0.01  0.02  0.02]"
       ]
      },
      {
       "output_type": "stream",
       "stream": "stdout",
       "text": [
        "\n",
        "[ 0.    0.02  0.    0.    0.84  0.    0.01  0.02  0.    0.11]"
       ]
      },
      {
       "output_type": "stream",
       "stream": "stdout",
       "text": [
        "\n",
        "[ 0.01  0.01  0.    0.06  0.01  0.84  0.02  0.01  0.02  0.02]"
       ]
      },
      {
       "output_type": "stream",
       "stream": "stdout",
       "text": [
        "\n",
        "[ 0.02  0.01  0.    0.    0.    0.01  0.95  0.    0.    0.  ]"
       ]
      },
      {
       "output_type": "stream",
       "stream": "stdout",
       "text": [
        "\n",
        "[ 0.    0.02  0.    0.    0.02  0.    0.    0.9   0.    0.05]"
       ]
      },
      {
       "output_type": "stream",
       "stream": "stdout",
       "text": [
        "\n",
        "[ 0.01  0.04  0.01  0.04  0.01  0.05  0.02  0.01  0.78  0.03]"
       ]
      },
      {
       "output_type": "stream",
       "stream": "stdout",
       "text": [
        "\n",
        "[ 0.    0.01  0.    0.01  0.04  0.    0.    0.05  0.    0.88]"
       ]
      },
      {
       "output_type": "stream",
       "stream": "stdout",
       "text": [
        "\n",
        "Saving plot_data...\n",
        "Start testing...\n",
        "Finding mean for k=20..."
       ]
      },
      {
       "output_type": "stream",
       "stream": "stdout",
       "text": [
        "\n",
        "[ 0.97  0.    0.    0.    0.    0.01  0.01  0.    0.    0.  ]"
       ]
      },
      {
       "output_type": "stream",
       "stream": "stdout",
       "text": [
        "\n",
        "[ 0.    0.99  0.    0.    0.    0.    0.    0.    0.    0.  ]"
       ]
      },
      {
       "output_type": "stream",
       "stream": "stdout",
       "text": [
        "\n",
        "[ 0.03  0.05  0.8   0.02  0.02  0.01  0.01  0.04  0.02  0.01]"
       ]
      },
      {
       "output_type": "stream",
       "stream": "stdout",
       "text": [
        "\n",
        "[ 0.01  0.02  0.01  0.85  0.    0.05  0.    0.01  0.02  0.02]"
       ]
      },
      {
       "output_type": "stream",
       "stream": "stdout",
       "text": [
        "\n",
        "[ 0.    0.03  0.    0.    0.78  0.    0.01  0.02  0.    0.15]"
       ]
      },
      {
       "output_type": "stream",
       "stream": "stdout",
       "text": [
        "\n",
        "[ 0.02  0.02  0.    0.08  0.01  0.79  0.02  0.01  0.03  0.03]"
       ]
      },
      {
       "output_type": "stream",
       "stream": "stdout",
       "text": [
        "\n",
        "[ 0.02  0.02  0.    0.    0.01  0.01  0.94  0.    0.    0.  ]"
       ]
      },
      {
       "output_type": "stream",
       "stream": "stdout",
       "text": [
        "\n",
        "[ 0.    0.03  0.    0.    0.02  0.    0.    0.87  0.    0.07]"
       ]
      },
      {
       "output_type": "stream",
       "stream": "stdout",
       "text": [
        "\n",
        "[ 0.01  0.05  0.01  0.05  0.01  0.05  0.02  0.01  0.73  0.04]"
       ]
      },
      {
       "output_type": "stream",
       "stream": "stdout",
       "text": [
        "\n",
        "[ 0.    0.01  0.    0.01  0.05  0.    0.    0.07  0.    0.85]"
       ]
      },
      {
       "output_type": "stream",
       "stream": "stdout",
       "text": [
        "\n",
        "Saving plot_data...\n",
        "Start testing...\n",
        "Finding mean for k=40..."
       ]
      },
      {
       "output_type": "stream",
       "stream": "stdout",
       "text": [
        "\n",
        "[ 0.95  0.01  0.    0.    0.    0.01  0.02  0.    0.    0.  ]"
       ]
      },
      {
       "output_type": "stream",
       "stream": "stdout",
       "text": [
        "\n",
        "[ 0.    0.99  0.    0.    0.    0.    0.    0.    0.    0.  ]"
       ]
      },
      {
       "output_type": "stream",
       "stream": "stdout",
       "text": [
        "\n",
        "[ 0.03  0.08  0.72  0.03  0.02  0.01  0.01  0.05  0.02  0.02]"
       ]
      },
      {
       "output_type": "stream",
       "stream": "stdout",
       "text": [
        "\n",
        "[ 0.01  0.04  0.02  0.79  0.    0.06  0.01  0.02  0.03  0.03]"
       ]
      },
      {
       "output_type": "stream",
       "stream": "stdout",
       "text": [
        "\n",
        "[ 0.    0.04  0.01  0.    0.71  0.    0.01  0.03  0.    0.2 ]"
       ]
      },
      {
       "output_type": "stream",
       "stream": "stdout",
       "text": [
        "\n",
        "[ 0.02  0.04  0.    0.09  0.02  0.71  0.03  0.01  0.04  0.04]"
       ]
      },
      {
       "output_type": "stream",
       "stream": "stdout",
       "text": [
        "\n",
        "[ 0.03  0.03  0.    0.    0.01  0.01  0.91  0.    0.01  0.  ]"
       ]
      },
      {
       "output_type": "stream",
       "stream": "stdout",
       "text": [
        "\n",
        "[ 0.    0.04  0.    0.    0.02  0.    0.    0.82  0.    0.09]"
       ]
      },
      {
       "output_type": "stream",
       "stream": "stdout",
       "text": [
        "\n",
        "[ 0.02  0.07  0.02  0.07  0.02  0.06  0.02  0.02  0.65  0.06]"
       ]
      },
      {
       "output_type": "stream",
       "stream": "stdout",
       "text": [
        "\n",
        "[ 0.01  0.01  0.    0.01  0.07  0.01  0.    0.09  0.    0.8 ]"
       ]
      },
      {
       "output_type": "stream",
       "stream": "stdout",
       "text": [
        "\n",
        "Saving plot_data...\n",
        "Start testing...\n",
        "[array([ 0.072,  0.072]), array([ 0.06 ,  0.058]), array([ 0.072,  0.068]), array([ 0.062,  0.059]), array([ 0.065,  0.061]), array([ 0.07 ,  0.056]), array([ 0.07 ,  0.062]), array([ 0.088,  0.073])]"
       ]
      },
      {
       "output_type": "stream",
       "stream": "stdout",
       "text": [
        "\n",
        "== Fold 6 ==\n",
        "Fitting model...\n",
        "Finding mean for k=1..."
       ]
      },
      {
       "output_type": "stream",
       "stream": "stdout",
       "text": [
        "\n",
        "[ 1.  0.  0.  0.  0.  0.  0.  0.  0.  0.]\n",
        "[ 0.  1.  0.  0.  0.  0.  0.  0.  0.  0.]"
       ]
      },
      {
       "output_type": "stream",
       "stream": "stdout",
       "text": [
        "\n",
        "[ 0.  0.  1.  0.  0.  0.  0.  0.  0.  0.]\n",
        "[ 0.  0.  0.  1.  0.  0.  0.  0.  0.  0.]"
       ]
      },
      {
       "output_type": "stream",
       "stream": "stdout",
       "text": [
        "\n",
        "[ 0.  0.  0.  0.  1.  0.  0.  0.  0.  0.]\n",
        "[ 0.  0.  0.  0.  0.  1.  0.  0.  0.  0.]"
       ]
      },
      {
       "output_type": "stream",
       "stream": "stdout",
       "text": [
        "\n",
        "[ 0.  0.  0.  0.  0.  0.  1.  0.  0.  0.]\n",
        "[ 0.  0.  0.  0.  0.  0.  0.  1.  0.  0.]"
       ]
      },
      {
       "output_type": "stream",
       "stream": "stdout",
       "text": [
        "\n",
        "[ 0.  0.  0.  0.  0.  0.  0.  0.  1.  0.]\n",
        "[ 0.  0.  0.  0.  0.  0.  0.  0.  0.  1.]"
       ]
      },
      {
       "output_type": "stream",
       "stream": "stdout",
       "text": [
        "\n",
        "Saving plot_data...\n",
        "Start testing...\n",
        "Finding mean for k=3..."
       ]
      },
      {
       "output_type": "stream",
       "stream": "stdout",
       "text": [
        "\n",
        "[ 0.99  0.    0.    0.    0.    0.    0.    0.    0.    0.  ]"
       ]
      },
      {
       "output_type": "stream",
       "stream": "stdout",
       "text": [
        "\n",
        "[ 0.  1.  0.  0.  0.  0.  0.  0.  0.  0.]"
       ]
      },
      {
       "output_type": "stream",
       "stream": "stdout",
       "text": [
        "\n",
        "[ 0.01  0.01  0.94  0.01  0.    0.    0.    0.02  0.01  0.  ]"
       ]
      },
      {
       "output_type": "stream",
       "stream": "stdout",
       "text": [
        "\n",
        "[ 0.    0.01  0.    0.95  0.    0.02  0.    0.01  0.01  0.01]"
       ]
      },
      {
       "output_type": "stream",
       "stream": "stdout",
       "text": [
        "\n",
        "[ 0.    0.01  0.    0.    0.94  0.    0.    0.01  0.    0.03]"
       ]
      },
      {
       "output_type": "stream",
       "stream": "stdout",
       "text": [
        "\n",
        "[ 0.01  0.    0.    0.03  0.    0.93  0.01  0.    0.01  0.01]"
       ]
      },
      {
       "output_type": "stream",
       "stream": "stdout",
       "text": [
        "\n",
        "[ 0.01  0.    0.    0.    0.    0.01  0.98  0.    0.    0.  ]"
       ]
      },
      {
       "output_type": "stream",
       "stream": "stdout",
       "text": [
        "\n",
        "[ 0.    0.01  0.    0.    0.01  0.    0.    0.95  0.    0.02]"
       ]
      },
      {
       "output_type": "stream",
       "stream": "stdout",
       "text": [
        "\n",
        "[ 0.    0.02  0.01  0.02  0.01  0.02  0.01  0.01  0.89  0.02]"
       ]
      },
      {
       "output_type": "stream",
       "stream": "stdout",
       "text": [
        "\n",
        "[ 0.    0.    0.    0.01  0.01  0.    0.    0.02  0.    0.96]"
       ]
      },
      {
       "output_type": "stream",
       "stream": "stdout",
       "text": [
        "\n",
        "Saving plot_data...\n",
        "Start testing...\n",
        "Finding mean for k=5..."
       ]
      },
      {
       "output_type": "stream",
       "stream": "stdout",
       "text": [
        "\n",
        "[ 0.99  0.    0.    0.    0.    0.    0.    0.    0.    0.  ]"
       ]
      },
      {
       "output_type": "stream",
       "stream": "stdout",
       "text": [
        "\n",
        "[ 0.    0.99  0.    0.    0.    0.    0.    0.    0.    0.  ]"
       ]
      },
      {
       "output_type": "stream",
       "stream": "stdout",
       "text": [
        "\n",
        "[ 0.01  0.01  0.91  0.01  0.01  0.    0.    0.02  0.01  0.01]"
       ]
      },
      {
       "output_type": "stream",
       "stream": "stdout",
       "text": [
        "\n",
        "[ 0.    0.01  0.01  0.92  0.    0.03  0.    0.01  0.01  0.01]"
       ]
      },
      {
       "output_type": "stream",
       "stream": "stdout",
       "text": [
        "\n",
        "[ 0.    0.01  0.    0.    0.91  0.    0.    0.01  0.    0.06]"
       ]
      },
      {
       "output_type": "stream",
       "stream": "stdout",
       "text": [
        "\n",
        "[ 0.01  0.01  0.    0.04  0.01  0.9   0.01  0.    0.01  0.02]"
       ]
      },
      {
       "output_type": "stream",
       "stream": "stdout",
       "text": [
        "\n",
        "[ 0.01  0.01  0.    0.    0.    0.01  0.97  0.    0.    0.  ]"
       ]
      },
      {
       "output_type": "stream",
       "stream": "stdout",
       "text": [
        "\n",
        "[ 0.    0.02  0.    0.    0.01  0.    0.    0.93  0.    0.03]"
       ]
      },
      {
       "output_type": "stream",
       "stream": "stdout",
       "text": [
        "\n",
        "[ 0.01  0.02  0.01  0.03  0.01  0.04  0.01  0.01  0.84  0.02]"
       ]
      },
      {
       "output_type": "stream",
       "stream": "stdout",
       "text": [
        "\n",
        "[ 0.    0.    0.    0.01  0.02  0.    0.    0.03  0.    0.93]"
       ]
      },
      {
       "output_type": "stream",
       "stream": "stdout",
       "text": [
        "\n",
        "Saving plot_data...\n",
        "Start testing...\n",
        "Finding mean for k=7..."
       ]
      },
      {
       "output_type": "stream",
       "stream": "stdout",
       "text": [
        "\n",
        "[ 0.98  0.    0.    0.    0.    0.    0.    0.    0.    0.  ]"
       ]
      },
      {
       "output_type": "stream",
       "stream": "stdout",
       "text": [
        "\n",
        "[ 0.    0.99  0.    0.    0.    0.    0.    0.    0.    0.  ]"
       ]
      },
      {
       "output_type": "stream",
       "stream": "stdout",
       "text": [
        "\n",
        "[ 0.02  0.02  0.89  0.01  0.01  0.    0.01  0.03  0.01  0.01]"
       ]
      },
      {
       "output_type": "stream",
       "stream": "stdout",
       "text": [
        "\n",
        "[ 0.    0.01  0.01  0.9   0.    0.03  0.    0.01  0.02  0.01]"
       ]
      },
      {
       "output_type": "stream",
       "stream": "stdout",
       "text": [
        "\n",
        "[ 0.    0.02  0.    0.    0.88  0.    0.    0.01  0.    0.08]"
       ]
      },
      {
       "output_type": "stream",
       "stream": "stdout",
       "text": [
        "\n",
        "[ 0.01  0.01  0.    0.05  0.01  0.88  0.02  0.    0.01  0.02]"
       ]
      },
      {
       "output_type": "stream",
       "stream": "stdout",
       "text": [
        "\n",
        "[ 0.01  0.01  0.    0.    0.    0.01  0.97  0.    0.    0.  ]"
       ]
      },
      {
       "output_type": "stream",
       "stream": "stdout",
       "text": [
        "\n",
        "[ 0.    0.02  0.    0.    0.01  0.    0.    0.92  0.    0.04]"
       ]
      },
      {
       "output_type": "stream",
       "stream": "stdout",
       "text": [
        "\n",
        "[ 0.01  0.03  0.01  0.03  0.01  0.04  0.01  0.01  0.82  0.03]"
       ]
      },
      {
       "output_type": "stream",
       "stream": "stdout",
       "text": [
        "\n",
        "[ 0.    0.    0.    0.01  0.03  0.    0.    0.04  0.    0.91]"
       ]
      },
      {
       "output_type": "stream",
       "stream": "stdout",
       "text": [
        "\n",
        "Saving plot_data...\n",
        "Start testing...\n",
        "Finding mean for k=9..."
       ]
      },
      {
       "output_type": "stream",
       "stream": "stdout",
       "text": [
        "\n",
        "[ 0.98  0.    0.    0.    0.    0.    0.01  0.    0.    0.  ]"
       ]
      },
      {
       "output_type": "stream",
       "stream": "stdout",
       "text": [
        "\n",
        "[ 0.    0.99  0.    0.    0.    0.    0.    0.    0.    0.  ]"
       ]
      },
      {
       "output_type": "stream",
       "stream": "stdout",
       "text": [
        "\n",
        "[ 0.02  0.02  0.87  0.01  0.01  0.    0.01  0.03  0.01  0.01]"
       ]
      },
      {
       "output_type": "stream",
       "stream": "stdout",
       "text": [
        "\n",
        "[ 0.    0.01  0.01  0.89  0.    0.04  0.    0.01  0.02  0.02]"
       ]
      },
      {
       "output_type": "stream",
       "stream": "stdout",
       "text": [
        "\n",
        "[ 0.    0.02  0.    0.    0.86  0.    0.01  0.01  0.    0.09]"
       ]
      },
      {
       "output_type": "stream",
       "stream": "stdout",
       "text": [
        "\n",
        "[ 0.01  0.01  0.    0.06  0.01  0.86  0.02  0.    0.02  0.02]"
       ]
      },
      {
       "output_type": "stream",
       "stream": "stdout",
       "text": [
        "\n",
        "[ 0.01  0.01  0.    0.    0.    0.01  0.96  0.    0.    0.  ]"
       ]
      },
      {
       "output_type": "stream",
       "stream": "stdout",
       "text": [
        "\n",
        "[ 0.    0.02  0.    0.    0.01  0.    0.    0.91  0.    0.04]"
       ]
      },
      {
       "output_type": "stream",
       "stream": "stdout",
       "text": [
        "\n",
        "[ 0.01  0.03  0.01  0.04  0.01  0.04  0.01  0.01  0.8   0.03]"
       ]
      },
      {
       "output_type": "stream",
       "stream": "stdout",
       "text": [
        "\n",
        "[ 0.    0.01  0.    0.01  0.03  0.    0.    0.04  0.    0.9 ]"
       ]
      },
      {
       "output_type": "stream",
       "stream": "stdout",
       "text": [
        "\n",
        "Saving plot_data...\n",
        "Start testing...\n",
        "Finding mean for k=11..."
       ]
      },
      {
       "output_type": "stream",
       "stream": "stdout",
       "text": [
        "\n",
        "[ 0.98  0.    0.    0.    0.    0.    0.01  0.    0.    0.  ]"
       ]
      },
      {
       "output_type": "stream",
       "stream": "stdout",
       "text": [
        "\n",
        "[ 0.    0.99  0.    0.    0.    0.    0.    0.    0.    0.  ]"
       ]
      },
      {
       "output_type": "stream",
       "stream": "stdout",
       "text": [
        "\n",
        "[ 0.02  0.03  0.86  0.01  0.01  0.    0.01  0.03  0.01  0.01]"
       ]
      },
      {
       "output_type": "stream",
       "stream": "stdout",
       "text": [
        "\n",
        "[ 0.    0.02  0.01  0.88  0.    0.04  0.    0.01  0.02  0.02]"
       ]
      },
      {
       "output_type": "stream",
       "stream": "stdout",
       "text": [
        "\n",
        "[ 0.    0.02  0.    0.    0.84  0.    0.01  0.02  0.    0.11]"
       ]
      },
      {
       "output_type": "stream",
       "stream": "stdout",
       "text": [
        "\n",
        "[ 0.01  0.01  0.    0.06  0.01  0.84  0.02  0.    0.02  0.02]"
       ]
      },
      {
       "output_type": "stream",
       "stream": "stdout",
       "text": [
        "\n",
        "[ 0.01  0.01  0.    0.    0.    0.01  0.96  0.    0.    0.  ]"
       ]
      },
      {
       "output_type": "stream",
       "stream": "stdout",
       "text": [
        "\n",
        "[ 0.    0.02  0.    0.    0.02  0.    0.    0.9   0.    0.05]"
       ]
      },
      {
       "output_type": "stream",
       "stream": "stdout",
       "text": [
        "\n",
        "[ 0.01  0.04  0.01  0.04  0.01  0.05  0.02  0.01  0.78  0.04]"
       ]
      },
      {
       "output_type": "stream",
       "stream": "stdout",
       "text": [
        "\n",
        "[ 0.    0.01  0.    0.01  0.04  0.    0.    0.05  0.    0.89]"
       ]
      },
      {
       "output_type": "stream",
       "stream": "stdout",
       "text": [
        "\n",
        "Saving plot_data...\n",
        "Start testing...\n",
        "Finding mean for k=20..."
       ]
      },
      {
       "output_type": "stream",
       "stream": "stdout",
       "text": [
        "\n",
        "[ 0.97  0.    0.    0.    0.    0.01  0.01  0.    0.    0.  ]"
       ]
      },
      {
       "output_type": "stream",
       "stream": "stdout",
       "text": [
        "\n",
        "[ 0.    0.99  0.    0.    0.    0.    0.    0.    0.    0.  ]"
       ]
      },
      {
       "output_type": "stream",
       "stream": "stdout",
       "text": [
        "\n",
        "[ 0.03  0.04  0.81  0.02  0.02  0.    0.01  0.04  0.02  0.01]"
       ]
      },
      {
       "output_type": "stream",
       "stream": "stdout",
       "text": [
        "\n",
        "[ 0.01  0.02  0.01  0.84  0.    0.05  0.    0.01  0.02  0.02]"
       ]
      },
      {
       "output_type": "stream",
       "stream": "stdout",
       "text": [
        "\n",
        "[ 0.    0.03  0.    0.    0.78  0.    0.01  0.02  0.    0.15]"
       ]
      },
      {
       "output_type": "stream",
       "stream": "stdout",
       "text": [
        "\n",
        "[ 0.01  0.02  0.    0.08  0.01  0.79  0.02  0.01  0.02  0.03]"
       ]
      },
      {
       "output_type": "stream",
       "stream": "stdout",
       "text": [
        "\n",
        "[ 0.02  0.02  0.    0.    0.01  0.01  0.94  0.    0.    0.  ]"
       ]
      },
      {
       "output_type": "stream",
       "stream": "stdout",
       "text": [
        "\n",
        "[ 0.    0.03  0.    0.    0.02  0.    0.    0.87  0.    0.06]"
       ]
      },
      {
       "output_type": "stream",
       "stream": "stdout",
       "text": [
        "\n",
        "[ 0.01  0.05  0.01  0.05  0.01  0.05  0.02  0.01  0.72  0.05]"
       ]
      },
      {
       "output_type": "stream",
       "stream": "stdout",
       "text": [
        "\n",
        "[ 0.    0.01  0.    0.01  0.05  0.    0.    0.07  0.    0.85]"
       ]
      },
      {
       "output_type": "stream",
       "stream": "stdout",
       "text": [
        "\n",
        "Saving plot_data...\n",
        "Start testing...\n",
        "Finding mean for k=40..."
       ]
      },
      {
       "output_type": "stream",
       "stream": "stdout",
       "text": [
        "\n",
        "[ 0.95  0.01  0.    0.    0.    0.01  0.02  0.    0.    0.  ]"
       ]
      },
      {
       "output_type": "stream",
       "stream": "stdout",
       "text": [
        "\n",
        "[ 0.    0.99  0.    0.    0.    0.    0.    0.    0.    0.  ]"
       ]
      },
      {
       "output_type": "stream",
       "stream": "stdout",
       "text": [
        "\n",
        "[ 0.03  0.08  0.72  0.03  0.02  0.01  0.01  0.05  0.02  0.02]"
       ]
      },
      {
       "output_type": "stream",
       "stream": "stdout",
       "text": [
        "\n",
        "[ 0.01  0.04  0.01  0.78  0.    0.07  0.01  0.02  0.03  0.03]"
       ]
      },
      {
       "output_type": "stream",
       "stream": "stdout",
       "text": [
        "\n",
        "[ 0.    0.04  0.01  0.    0.71  0.    0.01  0.03  0.    0.2 ]"
       ]
      },
      {
       "output_type": "stream",
       "stream": "stdout",
       "text": [
        "\n",
        "[ 0.02  0.04  0.    0.09  0.02  0.71  0.03  0.01  0.03  0.04]"
       ]
      },
      {
       "output_type": "stream",
       "stream": "stdout",
       "text": [
        "\n",
        "[ 0.02  0.03  0.    0.    0.01  0.01  0.91  0.    0.01  0.  ]"
       ]
      },
      {
       "output_type": "stream",
       "stream": "stdout",
       "text": [
        "\n",
        "[ 0.    0.04  0.    0.    0.02  0.    0.    0.83  0.    0.09]"
       ]
      },
      {
       "output_type": "stream",
       "stream": "stdout",
       "text": [
        "\n",
        "[ 0.02  0.07  0.02  0.06  0.02  0.06  0.02  0.02  0.65  0.06]"
       ]
      },
      {
       "output_type": "stream",
       "stream": "stdout",
       "text": [
        "\n",
        "[ 0.    0.01  0.    0.01  0.07  0.01  0.    0.09  0.    0.79]"
       ]
      },
      {
       "output_type": "stream",
       "stream": "stdout",
       "text": [
        "\n",
        "Saving plot_data...\n",
        "Start testing...\n",
        "[array([ 0.063,  0.063]), array([ 0.066,  0.057]), array([ 0.065,  0.053]), array([ 0.063,  0.054]), array([ 0.067,  0.057]), array([ 0.072,  0.062]), array([ 0.082,  0.058]), array([ 0.106,  0.086])]"
       ]
      },
      {
       "output_type": "stream",
       "stream": "stdout",
       "text": [
        "\n",
        "== Fold 7 ==\n",
        "Fitting model...\n",
        "Finding mean for k=1..."
       ]
      },
      {
       "output_type": "stream",
       "stream": "stdout",
       "text": [
        "\n",
        "[ 1.  0.  0.  0.  0.  0.  0.  0.  0.  0.]\n",
        "[ 0.  1.  0.  0.  0.  0.  0.  0.  0.  0.]"
       ]
      },
      {
       "output_type": "stream",
       "stream": "stdout",
       "text": [
        "\n",
        "[ 0.  0.  1.  0.  0.  0.  0.  0.  0.  0.]\n",
        "[ 0.  0.  0.  1.  0.  0.  0.  0.  0.  0.]"
       ]
      },
      {
       "output_type": "stream",
       "stream": "stdout",
       "text": [
        "\n",
        "[ 0.  0.  0.  0.  1.  0.  0.  0.  0.  0.]\n",
        "[ 0.  0.  0.  0.  0.  1.  0.  0.  0.  0.]"
       ]
      },
      {
       "output_type": "stream",
       "stream": "stdout",
       "text": [
        "\n",
        "[ 0.  0.  0.  0.  0.  0.  1.  0.  0.  0.]\n",
        "[ 0.  0.  0.  0.  0.  0.  0.  1.  0.  0.]"
       ]
      },
      {
       "output_type": "stream",
       "stream": "stdout",
       "text": [
        "\n",
        "[ 0.  0.  0.  0.  0.  0.  0.  0.  1.  0.]\n",
        "[ 0.  0.  0.  0.  0.  0.  0.  0.  0.  1.]"
       ]
      },
      {
       "output_type": "stream",
       "stream": "stdout",
       "text": [
        "\n",
        "Saving plot_data...\n",
        "Start testing...\n",
        "Finding mean for k=3..."
       ]
      },
      {
       "output_type": "stream",
       "stream": "stdout",
       "text": [
        "\n",
        "[ 0.99  0.    0.    0.    0.    0.    0.    0.    0.    0.  ]"
       ]
      },
      {
       "output_type": "stream",
       "stream": "stdout",
       "text": [
        "\n",
        "[ 0.  1.  0.  0.  0.  0.  0.  0.  0.  0.]"
       ]
      },
      {
       "output_type": "stream",
       "stream": "stdout",
       "text": [
        "\n",
        "[ 0.01  0.01  0.94  0.01  0.    0.    0.    0.02  0.01  0.  ]"
       ]
      },
      {
       "output_type": "stream",
       "stream": "stdout",
       "text": [
        "\n",
        "[ 0.    0.01  0.01  0.94  0.    0.02  0.    0.01  0.01  0.01]"
       ]
      },
      {
       "output_type": "stream",
       "stream": "stdout",
       "text": [
        "\n",
        "[ 0.    0.01  0.    0.    0.94  0.    0.    0.01  0.    0.04]"
       ]
      },
      {
       "output_type": "stream",
       "stream": "stdout",
       "text": [
        "\n",
        "[ 0.01  0.    0.    0.03  0.    0.93  0.01  0.    0.01  0.01]"
       ]
      },
      {
       "output_type": "stream",
       "stream": "stdout",
       "text": [
        "\n",
        "[ 0.01  0.    0.    0.    0.    0.01  0.98  0.    0.    0.  ]"
       ]
      },
      {
       "output_type": "stream",
       "stream": "stdout",
       "text": [
        "\n",
        "[ 0.    0.01  0.    0.    0.01  0.    0.    0.96  0.    0.02]"
       ]
      },
      {
       "output_type": "stream",
       "stream": "stdout",
       "text": [
        "\n",
        "[ 0.    0.02  0.01  0.03  0.01  0.02  0.01  0.01  0.89  0.02]"
       ]
      },
      {
       "output_type": "stream",
       "stream": "stdout",
       "text": [
        "\n",
        "[ 0.    0.    0.    0.01  0.01  0.    0.    0.02  0.    0.95]"
       ]
      },
      {
       "output_type": "stream",
       "stream": "stdout",
       "text": [
        "\n",
        "Saving plot_data...\n",
        "Start testing...\n",
        "Finding mean for k=5..."
       ]
      },
      {
       "output_type": "stream",
       "stream": "stdout",
       "text": [
        "\n",
        "[ 0.99  0.    0.    0.    0.    0.    0.    0.    0.    0.  ]"
       ]
      },
      {
       "output_type": "stream",
       "stream": "stdout",
       "text": [
        "\n",
        "[ 0.    0.99  0.    0.    0.    0.    0.    0.    0.    0.  ]"
       ]
      },
      {
       "output_type": "stream",
       "stream": "stdout",
       "text": [
        "\n",
        "[ 0.01  0.02  0.91  0.01  0.01  0.    0.    0.02  0.01  0.01]"
       ]
      },
      {
       "output_type": "stream",
       "stream": "stdout",
       "text": [
        "\n",
        "[ 0.    0.01  0.01  0.92  0.    0.03  0.    0.01  0.01  0.01]"
       ]
      },
      {
       "output_type": "stream",
       "stream": "stdout",
       "text": [
        "\n",
        "[ 0.    0.01  0.    0.    0.9   0.    0.    0.01  0.    0.07]"
       ]
      },
      {
       "output_type": "stream",
       "stream": "stdout",
       "text": [
        "\n",
        "[ 0.01  0.    0.    0.04  0.01  0.89  0.02  0.    0.01  0.02]"
       ]
      },
      {
       "output_type": "stream",
       "stream": "stdout",
       "text": [
        "\n",
        "[ 0.01  0.    0.    0.    0.    0.01  0.97  0.    0.    0.  ]"
       ]
      },
      {
       "output_type": "stream",
       "stream": "stdout",
       "text": [
        "\n",
        "[ 0.    0.02  0.    0.    0.01  0.    0.    0.93  0.    0.03]"
       ]
      },
      {
       "output_type": "stream",
       "stream": "stdout",
       "text": [
        "\n",
        "[ 0.01  0.02  0.01  0.03  0.01  0.04  0.01  0.01  0.85  0.02]"
       ]
      },
      {
       "output_type": "stream",
       "stream": "stdout",
       "text": [
        "\n",
        "[ 0.    0.    0.    0.01  0.02  0.    0.    0.03  0.    0.93]"
       ]
      },
      {
       "output_type": "stream",
       "stream": "stdout",
       "text": [
        "\n",
        "Saving plot_data...\n",
        "Start testing...\n",
        "Finding mean for k=7..."
       ]
      },
      {
       "output_type": "stream",
       "stream": "stdout",
       "text": [
        "\n",
        "[ 0.98  0.    0.    0.    0.    0.    0.01  0.    0.    0.  ]"
       ]
      },
      {
       "output_type": "stream",
       "stream": "stdout",
       "text": [
        "\n",
        "[ 0.    0.99  0.    0.    0.    0.    0.    0.    0.    0.  ]"
       ]
      },
      {
       "output_type": "stream",
       "stream": "stdout",
       "text": [
        "\n",
        "[ 0.01  0.02  0.89  0.01  0.01  0.    0.01  0.03  0.01  0.01]"
       ]
      },
      {
       "output_type": "stream",
       "stream": "stdout",
       "text": [
        "\n",
        "[ 0.    0.01  0.01  0.9   0.    0.03  0.    0.01  0.02  0.01]"
       ]
      },
      {
       "output_type": "stream",
       "stream": "stdout",
       "text": [
        "\n",
        "[ 0.    0.02  0.    0.    0.88  0.    0.01  0.01  0.    0.08]"
       ]
      },
      {
       "output_type": "stream",
       "stream": "stdout",
       "text": [
        "\n",
        "[ 0.01  0.01  0.    0.04  0.01  0.88  0.02  0.    0.01  0.02]"
       ]
      },
      {
       "output_type": "stream",
       "stream": "stdout",
       "text": [
        "\n",
        "[ 0.01  0.01  0.    0.    0.    0.01  0.97  0.    0.    0.  ]"
       ]
      },
      {
       "output_type": "stream",
       "stream": "stdout",
       "text": [
        "\n",
        "[ 0.    0.02  0.    0.    0.01  0.    0.    0.92  0.    0.04]"
       ]
      },
      {
       "output_type": "stream",
       "stream": "stdout",
       "text": [
        "\n",
        "[ 0.01  0.03  0.01  0.04  0.01  0.04  0.01  0.01  0.82  0.03]"
       ]
      },
      {
       "output_type": "stream",
       "stream": "stdout",
       "text": [
        "\n",
        "[ 0.    0.    0.    0.01  0.03  0.    0.    0.04  0.    0.91]"
       ]
      },
      {
       "output_type": "stream",
       "stream": "stdout",
       "text": [
        "\n",
        "Saving plot_data...\n",
        "Start testing...\n",
        "Finding mean for k=9..."
       ]
      },
      {
       "output_type": "stream",
       "stream": "stdout",
       "text": [
        "\n",
        "[ 0.98  0.    0.    0.    0.    0.    0.01  0.    0.    0.  ]"
       ]
      },
      {
       "output_type": "stream",
       "stream": "stdout",
       "text": [
        "\n",
        "[ 0.    0.99  0.    0.    0.    0.    0.    0.    0.    0.  ]"
       ]
      },
      {
       "output_type": "stream",
       "stream": "stdout",
       "text": [
        "\n",
        "[ 0.02  0.02  0.87  0.01  0.01  0.    0.01  0.03  0.01  0.01]"
       ]
      },
      {
       "output_type": "stream",
       "stream": "stdout",
       "text": [
        "\n",
        "[ 0.    0.01  0.01  0.89  0.    0.04  0.    0.01  0.02  0.01]"
       ]
      },
      {
       "output_type": "stream",
       "stream": "stdout",
       "text": [
        "\n",
        "[ 0.    0.02  0.    0.    0.86  0.    0.01  0.01  0.    0.1 ]"
       ]
      },
      {
       "output_type": "stream",
       "stream": "stdout",
       "text": [
        "\n",
        "[ 0.01  0.01  0.    0.05  0.01  0.86  0.02  0.    0.02  0.02]"
       ]
      },
      {
       "output_type": "stream",
       "stream": "stdout",
       "text": [
        "\n",
        "[ 0.02  0.01  0.    0.    0.    0.01  0.96  0.    0.    0.  ]"
       ]
      },
      {
       "output_type": "stream",
       "stream": "stdout",
       "text": [
        "\n",
        "[ 0.    0.02  0.    0.    0.02  0.    0.    0.91  0.    0.04]"
       ]
      },
      {
       "output_type": "stream",
       "stream": "stdout",
       "text": [
        "\n",
        "[ 0.01  0.03  0.01  0.04  0.01  0.04  0.01  0.01  0.8   0.03]"
       ]
      },
      {
       "output_type": "stream",
       "stream": "stdout",
       "text": [
        "\n",
        "[ 0.    0.01  0.    0.01  0.03  0.    0.    0.05  0.    0.89]"
       ]
      },
      {
       "output_type": "stream",
       "stream": "stdout",
       "text": [
        "\n",
        "Saving plot_data...\n",
        "Start testing...\n",
        "Finding mean for k=11..."
       ]
      },
      {
       "output_type": "stream",
       "stream": "stdout",
       "text": [
        "\n",
        "[ 0.98  0.    0.    0.    0.    0.    0.01  0.    0.    0.  ]"
       ]
      },
      {
       "output_type": "stream",
       "stream": "stdout",
       "text": [
        "\n",
        "[ 0.    0.99  0.    0.    0.    0.    0.    0.    0.    0.  ]"
       ]
      },
      {
       "output_type": "stream",
       "stream": "stdout",
       "text": [
        "\n",
        "[ 0.02  0.03  0.86  0.02  0.01  0.    0.01  0.03  0.01  0.01]"
       ]
      },
      {
       "output_type": "stream",
       "stream": "stdout",
       "text": [
        "\n",
        "[ 0.    0.02  0.01  0.88  0.    0.04  0.    0.01  0.02  0.02]"
       ]
      },
      {
       "output_type": "stream",
       "stream": "stdout",
       "text": [
        "\n",
        "[ 0.    0.02  0.    0.    0.84  0.    0.01  0.02  0.    0.11]"
       ]
      },
      {
       "output_type": "stream",
       "stream": "stdout",
       "text": [
        "\n",
        "[ 0.01  0.01  0.    0.06  0.01  0.84  0.02  0.    0.02  0.02]"
       ]
      },
      {
       "output_type": "stream",
       "stream": "stdout",
       "text": [
        "\n",
        "[ 0.02  0.01  0.    0.    0.    0.01  0.96  0.    0.    0.  ]"
       ]
      },
      {
       "output_type": "stream",
       "stream": "stdout",
       "text": [
        "\n",
        "[ 0.    0.02  0.    0.    0.02  0.    0.    0.9   0.    0.05]"
       ]
      },
      {
       "output_type": "stream",
       "stream": "stdout",
       "text": [
        "\n",
        "[ 0.01  0.04  0.01  0.04  0.01  0.05  0.01  0.01  0.78  0.03]"
       ]
      },
      {
       "output_type": "stream",
       "stream": "stdout",
       "text": [
        "\n",
        "[ 0.    0.01  0.    0.01  0.04  0.    0.    0.05  0.    0.88]"
       ]
      },
      {
       "output_type": "stream",
       "stream": "stdout",
       "text": [
        "\n",
        "Saving plot_data...\n",
        "Start testing...\n",
        "Finding mean for k=20..."
       ]
      },
      {
       "output_type": "stream",
       "stream": "stdout",
       "text": [
        "\n",
        "[ 0.97  0.    0.    0.    0.    0.01  0.01  0.    0.    0.  ]"
       ]
      },
      {
       "output_type": "stream",
       "stream": "stdout",
       "text": [
        "\n",
        "[ 0.    0.99  0.    0.    0.    0.    0.    0.    0.    0.  ]"
       ]
      },
      {
       "output_type": "stream",
       "stream": "stdout",
       "text": [
        "\n",
        "[ 0.03  0.05  0.8   0.02  0.01  0.01  0.01  0.04  0.02  0.01]"
       ]
      },
      {
       "output_type": "stream",
       "stream": "stdout",
       "text": [
        "\n",
        "[ 0.01  0.02  0.01  0.84  0.    0.05  0.    0.01  0.02  0.02]"
       ]
      },
      {
       "output_type": "stream",
       "stream": "stdout",
       "text": [
        "\n",
        "[ 0.    0.03  0.    0.    0.79  0.    0.01  0.02  0.    0.15]"
       ]
      },
      {
       "output_type": "stream",
       "stream": "stdout",
       "text": [
        "\n",
        "[ 0.01  0.02  0.    0.07  0.01  0.79  0.02  0.01  0.02  0.03]"
       ]
      },
      {
       "output_type": "stream",
       "stream": "stdout",
       "text": [
        "\n",
        "[ 0.02  0.01  0.    0.    0.01  0.01  0.94  0.    0.    0.  ]"
       ]
      },
      {
       "output_type": "stream",
       "stream": "stdout",
       "text": [
        "\n",
        "[ 0.    0.03  0.    0.    0.02  0.    0.    0.87  0.    0.07]"
       ]
      },
      {
       "output_type": "stream",
       "stream": "stdout",
       "text": [
        "\n",
        "[ 0.01  0.05  0.01  0.05  0.02  0.05  0.02  0.01  0.73  0.04]"
       ]
      },
      {
       "output_type": "stream",
       "stream": "stdout",
       "text": [
        "\n",
        "[ 0.01  0.01  0.    0.01  0.05  0.    0.    0.07  0.    0.85]"
       ]
      },
      {
       "output_type": "stream",
       "stream": "stdout",
       "text": [
        "\n",
        "Saving plot_data...\n",
        "Start testing...\n",
        "Finding mean for k=40..."
       ]
      },
      {
       "output_type": "stream",
       "stream": "stdout",
       "text": [
        "\n",
        "[ 0.95  0.01  0.    0.    0.    0.01  0.02  0.    0.    0.  ]"
       ]
      },
      {
       "output_type": "stream",
       "stream": "stdout",
       "text": [
        "\n",
        "[ 0.    0.99  0.    0.    0.    0.    0.    0.    0.    0.  ]"
       ]
      },
      {
       "output_type": "stream",
       "stream": "stdout",
       "text": [
        "\n",
        "[ 0.03  0.08  0.72  0.04  0.02  0.01  0.01  0.05  0.02  0.02]"
       ]
      },
      {
       "output_type": "stream",
       "stream": "stdout",
       "text": [
        "\n",
        "[ 0.01  0.04  0.02  0.79  0.    0.06  0.01  0.02  0.03  0.03]"
       ]
      },
      {
       "output_type": "stream",
       "stream": "stdout",
       "text": [
        "\n",
        "[ 0.    0.04  0.    0.    0.71  0.    0.01  0.03  0.    0.2 ]"
       ]
      },
      {
       "output_type": "stream",
       "stream": "stdout",
       "text": [
        "\n",
        "[ 0.02  0.04  0.    0.09  0.02  0.71  0.03  0.01  0.04  0.04]"
       ]
      },
      {
       "output_type": "stream",
       "stream": "stdout",
       "text": [
        "\n",
        "[ 0.03  0.02  0.    0.    0.01  0.01  0.91  0.    0.01  0.  ]"
       ]
      },
      {
       "output_type": "stream",
       "stream": "stdout",
       "text": [
        "\n",
        "[ 0.    0.04  0.    0.    0.02  0.    0.    0.82  0.    0.09]"
       ]
      },
      {
       "output_type": "stream",
       "stream": "stdout",
       "text": [
        "\n",
        "[ 0.02  0.07  0.02  0.07  0.02  0.06  0.02  0.02  0.65  0.06]"
       ]
      },
      {
       "output_type": "stream",
       "stream": "stdout",
       "text": [
        "\n",
        "[ 0.01  0.01  0.    0.01  0.07  0.01  0.    0.09  0.    0.79]"
       ]
      },
      {
       "output_type": "stream",
       "stream": "stdout",
       "text": [
        "\n",
        "Saving plot_data...\n",
        "Start testing...\n",
        "[array([ 0.073,  0.073]), array([ 0.06 ,  0.062]), array([ 0.067,  0.063]), array([ 0.071,  0.062]), array([ 0.072,  0.068]), array([ 0.071,  0.059]), array([ 0.078,  0.068]), array([ 0.104,  0.079])]"
       ]
      },
      {
       "output_type": "stream",
       "stream": "stdout",
       "text": [
        "\n",
        "== Fold 8 ==\n",
        "Fitting model...\n",
        "Finding mean for k=1..."
       ]
      },
      {
       "output_type": "stream",
       "stream": "stdout",
       "text": [
        "\n",
        "[ 1.  0.  0.  0.  0.  0.  0.  0.  0.  0.]\n",
        "[ 0.  1.  0.  0.  0.  0.  0.  0.  0.  0.]"
       ]
      },
      {
       "output_type": "stream",
       "stream": "stdout",
       "text": [
        "\n",
        "[ 0.  0.  1.  0.  0.  0.  0.  0.  0.  0.]\n",
        "[ 0.  0.  0.  1.  0.  0.  0.  0.  0.  0.]"
       ]
      },
      {
       "output_type": "stream",
       "stream": "stdout",
       "text": [
        "\n",
        "[ 0.  0.  0.  0.  1.  0.  0.  0.  0.  0.]\n",
        "[ 0.  0.  0.  0.  0.  1.  0.  0.  0.  0.]"
       ]
      },
      {
       "output_type": "stream",
       "stream": "stdout",
       "text": [
        "\n",
        "[ 0.  0.  0.  0.  0.  0.  1.  0.  0.  0.]\n",
        "[ 0.  0.  0.  0.  0.  0.  0.  1.  0.  0.]"
       ]
      },
      {
       "output_type": "stream",
       "stream": "stdout",
       "text": [
        "\n",
        "[ 0.  0.  0.  0.  0.  0.  0.  0.  1.  0.]\n",
        "[ 0.  0.  0.  0.  0.  0.  0.  0.  0.  1.]"
       ]
      },
      {
       "output_type": "stream",
       "stream": "stdout",
       "text": [
        "\n",
        "Saving plot_data...\n",
        "Start testing...\n",
        "Finding mean for k=3..."
       ]
      },
      {
       "output_type": "stream",
       "stream": "stdout",
       "text": [
        "\n",
        "[ 0.99  0.    0.    0.    0.    0.    0.    0.    0.    0.  ]"
       ]
      },
      {
       "output_type": "stream",
       "stream": "stdout",
       "text": [
        "\n",
        "[ 0.  1.  0.  0.  0.  0.  0.  0.  0.  0.]"
       ]
      },
      {
       "output_type": "stream",
       "stream": "stdout",
       "text": [
        "\n",
        "[ 0.01  0.01  0.94  0.01  0.    0.    0.    0.02  0.01  0.  ]"
       ]
      },
      {
       "output_type": "stream",
       "stream": "stdout",
       "text": [
        "\n",
        "[ 0.    0.01  0.    0.95  0.    0.02  0.    0.01  0.01  0.01]"
       ]
      },
      {
       "output_type": "stream",
       "stream": "stdout",
       "text": [
        "\n",
        "[ 0.    0.01  0.    0.    0.94  0.    0.    0.01  0.    0.04]"
       ]
      },
      {
       "output_type": "stream",
       "stream": "stdout",
       "text": [
        "\n",
        "[ 0.01  0.    0.    0.03  0.    0.92  0.01  0.    0.01  0.01]"
       ]
      },
      {
       "output_type": "stream",
       "stream": "stdout",
       "text": [
        "\n",
        "[ 0.01  0.    0.    0.    0.    0.01  0.98  0.    0.    0.  ]"
       ]
      },
      {
       "output_type": "stream",
       "stream": "stdout",
       "text": [
        "\n",
        "[ 0.    0.01  0.    0.    0.01  0.    0.    0.95  0.    0.02]"
       ]
      },
      {
       "output_type": "stream",
       "stream": "stdout",
       "text": [
        "\n",
        "[ 0.    0.01  0.01  0.02  0.01  0.03  0.01  0.01  0.89  0.02]"
       ]
      },
      {
       "output_type": "stream",
       "stream": "stdout",
       "text": [
        "\n",
        "[ 0.    0.    0.    0.01  0.01  0.    0.    0.02  0.    0.95]"
       ]
      },
      {
       "output_type": "stream",
       "stream": "stdout",
       "text": [
        "\n",
        "Saving plot_data...\n",
        "Start testing...\n",
        "Finding mean for k=5..."
       ]
      },
      {
       "output_type": "stream",
       "stream": "stdout",
       "text": [
        "\n",
        "[ 0.99  0.    0.    0.    0.    0.    0.    0.    0.    0.  ]"
       ]
      },
      {
       "output_type": "stream",
       "stream": "stdout",
       "text": [
        "\n",
        "[ 0.    0.99  0.    0.    0.    0.    0.    0.    0.    0.  ]"
       ]
      },
      {
       "output_type": "stream",
       "stream": "stdout",
       "text": [
        "\n",
        "[ 0.01  0.01  0.91  0.01  0.01  0.    0.01  0.02  0.01  0.01]"
       ]
      },
      {
       "output_type": "stream",
       "stream": "stdout",
       "text": [
        "\n",
        "[ 0.    0.01  0.01  0.92  0.    0.03  0.    0.01  0.01  0.01]"
       ]
      },
      {
       "output_type": "stream",
       "stream": "stdout",
       "text": [
        "\n",
        "[ 0.    0.01  0.    0.    0.9   0.    0.    0.01  0.    0.06]"
       ]
      },
      {
       "output_type": "stream",
       "stream": "stdout",
       "text": [
        "\n",
        "[ 0.01  0.    0.    0.04  0.01  0.89  0.02  0.    0.01  0.02]"
       ]
      },
      {
       "output_type": "stream",
       "stream": "stdout",
       "text": [
        "\n",
        "[ 0.01  0.    0.    0.    0.    0.01  0.97  0.    0.    0.  ]"
       ]
      },
      {
       "output_type": "stream",
       "stream": "stdout",
       "text": [
        "\n",
        "[ 0.    0.02  0.    0.    0.01  0.    0.    0.93  0.    0.03]"
       ]
      },
      {
       "output_type": "stream",
       "stream": "stdout",
       "text": [
        "\n",
        "[ 0.01  0.02  0.01  0.03  0.01  0.04  0.01  0.01  0.85  0.02]"
       ]
      },
      {
       "output_type": "stream",
       "stream": "stdout",
       "text": [
        "\n",
        "[ 0.    0.    0.    0.01  0.02  0.    0.    0.03  0.    0.92]"
       ]
      },
      {
       "output_type": "stream",
       "stream": "stdout",
       "text": [
        "\n",
        "Saving plot_data...\n",
        "Start testing...\n",
        "Finding mean for k=7..."
       ]
      },
      {
       "output_type": "stream",
       "stream": "stdout",
       "text": [
        "\n",
        "[ 0.98  0.    0.    0.    0.    0.    0.01  0.    0.    0.  ]"
       ]
      },
      {
       "output_type": "stream",
       "stream": "stdout",
       "text": [
        "\n",
        "[ 0.    0.99  0.    0.    0.    0.    0.    0.    0.    0.  ]"
       ]
      },
      {
       "output_type": "stream",
       "stream": "stdout",
       "text": [
        "\n",
        "[ 0.02  0.02  0.89  0.01  0.01  0.    0.01  0.02  0.01  0.01]"
       ]
      },
      {
       "output_type": "stream",
       "stream": "stdout",
       "text": [
        "\n",
        "[ 0.    0.01  0.01  0.91  0.    0.03  0.    0.01  0.01  0.01]"
       ]
      },
      {
       "output_type": "stream",
       "stream": "stdout",
       "text": [
        "\n",
        "[ 0.    0.02  0.    0.    0.87  0.    0.01  0.01  0.    0.09]"
       ]
      },
      {
       "output_type": "stream",
       "stream": "stdout",
       "text": [
        "\n",
        "[ 0.01  0.01  0.    0.05  0.01  0.87  0.02  0.    0.02  0.02]"
       ]
      },
      {
       "output_type": "stream",
       "stream": "stdout",
       "text": [
        "\n",
        "[ 0.01  0.01  0.    0.    0.    0.01  0.96  0.    0.    0.  ]"
       ]
      },
      {
       "output_type": "stream",
       "stream": "stdout",
       "text": [
        "\n",
        "[ 0.    0.02  0.    0.    0.01  0.    0.    0.92  0.    0.04]"
       ]
      },
      {
       "output_type": "stream",
       "stream": "stdout",
       "text": [
        "\n",
        "[ 0.01  0.03  0.01  0.04  0.01  0.04  0.01  0.01  0.82  0.03]"
       ]
      },
      {
       "output_type": "stream",
       "stream": "stdout",
       "text": [
        "\n",
        "[ 0.    0.    0.    0.01  0.03  0.    0.    0.04  0.    0.91]"
       ]
      },
      {
       "output_type": "stream",
       "stream": "stdout",
       "text": [
        "\n",
        "Saving plot_data...\n",
        "Start testing...\n",
        "Finding mean for k=9..."
       ]
      },
      {
       "output_type": "stream",
       "stream": "stdout",
       "text": [
        "\n",
        "[ 0.98  0.    0.    0.    0.    0.    0.01  0.    0.    0.  ]"
       ]
      },
      {
       "output_type": "stream",
       "stream": "stdout",
       "text": [
        "\n",
        "[ 0.    0.99  0.    0.    0.    0.    0.    0.    0.    0.  ]"
       ]
      },
      {
       "output_type": "stream",
       "stream": "stdout",
       "text": [
        "\n",
        "[ 0.02  0.02  0.88  0.01  0.01  0.    0.01  0.03  0.01  0.01]"
       ]
      },
      {
       "output_type": "stream",
       "stream": "stdout",
       "text": [
        "\n",
        "[ 0.    0.01  0.01  0.89  0.    0.04  0.    0.01  0.02  0.01]"
       ]
      },
      {
       "output_type": "stream",
       "stream": "stdout",
       "text": [
        "\n",
        "[ 0.    0.02  0.    0.    0.85  0.    0.01  0.02  0.    0.1 ]"
       ]
      },
      {
       "output_type": "stream",
       "stream": "stdout",
       "text": [
        "\n",
        "[ 0.01  0.01  0.    0.05  0.01  0.85  0.02  0.    0.02  0.02]"
       ]
      },
      {
       "output_type": "stream",
       "stream": "stdout",
       "text": [
        "\n",
        "[ 0.02  0.01  0.    0.    0.    0.01  0.96  0.    0.    0.  ]"
       ]
      },
      {
       "output_type": "stream",
       "stream": "stdout",
       "text": [
        "\n",
        "[ 0.    0.02  0.    0.    0.02  0.    0.    0.91  0.    0.04]"
       ]
      },
      {
       "output_type": "stream",
       "stream": "stdout",
       "text": [
        "\n",
        "[ 0.01  0.03  0.01  0.04  0.01  0.04  0.01  0.01  0.8   0.03]"
       ]
      },
      {
       "output_type": "stream",
       "stream": "stdout",
       "text": [
        "\n",
        "[ 0.    0.01  0.    0.01  0.03  0.    0.    0.05  0.    0.89]"
       ]
      },
      {
       "output_type": "stream",
       "stream": "stdout",
       "text": [
        "\n",
        "Saving plot_data...\n",
        "Start testing...\n",
        "Finding mean for k=11..."
       ]
      },
      {
       "output_type": "stream",
       "stream": "stdout",
       "text": [
        "\n",
        "[ 0.98  0.    0.    0.    0.    0.    0.01  0.    0.    0.  ]"
       ]
      },
      {
       "output_type": "stream",
       "stream": "stdout",
       "text": [
        "\n",
        "[ 0.    0.99  0.    0.    0.    0.    0.    0.    0.    0.  ]"
       ]
      },
      {
       "output_type": "stream",
       "stream": "stdout",
       "text": [
        "\n",
        "[ 0.02  0.03  0.86  0.02  0.01  0.    0.01  0.03  0.01  0.01]"
       ]
      },
      {
       "output_type": "stream",
       "stream": "stdout",
       "text": [
        "\n",
        "[ 0.01  0.02  0.01  0.88  0.    0.04  0.    0.01  0.02  0.02]"
       ]
      },
      {
       "output_type": "stream",
       "stream": "stdout",
       "text": [
        "\n",
        "[ 0.    0.02  0.    0.    0.84  0.    0.01  0.02  0.    0.11]"
       ]
      },
      {
       "output_type": "stream",
       "stream": "stdout",
       "text": [
        "\n",
        "[ 0.01  0.01  0.    0.06  0.01  0.84  0.02  0.01  0.02  0.02]"
       ]
      },
      {
       "output_type": "stream",
       "stream": "stdout",
       "text": [
        "\n",
        "[ 0.02  0.01  0.    0.    0.    0.01  0.95  0.    0.    0.  ]"
       ]
      },
      {
       "output_type": "stream",
       "stream": "stdout",
       "text": [
        "\n",
        "[ 0.    0.02  0.    0.    0.02  0.    0.    0.9   0.    0.05]"
       ]
      },
      {
       "output_type": "stream",
       "stream": "stdout",
       "text": [
        "\n",
        "[ 0.01  0.03  0.01  0.05  0.01  0.05  0.01  0.01  0.78  0.04]"
       ]
      },
      {
       "output_type": "stream",
       "stream": "stdout",
       "text": [
        "\n",
        "[ 0.    0.01  0.    0.01  0.04  0.    0.    0.05  0.    0.88]"
       ]
      },
      {
       "output_type": "stream",
       "stream": "stdout",
       "text": [
        "\n",
        "Saving plot_data...\n",
        "Start testing...\n",
        "Finding mean for k=20..."
       ]
      },
      {
       "output_type": "stream",
       "stream": "stdout",
       "text": [
        "\n",
        "[ 0.97  0.    0.    0.    0.    0.01  0.01  0.    0.    0.  ]"
       ]
      },
      {
       "output_type": "stream",
       "stream": "stdout",
       "text": [
        "\n",
        "[ 0.    0.99  0.    0.    0.    0.    0.    0.    0.    0.  ]"
       ]
      },
      {
       "output_type": "stream",
       "stream": "stdout",
       "text": [
        "\n",
        "[ 0.03  0.04  0.81  0.02  0.02  0.    0.01  0.04  0.02  0.02]"
       ]
      },
      {
       "output_type": "stream",
       "stream": "stdout",
       "text": [
        "\n",
        "[ 0.01  0.02  0.01  0.84  0.    0.05  0.    0.01  0.02  0.02]"
       ]
      },
      {
       "output_type": "stream",
       "stream": "stdout",
       "text": [
        "\n",
        "[ 0.    0.03  0.    0.    0.78  0.    0.01  0.02  0.    0.15]"
       ]
      },
      {
       "output_type": "stream",
       "stream": "stdout",
       "text": [
        "\n",
        "[ 0.01  0.02  0.    0.07  0.01  0.79  0.03  0.01  0.03  0.03]"
       ]
      },
      {
       "output_type": "stream",
       "stream": "stdout",
       "text": [
        "\n",
        "[ 0.02  0.01  0.    0.    0.01  0.01  0.94  0.    0.    0.  ]"
       ]
      },
      {
       "output_type": "stream",
       "stream": "stdout",
       "text": [
        "\n",
        "[ 0.    0.03  0.    0.    0.02  0.    0.    0.87  0.    0.06]"
       ]
      },
      {
       "output_type": "stream",
       "stream": "stdout",
       "text": [
        "\n",
        "[ 0.01  0.05  0.01  0.06  0.01  0.05  0.01  0.01  0.73  0.05]"
       ]
      },
      {
       "output_type": "stream",
       "stream": "stdout",
       "text": [
        "\n",
        "[ 0.01  0.01  0.    0.01  0.05  0.    0.    0.07  0.    0.84]"
       ]
      },
      {
       "output_type": "stream",
       "stream": "stdout",
       "text": [
        "\n",
        "Saving plot_data...\n",
        "Start testing...\n",
        "Finding mean for k=40..."
       ]
      },
      {
       "output_type": "stream",
       "stream": "stdout",
       "text": [
        "\n",
        "[ 0.95  0.01  0.    0.    0.    0.01  0.02  0.    0.    0.  ]"
       ]
      },
      {
       "output_type": "stream",
       "stream": "stdout",
       "text": [
        "\n",
        "[ 0.    0.99  0.    0.    0.    0.    0.    0.    0.    0.  ]"
       ]
      },
      {
       "output_type": "stream",
       "stream": "stdout",
       "text": [
        "\n",
        "[ 0.03  0.08  0.72  0.04  0.02  0.01  0.01  0.05  0.02  0.02]"
       ]
      },
      {
       "output_type": "stream",
       "stream": "stdout",
       "text": [
        "\n",
        "[ 0.01  0.04  0.01  0.79  0.    0.06  0.01  0.02  0.03  0.03]"
       ]
      },
      {
       "output_type": "stream",
       "stream": "stdout",
       "text": [
        "\n",
        "[ 0.    0.04  0.    0.    0.7   0.    0.01  0.03  0.    0.2 ]"
       ]
      },
      {
       "output_type": "stream",
       "stream": "stdout",
       "text": [
        "\n",
        "[ 0.02  0.04  0.    0.09  0.02  0.71  0.03  0.01  0.04  0.04]"
       ]
      },
      {
       "output_type": "stream",
       "stream": "stdout",
       "text": [
        "\n",
        "[ 0.03  0.03  0.    0.    0.01  0.02  0.91  0.    0.01  0.  ]"
       ]
      },
      {
       "output_type": "stream",
       "stream": "stdout",
       "text": [
        "\n",
        "[ 0.    0.04  0.    0.    0.02  0.    0.    0.83  0.    0.09]"
       ]
      },
      {
       "output_type": "stream",
       "stream": "stdout",
       "text": [
        "\n",
        "[ 0.02  0.07  0.02  0.07  0.02  0.06  0.02  0.02  0.65  0.06]"
       ]
      },
      {
       "output_type": "stream",
       "stream": "stdout",
       "text": [
        "\n",
        "[ 0.01  0.01  0.    0.01  0.08  0.01  0.    0.09  0.    0.79]"
       ]
      },
      {
       "output_type": "stream",
       "stream": "stdout",
       "text": [
        "\n",
        "Saving plot_data...\n",
        "Start testing...\n",
        "[array([ 0.058,  0.058]), array([ 0.062,  0.055]), array([ 0.058,  0.055]), array([ 0.058,  0.057]), array([ 0.058,  0.054]), array([ 0.06 ,  0.054]), array([ 0.075,  0.064]), array([ 0.095,  0.077])]"
       ]
      },
      {
       "output_type": "stream",
       "stream": "stdout",
       "text": [
        "\n",
        "== Fold 9 ==\n",
        "Fitting model...\n",
        "Finding mean for k=1..."
       ]
      },
      {
       "output_type": "stream",
       "stream": "stdout",
       "text": [
        "\n",
        "[ 1.  0.  0.  0.  0.  0.  0.  0.  0.  0.]\n",
        "[ 0.  1.  0.  0.  0.  0.  0.  0.  0.  0.]"
       ]
      },
      {
       "output_type": "stream",
       "stream": "stdout",
       "text": [
        "\n",
        "[ 0.  0.  1.  0.  0.  0.  0.  0.  0.  0.]\n",
        "[ 0.  0.  0.  1.  0.  0.  0.  0.  0.  0.]"
       ]
      },
      {
       "output_type": "stream",
       "stream": "stdout",
       "text": [
        "\n",
        "[ 0.  0.  0.  0.  1.  0.  0.  0.  0.  0.]\n",
        "[ 0.  0.  0.  0.  0.  1.  0.  0.  0.  0.]"
       ]
      },
      {
       "output_type": "stream",
       "stream": "stdout",
       "text": [
        "\n",
        "[ 0.  0.  0.  0.  0.  0.  1.  0.  0.  0.]\n",
        "[ 0.  0.  0.  0.  0.  0.  0.  1.  0.  0.]"
       ]
      },
      {
       "output_type": "stream",
       "stream": "stdout",
       "text": [
        "\n",
        "[ 0.  0.  0.  0.  0.  0.  0.  0.  1.  0.]\n",
        "[ 0.  0.  0.  0.  0.  0.  0.  0.  0.  1.]"
       ]
      },
      {
       "output_type": "stream",
       "stream": "stdout",
       "text": [
        "\n",
        "Saving plot_data...\n",
        "Start testing...\n",
        "Finding mean for k=3..."
       ]
      },
      {
       "output_type": "stream",
       "stream": "stdout",
       "text": [
        "\n",
        "[ 0.99  0.    0.    0.    0.    0.    0.    0.    0.    0.  ]"
       ]
      },
      {
       "output_type": "stream",
       "stream": "stdout",
       "text": [
        "\n",
        "[ 0.  1.  0.  0.  0.  0.  0.  0.  0.  0.]"
       ]
      },
      {
       "output_type": "stream",
       "stream": "stdout",
       "text": [
        "\n",
        "[ 0.01  0.01  0.94  0.01  0.    0.    0.    0.02  0.01  0.  ]"
       ]
      },
      {
       "output_type": "stream",
       "stream": "stdout",
       "text": [
        "\n",
        "[ 0.    0.    0.01  0.95  0.    0.02  0.    0.01  0.01  0.01]"
       ]
      },
      {
       "output_type": "stream",
       "stream": "stdout",
       "text": [
        "\n",
        "[ 0.    0.01  0.    0.    0.94  0.    0.    0.01  0.    0.04]"
       ]
      },
      {
       "output_type": "stream",
       "stream": "stdout",
       "text": [
        "\n",
        "[ 0.01  0.    0.    0.03  0.    0.93  0.01  0.    0.01  0.01]"
       ]
      },
      {
       "output_type": "stream",
       "stream": "stdout",
       "text": [
        "\n",
        "[ 0.01  0.    0.    0.    0.    0.01  0.98  0.    0.    0.  ]"
       ]
      },
      {
       "output_type": "stream",
       "stream": "stdout",
       "text": [
        "\n",
        "[ 0.    0.01  0.    0.    0.01  0.    0.    0.95  0.    0.02]"
       ]
      },
      {
       "output_type": "stream",
       "stream": "stdout",
       "text": [
        "\n",
        "[ 0.    0.02  0.01  0.02  0.01  0.02  0.01  0.01  0.88  0.02]"
       ]
      },
      {
       "output_type": "stream",
       "stream": "stdout",
       "text": [
        "\n",
        "[ 0.    0.    0.    0.01  0.01  0.    0.    0.02  0.    0.95]"
       ]
      },
      {
       "output_type": "stream",
       "stream": "stdout",
       "text": [
        "\n",
        "Saving plot_data...\n",
        "Start testing...\n",
        "Finding mean for k=5..."
       ]
      },
      {
       "output_type": "stream",
       "stream": "stdout",
       "text": [
        "\n",
        "[ 0.99  0.    0.    0.    0.    0.    0.    0.    0.    0.  ]"
       ]
      },
      {
       "output_type": "stream",
       "stream": "stdout",
       "text": [
        "\n",
        "[ 0.    0.99  0.    0.    0.    0.    0.    0.    0.    0.  ]"
       ]
      },
      {
       "output_type": "stream",
       "stream": "stdout",
       "text": [
        "\n",
        "[ 0.01  0.02  0.91  0.01  0.01  0.    0.01  0.02  0.01  0.01]"
       ]
      },
      {
       "output_type": "stream",
       "stream": "stdout",
       "text": [
        "\n",
        "[ 0.    0.01  0.01  0.92  0.    0.03  0.    0.01  0.01  0.01]"
       ]
      },
      {
       "output_type": "stream",
       "stream": "stdout",
       "text": [
        "\n",
        "[ 0.    0.01  0.    0.    0.9   0.    0.    0.01  0.    0.06]"
       ]
      },
      {
       "output_type": "stream",
       "stream": "stdout",
       "text": [
        "\n",
        "[ 0.01  0.    0.    0.04  0.    0.9   0.02  0.    0.01  0.02]"
       ]
      },
      {
       "output_type": "stream",
       "stream": "stdout",
       "text": [
        "\n",
        "[ 0.01  0.01  0.    0.    0.    0.01  0.97  0.    0.    0.  ]"
       ]
      },
      {
       "output_type": "stream",
       "stream": "stdout",
       "text": [
        "\n",
        "[ 0.    0.02  0.    0.    0.01  0.    0.    0.93  0.    0.03]"
       ]
      },
      {
       "output_type": "stream",
       "stream": "stdout",
       "text": [
        "\n",
        "[ 0.01  0.03  0.01  0.03  0.01  0.04  0.01  0.01  0.84  0.02]"
       ]
      },
      {
       "output_type": "stream",
       "stream": "stdout",
       "text": [
        "\n",
        "[ 0.    0.    0.    0.01  0.02  0.    0.    0.03  0.    0.92]"
       ]
      },
      {
       "output_type": "stream",
       "stream": "stdout",
       "text": [
        "\n",
        "Saving plot_data...\n",
        "Start testing...\n",
        "Finding mean for k=7..."
       ]
      },
      {
       "output_type": "stream",
       "stream": "stdout",
       "text": [
        "\n",
        "[ 0.98  0.    0.    0.    0.    0.    0.01  0.    0.    0.  ]"
       ]
      },
      {
       "output_type": "stream",
       "stream": "stdout",
       "text": [
        "\n",
        "[ 0.    0.99  0.    0.    0.    0.    0.    0.    0.    0.  ]"
       ]
      },
      {
       "output_type": "stream",
       "stream": "stdout",
       "text": [
        "\n",
        "[ 0.02  0.02  0.89  0.01  0.01  0.    0.01  0.03  0.01  0.01]"
       ]
      },
      {
       "output_type": "stream",
       "stream": "stdout",
       "text": [
        "\n",
        "[ 0.    0.01  0.01  0.9   0.    0.03  0.    0.01  0.02  0.01]"
       ]
      },
      {
       "output_type": "stream",
       "stream": "stdout",
       "text": [
        "\n",
        "[ 0.    0.02  0.    0.    0.88  0.    0.01  0.01  0.    0.08]"
       ]
      },
      {
       "output_type": "stream",
       "stream": "stdout",
       "text": [
        "\n",
        "[ 0.01  0.01  0.    0.05  0.01  0.88  0.02  0.    0.01  0.02]"
       ]
      },
      {
       "output_type": "stream",
       "stream": "stdout",
       "text": [
        "\n",
        "[ 0.01  0.01  0.    0.    0.    0.01  0.97  0.    0.    0.  ]"
       ]
      },
      {
       "output_type": "stream",
       "stream": "stdout",
       "text": [
        "\n",
        "[ 0.    0.02  0.    0.    0.01  0.    0.    0.92  0.    0.04]"
       ]
      },
      {
       "output_type": "stream",
       "stream": "stdout",
       "text": [
        "\n",
        "[ 0.01  0.03  0.01  0.04  0.01  0.04  0.01  0.01  0.81  0.03]"
       ]
      },
      {
       "output_type": "stream",
       "stream": "stdout",
       "text": [
        "\n",
        "[ 0.    0.01  0.    0.01  0.03  0.    0.    0.04  0.    0.91]"
       ]
      },
      {
       "output_type": "stream",
       "stream": "stdout",
       "text": [
        "\n",
        "Saving plot_data...\n",
        "Start testing...\n",
        "Finding mean for k=9..."
       ]
      },
      {
       "output_type": "stream",
       "stream": "stdout",
       "text": [
        "\n",
        "[ 0.98  0.    0.    0.    0.    0.    0.01  0.    0.    0.  ]"
       ]
      },
      {
       "output_type": "stream",
       "stream": "stdout",
       "text": [
        "\n",
        "[ 0.    0.99  0.    0.    0.    0.    0.    0.    0.    0.  ]"
       ]
      },
      {
       "output_type": "stream",
       "stream": "stdout",
       "text": [
        "\n",
        "[ 0.02  0.02  0.87  0.01  0.01  0.    0.01  0.03  0.01  0.01]"
       ]
      },
      {
       "output_type": "stream",
       "stream": "stdout",
       "text": [
        "\n",
        "[ 0.    0.01  0.01  0.89  0.    0.04  0.    0.01  0.02  0.01]"
       ]
      },
      {
       "output_type": "stream",
       "stream": "stdout",
       "text": [
        "\n",
        "[ 0.    0.02  0.    0.    0.86  0.    0.01  0.01  0.    0.1 ]"
       ]
      },
      {
       "output_type": "stream",
       "stream": "stdout",
       "text": [
        "\n",
        "[ 0.01  0.01  0.    0.05  0.01  0.86  0.02  0.    0.02  0.02]"
       ]
      },
      {
       "output_type": "stream",
       "stream": "stdout",
       "text": [
        "\n",
        "[ 0.02  0.01  0.    0.    0.    0.01  0.96  0.    0.    0.  ]"
       ]
      },
      {
       "output_type": "stream",
       "stream": "stdout",
       "text": [
        "\n",
        "[ 0.    0.02  0.    0.    0.01  0.    0.    0.91  0.    0.04]"
       ]
      },
      {
       "output_type": "stream",
       "stream": "stdout",
       "text": [
        "\n",
        "[ 0.01  0.04  0.01  0.04  0.01  0.04  0.01  0.01  0.79  0.03]"
       ]
      },
      {
       "output_type": "stream",
       "stream": "stdout",
       "text": [
        "\n",
        "[ 0.    0.01  0.    0.01  0.03  0.    0.    0.05  0.    0.89]"
       ]
      },
      {
       "output_type": "stream",
       "stream": "stdout",
       "text": [
        "\n",
        "Saving plot_data...\n",
        "Start testing...\n",
        "Finding mean for k=11..."
       ]
      },
      {
       "output_type": "stream",
       "stream": "stdout",
       "text": [
        "\n",
        "[ 0.98  0.    0.    0.    0.    0.01  0.01  0.    0.    0.  ]"
       ]
      },
      {
       "output_type": "stream",
       "stream": "stdout",
       "text": [
        "\n",
        "[ 0.    0.99  0.    0.    0.    0.    0.    0.    0.    0.  ]"
       ]
      },
      {
       "output_type": "stream",
       "stream": "stdout",
       "text": [
        "\n",
        "[ 0.02  0.03  0.86  0.02  0.01  0.    0.01  0.03  0.01  0.01]"
       ]
      },
      {
       "output_type": "stream",
       "stream": "stdout",
       "text": [
        "\n",
        "[ 0.    0.02  0.01  0.87  0.    0.04  0.    0.01  0.02  0.02]"
       ]
      },
      {
       "output_type": "stream",
       "stream": "stdout",
       "text": [
        "\n",
        "[ 0.    0.02  0.    0.    0.84  0.    0.01  0.01  0.    0.11]"
       ]
      },
      {
       "output_type": "stream",
       "stream": "stdout",
       "text": [
        "\n",
        "[ 0.01  0.01  0.    0.06  0.01  0.84  0.02  0.    0.02  0.02]"
       ]
      },
      {
       "output_type": "stream",
       "stream": "stdout",
       "text": [
        "\n",
        "[ 0.02  0.01  0.    0.    0.    0.01  0.96  0.    0.    0.  ]"
       ]
      },
      {
       "output_type": "stream",
       "stream": "stdout",
       "text": [
        "\n",
        "[ 0.    0.02  0.    0.    0.02  0.    0.    0.9   0.    0.05]"
       ]
      },
      {
       "output_type": "stream",
       "stream": "stdout",
       "text": [
        "\n",
        "[ 0.01  0.04  0.01  0.05  0.01  0.05  0.01  0.01  0.77  0.04]"
       ]
      },
      {
       "output_type": "stream",
       "stream": "stdout",
       "text": [
        "\n",
        "[ 0.    0.01  0.    0.01  0.04  0.    0.    0.05  0.    0.88]"
       ]
      },
      {
       "output_type": "stream",
       "stream": "stdout",
       "text": [
        "\n",
        "Saving plot_data...\n",
        "Start testing...\n",
        "Finding mean for k=20..."
       ]
      },
      {
       "output_type": "stream",
       "stream": "stdout",
       "text": [
        "\n",
        "[ 0.97  0.    0.    0.    0.    0.01  0.01  0.    0.    0.  ]"
       ]
      },
      {
       "output_type": "stream",
       "stream": "stdout",
       "text": [
        "\n",
        "[ 0.    0.99  0.    0.    0.    0.    0.    0.    0.    0.  ]"
       ]
      },
      {
       "output_type": "stream",
       "stream": "stdout",
       "text": [
        "\n",
        "[ 0.03  0.04  0.8   0.02  0.02  0.    0.01  0.04  0.02  0.02]"
       ]
      },
      {
       "output_type": "stream",
       "stream": "stdout",
       "text": [
        "\n",
        "[ 0.01  0.02  0.01  0.84  0.    0.05  0.    0.01  0.02  0.02]"
       ]
      },
      {
       "output_type": "stream",
       "stream": "stdout",
       "text": [
        "\n",
        "[ 0.    0.03  0.    0.    0.78  0.    0.01  0.02  0.    0.15]"
       ]
      },
      {
       "output_type": "stream",
       "stream": "stdout",
       "text": [
        "\n",
        "[ 0.02  0.02  0.    0.07  0.01  0.79  0.02  0.01  0.03  0.03]"
       ]
      },
      {
       "output_type": "stream",
       "stream": "stdout",
       "text": [
        "\n",
        "[ 0.02  0.02  0.    0.    0.01  0.01  0.94  0.    0.    0.  ]"
       ]
      },
      {
       "output_type": "stream",
       "stream": "stdout",
       "text": [
        "\n",
        "[ 0.    0.03  0.    0.    0.02  0.    0.    0.87  0.    0.07]"
       ]
      },
      {
       "output_type": "stream",
       "stream": "stdout",
       "text": [
        "\n",
        "[ 0.01  0.05  0.01  0.05  0.02  0.05  0.02  0.01  0.72  0.04]"
       ]
      },
      {
       "output_type": "stream",
       "stream": "stdout",
       "text": [
        "\n",
        "[ 0.01  0.01  0.    0.01  0.05  0.    0.    0.07  0.    0.85]"
       ]
      },
      {
       "output_type": "stream",
       "stream": "stdout",
       "text": [
        "\n",
        "Saving plot_data...\n",
        "Start testing...\n",
        "Finding mean for k=40..."
       ]
      },
      {
       "output_type": "stream",
       "stream": "stdout",
       "text": [
        "\n",
        "[ 0.95  0.01  0.    0.    0.    0.01  0.02  0.    0.    0.  ]"
       ]
      },
      {
       "output_type": "stream",
       "stream": "stdout",
       "text": [
        "\n",
        "[ 0.    0.99  0.    0.    0.    0.    0.    0.    0.    0.  ]"
       ]
      },
      {
       "output_type": "stream",
       "stream": "stdout",
       "text": [
        "\n",
        "[ 0.03  0.08  0.71  0.04  0.02  0.01  0.02  0.05  0.02  0.02]"
       ]
      },
      {
       "output_type": "stream",
       "stream": "stdout",
       "text": [
        "\n",
        "[ 0.01  0.04  0.02  0.78  0.    0.07  0.01  0.02  0.03  0.03]"
       ]
      },
      {
       "output_type": "stream",
       "stream": "stdout",
       "text": [
        "\n",
        "[ 0.    0.04  0.01  0.    0.71  0.    0.01  0.03  0.    0.2 ]"
       ]
      },
      {
       "output_type": "stream",
       "stream": "stdout",
       "text": [
        "\n",
        "[ 0.02  0.04  0.    0.09  0.02  0.71  0.03  0.01  0.04  0.04]"
       ]
      },
      {
       "output_type": "stream",
       "stream": "stdout",
       "text": [
        "\n",
        "[ 0.03  0.03  0.    0.    0.01  0.01  0.91  0.    0.01  0.  ]"
       ]
      },
      {
       "output_type": "stream",
       "stream": "stdout",
       "text": [
        "\n",
        "[ 0.    0.05  0.    0.    0.02  0.    0.    0.82  0.    0.09]"
       ]
      },
      {
       "output_type": "stream",
       "stream": "stdout",
       "text": [
        "\n",
        "[ 0.02  0.08  0.02  0.07  0.02  0.06  0.02  0.02  0.65  0.06]"
       ]
      },
      {
       "output_type": "stream",
       "stream": "stdout",
       "text": [
        "\n",
        "[ 0.01  0.01  0.    0.01  0.07  0.01  0.    0.09  0.    0.79]"
       ]
      },
      {
       "output_type": "stream",
       "stream": "stdout",
       "text": [
        "\n",
        "Saving plot_data...\n",
        "Start testing...\n",
        "[array([ 0.054,  0.054]), array([ 0.056,  0.052]), array([ 0.059,  0.054]), array([ 0.064,  0.055]), array([ 0.07 ,  0.061]), array([ 0.074,  0.062]), array([ 0.081,  0.074]), array([ 0.099,  0.082])]"
       ]
      },
      {
       "output_type": "stream",
       "stream": "stdout",
       "text": [
        "\n"
       ]
      },
      {
       "metadata": {},
       "output_type": "display_data",
       "png": "[encoded data removed]",
       "text": [
        "<matplotlib.figure.Figure at 0x6f65190>"
       ]
      }
     ],
     "prompt_number": 38
    },
    {
     "cell_type": "code",
     "collapsed": false,
     "input": [
      "(ts_m,ts_sd,x) = run_experiment_fixed_P(10, transformed_data, mnist.target, alpha=1, bias=1e-2, metric='euclidean')\n",
      "plot_results(ts_m,ts_sd,x)"
     ],
     "language": "python",
     "metadata": {},
     "outputs": [
      {
       "output_type": "stream",
       "stream": "stdout",
       "text": [
        "== Fold 0 ==\n",
        "Fitting model...\n",
        "Finding mean for k=1..."
       ]
      },
      {
       "output_type": "stream",
       "stream": "stdout",
       "text": [
        "\n",
        "[ 1.  0.  0.  0.  0.  0.  0.  0.  0.  0.]"
       ]
      },
      {
       "output_type": "stream",
       "stream": "stdout",
       "text": [
        "\n",
        "[ 0.  1.  0.  0.  0.  0.  0.  0.  0.  0.]"
       ]
      },
      {
       "output_type": "stream",
       "stream": "stdout",
       "text": [
        "\n",
        "[ 0.  0.  1.  0.  0.  0.  0.  0.  0.  0.]"
       ]
      },
      {
       "output_type": "stream",
       "stream": "stdout",
       "text": [
        "\n",
        "[ 0.  0.  0.  1.  0.  0.  0.  0.  0.  0.]"
       ]
      },
      {
       "output_type": "stream",
       "stream": "stdout",
       "text": [
        "\n",
        "[ 0.  0.  0.  0.  1.  0.  0.  0.  0.  0.]\n",
        "[ 0.  0.  0.  0.  0.  1.  0.  0.  0.  0.]"
       ]
      },
      {
       "output_type": "stream",
       "stream": "stdout",
       "text": [
        "\n",
        "[ 0.  0.  0.  0.  0.  0.  1.  0.  0.  0.]"
       ]
      },
      {
       "output_type": "stream",
       "stream": "stdout",
       "text": [
        "\n",
        "[ 0.  0.  0.  0.  0.  0.  0.  1.  0.  0.]"
       ]
      },
      {
       "output_type": "stream",
       "stream": "stdout",
       "text": [
        "\n",
        "[ 0.  0.  0.  0.  0.  0.  0.  0.  1.  0.]"
       ]
      },
      {
       "output_type": "stream",
       "stream": "stdout",
       "text": [
        "\n",
        "[ 0.  0.  0.  0.  0.  0.  0.  0.  0.  1.]"
       ]
      },
      {
       "output_type": "stream",
       "stream": "stdout",
       "text": [
        "\n",
        "Saving plot_data...\n",
        "Start testing...\n",
        "Finding mean for k=3..."
       ]
      },
      {
       "output_type": "stream",
       "stream": "stdout",
       "text": [
        "\n",
        "[ 0.99  0.    0.    0.    0.    0.    0.    0.    0.    0.  ]"
       ]
      },
      {
       "output_type": "stream",
       "stream": "stdout",
       "text": [
        "\n",
        "[ 0.    0.99  0.    0.    0.    0.    0.    0.    0.    0.  ]"
       ]
      },
      {
       "output_type": "stream",
       "stream": "stdout",
       "text": [
        "\n",
        "[ 0.    0.01  0.95  0.    0.    0.    0.    0.02  0.01  0.  ]"
       ]
      },
      {
       "output_type": "stream",
       "stream": "stdout",
       "text": [
        "\n",
        "[ 0.    0.    0.    0.96  0.    0.02  0.    0.    0.01  0.01]"
       ]
      },
      {
       "output_type": "stream",
       "stream": "stdout",
       "text": [
        "\n",
        "[ 0.    0.    0.    0.    0.95  0.    0.    0.01  0.    0.03]"
       ]
      },
      {
       "output_type": "stream",
       "stream": "stdout",
       "text": [
        "\n",
        "[ 0.01  0.    0.    0.02  0.    0.94  0.01  0.    0.01  0.01]"
       ]
      },
      {
       "output_type": "stream",
       "stream": "stdout",
       "text": [
        "\n",
        "[ 0.01  0.    0.    0.    0.    0.01  0.98  0.    0.    0.  ]"
       ]
      },
      {
       "output_type": "stream",
       "stream": "stdout",
       "text": [
        "\n",
        "[ 0.    0.01  0.    0.    0.01  0.    0.    0.96  0.    0.02]"
       ]
      },
      {
       "output_type": "stream",
       "stream": "stdout",
       "text": [
        "\n",
        "[ 0.    0.01  0.    0.02  0.    0.02  0.01  0.    0.92  0.01]"
       ]
      },
      {
       "output_type": "stream",
       "stream": "stdout",
       "text": [
        "\n",
        "[ 0.    0.    0.    0.    0.01  0.    0.    0.02  0.    0.96]"
       ]
      },
      {
       "output_type": "stream",
       "stream": "stdout",
       "text": [
        "\n",
        "Saving plot_data...\n",
        "Start testing...\n",
        "Finding mean for k=5..."
       ]
      },
      {
       "output_type": "stream",
       "stream": "stdout",
       "text": [
        "\n",
        "[ 0.99  0.    0.    0.    0.    0.    0.    0.    0.    0.  ]"
       ]
      },
      {
       "output_type": "stream",
       "stream": "stdout",
       "text": [
        "\n",
        "[ 0.    0.99  0.    0.    0.    0.    0.    0.    0.    0.  ]"
       ]
      },
      {
       "output_type": "stream",
       "stream": "stdout",
       "text": [
        "\n",
        "[ 0.01  0.01  0.93  0.01  0.01  0.    0.    0.02  0.01  0.  ]"
       ]
      },
      {
       "output_type": "stream",
       "stream": "stdout",
       "text": [
        "\n",
        "[ 0.    0.01  0.01  0.94  0.    0.02  0.    0.    0.01  0.01]"
       ]
      },
      {
       "output_type": "stream",
       "stream": "stdout",
       "text": [
        "\n",
        "[ 0.    0.01  0.    0.    0.92  0.    0.    0.01  0.    0.06]"
       ]
      },
      {
       "output_type": "stream",
       "stream": "stdout",
       "text": [
        "\n",
        "[ 0.01  0.    0.    0.03  0.    0.92  0.01  0.    0.01  0.02]"
       ]
      },
      {
       "output_type": "stream",
       "stream": "stdout",
       "text": [
        "\n",
        "[ 0.01  0.    0.    0.    0.    0.01  0.98  0.    0.    0.  ]"
       ]
      },
      {
       "output_type": "stream",
       "stream": "stdout",
       "text": [
        "\n",
        "[ 0.    0.01  0.    0.    0.01  0.    0.    0.95  0.    0.02]"
       ]
      },
      {
       "output_type": "stream",
       "stream": "stdout",
       "text": [
        "\n",
        "[ 0.    0.02  0.01  0.02  0.01  0.02  0.01  0.01  0.89  0.02]"
       ]
      },
      {
       "output_type": "stream",
       "stream": "stdout",
       "text": [
        "\n",
        "[ 0.    0.    0.    0.01  0.02  0.    0.    0.03  0.    0.93]"
       ]
      },
      {
       "output_type": "stream",
       "stream": "stdout",
       "text": [
        "\n",
        "Saving plot_data...\n",
        "Start testing...\n",
        "Finding mean for k=7..."
       ]
      },
      {
       "output_type": "stream",
       "stream": "stdout",
       "text": [
        "\n",
        "[ 0.99  0.    0.    0.    0.    0.    0.    0.    0.    0.  ]"
       ]
      },
      {
       "output_type": "stream",
       "stream": "stdout",
       "text": [
        "\n",
        "[ 0.    0.99  0.    0.    0.    0.    0.    0.    0.    0.  ]"
       ]
      },
      {
       "output_type": "stream",
       "stream": "stdout",
       "text": [
        "\n",
        "[ 0.01  0.01  0.92  0.01  0.01  0.    0.01  0.02  0.01  0.  ]"
       ]
      },
      {
       "output_type": "stream",
       "stream": "stdout",
       "text": [
        "\n",
        "[ 0.    0.01  0.01  0.92  0.    0.03  0.    0.01  0.01  0.01]"
       ]
      },
      {
       "output_type": "stream",
       "stream": "stdout",
       "text": [
        "\n",
        "[ 0.    0.01  0.    0.    0.9   0.    0.    0.01  0.    0.08]"
       ]
      },
      {
       "output_type": "stream",
       "stream": "stdout",
       "text": [
        "\n",
        "[ 0.01  0.    0.    0.03  0.    0.9   0.02  0.    0.01  0.02]"
       ]
      },
      {
       "output_type": "stream",
       "stream": "stdout",
       "text": [
        "\n",
        "[ 0.01  0.    0.    0.    0.    0.01  0.97  0.    0.    0.  ]"
       ]
      },
      {
       "output_type": "stream",
       "stream": "stdout",
       "text": [
        "\n",
        "[ 0.    0.01  0.    0.    0.01  0.    0.    0.93  0.    0.03]"
       ]
      },
      {
       "output_type": "stream",
       "stream": "stdout",
       "text": [
        "\n",
        "[ 0.    0.02  0.01  0.03  0.01  0.03  0.01  0.01  0.87  0.02]"
       ]
      },
      {
       "output_type": "stream",
       "stream": "stdout",
       "text": [
        "\n",
        "[ 0.    0.    0.    0.01  0.03  0.    0.    0.03  0.    0.92]"
       ]
      },
      {
       "output_type": "stream",
       "stream": "stdout",
       "text": [
        "\n",
        "Saving plot_data...\n",
        "Start testing...\n",
        "Finding mean for k=9..."
       ]
      },
      {
       "output_type": "stream",
       "stream": "stdout",
       "text": [
        "\n",
        "[ 0.98  0.    0.    0.    0.    0.    0.01  0.    0.    0.  ]"
       ]
      },
      {
       "output_type": "stream",
       "stream": "stdout",
       "text": [
        "\n",
        "[ 0.    0.99  0.    0.    0.    0.    0.    0.    0.    0.  ]"
       ]
      },
      {
       "output_type": "stream",
       "stream": "stdout",
       "text": [
        "\n",
        "[ 0.01  0.01  0.91  0.01  0.01  0.    0.01  0.02  0.01  0.01]"
       ]
      },
      {
       "output_type": "stream",
       "stream": "stdout",
       "text": [
        "\n",
        "[ 0.    0.01  0.01  0.91  0.    0.03  0.    0.01  0.02  0.01]"
       ]
      },
      {
       "output_type": "stream",
       "stream": "stdout",
       "text": [
        "\n",
        "[ 0.    0.01  0.    0.    0.88  0.    0.01  0.01  0.    0.09]"
       ]
      },
      {
       "output_type": "stream",
       "stream": "stdout",
       "text": [
        "\n",
        "[ 0.01  0.    0.    0.04  0.01  0.89  0.02  0.    0.02  0.02]"
       ]
      },
      {
       "output_type": "stream",
       "stream": "stdout",
       "text": [
        "\n",
        "[ 0.01  0.01  0.    0.    0.    0.01  0.97  0.    0.    0.  ]"
       ]
      },
      {
       "output_type": "stream",
       "stream": "stdout",
       "text": [
        "\n",
        "[ 0.    0.02  0.    0.    0.01  0.    0.    0.92  0.    0.04]"
       ]
      },
      {
       "output_type": "stream",
       "stream": "stdout",
       "text": [
        "\n",
        "[ 0.    0.02  0.01  0.03  0.01  0.03  0.01  0.01  0.85  0.02]"
       ]
      },
      {
       "output_type": "stream",
       "stream": "stdout",
       "text": [
        "\n",
        "[ 0.    0.    0.    0.01  0.03  0.    0.    0.03  0.    0.91]"
       ]
      },
      {
       "output_type": "stream",
       "stream": "stdout",
       "text": [
        "\n",
        "Saving plot_data...\n",
        "Start testing...\n",
        "Finding mean for k=11..."
       ]
      },
      {
       "output_type": "stream",
       "stream": "stdout",
       "text": [
        "\n",
        "[ 0.98  0.    0.    0.    0.    0.    0.01  0.    0.    0.  ]"
       ]
      },
      {
       "output_type": "stream",
       "stream": "stdout",
       "text": [
        "\n",
        "[ 0.    0.99  0.    0.    0.    0.    0.    0.    0.    0.  ]"
       ]
      },
      {
       "output_type": "stream",
       "stream": "stdout",
       "text": [
        "\n",
        "[ 0.01  0.01  0.9   0.01  0.01  0.    0.01  0.03  0.01  0.01]"
       ]
      },
      {
       "output_type": "stream",
       "stream": "stdout",
       "text": [
        "\n",
        "[ 0.    0.01  0.01  0.9   0.    0.04  0.    0.01  0.02  0.01]"
       ]
      },
      {
       "output_type": "stream",
       "stream": "stdout",
       "text": [
        "\n",
        "[ 0.    0.01  0.    0.    0.86  0.    0.01  0.01  0.    0.1 ]"
       ]
      },
      {
       "output_type": "stream",
       "stream": "stdout",
       "text": [
        "\n",
        "[ 0.01  0.    0.    0.04  0.01  0.87  0.02  0.    0.02  0.02]"
       ]
      },
      {
       "output_type": "stream",
       "stream": "stdout",
       "text": [
        "\n",
        "[ 0.01  0.01  0.    0.    0.    0.01  0.96  0.    0.    0.  ]"
       ]
      },
      {
       "output_type": "stream",
       "stream": "stdout",
       "text": [
        "\n",
        "[ 0.    0.02  0.    0.    0.01  0.    0.    0.92  0.    0.04]"
       ]
      },
      {
       "output_type": "stream",
       "stream": "stdout",
       "text": [
        "\n",
        "[ 0.    0.02  0.01  0.04  0.01  0.03  0.01  0.01  0.84  0.02]"
       ]
      },
      {
       "output_type": "stream",
       "stream": "stdout",
       "text": [
        "\n",
        "[ 0.01  0.01  0.    0.01  0.03  0.    0.    0.04  0.    0.9 ]"
       ]
      },
      {
       "output_type": "stream",
       "stream": "stdout",
       "text": [
        "\n",
        "Saving plot_data...\n",
        "Start testing...\n",
        "Finding mean for k=20..."
       ]
      },
      {
       "output_type": "stream",
       "stream": "stdout",
       "text": [
        "\n",
        "[ 0.97  0.    0.    0.    0.    0.01  0.01  0.    0.    0.  ]"
       ]
      },
      {
       "output_type": "stream",
       "stream": "stdout",
       "text": [
        "\n",
        "[ 0.    0.99  0.    0.    0.    0.    0.    0.    0.    0.  ]"
       ]
      },
      {
       "output_type": "stream",
       "stream": "stdout",
       "text": [
        "\n",
        "[ 0.02  0.02  0.86  0.02  0.01  0.    0.01  0.03  0.02  0.01]"
       ]
      },
      {
       "output_type": "stream",
       "stream": "stdout",
       "text": [
        "\n",
        "[ 0.    0.01  0.01  0.86  0.    0.05  0.    0.01  0.03  0.02]"
       ]
      },
      {
       "output_type": "stream",
       "stream": "stdout",
       "text": [
        "\n",
        "[ 0.    0.01  0.    0.    0.81  0.    0.01  0.02  0.    0.14]"
       ]
      },
      {
       "output_type": "stream",
       "stream": "stdout",
       "text": [
        "\n",
        "[ 0.01  0.01  0.    0.06  0.01  0.83  0.02  0.    0.03  0.03]"
       ]
      },
      {
       "output_type": "stream",
       "stream": "stdout",
       "text": [
        "\n",
        "[ 0.02  0.01  0.    0.    0.    0.01  0.95  0.    0.    0.  ]"
       ]
      },
      {
       "output_type": "stream",
       "stream": "stdout",
       "text": [
        "\n",
        "[ 0.    0.02  0.01  0.    0.01  0.    0.    0.89  0.    0.05]"
       ]
      },
      {
       "output_type": "stream",
       "stream": "stdout",
       "text": [
        "\n",
        "[ 0.01  0.03  0.01  0.05  0.01  0.04  0.01  0.01  0.8   0.03]"
       ]
      },
      {
       "output_type": "stream",
       "stream": "stdout",
       "text": [
        "\n",
        "[ 0.01  0.01  0.    0.01  0.05  0.01  0.    0.05  0.    0.86]"
       ]
      },
      {
       "output_type": "stream",
       "stream": "stdout",
       "text": [
        "\n",
        "Saving plot_data...\n",
        "Start testing...\n",
        "Finding mean for k=40..."
       ]
      },
      {
       "output_type": "stream",
       "stream": "stdout",
       "text": [
        "\n",
        "[ 0.95  0.    0.    0.    0.    0.01  0.02  0.    0.    0.  ]"
       ]
      },
      {
       "output_type": "stream",
       "stream": "stdout",
       "text": [
        "\n",
        "[ 0.    0.99  0.    0.    0.    0.    0.    0.    0.    0.  ]"
       ]
      },
      {
       "output_type": "stream",
       "stream": "stdout",
       "text": [
        "\n",
        "[ 0.02  0.03  0.81  0.02  0.02  0.01  0.01  0.04  0.02  0.01]"
       ]
      },
      {
       "output_type": "stream",
       "stream": "stdout",
       "text": [
        "\n",
        "[ 0.01  0.02  0.02  0.82  0.    0.06  0.01  0.01  0.04  0.02]"
       ]
      },
      {
       "output_type": "stream",
       "stream": "stdout",
       "text": [
        "\n",
        "[ 0.    0.02  0.    0.    0.74  0.    0.01  0.02  0.    0.19]"
       ]
      },
      {
       "output_type": "stream",
       "stream": "stdout",
       "text": [
        "\n",
        "[ 0.02  0.01  0.    0.08  0.01  0.77  0.03  0.01  0.04  0.03]"
       ]
      },
      {
       "output_type": "stream",
       "stream": "stdout",
       "text": [
        "\n",
        "[ 0.02  0.01  0.    0.    0.01  0.01  0.93  0.    0.01  0.  ]"
       ]
      },
      {
       "output_type": "stream",
       "stream": "stdout",
       "text": [
        "\n",
        "[ 0.    0.03  0.01  0.    0.02  0.    0.    0.86  0.    0.07]"
       ]
      },
      {
       "output_type": "stream",
       "stream": "stdout",
       "text": [
        "\n",
        "[ 0.01  0.04  0.01  0.06  0.01  0.05  0.02  0.01  0.74  0.04]"
       ]
      },
      {
       "output_type": "stream",
       "stream": "stdout",
       "text": [
        "\n",
        "[ 0.01  0.01  0.    0.01  0.07  0.01  0.    0.07  0.01  0.82]"
       ]
      },
      {
       "output_type": "stream",
       "stream": "stdout",
       "text": [
        "\n",
        "Saving plot_data...\n",
        "Start testing...\n",
        "[array([ 0.062,  0.062]), array([ 0.055,  0.05 ]), array([ 0.054,  0.052]), array([ 0.058,  0.055]), array([ 0.052,  0.055]), array([ 0.057,  0.051]), array([ 0.059,  0.059]), array([ 0.077,  0.065])]"
       ]
      },
      {
       "output_type": "stream",
       "stream": "stdout",
       "text": [
        "\n",
        "== Fold 1 ==\n",
        "Fitting model...\n",
        "Finding mean for k=1..."
       ]
      },
      {
       "output_type": "stream",
       "stream": "stdout",
       "text": [
        "\n",
        "[ 1.  0.  0.  0.  0.  0.  0.  0.  0.  0.]\n",
        "[ 0.  1.  0.  0.  0.  0.  0.  0.  0.  0.]"
       ]
      },
      {
       "output_type": "stream",
       "stream": "stdout",
       "text": [
        "\n",
        "[ 0.  0.  1.  0.  0.  0.  0.  0.  0.  0.]"
       ]
      },
      {
       "output_type": "stream",
       "stream": "stdout",
       "text": [
        "\n",
        "[ 0.  0.  0.  1.  0.  0.  0.  0.  0.  0.]"
       ]
      },
      {
       "output_type": "stream",
       "stream": "stdout",
       "text": [
        "\n",
        "[ 0.  0.  0.  0.  1.  0.  0.  0.  0.  0.]\n",
        "[ 0.  0.  0.  0.  0.  1.  0.  0.  0.  0.]"
       ]
      },
      {
       "output_type": "stream",
       "stream": "stdout",
       "text": [
        "\n",
        "[ 0.  0.  0.  0.  0.  0.  1.  0.  0.  0.]"
       ]
      },
      {
       "output_type": "stream",
       "stream": "stdout",
       "text": [
        "\n",
        "[ 0.  0.  0.  0.  0.  0.  0.  1.  0.  0.]"
       ]
      },
      {
       "output_type": "stream",
       "stream": "stdout",
       "text": [
        "\n",
        "[ 0.  0.  0.  0.  0.  0.  0.  0.  1.  0.]\n",
        "[ 0.  0.  0.  0.  0.  0.  0.  0.  0.  1.]"
       ]
      },
      {
       "output_type": "stream",
       "stream": "stdout",
       "text": [
        "\n",
        "Saving plot_data...\n",
        "Start testing...\n",
        "Finding mean for k=3..."
       ]
      },
      {
       "output_type": "stream",
       "stream": "stdout",
       "text": [
        "\n",
        "[ 0.99  0.    0.    0.    0.    0.    0.    0.    0.    0.  ]"
       ]
      },
      {
       "output_type": "stream",
       "stream": "stdout",
       "text": [
        "\n",
        "[ 0.    0.99  0.    0.    0.    0.    0.    0.    0.    0.  ]"
       ]
      },
      {
       "output_type": "stream",
       "stream": "stdout",
       "text": [
        "\n",
        "[ 0.01  0.01  0.95  0.    0.    0.    0.    0.02  0.01  0.  ]"
       ]
      },
      {
       "output_type": "stream",
       "stream": "stdout",
       "text": [
        "\n",
        "[ 0.    0.    0.01  0.96  0.    0.02  0.    0.    0.01  0.01]"
       ]
      },
      {
       "output_type": "stream",
       "stream": "stdout",
       "text": [
        "\n",
        "[ 0.    0.    0.    0.    0.95  0.    0.    0.01  0.    0.03]"
       ]
      },
      {
       "output_type": "stream",
       "stream": "stdout",
       "text": [
        "\n",
        "[ 0.01  0.    0.    0.02  0.    0.94  0.01  0.    0.    0.01]"
       ]
      },
      {
       "output_type": "stream",
       "stream": "stdout",
       "text": [
        "\n",
        "[ 0.01  0.    0.    0.    0.    0.    0.98  0.    0.    0.  ]"
       ]
      },
      {
       "output_type": "stream",
       "stream": "stdout",
       "text": [
        "\n",
        "[ 0.    0.01  0.    0.    0.    0.    0.    0.96  0.    0.02]"
       ]
      },
      {
       "output_type": "stream",
       "stream": "stdout",
       "text": [
        "\n",
        "[ 0.    0.01  0.    0.02  0.    0.02  0.01  0.    0.91  0.01]"
       ]
      },
      {
       "output_type": "stream",
       "stream": "stdout",
       "text": [
        "\n",
        "[ 0.    0.    0.    0.    0.01  0.    0.    0.02  0.    0.95]"
       ]
      },
      {
       "output_type": "stream",
       "stream": "stdout",
       "text": [
        "\n",
        "Saving plot_data...\n",
        "Start testing...\n",
        "Finding mean for k=5..."
       ]
      },
      {
       "output_type": "stream",
       "stream": "stdout",
       "text": [
        "\n",
        "[ 0.99  0.    0.    0.    0.    0.    0.    0.    0.    0.  ]"
       ]
      },
      {
       "output_type": "stream",
       "stream": "stdout",
       "text": [
        "\n",
        "[ 0.    0.99  0.    0.    0.    0.    0.    0.    0.    0.  ]"
       ]
      },
      {
       "output_type": "stream",
       "stream": "stdout",
       "text": [
        "\n",
        "[ 0.01  0.01  0.93  0.01  0.    0.    0.    0.02  0.01  0.  ]"
       ]
      },
      {
       "output_type": "stream",
       "stream": "stdout",
       "text": [
        "\n",
        "[ 0.    0.01  0.01  0.93  0.    0.02  0.    0.01  0.01  0.01]"
       ]
      },
      {
       "output_type": "stream",
       "stream": "stdout",
       "text": [
        "\n",
        "[ 0.    0.01  0.    0.    0.92  0.    0.    0.01  0.    0.06]"
       ]
      },
      {
       "output_type": "stream",
       "stream": "stdout",
       "text": [
        "\n",
        "[ 0.01  0.    0.    0.03  0.    0.92  0.01  0.    0.01  0.02]"
       ]
      },
      {
       "output_type": "stream",
       "stream": "stdout",
       "text": [
        "\n",
        "[ 0.01  0.    0.    0.    0.    0.01  0.98  0.    0.    0.  ]"
       ]
      },
      {
       "output_type": "stream",
       "stream": "stdout",
       "text": [
        "\n",
        "[ 0.    0.01  0.    0.    0.01  0.    0.    0.94  0.    0.03]"
       ]
      },
      {
       "output_type": "stream",
       "stream": "stdout",
       "text": [
        "\n",
        "[ 0.    0.02  0.01  0.02  0.01  0.02  0.01  0.    0.89  0.02]"
       ]
      },
      {
       "output_type": "stream",
       "stream": "stdout",
       "text": [
        "\n",
        "[ 0.    0.    0.    0.01  0.02  0.    0.    0.03  0.    0.93]"
       ]
      },
      {
       "output_type": "stream",
       "stream": "stdout",
       "text": [
        "\n",
        "Saving plot_data...\n",
        "Start testing...\n",
        "Finding mean for k=7..."
       ]
      },
      {
       "output_type": "stream",
       "stream": "stdout",
       "text": [
        "\n",
        "[ 0.99  0.    0.    0.    0.    0.    0.01  0.    0.    0.  ]"
       ]
      },
      {
       "output_type": "stream",
       "stream": "stdout",
       "text": [
        "\n",
        "[ 0.    0.99  0.    0.    0.    0.    0.    0.    0.    0.  ]"
       ]
      },
      {
       "output_type": "stream",
       "stream": "stdout",
       "text": [
        "\n",
        "[ 0.01  0.01  0.92  0.01  0.01  0.    0.    0.02  0.01  0.  ]"
       ]
      },
      {
       "output_type": "stream",
       "stream": "stdout",
       "text": [
        "\n",
        "[ 0.    0.01  0.01  0.92  0.    0.03  0.    0.01  0.02  0.01]"
       ]
      },
      {
       "output_type": "stream",
       "stream": "stdout",
       "text": [
        "\n",
        "[ 0.    0.01  0.    0.    0.89  0.    0.01  0.01  0.    0.08]"
       ]
      },
      {
       "output_type": "stream",
       "stream": "stdout",
       "text": [
        "\n",
        "[ 0.01  0.    0.    0.03  0.01  0.9   0.02  0.    0.01  0.02]"
       ]
      },
      {
       "output_type": "stream",
       "stream": "stdout",
       "text": [
        "\n",
        "[ 0.01  0.    0.    0.    0.    0.01  0.97  0.    0.    0.  ]"
       ]
      },
      {
       "output_type": "stream",
       "stream": "stdout",
       "text": [
        "\n",
        "[ 0.    0.02  0.    0.    0.01  0.    0.    0.93  0.    0.03]"
       ]
      },
      {
       "output_type": "stream",
       "stream": "stdout",
       "text": [
        "\n",
        "[ 0.    0.02  0.01  0.03  0.01  0.03  0.01  0.01  0.86  0.02]"
       ]
      },
      {
       "output_type": "stream",
       "stream": "stdout",
       "text": [
        "\n",
        "[ 0.    0.    0.    0.01  0.03  0.    0.    0.03  0.    0.92]"
       ]
      },
      {
       "output_type": "stream",
       "stream": "stdout",
       "text": [
        "\n",
        "Saving plot_data...\n",
        "Start testing...\n",
        "Finding mean for k=9..."
       ]
      },
      {
       "output_type": "stream",
       "stream": "stdout",
       "text": [
        "\n",
        "[ 0.98  0.    0.    0.    0.    0.    0.01  0.    0.    0.  ]"
       ]
      },
      {
       "output_type": "stream",
       "stream": "stdout",
       "text": [
        "\n",
        "[ 0.    0.99  0.    0.    0.    0.    0.    0.    0.    0.  ]"
       ]
      },
      {
       "output_type": "stream",
       "stream": "stdout",
       "text": [
        "\n",
        "[ 0.01  0.01  0.9   0.01  0.01  0.    0.01  0.02  0.01  0.01]"
       ]
      },
      {
       "output_type": "stream",
       "stream": "stdout",
       "text": [
        "\n",
        "[ 0.    0.01  0.01  0.91  0.    0.03  0.    0.01  0.02  0.01]"
       ]
      },
      {
       "output_type": "stream",
       "stream": "stdout",
       "text": [
        "\n",
        "[ 0.    0.01  0.    0.    0.88  0.    0.01  0.01  0.    0.09]"
       ]
      },
      {
       "output_type": "stream",
       "stream": "stdout",
       "text": [
        "\n",
        "[ 0.01  0.    0.    0.04  0.01  0.88  0.02  0.    0.02  0.02]"
       ]
      },
      {
       "output_type": "stream",
       "stream": "stdout",
       "text": [
        "\n",
        "[ 0.01  0.01  0.    0.    0.    0.01  0.97  0.    0.    0.  ]"
       ]
      },
      {
       "output_type": "stream",
       "stream": "stdout",
       "text": [
        "\n",
        "[ 0.    0.02  0.    0.    0.01  0.    0.    0.92  0.    0.04]"
       ]
      },
      {
       "output_type": "stream",
       "stream": "stdout",
       "text": [
        "\n",
        "[ 0.    0.02  0.01  0.03  0.01  0.03  0.01  0.01  0.85  0.03]"
       ]
      },
      {
       "output_type": "stream",
       "stream": "stdout",
       "text": [
        "\n",
        "[ 0.    0.    0.    0.01  0.03  0.    0.    0.03  0.    0.91]"
       ]
      },
      {
       "output_type": "stream",
       "stream": "stdout",
       "text": [
        "\n",
        "Saving plot_data...\n",
        "Start testing...\n",
        "Finding mean for k=11..."
       ]
      },
      {
       "output_type": "stream",
       "stream": "stdout",
       "text": [
        "\n",
        "[ 0.98  0.    0.    0.    0.    0.    0.01  0.    0.    0.  ]"
       ]
      },
      {
       "output_type": "stream",
       "stream": "stdout",
       "text": [
        "\n",
        "[ 0.    0.99  0.    0.    0.    0.    0.    0.    0.    0.  ]"
       ]
      },
      {
       "output_type": "stream",
       "stream": "stdout",
       "text": [
        "\n",
        "[ 0.01  0.01  0.9   0.01  0.01  0.    0.01  0.03  0.02  0.01]"
       ]
      },
      {
       "output_type": "stream",
       "stream": "stdout",
       "text": [
        "\n",
        "[ 0.    0.01  0.01  0.9   0.    0.03  0.    0.01  0.02  0.01]"
       ]
      },
      {
       "output_type": "stream",
       "stream": "stdout",
       "text": [
        "\n",
        "[ 0.    0.01  0.    0.    0.86  0.    0.01  0.01  0.    0.1 ]"
       ]
      },
      {
       "output_type": "stream",
       "stream": "stdout",
       "text": [
        "\n",
        "[ 0.01  0.    0.    0.04  0.01  0.87  0.02  0.    0.02  0.02]"
       ]
      },
      {
       "output_type": "stream",
       "stream": "stdout",
       "text": [
        "\n",
        "[ 0.01  0.01  0.    0.    0.    0.01  0.97  0.    0.    0.  ]"
       ]
      },
      {
       "output_type": "stream",
       "stream": "stdout",
       "text": [
        "\n",
        "[ 0.    0.02  0.    0.    0.01  0.    0.    0.92  0.    0.04]"
       ]
      },
      {
       "output_type": "stream",
       "stream": "stdout",
       "text": [
        "\n",
        "[ 0.    0.02  0.01  0.04  0.01  0.04  0.01  0.01  0.83  0.03]"
       ]
      },
      {
       "output_type": "stream",
       "stream": "stdout",
       "text": [
        "\n",
        "[ 0.    0.    0.    0.01  0.03  0.    0.    0.04  0.    0.9 ]"
       ]
      },
      {
       "output_type": "stream",
       "stream": "stdout",
       "text": [
        "\n",
        "Saving plot_data...\n",
        "Start testing...\n",
        "Finding mean for k=20..."
       ]
      },
      {
       "output_type": "stream",
       "stream": "stdout",
       "text": [
        "\n",
        "[ 0.97  0.    0.    0.    0.    0.01  0.01  0.    0.    0.  ]"
       ]
      },
      {
       "output_type": "stream",
       "stream": "stdout",
       "text": [
        "\n",
        "[ 0.    0.99  0.    0.    0.    0.    0.    0.    0.    0.  ]"
       ]
      },
      {
       "output_type": "stream",
       "stream": "stdout",
       "text": [
        "\n",
        "[ 0.02  0.02  0.86  0.02  0.01  0.    0.01  0.03  0.02  0.01]"
       ]
      },
      {
       "output_type": "stream",
       "stream": "stdout",
       "text": [
        "\n",
        "[ 0.    0.01  0.01  0.87  0.    0.04  0.    0.01  0.03  0.02]"
       ]
      },
      {
       "output_type": "stream",
       "stream": "stdout",
       "text": [
        "\n",
        "[ 0.    0.01  0.    0.    0.81  0.    0.01  0.01  0.    0.14]"
       ]
      },
      {
       "output_type": "stream",
       "stream": "stdout",
       "text": [
        "\n",
        "[ 0.01  0.01  0.    0.06  0.01  0.83  0.02  0.    0.03  0.03]"
       ]
      },
      {
       "output_type": "stream",
       "stream": "stdout",
       "text": [
        "\n",
        "[ 0.02  0.01  0.    0.    0.    0.01  0.95  0.    0.    0.  ]"
       ]
      },
      {
       "output_type": "stream",
       "stream": "stdout",
       "text": [
        "\n",
        "[ 0.    0.02  0.    0.    0.01  0.    0.    0.89  0.    0.05]"
       ]
      },
      {
       "output_type": "stream",
       "stream": "stdout",
       "text": [
        "\n",
        "[ 0.01  0.03  0.01  0.05  0.01  0.04  0.01  0.01  0.79  0.04]"
       ]
      },
      {
       "output_type": "stream",
       "stream": "stdout",
       "text": [
        "\n",
        "[ 0.    0.01  0.    0.01  0.05  0.    0.    0.05  0.    0.87]"
       ]
      },
      {
       "output_type": "stream",
       "stream": "stdout",
       "text": [
        "\n",
        "Saving plot_data...\n",
        "Start testing...\n",
        "Finding mean for k=40..."
       ]
      },
      {
       "output_type": "stream",
       "stream": "stdout",
       "text": [
        "\n",
        "[ 0.95  0.    0.    0.    0.    0.01  0.02  0.    0.    0.  ]"
       ]
      },
      {
       "output_type": "stream",
       "stream": "stdout",
       "text": [
        "\n",
        "[ 0.    0.99  0.    0.    0.    0.    0.    0.    0.    0.  ]"
       ]
      },
      {
       "output_type": "stream",
       "stream": "stdout",
       "text": [
        "\n",
        "[ 0.02  0.03  0.81  0.02  0.02  0.01  0.01  0.04  0.02  0.01]"
       ]
      },
      {
       "output_type": "stream",
       "stream": "stdout",
       "text": [
        "\n",
        "[ 0.01  0.02  0.02  0.82  0.    0.06  0.01  0.01  0.04  0.02]"
       ]
      },
      {
       "output_type": "stream",
       "stream": "stdout",
       "text": [
        "\n",
        "[ 0.    0.02  0.01  0.    0.74  0.    0.01  0.02  0.    0.19]"
       ]
      },
      {
       "output_type": "stream",
       "stream": "stdout",
       "text": [
        "\n",
        "[ 0.02  0.01  0.    0.08  0.01  0.76  0.03  0.01  0.04  0.03]"
       ]
      },
      {
       "output_type": "stream",
       "stream": "stdout",
       "text": [
        "\n",
        "[ 0.02  0.01  0.    0.    0.01  0.01  0.93  0.    0.01  0.  ]"
       ]
      },
      {
       "output_type": "stream",
       "stream": "stdout",
       "text": [
        "\n",
        "[ 0.    0.03  0.01  0.    0.02  0.    0.    0.86  0.    0.07]"
       ]
      },
      {
       "output_type": "stream",
       "stream": "stdout",
       "text": [
        "\n",
        "[ 0.01  0.04  0.02  0.06  0.01  0.05  0.02  0.01  0.73  0.05]"
       ]
      },
      {
       "output_type": "stream",
       "stream": "stdout",
       "text": [
        "\n",
        "[ 0.01  0.01  0.    0.01  0.07  0.01  0.    0.07  0.01  0.82]"
       ]
      },
      {
       "output_type": "stream",
       "stream": "stdout",
       "text": [
        "\n",
        "Saving plot_data...\n",
        "Start testing...\n",
        "[array([ 0.043,  0.043]), array([ 0.05 ,  0.047]), array([ 0.054,  0.052]), array([ 0.053,  0.044]), array([ 0.053,  0.05 ]), array([ 0.053,  0.049]), array([ 0.06 ,  0.053]), array([ 0.075,  0.067])]"
       ]
      },
      {
       "output_type": "stream",
       "stream": "stdout",
       "text": [
        "\n",
        "== Fold 2 ==\n",
        "Fitting model...\n",
        "Finding mean for k=1..."
       ]
      },
      {
       "output_type": "stream",
       "stream": "stdout",
       "text": [
        "\n",
        "[ 1.  0.  0.  0.  0.  0.  0.  0.  0.  0.]\n",
        "[ 0.  1.  0.  0.  0.  0.  0.  0.  0.  0.]"
       ]
      },
      {
       "output_type": "stream",
       "stream": "stdout",
       "text": [
        "\n",
        "[ 0.  0.  1.  0.  0.  0.  0.  0.  0.  0.]"
       ]
      },
      {
       "output_type": "stream",
       "stream": "stdout",
       "text": [
        "\n",
        "[ 0.  0.  0.  1.  0.  0.  0.  0.  0.  0.]"
       ]
      },
      {
       "output_type": "stream",
       "stream": "stdout",
       "text": [
        "\n",
        "[ 0.  0.  0.  0.  1.  0.  0.  0.  0.  0.]\n",
        "[ 0.  0.  0.  0.  0.  1.  0.  0.  0.  0.]"
       ]
      },
      {
       "output_type": "stream",
       "stream": "stdout",
       "text": [
        "\n",
        "[ 0.  0.  0.  0.  0.  0.  1.  0.  0.  0.]"
       ]
      },
      {
       "output_type": "stream",
       "stream": "stdout",
       "text": [
        "\n",
        "[ 0.  0.  0.  0.  0.  0.  0.  1.  0.  0.]"
       ]
      },
      {
       "output_type": "stream",
       "stream": "stdout",
       "text": [
        "\n",
        "[ 0.  0.  0.  0.  0.  0.  0.  0.  1.  0.]"
       ]
      },
      {
       "output_type": "stream",
       "stream": "stdout",
       "text": [
        "\n",
        "[ 0.  0.  0.  0.  0.  0.  0.  0.  0.  1.]"
       ]
      },
      {
       "output_type": "stream",
       "stream": "stdout",
       "text": [
        "\n",
        "Saving plot_data...\n",
        "Start testing...\n",
        "Finding mean for k=3..."
       ]
      },
      {
       "output_type": "stream",
       "stream": "stdout",
       "text": [
        "\n",
        "[ 0.99  0.    0.    0.    0.    0.    0.    0.    0.    0.  ]"
       ]
      },
      {
       "output_type": "stream",
       "stream": "stdout",
       "text": [
        "\n",
        "[ 0.    0.99  0.    0.    0.    0.    0.    0.    0.    0.  ]"
       ]
      },
      {
       "output_type": "stream",
       "stream": "stdout",
       "text": [
        "\n",
        "[ 0.    0.01  0.96  0.    0.    0.    0.    0.01  0.01  0.  ]"
       ]
      },
      {
       "output_type": "stream",
       "stream": "stdout",
       "text": [
        "\n",
        "[ 0.    0.    0.01  0.96  0.    0.01  0.    0.    0.01  0.01]"
       ]
      },
      {
       "output_type": "stream",
       "stream": "stdout",
       "text": [
        "\n",
        "[ 0.    0.    0.    0.    0.95  0.    0.    0.01  0.    0.03]"
       ]
      },
      {
       "output_type": "stream",
       "stream": "stdout",
       "text": [
        "\n",
        "[ 0.01  0.    0.    0.02  0.    0.94  0.01  0.    0.    0.01]"
       ]
      },
      {
       "output_type": "stream",
       "stream": "stdout",
       "text": [
        "\n",
        "[ 0.01  0.    0.    0.    0.    0.    0.98  0.    0.    0.  ]"
       ]
      },
      {
       "output_type": "stream",
       "stream": "stdout",
       "text": [
        "\n",
        "[ 0.    0.01  0.    0.    0.01  0.    0.    0.96  0.    0.02]"
       ]
      },
      {
       "output_type": "stream",
       "stream": "stdout",
       "text": [
        "\n",
        "[ 0.    0.01  0.    0.02  0.    0.02  0.01  0.    0.91  0.01]"
       ]
      },
      {
       "output_type": "stream",
       "stream": "stdout",
       "text": [
        "\n",
        "[ 0.    0.    0.    0.    0.01  0.    0.    0.02  0.    0.96]"
       ]
      },
      {
       "output_type": "stream",
       "stream": "stdout",
       "text": [
        "\n",
        "Saving plot_data...\n",
        "Start testing...\n",
        "Finding mean for k=5..."
       ]
      },
      {
       "output_type": "stream",
       "stream": "stdout",
       "text": [
        "\n",
        "[ 0.99  0.    0.    0.    0.    0.    0.    0.    0.    0.  ]"
       ]
      },
      {
       "output_type": "stream",
       "stream": "stdout",
       "text": [
        "\n",
        "[ 0.    0.99  0.    0.    0.    0.    0.    0.    0.    0.  ]"
       ]
      },
      {
       "output_type": "stream",
       "stream": "stdout",
       "text": [
        "\n",
        "[ 0.01  0.01  0.94  0.01  0.    0.    0.    0.02  0.01  0.  ]"
       ]
      },
      {
       "output_type": "stream",
       "stream": "stdout",
       "text": [
        "\n",
        "[ 0.    0.    0.01  0.93  0.    0.02  0.    0.01  0.01  0.01]"
       ]
      },
      {
       "output_type": "stream",
       "stream": "stdout",
       "text": [
        "\n",
        "[ 0.    0.01  0.    0.    0.92  0.    0.    0.01  0.    0.06]"
       ]
      },
      {
       "output_type": "stream",
       "stream": "stdout",
       "text": [
        "\n",
        "[ 0.01  0.    0.    0.03  0.    0.92  0.01  0.    0.01  0.01]"
       ]
      },
      {
       "output_type": "stream",
       "stream": "stdout",
       "text": [
        "\n",
        "[ 0.01  0.    0.    0.    0.    0.01  0.98  0.    0.    0.  ]"
       ]
      },
      {
       "output_type": "stream",
       "stream": "stdout",
       "text": [
        "\n",
        "[ 0.    0.01  0.    0.    0.01  0.    0.    0.94  0.    0.03]"
       ]
      },
      {
       "output_type": "stream",
       "stream": "stdout",
       "text": [
        "\n",
        "[ 0.    0.02  0.01  0.03  0.01  0.02  0.01  0.    0.88  0.02]"
       ]
      },
      {
       "output_type": "stream",
       "stream": "stdout",
       "text": [
        "\n",
        "[ 0.    0.    0.    0.01  0.02  0.    0.    0.03  0.    0.93]"
       ]
      },
      {
       "output_type": "stream",
       "stream": "stdout",
       "text": [
        "\n",
        "Saving plot_data...\n",
        "Start testing...\n",
        "Finding mean for k=7..."
       ]
      },
      {
       "output_type": "stream",
       "stream": "stdout",
       "text": [
        "\n",
        "[ 0.99  0.    0.    0.    0.    0.    0.01  0.    0.    0.  ]"
       ]
      },
      {
       "output_type": "stream",
       "stream": "stdout",
       "text": [
        "\n",
        "[ 0.    0.99  0.    0.    0.    0.    0.    0.    0.    0.  ]"
       ]
      },
      {
       "output_type": "stream",
       "stream": "stdout",
       "text": [
        "\n",
        "[ 0.01  0.01  0.92  0.01  0.01  0.    0.01  0.02  0.01  0.  ]"
       ]
      },
      {
       "output_type": "stream",
       "stream": "stdout",
       "text": [
        "\n",
        "[ 0.    0.01  0.01  0.92  0.    0.03  0.    0.01  0.02  0.01]"
       ]
      },
      {
       "output_type": "stream",
       "stream": "stdout",
       "text": [
        "\n",
        "[ 0.    0.01  0.    0.    0.89  0.    0.01  0.01  0.    0.08]"
       ]
      },
      {
       "output_type": "stream",
       "stream": "stdout",
       "text": [
        "\n",
        "[ 0.01  0.    0.    0.04  0.    0.9   0.01  0.    0.01  0.02]"
       ]
      },
      {
       "output_type": "stream",
       "stream": "stdout",
       "text": [
        "\n",
        "[ 0.01  0.    0.    0.    0.    0.01  0.97  0.    0.    0.  ]"
       ]
      },
      {
       "output_type": "stream",
       "stream": "stdout",
       "text": [
        "\n",
        "[ 0.    0.02  0.    0.    0.01  0.    0.    0.93  0.    0.03]"
       ]
      },
      {
       "output_type": "stream",
       "stream": "stdout",
       "text": [
        "\n",
        "[ 0.    0.02  0.01  0.03  0.01  0.03  0.01  0.01  0.86  0.02]"
       ]
      },
      {
       "output_type": "stream",
       "stream": "stdout",
       "text": [
        "\n",
        "[ 0.    0.01  0.    0.01  0.03  0.    0.    0.03  0.    0.92]"
       ]
      },
      {
       "output_type": "stream",
       "stream": "stdout",
       "text": [
        "\n",
        "Saving plot_data...\n",
        "Start testing...\n",
        "Finding mean for k=9..."
       ]
      },
      {
       "output_type": "stream",
       "stream": "stdout",
       "text": [
        "\n",
        "[ 0.98  0.    0.    0.    0.    0.    0.01  0.    0.    0.  ]"
       ]
      },
      {
       "output_type": "stream",
       "stream": "stdout",
       "text": [
        "\n",
        "[ 0.    0.99  0.    0.    0.    0.    0.    0.    0.    0.  ]"
       ]
      },
      {
       "output_type": "stream",
       "stream": "stdout",
       "text": [
        "\n",
        "[ 0.01  0.01  0.91  0.01  0.01  0.    0.01  0.02  0.01  0.01]"
       ]
      },
      {
       "output_type": "stream",
       "stream": "stdout",
       "text": [
        "\n",
        "[ 0.    0.01  0.01  0.91  0.    0.03  0.    0.01  0.02  0.01]"
       ]
      },
      {
       "output_type": "stream",
       "stream": "stdout",
       "text": [
        "\n",
        "[ 0.    0.01  0.    0.    0.87  0.    0.01  0.01  0.    0.09]"
       ]
      },
      {
       "output_type": "stream",
       "stream": "stdout",
       "text": [
        "\n",
        "[ 0.01  0.    0.    0.04  0.    0.89  0.02  0.    0.01  0.02]"
       ]
      },
      {
       "output_type": "stream",
       "stream": "stdout",
       "text": [
        "\n",
        "[ 0.01  0.    0.    0.    0.    0.01  0.97  0.    0.    0.  ]"
       ]
      },
      {
       "output_type": "stream",
       "stream": "stdout",
       "text": [
        "\n",
        "[ 0.    0.02  0.    0.    0.01  0.    0.    0.92  0.    0.04]"
       ]
      },
      {
       "output_type": "stream",
       "stream": "stdout",
       "text": [
        "\n",
        "[ 0.    0.02  0.01  0.04  0.01  0.03  0.01  0.01  0.84  0.02]"
       ]
      },
      {
       "output_type": "stream",
       "stream": "stdout",
       "text": [
        "\n",
        "[ 0.    0.01  0.    0.01  0.03  0.    0.    0.03  0.    0.91]"
       ]
      },
      {
       "output_type": "stream",
       "stream": "stdout",
       "text": [
        "\n",
        "Saving plot_data...\n",
        "Start testing...\n",
        "Finding mean for k=11..."
       ]
      },
      {
       "output_type": "stream",
       "stream": "stdout",
       "text": [
        "\n",
        "[ 0.98  0.    0.    0.    0.    0.    0.01  0.    0.    0.  ]"
       ]
      },
      {
       "output_type": "stream",
       "stream": "stdout",
       "text": [
        "\n",
        "[ 0.    0.99  0.    0.    0.    0.    0.    0.    0.    0.  ]"
       ]
      },
      {
       "output_type": "stream",
       "stream": "stdout",
       "text": [
        "\n",
        "[ 0.01  0.01  0.9   0.01  0.01  0.    0.01  0.02  0.01  0.01]"
       ]
      },
      {
       "output_type": "stream",
       "stream": "stdout",
       "text": [
        "\n",
        "[ 0.    0.01  0.01  0.9   0.    0.03  0.    0.01  0.02  0.01]"
       ]
      },
      {
       "output_type": "stream",
       "stream": "stdout",
       "text": [
        "\n",
        "[ 0.    0.01  0.    0.    0.86  0.    0.01  0.01  0.    0.1 ]"
       ]
      },
      {
       "output_type": "stream",
       "stream": "stdout",
       "text": [
        "\n",
        "[ 0.01  0.    0.    0.05  0.01  0.87  0.02  0.    0.02  0.02]"
       ]
      },
      {
       "output_type": "stream",
       "stream": "stdout",
       "text": [
        "\n",
        "[ 0.01  0.01  0.    0.    0.    0.01  0.97  0.    0.    0.  ]"
       ]
      },
      {
       "output_type": "stream",
       "stream": "stdout",
       "text": [
        "\n",
        "[ 0.    0.02  0.    0.    0.01  0.    0.    0.92  0.    0.04]"
       ]
      },
      {
       "output_type": "stream",
       "stream": "stdout",
       "text": [
        "\n",
        "[ 0.    0.02  0.01  0.04  0.01  0.03  0.01  0.01  0.83  0.03]"
       ]
      },
      {
       "output_type": "stream",
       "stream": "stdout",
       "text": [
        "\n",
        "[ 0.    0.01  0.    0.01  0.03  0.    0.    0.04  0.    0.9 ]"
       ]
      },
      {
       "output_type": "stream",
       "stream": "stdout",
       "text": [
        "\n",
        "Saving plot_data...\n",
        "Start testing...\n",
        "Finding mean for k=20..."
       ]
      },
      {
       "output_type": "stream",
       "stream": "stdout",
       "text": [
        "\n",
        "[ 0.97  0.    0.    0.    0.    0.01  0.01  0.    0.    0.  ]"
       ]
      },
      {
       "output_type": "stream",
       "stream": "stdout",
       "text": [
        "\n",
        "[ 0.    0.99  0.    0.    0.    0.    0.    0.    0.    0.  ]"
       ]
      },
      {
       "output_type": "stream",
       "stream": "stdout",
       "text": [
        "\n",
        "[ 0.02  0.02  0.86  0.01  0.01  0.    0.01  0.03  0.02  0.01]"
       ]
      },
      {
       "output_type": "stream",
       "stream": "stdout",
       "text": [
        "\n",
        "[ 0.    0.01  0.01  0.86  0.    0.04  0.    0.01  0.03  0.02]"
       ]
      },
      {
       "output_type": "stream",
       "stream": "stdout",
       "text": [
        "\n",
        "[ 0.    0.02  0.    0.    0.81  0.    0.01  0.02  0.    0.14]"
       ]
      },
      {
       "output_type": "stream",
       "stream": "stdout",
       "text": [
        "\n",
        "[ 0.01  0.01  0.    0.06  0.01  0.83  0.02  0.    0.02  0.03]"
       ]
      },
      {
       "output_type": "stream",
       "stream": "stdout",
       "text": [
        "\n",
        "[ 0.02  0.01  0.    0.    0.    0.01  0.95  0.    0.    0.  ]"
       ]
      },
      {
       "output_type": "stream",
       "stream": "stdout",
       "text": [
        "\n",
        "[ 0.    0.02  0.    0.    0.01  0.    0.    0.89  0.    0.05]"
       ]
      },
      {
       "output_type": "stream",
       "stream": "stdout",
       "text": [
        "\n",
        "[ 0.01  0.03  0.01  0.05  0.01  0.04  0.02  0.01  0.79  0.04]"
       ]
      },
      {
       "output_type": "stream",
       "stream": "stdout",
       "text": [
        "\n",
        "[ 0.    0.01  0.    0.01  0.05  0.    0.    0.05  0.    0.87]"
       ]
      },
      {
       "output_type": "stream",
       "stream": "stdout",
       "text": [
        "\n",
        "Saving plot_data...\n",
        "Start testing...\n",
        "Finding mean for k=40..."
       ]
      },
      {
       "output_type": "stream",
       "stream": "stdout",
       "text": [
        "\n",
        "[ 0.95  0.    0.    0.    0.    0.01  0.02  0.    0.    0.  ]"
       ]
      },
      {
       "output_type": "stream",
       "stream": "stdout",
       "text": [
        "\n",
        "[ 0.    0.99  0.    0.    0.    0.    0.    0.    0.    0.  ]"
       ]
      },
      {
       "output_type": "stream",
       "stream": "stdout",
       "text": [
        "\n",
        "[ 0.02  0.03  0.81  0.02  0.02  0.01  0.01  0.04  0.02  0.01]"
       ]
      },
      {
       "output_type": "stream",
       "stream": "stdout",
       "text": [
        "\n",
        "[ 0.01  0.02  0.02  0.82  0.    0.06  0.01  0.01  0.04  0.02]"
       ]
      },
      {
       "output_type": "stream",
       "stream": "stdout",
       "text": [
        "\n",
        "[ 0.    0.02  0.01  0.    0.74  0.    0.01  0.02  0.    0.19]"
       ]
      },
      {
       "output_type": "stream",
       "stream": "stdout",
       "text": [
        "\n",
        "[ 0.02  0.01  0.    0.08  0.01  0.77  0.03  0.01  0.04  0.03]"
       ]
      },
      {
       "output_type": "stream",
       "stream": "stdout",
       "text": [
        "\n",
        "[ 0.02  0.01  0.    0.    0.01  0.01  0.93  0.    0.01  0.  ]"
       ]
      },
      {
       "output_type": "stream",
       "stream": "stdout",
       "text": [
        "\n",
        "[ 0.    0.03  0.    0.    0.02  0.    0.    0.86  0.    0.07]"
       ]
      },
      {
       "output_type": "stream",
       "stream": "stdout",
       "text": [
        "\n",
        "[ 0.01  0.04  0.02  0.06  0.01  0.05  0.02  0.01  0.74  0.04]"
       ]
      },
      {
       "output_type": "stream",
       "stream": "stdout",
       "text": [
        "\n",
        "[ 0.01  0.01  0.    0.01  0.07  0.01  0.    0.07  0.    0.82]"
       ]
      },
      {
       "output_type": "stream",
       "stream": "stdout",
       "text": [
        "\n",
        "Saving plot_data...\n",
        "Start testing...\n",
        "[array([ 0.051,  0.051]), array([ 0.051,  0.045]), array([ 0.052,  0.046]), array([ 0.053,  0.051]), array([ 0.058,  0.054]), array([ 0.056,  0.054]), array([ 0.068,  0.059]), array([ 0.078,  0.067])]"
       ]
      },
      {
       "output_type": "stream",
       "stream": "stdout",
       "text": [
        "\n",
        "== Fold 3 ==\n",
        "Fitting model...\n",
        "Finding mean for k=1..."
       ]
      },
      {
       "output_type": "stream",
       "stream": "stdout",
       "text": [
        "\n",
        "[ 1.  0.  0.  0.  0.  0.  0.  0.  0.  0.]\n",
        "[ 0.  1.  0.  0.  0.  0.  0.  0.  0.  0.]"
       ]
      },
      {
       "output_type": "stream",
       "stream": "stdout",
       "text": [
        "\n",
        "[ 0.  0.  1.  0.  0.  0.  0.  0.  0.  0.]"
       ]
      },
      {
       "output_type": "stream",
       "stream": "stdout",
       "text": [
        "\n",
        "[ 0.  0.  0.  1.  0.  0.  0.  0.  0.  0.]"
       ]
      },
      {
       "output_type": "stream",
       "stream": "stdout",
       "text": [
        "\n",
        "[ 0.  0.  0.  0.  1.  0.  0.  0.  0.  0.]\n",
        "[ 0.  0.  0.  0.  0.  1.  0.  0.  0.  0.]"
       ]
      },
      {
       "output_type": "stream",
       "stream": "stdout",
       "text": [
        "\n",
        "[ 0.  0.  0.  0.  0.  0.  1.  0.  0.  0.]\n",
        "[ 0.  0.  0.  0.  0.  0.  0.  1.  0.  0.]"
       ]
      },
      {
       "output_type": "stream",
       "stream": "stdout",
       "text": [
        "\n",
        "[ 0.  0.  0.  0.  0.  0.  0.  0.  1.  0.]"
       ]
      },
      {
       "output_type": "stream",
       "stream": "stdout",
       "text": [
        "\n",
        "[ 0.  0.  0.  0.  0.  0.  0.  0.  0.  1.]"
       ]
      },
      {
       "output_type": "stream",
       "stream": "stdout",
       "text": [
        "\n",
        "Saving plot_data...\n",
        "Start testing...\n",
        "Finding mean for k=3..."
       ]
      },
      {
       "output_type": "stream",
       "stream": "stdout",
       "text": [
        "\n",
        "[ 0.99  0.    0.    0.    0.    0.    0.    0.    0.    0.  ]"
       ]
      },
      {
       "output_type": "stream",
       "stream": "stdout",
       "text": [
        "\n",
        "[ 0.    0.99  0.    0.    0.    0.    0.    0.    0.    0.  ]"
       ]
      },
      {
       "output_type": "stream",
       "stream": "stdout",
       "text": [
        "\n",
        "[ 0.    0.01  0.96  0.    0.    0.    0.    0.01  0.01  0.  ]"
       ]
      },
      {
       "output_type": "stream",
       "stream": "stdout",
       "text": [
        "\n",
        "[ 0.    0.    0.01  0.95  0.    0.01  0.    0.    0.01  0.01]"
       ]
      },
      {
       "output_type": "stream",
       "stream": "stdout",
       "text": [
        "\n",
        "[ 0.    0.01  0.    0.    0.95  0.    0.    0.01  0.    0.03]"
       ]
      },
      {
       "output_type": "stream",
       "stream": "stdout",
       "text": [
        "\n",
        "[ 0.01  0.    0.    0.02  0.    0.94  0.01  0.    0.    0.01]"
       ]
      },
      {
       "output_type": "stream",
       "stream": "stdout",
       "text": [
        "\n",
        "[ 0.01  0.    0.    0.    0.    0.    0.98  0.    0.    0.  ]"
       ]
      },
      {
       "output_type": "stream",
       "stream": "stdout",
       "text": [
        "\n",
        "[ 0.    0.01  0.    0.    0.01  0.    0.    0.96  0.    0.02]"
       ]
      },
      {
       "output_type": "stream",
       "stream": "stdout",
       "text": [
        "\n",
        "[ 0.    0.01  0.    0.02  0.    0.02  0.01  0.    0.92  0.01]"
       ]
      },
      {
       "output_type": "stream",
       "stream": "stdout",
       "text": [
        "\n",
        "[ 0.    0.    0.    0.    0.01  0.    0.    0.02  0.    0.96]"
       ]
      },
      {
       "output_type": "stream",
       "stream": "stdout",
       "text": [
        "\n",
        "Saving plot_data...\n",
        "Start testing...\n",
        "Finding mean for k=5..."
       ]
      },
      {
       "output_type": "stream",
       "stream": "stdout",
       "text": [
        "\n",
        "[ 0.99  0.    0.    0.    0.    0.    0.    0.    0.    0.  ]"
       ]
      },
      {
       "output_type": "stream",
       "stream": "stdout",
       "text": [
        "\n",
        "[ 0.    0.99  0.    0.    0.    0.    0.    0.    0.    0.  ]"
       ]
      },
      {
       "output_type": "stream",
       "stream": "stdout",
       "text": [
        "\n",
        "[ 0.01  0.01  0.94  0.    0.01  0.    0.    0.02  0.01  0.  ]"
       ]
      },
      {
       "output_type": "stream",
       "stream": "stdout",
       "text": [
        "\n",
        "[ 0.    0.01  0.01  0.93  0.    0.02  0.    0.01  0.01  0.01]"
       ]
      },
      {
       "output_type": "stream",
       "stream": "stdout",
       "text": [
        "\n",
        "[ 0.    0.01  0.    0.    0.92  0.    0.    0.01  0.    0.06]"
       ]
      },
      {
       "output_type": "stream",
       "stream": "stdout",
       "text": [
        "\n",
        "[ 0.01  0.    0.    0.03  0.01  0.92  0.01  0.    0.01  0.01]"
       ]
      },
      {
       "output_type": "stream",
       "stream": "stdout",
       "text": [
        "\n",
        "[ 0.01  0.    0.    0.    0.    0.    0.98  0.    0.    0.  ]"
       ]
      },
      {
       "output_type": "stream",
       "stream": "stdout",
       "text": [
        "\n",
        "[ 0.    0.01  0.    0.    0.01  0.    0.    0.95  0.    0.02]"
       ]
      },
      {
       "output_type": "stream",
       "stream": "stdout",
       "text": [
        "\n",
        "[ 0.    0.02  0.01  0.03  0.    0.03  0.01  0.01  0.89  0.02]"
       ]
      },
      {
       "output_type": "stream",
       "stream": "stdout",
       "text": [
        "\n",
        "[ 0.    0.    0.    0.01  0.02  0.    0.    0.03  0.    0.93]"
       ]
      },
      {
       "output_type": "stream",
       "stream": "stdout",
       "text": [
        "\n",
        "Saving plot_data...\n",
        "Start testing...\n",
        "Finding mean for k=7..."
       ]
      },
      {
       "output_type": "stream",
       "stream": "stdout",
       "text": [
        "\n",
        "[ 0.99  0.    0.    0.    0.    0.    0.01  0.    0.    0.  ]"
       ]
      },
      {
       "output_type": "stream",
       "stream": "stdout",
       "text": [
        "\n",
        "[ 0.    0.99  0.    0.    0.    0.    0.    0.    0.    0.  ]"
       ]
      },
      {
       "output_type": "stream",
       "stream": "stdout",
       "text": [
        "\n",
        "[ 0.01  0.01  0.92  0.01  0.01  0.    0.01  0.02  0.01  0.  ]"
       ]
      },
      {
       "output_type": "stream",
       "stream": "stdout",
       "text": [
        "\n",
        "[ 0.    0.01  0.01  0.92  0.    0.03  0.    0.01  0.02  0.01]"
       ]
      },
      {
       "output_type": "stream",
       "stream": "stdout",
       "text": [
        "\n",
        "[ 0.    0.01  0.    0.    0.9   0.    0.01  0.01  0.    0.08]"
       ]
      },
      {
       "output_type": "stream",
       "stream": "stdout",
       "text": [
        "\n",
        "[ 0.01  0.    0.    0.04  0.    0.9   0.02  0.    0.01  0.01]"
       ]
      },
      {
       "output_type": "stream",
       "stream": "stdout",
       "text": [
        "\n",
        "[ 0.01  0.    0.    0.    0.    0.01  0.97  0.    0.    0.  ]"
       ]
      },
      {
       "output_type": "stream",
       "stream": "stdout",
       "text": [
        "\n",
        "[ 0.    0.02  0.    0.    0.01  0.    0.    0.93  0.    0.03]"
       ]
      },
      {
       "output_type": "stream",
       "stream": "stdout",
       "text": [
        "\n",
        "[ 0.    0.02  0.01  0.03  0.01  0.03  0.01  0.01  0.86  0.02]"
       ]
      },
      {
       "output_type": "stream",
       "stream": "stdout",
       "text": [
        "\n",
        "[ 0.    0.    0.    0.01  0.03  0.    0.    0.03  0.    0.92]"
       ]
      },
      {
       "output_type": "stream",
       "stream": "stdout",
       "text": [
        "\n",
        "Saving plot_data...\n",
        "Start testing...\n",
        "Finding mean for k=9..."
       ]
      },
      {
       "output_type": "stream",
       "stream": "stdout",
       "text": [
        "\n",
        "[ 0.98  0.    0.    0.    0.    0.    0.01  0.    0.    0.  ]"
       ]
      },
      {
       "output_type": "stream",
       "stream": "stdout",
       "text": [
        "\n",
        "[ 0.    0.99  0.    0.    0.    0.    0.    0.    0.    0.  ]"
       ]
      },
      {
       "output_type": "stream",
       "stream": "stdout",
       "text": [
        "\n",
        "[ 0.01  0.01  0.91  0.01  0.01  0.    0.01  0.02  0.01  0.01]"
       ]
      },
      {
       "output_type": "stream",
       "stream": "stdout",
       "text": [
        "\n",
        "[ 0.    0.01  0.01  0.91  0.    0.03  0.    0.01  0.02  0.01]"
       ]
      },
      {
       "output_type": "stream",
       "stream": "stdout",
       "text": [
        "\n",
        "[ 0.    0.01  0.    0.    0.87  0.    0.01  0.01  0.    0.09]"
       ]
      },
      {
       "output_type": "stream",
       "stream": "stdout",
       "text": [
        "\n",
        "[ 0.01  0.    0.    0.04  0.01  0.89  0.02  0.    0.02  0.02]"
       ]
      },
      {
       "output_type": "stream",
       "stream": "stdout",
       "text": [
        "\n",
        "[ 0.01  0.01  0.    0.    0.    0.01  0.97  0.    0.    0.  ]"
       ]
      },
      {
       "output_type": "stream",
       "stream": "stdout",
       "text": [
        "\n",
        "[ 0.    0.02  0.    0.    0.01  0.    0.    0.92  0.    0.04]"
       ]
      },
      {
       "output_type": "stream",
       "stream": "stdout",
       "text": [
        "\n",
        "[ 0.    0.02  0.01  0.04  0.01  0.03  0.01  0.01  0.85  0.02]"
       ]
      },
      {
       "output_type": "stream",
       "stream": "stdout",
       "text": [
        "\n",
        "[ 0.    0.    0.    0.01  0.03  0.    0.    0.03  0.    0.91]"
       ]
      },
      {
       "output_type": "stream",
       "stream": "stdout",
       "text": [
        "\n",
        "Saving plot_data...\n",
        "Start testing...\n",
        "Finding mean for k=11..."
       ]
      },
      {
       "output_type": "stream",
       "stream": "stdout",
       "text": [
        "\n",
        "[ 0.98  0.    0.    0.    0.    0.    0.01  0.    0.    0.  ]"
       ]
      },
      {
       "output_type": "stream",
       "stream": "stdout",
       "text": [
        "\n",
        "[ 0.    0.99  0.    0.    0.    0.    0.    0.    0.    0.  ]"
       ]
      },
      {
       "output_type": "stream",
       "stream": "stdout",
       "text": [
        "\n",
        "[ 0.01  0.01  0.9   0.01  0.01  0.    0.01  0.02  0.01  0.01]"
       ]
      },
      {
       "output_type": "stream",
       "stream": "stdout",
       "text": [
        "\n",
        "[ 0.    0.01  0.01  0.9   0.    0.03  0.    0.01  0.02  0.01]"
       ]
      },
      {
       "output_type": "stream",
       "stream": "stdout",
       "text": [
        "\n",
        "[ 0.    0.01  0.    0.    0.86  0.    0.01  0.01  0.    0.1 ]"
       ]
      },
      {
       "output_type": "stream",
       "stream": "stdout",
       "text": [
        "\n",
        "[ 0.01  0.    0.    0.04  0.    0.88  0.02  0.    0.02  0.02]"
       ]
      },
      {
       "output_type": "stream",
       "stream": "stdout",
       "text": [
        "\n",
        "[ 0.01  0.01  0.    0.    0.    0.01  0.96  0.    0.    0.  ]"
       ]
      },
      {
       "output_type": "stream",
       "stream": "stdout",
       "text": [
        "\n",
        "[ 0.    0.02  0.    0.    0.01  0.    0.    0.92  0.    0.04]"
       ]
      },
      {
       "output_type": "stream",
       "stream": "stdout",
       "text": [
        "\n",
        "[ 0.01  0.02  0.01  0.04  0.01  0.04  0.01  0.01  0.83  0.03]"
       ]
      },
      {
       "output_type": "stream",
       "stream": "stdout",
       "text": [
        "\n",
        "[ 0.01  0.01  0.    0.01  0.04  0.    0.    0.04  0.    0.9 ]"
       ]
      },
      {
       "output_type": "stream",
       "stream": "stdout",
       "text": [
        "\n",
        "Saving plot_data...\n",
        "Start testing...\n",
        "Finding mean for k=20..."
       ]
      },
      {
       "output_type": "stream",
       "stream": "stdout",
       "text": [
        "\n",
        "[ 0.97  0.    0.    0.    0.    0.01  0.01  0.    0.    0.  ]"
       ]
      },
      {
       "output_type": "stream",
       "stream": "stdout",
       "text": [
        "\n",
        "[ 0.    0.99  0.    0.    0.    0.    0.    0.    0.    0.  ]"
       ]
      },
      {
       "output_type": "stream",
       "stream": "stdout",
       "text": [
        "\n",
        "[ 0.02  0.02  0.87  0.01  0.01  0.    0.01  0.03  0.02  0.01]"
       ]
      },
      {
       "output_type": "stream",
       "stream": "stdout",
       "text": [
        "\n",
        "[ 0.    0.01  0.01  0.87  0.    0.04  0.    0.01  0.03  0.02]"
       ]
      },
      {
       "output_type": "stream",
       "stream": "stdout",
       "text": [
        "\n",
        "[ 0.    0.02  0.    0.    0.81  0.    0.01  0.01  0.    0.14]"
       ]
      },
      {
       "output_type": "stream",
       "stream": "stdout",
       "text": [
        "\n",
        "[ 0.01  0.01  0.    0.06  0.01  0.83  0.03  0.    0.03  0.02]"
       ]
      },
      {
       "output_type": "stream",
       "stream": "stdout",
       "text": [
        "\n",
        "[ 0.02  0.01  0.    0.    0.    0.01  0.95  0.    0.    0.  ]"
       ]
      },
      {
       "output_type": "stream",
       "stream": "stdout",
       "text": [
        "\n",
        "[ 0.    0.03  0.    0.    0.01  0.    0.    0.89  0.    0.05]"
       ]
      },
      {
       "output_type": "stream",
       "stream": "stdout",
       "text": [
        "\n",
        "[ 0.01  0.03  0.01  0.05  0.01  0.04  0.02  0.01  0.79  0.03]"
       ]
      },
      {
       "output_type": "stream",
       "stream": "stdout",
       "text": [
        "\n",
        "[ 0.01  0.01  0.    0.01  0.05  0.    0.    0.05  0.    0.86]"
       ]
      },
      {
       "output_type": "stream",
       "stream": "stdout",
       "text": [
        "\n",
        "Saving plot_data...\n",
        "Start testing...\n",
        "Finding mean for k=40..."
       ]
      },
      {
       "output_type": "stream",
       "stream": "stdout",
       "text": [
        "\n",
        "[ 0.95  0.    0.    0.    0.    0.01  0.02  0.    0.    0.  ]"
       ]
      },
      {
       "output_type": "stream",
       "stream": "stdout",
       "text": [
        "\n",
        "[ 0.    0.99  0.    0.    0.    0.    0.    0.    0.    0.  ]"
       ]
      },
      {
       "output_type": "stream",
       "stream": "stdout",
       "text": [
        "\n",
        "[ 0.02  0.03  0.81  0.02  0.02  0.01  0.01  0.04  0.02  0.01]"
       ]
      },
      {
       "output_type": "stream",
       "stream": "stdout",
       "text": [
        "\n",
        "[ 0.01  0.02  0.02  0.82  0.    0.06  0.01  0.01  0.04  0.02]"
       ]
      },
      {
       "output_type": "stream",
       "stream": "stdout",
       "text": [
        "\n",
        "[ 0.    0.02  0.01  0.    0.74  0.    0.01  0.02  0.    0.19]"
       ]
      },
      {
       "output_type": "stream",
       "stream": "stdout",
       "text": [
        "\n",
        "[ 0.02  0.01  0.    0.08  0.01  0.77  0.03  0.01  0.04  0.03]"
       ]
      },
      {
       "output_type": "stream",
       "stream": "stdout",
       "text": [
        "\n",
        "[ 0.02  0.01  0.    0.    0.01  0.01  0.93  0.    0.01  0.  ]"
       ]
      },
      {
       "output_type": "stream",
       "stream": "stdout",
       "text": [
        "\n",
        "[ 0.    0.03  0.    0.    0.02  0.    0.    0.86  0.    0.07]"
       ]
      },
      {
       "output_type": "stream",
       "stream": "stdout",
       "text": [
        "\n",
        "[ 0.01  0.04  0.02  0.06  0.01  0.05  0.02  0.01  0.74  0.04]"
       ]
      },
      {
       "output_type": "stream",
       "stream": "stdout",
       "text": [
        "\n",
        "[ 0.01  0.01  0.    0.01  0.07  0.01  0.    0.07  0.    0.82]"
       ]
      },
      {
       "output_type": "stream",
       "stream": "stdout",
       "text": [
        "\n",
        "Saving plot_data...\n",
        "Start testing...\n",
        "[array([ 0.049,  0.049]), array([ 0.053,  0.05 ]), array([ 0.055,  0.052]), array([ 0.056,  0.057]), array([ 0.058,  0.057]), array([ 0.055,  0.055]), array([ 0.062,  0.057]), array([ 0.082,  0.072])]"
       ]
      },
      {
       "output_type": "stream",
       "stream": "stdout",
       "text": [
        "\n",
        "== Fold 4 ==\n",
        "Fitting model...\n",
        "Finding mean for k=1..."
       ]
      },
      {
       "output_type": "stream",
       "stream": "stdout",
       "text": [
        "\n",
        "[ 1.  0.  0.  0.  0.  0.  0.  0.  0.  0.]\n",
        "[ 0.  1.  0.  0.  0.  0.  0.  0.  0.  0.]"
       ]
      },
      {
       "output_type": "stream",
       "stream": "stdout",
       "text": [
        "\n",
        "[ 0.  0.  1.  0.  0.  0.  0.  0.  0.  0.]"
       ]
      },
      {
       "output_type": "stream",
       "stream": "stdout",
       "text": [
        "\n",
        "[ 0.  0.  0.  1.  0.  0.  0.  0.  0.  0.]"
       ]
      },
      {
       "output_type": "stream",
       "stream": "stdout",
       "text": [
        "\n",
        "[ 0.  0.  0.  0.  1.  0.  0.  0.  0.  0.]\n",
        "[ 0.  0.  0.  0.  0.  1.  0.  0.  0.  0.]"
       ]
      },
      {
       "output_type": "stream",
       "stream": "stdout",
       "text": [
        "\n",
        "[ 0.  0.  0.  0.  0.  0.  1.  0.  0.  0.]\n",
        "[ 0.  0.  0.  0.  0.  0.  0.  1.  0.  0.]"
       ]
      },
      {
       "output_type": "stream",
       "stream": "stdout",
       "text": [
        "\n",
        "[ 0.  0.  0.  0.  0.  0.  0.  0.  1.  0.]"
       ]
      },
      {
       "output_type": "stream",
       "stream": "stdout",
       "text": [
        "\n",
        "[ 0.  0.  0.  0.  0.  0.  0.  0.  0.  1.]\n",
        "Saving plot_data...\n",
        "Start testing..."
       ]
      },
      {
       "output_type": "stream",
       "stream": "stdout",
       "text": [
        "\n",
        "Finding mean for k=3..."
       ]
      },
      {
       "output_type": "stream",
       "stream": "stdout",
       "text": [
        "\n",
        "[ 0.99  0.    0.    0.    0.    0.    0.    0.    0.    0.  ]"
       ]
      },
      {
       "output_type": "stream",
       "stream": "stdout",
       "text": [
        "\n",
        "[ 0.    0.99  0.    0.    0.    0.    0.    0.    0.    0.  ]"
       ]
      },
      {
       "output_type": "stream",
       "stream": "stdout",
       "text": [
        "\n",
        "[ 0.    0.01  0.96  0.    0.    0.    0.    0.02  0.01  0.  ]"
       ]
      },
      {
       "output_type": "stream",
       "stream": "stdout",
       "text": [
        "\n",
        "[ 0.    0.    0.    0.96  0.    0.01  0.    0.    0.01  0.01]"
       ]
      },
      {
       "output_type": "stream",
       "stream": "stdout",
       "text": [
        "\n",
        "[ 0.    0.    0.    0.    0.95  0.    0.    0.    0.    0.03]"
       ]
      },
      {
       "output_type": "stream",
       "stream": "stdout",
       "text": [
        "\n",
        "[ 0.01  0.    0.    0.02  0.    0.94  0.01  0.    0.01  0.01]"
       ]
      },
      {
       "output_type": "stream",
       "stream": "stdout",
       "text": [
        "\n",
        "[ 0.01  0.    0.    0.    0.    0.    0.98  0.    0.    0.  ]"
       ]
      },
      {
       "output_type": "stream",
       "stream": "stdout",
       "text": [
        "\n",
        "[ 0.    0.01  0.    0.    0.    0.    0.    0.97  0.    0.02]"
       ]
      },
      {
       "output_type": "stream",
       "stream": "stdout",
       "text": [
        "\n",
        "[ 0.    0.01  0.    0.02  0.    0.02  0.01  0.    0.92  0.01]"
       ]
      },
      {
       "output_type": "stream",
       "stream": "stdout",
       "text": [
        "\n",
        "[ 0.    0.    0.    0.    0.02  0.    0.    0.01  0.    0.96]"
       ]
      },
      {
       "output_type": "stream",
       "stream": "stdout",
       "text": [
        "\n",
        "Saving plot_data...\n",
        "Start testing...\n",
        "Finding mean for k=5..."
       ]
      },
      {
       "output_type": "stream",
       "stream": "stdout",
       "text": [
        "\n",
        "[ 0.99  0.    0.    0.    0.    0.    0.    0.    0.    0.  ]"
       ]
      },
      {
       "output_type": "stream",
       "stream": "stdout",
       "text": [
        "\n",
        "[ 0.    0.99  0.    0.    0.    0.    0.    0.    0.    0.  ]"
       ]
      },
      {
       "output_type": "stream",
       "stream": "stdout",
       "text": [
        "\n",
        "[ 0.01  0.01  0.93  0.    0.01  0.    0.    0.02  0.01  0.01]"
       ]
      },
      {
       "output_type": "stream",
       "stream": "stdout",
       "text": [
        "\n",
        "[ 0.    0.    0.01  0.94  0.    0.02  0.    0.    0.01  0.01]"
       ]
      },
      {
       "output_type": "stream",
       "stream": "stdout",
       "text": [
        "\n",
        "[ 0.    0.01  0.    0.    0.92  0.    0.01  0.01  0.    0.06]"
       ]
      },
      {
       "output_type": "stream",
       "stream": "stdout",
       "text": [
        "\n",
        "[ 0.01  0.    0.    0.03  0.    0.92  0.01  0.    0.01  0.01]"
       ]
      },
      {
       "output_type": "stream",
       "stream": "stdout",
       "text": [
        "\n",
        "[ 0.01  0.    0.    0.    0.    0.01  0.98  0.    0.    0.  ]"
       ]
      },
      {
       "output_type": "stream",
       "stream": "stdout",
       "text": [
        "\n",
        "[ 0.    0.01  0.    0.    0.01  0.    0.    0.95  0.    0.03]"
       ]
      },
      {
       "output_type": "stream",
       "stream": "stdout",
       "text": [
        "\n",
        "[ 0.    0.02  0.01  0.02  0.01  0.03  0.01  0.    0.89  0.02]"
       ]
      },
      {
       "output_type": "stream",
       "stream": "stdout",
       "text": [
        "\n",
        "[ 0.    0.    0.    0.01  0.02  0.    0.    0.02  0.    0.94]"
       ]
      },
      {
       "output_type": "stream",
       "stream": "stdout",
       "text": [
        "\n",
        "Saving plot_data...\n",
        "Start testing...\n",
        "Finding mean for k=7..."
       ]
      },
      {
       "output_type": "stream",
       "stream": "stdout",
       "text": [
        "\n",
        "[ 0.98  0.    0.    0.    0.    0.    0.01  0.    0.    0.  ]"
       ]
      },
      {
       "output_type": "stream",
       "stream": "stdout",
       "text": [
        "\n",
        "[ 0.    0.99  0.    0.    0.    0.    0.    0.    0.    0.  ]"
       ]
      },
      {
       "output_type": "stream",
       "stream": "stdout",
       "text": [
        "\n",
        "[ 0.01  0.01  0.92  0.01  0.01  0.    0.01  0.02  0.01  0.01]"
       ]
      },
      {
       "output_type": "stream",
       "stream": "stdout",
       "text": [
        "\n",
        "[ 0.    0.01  0.01  0.92  0.    0.03  0.    0.01  0.02  0.01]"
       ]
      },
      {
       "output_type": "stream",
       "stream": "stdout",
       "text": [
        "\n",
        "[ 0.    0.01  0.    0.    0.9   0.    0.01  0.01  0.    0.08]"
       ]
      },
      {
       "output_type": "stream",
       "stream": "stdout",
       "text": [
        "\n",
        "[ 0.01  0.    0.    0.04  0.    0.9   0.02  0.    0.01  0.02]"
       ]
      },
      {
       "output_type": "stream",
       "stream": "stdout",
       "text": [
        "\n",
        "[ 0.01  0.01  0.    0.    0.    0.01  0.97  0.    0.    0.  ]"
       ]
      },
      {
       "output_type": "stream",
       "stream": "stdout",
       "text": [
        "\n",
        "[ 0.    0.02  0.    0.    0.01  0.    0.    0.93  0.    0.03]"
       ]
      },
      {
       "output_type": "stream",
       "stream": "stdout",
       "text": [
        "\n",
        "[ 0.    0.02  0.01  0.03  0.01  0.03  0.01  0.01  0.87  0.02]"
       ]
      },
      {
       "output_type": "stream",
       "stream": "stdout",
       "text": [
        "\n",
        "[ 0.    0.    0.    0.01  0.03  0.    0.    0.03  0.    0.92]"
       ]
      },
      {
       "output_type": "stream",
       "stream": "stdout",
       "text": [
        "\n",
        "Saving plot_data...\n",
        "Start testing...\n",
        "Finding mean for k=9..."
       ]
      },
      {
       "output_type": "stream",
       "stream": "stdout",
       "text": [
        "\n",
        "[ 0.98  0.    0.    0.    0.    0.    0.01  0.    0.    0.  ]"
       ]
      },
      {
       "output_type": "stream",
       "stream": "stdout",
       "text": [
        "\n",
        "[ 0.    0.99  0.    0.    0.    0.    0.    0.    0.    0.  ]"
       ]
      },
      {
       "output_type": "stream",
       "stream": "stdout",
       "text": [
        "\n",
        "[ 0.01  0.01  0.91  0.01  0.01  0.    0.01  0.02  0.01  0.01]"
       ]
      },
      {
       "output_type": "stream",
       "stream": "stdout",
       "text": [
        "\n",
        "[ 0.    0.01  0.01  0.91  0.    0.03  0.    0.01  0.02  0.01]"
       ]
      },
      {
       "output_type": "stream",
       "stream": "stdout",
       "text": [
        "\n",
        "[ 0.    0.01  0.    0.    0.88  0.    0.01  0.01  0.    0.09]"
       ]
      },
      {
       "output_type": "stream",
       "stream": "stdout",
       "text": [
        "\n",
        "[ 0.01  0.    0.    0.04  0.    0.89  0.02  0.    0.02  0.02]"
       ]
      },
      {
       "output_type": "stream",
       "stream": "stdout",
       "text": [
        "\n",
        "[ 0.01  0.01  0.    0.    0.    0.01  0.97  0.    0.    0.  ]"
       ]
      },
      {
       "output_type": "stream",
       "stream": "stdout",
       "text": [
        "\n",
        "[ 0.    0.02  0.    0.    0.01  0.    0.    0.92  0.    0.04]"
       ]
      },
      {
       "output_type": "stream",
       "stream": "stdout",
       "text": [
        "\n",
        "[ 0.    0.02  0.01  0.03  0.01  0.03  0.01  0.01  0.85  0.02]"
       ]
      },
      {
       "output_type": "stream",
       "stream": "stdout",
       "text": [
        "\n",
        "[ 0.    0.01  0.    0.01  0.03  0.    0.    0.03  0.    0.91]"
       ]
      },
      {
       "output_type": "stream",
       "stream": "stdout",
       "text": [
        "\n",
        "Saving plot_data...\n",
        "Start testing...\n",
        "Finding mean for k=11..."
       ]
      },
      {
       "output_type": "stream",
       "stream": "stdout",
       "text": [
        "\n",
        "[ 0.98  0.    0.    0.    0.    0.    0.01  0.    0.    0.  ]"
       ]
      },
      {
       "output_type": "stream",
       "stream": "stdout",
       "text": [
        "\n",
        "[ 0.    0.99  0.    0.    0.    0.    0.    0.    0.    0.  ]"
       ]
      },
      {
       "output_type": "stream",
       "stream": "stdout",
       "text": [
        "\n",
        "[ 0.01  0.01  0.9   0.01  0.01  0.    0.01  0.03  0.01  0.01]"
       ]
      },
      {
       "output_type": "stream",
       "stream": "stdout",
       "text": [
        "\n",
        "[ 0.    0.01  0.01  0.9   0.    0.03  0.    0.01  0.02  0.01]"
       ]
      },
      {
       "output_type": "stream",
       "stream": "stdout",
       "text": [
        "\n",
        "[ 0.    0.01  0.    0.    0.86  0.    0.01  0.01  0.    0.1 ]"
       ]
      },
      {
       "output_type": "stream",
       "stream": "stdout",
       "text": [
        "\n",
        "[ 0.01  0.    0.    0.05  0.    0.87  0.02  0.    0.02  0.02]"
       ]
      },
      {
       "output_type": "stream",
       "stream": "stdout",
       "text": [
        "\n",
        "[ 0.01  0.01  0.    0.    0.    0.01  0.96  0.    0.    0.  ]"
       ]
      },
      {
       "output_type": "stream",
       "stream": "stdout",
       "text": [
        "\n",
        "[ 0.    0.02  0.    0.    0.01  0.    0.    0.92  0.    0.04]"
       ]
      },
      {
       "output_type": "stream",
       "stream": "stdout",
       "text": [
        "\n",
        "[ 0.    0.02  0.01  0.04  0.01  0.03  0.01  0.01  0.84  0.02]"
       ]
      },
      {
       "output_type": "stream",
       "stream": "stdout",
       "text": [
        "\n",
        "[ 0.    0.01  0.    0.01  0.04  0.    0.    0.04  0.    0.9 ]"
       ]
      },
      {
       "output_type": "stream",
       "stream": "stdout",
       "text": [
        "\n",
        "Saving plot_data...\n",
        "Start testing...\n",
        "Finding mean for k=20..."
       ]
      },
      {
       "output_type": "stream",
       "stream": "stdout",
       "text": [
        "\n",
        "[ 0.97  0.    0.    0.    0.    0.01  0.01  0.    0.    0.  ]"
       ]
      },
      {
       "output_type": "stream",
       "stream": "stdout",
       "text": [
        "\n",
        "[ 0.    0.99  0.    0.    0.    0.    0.    0.    0.    0.  ]"
       ]
      },
      {
       "output_type": "stream",
       "stream": "stdout",
       "text": [
        "\n",
        "[ 0.02  0.02  0.86  0.01  0.01  0.    0.01  0.03  0.02  0.01]"
       ]
      },
      {
       "output_type": "stream",
       "stream": "stdout",
       "text": [
        "\n",
        "[ 0.    0.01  0.01  0.87  0.    0.04  0.    0.01  0.03  0.02]"
       ]
      },
      {
       "output_type": "stream",
       "stream": "stdout",
       "text": [
        "\n",
        "[ 0.    0.02  0.    0.    0.81  0.    0.01  0.01  0.    0.14]"
       ]
      },
      {
       "output_type": "stream",
       "stream": "stdout",
       "text": [
        "\n",
        "[ 0.01  0.01  0.    0.07  0.01  0.83  0.02  0.    0.03  0.02]"
       ]
      },
      {
       "output_type": "stream",
       "stream": "stdout",
       "text": [
        "\n",
        "[ 0.02  0.01  0.    0.    0.    0.01  0.95  0.    0.    0.  ]"
       ]
      },
      {
       "output_type": "stream",
       "stream": "stdout",
       "text": [
        "\n",
        "[ 0.    0.03  0.01  0.    0.01  0.    0.    0.89  0.    0.05]"
       ]
      },
      {
       "output_type": "stream",
       "stream": "stdout",
       "text": [
        "\n",
        "[ 0.01  0.03  0.01  0.05  0.01  0.04  0.01  0.01  0.79  0.03]"
       ]
      },
      {
       "output_type": "stream",
       "stream": "stdout",
       "text": [
        "\n",
        "[ 0.    0.01  0.    0.01  0.05  0.    0.    0.05  0.    0.87]"
       ]
      },
      {
       "output_type": "stream",
       "stream": "stdout",
       "text": [
        "\n",
        "Saving plot_data...\n",
        "Start testing...\n",
        "Finding mean for k=40..."
       ]
      },
      {
       "output_type": "stream",
       "stream": "stdout",
       "text": [
        "\n",
        "[ 0.95  0.    0.    0.    0.    0.01  0.02  0.    0.    0.  ]"
       ]
      },
      {
       "output_type": "stream",
       "stream": "stdout",
       "text": [
        "\n",
        "[ 0.    0.99  0.    0.    0.    0.    0.    0.    0.    0.  ]"
       ]
      },
      {
       "output_type": "stream",
       "stream": "stdout",
       "text": [
        "\n",
        "[ 0.02  0.03  0.81  0.02  0.02  0.    0.01  0.04  0.02  0.01]"
       ]
      },
      {
       "output_type": "stream",
       "stream": "stdout",
       "text": [
        "\n",
        "[ 0.01  0.02  0.02  0.82  0.    0.05  0.01  0.01  0.04  0.02]"
       ]
      },
      {
       "output_type": "stream",
       "stream": "stdout",
       "text": [
        "\n",
        "[ 0.    0.02  0.    0.    0.74  0.    0.01  0.02  0.    0.19]"
       ]
      },
      {
       "output_type": "stream",
       "stream": "stdout",
       "text": [
        "\n",
        "[ 0.02  0.01  0.    0.08  0.01  0.77  0.03  0.01  0.04  0.03]"
       ]
      },
      {
       "output_type": "stream",
       "stream": "stdout",
       "text": [
        "\n",
        "[ 0.02  0.01  0.    0.    0.01  0.01  0.93  0.    0.01  0.  ]"
       ]
      },
      {
       "output_type": "stream",
       "stream": "stdout",
       "text": [
        "\n",
        "[ 0.    0.04  0.01  0.    0.02  0.    0.    0.86  0.    0.07]"
       ]
      },
      {
       "output_type": "stream",
       "stream": "stdout",
       "text": [
        "\n",
        "[ 0.01  0.04  0.02  0.06  0.01  0.05  0.02  0.01  0.74  0.04]"
       ]
      },
      {
       "output_type": "stream",
       "stream": "stdout",
       "text": [
        "\n",
        "[ 0.01  0.01  0.    0.01  0.07  0.01  0.    0.07  0.    0.82]"
       ]
      },
      {
       "output_type": "stream",
       "stream": "stdout",
       "text": [
        "\n",
        "Saving plot_data...\n",
        "Start testing...\n",
        "[array([ 0.053,  0.053]), array([ 0.055,  0.052]), array([ 0.051,  0.054]), array([ 0.056,  0.054]), array([ 0.065,  0.059]), array([ 0.058,  0.058]), array([ 0.067,  0.061]), array([ 0.085,  0.074])]"
       ]
      },
      {
       "output_type": "stream",
       "stream": "stdout",
       "text": [
        "\n",
        "== Fold 5 ==\n",
        "Fitting model...\n",
        "Finding mean for k=1..."
       ]
      },
      {
       "output_type": "stream",
       "stream": "stdout",
       "text": [
        "\n",
        "[ 1.  0.  0.  0.  0.  0.  0.  0.  0.  0.]\n",
        "[ 0.  1.  0.  0.  0.  0.  0.  0.  0.  0.]"
       ]
      },
      {
       "output_type": "stream",
       "stream": "stdout",
       "text": [
        "\n",
        "[ 0.  0.  1.  0.  0.  0.  0.  0.  0.  0.]\n",
        "[ 0.  0.  0.  1.  0.  0.  0.  0.  0.  0.]"
       ]
      },
      {
       "output_type": "stream",
       "stream": "stdout",
       "text": [
        "\n",
        "[ 0.  0.  0.  0.  1.  0.  0.  0.  0.  0.]\n",
        "[ 0.  0.  0.  0.  0.  1.  0.  0.  0.  0.]"
       ]
      },
      {
       "output_type": "stream",
       "stream": "stdout",
       "text": [
        "\n",
        "[ 0.  0.  0.  0.  0.  0.  1.  0.  0.  0.]\n",
        "[ 0.  0.  0.  0.  0.  0.  0.  1.  0.  0.]"
       ]
      },
      {
       "output_type": "stream",
       "stream": "stdout",
       "text": [
        "\n",
        "[ 0.  0.  0.  0.  0.  0.  0.  0.  1.  0.]\n",
        "[ 0.  0.  0.  0.  0.  0.  0.  0.  0.  1.]"
       ]
      },
      {
       "output_type": "stream",
       "stream": "stdout",
       "text": [
        "\n",
        "Saving plot_data...\n",
        "Start testing...\n",
        "Finding mean for k=3..."
       ]
      },
      {
       "output_type": "stream",
       "stream": "stdout",
       "text": [
        "\n",
        "[ 0.99  0.    0.    0.    0.    0.    0.    0.    0.    0.  ]"
       ]
      },
      {
       "output_type": "stream",
       "stream": "stdout",
       "text": [
        "\n",
        "[ 0.    0.99  0.    0.    0.    0.    0.    0.    0.    0.  ]"
       ]
      },
      {
       "output_type": "stream",
       "stream": "stdout",
       "text": [
        "\n",
        "[ 0.01  0.01  0.95  0.    0.    0.    0.    0.02  0.01  0.  ]"
       ]
      },
      {
       "output_type": "stream",
       "stream": "stdout",
       "text": [
        "\n",
        "[ 0.    0.    0.01  0.96  0.    0.01  0.    0.    0.01  0.01]"
       ]
      },
      {
       "output_type": "stream",
       "stream": "stdout",
       "text": [
        "\n",
        "[ 0.    0.    0.    0.    0.95  0.    0.    0.01  0.    0.03]"
       ]
      },
      {
       "output_type": "stream",
       "stream": "stdout",
       "text": [
        "\n",
        "[ 0.01  0.    0.    0.02  0.01  0.95  0.01  0.    0.01  0.01]"
       ]
      },
      {
       "output_type": "stream",
       "stream": "stdout",
       "text": [
        "\n",
        "[ 0.01  0.    0.    0.    0.    0.01  0.98  0.    0.    0.  ]"
       ]
      },
      {
       "output_type": "stream",
       "stream": "stdout",
       "text": [
        "\n",
        "[ 0.    0.01  0.    0.    0.    0.    0.    0.96  0.    0.02]"
       ]
      },
      {
       "output_type": "stream",
       "stream": "stdout",
       "text": [
        "\n",
        "[ 0.    0.01  0.    0.02  0.    0.02  0.01  0.    0.92  0.01]"
       ]
      },
      {
       "output_type": "stream",
       "stream": "stdout",
       "text": [
        "\n",
        "[ 0.    0.    0.    0.    0.01  0.    0.    0.02  0.    0.96]"
       ]
      },
      {
       "output_type": "stream",
       "stream": "stdout",
       "text": [
        "\n",
        "Saving plot_data...\n",
        "Start testing...\n",
        "Finding mean for k=5..."
       ]
      },
      {
       "output_type": "stream",
       "stream": "stdout",
       "text": [
        "\n",
        "[ 0.99  0.    0.    0.    0.    0.    0.    0.    0.    0.  ]"
       ]
      },
      {
       "output_type": "stream",
       "stream": "stdout",
       "text": [
        "\n",
        "[ 0.    0.99  0.    0.    0.    0.    0.    0.    0.    0.  ]"
       ]
      },
      {
       "output_type": "stream",
       "stream": "stdout",
       "text": [
        "\n",
        "[ 0.01  0.01  0.93  0.    0.01  0.    0.    0.02  0.01  0.  ]"
       ]
      },
      {
       "output_type": "stream",
       "stream": "stdout",
       "text": [
        "\n",
        "[ 0.    0.    0.01  0.93  0.    0.02  0.    0.    0.01  0.01]"
       ]
      },
      {
       "output_type": "stream",
       "stream": "stdout",
       "text": [
        "\n",
        "[ 0.    0.01  0.    0.    0.92  0.    0.    0.01  0.    0.06]"
       ]
      },
      {
       "output_type": "stream",
       "stream": "stdout",
       "text": [
        "\n",
        "[ 0.01  0.    0.    0.03  0.01  0.92  0.01  0.    0.01  0.01]"
       ]
      },
      {
       "output_type": "stream",
       "stream": "stdout",
       "text": [
        "\n",
        "[ 0.01  0.    0.    0.    0.    0.01  0.98  0.    0.    0.  ]"
       ]
      },
      {
       "output_type": "stream",
       "stream": "stdout",
       "text": [
        "\n",
        "[ 0.    0.01  0.    0.    0.01  0.    0.    0.94  0.    0.03]"
       ]
      },
      {
       "output_type": "stream",
       "stream": "stdout",
       "text": [
        "\n",
        "[ 0.    0.01  0.01  0.02  0.    0.02  0.01  0.01  0.89  0.02]"
       ]
      },
      {
       "output_type": "stream",
       "stream": "stdout",
       "text": [
        "\n",
        "[ 0.    0.    0.    0.01  0.02  0.    0.    0.03  0.    0.94]"
       ]
      },
      {
       "output_type": "stream",
       "stream": "stdout",
       "text": [
        "\n",
        "Saving plot_data...\n",
        "Start testing...\n",
        "Finding mean for k=7..."
       ]
      },
      {
       "output_type": "stream",
       "stream": "stdout",
       "text": [
        "\n",
        "[ 0.99  0.    0.    0.    0.    0.    0.01  0.    0.    0.  ]"
       ]
      },
      {
       "output_type": "stream",
       "stream": "stdout",
       "text": [
        "\n",
        "[ 0.    0.99  0.    0.    0.    0.    0.    0.    0.    0.  ]"
       ]
      },
      {
       "output_type": "stream",
       "stream": "stdout",
       "text": [
        "\n",
        "[ 0.01  0.01  0.92  0.01  0.01  0.    0.01  0.02  0.01  0.  ]"
       ]
      },
      {
       "output_type": "stream",
       "stream": "stdout",
       "text": [
        "\n",
        "[ 0.    0.01  0.01  0.92  0.    0.03  0.    0.01  0.02  0.01]"
       ]
      },
      {
       "output_type": "stream",
       "stream": "stdout",
       "text": [
        "\n",
        "[ 0.    0.01  0.    0.    0.89  0.    0.01  0.01  0.    0.08]"
       ]
      },
      {
       "output_type": "stream",
       "stream": "stdout",
       "text": [
        "\n",
        "[ 0.01  0.    0.    0.04  0.01  0.9   0.01  0.    0.01  0.02]"
       ]
      },
      {
       "output_type": "stream",
       "stream": "stdout",
       "text": [
        "\n",
        "[ 0.01  0.    0.    0.    0.    0.01  0.97  0.    0.    0.  ]"
       ]
      },
      {
       "output_type": "stream",
       "stream": "stdout",
       "text": [
        "\n",
        "[ 0.    0.02  0.    0.    0.01  0.    0.    0.93  0.    0.03]"
       ]
      },
      {
       "output_type": "stream",
       "stream": "stdout",
       "text": [
        "\n",
        "[ 0.    0.02  0.01  0.03  0.01  0.03  0.01  0.01  0.87  0.02]"
       ]
      },
      {
       "output_type": "stream",
       "stream": "stdout",
       "text": [
        "\n",
        "[ 0.    0.    0.    0.01  0.02  0.    0.    0.03  0.    0.92]"
       ]
      },
      {
       "output_type": "stream",
       "stream": "stdout",
       "text": [
        "\n",
        "Saving plot_data...\n",
        "Start testing...\n",
        "Finding mean for k=9..."
       ]
      },
      {
       "output_type": "stream",
       "stream": "stdout",
       "text": [
        "\n",
        "[ 0.98  0.    0.    0.    0.    0.    0.01  0.    0.    0.  ]"
       ]
      },
      {
       "output_type": "stream",
       "stream": "stdout",
       "text": [
        "\n",
        "[ 0.    0.99  0.    0.    0.    0.    0.    0.    0.    0.  ]"
       ]
      },
      {
       "output_type": "stream",
       "stream": "stdout",
       "text": [
        "\n",
        "[ 0.01  0.01  0.91  0.01  0.01  0.    0.01  0.02  0.01  0.  ]"
       ]
      },
      {
       "output_type": "stream",
       "stream": "stdout",
       "text": [
        "\n",
        "[ 0.    0.01  0.01  0.91  0.    0.03  0.    0.01  0.02  0.01]"
       ]
      },
      {
       "output_type": "stream",
       "stream": "stdout",
       "text": [
        "\n",
        "[ 0.    0.01  0.    0.    0.87  0.    0.01  0.01  0.    0.09]"
       ]
      },
      {
       "output_type": "stream",
       "stream": "stdout",
       "text": [
        "\n",
        "[ 0.01  0.    0.    0.04  0.01  0.89  0.02  0.    0.02  0.02]"
       ]
      },
      {
       "output_type": "stream",
       "stream": "stdout",
       "text": [
        "\n",
        "[ 0.01  0.01  0.    0.    0.    0.01  0.97  0.    0.    0.  ]"
       ]
      },
      {
       "output_type": "stream",
       "stream": "stdout",
       "text": [
        "\n",
        "[ 0.    0.02  0.    0.    0.01  0.    0.    0.92  0.    0.04]"
       ]
      },
      {
       "output_type": "stream",
       "stream": "stdout",
       "text": [
        "\n",
        "[ 0.    0.02  0.01  0.03  0.01  0.03  0.01  0.01  0.86  0.02]"
       ]
      },
      {
       "output_type": "stream",
       "stream": "stdout",
       "text": [
        "\n",
        "[ 0.    0.01  0.    0.01  0.03  0.    0.    0.03  0.    0.91]"
       ]
      },
      {
       "output_type": "stream",
       "stream": "stdout",
       "text": [
        "\n",
        "Saving plot_data...\n",
        "Start testing...\n",
        "Finding mean for k=11..."
       ]
      },
      {
       "output_type": "stream",
       "stream": "stdout",
       "text": [
        "\n",
        "[ 0.98  0.    0.    0.    0.    0.    0.01  0.    0.    0.  ]"
       ]
      },
      {
       "output_type": "stream",
       "stream": "stdout",
       "text": [
        "\n",
        "[ 0.    0.99  0.    0.    0.    0.    0.    0.    0.    0.  ]"
       ]
      },
      {
       "output_type": "stream",
       "stream": "stdout",
       "text": [
        "\n",
        "[ 0.01  0.01  0.9   0.01  0.01  0.    0.01  0.03  0.01  0.01]"
       ]
      },
      {
       "output_type": "stream",
       "stream": "stdout",
       "text": [
        "\n",
        "[ 0.    0.01  0.01  0.9   0.    0.03  0.    0.01  0.02  0.01]"
       ]
      },
      {
       "output_type": "stream",
       "stream": "stdout",
       "text": [
        "\n",
        "[ 0.    0.01  0.    0.    0.86  0.    0.01  0.01  0.    0.1 ]"
       ]
      },
      {
       "output_type": "stream",
       "stream": "stdout",
       "text": [
        "\n",
        "[ 0.01  0.    0.    0.05  0.01  0.87  0.02  0.    0.02  0.02]"
       ]
      },
      {
       "output_type": "stream",
       "stream": "stdout",
       "text": [
        "\n",
        "[ 0.01  0.01  0.    0.    0.    0.01  0.96  0.    0.    0.  ]"
       ]
      },
      {
       "output_type": "stream",
       "stream": "stdout",
       "text": [
        "\n",
        "[ 0.    0.02  0.    0.    0.01  0.    0.    0.91  0.    0.04]"
       ]
      },
      {
       "output_type": "stream",
       "stream": "stdout",
       "text": [
        "\n",
        "[ 0.    0.02  0.01  0.04  0.01  0.03  0.01  0.01  0.84  0.02]"
       ]
      },
      {
       "output_type": "stream",
       "stream": "stdout",
       "text": [
        "\n",
        "[ 0.    0.01  0.    0.01  0.03  0.    0.    0.04  0.    0.9 ]"
       ]
      },
      {
       "output_type": "stream",
       "stream": "stdout",
       "text": [
        "\n",
        "Saving plot_data...\n",
        "Start testing...\n",
        "Finding mean for k=20..."
       ]
      },
      {
       "output_type": "stream",
       "stream": "stdout",
       "text": [
        "\n",
        "[ 0.97  0.    0.    0.    0.    0.01  0.01  0.    0.    0.  ]"
       ]
      },
      {
       "output_type": "stream",
       "stream": "stdout",
       "text": [
        "\n",
        "[ 0.    0.99  0.    0.    0.    0.    0.    0.    0.    0.  ]"
       ]
      },
      {
       "output_type": "stream",
       "stream": "stdout",
       "text": [
        "\n",
        "[ 0.02  0.02  0.86  0.01  0.01  0.    0.01  0.03  0.02  0.01]"
       ]
      },
      {
       "output_type": "stream",
       "stream": "stdout",
       "text": [
        "\n",
        "[ 0.    0.01  0.01  0.87  0.    0.04  0.    0.01  0.03  0.02]"
       ]
      },
      {
       "output_type": "stream",
       "stream": "stdout",
       "text": [
        "\n",
        "[ 0.    0.02  0.    0.    0.81  0.    0.01  0.02  0.    0.14]"
       ]
      },
      {
       "output_type": "stream",
       "stream": "stdout",
       "text": [
        "\n",
        "[ 0.01  0.01  0.    0.06  0.01  0.83  0.02  0.    0.03  0.03]"
       ]
      },
      {
       "output_type": "stream",
       "stream": "stdout",
       "text": [
        "\n",
        "[ 0.02  0.01  0.    0.    0.    0.01  0.95  0.    0.    0.  ]"
       ]
      },
      {
       "output_type": "stream",
       "stream": "stdout",
       "text": [
        "\n",
        "[ 0.    0.02  0.    0.    0.01  0.    0.    0.89  0.    0.06]"
       ]
      },
      {
       "output_type": "stream",
       "stream": "stdout",
       "text": [
        "\n",
        "[ 0.01  0.03  0.01  0.05  0.01  0.04  0.01  0.01  0.8   0.03]"
       ]
      },
      {
       "output_type": "stream",
       "stream": "stdout",
       "text": [
        "\n",
        "[ 0.    0.01  0.    0.01  0.05  0.    0.    0.05  0.    0.87]"
       ]
      },
      {
       "output_type": "stream",
       "stream": "stdout",
       "text": [
        "\n",
        "Saving plot_data...\n",
        "Start testing...\n",
        "Finding mean for k=40..."
       ]
      },
      {
       "output_type": "stream",
       "stream": "stdout",
       "text": [
        "\n",
        "[ 0.95  0.    0.    0.    0.    0.01  0.02  0.    0.    0.  ]"
       ]
      },
      {
       "output_type": "stream",
       "stream": "stdout",
       "text": [
        "\n",
        "[ 0.    0.99  0.    0.    0.    0.    0.    0.    0.    0.  ]"
       ]
      },
      {
       "output_type": "stream",
       "stream": "stdout",
       "text": [
        "\n",
        "[ 0.02  0.03  0.81  0.02  0.02  0.01  0.01  0.04  0.02  0.01]"
       ]
      },
      {
       "output_type": "stream",
       "stream": "stdout",
       "text": [
        "\n",
        "[ 0.01  0.02  0.02  0.82  0.    0.05  0.01  0.01  0.04  0.02]"
       ]
      },
      {
       "output_type": "stream",
       "stream": "stdout",
       "text": [
        "\n",
        "[ 0.    0.02  0.01  0.    0.74  0.    0.01  0.02  0.    0.19]"
       ]
      },
      {
       "output_type": "stream",
       "stream": "stdout",
       "text": [
        "\n",
        "[ 0.02  0.01  0.    0.08  0.01  0.76  0.03  0.01  0.04  0.03]"
       ]
      },
      {
       "output_type": "stream",
       "stream": "stdout",
       "text": [
        "\n",
        "[ 0.02  0.01  0.    0.    0.01  0.01  0.93  0.    0.01  0.  ]"
       ]
      },
      {
       "output_type": "stream",
       "stream": "stdout",
       "text": [
        "\n",
        "[ 0.    0.03  0.01  0.    0.02  0.    0.    0.86  0.    0.07]"
       ]
      },
      {
       "output_type": "stream",
       "stream": "stdout",
       "text": [
        "\n",
        "[ 0.01  0.04  0.01  0.06  0.01  0.05  0.02  0.01  0.74  0.04]"
       ]
      },
      {
       "output_type": "stream",
       "stream": "stdout",
       "text": [
        "\n",
        "[ 0.01  0.01  0.    0.01  0.07  0.01  0.    0.07  0.    0.82]"
       ]
      },
      {
       "output_type": "stream",
       "stream": "stdout",
       "text": [
        "\n",
        "Saving plot_data...\n",
        "Start testing...\n",
        "[array([ 0.051,  0.051]), array([ 0.046,  0.044]), array([ 0.045,  0.042]), array([ 0.048,  0.046]), array([ 0.052,  0.048]), array([ 0.057,  0.05 ]), array([ 0.065,  0.061]), array([ 0.068,  0.065])]"
       ]
      },
      {
       "output_type": "stream",
       "stream": "stdout",
       "text": [
        "\n",
        "== Fold 6 ==\n",
        "Fitting model...\n",
        "Finding mean for k=1..."
       ]
      },
      {
       "output_type": "stream",
       "stream": "stdout",
       "text": [
        "\n",
        "[ 1.  0.  0.  0.  0.  0.  0.  0.  0.  0.]\n",
        "[ 0.  1.  0.  0.  0.  0.  0.  0.  0.  0.]"
       ]
      },
      {
       "output_type": "stream",
       "stream": "stdout",
       "text": [
        "\n",
        "[ 0.  0.  1.  0.  0.  0.  0.  0.  0.  0.]"
       ]
      },
      {
       "output_type": "stream",
       "stream": "stdout",
       "text": [
        "\n",
        "[ 0.  0.  0.  1.  0.  0.  0.  0.  0.  0.]"
       ]
      },
      {
       "output_type": "stream",
       "stream": "stdout",
       "text": [
        "\n",
        "[ 0.  0.  0.  0.  1.  0.  0.  0.  0.  0.]\n",
        "[ 0.  0.  0.  0.  0.  1.  0.  0.  0.  0.]"
       ]
      },
      {
       "output_type": "stream",
       "stream": "stdout",
       "text": [
        "\n",
        "[ 0.  0.  0.  0.  0.  0.  1.  0.  0.  0.]\n",
        "[ 0.  0.  0.  0.  0.  0.  0.  1.  0.  0.]"
       ]
      },
      {
       "output_type": "stream",
       "stream": "stdout",
       "text": [
        "\n",
        "[ 0.  0.  0.  0.  0.  0.  0.  0.  1.  0.]\n",
        "[ 0.  0.  0.  0.  0.  0.  0.  0.  0.  1.]"
       ]
      },
      {
       "output_type": "stream",
       "stream": "stdout",
       "text": [
        "\n",
        "Saving plot_data...\n",
        "Start testing...\n",
        "Finding mean for k=3..."
       ]
      },
      {
       "output_type": "stream",
       "stream": "stdout",
       "text": [
        "\n",
        "[ 0.99  0.    0.    0.    0.    0.    0.    0.    0.    0.  ]"
       ]
      },
      {
       "output_type": "stream",
       "stream": "stdout",
       "text": [
        "\n",
        "[ 0.    0.99  0.    0.    0.    0.    0.    0.    0.    0.  ]"
       ]
      },
      {
       "output_type": "stream",
       "stream": "stdout",
       "text": [
        "\n",
        "[ 0.    0.01  0.96  0.    0.    0.    0.    0.01  0.01  0.  ]"
       ]
      },
      {
       "output_type": "stream",
       "stream": "stdout",
       "text": [
        "\n",
        "[ 0.    0.    0.    0.96  0.    0.01  0.    0.    0.01  0.01]"
       ]
      },
      {
       "output_type": "stream",
       "stream": "stdout",
       "text": [
        "\n",
        "[ 0.    0.01  0.    0.    0.95  0.    0.    0.01  0.    0.03]"
       ]
      },
      {
       "output_type": "stream",
       "stream": "stdout",
       "text": [
        "\n",
        "[ 0.01  0.    0.    0.02  0.    0.94  0.01  0.    0.    0.01]"
       ]
      },
      {
       "output_type": "stream",
       "stream": "stdout",
       "text": [
        "\n",
        "[ 0.01  0.    0.    0.    0.    0.01  0.98  0.    0.    0.  ]"
       ]
      },
      {
       "output_type": "stream",
       "stream": "stdout",
       "text": [
        "\n",
        "[ 0.    0.01  0.    0.    0.01  0.    0.    0.96  0.    0.02]"
       ]
      },
      {
       "output_type": "stream",
       "stream": "stdout",
       "text": [
        "\n",
        "[ 0.    0.01  0.    0.02  0.    0.02  0.01  0.    0.92  0.01]"
       ]
      },
      {
       "output_type": "stream",
       "stream": "stdout",
       "text": [
        "\n",
        "[ 0.    0.    0.    0.01  0.01  0.    0.    0.02  0.    0.96]"
       ]
      },
      {
       "output_type": "stream",
       "stream": "stdout",
       "text": [
        "\n",
        "Saving plot_data...\n",
        "Start testing...\n",
        "Finding mean for k=5..."
       ]
      },
      {
       "output_type": "stream",
       "stream": "stdout",
       "text": [
        "\n",
        "[ 0.99  0.    0.    0.    0.    0.    0.    0.    0.    0.  ]"
       ]
      },
      {
       "output_type": "stream",
       "stream": "stdout",
       "text": [
        "\n",
        "[ 0.    0.99  0.    0.    0.    0.    0.    0.    0.    0.  ]"
       ]
      },
      {
       "output_type": "stream",
       "stream": "stdout",
       "text": [
        "\n",
        "[ 0.01  0.01  0.93  0.01  0.01  0.    0.    0.02  0.01  0.  ]"
       ]
      },
      {
       "output_type": "stream",
       "stream": "stdout",
       "text": [
        "\n",
        "[ 0.    0.01  0.01  0.93  0.    0.02  0.    0.01  0.01  0.01]"
       ]
      },
      {
       "output_type": "stream",
       "stream": "stdout",
       "text": [
        "\n",
        "[ 0.    0.01  0.    0.    0.92  0.    0.    0.01  0.    0.06]"
       ]
      },
      {
       "output_type": "stream",
       "stream": "stdout",
       "text": [
        "\n",
        "[ 0.01  0.    0.    0.03  0.    0.92  0.01  0.    0.01  0.02]"
       ]
      },
      {
       "output_type": "stream",
       "stream": "stdout",
       "text": [
        "\n",
        "[ 0.01  0.    0.    0.    0.    0.01  0.98  0.    0.    0.  ]"
       ]
      },
      {
       "output_type": "stream",
       "stream": "stdout",
       "text": [
        "\n",
        "[ 0.    0.01  0.    0.    0.01  0.    0.    0.94  0.    0.03]"
       ]
      },
      {
       "output_type": "stream",
       "stream": "stdout",
       "text": [
        "\n",
        "[ 0.    0.01  0.01  0.02  0.    0.02  0.01  0.01  0.89  0.02]"
       ]
      },
      {
       "output_type": "stream",
       "stream": "stdout",
       "text": [
        "\n",
        "[ 0.    0.    0.    0.01  0.02  0.    0.    0.02  0.    0.94]"
       ]
      },
      {
       "output_type": "stream",
       "stream": "stdout",
       "text": [
        "\n",
        "Saving plot_data...\n",
        "Start testing...\n",
        "Finding mean for k=7..."
       ]
      },
      {
       "output_type": "stream",
       "stream": "stdout",
       "text": [
        "\n",
        "[ 0.99  0.    0.    0.    0.    0.    0.    0.    0.    0.  ]"
       ]
      },
      {
       "output_type": "stream",
       "stream": "stdout",
       "text": [
        "\n",
        "[ 0.    0.99  0.    0.    0.    0.    0.    0.    0.    0.  ]"
       ]
      },
      {
       "output_type": "stream",
       "stream": "stdout",
       "text": [
        "\n",
        "[ 0.01  0.01  0.92  0.01  0.01  0.    0.01  0.02  0.01  0.  ]"
       ]
      },
      {
       "output_type": "stream",
       "stream": "stdout",
       "text": [
        "\n",
        "[ 0.    0.01  0.01  0.92  0.    0.03  0.    0.01  0.01  0.01]"
       ]
      },
      {
       "output_type": "stream",
       "stream": "stdout",
       "text": [
        "\n",
        "[ 0.    0.01  0.    0.    0.9   0.    0.01  0.01  0.    0.08]"
       ]
      },
      {
       "output_type": "stream",
       "stream": "stdout",
       "text": [
        "\n",
        "[ 0.01  0.    0.    0.04  0.01  0.9   0.02  0.    0.01  0.02]"
       ]
      },
      {
       "output_type": "stream",
       "stream": "stdout",
       "text": [
        "\n",
        "[ 0.01  0.    0.    0.    0.    0.01  0.97  0.    0.    0.  ]"
       ]
      },
      {
       "output_type": "stream",
       "stream": "stdout",
       "text": [
        "\n",
        "[ 0.    0.02  0.    0.    0.01  0.    0.    0.93  0.    0.03]"
       ]
      },
      {
       "output_type": "stream",
       "stream": "stdout",
       "text": [
        "\n",
        "[ 0.    0.02  0.01  0.03  0.01  0.03  0.01  0.01  0.87  0.02]"
       ]
      },
      {
       "output_type": "stream",
       "stream": "stdout",
       "text": [
        "\n",
        "[ 0.    0.    0.    0.01  0.03  0.    0.    0.03  0.    0.92]"
       ]
      },
      {
       "output_type": "stream",
       "stream": "stdout",
       "text": [
        "\n",
        "Saving plot_data...\n",
        "Start testing...\n",
        "Finding mean for k=9..."
       ]
      },
      {
       "output_type": "stream",
       "stream": "stdout",
       "text": [
        "\n",
        "[ 0.98  0.    0.    0.    0.    0.    0.01  0.    0.    0.  ]"
       ]
      },
      {
       "output_type": "stream",
       "stream": "stdout",
       "text": [
        "\n",
        "[ 0.    0.99  0.    0.    0.    0.    0.    0.    0.    0.  ]"
       ]
      },
      {
       "output_type": "stream",
       "stream": "stdout",
       "text": [
        "\n",
        "[ 0.01  0.01  0.91  0.01  0.01  0.    0.01  0.02  0.01  0.01]"
       ]
      },
      {
       "output_type": "stream",
       "stream": "stdout",
       "text": [
        "\n",
        "[ 0.    0.01  0.01  0.91  0.    0.03  0.    0.01  0.02  0.01]"
       ]
      },
      {
       "output_type": "stream",
       "stream": "stdout",
       "text": [
        "\n",
        "[ 0.    0.01  0.    0.    0.88  0.    0.01  0.01  0.    0.09]"
       ]
      },
      {
       "output_type": "stream",
       "stream": "stdout",
       "text": [
        "\n",
        "[ 0.01  0.    0.    0.04  0.01  0.88  0.02  0.    0.02  0.02]"
       ]
      },
      {
       "output_type": "stream",
       "stream": "stdout",
       "text": [
        "\n",
        "[ 0.01  0.01  0.    0.    0.    0.01  0.97  0.    0.    0.  ]"
       ]
      },
      {
       "output_type": "stream",
       "stream": "stdout",
       "text": [
        "\n",
        "[ 0.    0.02  0.    0.    0.01  0.    0.    0.92  0.    0.04]"
       ]
      },
      {
       "output_type": "stream",
       "stream": "stdout",
       "text": [
        "\n",
        "[ 0.    0.02  0.01  0.03  0.01  0.03  0.01  0.01  0.85  0.02]"
       ]
      },
      {
       "output_type": "stream",
       "stream": "stdout",
       "text": [
        "\n",
        "[ 0.    0.    0.    0.01  0.03  0.    0.    0.03  0.    0.91]"
       ]
      },
      {
       "output_type": "stream",
       "stream": "stdout",
       "text": [
        "\n",
        "Saving plot_data...\n",
        "Start testing...\n",
        "Finding mean for k=11..."
       ]
      },
      {
       "output_type": "stream",
       "stream": "stdout",
       "text": [
        "\n",
        "[ 0.98  0.    0.    0.    0.    0.    0.01  0.    0.    0.  ]"
       ]
      },
      {
       "output_type": "stream",
       "stream": "stdout",
       "text": [
        "\n",
        "[ 0.    0.99  0.    0.    0.    0.    0.    0.    0.    0.  ]"
       ]
      },
      {
       "output_type": "stream",
       "stream": "stdout",
       "text": [
        "\n",
        "[ 0.01  0.01  0.9   0.01  0.01  0.    0.01  0.03  0.01  0.01]"
       ]
      },
      {
       "output_type": "stream",
       "stream": "stdout",
       "text": [
        "\n",
        "[ 0.    0.01  0.01  0.9   0.    0.03  0.    0.01  0.02  0.01]"
       ]
      },
      {
       "output_type": "stream",
       "stream": "stdout",
       "text": [
        "\n",
        "[ 0.    0.01  0.    0.    0.86  0.    0.01  0.01  0.    0.1 ]"
       ]
      },
      {
       "output_type": "stream",
       "stream": "stdout",
       "text": [
        "\n",
        "[ 0.01  0.    0.    0.05  0.01  0.87  0.02  0.    0.02  0.02]"
       ]
      },
      {
       "output_type": "stream",
       "stream": "stdout",
       "text": [
        "\n",
        "[ 0.01  0.01  0.    0.    0.    0.01  0.96  0.    0.    0.  ]"
       ]
      },
      {
       "output_type": "stream",
       "stream": "stdout",
       "text": [
        "\n",
        "[ 0.    0.02  0.    0.    0.01  0.    0.    0.92  0.    0.04]"
       ]
      },
      {
       "output_type": "stream",
       "stream": "stdout",
       "text": [
        "\n",
        "[ 0.    0.02  0.01  0.04  0.01  0.03  0.01  0.01  0.84  0.03]"
       ]
      },
      {
       "output_type": "stream",
       "stream": "stdout",
       "text": [
        "\n",
        "[ 0.    0.    0.    0.01  0.04  0.    0.    0.04  0.    0.9 ]"
       ]
      },
      {
       "output_type": "stream",
       "stream": "stdout",
       "text": [
        "\n",
        "Saving plot_data...\n",
        "Start testing...\n",
        "Finding mean for k=20..."
       ]
      },
      {
       "output_type": "stream",
       "stream": "stdout",
       "text": [
        "\n",
        "[ 0.97  0.    0.    0.    0.    0.01  0.01  0.    0.    0.  ]"
       ]
      },
      {
       "output_type": "stream",
       "stream": "stdout",
       "text": [
        "\n",
        "[ 0.    0.99  0.    0.    0.    0.    0.    0.    0.    0.  ]"
       ]
      },
      {
       "output_type": "stream",
       "stream": "stdout",
       "text": [
        "\n",
        "[ 0.02  0.02  0.86  0.01  0.01  0.    0.01  0.03  0.02  0.01]"
       ]
      },
      {
       "output_type": "stream",
       "stream": "stdout",
       "text": [
        "\n",
        "[ 0.    0.01  0.01  0.86  0.    0.04  0.    0.01  0.03  0.02]"
       ]
      },
      {
       "output_type": "stream",
       "stream": "stdout",
       "text": [
        "\n",
        "[ 0.    0.02  0.    0.    0.81  0.    0.01  0.01  0.    0.14]"
       ]
      },
      {
       "output_type": "stream",
       "stream": "stdout",
       "text": [
        "\n",
        "[ 0.01  0.01  0.    0.07  0.01  0.83  0.02  0.    0.02  0.03]"
       ]
      },
      {
       "output_type": "stream",
       "stream": "stdout",
       "text": [
        "\n",
        "[ 0.01  0.01  0.    0.    0.01  0.01  0.95  0.    0.    0.  ]"
       ]
      },
      {
       "output_type": "stream",
       "stream": "stdout",
       "text": [
        "\n",
        "[ 0.    0.03  0.    0.    0.01  0.    0.    0.89  0.    0.05]"
       ]
      },
      {
       "output_type": "stream",
       "stream": "stdout",
       "text": [
        "\n",
        "[ 0.01  0.03  0.01  0.05  0.01  0.04  0.02  0.01  0.8   0.03]"
       ]
      },
      {
       "output_type": "stream",
       "stream": "stdout",
       "text": [
        "\n",
        "[ 0.    0.01  0.    0.01  0.05  0.    0.    0.05  0.    0.87]"
       ]
      },
      {
       "output_type": "stream",
       "stream": "stdout",
       "text": [
        "\n",
        "Saving plot_data...\n",
        "Start testing...\n",
        "Finding mean for k=40..."
       ]
      },
      {
       "output_type": "stream",
       "stream": "stdout",
       "text": [
        "\n",
        "[ 0.95  0.    0.    0.    0.    0.01  0.02  0.    0.    0.  ]"
       ]
      },
      {
       "output_type": "stream",
       "stream": "stdout",
       "text": [
        "\n",
        "[ 0.    0.99  0.    0.    0.    0.    0.    0.    0.    0.  ]"
       ]
      },
      {
       "output_type": "stream",
       "stream": "stdout",
       "text": [
        "\n",
        "[ 0.02  0.03  0.81  0.02  0.02  0.    0.01  0.04  0.02  0.01]"
       ]
      },
      {
       "output_type": "stream",
       "stream": "stdout",
       "text": [
        "\n",
        "[ 0.01  0.02  0.02  0.82  0.    0.06  0.01  0.01  0.04  0.02]"
       ]
      },
      {
       "output_type": "stream",
       "stream": "stdout",
       "text": [
        "\n",
        "[ 0.    0.02  0.01  0.    0.75  0.    0.01  0.02  0.    0.18]"
       ]
      },
      {
       "output_type": "stream",
       "stream": "stdout",
       "text": [
        "\n",
        "[ 0.02  0.01  0.    0.08  0.01  0.76  0.03  0.01  0.04  0.03]"
       ]
      },
      {
       "output_type": "stream",
       "stream": "stdout",
       "text": [
        "\n",
        "[ 0.02  0.01  0.    0.    0.01  0.01  0.93  0.    0.01  0.  ]"
       ]
      },
      {
       "output_type": "stream",
       "stream": "stdout",
       "text": [
        "\n",
        "[ 0.    0.03  0.    0.    0.02  0.    0.    0.86  0.    0.07]"
       ]
      },
      {
       "output_type": "stream",
       "stream": "stdout",
       "text": [
        "\n",
        "[ 0.01  0.04  0.01  0.06  0.01  0.05  0.02  0.01  0.74  0.04]"
       ]
      },
      {
       "output_type": "stream",
       "stream": "stdout",
       "text": [
        "\n",
        "[ 0.    0.01  0.    0.01  0.07  0.01  0.    0.07  0.01  0.82]"
       ]
      },
      {
       "output_type": "stream",
       "stream": "stdout",
       "text": [
        "\n",
        "Saving plot_data...\n",
        "Start testing...\n",
        "[array([ 0.058,  0.058]), array([ 0.052,  0.046]), array([ 0.052,  0.045]), array([ 0.053,  0.05 ]), array([ 0.055,  0.049]), array([ 0.052,  0.049]), array([ 0.069,  0.063]), array([ 0.081,  0.072])]"
       ]
      },
      {
       "output_type": "stream",
       "stream": "stdout",
       "text": [
        "\n",
        "== Fold 7 ==\n",
        "Fitting model...\n",
        "Finding mean for k=1..."
       ]
      },
      {
       "output_type": "stream",
       "stream": "stdout",
       "text": [
        "\n",
        "[ 1.  0.  0.  0.  0.  0.  0.  0.  0.  0.]\n",
        "[ 0.  1.  0.  0.  0.  0.  0.  0.  0.  0.]"
       ]
      },
      {
       "output_type": "stream",
       "stream": "stdout",
       "text": [
        "\n",
        "[ 0.  0.  1.  0.  0.  0.  0.  0.  0.  0.]\n",
        "[ 0.  0.  0.  1.  0.  0.  0.  0.  0.  0.]"
       ]
      },
      {
       "output_type": "stream",
       "stream": "stdout",
       "text": [
        "\n",
        "[ 0.  0.  0.  0.  1.  0.  0.  0.  0.  0.]\n",
        "[ 0.  0.  0.  0.  0.  1.  0.  0.  0.  0.]"
       ]
      },
      {
       "output_type": "stream",
       "stream": "stdout",
       "text": [
        "\n",
        "[ 0.  0.  0.  0.  0.  0.  1.  0.  0.  0.]\n",
        "[ 0.  0.  0.  0.  0.  0.  0.  1.  0.  0.]"
       ]
      },
      {
       "output_type": "stream",
       "stream": "stdout",
       "text": [
        "\n",
        "[ 0.  0.  0.  0.  0.  0.  0.  0.  1.  0.]\n",
        "[ 0.  0.  0.  0.  0.  0.  0.  0.  0.  1.]"
       ]
      },
      {
       "output_type": "stream",
       "stream": "stdout",
       "text": [
        "\n",
        "Saving plot_data...\n",
        "Start testing...\n",
        "Finding mean for k=3..."
       ]
      },
      {
       "output_type": "stream",
       "stream": "stdout",
       "text": [
        "\n",
        "[ 0.99  0.    0.    0.    0.    0.    0.    0.    0.    0.  ]"
       ]
      },
      {
       "output_type": "stream",
       "stream": "stdout",
       "text": [
        "\n",
        "[ 0.    0.99  0.    0.    0.    0.    0.    0.    0.    0.  ]"
       ]
      },
      {
       "output_type": "stream",
       "stream": "stdout",
       "text": [
        "\n",
        "[ 0.01  0.01  0.95  0.01  0.    0.    0.    0.02  0.01  0.  ]"
       ]
      },
      {
       "output_type": "stream",
       "stream": "stdout",
       "text": [
        "\n",
        "[ 0.    0.    0.01  0.95  0.    0.01  0.    0.    0.01  0.01]"
       ]
      },
      {
       "output_type": "stream",
       "stream": "stdout",
       "text": [
        "\n",
        "[ 0.    0.    0.    0.    0.95  0.    0.    0.01  0.    0.04]"
       ]
      },
      {
       "output_type": "stream",
       "stream": "stdout",
       "text": [
        "\n",
        "[ 0.01  0.    0.    0.02  0.    0.94  0.01  0.    0.    0.01]"
       ]
      },
      {
       "output_type": "stream",
       "stream": "stdout",
       "text": [
        "\n",
        "[ 0.    0.    0.    0.    0.    0.    0.99  0.    0.    0.  ]"
       ]
      },
      {
       "output_type": "stream",
       "stream": "stdout",
       "text": [
        "\n",
        "[ 0.    0.01  0.    0.    0.01  0.    0.    0.96  0.    0.02]"
       ]
      },
      {
       "output_type": "stream",
       "stream": "stdout",
       "text": [
        "\n",
        "[ 0.    0.01  0.    0.02  0.    0.02  0.01  0.    0.92  0.01]"
       ]
      },
      {
       "output_type": "stream",
       "stream": "stdout",
       "text": [
        "\n",
        "[ 0.    0.    0.    0.    0.01  0.    0.    0.02  0.    0.95]"
       ]
      },
      {
       "output_type": "stream",
       "stream": "stdout",
       "text": [
        "\n",
        "Saving plot_data...\n",
        "Start testing...\n",
        "Finding mean for k=5..."
       ]
      },
      {
       "output_type": "stream",
       "stream": "stdout",
       "text": [
        "\n",
        "[ 0.99  0.    0.    0.    0.    0.    0.    0.    0.    0.  ]"
       ]
      },
      {
       "output_type": "stream",
       "stream": "stdout",
       "text": [
        "\n",
        "[ 0.    0.99  0.    0.    0.    0.    0.    0.    0.    0.  ]"
       ]
      },
      {
       "output_type": "stream",
       "stream": "stdout",
       "text": [
        "\n",
        "[ 0.01  0.01  0.93  0.01  0.01  0.    0.    0.02  0.01  0.  ]"
       ]
      },
      {
       "output_type": "stream",
       "stream": "stdout",
       "text": [
        "\n",
        "[ 0.    0.01  0.01  0.93  0.    0.02  0.    0.01  0.01  0.01]"
       ]
      },
      {
       "output_type": "stream",
       "stream": "stdout",
       "text": [
        "\n",
        "[ 0.    0.01  0.    0.    0.92  0.    0.    0.01  0.    0.06]"
       ]
      },
      {
       "output_type": "stream",
       "stream": "stdout",
       "text": [
        "\n",
        "[ 0.01  0.    0.    0.03  0.01  0.91  0.01  0.    0.01  0.02]"
       ]
      },
      {
       "output_type": "stream",
       "stream": "stdout",
       "text": [
        "\n",
        "[ 0.01  0.    0.    0.    0.    0.01  0.98  0.    0.    0.  ]"
       ]
      },
      {
       "output_type": "stream",
       "stream": "stdout",
       "text": [
        "\n",
        "[ 0.    0.01  0.    0.    0.01  0.    0.    0.94  0.    0.03]"
       ]
      },
      {
       "output_type": "stream",
       "stream": "stdout",
       "text": [
        "\n",
        "[ 0.    0.01  0.01  0.03  0.01  0.03  0.01  0.01  0.89  0.02]"
       ]
      },
      {
       "output_type": "stream",
       "stream": "stdout",
       "text": [
        "\n",
        "[ 0.    0.    0.    0.01  0.02  0.    0.    0.02  0.    0.94]"
       ]
      },
      {
       "output_type": "stream",
       "stream": "stdout",
       "text": [
        "\n",
        "Saving plot_data...\n",
        "Start testing...\n",
        "Finding mean for k=7..."
       ]
      },
      {
       "output_type": "stream",
       "stream": "stdout",
       "text": [
        "\n",
        "[ 0.99  0.    0.    0.    0.    0.    0.01  0.    0.    0.  ]"
       ]
      },
      {
       "output_type": "stream",
       "stream": "stdout",
       "text": [
        "\n",
        "[ 0.    0.99  0.    0.    0.    0.    0.    0.    0.    0.  ]"
       ]
      },
      {
       "output_type": "stream",
       "stream": "stdout",
       "text": [
        "\n",
        "[ 0.01  0.01  0.92  0.01  0.01  0.    0.01  0.02  0.01  0.  ]"
       ]
      },
      {
       "output_type": "stream",
       "stream": "stdout",
       "text": [
        "\n",
        "[ 0.    0.01  0.01  0.92  0.    0.03  0.    0.01  0.02  0.01]"
       ]
      },
      {
       "output_type": "stream",
       "stream": "stdout",
       "text": [
        "\n",
        "[ 0.    0.01  0.    0.    0.9   0.    0.01  0.01  0.    0.08]"
       ]
      },
      {
       "output_type": "stream",
       "stream": "stdout",
       "text": [
        "\n",
        "[ 0.01  0.    0.    0.04  0.01  0.9   0.02  0.    0.02  0.02]"
       ]
      },
      {
       "output_type": "stream",
       "stream": "stdout",
       "text": [
        "\n",
        "[ 0.01  0.    0.    0.    0.    0.01  0.97  0.    0.    0.  ]"
       ]
      },
      {
       "output_type": "stream",
       "stream": "stdout",
       "text": [
        "\n",
        "[ 0.    0.01  0.    0.    0.01  0.    0.    0.93  0.    0.03]"
       ]
      },
      {
       "output_type": "stream",
       "stream": "stdout",
       "text": [
        "\n",
        "[ 0.    0.02  0.01  0.03  0.01  0.03  0.01  0.01  0.87  0.02]"
       ]
      },
      {
       "output_type": "stream",
       "stream": "stdout",
       "text": [
        "\n",
        "[ 0.    0.    0.    0.01  0.03  0.    0.    0.03  0.    0.92]"
       ]
      },
      {
       "output_type": "stream",
       "stream": "stdout",
       "text": [
        "\n",
        "Saving plot_data...\n",
        "Start testing...\n",
        "Finding mean for k=9..."
       ]
      },
      {
       "output_type": "stream",
       "stream": "stdout",
       "text": [
        "\n",
        "[ 0.98  0.    0.    0.    0.    0.    0.01  0.    0.    0.  ]"
       ]
      },
      {
       "output_type": "stream",
       "stream": "stdout",
       "text": [
        "\n",
        "[ 0.    0.99  0.    0.    0.    0.    0.    0.    0.    0.  ]"
       ]
      },
      {
       "output_type": "stream",
       "stream": "stdout",
       "text": [
        "\n",
        "[ 0.01  0.01  0.91  0.01  0.01  0.    0.01  0.02  0.01  0.  ]"
       ]
      },
      {
       "output_type": "stream",
       "stream": "stdout",
       "text": [
        "\n",
        "[ 0.    0.01  0.01  0.91  0.    0.03  0.    0.01  0.02  0.01]"
       ]
      },
      {
       "output_type": "stream",
       "stream": "stdout",
       "text": [
        "\n",
        "[ 0.    0.01  0.    0.    0.88  0.    0.01  0.01  0.    0.09]"
       ]
      },
      {
       "output_type": "stream",
       "stream": "stdout",
       "text": [
        "\n",
        "[ 0.01  0.    0.    0.04  0.01  0.88  0.02  0.    0.02  0.02]"
       ]
      },
      {
       "output_type": "stream",
       "stream": "stdout",
       "text": [
        "\n",
        "[ 0.01  0.    0.    0.    0.    0.01  0.97  0.    0.    0.  ]"
       ]
      },
      {
       "output_type": "stream",
       "stream": "stdout",
       "text": [
        "\n",
        "[ 0.    0.02  0.    0.    0.01  0.    0.    0.92  0.    0.04]"
       ]
      },
      {
       "output_type": "stream",
       "stream": "stdout",
       "text": [
        "\n",
        "[ 0.    0.02  0.01  0.04  0.01  0.03  0.01  0.01  0.85  0.02]"
       ]
      },
      {
       "output_type": "stream",
       "stream": "stdout",
       "text": [
        "\n",
        "[ 0.01  0.    0.    0.01  0.03  0.    0.    0.03  0.    0.91]"
       ]
      },
      {
       "output_type": "stream",
       "stream": "stdout",
       "text": [
        "\n",
        "Saving plot_data...\n",
        "Start testing...\n",
        "Finding mean for k=11..."
       ]
      },
      {
       "output_type": "stream",
       "stream": "stdout",
       "text": [
        "\n",
        "[ 0.98  0.    0.    0.    0.    0.    0.01  0.    0.    0.  ]"
       ]
      },
      {
       "output_type": "stream",
       "stream": "stdout",
       "text": [
        "\n",
        "[ 0.    0.99  0.    0.    0.    0.    0.    0.    0.    0.  ]"
       ]
      },
      {
       "output_type": "stream",
       "stream": "stdout",
       "text": [
        "\n",
        "[ 0.01  0.01  0.9   0.01  0.01  0.    0.01  0.03  0.01  0.01]"
       ]
      },
      {
       "output_type": "stream",
       "stream": "stdout",
       "text": [
        "\n",
        "[ 0.    0.01  0.01  0.9   0.    0.04  0.    0.01  0.02  0.01]"
       ]
      },
      {
       "output_type": "stream",
       "stream": "stdout",
       "text": [
        "\n",
        "[ 0.    0.01  0.    0.    0.86  0.    0.01  0.01  0.    0.1 ]"
       ]
      },
      {
       "output_type": "stream",
       "stream": "stdout",
       "text": [
        "\n",
        "[ 0.01  0.    0.    0.05  0.01  0.87  0.02  0.    0.02  0.02]"
       ]
      },
      {
       "output_type": "stream",
       "stream": "stdout",
       "text": [
        "\n",
        "[ 0.01  0.01  0.    0.    0.    0.01  0.97  0.    0.    0.  ]"
       ]
      },
      {
       "output_type": "stream",
       "stream": "stdout",
       "text": [
        "\n",
        "[ 0.    0.02  0.    0.    0.01  0.    0.    0.91  0.    0.04]"
       ]
      },
      {
       "output_type": "stream",
       "stream": "stdout",
       "text": [
        "\n",
        "[ 0.    0.02  0.01  0.04  0.01  0.03  0.01  0.01  0.84  0.03]"
       ]
      },
      {
       "output_type": "stream",
       "stream": "stdout",
       "text": [
        "\n",
        "[ 0.01  0.01  0.    0.01  0.04  0.    0.    0.04  0.    0.9 ]"
       ]
      },
      {
       "output_type": "stream",
       "stream": "stdout",
       "text": [
        "\n",
        "Saving plot_data...\n",
        "Start testing...\n",
        "Finding mean for k=20..."
       ]
      },
      {
       "output_type": "stream",
       "stream": "stdout",
       "text": [
        "\n",
        "[ 0.97  0.    0.    0.    0.    0.01  0.01  0.    0.    0.  ]"
       ]
      },
      {
       "output_type": "stream",
       "stream": "stdout",
       "text": [
        "\n",
        "[ 0.    0.99  0.    0.    0.    0.    0.    0.    0.    0.  ]"
       ]
      },
      {
       "output_type": "stream",
       "stream": "stdout",
       "text": [
        "\n",
        "[ 0.02  0.02  0.86  0.02  0.01  0.    0.01  0.03  0.02  0.01]"
       ]
      },
      {
       "output_type": "stream",
       "stream": "stdout",
       "text": [
        "\n",
        "[ 0.    0.01  0.01  0.87  0.    0.04  0.    0.01  0.03  0.02]"
       ]
      },
      {
       "output_type": "stream",
       "stream": "stdout",
       "text": [
        "\n",
        "[ 0.    0.01  0.    0.    0.82  0.    0.01  0.01  0.    0.14]"
       ]
      },
      {
       "output_type": "stream",
       "stream": "stdout",
       "text": [
        "\n",
        "[ 0.01  0.01  0.    0.06  0.01  0.83  0.02  0.    0.03  0.03]"
       ]
      },
      {
       "output_type": "stream",
       "stream": "stdout",
       "text": [
        "\n",
        "[ 0.01  0.01  0.    0.    0.    0.01  0.95  0.    0.    0.  ]"
       ]
      },
      {
       "output_type": "stream",
       "stream": "stdout",
       "text": [
        "\n",
        "[ 0.    0.02  0.01  0.    0.02  0.    0.    0.89  0.    0.06]"
       ]
      },
      {
       "output_type": "stream",
       "stream": "stdout",
       "text": [
        "\n",
        "[ 0.    0.03  0.01  0.05  0.01  0.04  0.01  0.01  0.8   0.03]"
       ]
      },
      {
       "output_type": "stream",
       "stream": "stdout",
       "text": [
        "\n",
        "[ 0.01  0.01  0.    0.01  0.05  0.01  0.    0.05  0.    0.86]"
       ]
      },
      {
       "output_type": "stream",
       "stream": "stdout",
       "text": [
        "\n",
        "Saving plot_data...\n",
        "Start testing...\n",
        "Finding mean for k=40..."
       ]
      },
      {
       "output_type": "stream",
       "stream": "stdout",
       "text": [
        "\n",
        "[ 0.95  0.    0.    0.    0.    0.01  0.02  0.    0.    0.  ]"
       ]
      },
      {
       "output_type": "stream",
       "stream": "stdout",
       "text": [
        "\n",
        "[ 0.    0.99  0.    0.    0.    0.    0.    0.    0.    0.  ]"
       ]
      },
      {
       "output_type": "stream",
       "stream": "stdout",
       "text": [
        "\n",
        "[ 0.02  0.03  0.81  0.02  0.02  0.01  0.01  0.04  0.02  0.01]"
       ]
      },
      {
       "output_type": "stream",
       "stream": "stdout",
       "text": [
        "\n",
        "[ 0.01  0.02  0.02  0.82  0.    0.06  0.01  0.01  0.04  0.02]"
       ]
      },
      {
       "output_type": "stream",
       "stream": "stdout",
       "text": [
        "\n",
        "[ 0.    0.02  0.01  0.    0.75  0.    0.01  0.02  0.    0.19]"
       ]
      },
      {
       "output_type": "stream",
       "stream": "stdout",
       "text": [
        "\n",
        "[ 0.02  0.01  0.    0.08  0.01  0.76  0.03  0.01  0.04  0.04]"
       ]
      },
      {
       "output_type": "stream",
       "stream": "stdout",
       "text": [
        "\n",
        "[ 0.02  0.01  0.    0.    0.01  0.01  0.93  0.    0.01  0.  ]"
       ]
      },
      {
       "output_type": "stream",
       "stream": "stdout",
       "text": [
        "\n",
        "[ 0.    0.03  0.01  0.    0.02  0.    0.    0.86  0.    0.07]"
       ]
      },
      {
       "output_type": "stream",
       "stream": "stdout",
       "text": [
        "\n",
        "[ 0.01  0.04  0.02  0.06  0.01  0.05  0.02  0.01  0.74  0.04]"
       ]
      },
      {
       "output_type": "stream",
       "stream": "stdout",
       "text": [
        "\n",
        "[ 0.01  0.01  0.    0.01  0.07  0.01  0.    0.07  0.01  0.82]"
       ]
      },
      {
       "output_type": "stream",
       "stream": "stdout",
       "text": [
        "\n",
        "Saving plot_data...\n",
        "Start testing...\n",
        "[array([ 0.052,  0.052]), array([ 0.047,  0.047]), array([ 0.048,  0.05 ]), array([ 0.055,  0.052]), array([ 0.052,  0.046]), array([ 0.054,  0.047]), array([ 0.068,  0.059]), array([ 0.082,  0.074])]"
       ]
      },
      {
       "output_type": "stream",
       "stream": "stdout",
       "text": [
        "\n",
        "== Fold 8 ==\n",
        "Fitting model...\n",
        "Finding mean for k=1..."
       ]
      },
      {
       "output_type": "stream",
       "stream": "stdout",
       "text": [
        "\n",
        "[ 1.  0.  0.  0.  0.  0.  0.  0.  0.  0.]\n",
        "[ 0.  1.  0.  0.  0.  0.  0.  0.  0.  0.]"
       ]
      },
      {
       "output_type": "stream",
       "stream": "stdout",
       "text": [
        "\n",
        "[ 0.  0.  1.  0.  0.  0.  0.  0.  0.  0.]\n",
        "[ 0.  0.  0.  1.  0.  0.  0.  0.  0.  0.]"
       ]
      },
      {
       "output_type": "stream",
       "stream": "stdout",
       "text": [
        "\n",
        "[ 0.  0.  0.  0.  1.  0.  0.  0.  0.  0.]\n",
        "[ 0.  0.  0.  0.  0.  1.  0.  0.  0.  0.]"
       ]
      },
      {
       "output_type": "stream",
       "stream": "stdout",
       "text": [
        "\n",
        "[ 0.  0.  0.  0.  0.  0.  1.  0.  0.  0.]\n",
        "[ 0.  0.  0.  0.  0.  0.  0.  1.  0.  0.]"
       ]
      },
      {
       "output_type": "stream",
       "stream": "stdout",
       "text": [
        "\n",
        "[ 0.  0.  0.  0.  0.  0.  0.  0.  1.  0.]\n",
        "[ 0.  0.  0.  0.  0.  0.  0.  0.  0.  1.]"
       ]
      },
      {
       "output_type": "stream",
       "stream": "stdout",
       "text": [
        "\n",
        "Saving plot_data...\n",
        "Start testing...\n",
        "Finding mean for k=3..."
       ]
      },
      {
       "output_type": "stream",
       "stream": "stdout",
       "text": [
        "\n",
        "[ 0.99  0.    0.    0.    0.    0.    0.    0.    0.    0.  ]"
       ]
      },
      {
       "output_type": "stream",
       "stream": "stdout",
       "text": [
        "\n",
        "[ 0.    0.99  0.    0.    0.    0.    0.    0.    0.    0.  ]"
       ]
      },
      {
       "output_type": "stream",
       "stream": "stdout",
       "text": [
        "\n",
        "[ 0.01  0.    0.95  0.    0.    0.    0.    0.02  0.01  0.  ]"
       ]
      },
      {
       "output_type": "stream",
       "stream": "stdout",
       "text": [
        "\n",
        "[ 0.    0.    0.01  0.95  0.    0.02  0.    0.    0.01  0.01]"
       ]
      },
      {
       "output_type": "stream",
       "stream": "stdout",
       "text": [
        "\n",
        "[ 0.    0.    0.    0.    0.95  0.    0.    0.01  0.    0.03]"
       ]
      },
      {
       "output_type": "stream",
       "stream": "stdout",
       "text": [
        "\n",
        "[ 0.01  0.    0.    0.02  0.    0.94  0.01  0.    0.01  0.01]"
       ]
      },
      {
       "output_type": "stream",
       "stream": "stdout",
       "text": [
        "\n",
        "[ 0.01  0.    0.    0.    0.    0.01  0.98  0.    0.    0.  ]"
       ]
      },
      {
       "output_type": "stream",
       "stream": "stdout",
       "text": [
        "\n",
        "[ 0.    0.01  0.    0.    0.01  0.    0.    0.96  0.    0.02]"
       ]
      },
      {
       "output_type": "stream",
       "stream": "stdout",
       "text": [
        "\n",
        "[ 0.    0.01  0.    0.02  0.    0.02  0.01  0.    0.92  0.01]"
       ]
      },
      {
       "output_type": "stream",
       "stream": "stdout",
       "text": [
        "\n",
        "[ 0.    0.    0.    0.    0.01  0.    0.    0.02  0.    0.96]"
       ]
      },
      {
       "output_type": "stream",
       "stream": "stdout",
       "text": [
        "\n",
        "Saving plot_data...\n",
        "Start testing...\n",
        "Finding mean for k=5..."
       ]
      },
      {
       "output_type": "stream",
       "stream": "stdout",
       "text": [
        "\n",
        "[ 0.99  0.    0.    0.    0.    0.    0.    0.    0.    0.  ]"
       ]
      },
      {
       "output_type": "stream",
       "stream": "stdout",
       "text": [
        "\n",
        "[ 0.    0.99  0.    0.    0.    0.    0.    0.    0.    0.  ]"
       ]
      },
      {
       "output_type": "stream",
       "stream": "stdout",
       "text": [
        "\n",
        "[ 0.01  0.01  0.93  0.01  0.01  0.    0.    0.02  0.01  0.  ]"
       ]
      },
      {
       "output_type": "stream",
       "stream": "stdout",
       "text": [
        "\n",
        "[ 0.    0.    0.01  0.93  0.    0.02  0.    0.    0.01  0.01]"
       ]
      },
      {
       "output_type": "stream",
       "stream": "stdout",
       "text": [
        "\n",
        "[ 0.    0.01  0.    0.    0.92  0.    0.    0.01  0.    0.06]"
       ]
      },
      {
       "output_type": "stream",
       "stream": "stdout",
       "text": [
        "\n",
        "[ 0.01  0.    0.    0.03  0.    0.91  0.02  0.    0.01  0.01]"
       ]
      },
      {
       "output_type": "stream",
       "stream": "stdout",
       "text": [
        "\n",
        "[ 0.01  0.    0.    0.    0.    0.01  0.98  0.    0.    0.  ]"
       ]
      },
      {
       "output_type": "stream",
       "stream": "stdout",
       "text": [
        "\n",
        "[ 0.    0.01  0.    0.    0.01  0.    0.    0.94  0.    0.03]"
       ]
      },
      {
       "output_type": "stream",
       "stream": "stdout",
       "text": [
        "\n",
        "[ 0.    0.01  0.    0.03  0.    0.03  0.01  0.01  0.89  0.02]"
       ]
      },
      {
       "output_type": "stream",
       "stream": "stdout",
       "text": [
        "\n",
        "[ 0.    0.    0.    0.01  0.02  0.    0.    0.03  0.    0.93]"
       ]
      },
      {
       "output_type": "stream",
       "stream": "stdout",
       "text": [
        "\n",
        "Saving plot_data...\n",
        "Start testing...\n",
        "Finding mean for k=7..."
       ]
      },
      {
       "output_type": "stream",
       "stream": "stdout",
       "text": [
        "\n",
        "[ 0.98  0.    0.    0.    0.    0.    0.01  0.    0.    0.  ]"
       ]
      },
      {
       "output_type": "stream",
       "stream": "stdout",
       "text": [
        "\n",
        "[ 0.    0.99  0.    0.    0.    0.    0.    0.    0.    0.  ]"
       ]
      },
      {
       "output_type": "stream",
       "stream": "stdout",
       "text": [
        "\n",
        "[ 0.01  0.01  0.92  0.01  0.01  0.    0.01  0.02  0.01  0.01]"
       ]
      },
      {
       "output_type": "stream",
       "stream": "stdout",
       "text": [
        "\n",
        "[ 0.    0.01  0.01  0.92  0.    0.03  0.    0.01  0.02  0.01]"
       ]
      },
      {
       "output_type": "stream",
       "stream": "stdout",
       "text": [
        "\n",
        "[ 0.    0.01  0.    0.    0.89  0.    0.01  0.01  0.    0.08]"
       ]
      },
      {
       "output_type": "stream",
       "stream": "stdout",
       "text": [
        "\n",
        "[ 0.01  0.    0.    0.04  0.01  0.89  0.02  0.    0.01  0.01]"
       ]
      },
      {
       "output_type": "stream",
       "stream": "stdout",
       "text": [
        "\n",
        "[ 0.01  0.    0.    0.    0.    0.01  0.97  0.    0.    0.  ]"
       ]
      },
      {
       "output_type": "stream",
       "stream": "stdout",
       "text": [
        "\n",
        "[ 0.    0.02  0.    0.    0.01  0.    0.    0.93  0.    0.03]"
       ]
      },
      {
       "output_type": "stream",
       "stream": "stdout",
       "text": [
        "\n",
        "[ 0.    0.01  0.01  0.03  0.01  0.03  0.01  0.01  0.87  0.02]"
       ]
      },
      {
       "output_type": "stream",
       "stream": "stdout",
       "text": [
        "\n",
        "[ 0.    0.    0.    0.01  0.03  0.    0.    0.03  0.    0.91]"
       ]
      },
      {
       "output_type": "stream",
       "stream": "stdout",
       "text": [
        "\n",
        "Saving plot_data...\n",
        "Start testing...\n",
        "Finding mean for k=9..."
       ]
      },
      {
       "output_type": "stream",
       "stream": "stdout",
       "text": [
        "\n",
        "[ 0.98  0.    0.    0.    0.    0.    0.01  0.    0.    0.  ]"
       ]
      },
      {
       "output_type": "stream",
       "stream": "stdout",
       "text": [
        "\n",
        "[ 0.    0.99  0.    0.    0.    0.    0.    0.    0.    0.  ]"
       ]
      },
      {
       "output_type": "stream",
       "stream": "stdout",
       "text": [
        "\n",
        "[ 0.01  0.01  0.91  0.01  0.01  0.    0.01  0.02  0.01  0.01]"
       ]
      },
      {
       "output_type": "stream",
       "stream": "stdout",
       "text": [
        "\n",
        "[ 0.    0.01  0.01  0.91  0.    0.03  0.    0.01  0.02  0.01]"
       ]
      },
      {
       "output_type": "stream",
       "stream": "stdout",
       "text": [
        "\n",
        "[ 0.    0.01  0.    0.    0.87  0.    0.01  0.01  0.    0.09]"
       ]
      },
      {
       "output_type": "stream",
       "stream": "stdout",
       "text": [
        "\n",
        "[ 0.01  0.    0.    0.05  0.01  0.88  0.02  0.    0.02  0.02]"
       ]
      },
      {
       "output_type": "stream",
       "stream": "stdout",
       "text": [
        "\n",
        "[ 0.01  0.01  0.    0.    0.    0.01  0.97  0.    0.    0.  ]"
       ]
      },
      {
       "output_type": "stream",
       "stream": "stdout",
       "text": [
        "\n",
        "[ 0.    0.02  0.    0.    0.01  0.    0.    0.92  0.    0.04]"
       ]
      },
      {
       "output_type": "stream",
       "stream": "stdout",
       "text": [
        "\n",
        "[ 0.    0.02  0.01  0.04  0.01  0.03  0.01  0.01  0.85  0.03]"
       ]
      },
      {
       "output_type": "stream",
       "stream": "stdout",
       "text": [
        "\n",
        "[ 0.    0.    0.    0.01  0.03  0.    0.    0.04  0.    0.9 ]"
       ]
      },
      {
       "output_type": "stream",
       "stream": "stdout",
       "text": [
        "\n",
        "Saving plot_data...\n",
        "Start testing...\n",
        "Finding mean for k=11..."
       ]
      },
      {
       "output_type": "stream",
       "stream": "stdout",
       "text": [
        "\n",
        "[ 0.98  0.    0.    0.    0.    0.    0.01  0.    0.    0.  ]"
       ]
      },
      {
       "output_type": "stream",
       "stream": "stdout",
       "text": [
        "\n",
        "[ 0.    0.99  0.    0.    0.    0.    0.    0.    0.    0.  ]"
       ]
      },
      {
       "output_type": "stream",
       "stream": "stdout",
       "text": [
        "\n",
        "[ 0.01  0.01  0.9   0.01  0.01  0.    0.01  0.03  0.01  0.01]"
       ]
      },
      {
       "output_type": "stream",
       "stream": "stdout",
       "text": [
        "\n",
        "[ 0.    0.01  0.01  0.9   0.    0.03  0.    0.01  0.02  0.01]"
       ]
      },
      {
       "output_type": "stream",
       "stream": "stdout",
       "text": [
        "\n",
        "[ 0.    0.01  0.    0.    0.86  0.    0.01  0.01  0.    0.1 ]"
       ]
      },
      {
       "output_type": "stream",
       "stream": "stdout",
       "text": [
        "\n",
        "[ 0.01  0.    0.    0.05  0.01  0.87  0.02  0.    0.02  0.02]"
       ]
      },
      {
       "output_type": "stream",
       "stream": "stdout",
       "text": [
        "\n",
        "[ 0.01  0.01  0.    0.    0.    0.01  0.96  0.    0.    0.  ]"
       ]
      },
      {
       "output_type": "stream",
       "stream": "stdout",
       "text": [
        "\n",
        "[ 0.    0.02  0.    0.    0.01  0.    0.    0.91  0.    0.04]"
       ]
      },
      {
       "output_type": "stream",
       "stream": "stdout",
       "text": [
        "\n",
        "[ 0.    0.02  0.01  0.04  0.01  0.04  0.01  0.01  0.84  0.03]"
       ]
      },
      {
       "output_type": "stream",
       "stream": "stdout",
       "text": [
        "\n",
        "[ 0.01  0.    0.    0.01  0.04  0.    0.    0.04  0.    0.89]"
       ]
      },
      {
       "output_type": "stream",
       "stream": "stdout",
       "text": [
        "\n",
        "Saving plot_data...\n",
        "Start testing...\n",
        "Finding mean for k=20..."
       ]
      },
      {
       "output_type": "stream",
       "stream": "stdout",
       "text": [
        "\n",
        "[ 0.97  0.    0.    0.    0.    0.01  0.01  0.    0.    0.  ]"
       ]
      },
      {
       "output_type": "stream",
       "stream": "stdout",
       "text": [
        "\n",
        "[ 0.    0.99  0.    0.    0.    0.    0.    0.    0.    0.  ]"
       ]
      },
      {
       "output_type": "stream",
       "stream": "stdout",
       "text": [
        "\n",
        "[ 0.02  0.02  0.87  0.02  0.01  0.    0.01  0.03  0.02  0.01]"
       ]
      },
      {
       "output_type": "stream",
       "stream": "stdout",
       "text": [
        "\n",
        "[ 0.    0.01  0.01  0.87  0.    0.04  0.    0.01  0.03  0.02]"
       ]
      },
      {
       "output_type": "stream",
       "stream": "stdout",
       "text": [
        "\n",
        "[ 0.    0.02  0.    0.    0.81  0.    0.01  0.01  0.    0.14]"
       ]
      },
      {
       "output_type": "stream",
       "stream": "stdout",
       "text": [
        "\n",
        "[ 0.01  0.01  0.    0.06  0.01  0.83  0.03  0.    0.03  0.02]"
       ]
      },
      {
       "output_type": "stream",
       "stream": "stdout",
       "text": [
        "\n",
        "[ 0.02  0.01  0.    0.    0.01  0.01  0.95  0.    0.    0.  ]"
       ]
      },
      {
       "output_type": "stream",
       "stream": "stdout",
       "text": [
        "\n",
        "[ 0.    0.02  0.    0.    0.01  0.    0.    0.89  0.    0.05]"
       ]
      },
      {
       "output_type": "stream",
       "stream": "stdout",
       "text": [
        "\n",
        "[ 0.01  0.03  0.01  0.05  0.01  0.04  0.01  0.01  0.79  0.04]"
       ]
      },
      {
       "output_type": "stream",
       "stream": "stdout",
       "text": [
        "\n",
        "[ 0.01  0.01  0.    0.01  0.05  0.    0.    0.05  0.    0.86]"
       ]
      },
      {
       "output_type": "stream",
       "stream": "stdout",
       "text": [
        "\n",
        "Saving plot_data...\n",
        "Start testing...\n",
        "Finding mean for k=40..."
       ]
      },
      {
       "output_type": "stream",
       "stream": "stdout",
       "text": [
        "\n",
        "[ 0.95  0.    0.    0.    0.    0.01  0.02  0.    0.    0.  ]"
       ]
      },
      {
       "output_type": "stream",
       "stream": "stdout",
       "text": [
        "\n",
        "[ 0.    0.99  0.    0.    0.    0.    0.    0.    0.    0.  ]"
       ]
      },
      {
       "output_type": "stream",
       "stream": "stdout",
       "text": [
        "\n",
        "[ 0.02  0.03  0.81  0.02  0.02  0.    0.01  0.04  0.02  0.01]"
       ]
      },
      {
       "output_type": "stream",
       "stream": "stdout",
       "text": [
        "\n",
        "[ 0.01  0.02  0.02  0.82  0.    0.05  0.01  0.01  0.04  0.02]"
       ]
      },
      {
       "output_type": "stream",
       "stream": "stdout",
       "text": [
        "\n",
        "[ 0.    0.02  0.    0.    0.74  0.    0.01  0.02  0.    0.19]"
       ]
      },
      {
       "output_type": "stream",
       "stream": "stdout",
       "text": [
        "\n",
        "[ 0.02  0.01  0.    0.08  0.01  0.76  0.03  0.01  0.04  0.03]"
       ]
      },
      {
       "output_type": "stream",
       "stream": "stdout",
       "text": [
        "\n",
        "[ 0.02  0.01  0.    0.    0.01  0.01  0.93  0.    0.01  0.  ]"
       ]
      },
      {
       "output_type": "stream",
       "stream": "stdout",
       "text": [
        "\n",
        "[ 0.    0.03  0.01  0.    0.02  0.    0.    0.86  0.    0.07]"
       ]
      },
      {
       "output_type": "stream",
       "stream": "stdout",
       "text": [
        "\n",
        "[ 0.01  0.03  0.01  0.06  0.01  0.05  0.02  0.01  0.74  0.05]"
       ]
      },
      {
       "output_type": "stream",
       "stream": "stdout",
       "text": [
        "\n",
        "[ 0.01  0.01  0.    0.01  0.08  0.01  0.    0.07  0.01  0.81]"
       ]
      },
      {
       "output_type": "stream",
       "stream": "stdout",
       "text": [
        "\n",
        "Saving plot_data...\n",
        "Start testing...\n",
        "[array([ 0.047,  0.047]), array([ 0.043,  0.043]), array([ 0.044,  0.043]), array([ 0.046,  0.042]), array([ 0.047,  0.045]), array([ 0.043,  0.044]), array([ 0.055,  0.05 ]), array([ 0.069,  0.059])]"
       ]
      },
      {
       "output_type": "stream",
       "stream": "stdout",
       "text": [
        "\n",
        "== Fold 9 ==\n",
        "Fitting model...\n",
        "Finding mean for k=1..."
       ]
      },
      {
       "output_type": "stream",
       "stream": "stdout",
       "text": [
        "\n",
        "[ 1.  0.  0.  0.  0.  0.  0.  0.  0.  0.]\n",
        "[ 0.  1.  0.  0.  0.  0.  0.  0.  0.  0.]"
       ]
      },
      {
       "output_type": "stream",
       "stream": "stdout",
       "text": [
        "\n",
        "[ 0.  0.  1.  0.  0.  0.  0.  0.  0.  0.]\n",
        "[ 0.  0.  0.  1.  0.  0.  0.  0.  0.  0.]"
       ]
      },
      {
       "output_type": "stream",
       "stream": "stdout",
       "text": [
        "\n",
        "[ 0.  0.  0.  0.  1.  0.  0.  0.  0.  0.]\n",
        "[ 0.  0.  0.  0.  0.  1.  0.  0.  0.  0.]"
       ]
      },
      {
       "output_type": "stream",
       "stream": "stdout",
       "text": [
        "\n",
        "[ 0.  0.  0.  0.  0.  0.  1.  0.  0.  0.]\n",
        "[ 0.  0.  0.  0.  0.  0.  0.  1.  0.  0.]"
       ]
      },
      {
       "output_type": "stream",
       "stream": "stdout",
       "text": [
        "\n",
        "[ 0.  0.  0.  0.  0.  0.  0.  0.  1.  0.]\n",
        "[ 0.  0.  0.  0.  0.  0.  0.  0.  0.  1.]"
       ]
      },
      {
       "output_type": "stream",
       "stream": "stdout",
       "text": [
        "\n",
        "Saving plot_data...\n",
        "Start testing...\n",
        "Finding mean for k=3..."
       ]
      },
      {
       "output_type": "stream",
       "stream": "stdout",
       "text": [
        "\n",
        "[ 0.99  0.    0.    0.    0.    0.    0.    0.    0.    0.  ]"
       ]
      },
      {
       "output_type": "stream",
       "stream": "stdout",
       "text": [
        "\n",
        "[ 0.    0.99  0.    0.    0.    0.    0.    0.    0.    0.  ]"
       ]
      },
      {
       "output_type": "stream",
       "stream": "stdout",
       "text": [
        "\n",
        "[ 0.01  0.01  0.95  0.    0.    0.    0.    0.02  0.01  0.  ]"
       ]
      },
      {
       "output_type": "stream",
       "stream": "stdout",
       "text": [
        "\n",
        "[ 0.    0.    0.    0.96  0.    0.02  0.    0.    0.01  0.01]"
       ]
      },
      {
       "output_type": "stream",
       "stream": "stdout",
       "text": [
        "\n",
        "[ 0.    0.01  0.    0.    0.95  0.    0.    0.01  0.    0.03]"
       ]
      },
      {
       "output_type": "stream",
       "stream": "stdout",
       "text": [
        "\n",
        "[ 0.01  0.    0.    0.02  0.    0.94  0.01  0.    0.01  0.01]"
       ]
      },
      {
       "output_type": "stream",
       "stream": "stdout",
       "text": [
        "\n",
        "[ 0.01  0.    0.    0.    0.    0.    0.98  0.    0.    0.  ]"
       ]
      },
      {
       "output_type": "stream",
       "stream": "stdout",
       "text": [
        "\n",
        "[ 0.    0.01  0.    0.    0.01  0.    0.    0.96  0.    0.02]"
       ]
      },
      {
       "output_type": "stream",
       "stream": "stdout",
       "text": [
        "\n",
        "[ 0.    0.01  0.    0.02  0.    0.02  0.01  0.    0.92  0.01]"
       ]
      },
      {
       "output_type": "stream",
       "stream": "stdout",
       "text": [
        "\n",
        "[ 0.    0.    0.    0.    0.02  0.    0.    0.02  0.    0.95]"
       ]
      },
      {
       "output_type": "stream",
       "stream": "stdout",
       "text": [
        "\n",
        "Saving plot_data...\n",
        "Start testing...\n",
        "Finding mean for k=5..."
       ]
      },
      {
       "output_type": "stream",
       "stream": "stdout",
       "text": [
        "\n",
        "[ 0.99  0.    0.    0.    0.    0.    0.    0.    0.    0.  ]"
       ]
      },
      {
       "output_type": "stream",
       "stream": "stdout",
       "text": [
        "\n",
        "[ 0.    0.99  0.    0.    0.    0.    0.    0.    0.    0.  ]"
       ]
      },
      {
       "output_type": "stream",
       "stream": "stdout",
       "text": [
        "\n",
        "[ 0.01  0.01  0.93  0.01  0.01  0.    0.    0.02  0.01  0.01]"
       ]
      },
      {
       "output_type": "stream",
       "stream": "stdout",
       "text": [
        "\n",
        "[ 0.    0.    0.01  0.93  0.    0.02  0.    0.01  0.01  0.01]"
       ]
      },
      {
       "output_type": "stream",
       "stream": "stdout",
       "text": [
        "\n",
        "[ 0.    0.01  0.    0.    0.92  0.    0.01  0.01  0.    0.06]"
       ]
      },
      {
       "output_type": "stream",
       "stream": "stdout",
       "text": [
        "\n",
        "[ 0.01  0.    0.    0.03  0.01  0.92  0.01  0.    0.01  0.01]"
       ]
      },
      {
       "output_type": "stream",
       "stream": "stdout",
       "text": [
        "\n",
        "[ 0.01  0.    0.    0.    0.    0.01  0.98  0.    0.    0.  ]"
       ]
      },
      {
       "output_type": "stream",
       "stream": "stdout",
       "text": [
        "\n",
        "[ 0.    0.01  0.    0.    0.01  0.    0.    0.94  0.    0.03]"
       ]
      },
      {
       "output_type": "stream",
       "stream": "stdout",
       "text": [
        "\n",
        "[ 0.    0.02  0.01  0.03  0.01  0.03  0.01  0.01  0.88  0.02]"
       ]
      },
      {
       "output_type": "stream",
       "stream": "stdout",
       "text": [
        "\n",
        "[ 0.    0.    0.    0.01  0.02  0.    0.    0.03  0.    0.93]"
       ]
      },
      {
       "output_type": "stream",
       "stream": "stdout",
       "text": [
        "\n",
        "Saving plot_data...\n",
        "Start testing...\n",
        "Finding mean for k=7..."
       ]
      },
      {
       "output_type": "stream",
       "stream": "stdout",
       "text": [
        "\n",
        "[ 0.99  0.    0.    0.    0.    0.    0.    0.    0.    0.  ]"
       ]
      },
      {
       "output_type": "stream",
       "stream": "stdout",
       "text": [
        "\n",
        "[ 0.    0.99  0.    0.    0.    0.    0.    0.    0.    0.  ]"
       ]
      },
      {
       "output_type": "stream",
       "stream": "stdout",
       "text": [
        "\n",
        "[ 0.01  0.01  0.91  0.01  0.01  0.    0.01  0.02  0.01  0.01]"
       ]
      },
      {
       "output_type": "stream",
       "stream": "stdout",
       "text": [
        "\n",
        "[ 0.    0.01  0.01  0.92  0.    0.03  0.    0.01  0.02  0.01]"
       ]
      },
      {
       "output_type": "stream",
       "stream": "stdout",
       "text": [
        "\n",
        "[ 0.    0.01  0.    0.    0.89  0.    0.01  0.01  0.    0.08]"
       ]
      },
      {
       "output_type": "stream",
       "stream": "stdout",
       "text": [
        "\n",
        "[ 0.01  0.    0.    0.04  0.    0.9   0.02  0.    0.01  0.01]"
       ]
      },
      {
       "output_type": "stream",
       "stream": "stdout",
       "text": [
        "\n",
        "[ 0.01  0.    0.    0.    0.    0.01  0.97  0.    0.    0.  ]"
       ]
      },
      {
       "output_type": "stream",
       "stream": "stdout",
       "text": [
        "\n",
        "[ 0.    0.02  0.    0.    0.01  0.    0.    0.93  0.    0.03]"
       ]
      },
      {
       "output_type": "stream",
       "stream": "stdout",
       "text": [
        "\n",
        "[ 0.    0.02  0.01  0.03  0.01  0.03  0.01  0.01  0.86  0.02]"
       ]
      },
      {
       "output_type": "stream",
       "stream": "stdout",
       "text": [
        "\n",
        "[ 0.    0.    0.    0.01  0.03  0.    0.    0.03  0.    0.92]"
       ]
      },
      {
       "output_type": "stream",
       "stream": "stdout",
       "text": [
        "\n",
        "Saving plot_data...\n",
        "Start testing...\n",
        "Finding mean for k=9..."
       ]
      },
      {
       "output_type": "stream",
       "stream": "stdout",
       "text": [
        "\n",
        "[ 0.98  0.    0.    0.    0.    0.    0.01  0.    0.    0.  ]"
       ]
      },
      {
       "output_type": "stream",
       "stream": "stdout",
       "text": [
        "\n",
        "[ 0.    0.99  0.    0.    0.    0.    0.    0.    0.    0.  ]"
       ]
      },
      {
       "output_type": "stream",
       "stream": "stdout",
       "text": [
        "\n",
        "[ 0.01  0.01  0.9   0.01  0.01  0.    0.01  0.02  0.01  0.01]"
       ]
      },
      {
       "output_type": "stream",
       "stream": "stdout",
       "text": [
        "\n",
        "[ 0.    0.01  0.01  0.91  0.    0.03  0.    0.01  0.02  0.01]"
       ]
      },
      {
       "output_type": "stream",
       "stream": "stdout",
       "text": [
        "\n",
        "[ 0.    0.01  0.    0.    0.87  0.    0.01  0.01  0.    0.09]"
       ]
      },
      {
       "output_type": "stream",
       "stream": "stdout",
       "text": [
        "\n",
        "[ 0.01  0.    0.    0.04  0.01  0.89  0.02  0.    0.02  0.02]"
       ]
      },
      {
       "output_type": "stream",
       "stream": "stdout",
       "text": [
        "\n",
        "[ 0.01  0.01  0.    0.    0.    0.01  0.97  0.    0.    0.  ]"
       ]
      },
      {
       "output_type": "stream",
       "stream": "stdout",
       "text": [
        "\n",
        "[ 0.    0.02  0.    0.    0.01  0.    0.    0.92  0.    0.04]"
       ]
      },
      {
       "output_type": "stream",
       "stream": "stdout",
       "text": [
        "\n",
        "[ 0.    0.02  0.01  0.04  0.01  0.03  0.01  0.01  0.85  0.02]"
       ]
      },
      {
       "output_type": "stream",
       "stream": "stdout",
       "text": [
        "\n",
        "[ 0.    0.    0.    0.01  0.03  0.    0.    0.03  0.    0.91]"
       ]
      },
      {
       "output_type": "stream",
       "stream": "stdout",
       "text": [
        "\n",
        "Saving plot_data...\n",
        "Start testing...\n",
        "Finding mean for k=11..."
       ]
      },
      {
       "output_type": "stream",
       "stream": "stdout",
       "text": [
        "\n",
        "[ 0.98  0.    0.    0.    0.    0.    0.01  0.    0.    0.  ]"
       ]
      },
      {
       "output_type": "stream",
       "stream": "stdout",
       "text": [
        "\n",
        "[ 0.    0.99  0.    0.    0.    0.    0.    0.    0.    0.  ]"
       ]
      },
      {
       "output_type": "stream",
       "stream": "stdout",
       "text": [
        "\n",
        "[ 0.01  0.01  0.89  0.01  0.01  0.    0.01  0.03  0.01  0.01]"
       ]
      },
      {
       "output_type": "stream",
       "stream": "stdout",
       "text": [
        "\n",
        "[ 0.    0.01  0.01  0.9   0.    0.03  0.    0.01  0.02  0.01]"
       ]
      },
      {
       "output_type": "stream",
       "stream": "stdout",
       "text": [
        "\n",
        "[ 0.    0.01  0.    0.    0.86  0.    0.01  0.01  0.    0.1 ]"
       ]
      },
      {
       "output_type": "stream",
       "stream": "stdout",
       "text": [
        "\n",
        "[ 0.01  0.    0.    0.05  0.01  0.87  0.02  0.    0.02  0.02]"
       ]
      },
      {
       "output_type": "stream",
       "stream": "stdout",
       "text": [
        "\n",
        "[ 0.01  0.01  0.    0.    0.    0.01  0.96  0.    0.    0.  ]"
       ]
      },
      {
       "output_type": "stream",
       "stream": "stdout",
       "text": [
        "\n",
        "[ 0.    0.02  0.    0.    0.01  0.    0.    0.91  0.    0.04]"
       ]
      },
      {
       "output_type": "stream",
       "stream": "stdout",
       "text": [
        "\n",
        "[ 0.    0.02  0.01  0.04  0.01  0.04  0.01  0.01  0.83  0.02]"
       ]
      },
      {
       "output_type": "stream",
       "stream": "stdout",
       "text": [
        "\n",
        "[ 0.    0.01  0.    0.01  0.04  0.    0.    0.04  0.    0.9 ]"
       ]
      },
      {
       "output_type": "stream",
       "stream": "stdout",
       "text": [
        "\n",
        "Saving plot_data...\n",
        "Start testing...\n",
        "Finding mean for k=20..."
       ]
      },
      {
       "output_type": "stream",
       "stream": "stdout",
       "text": [
        "\n",
        "[ 0.97  0.    0.    0.    0.    0.01  0.01  0.    0.    0.  ]"
       ]
      },
      {
       "output_type": "stream",
       "stream": "stdout",
       "text": [
        "\n",
        "[ 0.    0.99  0.    0.    0.    0.    0.    0.    0.    0.  ]"
       ]
      },
      {
       "output_type": "stream",
       "stream": "stdout",
       "text": [
        "\n",
        "[ 0.02  0.02  0.86  0.02  0.01  0.    0.01  0.03  0.02  0.01]"
       ]
      },
      {
       "output_type": "stream",
       "stream": "stdout",
       "text": [
        "\n",
        "[ 0.    0.01  0.01  0.86  0.    0.04  0.    0.01  0.03  0.02]"
       ]
      },
      {
       "output_type": "stream",
       "stream": "stdout",
       "text": [
        "\n",
        "[ 0.    0.02  0.    0.    0.81  0.    0.01  0.01  0.    0.14]"
       ]
      },
      {
       "output_type": "stream",
       "stream": "stdout",
       "text": [
        "\n",
        "[ 0.01  0.01  0.    0.06  0.01  0.83  0.02  0.    0.03  0.02]"
       ]
      },
      {
       "output_type": "stream",
       "stream": "stdout",
       "text": [
        "\n",
        "[ 0.02  0.01  0.    0.    0.    0.01  0.95  0.    0.    0.  ]"
       ]
      },
      {
       "output_type": "stream",
       "stream": "stdout",
       "text": [
        "\n",
        "[ 0.    0.03  0.01  0.    0.02  0.    0.    0.89  0.    0.06]"
       ]
      },
      {
       "output_type": "stream",
       "stream": "stdout",
       "text": [
        "\n",
        "[ 0.01  0.03  0.01  0.05  0.01  0.04  0.01  0.01  0.79  0.03]"
       ]
      },
      {
       "output_type": "stream",
       "stream": "stdout",
       "text": [
        "\n",
        "[ 0.01  0.01  0.    0.01  0.05  0.    0.    0.05  0.    0.86]"
       ]
      },
      {
       "output_type": "stream",
       "stream": "stdout",
       "text": [
        "\n",
        "Saving plot_data...\n",
        "Start testing...\n",
        "Finding mean for k=40..."
       ]
      },
      {
       "output_type": "stream",
       "stream": "stdout",
       "text": [
        "\n",
        "[ 0.95  0.    0.    0.    0.    0.01  0.02  0.    0.    0.  ]"
       ]
      },
      {
       "output_type": "stream",
       "stream": "stdout",
       "text": [
        "\n",
        "[ 0.    0.99  0.    0.    0.    0.    0.    0.    0.    0.  ]"
       ]
      },
      {
       "output_type": "stream",
       "stream": "stdout",
       "text": [
        "\n",
        "[ 0.02  0.03  0.81  0.02  0.02  0.01  0.01  0.04  0.02  0.01]"
       ]
      },
      {
       "output_type": "stream",
       "stream": "stdout",
       "text": [
        "\n",
        "[ 0.01  0.02  0.02  0.82  0.    0.06  0.01  0.01  0.04  0.02]"
       ]
      },
      {
       "output_type": "stream",
       "stream": "stdout",
       "text": [
        "\n",
        "[ 0.    0.02  0.01  0.    0.74  0.    0.01  0.02  0.    0.19]"
       ]
      },
      {
       "output_type": "stream",
       "stream": "stdout",
       "text": [
        "\n",
        "[ 0.02  0.01  0.    0.08  0.01  0.76  0.03  0.01  0.04  0.03]"
       ]
      },
      {
       "output_type": "stream",
       "stream": "stdout",
       "text": [
        "\n",
        "[ 0.02  0.01  0.    0.    0.01  0.01  0.93  0.    0.01  0.  ]"
       ]
      },
      {
       "output_type": "stream",
       "stream": "stdout",
       "text": [
        "\n",
        "[ 0.    0.03  0.01  0.    0.02  0.    0.    0.85  0.    0.07]"
       ]
      },
      {
       "output_type": "stream",
       "stream": "stdout",
       "text": [
        "\n",
        "[ 0.01  0.04  0.02  0.06  0.01  0.05  0.02  0.01  0.74  0.04]"
       ]
      },
      {
       "output_type": "stream",
       "stream": "stdout",
       "text": [
        "\n",
        "[ 0.01  0.01  0.    0.01  0.07  0.01  0.    0.06  0.    0.82]"
       ]
      },
      {
       "output_type": "stream",
       "stream": "stdout",
       "text": [
        "\n",
        "Saving plot_data...\n",
        "Start testing...\n",
        "[array([ 0.038,  0.038]), array([ 0.037,  0.035]), array([ 0.051,  0.045]), array([ 0.048,  0.047]), array([ 0.059,  0.051]), array([ 0.06 ,  0.052]), array([ 0.061,  0.061]), array([ 0.078,  0.07 ])]"
       ]
      },
      {
       "output_type": "stream",
       "stream": "stdout",
       "text": [
        "\n"
       ]
      },
      {
       "metadata": {},
       "output_type": "display_data",
       "png": "[encoded data removed]",
       "text": [
        "<matplotlib.figure.Figure at 0x84ce210>"
       ]
      }
     ],
     "prompt_number": 39
    },
    {
     "cell_type": "code",
     "collapsed": false,
     "input": [
      "def examine_P(kfold, X, Y, alpha, bias=0.01):\n",
      "    test_errors = []\n",
      "    plot_data = {}\n",
      "    skf = cross_validation.StratifiedKFold(Y, n_folds=kfold)\n",
      "    M = np.max(Y).astype(int) + 1\n",
      "    for (fold_idx,(train_index, test_index)) in enumerate(skf):\n",
      "        \n",
      "        print \"== Fold %d ==\"%fold_idx\n",
      "        \n",
      "        X_train = X[train_index]\n",
      "        Y_train = Y[train_index] \n",
      "        X_test = X[test_index]\n",
      "        Y_test = Y[test_index]\n",
      "            \n",
      "        # train overall NN models\n",
      "        print \"Fitting model...\"\n",
      "        nn_all = KNeighborsClassifier(warn_on_equidistant=False)\n",
      "        nn_all.fit(X_train, Y_train)\n",
      "            \n",
      "        # compute test errors using different k\n",
      "        test_err = []\n",
      "        all_kn = [3]\n",
      "        for kn in all_kn:\n",
      "            \n",
      "            print \"Finding mean for k=%d...\"%kn\n",
      "            P = np.zeros((M,M))\n",
      "            all_nx = []\n",
      "            all_kld = {}\n",
      "            for j in range(M):\n",
      "                idx = (Y_train == j)\n",
      "                #i_idx, = np.nonzero(idx)\n",
      "                #idx = np.random.choice(i_idx, size=10)\n",
      "                nx = nn_all.kneighbors(X_train[idx], n_neighbors=kn, return_distance=False)\n",
      "                P[j,:] = prototypical_P(nx, Y_train, M) + bias\n",
      "                P[j,:] = P[j,:] / P[j,:].sum()\n",
      "                dd = []\n",
      "                for l in range(nx.shape[0]):\n",
      "                    dd.append(kld(make_distribution(Y_train[nx[l,:]],M=M),P[j,:]))\n",
      "                figure()\n",
      "                hist(dd, bins=50)\n",
      "            raise\n",
      "            \n",
      "            \n",
      "            print \"Start testing...\"\n",
      "            test_err.append(compute_errors_fixed_P(X_test, Y_test, Y_train, P, nn_all, kn, M, alpha))\n",
      "            #raise\n",
      "            \n",
      "        print test_err\n",
      "        test_errors.append(test_err)\n",
      "        \n",
      "    test_error_mean = np.mean(test_errors, axis=0)\n",
      "    test_error_std = np.std(test_errors, axis=0)\n",
      "    return (test_error_mean, test_error_std, all_kn) \n"
     ],
     "language": "python",
     "metadata": {},
     "outputs": [],
     "prompt_number": 19
    },
    {
     "cell_type": "code",
     "collapsed": false,
     "input": [
      "examine_P(10, transformed_data[1:1000], mnist.target[1:1000], alpha=1, bias=0.01)"
     ],
     "language": "python",
     "metadata": {},
     "outputs": [
      {
       "output_type": "stream",
       "stream": "stdout",
       "text": [
        "== Fold 0 ==\n",
        "Fitting model...\n",
        "Finding mean for k=3...\n",
        "[ 0.96  0.    0.    0.    0.    0.02  0.01  0.    0.    0.  ]\n",
        "[ 0.    0.99  0.    0.    0.    0.    0.    0.    0.    0.  ]"
       ]
      },
      {
       "output_type": "stream",
       "stream": "stdout",
       "text": [
        "\n",
        "[ 0.02  0.02  0.89  0.02  0.    0.    0.01  0.02  0.01  0.02]"
       ]
      },
      {
       "output_type": "stream",
       "stream": "stdout",
       "text": [
        "\n",
        "[ 0.01  0.01  0.03  0.85  0.    0.04  0.    0.01  0.02  0.02]"
       ]
      },
      {
       "output_type": "stream",
       "stream": "stdout",
       "text": [
        "\n",
        "[ 0.    0.    0.    0.    0.86  0.    0.    0.01  0.    0.13]"
       ]
      },
      {
       "output_type": "stream",
       "stream": "stdout",
       "text": [
        "\n",
        "[ 0.    0.01  0.    0.08  0.    0.84  0.03  0.01  0.01  0.02]"
       ]
      },
      {
       "output_type": "stream",
       "stream": "stdout",
       "text": [
        "\n",
        "[ 0.01  0.    0.    0.    0.    0.01  0.96  0.    0.01  0.  ]"
       ]
      },
      {
       "output_type": "stream",
       "stream": "stdout",
       "text": [
        "\n",
        "[ 0.    0.01  0.    0.    0.01  0.    0.    0.94  0.    0.04]"
       ]
      },
      {
       "output_type": "stream",
       "stream": "stdout",
       "text": [
        "\n",
        "[ 0.    0.01  0.    0.07  0.01  0.04  0.01  0.01  0.8   0.03]"
       ]
      },
      {
       "output_type": "stream",
       "stream": "stdout",
       "text": [
        "\n",
        "[ 0.    0.01  0.01  0.01  0.02  0.01  0.    0.03  0.    0.89]"
       ]
      },
      {
       "ename": "TypeError",
       "evalue": "exceptions must be old-style classes or derived from BaseException, not NoneType",
       "output_type": "pyerr",
       "traceback": [
        "\u001b[1;31m---------------------------------------------------------------------------\u001b[0m\n\u001b[1;31mTypeError\u001b[0m                                 Traceback (most recent call last)",
        "\u001b[1;32m<ipython-input-20-c62a271ec24e>\u001b[0m in \u001b[0;36m<module>\u001b[1;34m()\u001b[0m\n\u001b[1;32m----> 1\u001b[1;33m \u001b[0mexamine_P\u001b[0m\u001b[1;33m(\u001b[0m\u001b[1;36m10\u001b[0m\u001b[1;33m,\u001b[0m \u001b[0mtransformed_data\u001b[0m\u001b[1;33m[\u001b[0m\u001b[1;36m1\u001b[0m\u001b[1;33m:\u001b[0m\u001b[1;36m1000\u001b[0m\u001b[1;33m]\u001b[0m\u001b[1;33m,\u001b[0m \u001b[0mmnist\u001b[0m\u001b[1;33m.\u001b[0m\u001b[0mtarget\u001b[0m\u001b[1;33m[\u001b[0m\u001b[1;36m1\u001b[0m\u001b[1;33m:\u001b[0m\u001b[1;36m1000\u001b[0m\u001b[1;33m]\u001b[0m\u001b[1;33m,\u001b[0m \u001b[0malpha\u001b[0m\u001b[1;33m=\u001b[0m\u001b[1;36m1\u001b[0m\u001b[1;33m,\u001b[0m \u001b[0mbias\u001b[0m\u001b[1;33m=\u001b[0m\u001b[1;36m0.01\u001b[0m\u001b[1;33m)\u001b[0m\u001b[1;33m\u001b[0m\u001b[0m\n\u001b[0m",
        "\u001b[1;32m<ipython-input-19-301681420875>\u001b[0m in \u001b[0;36mexamine_P\u001b[1;34m(kfold, X, Y, alpha, bias)\u001b[0m\n\u001b[0;32m     39\u001b[0m                 \u001b[0mfigure\u001b[0m\u001b[1;33m(\u001b[0m\u001b[1;33m)\u001b[0m\u001b[1;33m\u001b[0m\u001b[0m\n\u001b[0;32m     40\u001b[0m                 \u001b[0mhist\u001b[0m\u001b[1;33m(\u001b[0m\u001b[0mdd\u001b[0m\u001b[1;33m,\u001b[0m \u001b[0mbins\u001b[0m\u001b[1;33m=\u001b[0m\u001b[1;36m50\u001b[0m\u001b[1;33m)\u001b[0m\u001b[1;33m\u001b[0m\u001b[0m\n\u001b[1;32m---> 41\u001b[1;33m             \u001b[1;32mraise\u001b[0m\u001b[1;33m\u001b[0m\u001b[0m\n\u001b[0m\u001b[0;32m     42\u001b[0m \u001b[1;33m\u001b[0m\u001b[0m\n\u001b[0;32m     43\u001b[0m \u001b[1;33m\u001b[0m\u001b[0m\n",
        "\u001b[1;31mTypeError\u001b[0m: exceptions must be old-style classes or derived from BaseException, not NoneType"
       ]
      },
      {
       "output_type": "stream",
       "stream": "stdout",
       "text": [
        "\n"
       ]
      },
      {
       "metadata": {},
       "output_type": "display_data",
       "png": "[encoded data removed]",
       "text": [
        "<matplotlib.figure.Figure at 0x50c1310>"
       ]
      },
      {
       "metadata": {},
       "output_type": "display_data",
       "png": "[encoded data removed]",
       "text": [
        "<matplotlib.figure.Figure at 0x4e5ec10>"
       ]
      },
      {
       "metadata": {},
       "output_type": "display_data",
       "png": "[encoded data removed]",
       "text": [
        "<matplotlib.figure.Figure at 0x4fc5310>"
       ]
      },
      {
       "metadata": {},
       "output_type": "display_data",
       "png": "[encoded data removed]",
       "text": [
        "<matplotlib.figure.Figure at 0x50abdd0>"
       ]
      },
      {
       "metadata": {},
       "output_type": "display_data",
       "png": "[encoded data removed]",
       "text": [
        "<matplotlib.figure.Figure at 0x4ff0590>"
       ]
      },
      {
       "metadata": {},
       "output_type": "display_data",
       "png": "[encoded data removed]",
       "text": [
        "<matplotlib.figure.Figure at 0x4e45b10>"
       ]
      },
      {
       "metadata": {},
       "output_type": "display_data",
       "png": "[encoded data removed]",
       "text": [
        "<matplotlib.figure.Figure at 0x4c9ea10>"
       ]
      },
      {
       "metadata": {},
       "output_type": "display_data",
       "png": "[encoded data removed]",
       "text": [
        "<matplotlib.figure.Figure at 0x4b47390>"
       ]
      },
      {
       "metadata": {},
       "output_type": "display_data",
       "png": "[encoded data removed]",
       "text": [
        "<matplotlib.figure.Figure at 0x498ae90>"
       ]
      },
      {
       "metadata": {},
       "output_type": "display_data",
       "png": "[encoded data removed]",
       "text": [
        "<matplotlib.figure.Figure at 0x4c5d8d0>"
       ]
      }
     ],
     "prompt_number": 20
    },
    {
     "cell_type": "code",
     "collapsed": false,
     "input": [],
     "language": "python",
     "metadata": {},
     "outputs": []
    }
   ],
   "metadata": {}
  }
 ]
}