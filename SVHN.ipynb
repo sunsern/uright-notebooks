{
 "metadata": {
  "name": ""
 },
 "nbformat": 3,
 "nbformat_minor": 0,
 "worksheets": [
  {
   "cells": [
    {
     "cell_type": "code",
     "collapsed": false,
     "input": [
      "import scipy.io\n",
      "train_data = scipy.io.loadmat('train_32x32.mat')"
     ],
     "language": "python",
     "metadata": {},
     "outputs": [],
     "prompt_number": 1
    },
    {
     "cell_type": "code",
     "collapsed": false,
     "input": [
      "import numpy as np \n",
      "import skimage.color\n",
      "import skimage.feature\n",
      "from skimage.filter import threshold_otsu, threshold_adaptive\n",
      "\n",
      "def rgb_to_hog(rgb):\n",
      "    cropped = rgb[:,8:-8,:]\n",
      "    gray = skimage.color.rgb2gray(cropped)\n",
      "    \n",
      "    #global_threshold = threshold_otsu(gray)\n",
      "    #binary = gray > global_threshold\n",
      "    \n",
      "    #binary = threshold_adaptive(gray, 16)\n",
      "    binary = gray\n",
      "    \n",
      "    return skimage.feature.hog(binary, \n",
      "                               orientations=6, \n",
      "                               pixels_per_cell=(4, 4), \n",
      "                               cells_per_block=(1, 1), \n",
      "                               visualise=False, \n",
      "                               normalise=True)\n",
      "\n",
      "train_images = train_data['X']\n",
      "X_train = np.asarray([rgb_to_hog(train_images[:,:,:,i]) for i in range(train_images.shape[3])])\n",
      "Y_train = ravel(train_data['y'][:train_images.shape[3]]) % 10"
     ],
     "language": "python",
     "metadata": {},
     "outputs": [],
     "prompt_number": 71
    },
    {
     "cell_type": "code",
     "collapsed": false,
     "input": [
      "#X_train_small = X_train[:1000]\n",
      "#Y_train_small = Y_train[:1000]\n",
      "\n",
      "from sklearn.neighbors import KNeighborsClassifier\n",
      "\n",
      "nn = KNeighborsClassifier()\n",
      "nn.fit(X_train, Y_train)"
     ],
     "language": "python",
     "metadata": {},
     "outputs": [
      {
       "metadata": {},
       "output_type": "pyout",
       "prompt_number": 72,
       "text": [
        "KNeighborsClassifier(algorithm='auto', leaf_size=30, metric='minkowski',\n",
        "           n_neighbors=5, p=2, weights='uniform')"
       ]
      }
     ],
     "prompt_number": 72
    },
    {
     "cell_type": "code",
     "collapsed": false,
     "input": [
      "def make_distribution(nx, M=10):\n",
      "    a,_ = np.histogram(nx, bins=M, range=(0,M), density=True)\n",
      "    return a\n",
      "    \n",
      "def compute_P(X_train, Y_train, nn, k, M=10):\n",
      "    if k == 1:\n",
      "        return np.eye(M)\n",
      "    else:\n",
      "        P = np.zeros((M,M))\n",
      "        for i in range(M):\n",
      "            idx = (Y_train == i)\n",
      "            nx = nn.kneighbors(X_train[idx,:], n_neighbors=k, return_distance=False)\n",
      "            P[i,:] = make_distribution(np.ravel(Y_train[nx]))\n",
      "        return P"
     ],
     "language": "python",
     "metadata": {},
     "outputs": [],
     "prompt_number": 3
    },
    {
     "cell_type": "code",
     "collapsed": false,
     "input": [
      "def knn_classifier(neighborhood):\n",
      "    return np.argmax(neighborhood)\n",
      "\n",
      "def kld(p,q):\n",
      "    EPS = 1e-6\n",
      "    return -np.sum(p * np.log2(q+EPS))\n",
      "\n",
      "def kl_classifier(neighborhood, P):\n",
      "    c = np.argmin([kld(neighborhood, P[i,:]) for i in range(P.shape[0])])\n",
      "    return c"
     ],
     "language": "python",
     "metadata": {},
     "outputs": [],
     "prompt_number": 5
    },
    {
     "cell_type": "code",
     "collapsed": false,
     "input": [
      "def calculate_error(nn, P, Y_train, X_test, Y_test, k):\n",
      "    correct_knn = 0\n",
      "    correct_kl = 0\n",
      "    \n",
      "    neighborhood = nn.kneighbors(X_test, n_neighbors=k, return_distance=False)\n",
      "    neighborhood = Y_train[neighborhood]\n",
      "        \n",
      "    for i in range(neighborhood.shape[0]):\n",
      "        dx = make_distribution(neighborhood[i,:])\n",
      "        c1 = knn_classifier(dx)\n",
      "        c2 = kl_classifier(dx, P)\n",
      "        if c1 == Y_test[i]:\n",
      "            correct_knn += 1\n",
      "        if c2 == Y_test[i]:\n",
      "            correct_kl += 1\n",
      "            \n",
      "    return (1.0 - float(correct_knn)/X_test.shape[0],\n",
      "            1.0 - float(correct_kl)/X_test.shape[0])\n",
      "        "
     ],
     "language": "python",
     "metadata": {},
     "outputs": [],
     "prompt_number": 6
    },
    {
     "cell_type": "markdown",
     "metadata": {},
     "source": [
      "Testing\n",
      "======="
     ]
    },
    {
     "cell_type": "code",
     "collapsed": false,
     "input": [
      "test_data = scipy.io.loadmat('test_32x32.mat')"
     ],
     "language": "python",
     "metadata": {},
     "outputs": [],
     "prompt_number": 7
    },
    {
     "cell_type": "code",
     "collapsed": false,
     "input": [
      "test_images = test_data['X']\n",
      "X_test = np.asarray([rgb_to_hog(test_images[:,:,:,i]) for i in range(test_images.shape[3])])\n",
      "Y_test = ravel(test_data['y'][:test_images.shape[3]]) % 10"
     ],
     "language": "python",
     "metadata": {},
     "outputs": [],
     "prompt_number": 73
    },
    {
     "cell_type": "code",
     "collapsed": false,
     "input": [
      "all_k = range(1,50,5)\n",
      "all_errors = np.zeros((len(all_k), 2))\n",
      "for i,k in enumerate(all_k):\n",
      "    P = compute_P(X_train, Y_train, nn, k)\n",
      "    print P.round(2)\n",
      "    lle, kle = calculate_error(nn, P, Y_train, X_test, Y_test, k)\n",
      "    all_errors[i, 0] = lle\n",
      "    all_errors[i, 1] = kle\n",
      "    print k,lle,kle"
     ],
     "language": "python",
     "metadata": {},
     "outputs": [
      {
       "output_type": "stream",
       "stream": "stdout",
       "text": [
        "[[ 1.  0.  0.  0.  0.  0.  0.  0.  0.  0.]\n",
        " [ 0.  1.  0.  0.  0.  0.  0.  0.  0.  0.]\n",
        " [ 0.  0.  1.  0.  0.  0.  0.  0.  0.  0.]\n",
        " [ 0.  0.  0.  1.  0.  0.  0.  0.  0.  0.]\n",
        " [ 0.  0.  0.  0.  1.  0.  0.  0.  0.  0.]\n",
        " [ 0.  0.  0.  0.  0.  1.  0.  0.  0.  0.]\n",
        " [ 0.  0.  0.  0.  0.  0.  1.  0.  0.  0.]\n",
        " [ 0.  0.  0.  0.  0.  0.  0.  1.  0.  0.]\n",
        " [ 0.  0.  0.  0.  0.  0.  0.  0.  1.  0.]\n",
        " [ 0.  0.  0.  0.  0.  0.  0.  0.  0.  1.]]\n",
        "1"
       ]
      },
      {
       "output_type": "stream",
       "stream": "stdout",
       "text": [
        " 0.243584818685 0.243584818685\n",
        "[[ 0.8   0.06  0.01  0.02  0.01  0.01  0.03  0.01  0.02  0.04]\n",
        " [ 0.04  0.85  0.01  0.01  0.02  0.01  0.01  0.02  0.02  0.01]\n",
        " [ 0.01  0.03  0.85  0.02  0.01  0.01  0.01  0.02  0.02  0.02]\n",
        " [ 0.02  0.04  0.02  0.73  0.01  0.07  0.03  0.01  0.05  0.02]\n",
        " [ 0.02  0.06  0.02  0.02  0.81  0.01  0.02  0.01  0.02  0.02]\n",
        " [ 0.01  0.02  0.01  0.08  0.01  0.79  0.05  0.01  0.02  0.02]\n",
        " [ 0.03  0.03  0.01  0.03  0.01  0.05  0.75  0.01  0.06  0.01]\n",
        " [ 0.01  0.09  0.03  0.02  0.01  0.01  0.01  0.8   0.01  0.01]\n",
        " [ 0.03  0.04  0.01  0.05  0.01  0.03  0.06  0.01  0.74  0.03]\n",
        " [ 0.05  0.03  0.02  0.03  0.01  0.02  0.01  0.01  0.04  0.77]]"
       ]
      },
      {
       "output_type": "stream",
       "stream": "stdout",
       "text": [
        "\n",
        "6"
       ]
      },
      {
       "output_type": "stream",
       "stream": "stdout",
       "text": [
        " 0.1948755378 0.191687154272\n",
        "[[ 0.77  0.07  0.01  0.02  0.01  0.01  0.03  0.01  0.03  0.04]\n",
        " [ 0.04  0.83  0.01  0.02  0.02  0.01  0.01  0.02  0.02  0.01]\n",
        " [ 0.01  0.04  0.83  0.02  0.01  0.01  0.01  0.02  0.02  0.02]\n",
        " [ 0.02  0.04  0.02  0.69  0.02  0.08  0.03  0.01  0.06  0.03]\n",
        " [ 0.02  0.07  0.02  0.03  0.78  0.01  0.02  0.01  0.02  0.02]\n",
        " [ 0.01  0.02  0.01  0.09  0.01  0.76  0.06  0.01  0.03  0.02]\n",
        " [ 0.04  0.03  0.01  0.04  0.02  0.06  0.71  0.01  0.07  0.01]\n",
        " [ 0.02  0.1   0.03  0.02  0.01  0.02  0.01  0.76  0.01  0.01]\n",
        " [ 0.03  0.05  0.01  0.06  0.01  0.03  0.07  0.01  0.69  0.03]\n",
        " [ 0.06  0.04  0.03  0.04  0.01  0.03  0.02  0.01  0.04  0.72]]"
       ]
      },
      {
       "output_type": "stream",
       "stream": "stdout",
       "text": [
        "\n",
        "11"
       ]
      },
      {
       "output_type": "stream",
       "stream": "stdout",
       "text": [
        " 0.181315304241 0.181661032575\n",
        "[[ 0.75  0.07  0.01  0.02  0.01  0.01  0.04  0.01  0.03  0.04]\n",
        " [ 0.05  0.82  0.02  0.02  0.02  0.01  0.02  0.02  0.03  0.01]\n",
        " [ 0.01  0.04  0.82  0.02  0.02  0.01  0.01  0.02  0.02  0.02]\n",
        " [ 0.02  0.05  0.02  0.66  0.02  0.08  0.03  0.01  0.07  0.03]\n",
        " [ 0.02  0.07  0.02  0.03  0.76  0.01  0.02  0.01  0.02  0.02]\n",
        " [ 0.01  0.02  0.01  0.1   0.01  0.74  0.06  0.01  0.03  0.02]\n",
        " [ 0.04  0.04  0.01  0.04  0.02  0.07  0.69  0.01  0.08  0.01]\n",
        " [ 0.02  0.11  0.04  0.03  0.01  0.02  0.01  0.74  0.01  0.01]\n",
        " [ 0.04  0.05  0.02  0.07  0.02  0.03  0.07  0.01  0.67  0.03]\n",
        " [ 0.07  0.04  0.03  0.04  0.01  0.03  0.02  0.01  0.05  0.7 ]]"
       ]
      },
      {
       "output_type": "stream",
       "stream": "stdout",
       "text": [
        "\n",
        "16"
       ]
      },
      {
       "output_type": "stream",
       "stream": "stdout",
       "text": [
        " 0.177435464044 0.177934849416\n",
        "[[ 0.74  0.08  0.01  0.02  0.01  0.01  0.04  0.01  0.03  0.05]\n",
        " [ 0.05  0.81  0.02  0.02  0.02  0.01  0.02  0.03  0.03  0.01]\n",
        " [ 0.01  0.04  0.81  0.03  0.02  0.01  0.01  0.03  0.02  0.02]\n",
        " [ 0.02  0.05  0.02  0.65  0.02  0.09  0.04  0.01  0.07  0.03]\n",
        " [ 0.02  0.08  0.03  0.03  0.75  0.01  0.02  0.01  0.03  0.02]\n",
        " [ 0.01  0.02  0.01  0.1   0.01  0.72  0.07  0.01  0.03  0.02]\n",
        " [ 0.04  0.04  0.01  0.05  0.02  0.07  0.68  0.01  0.08  0.01]\n",
        " [ 0.02  0.11  0.04  0.03  0.01  0.02  0.01  0.73  0.02  0.01]\n",
        " [ 0.04  0.05  0.02  0.07  0.02  0.03  0.07  0.01  0.66  0.03]\n",
        " [ 0.07  0.04  0.03  0.05  0.02  0.03  0.02  0.01  0.05  0.68]]"
       ]
      },
      {
       "output_type": "stream",
       "stream": "stdout",
       "text": [
        "\n",
        "21"
       ]
      },
      {
       "output_type": "stream",
       "stream": "stdout",
       "text": [
        " 0.17586047941 0.17708973571\n",
        "[[ 0.73  0.08  0.02  0.02  0.01  0.01  0.04  0.01  0.03  0.05]\n",
        " [ 0.05  0.8   0.02  0.02  0.02  0.01  0.02  0.03  0.03  0.01]\n",
        " [ 0.01  0.05  0.8   0.03  0.02  0.01  0.01  0.03  0.02  0.02]\n",
        " [ 0.02  0.05  0.02  0.63  0.02  0.09  0.04  0.01  0.07  0.03]\n",
        " [ 0.03  0.08  0.03  0.03  0.74  0.01  0.02  0.01  0.03  0.02]\n",
        " [ 0.01  0.02  0.01  0.1   0.01  0.71  0.07  0.01  0.03  0.02]\n",
        " [ 0.04  0.04  0.01  0.05  0.02  0.07  0.67  0.01  0.08  0.01]\n",
        " [ 0.02  0.12  0.04  0.03  0.01  0.02  0.01  0.73  0.02  0.01]\n",
        " [ 0.04  0.06  0.02  0.07  0.02  0.03  0.07  0.01  0.65  0.04]\n",
        " [ 0.07  0.04  0.03  0.05  0.02  0.03  0.02  0.01  0.05  0.67]]"
       ]
      },
      {
       "output_type": "stream",
       "stream": "stdout",
       "text": [
        "\n",
        "26"
       ]
      },
      {
       "output_type": "stream",
       "stream": "stdout",
       "text": [
        " 0.176398279041 0.177204978488\n",
        "[[ 0.72  0.08  0.02  0.02  0.01  0.01  0.04  0.01  0.03  0.05]\n",
        " [ 0.05  0.79  0.02  0.02  0.02  0.01  0.02  0.03  0.03  0.01]\n",
        " [ 0.01  0.05  0.8   0.03  0.02  0.01  0.01  0.03  0.03  0.02]\n",
        " [ 0.02  0.05  0.02  0.62  0.02  0.09  0.04  0.02  0.08  0.03]\n",
        " [ 0.03  0.08  0.03  0.03  0.73  0.01  0.02  0.01  0.03  0.02]\n",
        " [ 0.01  0.02  0.01  0.11  0.01  0.7   0.07  0.01  0.03  0.02]\n",
        " [ 0.04  0.04  0.01  0.05  0.02  0.08  0.66  0.01  0.08  0.01]\n",
        " [ 0.02  0.12  0.04  0.03  0.01  0.02  0.01  0.72  0.02  0.01]\n",
        " [ 0.04  0.06  0.02  0.08  0.02  0.04  0.08  0.01  0.64  0.04]\n",
        " [ 0.07  0.04  0.03  0.05  0.02  0.03  0.02  0.01  0.05  0.66]]"
       ]
      },
      {
       "output_type": "stream",
       "stream": "stdout",
       "text": [
        "\n",
        "31"
       ]
      },
      {
       "output_type": "stream",
       "stream": "stdout",
       "text": [
        " 0.175514751076 0.176859250154\n",
        "[[ 0.71  0.08  0.02  0.02  0.01  0.01  0.04  0.01  0.03  0.05]\n",
        " [ 0.05  0.79  0.02  0.02  0.02  0.01  0.02  0.03  0.03  0.01]\n",
        " [ 0.01  0.05  0.79  0.03  0.02  0.01  0.01  0.03  0.03  0.02]\n",
        " [ 0.02  0.05  0.02  0.62  0.02  0.1   0.04  0.02  0.08  0.03]\n",
        " [ 0.03  0.08  0.03  0.03  0.72  0.01  0.02  0.01  0.03  0.02]\n",
        " [ 0.01  0.02  0.01  0.11  0.01  0.7   0.07  0.01  0.03  0.02]\n",
        " [ 0.04  0.04  0.01  0.05  0.02  0.08  0.65  0.01  0.09  0.01]\n",
        " [ 0.02  0.12  0.04  0.03  0.01  0.02  0.01  0.71  0.02  0.01]\n",
        " [ 0.04  0.06  0.02  0.08  0.02  0.04  0.08  0.01  0.63  0.04]\n",
        " [ 0.08  0.04  0.04  0.05  0.02  0.03  0.02  0.01  0.06  0.66]]"
       ]
      },
      {
       "output_type": "stream",
       "stream": "stdout",
       "text": [
        "\n",
        "36"
       ]
      },
      {
       "output_type": "stream",
       "stream": "stdout",
       "text": [
        " 0.175975722188 0.178203749232\n",
        "[[ 0.71  0.08  0.02  0.03  0.01  0.01  0.04  0.01  0.03  0.05]\n",
        " [ 0.05  0.79  0.02  0.02  0.02  0.01  0.02  0.03  0.03  0.01]\n",
        " [ 0.01  0.05  0.79  0.03  0.02  0.01  0.01  0.03  0.03  0.02]\n",
        " [ 0.03  0.05  0.03  0.61  0.02  0.1   0.04  0.02  0.08  0.03]\n",
        " [ 0.03  0.09  0.03  0.04  0.72  0.02  0.03  0.01  0.03  0.02]\n",
        " [ 0.01  0.02  0.01  0.11  0.01  0.69  0.08  0.01  0.03  0.02]\n",
        " [ 0.04  0.04  0.01  0.05  0.02  0.08  0.64  0.01  0.09  0.01]\n",
        " [ 0.02  0.12  0.04  0.03  0.01  0.02  0.01  0.71  0.02  0.01]\n",
        " [ 0.04  0.06  0.02  0.08  0.02  0.04  0.08  0.01  0.62  0.04]\n",
        " [ 0.08  0.04  0.04  0.05  0.02  0.03  0.02  0.01  0.06  0.65]]"
       ]
      },
      {
       "output_type": "stream",
       "stream": "stdout",
       "text": [
        "\n",
        "41"
       ]
      },
      {
       "output_type": "stream",
       "stream": "stdout",
       "text": [
        " 0.17463122311 0.178587891825\n",
        "[[ 0.7   0.09  0.02  0.03  0.01  0.01  0.04  0.01  0.03  0.05]\n",
        " [ 0.05  0.78  0.02  0.02  0.02  0.01  0.02  0.03  0.03  0.01]\n",
        " [ 0.01  0.05  0.78  0.03  0.02  0.01  0.01  0.03  0.03  0.03]\n",
        " [ 0.03  0.05  0.03  0.6   0.02  0.1   0.04  0.02  0.08  0.03]\n",
        " [ 0.03  0.09  0.03  0.04  0.71  0.02  0.03  0.01  0.03  0.02]\n",
        " [ 0.01  0.02  0.01  0.11  0.01  0.69  0.08  0.01  0.03  0.02]\n",
        " [ 0.04  0.04  0.01  0.05  0.02  0.08  0.64  0.01  0.09  0.01]\n",
        " [ 0.02  0.13  0.04  0.03  0.01  0.02  0.01  0.7   0.02  0.01]\n",
        " [ 0.04  0.06  0.02  0.08  0.02  0.04  0.08  0.01  0.62  0.04]\n",
        " [ 0.08  0.04  0.04  0.05  0.02  0.03  0.02  0.01  0.06  0.64]]"
       ]
      },
      {
       "output_type": "stream",
       "stream": "stdout",
       "text": [
        "\n",
        "46"
       ]
      },
      {
       "output_type": "stream",
       "stream": "stdout",
       "text": [
        " 0.174477566073 0.178664720344\n"
       ]
      }
     ],
     "prompt_number": 75
    },
    {
     "cell_type": "code",
     "collapsed": false,
     "input": [
      "all_k = range(50,200,59)\n",
      "all_errors = np.zeros((len(all_k), 2))\n",
      "for i,k in enumerate(all_k):\n",
      "    P = compute_P(X_train, Y_train, nn, k)\n",
      "    print P.round(2)\n",
      "    lle, kle = calculate_error(nn, P, Y_train, X_test, Y_test, k)\n",
      "    all_errors[i, 0] = lle\n",
      "    all_errors[i, 1] = kle\n",
      "    print k,lle,kle"
     ],
     "language": "python",
     "metadata": {},
     "outputs": [
      {
       "output_type": "stream",
       "stream": "stdout",
       "text": [
        "[[ 0.7   0.09  0.02  0.03  0.01  0.01  0.04  0.01  0.04  0.05]\n",
        " [ 0.05  0.78  0.02  0.02  0.02  0.01  0.02  0.03  0.03  0.01]\n",
        " [ 0.01  0.05  0.78  0.03  0.02  0.01  0.01  0.03  0.03  0.03]\n",
        " [ 0.03  0.05  0.03  0.6   0.02  0.1   0.04  0.02  0.08  0.04]\n",
        " [ 0.03  0.09  0.03  0.04  0.71  0.02  0.03  0.01  0.03  0.02]\n",
        " [ 0.01  0.02  0.01  0.11  0.01  0.68  0.08  0.01  0.03  0.02]\n",
        " [ 0.04  0.04  0.01  0.05  0.02  0.08  0.63  0.01  0.09  0.01]\n",
        " [ 0.02  0.13  0.05  0.03  0.01  0.02  0.01  0.7   0.02  0.01]\n",
        " [ 0.04  0.06  0.02  0.08  0.02  0.04  0.08  0.01  0.61  0.04]\n",
        " [ 0.08  0.05  0.04  0.05  0.02  0.03  0.02  0.01  0.06  0.64]]\n",
        "50"
       ]
      },
      {
       "output_type": "stream",
       "stream": "stdout",
       "text": [
        " 0.175975722188 0.179087277197\n",
        "[[ 0.66  0.1   0.02  0.03  0.02  0.02  0.05  0.01  0.04  0.06]\n",
        " [ 0.06  0.76  0.02  0.02  0.03  0.01  0.02  0.03  0.04  0.02]\n",
        " [ 0.02  0.06  0.76  0.03  0.02  0.02  0.01  0.03  0.03  0.03]\n",
        " [ 0.03  0.06  0.03  0.55  0.02  0.11  0.05  0.02  0.09  0.04]\n",
        " [ 0.03  0.1   0.03  0.04  0.67  0.02  0.03  0.01  0.03  0.03]\n",
        " [ 0.01  0.03  0.01  0.13  0.01  0.65  0.09  0.01  0.04  0.03]\n",
        " [ 0.05  0.05  0.01  0.06  0.02  0.09  0.59  0.01  0.1   0.02]\n",
        " [ 0.02  0.14  0.05  0.04  0.01  0.02  0.02  0.67  0.02  0.01]\n",
        " [ 0.04  0.07  0.02  0.1   0.02  0.04  0.09  0.01  0.57  0.04]\n",
        " [ 0.09  0.05  0.04  0.06  0.02  0.04  0.03  0.01  0.07  0.59]]"
       ]
      },
      {
       "output_type": "stream",
       "stream": "stdout",
       "text": [
        "\n",
        "109"
       ]
      },
      {
       "output_type": "stream",
       "stream": "stdout",
       "text": [
        " 0.1801244622 0.186155500922\n",
        "[[ 0.63  0.1   0.02  0.03  0.02  0.02  0.05  0.01  0.04  0.07]\n",
        " [ 0.06  0.74  0.02  0.03  0.03  0.01  0.02  0.03  0.04  0.02]\n",
        " [ 0.02  0.06  0.74  0.03  0.02  0.02  0.01  0.04  0.03  0.03]\n",
        " [ 0.03  0.06  0.03  0.53  0.03  0.12  0.05  0.02  0.1   0.04]\n",
        " [ 0.03  0.1   0.04  0.05  0.65  0.02  0.03  0.01  0.04  0.03]\n",
        " [ 0.01  0.03  0.01  0.14  0.01  0.62  0.09  0.01  0.04  0.03]\n",
        " [ 0.05  0.05  0.01  0.07  0.02  0.1   0.56  0.01  0.1   0.02]\n",
        " [ 0.02  0.14  0.06  0.04  0.02  0.02  0.02  0.64  0.02  0.01]\n",
        " [ 0.04  0.07  0.02  0.1   0.02  0.04  0.09  0.01  0.54  0.05]\n",
        " [ 0.09  0.05  0.05  0.07  0.02  0.04  0.03  0.01  0.07  0.56]]"
       ]
      },
      {
       "output_type": "stream",
       "stream": "stdout",
       "text": [
        "\n",
        "168"
       ]
      },
      {
       "output_type": "stream",
       "stream": "stdout",
       "text": [
        " 0.185348801475 0.19180239705\n"
       ]
      }
     ],
     "prompt_number": 77
    },
    {
     "cell_type": "code",
     "collapsed": false,
     "input": [],
     "language": "python",
     "metadata": {},
     "outputs": []
    }
   ],
   "metadata": {}
  }
 ]
}