{
 "metadata": {
  "name": ""
 },
 "nbformat": 3,
 "nbformat_minor": 0,
 "worksheets": [
  {
   "cells": [
    {
     "cell_type": "code",
     "collapsed": false,
     "input": [
      "import pickle\n",
      "all_user_data = pickle.load(open('uright_all_user_data.p','rb'))"
     ],
     "language": "python",
     "metadata": {},
     "outputs": [],
     "prompt_number": 3
    },
    {
     "cell_type": "code",
     "collapsed": false,
     "input": [
      "from uright.inkutils import json2array\n",
      "import numpy as np\n",
      "user_id = 74\n",
      "\n",
      "ink_data = {}\n",
      "\n",
      "for label,_,_,ink in all_user_data[user_id]:\n",
      "    array_ink = json2array(ink, version='uright3')\n",
      "    \n",
      "    # remove nan\n",
      "    to_keep_idx = (array_ink[:,4] != 1)\n",
      "    array_ink = array_ink[to_keep_idx,1:4]\n",
      "    \n",
      "    # remove too short sample\n",
      "    if array_ink.shape[0] > 8:\n",
      "        ink_data.setdefault(label, []).append(array_ink)"
     ],
     "language": "python",
     "metadata": {},
     "outputs": [],
     "prompt_number": 4
    },
    {
     "cell_type": "code",
     "collapsed": false,
     "input": [
      "#from sklearn.hmm import GMMHMM\n",
      "from sklearn.hmm import GaussianHMM\n",
      "from uright.prototype import PrototypeHMM\n",
      "\n",
      "#hmm = GMMHMM(n_components=3, n_mix=3, covariance_type='spherical')\n",
      "\n",
      "hmm = {}\n",
      "for j in range(26):\n",
      "    #hmm[j] = GaussianHMM(n_components=8)\n",
      "    #hmm[j].fit(ink_data[j])\n",
      "    hmm[j] = PrototypeHMM(j, num_states=8)\n",
      "    hmm[j].train(ink_data[j])"
     ],
     "language": "python",
     "metadata": {},
     "outputs": [],
     "prompt_number": 5
    },
    {
     "cell_type": "code",
     "collapsed": false,
     "input": [
      "def o(c):\n",
      "    return ord(c) - ord('a')\n",
      "\n",
      "def a(i):\n",
      "    return chr(i + ord('a'))"
     ],
     "language": "python",
     "metadata": {},
     "outputs": [],
     "prompt_number": 6
    },
    {
     "cell_type": "code",
     "collapsed": false,
     "input": [
      "import string\n",
      "\n",
      "def gen_bigram(filenames):\n",
      "    bigram = np.ones((26,26))\n",
      "    for filename in filenames:\n",
      "        f = open(filename,'r')\n",
      "        for line in f:\n",
      "            line = line.strip().lower()\n",
      "            for i in range(len(line)-1):\n",
      "                if (line[i] in string.ascii_lowercase and\n",
      "                    line[i+1] in string.ascii_lowercase):\n",
      "                    bigram[ord(line[i])-ord('a'), ord(line[i+1])-ord('a')] += 1\n",
      "    for i in range(26):\n",
      "        bigram[i,:] = bigram[i,:] / bigram[i,:].sum()\n",
      "    return bigram\n",
      "        \n",
      "bigram = gen_bigram(['twain-adventures-27.txt','phrack.29.phk'])        "
     ],
     "language": "python",
     "metadata": {},
     "outputs": [],
     "prompt_number": 7
    },
    {
     "cell_type": "code",
     "collapsed": false,
     "input": [
      "import heapq as pq\n",
      "import copy\n",
      "from sklearn.hmm import GaussianHMM\n",
      "\n",
      "class CharacterHMM(object):\n",
      "    def __init__(self, label, hmm, log_prior):\n",
      "        self.hmm = copy.copy(hmm)\n",
      "        self.label = label\n",
      "        self.obs = []\n",
      "        self.log_prior = log_prior\n",
      "        self.most_recent_score = 0\n",
      "\n",
      "    def add_point(self, p):\n",
      "        self.obs.append(p)\n",
      "\n",
      "    def score(self):\n",
      "        self.most_recent_score = self.log_prior + self.hmm.score(np.vstack(self.obs), last_state_only=False)\n",
      "        return self.most_recent_score\n",
      "\n",
      "class EmptyHMM(object):\n",
      "    def __init__(self, label, hmm, log_prior):\n",
      "        self.hmm = copy.copy(hmm)\n",
      "        self.label = label\n",
      "        self.obs = []\n",
      "        self.log_prior = log_prior\n",
      "        self.most_recent_score = 0\n",
      "\n",
      "    def add_point(self, p):\n",
      "        self.obs.append(p)\n",
      "\n",
      "    def score(self):\n",
      "        return self.log_prior - len(self.obs)\n",
      "        \n",
      "        \n",
      "class WordHMM(object):\n",
      "    def __init__(self, all_hmms):\n",
      "        self.beam = []\n",
      "        self.obs = []\n",
      "        self.all_hmms = all_hmms\n",
      "        \n",
      "    def add_point(self, p):\n",
      "        if len(self.obs) == 0:\n",
      "            self.obs.append(p)\n",
      "            sum_prob = 0.0\n",
      "            temp = {}\n",
      "            for i in range(26):\n",
      "                hmm = CharacterHMM(i, self.all_hmms[i], np.log(1.0/26.0))\n",
      "                hmm.add_point(p)\n",
      "                loglike = hmm.score()\n",
      "                sum_prob += np.exp(loglike)\n",
      "                entry = [loglike, '', hmm]\n",
      "                hashkey = a(hmm.label)\n",
      "                temp[hashkey] = entry\n",
      "            \n",
      "            self.beam = []\n",
      "            for hashkey in temp:\n",
      "                entry = temp[hashkey]\n",
      "                entry[0] = -(entry[0] - np.log(sum_prob))\n",
      "                pq.heappush(self.beam, entry)\n",
      "                \n",
      "        else:\n",
      "            count = 0\n",
      "            temp = []\n",
      "            sum_prob = 0.0\n",
      "            while self.beam and count < 200:\n",
      "                negloglike, prev_chars, hmm = pq.heappop(self.beam)\n",
      "                new_prev_chars = prev_chars + a(hmm.label)\n",
      "                new_log_prior = -negloglike\n",
      "                count += 1\n",
      "                # prune 1\n",
      "                if len(prev_chars) < 5:\n",
      "                    # create new hmms\n",
      "                    for i in range(26):\n",
      "                        # prune 2\n",
      "                        if np.exp(new_log_prior + np.log(bigram[hmm.label,i])) > 1e-9:\n",
      "                            new_hmm = CharacterHMM(i, self.all_hmms[i], new_log_prior + np.log(bigram[hmm.label,i]))\n",
      "                            new_hmm.add_point(p)\n",
      "                            new_loglike = new_hmm.score()\n",
      "                            sum_prob += np.exp(new_loglike)\n",
      "                            entry = [new_loglike, new_prev_chars, new_hmm]\n",
      "                            temp.append(entry)\n",
      "                \n",
      "                \n",
      "                # add to existing\n",
      "                hmm.add_point(p)\n",
      "                loglike = hmm.score()\n",
      "                sum_prob += np.exp(loglike)\n",
      "                entry = [loglike, prev_chars, hmm]\n",
      "                temp.append(entry)\n",
      "                \n",
      "                # ignore\n",
      "                #new_hmm = EmptyHMM(hmm.label, None, new_log_prior)\n",
      "                #new_loglike = new_hmm.score()\n",
      "                #sum_prob += np.exp(new_loglike)\n",
      "                #entry = [new_loglike, prev_chars, new_hmm]\n",
      "                #temp.append(entry)\n",
      "                \n",
      "                \n",
      "            # merge\n",
      "            all_paths = {}\n",
      "            for entry in temp:\n",
      "                hashkey = entry[1] + a(entry[2].label)\n",
      "                entry[0] = entry[0] - np.log(sum_prob)\n",
      "                if hashkey in all_paths:\n",
      "                    existing = all_paths[hashkey]\n",
      "                    if existing[2].most_recent_score > entry[2].most_recent_score:\n",
      "                        existing[2].log_prior = np.log(np.exp(existing[2].log_prior) + np.exp(entry[2].log_prior))\n",
      "                        existing[0] = np.log(np.exp(existing[0]) + np.exp(entry[0]))\n",
      "                    else:\n",
      "                        entry[2].log_prior = np.log(np.exp(existing[2].log_prior) + np.exp(entry[2].log_prior))\n",
      "                        entry[0] = np.log(np.exp(existing[0]) + np.exp(entry[0]))\n",
      "                        all_paths[hashkey] = entry\n",
      "                else:\n",
      "                    all_paths[hashkey] = entry\n",
      "            \n",
      "            self.beam = []\n",
      "            check = 0\n",
      "            for hashkey in all_paths:\n",
      "                entry = all_paths[hashkey]\n",
      "                check += np.exp(entry[0])\n",
      "                entry[0] = -entry[0]\n",
      "                pq.heappush(self.beam, entry)\n",
      "                \n",
      "                \n",
      "               \n",
      "    def top_words(self):\n",
      "        return [\"%s - %0.2f%%,\"%(x[1]+a(x[2].label),np.exp(-x[0])*100) for x in pq.nsmallest(7, self.beam)]\n",
      "    \n",
      "    def trim(self):\n",
      "        if self.beam[0][0] < 1e-4:\n",
      "            self.beam = [self.beam[0]]"
     ],
     "language": "python",
     "metadata": {},
     "outputs": [],
     "prompt_number": 11
    },
    {
     "cell_type": "code",
     "collapsed": false,
     "input": [
      "import random\n",
      "\n",
      "test_word = 'yoav'\n",
      "\n",
      "test_ink = []\n",
      "for c in test_word:\n",
      "    test_ink.append(random.choice(ink_data[o(c)]))\n",
      "    #test_ink.append(np.random.random((2,3)))\n",
      "test_obs = np.vstack(test_ink)\n",
      "\n",
      "def run(test_obs):\n",
      "    whmm = WordHMM(hmm)\n",
      "    for i in range(test_obs.shape[0]):\n",
      "        whmm.add_point(test_obs[i,:])\n",
      "        print whmm.top_words()\n",
      "        #whmm.trim()\n",
      "        \n",
      "run(test_obs)"
     ],
     "language": "python",
     "metadata": {},
     "outputs": [
      {
       "output_type": "stream",
       "stream": "stdout",
       "text": [
        "['c - 12.76%,', 'i - 12.64%,', 'q - 10.89%,', 'z - 10.88%,', 'v - 10.69%,', 'x - 9.33%,', 's - 8.56%,']\n",
        "['v - 80.50%,', 'r - 6.16%,', 'x - 5.79%,', 'j - 3.53%,', 'i - 1.57%,', 'w - 1.44%,', 'y - 0.87%,']"
       ]
      },
      {
       "output_type": "stream",
       "stream": "stdout",
       "text": [
        "\n",
        "['v - 82.18%,', 'j - 11.74%,', 'r - 2.97%,', 'y - 1.16%,', 'i - 1.15%,', 'w - 0.76%,', 'x - 0.03%,']"
       ]
      },
      {
       "output_type": "stream",
       "stream": "stdout",
       "text": [
        "\n",
        "['v - 94.78%,', 'y - 3.83%,', 'w - 0.75%,', 'j - 0.63%,', 'r - 0.01%,', 'x - 0.00%,', 've - 0.00%,']"
       ]
      },
      {
       "output_type": "stream",
       "stream": "stdout",
       "text": [
        "\n",
        "['y - 95.61%,', 'v - 3.44%,', 'x - 0.56%,', 'w - 0.34%,', 'ry - 0.02%,', 'zy - 0.01%,', 'ny - 0.01%,']"
       ]
      },
      {
       "output_type": "stream",
       "stream": "stdout",
       "text": [
        "\n",
        "['y - 99.95%,', 'ry - 0.02%,', 'zy - 0.01%,', 'ny - 0.01%,', 'sy - 0.00%,', 'oy - 0.00%,', 'w - 0.00%,']"
       ]
      },
      {
       "output_type": "stream",
       "stream": "stdout",
       "text": [
        "\n",
        "['y - 99.95%,', 'ry - 0.02%,', 'zy - 0.01%,', 'ny - 0.01%,', 'sy - 0.00%,', 'oy - 0.00%,', 'vy - 0.00%,']"
       ]
      },
      {
       "output_type": "stream",
       "stream": "stdout",
       "text": [
        "\n",
        "['y - 99.95%,', 'ry - 0.02%,', 'zy - 0.01%,', 'ny - 0.01%,', 'sy - 0.00%,', 'oy - 0.00%,', 'vy - 0.00%,']"
       ]
      },
      {
       "output_type": "stream",
       "stream": "stdout",
       "text": [
        "\n",
        "['y - 99.95%,', 'ry - 0.02%,', 'zy - 0.01%,', 'ny - 0.01%,', 'sy - 0.00%,', 'oy - 0.00%,', 'vy - 0.00%,']"
       ]
      },
      {
       "output_type": "stream",
       "stream": "stdout",
       "text": [
        "\n",
        "['y - 99.95%,', 'ry - 0.02%,', 'zy - 0.01%,', 'ny - 0.01%,', 'sy - 0.00%,', 'oy - 0.00%,', 'vy - 0.00%,']"
       ]
      },
      {
       "output_type": "stream",
       "stream": "stdout",
       "text": [
        "\n",
        "['y - 99.95%,', 'ry - 0.02%,', 'zy - 0.01%,', 'ny - 0.01%,', 'sy - 0.00%,', 'oy - 0.00%,', 'vy - 0.00%,']"
       ]
      },
      {
       "output_type": "stream",
       "stream": "stdout",
       "text": [
        "\n",
        "['y - 99.94%,', 'ry - 0.02%,', 'zy - 0.01%,', 'ny - 0.01%,', 'sy - 0.00%,', 'yw - 0.00%,', 'oy - 0.00%,']"
       ]
      },
      {
       "output_type": "stream",
       "stream": "stdout",
       "text": [
        "\n",
        "['y - 99.94%,', 'ry - 0.02%,', 'zy - 0.01%,', 'ny - 0.01%,', 'sy - 0.00%,', 'oy - 0.00%,', 'vy - 0.00%,']"
       ]
      },
      {
       "output_type": "stream",
       "stream": "stdout",
       "text": [
        "\n",
        "['y - 99.94%,', 'ry - 0.02%,', 'zy - 0.01%,', 'ny - 0.01%,', 'sy - 0.00%,', 'ym - 0.00%,', 'oy - 0.00%,']"
       ]
      },
      {
       "output_type": "stream",
       "stream": "stdout",
       "text": [
        "\n",
        "['y - 99.93%,', 'ry - 0.02%,', 'zy - 0.01%,', 'ym - 0.01%,', 'ny - 0.01%,', 'sy - 0.00%,', 'oy - 0.00%,']"
       ]
      },
      {
       "output_type": "stream",
       "stream": "stdout",
       "text": [
        "\n",
        "['y - 99.95%,', 'ry - 0.02%,', 'zy - 0.01%,', 'ny - 0.01%,', 'sy - 0.00%,', 'oy - 0.00%,', 'yy - 0.00%,']"
       ]
      },
      {
       "output_type": "stream",
       "stream": "stdout",
       "text": [
        "\n",
        "['y - 99.95%,', 'ry - 0.02%,', 'zy - 0.01%,', 'ny - 0.01%,', 'sy - 0.00%,', 'oy - 0.00%,', 'yy - 0.00%,']"
       ]
      },
      {
       "output_type": "stream",
       "stream": "stdout",
       "text": [
        "\n",
        "['y - 99.95%,', 'ry - 0.02%,', 'zy - 0.01%,', 'ny - 0.01%,', 'sy - 0.00%,', 'oy - 0.00%,', 'yy - 0.00%,']"
       ]
      },
      {
       "output_type": "stream",
       "stream": "stdout",
       "text": [
        "\n",
        "['y - 99.95%,', 'ry - 0.02%,', 'zy - 0.01%,', 'ny - 0.01%,', 'sy - 0.00%,', 'yy - 0.00%,', 'oy - 0.00%,']"
       ]
      },
      {
       "output_type": "stream",
       "stream": "stdout",
       "text": [
        "\n",
        "['y - 99.95%,', 'ry - 0.02%,', 'zy - 0.01%,', 'ny - 0.01%,', 'sy - 0.00%,', 'yy - 0.00%,', 'oy - 0.00%,']"
       ]
      },
      {
       "output_type": "stream",
       "stream": "stdout",
       "text": [
        "\n",
        "['yo - 46.75%,', 'ys - 40.01%,', 'yi - 9.76%,', 'yr - 1.05%,', 'yn - 0.94%,', 'yc - 0.49%,', 'yx - 0.35%,']"
       ]
      },
      {
       "output_type": "stream",
       "stream": "stdout",
       "text": [
        "\n",
        "['yo - 53.08%,', 'ys - 46.62%,', 'ya - 0.17%,', 'yg - 0.06%,', 'yq - 0.01%,', 'ryo - 0.01%,', 'rys - 0.01%,']"
       ]
      },
      {
       "output_type": "stream",
       "stream": "stdout",
       "text": [
        "\n",
        "['yo - 99.01%,', 'yg - 0.49%,', 'ya - 0.37%,', 'yq - 0.07%,', 'ryo - 0.02%,', 'zyo - 0.01%,', 'yyo - 0.01%,']"
       ]
      },
      {
       "output_type": "stream",
       "stream": "stdout",
       "text": [
        "\n",
        "['yo - 99.63%,', 'ya - 0.30%,', 'ryo - 0.02%,', 'zyo - 0.01%,', 'yg - 0.01%,', 'yyo - 0.01%,', 'nyo - 0.01%,']"
       ]
      },
      {
       "output_type": "stream",
       "stream": "stdout",
       "text": [
        "\n",
        "['yo - 99.93%,', 'ryo - 0.02%,', 'zyo - 0.01%,', 'ya - 0.01%,', 'yyo - 0.01%,', 'nyo - 0.01%,', 'syo - 0.00%,']"
       ]
      },
      {
       "output_type": "stream",
       "stream": "stdout",
       "text": [
        "\n",
        "['yo - 99.93%,', 'ryo - 0.02%,', 'ya - 0.02%,', 'zyo - 0.01%,', 'yyo - 0.01%,', 'nyo - 0.01%,', 'syo - 0.00%,']"
       ]
      },
      {
       "output_type": "stream",
       "stream": "stdout",
       "text": [
        "\n",
        "['yo - 99.94%,', 'ryo - 0.02%,', 'zyo - 0.01%,', 'yyo - 0.01%,', 'nyo - 0.01%,', 'syo - 0.00%,', 'ya - 0.00%,']"
       ]
      },
      {
       "output_type": "stream",
       "stream": "stdout",
       "text": [
        "\n",
        "['yo - 99.93%,', 'ryo - 0.02%,', 'zyo - 0.01%,', 'ya - 0.01%,', 'yyo - 0.01%,', 'nyo - 0.01%,', 'syo - 0.00%,']"
       ]
      },
      {
       "output_type": "stream",
       "stream": "stdout",
       "text": [
        "\n",
        "['yo - 99.94%,', 'ryo - 0.02%,', 'zyo - 0.01%,', 'yyo - 0.01%,', 'nyo - 0.01%,', 'syo - 0.00%,', 'oyo - 0.00%,']"
       ]
      },
      {
       "output_type": "stream",
       "stream": "stdout",
       "text": [
        "\n",
        "['yo - 99.94%,', 'ryo - 0.02%,', 'zyo - 0.01%,', 'yyo - 0.01%,', 'nyo - 0.01%,', 'syo - 0.00%,', 'oyo - 0.00%,']"
       ]
      },
      {
       "output_type": "stream",
       "stream": "stdout",
       "text": [
        "\n",
        "['yo - 99.94%,', 'ryo - 0.02%,', 'zyo - 0.01%,', 'yyo - 0.01%,', 'nyo - 0.01%,', 'syo - 0.00%,', 'oyo - 0.00%,']"
       ]
      },
      {
       "output_type": "stream",
       "stream": "stdout",
       "text": [
        "\n",
        "['yo - 99.94%,', 'ryo - 0.02%,', 'zyo - 0.01%,', 'yyo - 0.01%,', 'nyo - 0.01%,', 'syo - 0.00%,', 'oyo - 0.00%,']"
       ]
      },
      {
       "output_type": "stream",
       "stream": "stdout",
       "text": [
        "\n",
        "['yo - 99.94%,', 'ryo - 0.02%,', 'zyo - 0.01%,', 'yyo - 0.01%,', 'nyo - 0.01%,', 'syo - 0.00%,', 'oyo - 0.00%,']"
       ]
      },
      {
       "output_type": "stream",
       "stream": "stdout",
       "text": [
        "\n",
        "['yon - 39.66%,', 'yor - 30.07%,', 'yoo - 8.14%,', 'yos - 7.63%,', 'yov - 5.26%,', 'yoi - 3.70%,', 'yoc - 3.15%,']"
       ]
      },
      {
       "output_type": "stream",
       "stream": "stdout",
       "text": [
        "\n",
        "['yoo - 58.49%,', 'yos - 34.97%,', 'yoc - 4.26%,', 'yoa - 1.13%,', 'yog - 0.86%,', 'yoq - 0.20%,', 'you - 0.03%,']"
       ]
      },
      {
       "output_type": "stream",
       "stream": "stdout",
       "text": [
        "\n",
        "['yoo - 73.27%,', 'yos - 20.45%,', 'yoc - 5.27%,', 'yoa - 0.63%,', 'yog - 0.26%,', 'yoq - 0.07%,', 'ryoo - 0.01%,']"
       ]
      },
      {
       "output_type": "stream",
       "stream": "stdout",
       "text": [
        "\n",
        "['yoo - 91.09%,', 'yos - 6.95%,', 'yoc - 1.08%,', 'yoa - 0.59%,', 'yog - 0.19%,', 'yoq - 0.04%,', 'ryoo - 0.02%,']"
       ]
      },
      {
       "output_type": "stream",
       "stream": "stdout",
       "text": [
        "\n",
        "['yoo - 69.60%,', 'yos - 26.44%,', 'yoc - 3.63%,', 'yoa - 0.21%,', 'yog - 0.05%,', 'ryoo - 0.01%,', 'zyoo - 0.01%,']"
       ]
      },
      {
       "output_type": "stream",
       "stream": "stdout",
       "text": [
        "\n",
        "['yoo - 93.39%,', 'yos - 3.91%,', 'yoc - 2.32%,', 'yoa - 0.32%,', 'ryoo - 0.02%,', 'zyoo - 0.01%,', 'yyoo - 0.01%,']"
       ]
      },
      {
       "output_type": "stream",
       "stream": "stdout",
       "text": [
        "\n",
        "['yoo - 51.08%,', 'yoc - 47.18%,', 'yos - 1.46%,', 'yoa - 0.20%,', 'yog - 0.02%,', 'ryoo - 0.01%,', 'ryoc - 0.01%,']"
       ]
      },
      {
       "output_type": "stream",
       "stream": "stdout",
       "text": [
        "\n",
        "['yoo - 55.16%,', 'yoc - 44.59%,', 'yoa - 0.18%,', 'ryoo - 0.01%,', 'ryoc - 0.01%,', 'zyoo - 0.01%,', 'zyoc - 0.01%,']"
       ]
      },
      {
       "output_type": "stream",
       "stream": "stdout",
       "text": [
        "\n",
        "['yoo - 50.02%,', 'yoc - 49.74%,', 'yoa - 0.18%,', 'ryoo - 0.01%,', 'ryoc - 0.01%,', 'zyoo - 0.01%,', 'zyoc - 0.01%,']"
       ]
      },
      {
       "output_type": "stream",
       "stream": "stdout",
       "text": [
        "\n",
        "['yoo - 89.01%,', 'yoc - 10.91%,', 'yoa - 0.02%,', 'ryoo - 0.02%,', 'zyoo - 0.01%,', 'yyoo - 0.01%,', 'nyoo - 0.00%,']"
       ]
      },
      {
       "output_type": "stream",
       "stream": "stdout",
       "text": [
        "\n",
        "['yoo - 57.96%,', 'yoc - 41.96%,', 'yoa - 0.03%,', 'ryoo - 0.01%,', 'zyoo - 0.01%,', 'ryoc - 0.01%,', 'zyoc - 0.01%,']"
       ]
      },
      {
       "output_type": "stream",
       "stream": "stdout",
       "text": [
        "\n",
        "['yoo - 76.53%,', 'yoc - 23.40%,', 'ryoo - 0.01%,', 'yoa - 0.01%,', 'zyoo - 0.01%,', 'yyoo - 0.01%,', 'nyoo - 0.00%,']"
       ]
      },
      {
       "output_type": "stream",
       "stream": "stdout",
       "text": [
        "\n",
        "['yoo - 86.38%,', 'yoc - 13.46%,', 'yoa - 0.10%,', 'ryoo - 0.02%,', 'zyoo - 0.01%,', 'yyoo - 0.01%,', 'nyoo - 0.00%,']"
       ]
      },
      {
       "output_type": "stream",
       "stream": "stdout",
       "text": [
        "\n",
        "['yoo - 99.88%,', 'yoa - 0.06%,', 'ryoo - 0.02%,', 'zyoo - 0.01%,', 'yyoo - 0.01%,', 'nyoo - 0.01%,', 'syoo - 0.00%,']"
       ]
      },
      {
       "output_type": "stream",
       "stream": "stdout",
       "text": [
        "\n",
        "['yoo - 99.92%,', 'yoa - 0.02%,', 'ryoo - 0.02%,', 'zyoo - 0.01%,', 'yyoo - 0.01%,', 'nyoo - 0.01%,', 'syoo - 0.00%,']"
       ]
      },
      {
       "output_type": "stream",
       "stream": "stdout",
       "text": [
        "\n",
        "['yoo - 99.94%,', 'ryoo - 0.02%,', 'zyoo - 0.01%,', 'yyoo - 0.01%,', 'nyoo - 0.01%,', 'yoa - 0.00%,', 'syoo - 0.00%,']"
       ]
      },
      {
       "output_type": "stream",
       "stream": "stdout",
       "text": [
        "\n",
        "['yoo - 99.94%,', 'ryoo - 0.02%,', 'zyoo - 0.01%,', 'yyoo - 0.01%,', 'nyoo - 0.01%,', 'syoo - 0.00%,', 'oyoo - 0.00%,']"
       ]
      },
      {
       "output_type": "stream",
       "stream": "stdout",
       "text": [
        "\n",
        "['yoa - 99.42%,', 'yoou - 0.54%,', 'yocu - 0.03%,', 'ryoa - 0.01%,', 'yosu - 0.00%,', 'yoca - 0.00%,', 'yoau - 0.00%,']"
       ]
      },
      {
       "output_type": "stream",
       "stream": "stdout",
       "text": [
        "\n",
        "['yoa - 99.66%,', 'yoou - 0.31%,', 'yocu - 0.01%,', 'ryoa - 0.01%,', 'yosu - 0.00%,', 'yoca - 0.00%,', 'yosa - 0.00%,']"
       ]
      },
      {
       "output_type": "stream",
       "stream": "stdout",
       "text": [
        "\n",
        "['yoa - 99.52%,', 'yoou - 0.44%,', 'yocu - 0.02%,', 'ryoa - 0.01%,', 'yoau - 0.00%,', 'yosu - 0.00%,', 'yoca - 0.00%,']"
       ]
      },
      {
       "output_type": "stream",
       "stream": "stdout",
       "text": [
        "\n",
        "['yoa - 99.83%,', 'yoou - 0.15%,', 'ryoa - 0.01%,', 'yocu - 0.01%,', 'yoau - 0.00%,', 'yoca - 0.00%,', 'yosu - 0.00%,']"
       ]
      },
      {
       "output_type": "stream",
       "stream": "stdout",
       "text": [
        "\n",
        "['yoa - 98.49%,', 'yoou - 1.40%,', 'yocu - 0.06%,', 'yoau - 0.03%,', 'ryoa - 0.01%,', 'yosu - 0.00%,', 'yoca - 0.00%,']"
       ]
      },
      {
       "output_type": "stream",
       "stream": "stdout",
       "text": [
        "\n",
        "['yoa - 99.90%,', 'yoou - 0.08%,', 'ryoa - 0.01%,', 'yocu - 0.00%,', 'yoau - 0.00%,', 'yoca - 0.00%,', 'yosu - 0.00%,']"
       ]
      },
      {
       "output_type": "stream",
       "stream": "stdout",
       "text": [
        "\n",
        "['yoa - 99.99%,', 'ryoa - 0.01%,', 'yoca - 0.00%,', 'yosa - 0.00%,', 'yoou - 0.00%,', 'yora - 0.00%,', 'yona - 0.00%,']"
       ]
      },
      {
       "output_type": "stream",
       "stream": "stdout",
       "text": [
        "\n",
        "['yoan - 38.31%,', 'yoas - 20.04%,', 'yoai - 12.92%,', 'yoar - 12.04%,', 'yoac - 9.56%,', 'yoav - 4.90%,', 'yoag - 0.69%,']"
       ]
      },
      {
       "output_type": "stream",
       "stream": "stdout",
       "text": [
        "\n",
        "['yoav - 93.19%,', 'yoay - 3.96%,', 'yoar - 1.85%,', 'yoaw - 0.55%,', 'yoax - 0.42%,', 'yoai - 0.01%,', 'yoau - 0.00%,']"
       ]
      },
      {
       "output_type": "stream",
       "stream": "stdout",
       "text": [
        "\n",
        "['yoav - 85.32%,', 'yoay - 12.01%,', 'yoaw - 2.38%,', 'yoar - 0.27%,', 'yoaj - 0.01%,', 'ryoav - 0.00%,', 'yoai - 0.00%,']"
       ]
      },
      {
       "output_type": "stream",
       "stream": "stdout",
       "text": [
        "\n",
        "['yoav - 97.85%,', 'yoaw - 1.16%,', 'yoay - 0.99%,', 'ryoav - 0.00%,', 'ryoaw - 0.00%,', 'ryoay - 0.00%,', 'yocav - 0.00%,']"
       ]
      },
      {
       "output_type": "stream",
       "stream": "stdout",
       "text": [
        "\n",
        "['yoav - 98.91%,', 'yoaw - 1.08%,', 'yoay - 0.01%,', 'ryoav - 0.00%,', 'ryoaw - 0.00%,', 'yocav - 0.00%,', 'yosav - 0.00%,']"
       ]
      },
      {
       "output_type": "stream",
       "stream": "stdout",
       "text": [
        "\n",
        "['yoav - 99.86%,', 'yoaw - 0.13%,', 'ryoav - 0.00%,', 'yocav - 0.00%,', 'yosav - 0.00%,', 'ryoaw - 0.00%,', 'yorav - 0.00%,']"
       ]
      },
      {
       "output_type": "stream",
       "stream": "stdout",
       "text": [
        "\n",
        "['yoav - 99.98%,', 'yoaw - 0.02%,', 'ryoav - 0.00%,', 'yocav - 0.00%,', 'yosav - 0.00%,', 'yorav - 0.00%,', 'yonav - 0.00%,']"
       ]
      },
      {
       "output_type": "stream",
       "stream": "stdout",
       "text": [
        "\n",
        "['yoav - 99.98%,', 'yoaw - 0.02%,', 'ryoav - 0.00%,', 'yocav - 0.00%,', 'yosav - 0.00%,', 'yorav - 0.00%,', 'yonav - 0.00%,']"
       ]
      },
      {
       "output_type": "stream",
       "stream": "stdout",
       "text": [
        "\n",
        "['yoav - 99.99%,', 'yoaw - 0.01%,', 'ryoav - 0.00%,', 'yocav - 0.00%,', 'yosav - 0.00%,', 'yorav - 0.00%,', 'yonav - 0.00%,']"
       ]
      },
      {
       "output_type": "stream",
       "stream": "stdout",
       "text": [
        "\n",
        "['yoav - 99.97%,', 'yoaw - 0.03%,', 'ryoav - 0.00%,', 'yocav - 0.00%,', 'yosav - 0.00%,', 'yorav - 0.00%,', 'ryoaw - 0.00%,']"
       ]
      },
      {
       "output_type": "stream",
       "stream": "stdout",
       "text": [
        "\n",
        "['yoav - 99.95%,', 'yoaw - 0.05%,', 'ryoav - 0.00%,', 'yocav - 0.00%,', 'yosav - 0.00%,', 'yorav - 0.00%,', 'ryoaw - 0.00%,']"
       ]
      },
      {
       "output_type": "stream",
       "stream": "stdout",
       "text": [
        "\n",
        "['yoav - 99.94%,', 'yoaw - 0.05%,', 'ryoav - 0.00%,', 'yocav - 0.00%,', 'yosav - 0.00%,', 'yorav - 0.00%,', 'ryoaw - 0.00%,']"
       ]
      },
      {
       "output_type": "stream",
       "stream": "stdout",
       "text": [
        "\n",
        "['yoav - 99.99%,', 'yoaw - 0.00%,', 'ryoav - 0.00%,', 'yocav - 0.00%,', 'yosav - 0.00%,', 'yorav - 0.00%,', 'yonav - 0.00%,']"
       ]
      },
      {
       "output_type": "stream",
       "stream": "stdout",
       "text": [
        "\n",
        "['yoav - 100.00%,', 'ryoav - 0.00%,', 'yocav - 0.00%,', 'yosav - 0.00%,', 'yorav - 0.00%,', 'yonav - 0.00%,', 'yoaw - 0.00%,']"
       ]
      },
      {
       "output_type": "stream",
       "stream": "stdout",
       "text": [
        "\n",
        "['yoav - 100.00%,', 'ryoav - 0.00%,', 'yocav - 0.00%,', 'yosav - 0.00%,', 'yorav - 0.00%,', 'yonav - 0.00%,', 'yoaw - 0.00%,']"
       ]
      },
      {
       "output_type": "stream",
       "stream": "stdout",
       "text": [
        "\n",
        "['yoav - 100.00%,', 'ryoav - 0.00%,', 'yocav - 0.00%,', 'yosav - 0.00%,', 'yorav - 0.00%,', 'yonav - 0.00%,', 'yoaw - 0.00%,']"
       ]
      },
      {
       "output_type": "stream",
       "stream": "stdout",
       "text": [
        "\n"
       ]
      }
     ],
     "prompt_number": 13
    },
    {
     "cell_type": "code",
     "collapsed": false,
     "input": [],
     "language": "python",
     "metadata": {},
     "outputs": []
    }
   ],
   "metadata": {}
  }
 ]
}