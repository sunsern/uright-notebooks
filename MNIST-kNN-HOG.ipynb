{
 "metadata": {
  "name": ""
 },
 "nbformat": 3,
 "nbformat_minor": 0,
 "worksheets": [
  {
   "cells": [
    {
     "cell_type": "markdown",
     "metadata": {},
     "source": [
      "### Preprocessing\n",
      "\n",
      "* 10-Orientation, 4x4 HOG features"
     ]
    },
    {
     "cell_type": "code",
     "collapsed": false,
     "input": [
      "%pylab inline"
     ],
     "language": "python",
     "metadata": {},
     "outputs": [
      {
       "output_type": "stream",
       "stream": "stdout",
       "text": [
        "Populating the interactive namespace from numpy and matplotlib\n"
       ]
      }
     ],
     "prompt_number": 1
    },
    {
     "cell_type": "code",
     "collapsed": false,
     "input": [
      "def scale_image(x, scale=0.5):\n",
      "    from scipy.misc import imresize\n",
      "    n = x.shape[0]\n",
      "    sx = x.reshape((sqrt(n),sqrt(n)))\n",
      "    small = imresize(sx, scale)\n",
      "    return small.reshape(-1)\n",
      "\n",
      "def transform_data_pca(X):\n",
      "    from sklearn.decomposition import PCA\n",
      "    X = np.array([scale_image(x, 0.5) for x in X])\n",
      "    pca = PCA(n_components=100)\n",
      "    Tx = pca.fit_transform(X)\n",
      "    print(pca.explained_variance_ratio_.cumsum()) \n",
      "    return Tx\n",
      "\n",
      "def transform_data_hog(X):\n",
      "    import skimage.feature\n",
      "    Hx = np.empty(X.shape[0], dtype=object)\n",
      "    for i,x in enumerate(X):\n",
      "        n = x.shape[0]\n",
      "        sx = x.reshape((np.sqrt(n),np.sqrt(n)))\n",
      "        Hx[i] = skimage.feature.hog(sx,\n",
      "                                    orientations=10,\n",
      "                                    pixels_per_cell=(4, 4), \n",
      "                                    cells_per_block=(1, 1), \n",
      "                                    visualise=False, \n",
      "                                    normalise=True)\n",
      "    return np.vstack(Hx)"
     ],
     "language": "python",
     "metadata": {},
     "outputs": [],
     "prompt_number": 4
    },
    {
     "cell_type": "code",
     "collapsed": false,
     "input": [
      "import numpy as np\n",
      "from sklearn.datasets import fetch_mldata\n",
      " \n",
      "mnist = fetch_mldata('MNIST original', data_home='.')\n",
      "\n",
      "max_n = min(100000, len(mnist.data))\n",
      "rand_idx = range(len(mnist.data))\n",
      "np.random.shuffle(rand_idx)\n",
      "mnist.data = mnist.data[rand_idx[:max_n]]\n",
      "mnist.target = mnist.target[rand_idx[:max_n]].astype(int)\n",
      "\n",
      "transformed_data = transform_data_hog(mnist.data)"
     ],
     "language": "python",
     "metadata": {},
     "outputs": [],
     "prompt_number": 10
    },
    {
     "cell_type": "code",
     "collapsed": false,
     "input": [
      "def kld(p,q):\n",
      "    return -np.sum(p * np.log(q))\n",
      "    \n",
      "def alpha_divergence(exp, obs, alpha=1):\n",
      "    if alpha==1:\n",
      "        return kld(obs, exp)\n",
      "    p = obs\n",
      "    q = exp\n",
      "    return (np.sum((p**alpha)*(q**(1-alpha))) - 1.0)/(alpha*(alpha-1))\n",
      "\n",
      "def alpha_classifier(obs, P, alpha):\n",
      "    c = np.argmin([alpha_divergence(P[i,:], obs, alpha) for i in range(P.shape[0])])\n",
      "    return c\n",
      "\n",
      "def max_classifier(obs):\n",
      "    return obs.argmax()"
     ],
     "language": "python",
     "metadata": {},
     "outputs": [],
     "prompt_number": 11
    },
    {
     "cell_type": "code",
     "collapsed": false,
     "input": [
      "from sklearn import cross_validation\n",
      "from sklearn.neighbors import KNeighborsClassifier\n",
      "import pickle\n",
      "import random\n",
      "\n",
      "def make_distribution(Sx, M):\n",
      "    dist,_  = np.histogram(Sx, bins=M, range=(0,M), density=True)\n",
      "    return dist\n",
      "    \n",
      "def prototypical_P(nx, Y_train, M):\n",
      "    m = make_distribution(Y_train[nx].reshape(-1), M)\n",
      "    print m.round(2)\n",
      "    return m\n",
      "\n",
      "def compute_errors_fixed_P(X_test, Y_test, Y_train, P, nn_all, kn, M, alpha):         \n",
      "    correct_ll = 0\n",
      "    correct_ah = 0\n",
      "    nx = nn_all.kneighbors(X_test, n_neighbors=kn, return_distance=False)\n",
      "    for i,x in enumerate(nx):\n",
      "        dx = make_distribution(Y_train[x], M)\n",
      "        ll = max_classifier(dx)\n",
      "        ah = alpha_classifier(dx, P, alpha)\n",
      "        if ll == Y_test[i]:\n",
      "            correct_ll += 1\n",
      "        if ah == Y_test[i]:\n",
      "            correct_ah += 1\n",
      "    return 1.0 - np.array([float(correct_ll)/len(X_test), float(correct_ah)/len(X_test)])\n",
      "\n",
      "def run_experiment_fixed_P(kfold, X, Y, alpha, bias=0.01, metric='manhattan'):\n",
      "    test_errors = []\n",
      "    plot_data = {}\n",
      "    skf = cross_validation.StratifiedKFold(Y, n_folds=kfold)\n",
      "    M = np.max(Y).astype(int) + 1\n",
      "    for (fold_idx,(train_index, test_index)) in enumerate(skf):\n",
      "        \n",
      "        print \"== Fold %d ==\"%fold_idx\n",
      "        \n",
      "        X_train = X[train_index]\n",
      "        Y_train = Y[train_index] \n",
      "        X_test = X[test_index]\n",
      "        Y_test = Y[test_index]\n",
      "            \n",
      "        # train overall NN models\n",
      "        print \"Fitting model...\"\n",
      "        nn_all = KNeighborsClassifier(metric=metric)\n",
      "        nn_all.fit(X_train, Y_train)\n",
      "            \n",
      "        # compute test errors using different k\n",
      "        test_err = []\n",
      "        all_kn = [1,3,5,7,9,11,20,40]\n",
      "        for kn in all_kn:\n",
      "            \n",
      "            print \"Finding mean for k=%d...\"%kn\n",
      "            P = np.zeros((M,M))\n",
      "            for j in range(M):\n",
      "                idx = (Y_train == j)\n",
      "                #i_idx, = np.nonzero(idx)\n",
      "                #idx = np.random.choice(i_idx, size=10)\n",
      "                nx = nn_all.kneighbors(X_train[idx], n_neighbors=kn, return_distance=False)\n",
      "                P[j,:] = prototypical_P(nx, Y_train, M) + bias\n",
      "                P[j,:] = P[j,:] / P[j,:].sum()\n",
      "   \n",
      "            #print \"Saving plot_data...\"\n",
      "            #plot_data[(fold_idx, kn)] = P\n",
      "            #pickle.dump(plot_data, open('mnist_knn_plot_data.p','wb'))\n",
      "                \n",
      "            print \"Start testing...\"\n",
      "            test_err.append(compute_errors_fixed_P(X_test, Y_test, Y_train, P, nn_all, kn, M, alpha))\n",
      "            #raise\n",
      "            \n",
      "        print test_err\n",
      "        test_errors.append(test_err)\n",
      "        \n",
      "    test_error_mean = np.mean(test_errors, axis=0)\n",
      "    test_error_std = np.std(test_errors, axis=0)\n",
      "    return (test_error_mean, test_error_std, all_kn) \n",
      "\n",
      "def plot_results(ts_m,ts_sd,x):\n",
      "    figure(figsize=(10,8))\n",
      "    errorbar(x, ts_m[:,0], yerr=ts_sd[:,0], fmt='sb-', label='max', lw=2)\n",
      "    errorbar(x, ts_m[:,1], yerr=ts_sd[:,1], fmt='or-', label='alpha-d', lw=2)\n",
      "    legend()\n",
      "    xlabel('size of neighborhood')\n",
      "    ylabel('error rate')\n",
      "    title(\"Test error\")\n",
      "    grid()"
     ],
     "language": "python",
     "metadata": {},
     "outputs": [],
     "prompt_number": 12
    },
    {
     "cell_type": "code",
     "collapsed": false,
     "input": [
      "(ts_m,ts_sd,x) = run_experiment_fixed_P(3, transformed_data, mnist.target, alpha=1, bias=1e-2)\n",
      "plot_results(ts_m,ts_sd,x)"
     ],
     "language": "python",
     "metadata": {},
     "outputs": [
      {
       "output_type": "stream",
       "stream": "stdout",
       "text": [
        "== Fold 0 ==\n",
        "Fitting model..."
       ]
      },
      {
       "output_type": "stream",
       "stream": "stdout",
       "text": [
        "\n",
        "Finding mean for k=1..."
       ]
      },
      {
       "output_type": "stream",
       "stream": "stdout",
       "text": [
        "\n",
        "[ 1.  0.  0.  0.  0.  0.  0.  0.  0.  0.]"
       ]
      },
      {
       "output_type": "stream",
       "stream": "stdout",
       "text": [
        "\n",
        "[ 0.  1.  0.  0.  0.  0.  0.  0.  0.  0.]"
       ]
      },
      {
       "output_type": "stream",
       "stream": "stdout",
       "text": [
        "\n",
        "[ 0.  0.  1.  0.  0.  0.  0.  0.  0.  0.]"
       ]
      },
      {
       "output_type": "stream",
       "stream": "stdout",
       "text": [
        "\n",
        "[ 0.  0.  0.  1.  0.  0.  0.  0.  0.  0.]"
       ]
      },
      {
       "output_type": "stream",
       "stream": "stdout",
       "text": [
        "\n",
        "[ 0.  0.  0.  0.  1.  0.  0.  0.  0.  0.]"
       ]
      },
      {
       "output_type": "stream",
       "stream": "stdout",
       "text": [
        "\n",
        "[ 0.  0.  0.  0.  0.  1.  0.  0.  0.  0.]"
       ]
      },
      {
       "output_type": "stream",
       "stream": "stdout",
       "text": [
        "\n",
        "[ 0.  0.  0.  0.  0.  0.  1.  0.  0.  0.]"
       ]
      },
      {
       "output_type": "stream",
       "stream": "stdout",
       "text": [
        "\n",
        "[ 0.  0.  0.  0.  0.  0.  0.  1.  0.  0.]"
       ]
      },
      {
       "output_type": "stream",
       "stream": "stdout",
       "text": [
        "\n",
        "[ 0.  0.  0.  0.  0.  0.  0.  0.  1.  0.]"
       ]
      },
      {
       "output_type": "stream",
       "stream": "stdout",
       "text": [
        "\n",
        "[ 0.  0.  0.  0.  0.  0.  0.  0.  0.  1.]"
       ]
      },
      {
       "output_type": "stream",
       "stream": "stdout",
       "text": [
        "\n",
        "Start testing...\n",
        "Finding mean for k=3..."
       ]
      },
      {
       "output_type": "stream",
       "stream": "stdout",
       "text": [
        "\n",
        "[ 0.99  0.    0.    0.    0.    0.    0.    0.    0.    0.  ]"
       ]
      },
      {
       "output_type": "stream",
       "stream": "stdout",
       "text": [
        "\n",
        "[ 0.  1.  0.  0.  0.  0.  0.  0.  0.  0.]"
       ]
      },
      {
       "output_type": "stream",
       "stream": "stdout",
       "text": [
        "\n",
        "[ 0.01  0.02  0.94  0.01  0.    0.    0.    0.01  0.01  0.  ]"
       ]
      },
      {
       "output_type": "stream",
       "stream": "stdout",
       "text": [
        "\n",
        "[ 0.    0.    0.    0.95  0.    0.02  0.    0.    0.01  0.01]"
       ]
      },
      {
       "output_type": "stream",
       "stream": "stdout",
       "text": [
        "\n",
        "[ 0.    0.03  0.    0.    0.92  0.    0.    0.01  0.    0.03]"
       ]
      },
      {
       "output_type": "stream",
       "stream": "stdout",
       "text": [
        "\n",
        "[ 0.    0.    0.    0.02  0.    0.94  0.01  0.    0.01  0.01]"
       ]
      },
      {
       "output_type": "stream",
       "stream": "stdout",
       "text": [
        "\n",
        "[ 0.    0.    0.    0.    0.    0.    0.98  0.    0.    0.  ]"
       ]
      },
      {
       "output_type": "stream",
       "stream": "stdout",
       "text": [
        "\n",
        "[ 0.    0.01  0.    0.    0.    0.    0.    0.96  0.    0.02]"
       ]
      },
      {
       "output_type": "stream",
       "stream": "stdout",
       "text": [
        "\n",
        "[ 0.01  0.02  0.    0.01  0.    0.01  0.    0.    0.92  0.02]"
       ]
      },
      {
       "output_type": "stream",
       "stream": "stdout",
       "text": [
        "\n",
        "[ 0.    0.    0.    0.    0.01  0.    0.    0.02  0.    0.96]"
       ]
      },
      {
       "output_type": "stream",
       "stream": "stdout",
       "text": [
        "\n",
        "Start testing...\n",
        "Finding mean for k=5..."
       ]
      },
      {
       "output_type": "stream",
       "stream": "stdout",
       "text": [
        "\n",
        "[ 0.99  0.    0.    0.    0.    0.    0.    0.    0.    0.  ]"
       ]
      },
      {
       "output_type": "stream",
       "stream": "stdout",
       "text": [
        "\n",
        "[ 0.  1.  0.  0.  0.  0.  0.  0.  0.  0.]"
       ]
      },
      {
       "output_type": "stream",
       "stream": "stdout",
       "text": [
        "\n",
        "[ 0.01  0.03  0.92  0.01  0.    0.    0.    0.02  0.01  0.  ]"
       ]
      },
      {
       "output_type": "stream",
       "stream": "stdout",
       "text": [
        "\n",
        "[ 0.    0.    0.01  0.93  0.    0.02  0.    0.01  0.02  0.01]"
       ]
      },
      {
       "output_type": "stream",
       "stream": "stdout",
       "text": [
        "\n",
        "[ 0.    0.04  0.    0.    0.89  0.    0.    0.01  0.    0.05]"
       ]
      },
      {
       "output_type": "stream",
       "stream": "stdout",
       "text": [
        "\n",
        "[ 0.    0.01  0.    0.03  0.    0.92  0.01  0.    0.01  0.01]"
       ]
      },
      {
       "output_type": "stream",
       "stream": "stdout",
       "text": [
        "\n",
        "[ 0.01  0.01  0.    0.    0.    0.    0.98  0.    0.    0.  ]"
       ]
      },
      {
       "output_type": "stream",
       "stream": "stdout",
       "text": [
        "\n",
        "[ 0.    0.02  0.    0.    0.    0.    0.    0.95  0.    0.03]"
       ]
      },
      {
       "output_type": "stream",
       "stream": "stdout",
       "text": [
        "\n",
        "[ 0.01  0.03  0.    0.02  0.    0.02  0.01  0.01  0.89  0.02]"
       ]
      },
      {
       "output_type": "stream",
       "stream": "stdout",
       "text": [
        "\n",
        "[ 0.    0.01  0.    0.01  0.01  0.    0.    0.02  0.    0.95]"
       ]
      },
      {
       "output_type": "stream",
       "stream": "stdout",
       "text": [
        "\n",
        "Start testing...\n",
        "Finding mean for k=7..."
       ]
      },
      {
       "output_type": "stream",
       "stream": "stdout",
       "text": [
        "\n",
        "[ 0.98  0.    0.    0.    0.    0.    0.01  0.    0.    0.  ]"
       ]
      },
      {
       "output_type": "stream",
       "stream": "stdout",
       "text": [
        "\n",
        "[ 0.    0.99  0.    0.    0.    0.    0.    0.    0.    0.  ]"
       ]
      },
      {
       "output_type": "stream",
       "stream": "stdout",
       "text": [
        "\n",
        "[ 0.01  0.04  0.9   0.01  0.    0.    0.    0.02  0.01  0.  ]"
       ]
      },
      {
       "output_type": "stream",
       "stream": "stdout",
       "text": [
        "\n",
        "[ 0.    0.01  0.01  0.92  0.    0.03  0.    0.01  0.02  0.01]"
       ]
      },
      {
       "output_type": "stream",
       "stream": "stdout",
       "text": [
        "\n",
        "[ 0.    0.05  0.    0.    0.87  0.    0.    0.01  0.    0.06]"
       ]
      },
      {
       "output_type": "stream",
       "stream": "stdout",
       "text": [
        "\n",
        "[ 0.    0.01  0.    0.04  0.    0.9   0.01  0.    0.02  0.01]"
       ]
      },
      {
       "output_type": "stream",
       "stream": "stdout",
       "text": [
        "\n",
        "[ 0.01  0.01  0.    0.    0.    0.    0.97  0.    0.    0.  ]"
       ]
      },
      {
       "output_type": "stream",
       "stream": "stdout",
       "text": [
        "\n",
        "[ 0.    0.02  0.    0.    0.    0.    0.    0.94  0.    0.03]"
       ]
      },
      {
       "output_type": "stream",
       "stream": "stdout",
       "text": [
        "\n",
        "[ 0.01  0.03  0.    0.02  0.    0.02  0.01  0.01  0.87  0.02]"
       ]
      },
      {
       "output_type": "stream",
       "stream": "stdout",
       "text": [
        "\n",
        "[ 0.01  0.01  0.    0.01  0.01  0.    0.    0.03  0.    0.94]"
       ]
      },
      {
       "output_type": "stream",
       "stream": "stdout",
       "text": [
        "\n",
        "Start testing...\n",
        "Finding mean for k=9..."
       ]
      },
      {
       "output_type": "stream",
       "stream": "stdout",
       "text": [
        "\n",
        "[ 0.98  0.01  0.    0.    0.    0.    0.01  0.    0.    0.  ]"
       ]
      },
      {
       "output_type": "stream",
       "stream": "stdout",
       "text": [
        "\n",
        "[ 0.    0.99  0.    0.    0.    0.    0.    0.    0.    0.  ]"
       ]
      },
      {
       "output_type": "stream",
       "stream": "stdout",
       "text": [
        "\n",
        "[ 0.01  0.04  0.89  0.01  0.    0.    0.    0.02  0.01  0.  ]"
       ]
      },
      {
       "output_type": "stream",
       "stream": "stdout",
       "text": [
        "\n",
        "[ 0.    0.01  0.01  0.91  0.    0.03  0.    0.01  0.02  0.01]"
       ]
      },
      {
       "output_type": "stream",
       "stream": "stdout",
       "text": [
        "\n",
        "[ 0.    0.06  0.    0.    0.86  0.    0.    0.01  0.    0.06]"
       ]
      },
      {
       "output_type": "stream",
       "stream": "stdout",
       "text": [
        "\n",
        "[ 0.01  0.01  0.    0.04  0.    0.89  0.02  0.    0.02  0.01]"
       ]
      },
      {
       "output_type": "stream",
       "stream": "stdout",
       "text": [
        "\n",
        "[ 0.01  0.01  0.    0.    0.    0.01  0.97  0.    0.    0.  ]"
       ]
      },
      {
       "output_type": "stream",
       "stream": "stdout",
       "text": [
        "\n",
        "[ 0.    0.02  0.    0.    0.    0.    0.    0.94  0.    0.03]"
       ]
      },
      {
       "output_type": "stream",
       "stream": "stdout",
       "text": [
        "\n",
        "[ 0.01  0.04  0.01  0.02  0.    0.03  0.01  0.01  0.85  0.03]"
       ]
      },
      {
       "output_type": "stream",
       "stream": "stdout",
       "text": [
        "\n",
        "[ 0.01  0.01  0.    0.01  0.01  0.    0.    0.03  0.    0.94]"
       ]
      },
      {
       "output_type": "stream",
       "stream": "stdout",
       "text": [
        "\n",
        "Start testing...\n",
        "Finding mean for k=11..."
       ]
      },
      {
       "output_type": "stream",
       "stream": "stdout",
       "text": [
        "\n",
        "[ 0.98  0.01  0.    0.    0.    0.    0.01  0.    0.    0.  ]"
       ]
      },
      {
       "output_type": "stream",
       "stream": "stdout",
       "text": [
        "\n",
        "[ 0.    0.99  0.    0.    0.    0.    0.    0.    0.    0.  ]"
       ]
      },
      {
       "output_type": "stream",
       "stream": "stdout",
       "text": [
        "\n",
        "[ 0.01  0.05  0.88  0.02  0.    0.    0.    0.02  0.01  0.  ]"
       ]
      },
      {
       "output_type": "stream",
       "stream": "stdout",
       "text": [
        "\n",
        "[ 0.    0.01  0.01  0.9   0.    0.03  0.    0.01  0.02  0.01]"
       ]
      },
      {
       "output_type": "stream",
       "stream": "stdout",
       "text": [
        "\n",
        "[ 0.    0.07  0.    0.    0.85  0.    0.    0.01  0.    0.07]"
       ]
      },
      {
       "output_type": "stream",
       "stream": "stdout",
       "text": [
        "\n",
        "[ 0.01  0.01  0.    0.05  0.    0.88  0.02  0.    0.02  0.01]"
       ]
      },
      {
       "output_type": "stream",
       "stream": "stdout",
       "text": [
        "\n",
        "[ 0.01  0.01  0.    0.    0.    0.01  0.97  0.    0.    0.  ]"
       ]
      },
      {
       "output_type": "stream",
       "stream": "stdout",
       "text": [
        "\n",
        "[ 0.    0.02  0.    0.    0.    0.    0.    0.93  0.    0.04]"
       ]
      },
      {
       "output_type": "stream",
       "stream": "stdout",
       "text": [
        "\n",
        "[ 0.01  0.04  0.01  0.03  0.    0.03  0.01  0.01  0.84  0.03]"
       ]
      },
      {
       "output_type": "stream",
       "stream": "stdout",
       "text": [
        "\n",
        "[ 0.01  0.01  0.    0.01  0.01  0.    0.    0.03  0.    0.93]"
       ]
      },
      {
       "output_type": "stream",
       "stream": "stdout",
       "text": [
        "\n",
        "Start testing...\n",
        "Finding mean for k=20..."
       ]
      },
      {
       "output_type": "stream",
       "stream": "stdout",
       "text": [
        "\n",
        "[ 0.97  0.01  0.    0.    0.    0.    0.01  0.    0.    0.  ]"
       ]
      },
      {
       "output_type": "stream",
       "stream": "stdout",
       "text": [
        "\n",
        "[ 0.    0.99  0.    0.    0.    0.    0.    0.    0.    0.  ]"
       ]
      },
      {
       "output_type": "stream",
       "stream": "stdout",
       "text": [
        "\n",
        "[ 0.01  0.06  0.85  0.02  0.    0.    0.    0.03  0.01  0.01]"
       ]
      },
      {
       "output_type": "stream",
       "stream": "stdout",
       "text": [
        "\n",
        "[ 0.    0.01  0.01  0.88  0.    0.04  0.    0.01  0.03  0.01]"
       ]
      },
      {
       "output_type": "stream",
       "stream": "stdout",
       "text": [
        "\n",
        "[ 0.    0.08  0.    0.    0.81  0.    0.    0.01  0.    0.08]"
       ]
      },
      {
       "output_type": "stream",
       "stream": "stdout",
       "text": [
        "\n",
        "[ 0.01  0.01  0.    0.06  0.    0.86  0.02  0.    0.02  0.02]"
       ]
      },
      {
       "output_type": "stream",
       "stream": "stdout",
       "text": [
        "\n",
        "[ 0.01  0.01  0.    0.    0.    0.01  0.96  0.    0.    0.  ]"
       ]
      },
      {
       "output_type": "stream",
       "stream": "stdout",
       "text": [
        "\n",
        "[ 0.    0.03  0.    0.    0.01  0.    0.    0.92  0.    0.04]"
       ]
      },
      {
       "output_type": "stream",
       "stream": "stdout",
       "text": [
        "\n",
        "[ 0.02  0.05  0.01  0.03  0.    0.03  0.01  0.01  0.8   0.03]"
       ]
      },
      {
       "output_type": "stream",
       "stream": "stdout",
       "text": [
        "\n",
        "[ 0.01  0.01  0.    0.01  0.01  0.    0.    0.04  0.    0.92]"
       ]
      },
      {
       "output_type": "stream",
       "stream": "stdout",
       "text": [
        "\n",
        "Start testing...\n",
        "Finding mean for k=40..."
       ]
      },
      {
       "output_type": "stream",
       "stream": "stdout",
       "text": [
        "\n",
        "[ 0.96  0.01  0.    0.    0.    0.    0.01  0.    0.    0.  ]"
       ]
      },
      {
       "output_type": "stream",
       "stream": "stdout",
       "text": [
        "\n",
        "[ 0.    0.99  0.    0.    0.    0.    0.    0.    0.    0.  ]"
       ]
      },
      {
       "output_type": "stream",
       "stream": "stdout",
       "text": [
        "\n",
        "[ 0.02  0.09  0.8   0.03  0.    0.    0.    0.03  0.02  0.01]"
       ]
      },
      {
       "output_type": "stream",
       "stream": "stdout",
       "text": [
        "\n",
        "[ 0.01  0.02  0.01  0.85  0.    0.05  0.    0.01  0.04  0.02]"
       ]
      },
      {
       "output_type": "stream",
       "stream": "stdout",
       "text": [
        "\n",
        "[ 0.    0.11  0.    0.    0.76  0.    0.    0.02  0.    0.1 ]"
       ]
      },
      {
       "output_type": "stream",
       "stream": "stdout",
       "text": [
        "\n",
        "[ 0.01  0.02  0.    0.07  0.    0.82  0.02  0.    0.03  0.02]"
       ]
      },
      {
       "output_type": "stream",
       "stream": "stdout",
       "text": [
        "\n",
        "[ 0.01  0.02  0.    0.    0.    0.01  0.95  0.    0.    0.  ]"
       ]
      },
      {
       "output_type": "stream",
       "stream": "stdout",
       "text": [
        "\n",
        "[ 0.    0.03  0.    0.    0.01  0.    0.    0.9   0.    0.06]"
       ]
      },
      {
       "output_type": "stream",
       "stream": "stdout",
       "text": [
        "\n",
        "[ 0.02  0.07  0.01  0.04  0.    0.04  0.01  0.01  0.75  0.04]"
       ]
      },
      {
       "output_type": "stream",
       "stream": "stdout",
       "text": [
        "\n",
        "[ 0.01  0.01  0.    0.01  0.02  0.    0.    0.05  0.    0.9 ]"
       ]
      },
      {
       "output_type": "stream",
       "stream": "stdout",
       "text": [
        "\n",
        "Start testing...\n",
        "[array([ 0.05494129,  0.05494129]), array([ 0.05138425,  0.04842719]), array([ 0.05005571,  0.04688437]), array([ 0.05074141,  0.04602726]), array([ 0.05301277,  0.04675581]), array([ 0.05481272,  0.04834148]), array([ 0.06175538,  0.05219851]), array([ 0.07298363,  0.05879832])]"
       ]
      },
      {
       "output_type": "stream",
       "stream": "stdout",
       "text": [
        "\n",
        "== Fold 1 ==\n",
        "Fitting model..."
       ]
      },
      {
       "output_type": "stream",
       "stream": "stdout",
       "text": [
        "\n",
        "Finding mean for k=1..."
       ]
      },
      {
       "output_type": "stream",
       "stream": "stdout",
       "text": [
        "\n",
        "[ 1.  0.  0.  0.  0.  0.  0.  0.  0.  0.]"
       ]
      },
      {
       "output_type": "stream",
       "stream": "stdout",
       "text": [
        "\n",
        "[ 0.  1.  0.  0.  0.  0.  0.  0.  0.  0.]"
       ]
      },
      {
       "output_type": "stream",
       "stream": "stdout",
       "text": [
        "\n",
        "[ 0.  0.  1.  0.  0.  0.  0.  0.  0.  0.]"
       ]
      },
      {
       "output_type": "stream",
       "stream": "stdout",
       "text": [
        "\n",
        "[ 0.  0.  0.  1.  0.  0.  0.  0.  0.  0.]"
       ]
      },
      {
       "output_type": "stream",
       "stream": "stdout",
       "text": [
        "\n",
        "[ 0.  0.  0.  0.  1.  0.  0.  0.  0.  0.]"
       ]
      },
      {
       "output_type": "stream",
       "stream": "stdout",
       "text": [
        "\n",
        "[ 0.  0.  0.  0.  0.  1.  0.  0.  0.  0.]"
       ]
      },
      {
       "output_type": "stream",
       "stream": "stdout",
       "text": [
        "\n",
        "[ 0.  0.  0.  0.  0.  0.  1.  0.  0.  0.]"
       ]
      },
      {
       "output_type": "stream",
       "stream": "stdout",
       "text": [
        "\n",
        "[ 0.  0.  0.  0.  0.  0.  0.  1.  0.  0.]"
       ]
      },
      {
       "output_type": "stream",
       "stream": "stdout",
       "text": [
        "\n",
        "[ 0.  0.  0.  0.  0.  0.  0.  0.  1.  0.]"
       ]
      },
      {
       "output_type": "stream",
       "stream": "stdout",
       "text": [
        "\n",
        "[ 0.  0.  0.  0.  0.  0.  0.  0.  0.  1.]"
       ]
      },
      {
       "output_type": "stream",
       "stream": "stdout",
       "text": [
        "\n",
        "Start testing...\n",
        "Finding mean for k=3..."
       ]
      },
      {
       "output_type": "stream",
       "stream": "stdout",
       "text": [
        "\n",
        "[ 0.99  0.    0.    0.    0.    0.    0.    0.    0.    0.  ]"
       ]
      },
      {
       "output_type": "stream",
       "stream": "stdout",
       "text": [
        "\n",
        "[ 0.  1.  0.  0.  0.  0.  0.  0.  0.  0.]"
       ]
      },
      {
       "output_type": "stream",
       "stream": "stdout",
       "text": [
        "\n",
        "[ 0.01  0.02  0.95  0.01  0.    0.    0.    0.01  0.01  0.  ]"
       ]
      },
      {
       "output_type": "stream",
       "stream": "stdout",
       "text": [
        "\n",
        "[ 0.    0.    0.    0.95  0.    0.02  0.    0.01  0.01  0.01]"
       ]
      },
      {
       "output_type": "stream",
       "stream": "stdout",
       "text": [
        "\n",
        "[ 0.    0.03  0.    0.    0.93  0.    0.    0.01  0.    0.04]"
       ]
      },
      {
       "output_type": "stream",
       "stream": "stdout",
       "text": [
        "\n",
        "[ 0.    0.01  0.    0.02  0.    0.94  0.01  0.    0.01  0.01]"
       ]
      },
      {
       "output_type": "stream",
       "stream": "stdout",
       "text": [
        "\n",
        "[ 0.    0.01  0.    0.    0.    0.    0.98  0.    0.    0.  ]"
       ]
      },
      {
       "output_type": "stream",
       "stream": "stdout",
       "text": [
        "\n",
        "[ 0.    0.01  0.    0.    0.    0.    0.    0.97  0.    0.02]"
       ]
      },
      {
       "output_type": "stream",
       "stream": "stdout",
       "text": [
        "\n",
        "[ 0.01  0.02  0.    0.01  0.    0.01  0.    0.    0.92  0.02]"
       ]
      },
      {
       "output_type": "stream",
       "stream": "stdout",
       "text": [
        "\n",
        "[ 0.    0.    0.    0.    0.01  0.    0.    0.02  0.    0.97]"
       ]
      },
      {
       "output_type": "stream",
       "stream": "stdout",
       "text": [
        "\n",
        "Start testing...\n",
        "Finding mean for k=5..."
       ]
      },
      {
       "output_type": "stream",
       "stream": "stdout",
       "text": [
        "\n",
        "[ 0.99  0.    0.    0.    0.    0.    0.    0.    0.    0.  ]"
       ]
      },
      {
       "output_type": "stream",
       "stream": "stdout",
       "text": [
        "\n",
        "[ 0.  1.  0.  0.  0.  0.  0.  0.  0.  0.]"
       ]
      },
      {
       "output_type": "stream",
       "stream": "stdout",
       "text": [
        "\n",
        "[ 0.01  0.03  0.92  0.01  0.    0.    0.    0.01  0.01  0.  ]"
       ]
      },
      {
       "output_type": "stream",
       "stream": "stdout",
       "text": [
        "\n",
        "[ 0.    0.    0.    0.93  0.    0.02  0.    0.01  0.02  0.01]"
       ]
      },
      {
       "output_type": "stream",
       "stream": "stdout",
       "text": [
        "\n",
        "[ 0.    0.04  0.    0.    0.9   0.    0.    0.01  0.    0.05]"
       ]
      },
      {
       "output_type": "stream",
       "stream": "stdout",
       "text": [
        "\n",
        "[ 0.    0.01  0.    0.03  0.    0.92  0.01  0.    0.01  0.01]"
       ]
      },
      {
       "output_type": "stream",
       "stream": "stdout",
       "text": [
        "\n",
        "[ 0.01  0.01  0.    0.    0.    0.    0.98  0.    0.    0.  ]"
       ]
      },
      {
       "output_type": "stream",
       "stream": "stdout",
       "text": [
        "\n",
        "[ 0.    0.01  0.    0.    0.    0.    0.    0.95  0.    0.02]"
       ]
      },
      {
       "output_type": "stream",
       "stream": "stdout",
       "text": [
        "\n",
        "[ 0.01  0.03  0.    0.02  0.    0.02  0.01  0.01  0.89  0.02]"
       ]
      },
      {
       "output_type": "stream",
       "stream": "stdout",
       "text": [
        "\n",
        "[ 0.    0.    0.    0.01  0.01  0.    0.    0.02  0.    0.95]"
       ]
      },
      {
       "output_type": "stream",
       "stream": "stdout",
       "text": [
        "\n",
        "Start testing...\n",
        "Finding mean for k=7..."
       ]
      },
      {
       "output_type": "stream",
       "stream": "stdout",
       "text": [
        "\n",
        "[ 0.99  0.    0.    0.    0.    0.    0.    0.    0.    0.  ]"
       ]
      },
      {
       "output_type": "stream",
       "stream": "stdout",
       "text": [
        "\n",
        "[ 0.    0.99  0.    0.    0.    0.    0.    0.    0.    0.  ]"
       ]
      },
      {
       "output_type": "stream",
       "stream": "stdout",
       "text": [
        "\n",
        "[ 0.01  0.03  0.91  0.01  0.    0.    0.    0.02  0.01  0.  ]"
       ]
      },
      {
       "output_type": "stream",
       "stream": "stdout",
       "text": [
        "\n",
        "[ 0.    0.01  0.01  0.92  0.    0.03  0.    0.01  0.02  0.01]"
       ]
      },
      {
       "output_type": "stream",
       "stream": "stdout",
       "text": [
        "\n",
        "[ 0.    0.05  0.    0.    0.88  0.    0.    0.01  0.    0.06]"
       ]
      },
      {
       "output_type": "stream",
       "stream": "stdout",
       "text": [
        "\n",
        "[ 0.01  0.01  0.    0.04  0.    0.9   0.02  0.    0.02  0.01]"
       ]
      },
      {
       "output_type": "stream",
       "stream": "stdout",
       "text": [
        "\n",
        "[ 0.01  0.01  0.    0.    0.    0.01  0.97  0.    0.    0.  ]"
       ]
      },
      {
       "output_type": "stream",
       "stream": "stdout",
       "text": [
        "\n",
        "[ 0.    0.02  0.    0.    0.    0.    0.    0.95  0.    0.03]"
       ]
      },
      {
       "output_type": "stream",
       "stream": "stdout",
       "text": [
        "\n",
        "[ 0.01  0.03  0.    0.02  0.    0.02  0.01  0.01  0.87  0.02]"
       ]
      },
      {
       "output_type": "stream",
       "stream": "stdout",
       "text": [
        "\n",
        "[ 0.    0.01  0.    0.01  0.01  0.    0.    0.03  0.    0.94]"
       ]
      },
      {
       "output_type": "stream",
       "stream": "stdout",
       "text": [
        "\n",
        "Start testing...\n",
        "Finding mean for k=9..."
       ]
      },
      {
       "output_type": "stream",
       "stream": "stdout",
       "text": [
        "\n",
        "[ 0.98  0.01  0.    0.    0.    0.    0.    0.    0.    0.  ]"
       ]
      },
      {
       "output_type": "stream",
       "stream": "stdout",
       "text": [
        "\n",
        "[ 0.    0.99  0.    0.    0.    0.    0.    0.    0.    0.  ]"
       ]
      },
      {
       "output_type": "stream",
       "stream": "stdout",
       "text": [
        "\n",
        "[ 0.01  0.04  0.9   0.01  0.    0.    0.    0.02  0.01  0.  ]"
       ]
      },
      {
       "output_type": "stream",
       "stream": "stdout",
       "text": [
        "\n",
        "[ 0.    0.01  0.01  0.91  0.    0.03  0.    0.01  0.02  0.01]"
       ]
      },
      {
       "output_type": "stream",
       "stream": "stdout",
       "text": [
        "\n",
        "[ 0.    0.06  0.    0.    0.86  0.    0.    0.01  0.    0.06]"
       ]
      },
      {
       "output_type": "stream",
       "stream": "stdout",
       "text": [
        "\n",
        "[ 0.01  0.01  0.    0.04  0.    0.89  0.02  0.    0.02  0.01]"
       ]
      },
      {
       "output_type": "stream",
       "stream": "stdout",
       "text": [
        "\n",
        "[ 0.01  0.01  0.    0.    0.    0.01  0.97  0.    0.    0.  ]"
       ]
      },
      {
       "output_type": "stream",
       "stream": "stdout",
       "text": [
        "\n",
        "[ 0.    0.02  0.    0.    0.    0.    0.    0.94  0.    0.03]"
       ]
      },
      {
       "output_type": "stream",
       "stream": "stdout",
       "text": [
        "\n",
        "[ 0.01  0.03  0.    0.03  0.    0.03  0.01  0.01  0.85  0.02]"
       ]
      },
      {
       "output_type": "stream",
       "stream": "stdout",
       "text": [
        "\n",
        "[ 0.    0.01  0.    0.01  0.01  0.    0.    0.03  0.    0.94]"
       ]
      },
      {
       "output_type": "stream",
       "stream": "stdout",
       "text": [
        "\n",
        "Start testing...\n",
        "Finding mean for k=11..."
       ]
      },
      {
       "output_type": "stream",
       "stream": "stdout",
       "text": [
        "\n",
        "[ 0.98  0.01  0.    0.    0.    0.    0.    0.    0.    0.  ]"
       ]
      },
      {
       "output_type": "stream",
       "stream": "stdout",
       "text": [
        "\n",
        "[ 0.    0.99  0.    0.    0.    0.    0.    0.    0.    0.  ]"
       ]
      },
      {
       "output_type": "stream",
       "stream": "stdout",
       "text": [
        "\n",
        "[ 0.01  0.05  0.89  0.02  0.    0.    0.    0.02  0.01  0.  ]"
       ]
      },
      {
       "output_type": "stream",
       "stream": "stdout",
       "text": [
        "\n",
        "[ 0.    0.01  0.01  0.9   0.    0.03  0.    0.01  0.02  0.01]"
       ]
      },
      {
       "output_type": "stream",
       "stream": "stdout",
       "text": [
        "\n",
        "[ 0.    0.06  0.    0.    0.85  0.    0.    0.01  0.    0.07]"
       ]
      },
      {
       "output_type": "stream",
       "stream": "stdout",
       "text": [
        "\n",
        "[ 0.01  0.01  0.    0.05  0.    0.88  0.02  0.    0.02  0.01]"
       ]
      },
      {
       "output_type": "stream",
       "stream": "stdout",
       "text": [
        "\n",
        "[ 0.01  0.01  0.    0.    0.    0.01  0.97  0.    0.    0.  ]"
       ]
      },
      {
       "output_type": "stream",
       "stream": "stdout",
       "text": [
        "\n",
        "[ 0.    0.02  0.    0.    0.    0.    0.    0.94  0.    0.03]"
       ]
      },
      {
       "output_type": "stream",
       "stream": "stdout",
       "text": [
        "\n",
        "[ 0.01  0.04  0.    0.03  0.    0.03  0.01  0.01  0.84  0.03]"
       ]
      },
      {
       "output_type": "stream",
       "stream": "stdout",
       "text": [
        "\n",
        "[ 0.    0.01  0.    0.01  0.01  0.    0.    0.03  0.    0.93]"
       ]
      },
      {
       "output_type": "stream",
       "stream": "stdout",
       "text": [
        "\n",
        "Start testing...\n",
        "Finding mean for k=20..."
       ]
      },
      {
       "output_type": "stream",
       "stream": "stdout",
       "text": [
        "\n",
        "[ 0.97  0.01  0.    0.    0.    0.    0.01  0.    0.    0.  ]"
       ]
      },
      {
       "output_type": "stream",
       "stream": "stdout",
       "text": [
        "\n",
        "[ 0.    0.99  0.    0.    0.    0.    0.    0.    0.    0.  ]"
       ]
      },
      {
       "output_type": "stream",
       "stream": "stdout",
       "text": [
        "\n",
        "[ 0.01  0.06  0.85  0.02  0.    0.    0.    0.02  0.01  0.01]"
       ]
      },
      {
       "output_type": "stream",
       "stream": "stdout",
       "text": [
        "\n",
        "[ 0.01  0.01  0.01  0.88  0.    0.04  0.    0.01  0.03  0.01]"
       ]
      },
      {
       "output_type": "stream",
       "stream": "stdout",
       "text": [
        "\n",
        "[ 0.    0.08  0.    0.    0.81  0.    0.    0.01  0.    0.09]"
       ]
      },
      {
       "output_type": "stream",
       "stream": "stdout",
       "text": [
        "\n",
        "[ 0.01  0.01  0.    0.06  0.    0.85  0.02  0.    0.02  0.01]"
       ]
      },
      {
       "output_type": "stream",
       "stream": "stdout",
       "text": [
        "\n",
        "[ 0.01  0.01  0.    0.    0.    0.01  0.96  0.    0.    0.  ]"
       ]
      },
      {
       "output_type": "stream",
       "stream": "stdout",
       "text": [
        "\n",
        "[ 0.    0.03  0.    0.    0.01  0.    0.    0.92  0.    0.04]"
       ]
      },
      {
       "output_type": "stream",
       "stream": "stdout",
       "text": [
        "\n",
        "[ 0.02  0.05  0.01  0.03  0.    0.03  0.01  0.01  0.81  0.03]"
       ]
      },
      {
       "output_type": "stream",
       "stream": "stdout",
       "text": [
        "\n",
        "[ 0.01  0.01  0.    0.01  0.01  0.    0.    0.04  0.    0.92]"
       ]
      },
      {
       "output_type": "stream",
       "stream": "stdout",
       "text": [
        "\n",
        "Start testing...\n",
        "Finding mean for k=40..."
       ]
      },
      {
       "output_type": "stream",
       "stream": "stdout",
       "text": [
        "\n",
        "[ 0.96  0.01  0.    0.    0.    0.    0.01  0.    0.    0.  ]"
       ]
      },
      {
       "output_type": "stream",
       "stream": "stdout",
       "text": [
        "\n",
        "[ 0.    0.99  0.    0.    0.    0.    0.    0.    0.    0.  ]"
       ]
      },
      {
       "output_type": "stream",
       "stream": "stdout",
       "text": [
        "\n",
        "[ 0.02  0.09  0.81  0.03  0.    0.    0.    0.03  0.02  0.01]"
       ]
      },
      {
       "output_type": "stream",
       "stream": "stdout",
       "text": [
        "\n",
        "[ 0.01  0.01  0.01  0.85  0.    0.05  0.    0.01  0.04  0.02]"
       ]
      },
      {
       "output_type": "stream",
       "stream": "stdout",
       "text": [
        "\n",
        "[ 0.    0.11  0.    0.    0.76  0.    0.    0.02  0.    0.1 ]"
       ]
      },
      {
       "output_type": "stream",
       "stream": "stdout",
       "text": [
        "\n",
        "[ 0.01  0.02  0.    0.08  0.    0.81  0.03  0.    0.03  0.02]"
       ]
      },
      {
       "output_type": "stream",
       "stream": "stdout",
       "text": [
        "\n",
        "[ 0.01  0.02  0.    0.    0.    0.01  0.95  0.    0.    0.  ]"
       ]
      },
      {
       "output_type": "stream",
       "stream": "stdout",
       "text": [
        "\n",
        "[ 0.    0.03  0.    0.    0.01  0.    0.    0.9   0.    0.05]"
       ]
      },
      {
       "output_type": "stream",
       "stream": "stdout",
       "text": [
        "\n",
        "[ 0.02  0.06  0.01  0.04  0.    0.04  0.01  0.01  0.76  0.04]"
       ]
      },
      {
       "output_type": "stream",
       "stream": "stdout",
       "text": [
        "\n",
        "[ 0.01  0.01  0.    0.01  0.02  0.    0.    0.05  0.    0.9 ]"
       ]
      },
      {
       "output_type": "stream",
       "stream": "stdout",
       "text": [
        "\n",
        "Start testing...\n",
        "[array([ 0.05725796,  0.05725796]), array([ 0.05301504,  0.05070072]), array([ 0.0538722 ,  0.05220075]), array([ 0.05554365,  0.049715  ]), array([ 0.05708653,  0.05125788]), array([ 0.05858655,  0.05202931]), array([ 0.06548665,  0.05575794]), array([ 0.07688681,  0.06282947])]"
       ]
      },
      {
       "output_type": "stream",
       "stream": "stdout",
       "text": [
        "\n",
        "== Fold 2 ==\n",
        "Fitting model..."
       ]
      },
      {
       "output_type": "stream",
       "stream": "stdout",
       "text": [
        "\n",
        "Finding mean for k=1..."
       ]
      },
      {
       "output_type": "stream",
       "stream": "stdout",
       "text": [
        "\n",
        "[ 1.  0.  0.  0.  0.  0.  0.  0.  0.  0.]"
       ]
      },
      {
       "output_type": "stream",
       "stream": "stdout",
       "text": [
        "\n",
        "[ 0.  1.  0.  0.  0.  0.  0.  0.  0.  0.]"
       ]
      },
      {
       "output_type": "stream",
       "stream": "stdout",
       "text": [
        "\n",
        "[ 0.  0.  1.  0.  0.  0.  0.  0.  0.  0.]"
       ]
      },
      {
       "output_type": "stream",
       "stream": "stdout",
       "text": [
        "\n",
        "[ 0.  0.  0.  1.  0.  0.  0.  0.  0.  0.]"
       ]
      },
      {
       "output_type": "stream",
       "stream": "stdout",
       "text": [
        "\n",
        "[ 0.  0.  0.  0.  1.  0.  0.  0.  0.  0.]"
       ]
      },
      {
       "output_type": "stream",
       "stream": "stdout",
       "text": [
        "\n",
        "[ 0.  0.  0.  0.  0.  1.  0.  0.  0.  0.]"
       ]
      },
      {
       "output_type": "stream",
       "stream": "stdout",
       "text": [
        "\n",
        "[ 0.  0.  0.  0.  0.  0.  1.  0.  0.  0.]"
       ]
      },
      {
       "output_type": "stream",
       "stream": "stdout",
       "text": [
        "\n",
        "[ 0.  0.  0.  0.  0.  0.  0.  1.  0.  0.]"
       ]
      },
      {
       "output_type": "stream",
       "stream": "stdout",
       "text": [
        "\n",
        "[ 0.  0.  0.  0.  0.  0.  0.  0.  1.  0.]"
       ]
      },
      {
       "output_type": "stream",
       "stream": "stdout",
       "text": [
        "\n",
        "[ 0.  0.  0.  0.  0.  0.  0.  0.  0.  1.]"
       ]
      },
      {
       "output_type": "stream",
       "stream": "stdout",
       "text": [
        "\n",
        "Start testing...\n",
        "Finding mean for k=3..."
       ]
      },
      {
       "output_type": "stream",
       "stream": "stdout",
       "text": [
        "\n",
        "[ 0.99  0.    0.    0.    0.    0.    0.    0.    0.    0.  ]"
       ]
      },
      {
       "output_type": "stream",
       "stream": "stdout",
       "text": [
        "\n",
        "[ 0.  1.  0.  0.  0.  0.  0.  0.  0.  0.]"
       ]
      },
      {
       "output_type": "stream",
       "stream": "stdout",
       "text": [
        "\n",
        "[ 0.01  0.02  0.95  0.01  0.    0.    0.    0.01  0.01  0.  ]"
       ]
      },
      {
       "output_type": "stream",
       "stream": "stdout",
       "text": [
        "\n",
        "[ 0.    0.    0.    0.95  0.    0.02  0.    0.01  0.01  0.01]"
       ]
      },
      {
       "output_type": "stream",
       "stream": "stdout",
       "text": [
        "\n",
        "[ 0.    0.03  0.    0.    0.92  0.    0.    0.01  0.    0.04]"
       ]
      },
      {
       "output_type": "stream",
       "stream": "stdout",
       "text": [
        "\n",
        "[ 0.    0.    0.    0.02  0.    0.94  0.01  0.    0.01  0.01]"
       ]
      },
      {
       "output_type": "stream",
       "stream": "stdout",
       "text": [
        "\n",
        "[ 0.01  0.    0.    0.    0.    0.    0.98  0.    0.    0.  ]"
       ]
      },
      {
       "output_type": "stream",
       "stream": "stdout",
       "text": [
        "\n",
        "[ 0.    0.01  0.    0.    0.    0.    0.    0.96  0.    0.02]"
       ]
      },
      {
       "output_type": "stream",
       "stream": "stdout",
       "text": [
        "\n",
        "[ 0.01  0.02  0.    0.01  0.    0.01  0.    0.    0.92  0.02]"
       ]
      },
      {
       "output_type": "stream",
       "stream": "stdout",
       "text": [
        "\n",
        "[ 0.    0.    0.    0.    0.01  0.    0.    0.02  0.    0.96]"
       ]
      },
      {
       "output_type": "stream",
       "stream": "stdout",
       "text": [
        "\n",
        "Start testing...\n",
        "Finding mean for k=5..."
       ]
      },
      {
       "output_type": "stream",
       "stream": "stdout",
       "text": [
        "\n",
        "[ 0.99  0.    0.    0.    0.    0.    0.    0.    0.    0.  ]"
       ]
      },
      {
       "output_type": "stream",
       "stream": "stdout",
       "text": [
        "\n",
        "[ 0.    0.99  0.    0.    0.    0.    0.    0.    0.    0.  ]"
       ]
      },
      {
       "output_type": "stream",
       "stream": "stdout",
       "text": [
        "\n",
        "[ 0.01  0.03  0.92  0.01  0.    0.    0.    0.02  0.01  0.  ]"
       ]
      },
      {
       "output_type": "stream",
       "stream": "stdout",
       "text": [
        "\n",
        "[ 0.    0.01  0.01  0.93  0.    0.02  0.    0.01  0.02  0.01]"
       ]
      },
      {
       "output_type": "stream",
       "stream": "stdout",
       "text": [
        "\n",
        "[ 0.    0.04  0.    0.    0.89  0.    0.    0.01  0.    0.05]"
       ]
      },
      {
       "output_type": "stream",
       "stream": "stdout",
       "text": [
        "\n",
        "[ 0.    0.01  0.    0.03  0.    0.92  0.01  0.    0.01  0.01]"
       ]
      },
      {
       "output_type": "stream",
       "stream": "stdout",
       "text": [
        "\n",
        "[ 0.01  0.01  0.    0.    0.    0.    0.98  0.    0.    0.  ]"
       ]
      },
      {
       "output_type": "stream",
       "stream": "stdout",
       "text": [
        "\n",
        "[ 0.    0.02  0.    0.    0.    0.    0.    0.95  0.    0.03]"
       ]
      },
      {
       "output_type": "stream",
       "stream": "stdout",
       "text": [
        "\n",
        "[ 0.01  0.03  0.    0.02  0.    0.02  0.01  0.    0.89  0.02]"
       ]
      },
      {
       "output_type": "stream",
       "stream": "stdout",
       "text": [
        "\n",
        "[ 0.    0.    0.    0.    0.01  0.    0.    0.02  0.    0.95]"
       ]
      },
      {
       "output_type": "stream",
       "stream": "stdout",
       "text": [
        "\n",
        "Start testing...\n",
        "Finding mean for k=7..."
       ]
      },
      {
       "output_type": "stream",
       "stream": "stdout",
       "text": [
        "\n",
        "[ 0.99  0.    0.    0.    0.    0.    0.    0.    0.    0.  ]"
       ]
      },
      {
       "output_type": "stream",
       "stream": "stdout",
       "text": [
        "\n",
        "[ 0.    0.99  0.    0.    0.    0.    0.    0.    0.    0.  ]"
       ]
      },
      {
       "output_type": "stream",
       "stream": "stdout",
       "text": [
        "\n",
        "[ 0.01  0.03  0.9   0.02  0.    0.    0.    0.02  0.01  0.  ]"
       ]
      },
      {
       "output_type": "stream",
       "stream": "stdout",
       "text": [
        "\n",
        "[ 0.    0.01  0.01  0.91  0.    0.03  0.    0.01  0.02  0.01]"
       ]
      },
      {
       "output_type": "stream",
       "stream": "stdout",
       "text": [
        "\n",
        "[ 0.    0.05  0.    0.    0.88  0.    0.    0.01  0.    0.06]"
       ]
      },
      {
       "output_type": "stream",
       "stream": "stdout",
       "text": [
        "\n",
        "[ 0.01  0.01  0.    0.04  0.    0.9   0.02  0.    0.01  0.01]"
       ]
      },
      {
       "output_type": "stream",
       "stream": "stdout",
       "text": [
        "\n",
        "[ 0.01  0.01  0.    0.    0.    0.01  0.98  0.    0.    0.  ]"
       ]
      },
      {
       "output_type": "stream",
       "stream": "stdout",
       "text": [
        "\n",
        "[ 0.    0.02  0.    0.    0.    0.    0.    0.94  0.    0.03]"
       ]
      },
      {
       "output_type": "stream",
       "stream": "stdout",
       "text": [
        "\n",
        "[ 0.01  0.03  0.01  0.02  0.    0.02  0.01  0.01  0.87  0.02]"
       ]
      },
      {
       "output_type": "stream",
       "stream": "stdout",
       "text": [
        "\n",
        "[ 0.    0.01  0.    0.01  0.01  0.    0.    0.03  0.    0.94]"
       ]
      },
      {
       "output_type": "stream",
       "stream": "stdout",
       "text": [
        "\n",
        "Start testing...\n",
        "Finding mean for k=9..."
       ]
      },
      {
       "output_type": "stream",
       "stream": "stdout",
       "text": [
        "\n",
        "[ 0.98  0.    0.    0.    0.    0.    0.    0.    0.    0.  ]"
       ]
      },
      {
       "output_type": "stream",
       "stream": "stdout",
       "text": [
        "\n",
        "[ 0.    0.99  0.    0.    0.    0.    0.    0.    0.    0.  ]"
       ]
      },
      {
       "output_type": "stream",
       "stream": "stdout",
       "text": [
        "\n",
        "[ 0.01  0.04  0.89  0.02  0.    0.    0.    0.02  0.01  0.01]"
       ]
      },
      {
       "output_type": "stream",
       "stream": "stdout",
       "text": [
        "\n",
        "[ 0.    0.01  0.01  0.91  0.    0.03  0.    0.01  0.02  0.01]"
       ]
      },
      {
       "output_type": "stream",
       "stream": "stdout",
       "text": [
        "\n",
        "[ 0.    0.06  0.    0.    0.86  0.    0.    0.01  0.    0.07]"
       ]
      },
      {
       "output_type": "stream",
       "stream": "stdout",
       "text": [
        "\n",
        "[ 0.01  0.01  0.    0.04  0.    0.89  0.02  0.    0.02  0.01]"
       ]
      },
      {
       "output_type": "stream",
       "stream": "stdout",
       "text": [
        "\n",
        "[ 0.01  0.01  0.    0.    0.    0.01  0.97  0.    0.    0.  ]"
       ]
      },
      {
       "output_type": "stream",
       "stream": "stdout",
       "text": [
        "\n",
        "[ 0.    0.02  0.    0.    0.01  0.    0.    0.93  0.    0.03]"
       ]
      },
      {
       "output_type": "stream",
       "stream": "stdout",
       "text": [
        "\n",
        "[ 0.01  0.04  0.01  0.02  0.    0.02  0.01  0.01  0.85  0.03]"
       ]
      },
      {
       "output_type": "stream",
       "stream": "stdout",
       "text": [
        "\n",
        "[ 0.    0.01  0.    0.01  0.01  0.    0.    0.03  0.    0.94]"
       ]
      },
      {
       "output_type": "stream",
       "stream": "stdout",
       "text": [
        "\n",
        "Start testing...\n",
        "Finding mean for k=11..."
       ]
      },
      {
       "output_type": "stream",
       "stream": "stdout",
       "text": [
        "\n",
        "[ 0.98  0.01  0.    0.    0.    0.    0.    0.    0.    0.  ]"
       ]
      },
      {
       "output_type": "stream",
       "stream": "stdout",
       "text": [
        "\n",
        "[ 0.    0.99  0.    0.    0.    0.    0.    0.    0.    0.  ]"
       ]
      },
      {
       "output_type": "stream",
       "stream": "stdout",
       "text": [
        "\n",
        "[ 0.01  0.04  0.88  0.02  0.    0.    0.    0.02  0.01  0.01]"
       ]
      },
      {
       "output_type": "stream",
       "stream": "stdout",
       "text": [
        "\n",
        "[ 0.    0.01  0.01  0.9   0.    0.03  0.    0.01  0.03  0.01]"
       ]
      },
      {
       "output_type": "stream",
       "stream": "stdout",
       "text": [
        "\n",
        "[ 0.    0.06  0.    0.    0.85  0.    0.    0.01  0.    0.07]"
       ]
      },
      {
       "output_type": "stream",
       "stream": "stdout",
       "text": [
        "\n",
        "[ 0.01  0.01  0.    0.05  0.    0.88  0.02  0.    0.02  0.01]"
       ]
      },
      {
       "output_type": "stream",
       "stream": "stdout",
       "text": [
        "\n",
        "[ 0.01  0.01  0.    0.    0.    0.01  0.97  0.    0.    0.  ]"
       ]
      },
      {
       "output_type": "stream",
       "stream": "stdout",
       "text": [
        "\n",
        "[ 0.    0.02  0.    0.    0.01  0.    0.    0.93  0.    0.04]"
       ]
      },
      {
       "output_type": "stream",
       "stream": "stdout",
       "text": [
        "\n",
        "[ 0.01  0.04  0.01  0.03  0.    0.03  0.01  0.01  0.84  0.03]"
       ]
      },
      {
       "output_type": "stream",
       "stream": "stdout",
       "text": [
        "\n",
        "[ 0.    0.01  0.    0.01  0.01  0.    0.    0.03  0.    0.93]"
       ]
      },
      {
       "output_type": "stream",
       "stream": "stdout",
       "text": [
        "\n",
        "Start testing...\n",
        "Finding mean for k=20..."
       ]
      },
      {
       "output_type": "stream",
       "stream": "stdout",
       "text": [
        "\n",
        "[ 0.98  0.01  0.    0.    0.    0.    0.01  0.    0.    0.  ]"
       ]
      },
      {
       "output_type": "stream",
       "stream": "stdout",
       "text": [
        "\n",
        "[ 0.    0.99  0.    0.    0.    0.    0.    0.    0.    0.  ]"
       ]
      },
      {
       "output_type": "stream",
       "stream": "stdout",
       "text": [
        "\n",
        "[ 0.02  0.06  0.84  0.02  0.    0.    0.    0.03  0.01  0.01]"
       ]
      },
      {
       "output_type": "stream",
       "stream": "stdout",
       "text": [
        "\n",
        "[ 0.01  0.01  0.01  0.88  0.    0.04  0.    0.01  0.03  0.01]"
       ]
      },
      {
       "output_type": "stream",
       "stream": "stdout",
       "text": [
        "\n",
        "[ 0.    0.08  0.    0.    0.81  0.    0.    0.01  0.    0.09]"
       ]
      },
      {
       "output_type": "stream",
       "stream": "stdout",
       "text": [
        "\n",
        "[ 0.01  0.01  0.    0.06  0.    0.86  0.02  0.    0.02  0.01]"
       ]
      },
      {
       "output_type": "stream",
       "stream": "stdout",
       "text": [
        "\n",
        "[ 0.01  0.01  0.    0.    0.    0.01  0.96  0.    0.    0.  ]"
       ]
      },
      {
       "output_type": "stream",
       "stream": "stdout",
       "text": [
        "\n",
        "[ 0.    0.03  0.    0.    0.01  0.    0.    0.91  0.    0.04]"
       ]
      },
      {
       "output_type": "stream",
       "stream": "stdout",
       "text": [
        "\n",
        "[ 0.02  0.05  0.01  0.03  0.    0.03  0.01  0.01  0.81  0.03]"
       ]
      },
      {
       "output_type": "stream",
       "stream": "stdout",
       "text": [
        "\n",
        "[ 0.01  0.01  0.    0.01  0.01  0.    0.    0.04  0.    0.92]"
       ]
      },
      {
       "output_type": "stream",
       "stream": "stdout",
       "text": [
        "\n",
        "Start testing...\n",
        "Finding mean for k=40..."
       ]
      },
      {
       "output_type": "stream",
       "stream": "stdout",
       "text": [
        "\n",
        "[ 0.97  0.01  0.    0.    0.    0.    0.01  0.    0.    0.  ]"
       ]
      },
      {
       "output_type": "stream",
       "stream": "stdout",
       "text": [
        "\n",
        "[ 0.    0.99  0.    0.    0.    0.    0.    0.    0.    0.  ]"
       ]
      },
      {
       "output_type": "stream",
       "stream": "stdout",
       "text": [
        "\n",
        "[ 0.02  0.09  0.8   0.03  0.    0.    0.    0.03  0.02  0.01]"
       ]
      },
      {
       "output_type": "stream",
       "stream": "stdout",
       "text": [
        "\n",
        "[ 0.01  0.01  0.01  0.85  0.    0.05  0.    0.02  0.04  0.02]"
       ]
      },
      {
       "output_type": "stream",
       "stream": "stdout",
       "text": [
        "\n",
        "[ 0.    0.1   0.    0.    0.76  0.    0.    0.02  0.    0.11]"
       ]
      },
      {
       "output_type": "stream",
       "stream": "stdout",
       "text": [
        "\n",
        "[ 0.01  0.02  0.    0.07  0.    0.82  0.03  0.    0.03  0.02]"
       ]
      },
      {
       "output_type": "stream",
       "stream": "stdout",
       "text": [
        "\n",
        "[ 0.01  0.02  0.    0.    0.    0.01  0.95  0.    0.    0.  ]"
       ]
      },
      {
       "output_type": "stream",
       "stream": "stdout",
       "text": [
        "\n",
        "[ 0.    0.04  0.    0.    0.01  0.    0.    0.9   0.    0.05]"
       ]
      },
      {
       "output_type": "stream",
       "stream": "stdout",
       "text": [
        "\n",
        "[ 0.02  0.07  0.01  0.04  0.    0.04  0.01  0.01  0.76  0.04]"
       ]
      },
      {
       "output_type": "stream",
       "stream": "stdout",
       "text": [
        "\n",
        "[ 0.01  0.01  0.    0.01  0.02  0.    0.    0.05  0.    0.9 ]"
       ]
      },
      {
       "output_type": "stream",
       "stream": "stdout",
       "text": [
        "\n",
        "Start testing...\n",
        "[array([ 0.05588651,  0.05588651]), array([ 0.05147216,  0.04958642]), array([ 0.05138645,  0.04881498]), array([ 0.05241503,  0.04675781]), array([ 0.05352934,  0.04735782]), array([ 0.05575794,  0.04877213]), array([ 0.0630009 ,  0.05254361]), array([ 0.07358677,  0.05961514])]"
       ]
      },
      {
       "output_type": "stream",
       "stream": "stdout",
       "text": [
        "\n"
       ]
      },
      {
       "metadata": {},
       "output_type": "display_data",
       "png": "[encoded data removed]",
       "text": [
        "<matplotlib.figure.Figure at 0x14211438>"
       ]
      }
     ],
     "prompt_number": 13
    },
    {
     "cell_type": "code",
     "collapsed": false,
     "input": [
      "(ts_m,ts_sd,x) = run_experiment_fixed_P(3, transformed_data, mnist.target, alpha=1, bias=1e-2, metric='euclidean')\n",
      "plot_results(ts_m,ts_sd,x)"
     ],
     "language": "python",
     "metadata": {},
     "outputs": [
      {
       "output_type": "stream",
       "stream": "stdout",
       "text": [
        "== Fold 0 ==\n",
        "Fitting model..."
       ]
      },
      {
       "output_type": "stream",
       "stream": "stdout",
       "text": [
        "\n",
        "Finding mean for k=1..."
       ]
      },
      {
       "output_type": "stream",
       "stream": "stdout",
       "text": [
        "\n",
        "[ 1.  0.  0.  0.  0.  0.  0.  0.  0.  0.]"
       ]
      },
      {
       "output_type": "stream",
       "stream": "stdout",
       "text": [
        "\n",
        "[ 0.  1.  0.  0.  0.  0.  0.  0.  0.  0.]"
       ]
      },
      {
       "output_type": "stream",
       "stream": "stdout",
       "text": [
        "\n",
        "[ 0.  0.  1.  0.  0.  0.  0.  0.  0.  0.]"
       ]
      },
      {
       "output_type": "stream",
       "stream": "stdout",
       "text": [
        "\n",
        "[ 0.  0.  0.  1.  0.  0.  0.  0.  0.  0.]"
       ]
      },
      {
       "output_type": "stream",
       "stream": "stdout",
       "text": [
        "\n",
        "[ 0.  0.  0.  0.  1.  0.  0.  0.  0.  0.]"
       ]
      },
      {
       "output_type": "stream",
       "stream": "stdout",
       "text": [
        "\n",
        "[ 0.  0.  0.  0.  0.  1.  0.  0.  0.  0.]"
       ]
      },
      {
       "output_type": "stream",
       "stream": "stdout",
       "text": [
        "\n",
        "[ 0.  0.  0.  0.  0.  0.  1.  0.  0.  0.]"
       ]
      },
      {
       "output_type": "stream",
       "stream": "stdout",
       "text": [
        "\n",
        "[ 0.  0.  0.  0.  0.  0.  0.  1.  0.  0.]"
       ]
      },
      {
       "output_type": "stream",
       "stream": "stdout",
       "text": [
        "\n",
        "[ 0.  0.  0.  0.  0.  0.  0.  0.  1.  0.]"
       ]
      },
      {
       "output_type": "stream",
       "stream": "stdout",
       "text": [
        "\n",
        "[ 0.  0.  0.  0.  0.  0.  0.  0.  0.  1.]"
       ]
      },
      {
       "output_type": "stream",
       "stream": "stdout",
       "text": [
        "\n",
        "Start testing...\n",
        "Finding mean for k=3..."
       ]
      },
      {
       "output_type": "stream",
       "stream": "stdout",
       "text": [
        "\n",
        "[ 0.98  0.    0.    0.    0.    0.    0.01  0.    0.    0.  ]"
       ]
      },
      {
       "output_type": "stream",
       "stream": "stdout",
       "text": [
        "\n",
        "[ 0.    0.99  0.    0.    0.    0.    0.    0.    0.    0.  ]"
       ]
      },
      {
       "output_type": "stream",
       "stream": "stdout",
       "text": [
        "\n",
        "[ 0.    0.01  0.94  0.01  0.    0.    0.    0.01  0.02  0.  ]"
       ]
      },
      {
       "output_type": "stream",
       "stream": "stdout",
       "text": [
        "\n",
        "[ 0.    0.    0.01  0.93  0.    0.02  0.    0.01  0.03  0.01]"
       ]
      },
      {
       "output_type": "stream",
       "stream": "stdout",
       "text": [
        "\n",
        "[ 0.    0.01  0.    0.    0.91  0.    0.    0.01  0.    0.06]"
       ]
      },
      {
       "output_type": "stream",
       "stream": "stdout",
       "text": [
        "\n",
        "[ 0.    0.    0.    0.04  0.    0.91  0.01  0.    0.03  0.01]"
       ]
      },
      {
       "output_type": "stream",
       "stream": "stdout",
       "text": [
        "\n",
        "[ 0.01  0.    0.    0.    0.    0.01  0.98  0.    0.    0.  ]"
       ]
      },
      {
       "output_type": "stream",
       "stream": "stdout",
       "text": [
        "\n",
        "[ 0.    0.01  0.    0.    0.01  0.    0.    0.94  0.    0.04]"
       ]
      },
      {
       "output_type": "stream",
       "stream": "stdout",
       "text": [
        "\n",
        "[ 0.01  0.01  0.    0.02  0.    0.01  0.01  0.    0.93  0.01]"
       ]
      },
      {
       "output_type": "stream",
       "stream": "stdout",
       "text": [
        "\n",
        "[ 0.    0.    0.    0.01  0.01  0.    0.    0.02  0.01  0.95]"
       ]
      },
      {
       "output_type": "stream",
       "stream": "stdout",
       "text": [
        "\n",
        "Start testing...\n",
        "Finding mean for k=5..."
       ]
      },
      {
       "output_type": "stream",
       "stream": "stdout",
       "text": [
        "\n",
        "[ 0.97  0.    0.    0.    0.    0.    0.01  0.    0.01  0.  ]"
       ]
      },
      {
       "output_type": "stream",
       "stream": "stdout",
       "text": [
        "\n",
        "[ 0.    0.98  0.    0.    0.    0.    0.    0.    0.    0.  ]"
       ]
      },
      {
       "output_type": "stream",
       "stream": "stdout",
       "text": [
        "\n",
        "[ 0.01  0.01  0.91  0.02  0.    0.    0.    0.01  0.02  0.  ]"
       ]
      },
      {
       "output_type": "stream",
       "stream": "stdout",
       "text": [
        "\n",
        "[ 0.    0.    0.01  0.9   0.    0.03  0.    0.01  0.04  0.01]"
       ]
      },
      {
       "output_type": "stream",
       "stream": "stdout",
       "text": [
        "\n",
        "[ 0.    0.02  0.    0.    0.88  0.    0.    0.01  0.    0.08]"
       ]
      },
      {
       "output_type": "stream",
       "stream": "stdout",
       "text": [
        "\n",
        "[ 0.01  0.    0.    0.05  0.    0.87  0.01  0.    0.04  0.01]"
       ]
      },
      {
       "output_type": "stream",
       "stream": "stdout",
       "text": [
        "\n",
        "[ 0.01  0.    0.    0.    0.    0.01  0.97  0.    0.01  0.  ]"
       ]
      },
      {
       "output_type": "stream",
       "stream": "stdout",
       "text": [
        "\n",
        "[ 0.    0.01  0.    0.    0.01  0.    0.    0.92  0.    0.05]"
       ]
      },
      {
       "output_type": "stream",
       "stream": "stdout",
       "text": [
        "\n",
        "[ 0.01  0.01  0.    0.02  0.    0.02  0.01  0.    0.9   0.02]"
       ]
      },
      {
       "output_type": "stream",
       "stream": "stdout",
       "text": [
        "\n",
        "[ 0.01  0.    0.    0.01  0.01  0.    0.    0.03  0.01  0.94]"
       ]
      },
      {
       "output_type": "stream",
       "stream": "stdout",
       "text": [
        "\n",
        "Start testing...\n",
        "Finding mean for k=7..."
       ]
      },
      {
       "output_type": "stream",
       "stream": "stdout",
       "text": [
        "\n",
        "[ 0.97  0.    0.    0.    0.    0.    0.01  0.    0.01  0.  ]"
       ]
      },
      {
       "output_type": "stream",
       "stream": "stdout",
       "text": [
        "\n",
        "[ 0.    0.98  0.    0.    0.    0.    0.    0.    0.    0.  ]"
       ]
      },
      {
       "output_type": "stream",
       "stream": "stdout",
       "text": [
        "\n",
        "[ 0.01  0.01  0.9   0.02  0.    0.    0.    0.02  0.03  0.01]"
       ]
      },
      {
       "output_type": "stream",
       "stream": "stdout",
       "text": [
        "\n",
        "[ 0.    0.    0.01  0.89  0.    0.04  0.    0.01  0.04  0.01]"
       ]
      },
      {
       "output_type": "stream",
       "stream": "stdout",
       "text": [
        "\n",
        "[ 0.    0.02  0.    0.    0.86  0.    0.    0.01  0.01  0.09]"
       ]
      },
      {
       "output_type": "stream",
       "stream": "stdout",
       "text": [
        "\n",
        "[ 0.01  0.    0.    0.06  0.    0.85  0.02  0.    0.04  0.01]"
       ]
      },
      {
       "output_type": "stream",
       "stream": "stdout",
       "text": [
        "\n",
        "[ 0.01  0.    0.    0.    0.    0.01  0.97  0.    0.01  0.  ]"
       ]
      },
      {
       "output_type": "stream",
       "stream": "stdout",
       "text": [
        "\n",
        "[ 0.    0.01  0.    0.    0.01  0.    0.    0.91  0.    0.06]"
       ]
      },
      {
       "output_type": "stream",
       "stream": "stdout",
       "text": [
        "\n",
        "[ 0.01  0.01  0.01  0.03  0.    0.02  0.01  0.01  0.88  0.02]"
       ]
      },
      {
       "output_type": "stream",
       "stream": "stdout",
       "text": [
        "\n",
        "[ 0.01  0.    0.    0.01  0.01  0.    0.    0.03  0.01  0.93]"
       ]
      },
      {
       "output_type": "stream",
       "stream": "stdout",
       "text": [
        "\n",
        "Start testing...\n",
        "Finding mean for k=9..."
       ]
      },
      {
       "output_type": "stream",
       "stream": "stdout",
       "text": [
        "\n",
        "[ 0.97  0.    0.    0.    0.    0.    0.01  0.    0.01  0.  ]"
       ]
      },
      {
       "output_type": "stream",
       "stream": "stdout",
       "text": [
        "\n",
        "[ 0.    0.98  0.    0.    0.    0.    0.    0.    0.    0.  ]"
       ]
      },
      {
       "output_type": "stream",
       "stream": "stdout",
       "text": [
        "\n",
        "[ 0.01  0.02  0.89  0.03  0.    0.    0.    0.02  0.03  0.01]"
       ]
      },
      {
       "output_type": "stream",
       "stream": "stdout",
       "text": [
        "\n",
        "[ 0.    0.    0.01  0.88  0.    0.04  0.    0.01  0.05  0.01]"
       ]
      },
      {
       "output_type": "stream",
       "stream": "stdout",
       "text": [
        "\n",
        "[ 0.    0.03  0.    0.    0.84  0.    0.    0.01  0.01  0.1 ]"
       ]
      },
      {
       "output_type": "stream",
       "stream": "stdout",
       "text": [
        "\n",
        "[ 0.01  0.    0.    0.07  0.    0.84  0.02  0.    0.05  0.01]"
       ]
      },
      {
       "output_type": "stream",
       "stream": "stdout",
       "text": [
        "\n",
        "[ 0.01  0.    0.    0.    0.    0.01  0.96  0.    0.01  0.  ]"
       ]
      },
      {
       "output_type": "stream",
       "stream": "stdout",
       "text": [
        "\n",
        "[ 0.    0.01  0.    0.    0.01  0.    0.    0.91  0.    0.06]"
       ]
      },
      {
       "output_type": "stream",
       "stream": "stdout",
       "text": [
        "\n",
        "[ 0.01  0.02  0.01  0.03  0.    0.03  0.01  0.01  0.87  0.02]"
       ]
      },
      {
       "output_type": "stream",
       "stream": "stdout",
       "text": [
        "\n",
        "[ 0.01  0.    0.    0.01  0.02  0.    0.    0.04  0.01  0.92]"
       ]
      },
      {
       "output_type": "stream",
       "stream": "stdout",
       "text": [
        "\n",
        "Start testing...\n",
        "Finding mean for k=11..."
       ]
      },
      {
       "output_type": "stream",
       "stream": "stdout",
       "text": [
        "\n",
        "[ 0.97  0.    0.    0.    0.    0.    0.01  0.    0.01  0.  ]"
       ]
      },
      {
       "output_type": "stream",
       "stream": "stdout",
       "text": [
        "\n",
        "[ 0.    0.98  0.    0.    0.    0.    0.    0.    0.    0.  ]"
       ]
      },
      {
       "output_type": "stream",
       "stream": "stdout",
       "text": [
        "\n",
        "[ 0.01  0.02  0.88  0.03  0.    0.    0.    0.02  0.03  0.01]"
       ]
      },
      {
       "output_type": "stream",
       "stream": "stdout",
       "text": [
        "\n",
        "[ 0.    0.    0.01  0.87  0.    0.04  0.    0.01  0.05  0.01]"
       ]
      },
      {
       "output_type": "stream",
       "stream": "stdout",
       "text": [
        "\n",
        "[ 0.    0.03  0.    0.    0.83  0.    0.    0.02  0.01  0.1 ]"
       ]
      },
      {
       "output_type": "stream",
       "stream": "stdout",
       "text": [
        "\n",
        "[ 0.01  0.    0.    0.07  0.    0.83  0.02  0.    0.05  0.01]"
       ]
      },
      {
       "output_type": "stream",
       "stream": "stdout",
       "text": [
        "\n",
        "[ 0.01  0.    0.    0.    0.    0.01  0.96  0.    0.01  0.  ]"
       ]
      },
      {
       "output_type": "stream",
       "stream": "stdout",
       "text": [
        "\n",
        "[ 0.    0.01  0.    0.    0.01  0.    0.    0.9   0.    0.07]"
       ]
      },
      {
       "output_type": "stream",
       "stream": "stdout",
       "text": [
        "\n",
        "[ 0.01  0.02  0.01  0.03  0.    0.03  0.01  0.01  0.86  0.02]"
       ]
      },
      {
       "output_type": "stream",
       "stream": "stdout",
       "text": [
        "\n",
        "[ 0.01  0.    0.    0.01  0.02  0.    0.    0.04  0.01  0.91]"
       ]
      },
      {
       "output_type": "stream",
       "stream": "stdout",
       "text": [
        "\n",
        "Start testing...\n",
        "Finding mean for k=20..."
       ]
      },
      {
       "output_type": "stream",
       "stream": "stdout",
       "text": [
        "\n",
        "[ 0.96  0.01  0.    0.    0.    0.    0.01  0.    0.01  0.  ]"
       ]
      },
      {
       "output_type": "stream",
       "stream": "stdout",
       "text": [
        "\n",
        "[ 0.    0.98  0.    0.    0.    0.    0.    0.    0.01  0.  ]"
       ]
      },
      {
       "output_type": "stream",
       "stream": "stdout",
       "text": [
        "\n",
        "[ 0.01  0.02  0.85  0.03  0.    0.    0.    0.02  0.04  0.01]"
       ]
      },
      {
       "output_type": "stream",
       "stream": "stdout",
       "text": [
        "\n",
        "[ 0.01  0.    0.01  0.84  0.    0.05  0.    0.01  0.06  0.01]"
       ]
      },
      {
       "output_type": "stream",
       "stream": "stdout",
       "text": [
        "\n",
        "[ 0.    0.04  0.    0.    0.8   0.    0.01  0.02  0.01  0.12]"
       ]
      },
      {
       "output_type": "stream",
       "stream": "stdout",
       "text": [
        "\n",
        "[ 0.01  0.    0.    0.09  0.    0.79  0.02  0.    0.06  0.02]"
       ]
      },
      {
       "output_type": "stream",
       "stream": "stdout",
       "text": [
        "\n",
        "[ 0.02  0.01  0.    0.    0.    0.01  0.96  0.    0.01  0.  ]"
       ]
      },
      {
       "output_type": "stream",
       "stream": "stdout",
       "text": [
        "\n",
        "[ 0.    0.01  0.    0.    0.01  0.    0.    0.88  0.    0.08]"
       ]
      },
      {
       "output_type": "stream",
       "stream": "stdout",
       "text": [
        "\n",
        "[ 0.02  0.02  0.01  0.04  0.01  0.03  0.01  0.01  0.83  0.03]"
       ]
      },
      {
       "output_type": "stream",
       "stream": "stdout",
       "text": [
        "\n",
        "[ 0.01  0.    0.    0.01  0.02  0.    0.    0.05  0.01  0.9 ]"
       ]
      },
      {
       "output_type": "stream",
       "stream": "stdout",
       "text": [
        "\n",
        "Start testing...\n",
        "Finding mean for k=40..."
       ]
      },
      {
       "output_type": "stream",
       "stream": "stdout",
       "text": [
        "\n",
        "[ 0.94  0.01  0.    0.    0.    0.01  0.01  0.    0.01  0.01]"
       ]
      },
      {
       "output_type": "stream",
       "stream": "stdout",
       "text": [
        "\n",
        "[ 0.    0.97  0.    0.    0.    0.    0.    0.    0.01  0.  ]"
       ]
      },
      {
       "output_type": "stream",
       "stream": "stdout",
       "text": [
        "\n",
        "[ 0.02  0.03  0.82  0.04  0.01  0.01  0.    0.02  0.04  0.01]"
       ]
      },
      {
       "output_type": "stream",
       "stream": "stdout",
       "text": [
        "\n",
        "[ 0.01  0.01  0.01  0.81  0.    0.06  0.    0.01  0.07  0.02]"
       ]
      },
      {
       "output_type": "stream",
       "stream": "stdout",
       "text": [
        "\n",
        "[ 0.01  0.05  0.01  0.    0.75  0.    0.01  0.02  0.01  0.15]"
       ]
      },
      {
       "output_type": "stream",
       "stream": "stdout",
       "text": [
        "\n",
        "[ 0.01  0.01  0.    0.1   0.    0.75  0.03  0.    0.07  0.02]"
       ]
      },
      {
       "output_type": "stream",
       "stream": "stdout",
       "text": [
        "\n",
        "[ 0.02  0.01  0.    0.    0.    0.01  0.95  0.    0.01  0.  ]"
       ]
      },
      {
       "output_type": "stream",
       "stream": "stdout",
       "text": [
        "\n",
        "[ 0.    0.02  0.    0.    0.01  0.    0.    0.85  0.01  0.1 ]"
       ]
      },
      {
       "output_type": "stream",
       "stream": "stdout",
       "text": [
        "\n",
        "[ 0.02  0.03  0.01  0.05  0.01  0.04  0.01  0.01  0.79  0.03]"
       ]
      },
      {
       "output_type": "stream",
       "stream": "stdout",
       "text": [
        "\n",
        "[ 0.01  0.01  0.    0.01  0.02  0.    0.    0.06  0.01  0.88]"
       ]
      },
      {
       "output_type": "stream",
       "stream": "stdout",
       "text": [
        "\n",
        "Start testing...\n",
        "[array([ 0.07105511,  0.07105511]), array([ 0.06179823,  0.06029828]), array([ 0.05858404,  0.0554127 ]), array([ 0.0579412 ,  0.05511271]), array([ 0.05815548,  0.05494129]), array([ 0.05965544,  0.0554127 ]), array([ 0.06372675,  0.05776978]), array([ 0.07272649,  0.06312677])]"
       ]
      },
      {
       "output_type": "stream",
       "stream": "stdout",
       "text": [
        "\n",
        "== Fold 1 ==\n",
        "Fitting model..."
       ]
      },
      {
       "output_type": "stream",
       "stream": "stdout",
       "text": [
        "\n",
        "Finding mean for k=1..."
       ]
      },
      {
       "output_type": "stream",
       "stream": "stdout",
       "text": [
        "\n",
        "[ 1.  0.  0.  0.  0.  0.  0.  0.  0.  0.]"
       ]
      },
      {
       "output_type": "stream",
       "stream": "stdout",
       "text": [
        "\n",
        "[ 0.  1.  0.  0.  0.  0.  0.  0.  0.  0.]"
       ]
      },
      {
       "output_type": "stream",
       "stream": "stdout",
       "text": [
        "\n",
        "[ 0.  0.  1.  0.  0.  0.  0.  0.  0.  0.]"
       ]
      },
      {
       "output_type": "stream",
       "stream": "stdout",
       "text": [
        "\n",
        "[ 0.  0.  0.  1.  0.  0.  0.  0.  0.  0.]"
       ]
      },
      {
       "output_type": "stream",
       "stream": "stdout",
       "text": [
        "\n",
        "[ 0.  0.  0.  0.  1.  0.  0.  0.  0.  0.]"
       ]
      },
      {
       "output_type": "stream",
       "stream": "stdout",
       "text": [
        "\n",
        "[ 0.  0.  0.  0.  0.  1.  0.  0.  0.  0.]"
       ]
      },
      {
       "output_type": "stream",
       "stream": "stdout",
       "text": [
        "\n",
        "[ 0.  0.  0.  0.  0.  0.  1.  0.  0.  0.]"
       ]
      },
      {
       "output_type": "stream",
       "stream": "stdout",
       "text": [
        "\n",
        "[ 0.  0.  0.  0.  0.  0.  0.  1.  0.  0.]"
       ]
      },
      {
       "output_type": "stream",
       "stream": "stdout",
       "text": [
        "\n",
        "[ 0.  0.  0.  0.  0.  0.  0.  0.  1.  0.]"
       ]
      },
      {
       "output_type": "stream",
       "stream": "stdout",
       "text": [
        "\n",
        "[ 0.  0.  0.  0.  0.  0.  0.  0.  0.  1.]"
       ]
      },
      {
       "output_type": "stream",
       "stream": "stdout",
       "text": [
        "\n",
        "Start testing...\n",
        "Finding mean for k=3..."
       ]
      },
      {
       "output_type": "stream",
       "stream": "stdout",
       "text": [
        "\n",
        "[ 0.98  0.    0.    0.    0.    0.    0.    0.    0.    0.  ]"
       ]
      },
      {
       "output_type": "stream",
       "stream": "stdout",
       "text": [
        "\n",
        "[ 0.    0.99  0.    0.    0.    0.    0.    0.    0.    0.  ]"
       ]
      },
      {
       "output_type": "stream",
       "stream": "stdout",
       "text": [
        "\n",
        "[ 0.    0.01  0.95  0.01  0.    0.    0.    0.01  0.02  0.  ]"
       ]
      },
      {
       "output_type": "stream",
       "stream": "stdout",
       "text": [
        "\n",
        "[ 0.    0.    0.    0.93  0.    0.02  0.    0.    0.03  0.01]"
       ]
      },
      {
       "output_type": "stream",
       "stream": "stdout",
       "text": [
        "\n",
        "[ 0.    0.01  0.    0.    0.92  0.    0.    0.01  0.    0.06]"
       ]
      },
      {
       "output_type": "stream",
       "stream": "stdout",
       "text": [
        "\n",
        "[ 0.01  0.    0.    0.04  0.    0.9   0.01  0.    0.03  0.01]"
       ]
      },
      {
       "output_type": "stream",
       "stream": "stdout",
       "text": [
        "\n",
        "[ 0.01  0.    0.    0.    0.    0.01  0.98  0.    0.    0.  ]"
       ]
      },
      {
       "output_type": "stream",
       "stream": "stdout",
       "text": [
        "\n",
        "[ 0.    0.01  0.    0.    0.01  0.    0.    0.94  0.    0.04]"
       ]
      },
      {
       "output_type": "stream",
       "stream": "stdout",
       "text": [
        "\n",
        "[ 0.01  0.01  0.    0.01  0.    0.02  0.01  0.    0.93  0.01]"
       ]
      },
      {
       "output_type": "stream",
       "stream": "stdout",
       "text": [
        "\n",
        "[ 0.    0.    0.    0.01  0.01  0.    0.    0.02  0.01  0.95]"
       ]
      },
      {
       "output_type": "stream",
       "stream": "stdout",
       "text": [
        "\n",
        "Start testing...\n",
        "Finding mean for k=5..."
       ]
      },
      {
       "output_type": "stream",
       "stream": "stdout",
       "text": [
        "\n",
        "[ 0.98  0.    0.    0.    0.    0.    0.01  0.    0.01  0.  ]"
       ]
      },
      {
       "output_type": "stream",
       "stream": "stdout",
       "text": [
        "\n",
        "[ 0.    0.98  0.    0.    0.    0.    0.    0.    0.    0.  ]"
       ]
      },
      {
       "output_type": "stream",
       "stream": "stdout",
       "text": [
        "\n",
        "[ 0.01  0.01  0.92  0.02  0.    0.    0.    0.01  0.02  0.  ]"
       ]
      },
      {
       "output_type": "stream",
       "stream": "stdout",
       "text": [
        "\n",
        "[ 0.    0.    0.01  0.9   0.    0.03  0.    0.01  0.04  0.01]"
       ]
      },
      {
       "output_type": "stream",
       "stream": "stdout",
       "text": [
        "\n",
        "[ 0.    0.02  0.    0.    0.88  0.    0.    0.01  0.    0.08]"
       ]
      },
      {
       "output_type": "stream",
       "stream": "stdout",
       "text": [
        "\n",
        "[ 0.01  0.    0.    0.06  0.    0.87  0.02  0.    0.04  0.01]"
       ]
      },
      {
       "output_type": "stream",
       "stream": "stdout",
       "text": [
        "\n",
        "[ 0.01  0.    0.    0.    0.    0.01  0.97  0.    0.01  0.  ]"
       ]
      },
      {
       "output_type": "stream",
       "stream": "stdout",
       "text": [
        "\n",
        "[ 0.    0.01  0.    0.    0.01  0.    0.    0.93  0.    0.05]"
       ]
      },
      {
       "output_type": "stream",
       "stream": "stdout",
       "text": [
        "\n",
        "[ 0.01  0.01  0.    0.02  0.    0.02  0.01  0.    0.9   0.02]"
       ]
      },
      {
       "output_type": "stream",
       "stream": "stdout",
       "text": [
        "\n",
        "[ 0.    0.    0.    0.01  0.01  0.    0.    0.03  0.01  0.94]"
       ]
      },
      {
       "output_type": "stream",
       "stream": "stdout",
       "text": [
        "\n",
        "Start testing...\n",
        "Finding mean for k=7..."
       ]
      },
      {
       "output_type": "stream",
       "stream": "stdout",
       "text": [
        "\n",
        "[ 0.97  0.    0.    0.    0.    0.    0.01  0.    0.01  0.  ]"
       ]
      },
      {
       "output_type": "stream",
       "stream": "stdout",
       "text": [
        "\n",
        "[ 0.    0.98  0.    0.    0.    0.    0.    0.    0.    0.  ]"
       ]
      },
      {
       "output_type": "stream",
       "stream": "stdout",
       "text": [
        "\n",
        "[ 0.01  0.01  0.9   0.02  0.    0.    0.    0.01  0.03  0.  ]"
       ]
      },
      {
       "output_type": "stream",
       "stream": "stdout",
       "text": [
        "\n",
        "[ 0.    0.    0.01  0.89  0.    0.04  0.    0.01  0.04  0.01]"
       ]
      },
      {
       "output_type": "stream",
       "stream": "stdout",
       "text": [
        "\n",
        "[ 0.    0.02  0.    0.    0.86  0.    0.    0.01  0.01  0.09]"
       ]
      },
      {
       "output_type": "stream",
       "stream": "stdout",
       "text": [
        "\n",
        "[ 0.01  0.    0.    0.06  0.    0.85  0.02  0.    0.04  0.01]"
       ]
      },
      {
       "output_type": "stream",
       "stream": "stdout",
       "text": [
        "\n",
        "[ 0.01  0.01  0.    0.    0.    0.01  0.97  0.    0.01  0.  ]"
       ]
      },
      {
       "output_type": "stream",
       "stream": "stdout",
       "text": [
        "\n",
        "[ 0.    0.01  0.    0.    0.01  0.    0.    0.92  0.    0.06]"
       ]
      },
      {
       "output_type": "stream",
       "stream": "stdout",
       "text": [
        "\n",
        "[ 0.01  0.01  0.01  0.02  0.    0.02  0.01  0.01  0.89  0.02]"
       ]
      },
      {
       "output_type": "stream",
       "stream": "stdout",
       "text": [
        "\n",
        "[ 0.    0.    0.    0.01  0.01  0.    0.    0.03  0.01  0.93]"
       ]
      },
      {
       "output_type": "stream",
       "stream": "stdout",
       "text": [
        "\n",
        "Start testing...\n",
        "Finding mean for k=9..."
       ]
      },
      {
       "output_type": "stream",
       "stream": "stdout",
       "text": [
        "\n",
        "[ 0.97  0.    0.    0.    0.    0.    0.01  0.    0.01  0.  ]"
       ]
      },
      {
       "output_type": "stream",
       "stream": "stdout",
       "text": [
        "\n",
        "[ 0.    0.98  0.    0.    0.    0.    0.    0.    0.    0.  ]"
       ]
      },
      {
       "output_type": "stream",
       "stream": "stdout",
       "text": [
        "\n",
        "[ 0.01  0.02  0.89  0.02  0.    0.    0.    0.02  0.03  0.  ]"
       ]
      },
      {
       "output_type": "stream",
       "stream": "stdout",
       "text": [
        "\n",
        "[ 0.    0.    0.01  0.88  0.    0.04  0.    0.01  0.05  0.01]"
       ]
      },
      {
       "output_type": "stream",
       "stream": "stdout",
       "text": [
        "\n",
        "[ 0.    0.03  0.    0.    0.85  0.    0.    0.01  0.01  0.1 ]"
       ]
      },
      {
       "output_type": "stream",
       "stream": "stdout",
       "text": [
        "\n",
        "[ 0.01  0.    0.    0.07  0.    0.83  0.02  0.    0.05  0.01]"
       ]
      },
      {
       "output_type": "stream",
       "stream": "stdout",
       "text": [
        "\n",
        "[ 0.01  0.01  0.    0.    0.    0.01  0.96  0.    0.01  0.  ]"
       ]
      },
      {
       "output_type": "stream",
       "stream": "stdout",
       "text": [
        "\n",
        "[ 0.    0.01  0.    0.    0.01  0.    0.    0.91  0.    0.06]"
       ]
      },
      {
       "output_type": "stream",
       "stream": "stdout",
       "text": [
        "\n",
        "[ 0.01  0.02  0.01  0.03  0.    0.02  0.01  0.01  0.87  0.02]"
       ]
      },
      {
       "output_type": "stream",
       "stream": "stdout",
       "text": [
        "\n",
        "[ 0.    0.    0.    0.01  0.01  0.    0.    0.03  0.01  0.92]"
       ]
      },
      {
       "output_type": "stream",
       "stream": "stdout",
       "text": [
        "\n",
        "Start testing...\n",
        "Finding mean for k=11..."
       ]
      },
      {
       "output_type": "stream",
       "stream": "stdout",
       "text": [
        "\n",
        "[ 0.97  0.    0.    0.    0.    0.    0.01  0.    0.01  0.  ]"
       ]
      },
      {
       "output_type": "stream",
       "stream": "stdout",
       "text": [
        "\n",
        "[ 0.    0.98  0.    0.    0.    0.    0.    0.    0.    0.  ]"
       ]
      },
      {
       "output_type": "stream",
       "stream": "stdout",
       "text": [
        "\n",
        "[ 0.01  0.02  0.88  0.03  0.    0.    0.    0.02  0.03  0.01]"
       ]
      },
      {
       "output_type": "stream",
       "stream": "stdout",
       "text": [
        "\n",
        "[ 0.    0.    0.01  0.87  0.    0.04  0.    0.01  0.05  0.01]"
       ]
      },
      {
       "output_type": "stream",
       "stream": "stdout",
       "text": [
        "\n",
        "[ 0.    0.03  0.    0.    0.84  0.    0.    0.01  0.01  0.1 ]"
       ]
      },
      {
       "output_type": "stream",
       "stream": "stdout",
       "text": [
        "\n",
        "[ 0.01  0.    0.    0.08  0.    0.82  0.02  0.    0.05  0.01]"
       ]
      },
      {
       "output_type": "stream",
       "stream": "stdout",
       "text": [
        "\n",
        "[ 0.01  0.01  0.    0.    0.    0.01  0.96  0.    0.01  0.  ]"
       ]
      },
      {
       "output_type": "stream",
       "stream": "stdout",
       "text": [
        "\n",
        "[ 0.    0.01  0.    0.    0.01  0.    0.    0.9   0.    0.07]"
       ]
      },
      {
       "output_type": "stream",
       "stream": "stdout",
       "text": [
        "\n",
        "[ 0.01  0.02  0.01  0.03  0.    0.03  0.01  0.01  0.86  0.02]"
       ]
      },
      {
       "output_type": "stream",
       "stream": "stdout",
       "text": [
        "\n",
        "[ 0.01  0.    0.    0.01  0.02  0.    0.    0.04  0.01  0.92]"
       ]
      },
      {
       "output_type": "stream",
       "stream": "stdout",
       "text": [
        "\n",
        "Start testing...\n",
        "Finding mean for k=20..."
       ]
      },
      {
       "output_type": "stream",
       "stream": "stdout",
       "text": [
        "\n",
        "[ 0.96  0.    0.    0.    0.    0.    0.01  0.    0.01  0.01]"
       ]
      },
      {
       "output_type": "stream",
       "stream": "stdout",
       "text": [
        "\n",
        "[ 0.    0.98  0.    0.    0.    0.    0.    0.    0.01  0.  ]"
       ]
      },
      {
       "output_type": "stream",
       "stream": "stdout",
       "text": [
        "\n",
        "[ 0.01  0.02  0.85  0.03  0.    0.    0.    0.02  0.04  0.01]"
       ]
      },
      {
       "output_type": "stream",
       "stream": "stdout",
       "text": [
        "\n",
        "[ 0.01  0.    0.01  0.84  0.    0.05  0.    0.01  0.06  0.02]"
       ]
      },
      {
       "output_type": "stream",
       "stream": "stdout",
       "text": [
        "\n",
        "[ 0.    0.04  0.    0.    0.8   0.    0.01  0.02  0.01  0.12]"
       ]
      },
      {
       "output_type": "stream",
       "stream": "stdout",
       "text": [
        "\n",
        "[ 0.01  0.01  0.    0.09  0.    0.79  0.02  0.    0.06  0.02]"
       ]
      },
      {
       "output_type": "stream",
       "stream": "stdout",
       "text": [
        "\n",
        "[ 0.01  0.01  0.    0.    0.    0.01  0.96  0.    0.01  0.  ]"
       ]
      },
      {
       "output_type": "stream",
       "stream": "stdout",
       "text": [
        "\n",
        "[ 0.    0.01  0.    0.    0.01  0.    0.    0.88  0.01  0.08]"
       ]
      },
      {
       "output_type": "stream",
       "stream": "stdout",
       "text": [
        "\n",
        "[ 0.02  0.02  0.01  0.04  0.    0.03  0.01  0.01  0.83  0.03]"
       ]
      },
      {
       "output_type": "stream",
       "stream": "stdout",
       "text": [
        "\n",
        "[ 0.01  0.01  0.    0.01  0.02  0.    0.    0.04  0.01  0.9 ]"
       ]
      },
      {
       "output_type": "stream",
       "stream": "stdout",
       "text": [
        "\n",
        "Start testing...\n",
        "Finding mean for k=40..."
       ]
      },
      {
       "output_type": "stream",
       "stream": "stdout",
       "text": [
        "\n",
        "[ 0.94  0.01  0.    0.    0.    0.01  0.01  0.    0.01  0.01]"
       ]
      },
      {
       "output_type": "stream",
       "stream": "stdout",
       "text": [
        "\n",
        "[ 0.    0.97  0.    0.    0.    0.    0.    0.    0.01  0.  ]"
       ]
      },
      {
       "output_type": "stream",
       "stream": "stdout",
       "text": [
        "\n",
        "[ 0.02  0.03  0.82  0.04  0.01  0.01  0.    0.02  0.05  0.01]"
       ]
      },
      {
       "output_type": "stream",
       "stream": "stdout",
       "text": [
        "\n",
        "[ 0.01  0.01  0.01  0.81  0.    0.06  0.    0.01  0.07  0.02]"
       ]
      },
      {
       "output_type": "stream",
       "stream": "stdout",
       "text": [
        "\n",
        "[ 0.01  0.05  0.    0.    0.75  0.    0.01  0.02  0.01  0.15]"
       ]
      },
      {
       "output_type": "stream",
       "stream": "stdout",
       "text": [
        "\n",
        "[ 0.01  0.01  0.    0.1   0.    0.75  0.03  0.    0.07  0.02]"
       ]
      },
      {
       "output_type": "stream",
       "stream": "stdout",
       "text": [
        "\n",
        "[ 0.02  0.01  0.    0.    0.    0.01  0.95  0.    0.01  0.  ]"
       ]
      },
      {
       "output_type": "stream",
       "stream": "stdout",
       "text": [
        "\n",
        "[ 0.    0.02  0.    0.    0.01  0.    0.    0.86  0.01  0.09]"
       ]
      },
      {
       "output_type": "stream",
       "stream": "stdout",
       "text": [
        "\n",
        "[ 0.02  0.03  0.01  0.05  0.01  0.04  0.01  0.01  0.8   0.03]"
       ]
      },
      {
       "output_type": "stream",
       "stream": "stdout",
       "text": [
        "\n",
        "[ 0.01  0.01  0.    0.01  0.02  0.    0.    0.05  0.01  0.88]"
       ]
      },
      {
       "output_type": "stream",
       "stream": "stdout",
       "text": [
        "\n",
        "Start testing...\n",
        "[array([ 0.07337248,  0.07337248]), array([ 0.06480093,  0.0638152 ]), array([ 0.06171517,  0.05794368]), array([ 0.06094373,  0.05717225]), array([ 0.06180088,  0.0577294 ]), array([ 0.06231518,  0.05777225]), array([ 0.06625809,  0.05918656]), array([ 0.07530108,  0.06578665])]"
       ]
      },
      {
       "output_type": "stream",
       "stream": "stdout",
       "text": [
        "\n",
        "== Fold 2 ==\n",
        "Fitting model..."
       ]
      },
      {
       "output_type": "stream",
       "stream": "stdout",
       "text": [
        "\n",
        "Finding mean for k=1..."
       ]
      },
      {
       "output_type": "stream",
       "stream": "stdout",
       "text": [
        "\n",
        "[ 1.  0.  0.  0.  0.  0.  0.  0.  0.  0.]"
       ]
      },
      {
       "output_type": "stream",
       "stream": "stdout",
       "text": [
        "\n",
        "[ 0.  1.  0.  0.  0.  0.  0.  0.  0.  0.]"
       ]
      },
      {
       "output_type": "stream",
       "stream": "stdout",
       "text": [
        "\n",
        "[ 0.  0.  1.  0.  0.  0.  0.  0.  0.  0.]"
       ]
      },
      {
       "output_type": "stream",
       "stream": "stdout",
       "text": [
        "\n",
        "[ 0.  0.  0.  1.  0.  0.  0.  0.  0.  0.]"
       ]
      },
      {
       "output_type": "stream",
       "stream": "stdout",
       "text": [
        "\n",
        "[ 0.  0.  0.  0.  1.  0.  0.  0.  0.  0.]"
       ]
      },
      {
       "output_type": "stream",
       "stream": "stdout",
       "text": [
        "\n",
        "[ 0.  0.  0.  0.  0.  1.  0.  0.  0.  0.]"
       ]
      },
      {
       "output_type": "stream",
       "stream": "stdout",
       "text": [
        "\n",
        "[ 0.  0.  0.  0.  0.  0.  1.  0.  0.  0.]"
       ]
      },
      {
       "output_type": "stream",
       "stream": "stdout",
       "text": [
        "\n",
        "[ 0.  0.  0.  0.  0.  0.  0.  1.  0.  0.]"
       ]
      },
      {
       "output_type": "stream",
       "stream": "stdout",
       "text": [
        "\n",
        "[ 0.  0.  0.  0.  0.  0.  0.  0.  1.  0.]"
       ]
      },
      {
       "output_type": "stream",
       "stream": "stdout",
       "text": [
        "\n",
        "[ 0.  0.  0.  0.  0.  0.  0.  0.  0.  1.]"
       ]
      },
      {
       "output_type": "stream",
       "stream": "stdout",
       "text": [
        "\n",
        "Start testing...\n",
        "Finding mean for k=3..."
       ]
      },
      {
       "output_type": "stream",
       "stream": "stdout",
       "text": [
        "\n",
        "[ 0.99  0.    0.    0.    0.    0.    0.    0.    0.    0.  ]"
       ]
      },
      {
       "output_type": "stream",
       "stream": "stdout",
       "text": [
        "\n",
        "[ 0.    0.98  0.    0.    0.    0.    0.    0.    0.    0.  ]"
       ]
      },
      {
       "output_type": "stream",
       "stream": "stdout",
       "text": [
        "\n",
        "[ 0.01  0.01  0.94  0.01  0.    0.    0.    0.01  0.02  0.  ]"
       ]
      },
      {
       "output_type": "stream",
       "stream": "stdout",
       "text": [
        "\n",
        "[ 0.    0.    0.    0.93  0.    0.02  0.    0.    0.03  0.01]"
       ]
      },
      {
       "output_type": "stream",
       "stream": "stdout",
       "text": [
        "\n",
        "[ 0.    0.01  0.    0.    0.91  0.    0.    0.01  0.    0.05]"
       ]
      },
      {
       "output_type": "stream",
       "stream": "stdout",
       "text": [
        "\n",
        "[ 0.    0.    0.    0.04  0.    0.91  0.01  0.    0.03  0.01]"
       ]
      },
      {
       "output_type": "stream",
       "stream": "stdout",
       "text": [
        "\n",
        "[ 0.01  0.    0.    0.    0.    0.    0.98  0.    0.    0.  ]"
       ]
      },
      {
       "output_type": "stream",
       "stream": "stdout",
       "text": [
        "\n",
        "[ 0.    0.01  0.    0.    0.01  0.    0.    0.94  0.    0.04]"
       ]
      },
      {
       "output_type": "stream",
       "stream": "stdout",
       "text": [
        "\n",
        "[ 0.01  0.01  0.    0.01  0.    0.01  0.    0.    0.93  0.01]"
       ]
      },
      {
       "output_type": "stream",
       "stream": "stdout",
       "text": [
        "\n",
        "[ 0.    0.    0.    0.    0.01  0.    0.    0.02  0.01  0.96]"
       ]
      },
      {
       "output_type": "stream",
       "stream": "stdout",
       "text": [
        "\n",
        "Start testing...\n",
        "Finding mean for k=5..."
       ]
      },
      {
       "output_type": "stream",
       "stream": "stdout",
       "text": [
        "\n",
        "[ 0.98  0.    0.    0.    0.    0.    0.01  0.    0.    0.  ]"
       ]
      },
      {
       "output_type": "stream",
       "stream": "stdout",
       "text": [
        "\n",
        "[ 0.    0.98  0.    0.    0.    0.    0.    0.    0.    0.  ]"
       ]
      },
      {
       "output_type": "stream",
       "stream": "stdout",
       "text": [
        "\n",
        "[ 0.01  0.01  0.91  0.02  0.    0.    0.    0.01  0.02  0.01]"
       ]
      },
      {
       "output_type": "stream",
       "stream": "stdout",
       "text": [
        "\n",
        "[ 0.    0.    0.01  0.9   0.    0.03  0.    0.01  0.04  0.01]"
       ]
      },
      {
       "output_type": "stream",
       "stream": "stdout",
       "text": [
        "\n",
        "[ 0.    0.02  0.    0.    0.88  0.    0.    0.01  0.    0.08]"
       ]
      },
      {
       "output_type": "stream",
       "stream": "stdout",
       "text": [
        "\n",
        "[ 0.01  0.    0.    0.05  0.    0.87  0.02  0.    0.04  0.01]"
       ]
      },
      {
       "output_type": "stream",
       "stream": "stdout",
       "text": [
        "\n",
        "[ 0.01  0.    0.    0.    0.    0.01  0.97  0.    0.01  0.  ]"
       ]
      },
      {
       "output_type": "stream",
       "stream": "stdout",
       "text": [
        "\n",
        "[ 0.    0.01  0.    0.    0.01  0.    0.    0.92  0.    0.05]"
       ]
      },
      {
       "output_type": "stream",
       "stream": "stdout",
       "text": [
        "\n",
        "[ 0.01  0.01  0.01  0.02  0.    0.02  0.01  0.    0.9   0.02]"
       ]
      },
      {
       "output_type": "stream",
       "stream": "stdout",
       "text": [
        "\n",
        "[ 0.    0.    0.    0.01  0.01  0.    0.    0.03  0.01  0.94]"
       ]
      },
      {
       "output_type": "stream",
       "stream": "stdout",
       "text": [
        "\n",
        "Start testing...\n",
        "Finding mean for k=7..."
       ]
      },
      {
       "output_type": "stream",
       "stream": "stdout",
       "text": [
        "\n",
        "[ 0.98  0.    0.    0.    0.    0.    0.01  0.    0.01  0.  ]"
       ]
      },
      {
       "output_type": "stream",
       "stream": "stdout",
       "text": [
        "\n",
        "[ 0.    0.98  0.    0.    0.    0.    0.    0.    0.    0.  ]"
       ]
      },
      {
       "output_type": "stream",
       "stream": "stdout",
       "text": [
        "\n",
        "[ 0.01  0.01  0.9   0.02  0.    0.    0.    0.02  0.03  0.01]"
       ]
      },
      {
       "output_type": "stream",
       "stream": "stdout",
       "text": [
        "\n",
        "[ 0.    0.    0.01  0.88  0.    0.04  0.    0.01  0.05  0.01]"
       ]
      },
      {
       "output_type": "stream",
       "stream": "stdout",
       "text": [
        "\n",
        "[ 0.    0.02  0.    0.    0.86  0.    0.    0.01  0.01  0.09]"
       ]
      },
      {
       "output_type": "stream",
       "stream": "stdout",
       "text": [
        "\n",
        "[ 0.01  0.    0.    0.06  0.    0.85  0.02  0.    0.04  0.01]"
       ]
      },
      {
       "output_type": "stream",
       "stream": "stdout",
       "text": [
        "\n",
        "[ 0.01  0.    0.    0.    0.    0.01  0.97  0.    0.01  0.  ]"
       ]
      },
      {
       "output_type": "stream",
       "stream": "stdout",
       "text": [
        "\n",
        "[ 0.    0.01  0.    0.    0.01  0.    0.    0.91  0.    0.06]"
       ]
      },
      {
       "output_type": "stream",
       "stream": "stdout",
       "text": [
        "\n",
        "[ 0.01  0.01  0.01  0.02  0.    0.02  0.01  0.01  0.88  0.02]"
       ]
      },
      {
       "output_type": "stream",
       "stream": "stdout",
       "text": [
        "\n",
        "[ 0.    0.    0.    0.01  0.01  0.    0.    0.03  0.01  0.93]"
       ]
      },
      {
       "output_type": "stream",
       "stream": "stdout",
       "text": [
        "\n",
        "Start testing...\n",
        "Finding mean for k=9..."
       ]
      },
      {
       "output_type": "stream",
       "stream": "stdout",
       "text": [
        "\n",
        "[ 0.97  0.    0.    0.    0.    0.    0.01  0.    0.01  0.  ]"
       ]
      },
      {
       "output_type": "stream",
       "stream": "stdout",
       "text": [
        "\n",
        "[ 0.    0.98  0.    0.    0.    0.    0.    0.    0.    0.  ]"
       ]
      },
      {
       "output_type": "stream",
       "stream": "stdout",
       "text": [
        "\n",
        "[ 0.01  0.01  0.89  0.03  0.    0.    0.    0.02  0.03  0.01]"
       ]
      },
      {
       "output_type": "stream",
       "stream": "stdout",
       "text": [
        "\n",
        "[ 0.01  0.    0.01  0.87  0.    0.04  0.    0.01  0.05  0.01]"
       ]
      },
      {
       "output_type": "stream",
       "stream": "stdout",
       "text": [
        "\n",
        "[ 0.    0.02  0.    0.    0.85  0.    0.    0.01  0.01  0.1 ]"
       ]
      },
      {
       "output_type": "stream",
       "stream": "stdout",
       "text": [
        "\n",
        "[ 0.01  0.    0.    0.07  0.    0.83  0.02  0.    0.05  0.01]"
       ]
      },
      {
       "output_type": "stream",
       "stream": "stdout",
       "text": [
        "\n",
        "[ 0.01  0.    0.    0.    0.    0.01  0.97  0.    0.01  0.  ]"
       ]
      },
      {
       "output_type": "stream",
       "stream": "stdout",
       "text": [
        "\n",
        "[ 0.    0.01  0.    0.    0.01  0.    0.    0.9   0.    0.07]"
       ]
      },
      {
       "output_type": "stream",
       "stream": "stdout",
       "text": [
        "\n",
        "[ 0.01  0.02  0.01  0.03  0.    0.02  0.01  0.01  0.87  0.02]"
       ]
      },
      {
       "output_type": "stream",
       "stream": "stdout",
       "text": [
        "\n",
        "[ 0.    0.    0.    0.01  0.02  0.    0.    0.03  0.01  0.92]"
       ]
      },
      {
       "output_type": "stream",
       "stream": "stdout",
       "text": [
        "\n",
        "Start testing...\n",
        "Finding mean for k=11..."
       ]
      },
      {
       "output_type": "stream",
       "stream": "stdout",
       "text": [
        "\n",
        "[ 0.97  0.    0.    0.    0.    0.    0.01  0.    0.01  0.  ]"
       ]
      },
      {
       "output_type": "stream",
       "stream": "stdout",
       "text": [
        "\n",
        "[ 0.    0.98  0.    0.    0.    0.    0.    0.    0.    0.  ]"
       ]
      },
      {
       "output_type": "stream",
       "stream": "stdout",
       "text": [
        "\n",
        "[ 0.01  0.01  0.88  0.03  0.    0.    0.    0.02  0.03  0.01]"
       ]
      },
      {
       "output_type": "stream",
       "stream": "stdout",
       "text": [
        "\n",
        "[ 0.01  0.    0.01  0.87  0.    0.04  0.    0.01  0.05  0.01]"
       ]
      },
      {
       "output_type": "stream",
       "stream": "stdout",
       "text": [
        "\n",
        "[ 0.    0.03  0.    0.    0.83  0.    0.    0.02  0.01  0.1 ]"
       ]
      },
      {
       "output_type": "stream",
       "stream": "stdout",
       "text": [
        "\n",
        "[ 0.01  0.    0.    0.07  0.    0.82  0.02  0.    0.05  0.01]"
       ]
      },
      {
       "output_type": "stream",
       "stream": "stdout",
       "text": [
        "\n",
        "[ 0.01  0.    0.    0.    0.    0.01  0.96  0.    0.01  0.  ]"
       ]
      },
      {
       "output_type": "stream",
       "stream": "stdout",
       "text": [
        "\n",
        "[ 0.    0.01  0.    0.    0.01  0.    0.    0.89  0.    0.07]"
       ]
      },
      {
       "output_type": "stream",
       "stream": "stdout",
       "text": [
        "\n",
        "[ 0.01  0.02  0.01  0.03  0.    0.03  0.01  0.01  0.86  0.02]"
       ]
      },
      {
       "output_type": "stream",
       "stream": "stdout",
       "text": [
        "\n",
        "[ 0.01  0.    0.    0.01  0.02  0.    0.    0.04  0.01  0.92]"
       ]
      },
      {
       "output_type": "stream",
       "stream": "stdout",
       "text": [
        "\n",
        "Start testing...\n",
        "Finding mean for k=20..."
       ]
      },
      {
       "output_type": "stream",
       "stream": "stdout",
       "text": [
        "\n",
        "[ 0.96  0.    0.    0.    0.    0.    0.01  0.    0.01  0.  ]"
       ]
      },
      {
       "output_type": "stream",
       "stream": "stdout",
       "text": [
        "\n",
        "[ 0.    0.97  0.    0.    0.    0.    0.    0.    0.01  0.  ]"
       ]
      },
      {
       "output_type": "stream",
       "stream": "stdout",
       "text": [
        "\n",
        "[ 0.01  0.02  0.85  0.04  0.    0.    0.    0.02  0.04  0.01]"
       ]
      },
      {
       "output_type": "stream",
       "stream": "stdout",
       "text": [
        "\n",
        "[ 0.01  0.    0.01  0.84  0.    0.05  0.    0.01  0.06  0.01]"
       ]
      },
      {
       "output_type": "stream",
       "stream": "stdout",
       "text": [
        "\n",
        "[ 0.    0.03  0.    0.    0.8   0.    0.01  0.02  0.01  0.12]"
       ]
      },
      {
       "output_type": "stream",
       "stream": "stdout",
       "text": [
        "\n",
        "[ 0.01  0.    0.    0.09  0.    0.79  0.02  0.    0.06  0.01]"
       ]
      },
      {
       "output_type": "stream",
       "stream": "stdout",
       "text": [
        "\n",
        "[ 0.02  0.01  0.    0.    0.    0.01  0.96  0.    0.01  0.  ]"
       ]
      },
      {
       "output_type": "stream",
       "stream": "stdout",
       "text": [
        "\n",
        "[ 0.    0.01  0.01  0.    0.01  0.    0.    0.88  0.01  0.08]"
       ]
      },
      {
       "output_type": "stream",
       "stream": "stdout",
       "text": [
        "\n",
        "[ 0.02  0.02  0.01  0.04  0.01  0.03  0.01  0.01  0.83  0.03]"
       ]
      },
      {
       "output_type": "stream",
       "stream": "stdout",
       "text": [
        "\n",
        "[ 0.01  0.01  0.    0.01  0.02  0.    0.    0.04  0.01  0.9 ]"
       ]
      },
      {
       "output_type": "stream",
       "stream": "stdout",
       "text": [
        "\n",
        "Start testing...\n",
        "Finding mean for k=40..."
       ]
      },
      {
       "output_type": "stream",
       "stream": "stdout",
       "text": [
        "\n",
        "[ 0.95  0.01  0.    0.    0.    0.01  0.01  0.    0.01  0.01]"
       ]
      },
      {
       "output_type": "stream",
       "stream": "stdout",
       "text": [
        "\n",
        "[ 0.    0.97  0.    0.    0.    0.    0.    0.    0.01  0.01]"
       ]
      },
      {
       "output_type": "stream",
       "stream": "stdout",
       "text": [
        "\n",
        "[ 0.02  0.03  0.81  0.05  0.01  0.01  0.    0.03  0.05  0.01]"
       ]
      },
      {
       "output_type": "stream",
       "stream": "stdout",
       "text": [
        "\n",
        "[ 0.01  0.01  0.01  0.81  0.    0.06  0.    0.01  0.07  0.02]"
       ]
      },
      {
       "output_type": "stream",
       "stream": "stdout",
       "text": [
        "\n",
        "[ 0.01  0.04  0.01  0.    0.75  0.    0.01  0.02  0.01  0.15]"
       ]
      },
      {
       "output_type": "stream",
       "stream": "stdout",
       "text": [
        "\n",
        "[ 0.01  0.01  0.    0.1   0.    0.75  0.03  0.    0.07  0.02]"
       ]
      },
      {
       "output_type": "stream",
       "stream": "stdout",
       "text": [
        "\n",
        "[ 0.02  0.01  0.    0.    0.    0.01  0.95  0.    0.01  0.  ]"
       ]
      },
      {
       "output_type": "stream",
       "stream": "stdout",
       "text": [
        "\n",
        "[ 0.    0.02  0.01  0.    0.01  0.    0.    0.85  0.01  0.1 ]"
       ]
      },
      {
       "output_type": "stream",
       "stream": "stdout",
       "text": [
        "\n",
        "[ 0.02  0.03  0.01  0.05  0.01  0.04  0.01  0.01  0.8   0.03]"
       ]
      },
      {
       "output_type": "stream",
       "stream": "stdout",
       "text": [
        "\n",
        "[ 0.01  0.01  0.    0.01  0.02  0.    0.    0.05  0.01  0.88]"
       ]
      },
      {
       "output_type": "stream",
       "stream": "stdout",
       "text": [
        "\n",
        "Start testing...\n",
        "[array([ 0.07075815,  0.07075815]), array([ 0.0607723 ,  0.05961514]), array([ 0.05927228,  0.05597223]), array([ 0.05974371,  0.05700081]), array([ 0.05922942,  0.05635795]), array([ 0.0607723 ,  0.05657224]), array([ 0.06424377,  0.059658  ]), array([ 0.07431535,  0.06488664])]"
       ]
      },
      {
       "output_type": "stream",
       "stream": "stdout",
       "text": [
        "\n"
       ]
      },
      {
       "metadata": {},
       "output_type": "display_data",
       "png": "[encoded data removed]",
       "text": [
        "<matplotlib.figure.Figure at 0x1abc3630>"
       ]
      }
     ],
     "prompt_number": 14
    }
   ],
   "metadata": {}
  }
 ]
}