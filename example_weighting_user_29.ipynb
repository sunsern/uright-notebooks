{
 "metadata": {
  "name": "example_weighting_user_29"
 },
 "nbformat": 3,
 "nbformat_minor": 0,
 "worksheets": [
  {
   "cells": [
    {
     "cell_type": "markdown",
     "metadata": {},
     "source": [
      "Example weighting: (id=handghost)\n",
      "==========================\n",
      "We experiment with different weighting."
     ]
    },
    {
     "cell_type": "code",
     "collapsed": false,
     "input": [
      "# User id \n",
      "target_user = 'user_29'\n",
      "# Number of sessions in each train/test block\n",
      "train_block_size = 5\n",
      "# Maximum number of clusters per label\n",
      "maxclust = 2\n",
      "\n",
      "# [DEBUG] max number of examples from other users for each label\n",
      "max_other_examples = 100\n",
      "\n",
      "# Prototype settings\n",
      "dtw_alpha = 0.5\n",
      "dtw_center_type = 'centroid'\n",
      "\n",
      "# fix random seed\n",
      "import random\n",
      "random.seed(12345)"
     ],
     "language": "python",
     "metadata": {},
     "outputs": [],
     "prompt_number": 1
    },
    {
     "cell_type": "markdown",
     "metadata": {},
     "source": [
      "The training/testing happens every `train_block_size` sessions. The training uses the data of previous blocks and the testing uses only the data of the current block."
     ]
    },
    {
     "cell_type": "code",
     "collapsed": false,
     "input": [
      "import pickle\n",
      "import random\n",
      "\n",
      "from uright.inkutils import (json2array,\n",
      "    normalize_ink, filter_bad_ink, user_normalized_ink)\n",
      "\n",
      "user_raw_ink = pickle.load(open(\"rawink_1_1371107932.p\",\"rb\"))\n",
      "all_data = user_normalized_ink(user_raw_ink)\n",
      "\n",
      "user_data = {}\n",
      "for label in all_data[target_user]:\n",
      "    groups = zip(*(iter(all_data[target_user][label]),) * train_block_size)\n",
      "    for i,each_group in enumerate(groups):\n",
      "        user_data.setdefault(i,[]).extend(zip([label] * train_block_size, each_group))\n",
      "\n",
      "other_data = {'user_0':{}}\n",
      "for user_id in all_data:\n",
      "    if user_id != target_user:\n",
      "        for label in all_data[user_id]:\n",
      "            other_data['user_0'].setdefault(label,[]).extend(all_data[user_id][label])\n",
      "\n",
      "# sample the examples\n",
      "for label in other_data['user_0']:\n",
      "    if len(other_data['user_0'][label]) > max_other_examples:\n",
      "        other_data['user_0'][label] = random.sample(other_data['user_0'][label], max_other_examples)"
     ],
     "language": "python",
     "metadata": {},
     "outputs": [],
     "prompt_number": 2
    },
    {
     "cell_type": "code",
     "collapsed": false,
     "input": [
      "####################\n",
      "# Helper functions #\n",
      "####################\n",
      "\n",
      "from uright.clustering import ClusterKMeans\n",
      "from uright.classifier import ClassifierDTW\n",
      "\n",
      "def append_user_data(ink_dict, user_data, target_user):\n",
      "    new_ink_dict = ink_dict.copy()\n",
      "    new_ink_dict.setdefault(target_user, {})\n",
      "    for label, ink in user_data:\n",
      "        new_ink_dict[target_user].setdefault(label,[])\n",
      "        new_ink_dict[target_user][label].append(ink)\n",
      "    return new_ink_dict\n",
      "\n",
      "def initial_classifier():\n",
      "    import json\n",
      "    dtw_json = json.load(open('global_prototypes_1.json','r'))\n",
      "    dtw = ClassifierDTW(alpha=dtw_alpha)\n",
      "    dtw.fromJSON(dtw_json)\n",
      "    return dtw\n",
      "\n",
      "def retrain(ink_dict, target_weight=1.0):\n",
      "    clusterer = ClusterKMeans(ink_dict,\n",
      "                              target_user_id=target_user, \n",
      "                              algorithm='dtw', maxclust=maxclust, \n",
      "                              target_weight_multiplier=target_weight)\n",
      "    clustered_data = clusterer.clustered_data()\n",
      "    dtw = ClassifierDTW(alpha=dtw_alpha)\n",
      "    dtw.train(clustered_data, center_type=dtw_center_type)\n",
      "    return dtw\n",
      "     \n",
      "def test_classifier(dtw, test_data):\n",
      "    from IPython.core.display import HTML\n",
      "    from uright.visualization import draw_ink\n",
      "\n",
      "    (accu,tl,pr) = dtw.test(test_data)\n",
      "    mistake_idx, = np.where(tl != pr)\n",
      "    mistakes = [(test_data[i][1],tl[i],pr[i]) for i in mistake_idx.tolist()]\n",
      "    print \"Test Accuracy = %0.2f%%\"%accu\n",
      "    return (accu,tl,pr)"
     ],
     "language": "python",
     "metadata": {},
     "outputs": [],
     "prompt_number": 3
    },
    {
     "cell_type": "markdown",
     "metadata": {},
     "source": [
      "Iteration 0\n",
      "-----------\n",
      "Using global prototypes"
     ]
    },
    {
     "cell_type": "code",
     "collapsed": false,
     "input": [
      "all_results = {}\n",
      "rep = 3\n",
      "for target_weight in [1.0, 2.0, 5.0, 10.0]:\n",
      "    rep_results = []\n",
      "    for j in range(rep):\n",
      "        current_ink_dict = other_data\n",
      "        results = []\n",
      "        dtw = initial_classifier()\n",
      "        accu,_,_ = test_classifier(dtw, user_data[0])\n",
      "        results.append(accu)\n",
      "        for i in range(1,5):\n",
      "            current_ink_dict = append_user_data(current_ink_dict, user_data[i-1], target_user)\n",
      "            dtw = retrain(current_ink_dict, target_weight)\n",
      "            accu,_,_ = test_classifier(dtw, user_data[i])\n",
      "            results.append(accu)\n",
      "        rep_results.append(results)\n",
      "    all_results[target_weight] = rep_results"
     ],
     "language": "python",
     "metadata": {},
     "outputs": [
      {
       "output_type": "stream",
       "stream": "stdout",
       "text": [
        "Test Accuracy = 83.08%\n",
        "Test Accuracy = 86.92%"
       ]
      },
      {
       "output_type": "stream",
       "stream": "stdout",
       "text": [
        "\n",
        "Test Accuracy = 93.08%"
       ]
      },
      {
       "output_type": "stream",
       "stream": "stdout",
       "text": [
        "\n",
        "Test Accuracy = 98.46%"
       ]
      },
      {
       "output_type": "stream",
       "stream": "stdout",
       "text": [
        "\n",
        "Test Accuracy = 96.92%"
       ]
      },
      {
       "output_type": "stream",
       "stream": "stdout",
       "text": [
        "\n",
        "Test Accuracy = 83.08%"
       ]
      },
      {
       "output_type": "stream",
       "stream": "stdout",
       "text": [
        "\n",
        "Test Accuracy = 90.00%"
       ]
      },
      {
       "output_type": "stream",
       "stream": "stdout",
       "text": [
        "\n",
        "Test Accuracy = 90.77%"
       ]
      },
      {
       "output_type": "stream",
       "stream": "stdout",
       "text": [
        "\n",
        "Test Accuracy = 98.46%"
       ]
      },
      {
       "output_type": "stream",
       "stream": "stdout",
       "text": [
        "\n",
        "Test Accuracy = 98.46%"
       ]
      },
      {
       "output_type": "stream",
       "stream": "stdout",
       "text": [
        "\n",
        "Test Accuracy = 83.08%"
       ]
      },
      {
       "output_type": "stream",
       "stream": "stdout",
       "text": [
        "\n",
        "Test Accuracy = 89.23%"
       ]
      },
      {
       "output_type": "stream",
       "stream": "stdout",
       "text": [
        "\n",
        "Test Accuracy = 90.77%"
       ]
      },
      {
       "output_type": "stream",
       "stream": "stdout",
       "text": [
        "\n",
        "Test Accuracy = 98.46%"
       ]
      },
      {
       "output_type": "stream",
       "stream": "stdout",
       "text": [
        "\n",
        "Test Accuracy = 97.69%"
       ]
      },
      {
       "output_type": "stream",
       "stream": "stdout",
       "text": [
        "\n",
        "Test Accuracy = 83.08%"
       ]
      },
      {
       "output_type": "stream",
       "stream": "stdout",
       "text": [
        "\n",
        "Test Accuracy = 90.00%"
       ]
      },
      {
       "output_type": "stream",
       "stream": "stdout",
       "text": [
        "\n",
        "Test Accuracy = 90.77%"
       ]
      },
      {
       "output_type": "stream",
       "stream": "stdout",
       "text": [
        "\n",
        "Test Accuracy = 96.15%"
       ]
      },
      {
       "output_type": "stream",
       "stream": "stdout",
       "text": [
        "\n",
        "Test Accuracy = 99.23%"
       ]
      },
      {
       "output_type": "stream",
       "stream": "stdout",
       "text": [
        "\n",
        "Test Accuracy = 83.08%"
       ]
      },
      {
       "output_type": "stream",
       "stream": "stdout",
       "text": [
        "\n",
        "Test Accuracy = 90.77%"
       ]
      },
      {
       "output_type": "stream",
       "stream": "stdout",
       "text": [
        "\n",
        "Test Accuracy = 91.54%"
       ]
      },
      {
       "output_type": "stream",
       "stream": "stdout",
       "text": [
        "\n",
        "Test Accuracy = 99.23%"
       ]
      },
      {
       "output_type": "stream",
       "stream": "stdout",
       "text": [
        "\n",
        "Test Accuracy = 96.15%"
       ]
      },
      {
       "output_type": "stream",
       "stream": "stdout",
       "text": [
        "\n",
        "Test Accuracy = 83.08%"
       ]
      },
      {
       "output_type": "stream",
       "stream": "stdout",
       "text": [
        "\n",
        "Test Accuracy = 91.54%"
       ]
      },
      {
       "output_type": "stream",
       "stream": "stdout",
       "text": [
        "\n",
        "Test Accuracy = 89.23%"
       ]
      },
      {
       "output_type": "stream",
       "stream": "stdout",
       "text": [
        "\n",
        "Test Accuracy = 99.23%"
       ]
      },
      {
       "output_type": "stream",
       "stream": "stdout",
       "text": [
        "\n",
        "Test Accuracy = 97.69%"
       ]
      },
      {
       "output_type": "stream",
       "stream": "stdout",
       "text": [
        "\n",
        "Test Accuracy = 83.08%"
       ]
      },
      {
       "output_type": "stream",
       "stream": "stdout",
       "text": [
        "\n",
        "Test Accuracy = 92.31%"
       ]
      },
      {
       "output_type": "stream",
       "stream": "stdout",
       "text": [
        "\n",
        "Test Accuracy = 91.54%"
       ]
      },
      {
       "output_type": "stream",
       "stream": "stdout",
       "text": [
        "\n",
        "Test Accuracy = 98.46%"
       ]
      },
      {
       "output_type": "stream",
       "stream": "stdout",
       "text": [
        "\n",
        "Test Accuracy = 97.69%"
       ]
      },
      {
       "output_type": "stream",
       "stream": "stdout",
       "text": [
        "\n",
        "Test Accuracy = 83.08%"
       ]
      },
      {
       "output_type": "stream",
       "stream": "stdout",
       "text": [
        "\n",
        "Test Accuracy = 88.46%"
       ]
      },
      {
       "output_type": "stream",
       "stream": "stdout",
       "text": [
        "\n",
        "Test Accuracy = 93.85%"
       ]
      },
      {
       "output_type": "stream",
       "stream": "stdout",
       "text": [
        "\n",
        "Test Accuracy = 96.15%"
       ]
      },
      {
       "output_type": "stream",
       "stream": "stdout",
       "text": [
        "\n",
        "Test Accuracy = 98.46%"
       ]
      },
      {
       "output_type": "stream",
       "stream": "stdout",
       "text": [
        "\n",
        "Test Accuracy = 83.08%"
       ]
      },
      {
       "output_type": "stream",
       "stream": "stdout",
       "text": [
        "\n",
        "Test Accuracy = 91.54%"
       ]
      },
      {
       "output_type": "stream",
       "stream": "stdout",
       "text": [
        "\n",
        "Test Accuracy = 91.54%"
       ]
      },
      {
       "output_type": "stream",
       "stream": "stdout",
       "text": [
        "\n",
        "Test Accuracy = 97.69%"
       ]
      },
      {
       "output_type": "stream",
       "stream": "stdout",
       "text": [
        "\n",
        "Test Accuracy = 96.92%"
       ]
      },
      {
       "output_type": "stream",
       "stream": "stdout",
       "text": [
        "\n",
        "Test Accuracy = 83.08%"
       ]
      },
      {
       "output_type": "stream",
       "stream": "stdout",
       "text": [
        "\n",
        "Test Accuracy = 90.00%"
       ]
      },
      {
       "output_type": "stream",
       "stream": "stdout",
       "text": [
        "\n",
        "Test Accuracy = 91.54%"
       ]
      },
      {
       "output_type": "stream",
       "stream": "stdout",
       "text": [
        "\n",
        "Test Accuracy = 97.69%"
       ]
      },
      {
       "output_type": "stream",
       "stream": "stdout",
       "text": [
        "\n",
        "Test Accuracy = 97.69%"
       ]
      },
      {
       "output_type": "stream",
       "stream": "stdout",
       "text": [
        "\n",
        "Test Accuracy = 83.08%"
       ]
      },
      {
       "output_type": "stream",
       "stream": "stdout",
       "text": [
        "\n",
        "Test Accuracy = 90.00%"
       ]
      },
      {
       "output_type": "stream",
       "stream": "stdout",
       "text": [
        "\n",
        "Test Accuracy = 86.92%"
       ]
      },
      {
       "output_type": "stream",
       "stream": "stdout",
       "text": [
        "\n",
        "Test Accuracy = 94.62%"
       ]
      },
      {
       "output_type": "stream",
       "stream": "stdout",
       "text": [
        "\n",
        "Test Accuracy = 97.69%"
       ]
      },
      {
       "output_type": "stream",
       "stream": "stdout",
       "text": [
        "\n",
        "Test Accuracy = 83.08%"
       ]
      },
      {
       "output_type": "stream",
       "stream": "stdout",
       "text": [
        "\n",
        "Test Accuracy = 93.08%"
       ]
      },
      {
       "output_type": "stream",
       "stream": "stdout",
       "text": [
        "\n",
        "Test Accuracy = 88.46%"
       ]
      },
      {
       "output_type": "stream",
       "stream": "stdout",
       "text": [
        "\n",
        "Test Accuracy = 98.46%"
       ]
      },
      {
       "output_type": "stream",
       "stream": "stdout",
       "text": [
        "\n",
        "Test Accuracy = 96.92%"
       ]
      },
      {
       "output_type": "stream",
       "stream": "stdout",
       "text": [
        "\n"
       ]
      }
     ],
     "prompt_number": 4
    },
    {
     "cell_type": "code",
     "collapsed": false,
     "input": [
      "import numpy as np\n",
      "\n",
      "figure(figsize(15,10))\n",
      "for target_weight in sorted(all_results.keys()):\n",
      "    rep_results = all_results[target_weight]\n",
      "    mean_accuracy = np.mean(np.array(rep_results),axis=0)\n",
      "    print mean_accuracy\n",
      "    plot(mean_accuracy,'o-',label=\"target_weight=%0.1f\"%target_weight)\n",
      "legend(loc=2)"
     ],
     "language": "python",
     "metadata": {},
     "outputs": [
      {
       "output_type": "stream",
       "stream": "stdout",
       "text": [
        "[ 83.07692308  88.71794872  91.53846154  98.46153846  97.69230769]\n",
        "[ 83.07692308  90.76923077  90.51282051  98.20512821  97.69230769]"
       ]
      },
      {
       "output_type": "stream",
       "stream": "stdout",
       "text": [
        "\n",
        "[ 83.07692308  90.76923077  92.30769231  97.43589744  97.69230769]\n",
        "[ 83.07692308  91.02564103  88.97435897  96.92307692  97.43589744]\n"
       ]
      },
      {
       "output_type": "pyout",
       "prompt_number": 5,
       "text": [
        "<matplotlib.legend.Legend at 0x5415550>"
       ]
      },
      {
       "output_type": "display_data",
       "png": "[encoded data removed]"
      }
     ],
     "prompt_number": 5
    }
   ],
   "metadata": {}
  }
 ]
}