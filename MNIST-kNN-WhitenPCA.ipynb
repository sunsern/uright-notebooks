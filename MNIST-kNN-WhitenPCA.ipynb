{
 "metadata": {
  "name": ""
 },
 "nbformat": 3,
 "nbformat_minor": 0,
 "worksheets": [
  {
   "cells": [
    {
     "cell_type": "markdown",
     "metadata": {},
     "source": [
      "### Preprocessing\n",
      "\n",
      "* Scale down 50%\n",
      "* 100 PCA components with whitening (unit-variance normalization)"
     ]
    },
    {
     "cell_type": "code",
     "collapsed": false,
     "input": [
      "%pylab inline"
     ],
     "language": "python",
     "metadata": {},
     "outputs": [
      {
       "output_type": "stream",
       "stream": "stdout",
       "text": [
        "Populating the interactive namespace from numpy and matplotlib\n"
       ]
      }
     ],
     "prompt_number": 1
    },
    {
     "cell_type": "code",
     "collapsed": false,
     "input": [
      "def scale_image(x, scale=0.5):\n",
      "    from scipy.misc import imresize\n",
      "    n = x.shape[0]\n",
      "    sx = x.reshape((np.sqrt(n),np.sqrt(n)))\n",
      "    small = imresize(sx, scale)\n",
      "    return small.reshape(-1)\n",
      "\n",
      "def transform_data_pca(X):\n",
      "    from sklearn.decomposition import PCA\n",
      "    X = np.array([scale_image(x, 0.5) for x in X])\n",
      "    pca = PCA(n_components=100, whiten=True)\n",
      "    Tx = pca.fit_transform(X)\n",
      "    print(pca.explained_variance_ratio_.cumsum()) \n",
      "    return Tx"
     ],
     "language": "python",
     "metadata": {},
     "outputs": [],
     "prompt_number": 2
    },
    {
     "cell_type": "code",
     "collapsed": false,
     "input": [
      "import numpy as np\n",
      "from sklearn.datasets import fetch_mldata\n",
      " \n",
      "mnist = fetch_mldata('MNIST original', data_home='.')\n",
      "\n",
      "max_n = min(100000, len(mnist.data))\n",
      "rand_idx = range(len(mnist.data))\n",
      "np.random.shuffle(rand_idx)\n",
      "mnist.data = mnist.data[rand_idx[:max_n]]\n",
      "mnist.target = mnist.target[rand_idx[:max_n]].astype(int)\n",
      "\n",
      "transformed_data = transform_data_pca(mnist.data)"
     ],
     "language": "python",
     "metadata": {},
     "outputs": [
      {
       "output_type": "stream",
       "stream": "stdout",
       "text": [
        "[ 0.11927157  0.20141198  0.27317535  0.33701896  0.39595125  0.44568336\n",
        "  0.48403913  0.51638455  0.54801397  0.57409843  0.59673934  0.6186863\n",
        "  0.63767529  0.65573946  0.67259762  0.68888316  0.70268778  0.71612584\n",
        "  0.72849945  0.74043844  0.75145726  0.76170285  0.77168574  0.78086334\n",
        "  0.78990028  0.79833735  0.80654752  0.81445466  0.82178672  0.82851853\n",
        "  0.83508252  0.84144811  0.84732361  0.85311327  0.85864321  0.86371521\n",
        "  0.86869694  0.87344925  0.87809384  0.88256871  0.88695871  0.89115231\n",
        "  0.89511105  0.89896974  0.90265163  0.90629467  0.90967628  0.91296343\n",
        "  0.9161359   0.91926056  0.92215473  0.92500793  0.92777457  0.93044488\n",
        "  0.93305222  0.93558822  0.93805705  0.94040592  0.94274031  0.94502212\n",
        "  0.94720633  0.94930085  0.95128694  0.95319509  0.95502267  0.95680166\n",
        "  0.95849345  0.96013987  0.96175307  0.96334118  0.96484113  0.96631602\n",
        "  0.96775059  0.96912943  0.97043201  0.9716996   0.97293683  0.9741189\n",
        "  0.9752639   0.97637341  0.9774712   0.97853621  0.9795563   0.98052763\n",
        "  0.98148708  0.9824244   0.98332492  0.98419504  0.98502328  0.98584033\n",
        "  0.9866374   0.98737122  0.98806358  0.98872808  0.98936969  0.98996419\n",
        "  0.99054721  0.99111421  0.99166638  0.99218236]\n"
       ]
      }
     ],
     "prompt_number": 9
    },
    {
     "cell_type": "code",
     "collapsed": false,
     "input": [
      "def kld(p,q):\n",
      "    return -np.sum(p * np.log(q))\n",
      "    \n",
      "def alpha_divergence(exp, obs, alpha=1):\n",
      "    if alpha==1:\n",
      "        return kld(obs, exp)\n",
      "    p = obs\n",
      "    q = exp\n",
      "    return (np.sum((p**alpha)*(q**(1-alpha))) - 1.0)/(alpha*(alpha-1))\n",
      "\n",
      "def alpha_classifier(obs, P, alpha):\n",
      "    c = np.argmin([alpha_divergence(P[i,:], obs, alpha) for i in range(P.shape[0])])\n",
      "    return c\n",
      "\n",
      "def max_classifier(obs):\n",
      "    return obs.argmax()"
     ],
     "language": "python",
     "metadata": {},
     "outputs": [],
     "prompt_number": 10
    },
    {
     "cell_type": "code",
     "collapsed": false,
     "input": [
      "from sklearn import cross_validation\n",
      "from sklearn.neighbors import KNeighborsClassifier\n",
      "import pickle\n",
      "import random\n",
      "\n",
      "def make_distribution(Sx, M):\n",
      "    dist,_  = np.histogram(Sx, bins=M, range=(0,M), density=True)\n",
      "    return dist\n",
      "    \n",
      "def prototypical_P(nx, Y_train, M):\n",
      "    m = make_distribution(Y_train[nx].reshape(-1), M)\n",
      "    print m.round(2)\n",
      "    return m\n",
      "\n",
      "def compute_errors_fixed_P(X_test, Y_test, Y_train, P, nn_all, kn, M, alpha):         \n",
      "    correct_ll = 0\n",
      "    correct_ah = 0\n",
      "    nx = nn_all.kneighbors(X_test, n_neighbors=kn, return_distance=False)\n",
      "    for i,x in enumerate(nx):\n",
      "        dx = make_distribution(Y_train[x], M)\n",
      "        ll = max_classifier(dx)\n",
      "        ah = alpha_classifier(dx, P, alpha)\n",
      "        if ll == Y_test[i]:\n",
      "            correct_ll += 1\n",
      "        if ah == Y_test[i]:\n",
      "            correct_ah += 1\n",
      "    return 1.0 - np.array([float(correct_ll)/len(X_test), float(correct_ah)/len(X_test)])\n",
      "\n",
      "def run_experiment_fixed_P(kfold, X, Y, alpha, bias=0.01, metric='manhattan'):\n",
      "    test_errors = []\n",
      "    plot_data = {}\n",
      "    skf = cross_validation.StratifiedKFold(Y, n_folds=kfold)\n",
      "    M = np.max(Y).astype(int) + 1\n",
      "    for (fold_idx,(train_index, test_index)) in enumerate(skf):\n",
      "        \n",
      "        print \"== Fold %d ==\"%fold_idx\n",
      "        \n",
      "        X_train = X[train_index]\n",
      "        Y_train = Y[train_index] \n",
      "        X_test = X[test_index]\n",
      "        Y_test = Y[test_index]\n",
      "            \n",
      "        # train overall NN models\n",
      "        print \"Fitting model...\"\n",
      "        nn_all = KNeighborsClassifier(metric=metric)\n",
      "        nn_all.fit(X_train, Y_train)\n",
      "            \n",
      "        # compute test errors using different k\n",
      "        test_err = []\n",
      "        all_kn = [1,3,5,7,9,11,20,40]\n",
      "        for kn in all_kn:\n",
      "            \n",
      "            print \"Finding mean for k=%d...\"%kn\n",
      "            P = np.zeros((M,M))\n",
      "            for j in range(M):\n",
      "                idx = (Y_train == j)\n",
      "                #i_idx, = np.nonzero(idx)\n",
      "                #idx = np.random.choice(i_idx, size=10)\n",
      "                nx = nn_all.kneighbors(X_train[idx], n_neighbors=kn, return_distance=False)\n",
      "                P[j,:] = prototypical_P(nx, Y_train, M) + bias\n",
      "                P[j,:] = P[j,:] / P[j,:].sum()\n",
      "   \n",
      "            #print \"Saving plot_data...\"\n",
      "            #plot_data[(fold_idx, kn)] = P\n",
      "            #pickle.dump(plot_data, open('mnist_knn_plot_data.p','wb'))\n",
      "                \n",
      "            print \"Start testing...\"\n",
      "            test_err.append(compute_errors_fixed_P(X_test, Y_test, Y_train, P, nn_all, kn, M, alpha))\n",
      "            #raise\n",
      "            \n",
      "        print test_err\n",
      "        test_errors.append(test_err)\n",
      "        \n",
      "    test_error_mean = np.mean(test_errors, axis=0)\n",
      "    test_error_std = np.std(test_errors, axis=0)\n",
      "    return (test_error_mean, test_error_std, all_kn) \n",
      "\n",
      "def plot_results(ts_m,ts_sd,x):\n",
      "    figure(figsize=(10,8))\n",
      "    errorbar(x, ts_m[:,0], yerr=ts_sd[:,0], fmt='sb-', label='max', lw=2)\n",
      "    errorbar(x, ts_m[:,1], yerr=ts_sd[:,1], fmt='or-', label='alpha-d', lw=2)\n",
      "    legend()\n",
      "    xlabel('size of neighborhood')\n",
      "    ylabel('error rate')\n",
      "    title(\"Test error\")\n",
      "    grid()"
     ],
     "language": "python",
     "metadata": {},
     "outputs": [],
     "prompt_number": 11
    },
    {
     "cell_type": "code",
     "collapsed": false,
     "input": [
      "(ts_m,ts_sd,x) = run_experiment_fixed_P(3, transformed_data, mnist.target, alpha=1, bias=1e-2)\n",
      "plot_results(ts_m,ts_sd,x)"
     ],
     "language": "python",
     "metadata": {},
     "outputs": [
      {
       "output_type": "stream",
       "stream": "stdout",
       "text": [
        "== Fold 0 ==\n",
        "Fitting model..."
       ]
      },
      {
       "output_type": "stream",
       "stream": "stdout",
       "text": [
        "\n",
        "Finding mean for k=1..."
       ]
      },
      {
       "output_type": "stream",
       "stream": "stdout",
       "text": [
        "\n",
        "[ 1.  0.  0.  0.  0.  0.  0.  0.  0.  0.]"
       ]
      },
      {
       "output_type": "stream",
       "stream": "stdout",
       "text": [
        "\n",
        "[ 0.  1.  0.  0.  0.  0.  0.  0.  0.  0.]"
       ]
      },
      {
       "output_type": "stream",
       "stream": "stdout",
       "text": [
        "\n",
        "[ 0.  0.  1.  0.  0.  0.  0.  0.  0.  0.]"
       ]
      },
      {
       "output_type": "stream",
       "stream": "stdout",
       "text": [
        "\n",
        "[ 0.  0.  0.  1.  0.  0.  0.  0.  0.  0.]"
       ]
      },
      {
       "output_type": "stream",
       "stream": "stdout",
       "text": [
        "\n",
        "[ 0.  0.  0.  0.  1.  0.  0.  0.  0.  0.]"
       ]
      },
      {
       "output_type": "stream",
       "stream": "stdout",
       "text": [
        "\n",
        "[ 0.  0.  0.  0.  0.  1.  0.  0.  0.  0.]"
       ]
      },
      {
       "output_type": "stream",
       "stream": "stdout",
       "text": [
        "\n",
        "[ 0.  0.  0.  0.  0.  0.  1.  0.  0.  0.]"
       ]
      },
      {
       "output_type": "stream",
       "stream": "stdout",
       "text": [
        "\n",
        "[ 0.  0.  0.  0.  0.  0.  0.  1.  0.  0.]"
       ]
      },
      {
       "output_type": "stream",
       "stream": "stdout",
       "text": [
        "\n",
        "[ 0.  0.  0.  0.  0.  0.  0.  0.  1.  0.]"
       ]
      },
      {
       "output_type": "stream",
       "stream": "stdout",
       "text": [
        "\n",
        "[ 0.  0.  0.  0.  0.  0.  0.  0.  0.  1.]"
       ]
      },
      {
       "output_type": "stream",
       "stream": "stdout",
       "text": [
        "\n",
        "Start testing...\n",
        "Finding mean for k=3..."
       ]
      },
      {
       "output_type": "stream",
       "stream": "stdout",
       "text": [
        "\n",
        "[ 0.99  0.    0.    0.    0.    0.    0.    0.    0.    0.  ]"
       ]
      },
      {
       "output_type": "stream",
       "stream": "stdout",
       "text": [
        "\n",
        "[ 0.    0.99  0.    0.    0.    0.    0.    0.    0.    0.  ]"
       ]
      },
      {
       "output_type": "stream",
       "stream": "stdout",
       "text": [
        "\n",
        "[ 0.01  0.02  0.93  0.01  0.    0.    0.    0.01  0.    0.  ]"
       ]
      },
      {
       "output_type": "stream",
       "stream": "stdout",
       "text": [
        "\n",
        "[ 0.    0.01  0.01  0.94  0.    0.02  0.    0.01  0.01  0.  ]"
       ]
      },
      {
       "output_type": "stream",
       "stream": "stdout",
       "text": [
        "\n",
        "[ 0.    0.01  0.    0.    0.94  0.    0.    0.01  0.    0.03]"
       ]
      },
      {
       "output_type": "stream",
       "stream": "stdout",
       "text": [
        "\n",
        "[ 0.    0.01  0.    0.03  0.    0.93  0.01  0.    0.01  0.01]"
       ]
      },
      {
       "output_type": "stream",
       "stream": "stdout",
       "text": [
        "\n",
        "[ 0.01  0.    0.    0.    0.    0.    0.98  0.    0.    0.  ]"
       ]
      },
      {
       "output_type": "stream",
       "stream": "stdout",
       "text": [
        "\n",
        "[ 0.    0.01  0.    0.    0.01  0.    0.    0.96  0.    0.02]"
       ]
      },
      {
       "output_type": "stream",
       "stream": "stdout",
       "text": [
        "\n",
        "[ 0.01  0.03  0.01  0.02  0.01  0.03  0.01  0.    0.88  0.02]"
       ]
      },
      {
       "output_type": "stream",
       "stream": "stdout",
       "text": [
        "\n",
        "[ 0.    0.    0.    0.    0.01  0.    0.    0.03  0.    0.95]"
       ]
      },
      {
       "output_type": "stream",
       "stream": "stdout",
       "text": [
        "\n",
        "Start testing...\n",
        "Finding mean for k=5..."
       ]
      },
      {
       "output_type": "stream",
       "stream": "stdout",
       "text": [
        "\n",
        "[ 0.98  0.    0.    0.    0.    0.    0.01  0.    0.    0.  ]"
       ]
      },
      {
       "output_type": "stream",
       "stream": "stdout",
       "text": [
        "\n",
        "[ 0.    0.99  0.    0.    0.    0.    0.    0.    0.    0.  ]"
       ]
      },
      {
       "output_type": "stream",
       "stream": "stdout",
       "text": [
        "\n",
        "[ 0.02  0.03  0.89  0.02  0.01  0.    0.    0.02  0.01  0.  ]"
       ]
      },
      {
       "output_type": "stream",
       "stream": "stdout",
       "text": [
        "\n",
        "[ 0.    0.02  0.01  0.91  0.    0.03  0.    0.02  0.01  0.01]"
       ]
      },
      {
       "output_type": "stream",
       "stream": "stdout",
       "text": [
        "\n",
        "[ 0.    0.02  0.    0.    0.91  0.    0.    0.01  0.    0.05]"
       ]
      },
      {
       "output_type": "stream",
       "stream": "stdout",
       "text": [
        "\n",
        "[ 0.01  0.01  0.    0.04  0.01  0.89  0.01  0.    0.01  0.01]"
       ]
      },
      {
       "output_type": "stream",
       "stream": "stdout",
       "text": [
        "\n",
        "[ 0.01  0.    0.    0.    0.    0.01  0.97  0.    0.    0.  ]"
       ]
      },
      {
       "output_type": "stream",
       "stream": "stdout",
       "text": [
        "\n",
        "[ 0.    0.01  0.    0.    0.01  0.    0.    0.94  0.    0.03]"
       ]
      },
      {
       "output_type": "stream",
       "stream": "stdout",
       "text": [
        "\n",
        "[ 0.01  0.04  0.01  0.02  0.01  0.04  0.01  0.01  0.83  0.02]"
       ]
      },
      {
       "output_type": "stream",
       "stream": "stdout",
       "text": [
        "\n",
        "[ 0.    0.01  0.    0.01  0.02  0.    0.    0.03  0.    0.93]"
       ]
      },
      {
       "output_type": "stream",
       "stream": "stdout",
       "text": [
        "\n",
        "Start testing...\n",
        "Finding mean for k=7..."
       ]
      },
      {
       "output_type": "stream",
       "stream": "stdout",
       "text": [
        "\n",
        "[ 0.98  0.01  0.    0.    0.    0.    0.01  0.    0.    0.  ]"
       ]
      },
      {
       "output_type": "stream",
       "stream": "stdout",
       "text": [
        "\n",
        "[ 0.    0.99  0.    0.    0.    0.    0.    0.    0.    0.  ]"
       ]
      },
      {
       "output_type": "stream",
       "stream": "stdout",
       "text": [
        "\n",
        "[ 0.02  0.04  0.86  0.02  0.01  0.    0.    0.02  0.01  0.  ]"
       ]
      },
      {
       "output_type": "stream",
       "stream": "stdout",
       "text": [
        "\n",
        "[ 0.    0.02  0.01  0.89  0.    0.03  0.    0.02  0.01  0.01]"
       ]
      },
      {
       "output_type": "stream",
       "stream": "stdout",
       "text": [
        "\n",
        "[ 0.    0.03  0.    0.    0.89  0.    0.    0.01  0.    0.06]"
       ]
      },
      {
       "output_type": "stream",
       "stream": "stdout",
       "text": [
        "\n",
        "[ 0.01  0.02  0.    0.04  0.01  0.87  0.02  0.01  0.02  0.01]"
       ]
      },
      {
       "output_type": "stream",
       "stream": "stdout",
       "text": [
        "\n",
        "[ 0.01  0.01  0.    0.    0.    0.01  0.97  0.    0.    0.  ]"
       ]
      },
      {
       "output_type": "stream",
       "stream": "stdout",
       "text": [
        "\n",
        "[ 0.    0.02  0.    0.    0.01  0.    0.    0.93  0.    0.03]"
       ]
      },
      {
       "output_type": "stream",
       "stream": "stdout",
       "text": [
        "\n",
        "[ 0.02  0.05  0.01  0.03  0.01  0.04  0.01  0.01  0.8   0.03]"
       ]
      },
      {
       "output_type": "stream",
       "stream": "stdout",
       "text": [
        "\n",
        "[ 0.    0.01  0.    0.01  0.02  0.    0.    0.04  0.    0.91]"
       ]
      },
      {
       "output_type": "stream",
       "stream": "stdout",
       "text": [
        "\n",
        "Start testing...\n",
        "Finding mean for k=9..."
       ]
      },
      {
       "output_type": "stream",
       "stream": "stdout",
       "text": [
        "\n",
        "[ 0.98  0.01  0.    0.    0.    0.    0.01  0.    0.    0.  ]"
       ]
      },
      {
       "output_type": "stream",
       "stream": "stdout",
       "text": [
        "\n",
        "[ 0.    0.99  0.    0.    0.    0.    0.    0.    0.    0.  ]"
       ]
      },
      {
       "output_type": "stream",
       "stream": "stdout",
       "text": [
        "\n",
        "[ 0.02  0.05  0.84  0.03  0.01  0.    0.01  0.02  0.01  0.01]"
       ]
      },
      {
       "output_type": "stream",
       "stream": "stdout",
       "text": [
        "\n",
        "[ 0.01  0.03  0.01  0.87  0.    0.03  0.    0.02  0.01  0.01]"
       ]
      },
      {
       "output_type": "stream",
       "stream": "stdout",
       "text": [
        "\n",
        "[ 0.    0.03  0.    0.    0.88  0.    0.    0.01  0.    0.07]"
       ]
      },
      {
       "output_type": "stream",
       "stream": "stdout",
       "text": [
        "\n",
        "[ 0.01  0.02  0.    0.05  0.01  0.85  0.02  0.01  0.02  0.02]"
       ]
      },
      {
       "output_type": "stream",
       "stream": "stdout",
       "text": [
        "\n",
        "[ 0.01  0.01  0.    0.    0.    0.01  0.96  0.    0.    0.  ]"
       ]
      },
      {
       "output_type": "stream",
       "stream": "stdout",
       "text": [
        "\n",
        "[ 0.    0.02  0.    0.    0.01  0.    0.    0.92  0.    0.04]"
       ]
      },
      {
       "output_type": "stream",
       "stream": "stdout",
       "text": [
        "\n",
        "[ 0.02  0.06  0.01  0.03  0.01  0.05  0.01  0.01  0.77  0.03]"
       ]
      },
      {
       "output_type": "stream",
       "stream": "stdout",
       "text": [
        "\n",
        "[ 0.    0.01  0.    0.01  0.02  0.    0.    0.05  0.    0.9 ]"
       ]
      },
      {
       "output_type": "stream",
       "stream": "stdout",
       "text": [
        "\n",
        "Start testing...\n",
        "Finding mean for k=11..."
       ]
      },
      {
       "output_type": "stream",
       "stream": "stdout",
       "text": [
        "\n",
        "[ 0.97  0.01  0.    0.    0.    0.    0.01  0.    0.    0.  ]"
       ]
      },
      {
       "output_type": "stream",
       "stream": "stdout",
       "text": [
        "\n",
        "[ 0.    0.99  0.    0.    0.    0.    0.    0.    0.    0.  ]"
       ]
      },
      {
       "output_type": "stream",
       "stream": "stdout",
       "text": [
        "\n",
        "[ 0.03  0.06  0.82  0.03  0.01  0.    0.01  0.03  0.01  0.01]"
       ]
      },
      {
       "output_type": "stream",
       "stream": "stdout",
       "text": [
        "\n",
        "[ 0.01  0.04  0.01  0.86  0.    0.04  0.    0.02  0.01  0.01]"
       ]
      },
      {
       "output_type": "stream",
       "stream": "stdout",
       "text": [
        "\n",
        "[ 0.    0.04  0.    0.    0.86  0.    0.    0.01  0.    0.07]"
       ]
      },
      {
       "output_type": "stream",
       "stream": "stdout",
       "text": [
        "\n",
        "[ 0.01  0.03  0.    0.05  0.01  0.84  0.02  0.01  0.02  0.02]"
       ]
      },
      {
       "output_type": "stream",
       "stream": "stdout",
       "text": [
        "\n",
        "[ 0.02  0.01  0.    0.    0.    0.01  0.96  0.    0.    0.  ]"
       ]
      },
      {
       "output_type": "stream",
       "stream": "stdout",
       "text": [
        "\n",
        "[ 0.    0.02  0.    0.    0.01  0.    0.    0.91  0.    0.04]"
       ]
      },
      {
       "output_type": "stream",
       "stream": "stdout",
       "text": [
        "\n",
        "[ 0.02  0.07  0.01  0.04  0.01  0.05  0.01  0.01  0.75  0.03]"
       ]
      },
      {
       "output_type": "stream",
       "stream": "stdout",
       "text": [
        "\n",
        "[ 0.    0.01  0.    0.01  0.03  0.    0.    0.05  0.    0.89]"
       ]
      },
      {
       "output_type": "stream",
       "stream": "stdout",
       "text": [
        "\n",
        "Start testing...\n",
        "Finding mean for k=20..."
       ]
      },
      {
       "output_type": "stream",
       "stream": "stdout",
       "text": [
        "\n",
        "[ 0.96  0.02  0.    0.    0.    0.    0.01  0.    0.    0.  ]"
       ]
      },
      {
       "output_type": "stream",
       "stream": "stdout",
       "text": [
        "\n",
        "[ 0.    0.99  0.    0.    0.    0.    0.    0.    0.    0.  ]"
       ]
      },
      {
       "output_type": "stream",
       "stream": "stdout",
       "text": [
        "\n",
        "[ 0.03  0.1   0.76  0.04  0.01  0.    0.01  0.03  0.01  0.01]"
       ]
      },
      {
       "output_type": "stream",
       "stream": "stdout",
       "text": [
        "\n",
        "[ 0.01  0.06  0.01  0.81  0.    0.04  0.    0.03  0.01  0.01]"
       ]
      },
      {
       "output_type": "stream",
       "stream": "stdout",
       "text": [
        "\n",
        "[ 0.    0.06  0.    0.    0.82  0.    0.    0.02  0.    0.09]"
       ]
      },
      {
       "output_type": "stream",
       "stream": "stdout",
       "text": [
        "\n",
        "[ 0.01  0.05  0.    0.06  0.01  0.79  0.02  0.01  0.02  0.03]"
       ]
      },
      {
       "output_type": "stream",
       "stream": "stdout",
       "text": [
        "\n",
        "[ 0.02  0.02  0.    0.    0.    0.01  0.94  0.    0.    0.  ]"
       ]
      },
      {
       "output_type": "stream",
       "stream": "stdout",
       "text": [
        "\n",
        "[ 0.    0.03  0.    0.    0.02  0.    0.    0.89  0.    0.06]"
       ]
      },
      {
       "output_type": "stream",
       "stream": "stdout",
       "text": [
        "\n",
        "[ 0.02  0.11  0.01  0.04  0.02  0.06  0.01  0.01  0.68  0.04]"
       ]
      },
      {
       "output_type": "stream",
       "stream": "stdout",
       "text": [
        "\n",
        "[ 0.01  0.02  0.    0.01  0.03  0.    0.    0.07  0.    0.86]"
       ]
      },
      {
       "output_type": "stream",
       "stream": "stdout",
       "text": [
        "\n",
        "Start testing...\n",
        "Finding mean for k=40..."
       ]
      },
      {
       "output_type": "stream",
       "stream": "stdout",
       "text": [
        "\n",
        "[ 0.93  0.04  0.    0.    0.    0.01  0.01  0.    0.    0.  ]"
       ]
      },
      {
       "output_type": "stream",
       "stream": "stdout",
       "text": [
        "\n",
        "[ 0.    0.99  0.    0.    0.    0.    0.    0.    0.    0.  ]"
       ]
      },
      {
       "output_type": "stream",
       "stream": "stdout",
       "text": [
        "\n",
        "[ 0.04  0.16  0.66  0.05  0.02  0.01  0.01  0.04  0.01  0.01]"
       ]
      },
      {
       "output_type": "stream",
       "stream": "stdout",
       "text": [
        "\n",
        "[ 0.01  0.11  0.01  0.73  0.01  0.05  0.    0.04  0.01  0.02]"
       ]
      },
      {
       "output_type": "stream",
       "stream": "stdout",
       "text": [
        "\n",
        "[ 0.    0.09  0.01  0.    0.75  0.    0.01  0.03  0.    0.12]"
       ]
      },
      {
       "output_type": "stream",
       "stream": "stdout",
       "text": [
        "\n",
        "[ 0.02  0.09  0.    0.07  0.02  0.71  0.02  0.01  0.03  0.03]"
       ]
      },
      {
       "output_type": "stream",
       "stream": "stdout",
       "text": [
        "\n",
        "[ 0.03  0.04  0.    0.    0.01  0.01  0.91  0.    0.    0.  ]"
       ]
      },
      {
       "output_type": "stream",
       "stream": "stdout",
       "text": [
        "\n",
        "[ 0.    0.05  0.    0.    0.02  0.    0.    0.85  0.    0.07]"
       ]
      },
      {
       "output_type": "stream",
       "stream": "stdout",
       "text": [
        "\n",
        "[ 0.03  0.17  0.01  0.05  0.02  0.06  0.01  0.01  0.59  0.05]"
       ]
      },
      {
       "output_type": "stream",
       "stream": "stdout",
       "text": [
        "\n",
        "[ 0.01  0.03  0.    0.01  0.04  0.    0.    0.09  0.    0.82]"
       ]
      },
      {
       "output_type": "stream",
       "stream": "stdout",
       "text": [
        "\n",
        "Start testing...\n",
        "[array([ 0.06286963,  0.06286963]), array([ 0.06364104,  0.05712694]), array([ 0.06488386,  0.05961258]), array([ 0.06942659,  0.06076969]), array([ 0.07302648,  0.06098397]), array([ 0.07585498,  0.06359818]), array([ 0.0926545 ,  0.07174081]), array([ 0.12402503,  0.08378332])]"
       ]
      },
      {
       "output_type": "stream",
       "stream": "stdout",
       "text": [
        "\n",
        "== Fold 1 ==\n",
        "Fitting model..."
       ]
      },
      {
       "output_type": "stream",
       "stream": "stdout",
       "text": [
        "\n",
        "Finding mean for k=1..."
       ]
      },
      {
       "output_type": "stream",
       "stream": "stdout",
       "text": [
        "\n",
        "[ 1.  0.  0.  0.  0.  0.  0.  0.  0.  0.]"
       ]
      },
      {
       "output_type": "stream",
       "stream": "stdout",
       "text": [
        "\n",
        "[ 0.  1.  0.  0.  0.  0.  0.  0.  0.  0.]"
       ]
      },
      {
       "output_type": "stream",
       "stream": "stdout",
       "text": [
        "\n",
        "[ 0.  0.  1.  0.  0.  0.  0.  0.  0.  0.]"
       ]
      },
      {
       "output_type": "stream",
       "stream": "stdout",
       "text": [
        "\n",
        "[ 0.  0.  0.  1.  0.  0.  0.  0.  0.  0.]"
       ]
      },
      {
       "output_type": "stream",
       "stream": "stdout",
       "text": [
        "\n",
        "[ 0.  0.  0.  0.  1.  0.  0.  0.  0.  0.]"
       ]
      },
      {
       "output_type": "stream",
       "stream": "stdout",
       "text": [
        "\n",
        "[ 0.  0.  0.  0.  0.  1.  0.  0.  0.  0.]"
       ]
      },
      {
       "output_type": "stream",
       "stream": "stdout",
       "text": [
        "\n",
        "[ 0.  0.  0.  0.  0.  0.  1.  0.  0.  0.]"
       ]
      },
      {
       "output_type": "stream",
       "stream": "stdout",
       "text": [
        "\n",
        "[ 0.  0.  0.  0.  0.  0.  0.  1.  0.  0.]"
       ]
      },
      {
       "output_type": "stream",
       "stream": "stdout",
       "text": [
        "\n",
        "[ 0.  0.  0.  0.  0.  0.  0.  0.  1.  0.]"
       ]
      },
      {
       "output_type": "stream",
       "stream": "stdout",
       "text": [
        "\n",
        "[ 0.  0.  0.  0.  0.  0.  0.  0.  0.  1.]"
       ]
      },
      {
       "output_type": "stream",
       "stream": "stdout",
       "text": [
        "\n",
        "Start testing...\n",
        "Finding mean for k=3..."
       ]
      },
      {
       "output_type": "stream",
       "stream": "stdout",
       "text": [
        "\n",
        "[ 0.99  0.    0.    0.    0.    0.    0.    0.    0.    0.  ]"
       ]
      },
      {
       "output_type": "stream",
       "stream": "stdout",
       "text": [
        "\n",
        "[ 0.    0.99  0.    0.    0.    0.    0.    0.    0.    0.  ]"
       ]
      },
      {
       "output_type": "stream",
       "stream": "stdout",
       "text": [
        "\n",
        "[ 0.01  0.02  0.93  0.01  0.    0.    0.    0.01  0.    0.  ]"
       ]
      },
      {
       "output_type": "stream",
       "stream": "stdout",
       "text": [
        "\n",
        "[ 0.    0.01  0.    0.94  0.    0.02  0.    0.01  0.01  0.  ]"
       ]
      },
      {
       "output_type": "stream",
       "stream": "stdout",
       "text": [
        "\n",
        "[ 0.    0.02  0.    0.    0.94  0.    0.    0.01  0.    0.03]"
       ]
      },
      {
       "output_type": "stream",
       "stream": "stdout",
       "text": [
        "\n",
        "[ 0.01  0.01  0.    0.02  0.    0.93  0.01  0.    0.01  0.01]"
       ]
      },
      {
       "output_type": "stream",
       "stream": "stdout",
       "text": [
        "\n",
        "[ 0.01  0.    0.    0.    0.    0.01  0.98  0.    0.    0.  ]"
       ]
      },
      {
       "output_type": "stream",
       "stream": "stdout",
       "text": [
        "\n",
        "[ 0.    0.01  0.    0.    0.01  0.    0.    0.96  0.    0.02]"
       ]
      },
      {
       "output_type": "stream",
       "stream": "stdout",
       "text": [
        "\n",
        "[ 0.01  0.03  0.01  0.02  0.01  0.03  0.    0.    0.89  0.02]"
       ]
      },
      {
       "output_type": "stream",
       "stream": "stdout",
       "text": [
        "\n",
        "[ 0.    0.    0.    0.    0.01  0.    0.    0.02  0.    0.95]"
       ]
      },
      {
       "output_type": "stream",
       "stream": "stdout",
       "text": [
        "\n",
        "Start testing...\n",
        "Finding mean for k=5..."
       ]
      },
      {
       "output_type": "stream",
       "stream": "stdout",
       "text": [
        "\n",
        "[ 0.98  0.    0.    0.    0.    0.    0.01  0.    0.    0.  ]"
       ]
      },
      {
       "output_type": "stream",
       "stream": "stdout",
       "text": [
        "\n",
        "[ 0.    0.99  0.    0.    0.    0.    0.    0.    0.    0.  ]"
       ]
      },
      {
       "output_type": "stream",
       "stream": "stdout",
       "text": [
        "\n",
        "[ 0.02  0.03  0.89  0.02  0.01  0.    0.    0.02  0.01  0.  ]"
       ]
      },
      {
       "output_type": "stream",
       "stream": "stdout",
       "text": [
        "\n",
        "[ 0.    0.02  0.01  0.91  0.    0.03  0.    0.01  0.01  0.01]"
       ]
      },
      {
       "output_type": "stream",
       "stream": "stdout",
       "text": [
        "\n",
        "[ 0.    0.02  0.    0.    0.92  0.    0.    0.01  0.    0.05]"
       ]
      },
      {
       "output_type": "stream",
       "stream": "stdout",
       "text": [
        "\n",
        "[ 0.01  0.01  0.    0.03  0.    0.9   0.02  0.    0.01  0.01]"
       ]
      },
      {
       "output_type": "stream",
       "stream": "stdout",
       "text": [
        "\n",
        "[ 0.01  0.01  0.    0.    0.    0.01  0.97  0.    0.    0.  ]"
       ]
      },
      {
       "output_type": "stream",
       "stream": "stdout",
       "text": [
        "\n",
        "[ 0.    0.01  0.    0.    0.01  0.    0.    0.94  0.    0.03]"
       ]
      },
      {
       "output_type": "stream",
       "stream": "stdout",
       "text": [
        "\n",
        "[ 0.01  0.04  0.01  0.02  0.01  0.04  0.01  0.01  0.83  0.02]"
       ]
      },
      {
       "output_type": "stream",
       "stream": "stdout",
       "text": [
        "\n",
        "[ 0.    0.01  0.    0.    0.02  0.    0.    0.03  0.    0.93]"
       ]
      },
      {
       "output_type": "stream",
       "stream": "stdout",
       "text": [
        "\n",
        "Start testing...\n",
        "Finding mean for k=7..."
       ]
      },
      {
       "output_type": "stream",
       "stream": "stdout",
       "text": [
        "\n",
        "[ 0.98  0.    0.    0.    0.    0.    0.01  0.    0.    0.  ]"
       ]
      },
      {
       "output_type": "stream",
       "stream": "stdout",
       "text": [
        "\n",
        "[ 0.    0.99  0.    0.    0.    0.    0.    0.    0.    0.  ]"
       ]
      },
      {
       "output_type": "stream",
       "stream": "stdout",
       "text": [
        "\n",
        "[ 0.02  0.04  0.87  0.02  0.01  0.    0.01  0.02  0.01  0.  ]"
       ]
      },
      {
       "output_type": "stream",
       "stream": "stdout",
       "text": [
        "\n",
        "[ 0.01  0.02  0.01  0.89  0.    0.03  0.    0.02  0.01  0.01]"
       ]
      },
      {
       "output_type": "stream",
       "stream": "stdout",
       "text": [
        "\n",
        "[ 0.    0.03  0.    0.    0.9   0.    0.    0.01  0.    0.06]"
       ]
      },
      {
       "output_type": "stream",
       "stream": "stdout",
       "text": [
        "\n",
        "[ 0.01  0.02  0.    0.04  0.01  0.87  0.02  0.    0.02  0.01]"
       ]
      },
      {
       "output_type": "stream",
       "stream": "stdout",
       "text": [
        "\n",
        "[ 0.01  0.01  0.    0.    0.    0.01  0.96  0.    0.    0.  ]"
       ]
      },
      {
       "output_type": "stream",
       "stream": "stdout",
       "text": [
        "\n",
        "[ 0.    0.02  0.    0.    0.01  0.    0.    0.93  0.    0.03]"
       ]
      },
      {
       "output_type": "stream",
       "stream": "stdout",
       "text": [
        "\n",
        "[ 0.02  0.05  0.01  0.03  0.01  0.04  0.01  0.01  0.8   0.03]"
       ]
      },
      {
       "output_type": "stream",
       "stream": "stdout",
       "text": [
        "\n",
        "[ 0.    0.01  0.    0.01  0.02  0.    0.    0.04  0.    0.91]"
       ]
      },
      {
       "output_type": "stream",
       "stream": "stdout",
       "text": [
        "\n",
        "Start testing...\n",
        "Finding mean for k=9..."
       ]
      },
      {
       "output_type": "stream",
       "stream": "stdout",
       "text": [
        "\n",
        "[ 0.98  0.01  0.    0.    0.    0.    0.01  0.    0.    0.  ]"
       ]
      },
      {
       "output_type": "stream",
       "stream": "stdout",
       "text": [
        "\n",
        "[ 0.    0.99  0.    0.    0.    0.    0.    0.    0.    0.  ]"
       ]
      },
      {
       "output_type": "stream",
       "stream": "stdout",
       "text": [
        "\n",
        "[ 0.03  0.05  0.85  0.02  0.01  0.    0.01  0.02  0.01  0.01]"
       ]
      },
      {
       "output_type": "stream",
       "stream": "stdout",
       "text": [
        "\n",
        "[ 0.01  0.03  0.01  0.88  0.    0.04  0.    0.02  0.01  0.01]"
       ]
      },
      {
       "output_type": "stream",
       "stream": "stdout",
       "text": [
        "\n",
        "[ 0.    0.03  0.    0.    0.88  0.    0.    0.01  0.    0.06]"
       ]
      },
      {
       "output_type": "stream",
       "stream": "stdout",
       "text": [
        "\n",
        "[ 0.01  0.02  0.    0.05  0.01  0.85  0.02  0.01  0.02  0.02]"
       ]
      },
      {
       "output_type": "stream",
       "stream": "stdout",
       "text": [
        "\n",
        "[ 0.01  0.01  0.    0.    0.    0.01  0.96  0.    0.    0.  ]"
       ]
      },
      {
       "output_type": "stream",
       "stream": "stdout",
       "text": [
        "\n",
        "[ 0.    0.02  0.    0.    0.01  0.    0.    0.92  0.    0.04]"
       ]
      },
      {
       "output_type": "stream",
       "stream": "stdout",
       "text": [
        "\n",
        "[ 0.02  0.06  0.01  0.03  0.01  0.05  0.01  0.01  0.77  0.03]"
       ]
      },
      {
       "output_type": "stream",
       "stream": "stdout",
       "text": [
        "\n",
        "[ 0.    0.01  0.    0.01  0.03  0.    0.    0.05  0.    0.9 ]"
       ]
      },
      {
       "output_type": "stream",
       "stream": "stdout",
       "text": [
        "\n",
        "Start testing...\n",
        "Finding mean for k=11..."
       ]
      },
      {
       "output_type": "stream",
       "stream": "stdout",
       "text": [
        "\n",
        "[ 0.97  0.01  0.    0.    0.    0.    0.01  0.    0.    0.  ]"
       ]
      },
      {
       "output_type": "stream",
       "stream": "stdout",
       "text": [
        "\n",
        "[ 0.    0.99  0.    0.    0.    0.    0.    0.    0.    0.  ]"
       ]
      },
      {
       "output_type": "stream",
       "stream": "stdout",
       "text": [
        "\n",
        "[ 0.03  0.06  0.83  0.03  0.01  0.    0.01  0.03  0.01  0.01]"
       ]
      },
      {
       "output_type": "stream",
       "stream": "stdout",
       "text": [
        "\n",
        "[ 0.01  0.03  0.01  0.86  0.    0.04  0.    0.02  0.01  0.01]"
       ]
      },
      {
       "output_type": "stream",
       "stream": "stdout",
       "text": [
        "\n",
        "[ 0.    0.04  0.    0.    0.86  0.    0.    0.01  0.    0.07]"
       ]
      },
      {
       "output_type": "stream",
       "stream": "stdout",
       "text": [
        "\n",
        "[ 0.01  0.03  0.    0.05  0.01  0.84  0.02  0.01  0.02  0.02]"
       ]
      },
      {
       "output_type": "stream",
       "stream": "stdout",
       "text": [
        "\n",
        "[ 0.02  0.01  0.    0.    0.    0.01  0.95  0.    0.    0.  ]"
       ]
      },
      {
       "output_type": "stream",
       "stream": "stdout",
       "text": [
        "\n",
        "[ 0.    0.02  0.    0.    0.01  0.    0.    0.92  0.    0.04]"
       ]
      },
      {
       "output_type": "stream",
       "stream": "stdout",
       "text": [
        "\n",
        "[ 0.02  0.07  0.01  0.03  0.01  0.05  0.01  0.01  0.75  0.03]"
       ]
      },
      {
       "output_type": "stream",
       "stream": "stdout",
       "text": [
        "\n",
        "[ 0.    0.01  0.    0.01  0.03  0.    0.    0.05  0.    0.89]"
       ]
      },
      {
       "output_type": "stream",
       "stream": "stdout",
       "text": [
        "\n",
        "Start testing...\n",
        "Finding mean for k=20..."
       ]
      },
      {
       "output_type": "stream",
       "stream": "stdout",
       "text": [
        "\n",
        "[ 0.96  0.02  0.    0.    0.    0.01  0.01  0.    0.    0.  ]"
       ]
      },
      {
       "output_type": "stream",
       "stream": "stdout",
       "text": [
        "\n",
        "[ 0.    0.99  0.    0.    0.    0.    0.    0.    0.    0.  ]"
       ]
      },
      {
       "output_type": "stream",
       "stream": "stdout",
       "text": [
        "\n",
        "[ 0.03  0.1   0.76  0.04  0.01  0.    0.01  0.03  0.01  0.01]"
       ]
      },
      {
       "output_type": "stream",
       "stream": "stdout",
       "text": [
        "\n",
        "[ 0.01  0.06  0.01  0.81  0.    0.04  0.    0.03  0.01  0.02]"
       ]
      },
      {
       "output_type": "stream",
       "stream": "stdout",
       "text": [
        "\n",
        "[ 0.    0.06  0.    0.    0.82  0.    0.    0.02  0.    0.09]"
       ]
      },
      {
       "output_type": "stream",
       "stream": "stdout",
       "text": [
        "\n",
        "[ 0.01  0.05  0.    0.06  0.01  0.79  0.02  0.01  0.03  0.02]"
       ]
      },
      {
       "output_type": "stream",
       "stream": "stdout",
       "text": [
        "\n",
        "[ 0.02  0.02  0.    0.    0.    0.01  0.94  0.    0.    0.  ]"
       ]
      },
      {
       "output_type": "stream",
       "stream": "stdout",
       "text": [
        "\n",
        "[ 0.    0.03  0.    0.    0.02  0.    0.    0.89  0.    0.06]"
       ]
      },
      {
       "output_type": "stream",
       "stream": "stdout",
       "text": [
        "\n",
        "[ 0.02  0.11  0.01  0.04  0.02  0.06  0.01  0.01  0.68  0.04]"
       ]
      },
      {
       "output_type": "stream",
       "stream": "stdout",
       "text": [
        "\n",
        "[ 0.01  0.02  0.    0.01  0.04  0.    0.    0.07  0.    0.86]"
       ]
      },
      {
       "output_type": "stream",
       "stream": "stdout",
       "text": [
        "\n",
        "Start testing...\n",
        "Finding mean for k=40..."
       ]
      },
      {
       "output_type": "stream",
       "stream": "stdout",
       "text": [
        "\n",
        "[ 0.93  0.04  0.    0.    0.    0.01  0.01  0.    0.    0.  ]"
       ]
      },
      {
       "output_type": "stream",
       "stream": "stdout",
       "text": [
        "\n",
        "[ 0.    0.99  0.    0.    0.    0.    0.    0.    0.    0.  ]"
       ]
      },
      {
       "output_type": "stream",
       "stream": "stdout",
       "text": [
        "\n",
        "[ 0.04  0.16  0.66  0.05  0.02  0.01  0.01  0.04  0.01  0.01]"
       ]
      },
      {
       "output_type": "stream",
       "stream": "stdout",
       "text": [
        "\n",
        "[ 0.01  0.11  0.01  0.74  0.01  0.05  0.    0.03  0.01  0.02]"
       ]
      },
      {
       "output_type": "stream",
       "stream": "stdout",
       "text": [
        "\n",
        "[ 0.    0.09  0.01  0.    0.75  0.    0.    0.03  0.    0.12]"
       ]
      },
      {
       "output_type": "stream",
       "stream": "stdout",
       "text": [
        "\n",
        "[ 0.02  0.09  0.    0.07  0.02  0.71  0.02  0.01  0.03  0.03]"
       ]
      },
      {
       "output_type": "stream",
       "stream": "stdout",
       "text": [
        "\n",
        "[ 0.02  0.04  0.    0.    0.01  0.01  0.9   0.    0.    0.  ]"
       ]
      },
      {
       "output_type": "stream",
       "stream": "stdout",
       "text": [
        "\n",
        "[ 0.    0.05  0.    0.    0.02  0.    0.    0.85  0.    0.07]"
       ]
      },
      {
       "output_type": "stream",
       "stream": "stdout",
       "text": [
        "\n",
        "[ 0.03  0.17  0.01  0.04  0.02  0.06  0.01  0.01  0.59  0.05]"
       ]
      },
      {
       "output_type": "stream",
       "stream": "stdout",
       "text": [
        "\n",
        "[ 0.01  0.03  0.    0.01  0.05  0.    0.    0.09  0.    0.82]"
       ]
      },
      {
       "output_type": "stream",
       "stream": "stdout",
       "text": [
        "\n",
        "Start testing...\n",
        "[array([ 0.06261518,  0.06261518]), array([ 0.06308662,  0.05854369]), array([ 0.06407234,  0.059658  ]), array([ 0.069901  ,  0.06111516]), array([ 0.07144388,  0.06175803]), array([ 0.07500107,  0.06432949]), array([ 0.09205846,  0.07170102]), array([ 0.12300176,  0.08468692])]"
       ]
      },
      {
       "output_type": "stream",
       "stream": "stdout",
       "text": [
        "\n",
        "== Fold 2 ==\n",
        "Fitting model..."
       ]
      },
      {
       "output_type": "stream",
       "stream": "stdout",
       "text": [
        "\n",
        "Finding mean for k=1..."
       ]
      },
      {
       "output_type": "stream",
       "stream": "stdout",
       "text": [
        "\n",
        "[ 1.  0.  0.  0.  0.  0.  0.  0.  0.  0.]"
       ]
      },
      {
       "output_type": "stream",
       "stream": "stdout",
       "text": [
        "\n",
        "[ 0.  1.  0.  0.  0.  0.  0.  0.  0.  0.]"
       ]
      },
      {
       "output_type": "stream",
       "stream": "stdout",
       "text": [
        "\n",
        "[ 0.  0.  1.  0.  0.  0.  0.  0.  0.  0.]"
       ]
      },
      {
       "output_type": "stream",
       "stream": "stdout",
       "text": [
        "\n",
        "[ 0.  0.  0.  1.  0.  0.  0.  0.  0.  0.]"
       ]
      },
      {
       "output_type": "stream",
       "stream": "stdout",
       "text": [
        "\n",
        "[ 0.  0.  0.  0.  1.  0.  0.  0.  0.  0.]"
       ]
      },
      {
       "output_type": "stream",
       "stream": "stdout",
       "text": [
        "\n",
        "[ 0.  0.  0.  0.  0.  1.  0.  0.  0.  0.]"
       ]
      },
      {
       "output_type": "stream",
       "stream": "stdout",
       "text": [
        "\n",
        "[ 0.  0.  0.  0.  0.  0.  1.  0.  0.  0.]"
       ]
      },
      {
       "output_type": "stream",
       "stream": "stdout",
       "text": [
        "\n",
        "[ 0.  0.  0.  0.  0.  0.  0.  1.  0.  0.]"
       ]
      },
      {
       "output_type": "stream",
       "stream": "stdout",
       "text": [
        "\n",
        "[ 0.  0.  0.  0.  0.  0.  0.  0.  1.  0.]"
       ]
      },
      {
       "output_type": "stream",
       "stream": "stdout",
       "text": [
        "\n",
        "[ 0.  0.  0.  0.  0.  0.  0.  0.  0.  1.]"
       ]
      },
      {
       "output_type": "stream",
       "stream": "stdout",
       "text": [
        "\n",
        "Start testing...\n",
        "Finding mean for k=3..."
       ]
      },
      {
       "output_type": "stream",
       "stream": "stdout",
       "text": [
        "\n",
        "[ 0.99  0.    0.    0.    0.    0.    0.    0.    0.    0.  ]"
       ]
      },
      {
       "output_type": "stream",
       "stream": "stdout",
       "text": [
        "\n",
        "[ 0.  1.  0.  0.  0.  0.  0.  0.  0.  0.]"
       ]
      },
      {
       "output_type": "stream",
       "stream": "stdout",
       "text": [
        "\n",
        "[ 0.01  0.02  0.93  0.01  0.    0.    0.    0.01  0.    0.  ]"
       ]
      },
      {
       "output_type": "stream",
       "stream": "stdout",
       "text": [
        "\n",
        "[ 0.    0.01  0.01  0.94  0.    0.02  0.    0.01  0.01  0.  ]"
       ]
      },
      {
       "output_type": "stream",
       "stream": "stdout",
       "text": [
        "\n",
        "[ 0.    0.02  0.    0.    0.94  0.    0.    0.01  0.    0.03]"
       ]
      },
      {
       "output_type": "stream",
       "stream": "stdout",
       "text": [
        "\n",
        "[ 0.    0.01  0.    0.02  0.    0.93  0.01  0.    0.01  0.01]"
       ]
      },
      {
       "output_type": "stream",
       "stream": "stdout",
       "text": [
        "\n",
        "[ 0.01  0.    0.    0.    0.    0.    0.98  0.    0.    0.  ]"
       ]
      },
      {
       "output_type": "stream",
       "stream": "stdout",
       "text": [
        "\n",
        "[ 0.    0.01  0.    0.    0.01  0.    0.    0.96  0.    0.02]"
       ]
      },
      {
       "output_type": "stream",
       "stream": "stdout",
       "text": [
        "\n",
        "[ 0.01  0.02  0.    0.02  0.01  0.03  0.    0.    0.89  0.02]"
       ]
      },
      {
       "output_type": "stream",
       "stream": "stdout",
       "text": [
        "\n",
        "[ 0.    0.    0.    0.    0.01  0.    0.    0.02  0.    0.95]"
       ]
      },
      {
       "output_type": "stream",
       "stream": "stdout",
       "text": [
        "\n",
        "Start testing...\n",
        "Finding mean for k=5..."
       ]
      },
      {
       "output_type": "stream",
       "stream": "stdout",
       "text": [
        "\n",
        "[ 0.98  0.    0.    0.    0.    0.    0.    0.    0.    0.  ]"
       ]
      },
      {
       "output_type": "stream",
       "stream": "stdout",
       "text": [
        "\n",
        "[ 0.    0.99  0.    0.    0.    0.    0.    0.    0.    0.  ]"
       ]
      },
      {
       "output_type": "stream",
       "stream": "stdout",
       "text": [
        "\n",
        "[ 0.02  0.03  0.9   0.02  0.01  0.    0.    0.02  0.01  0.  ]"
       ]
      },
      {
       "output_type": "stream",
       "stream": "stdout",
       "text": [
        "\n",
        "[ 0.    0.01  0.01  0.91  0.    0.03  0.    0.02  0.01  0.01]"
       ]
      },
      {
       "output_type": "stream",
       "stream": "stdout",
       "text": [
        "\n",
        "[ 0.    0.02  0.    0.    0.91  0.    0.    0.01  0.    0.04]"
       ]
      },
      {
       "output_type": "stream",
       "stream": "stdout",
       "text": [
        "\n",
        "[ 0.01  0.01  0.    0.03  0.01  0.9   0.02  0.    0.01  0.01]"
       ]
      },
      {
       "output_type": "stream",
       "stream": "stdout",
       "text": [
        "\n",
        "[ 0.01  0.01  0.    0.    0.    0.01  0.97  0.    0.    0.  ]"
       ]
      },
      {
       "output_type": "stream",
       "stream": "stdout",
       "text": [
        "\n",
        "[ 0.    0.01  0.    0.    0.01  0.    0.    0.94  0.    0.03]"
       ]
      },
      {
       "output_type": "stream",
       "stream": "stdout",
       "text": [
        "\n",
        "[ 0.02  0.04  0.01  0.02  0.01  0.04  0.01  0.01  0.84  0.02]"
       ]
      },
      {
       "output_type": "stream",
       "stream": "stdout",
       "text": [
        "\n",
        "[ 0.    0.    0.    0.01  0.02  0.    0.    0.03  0.    0.93]"
       ]
      },
      {
       "output_type": "stream",
       "stream": "stdout",
       "text": [
        "\n",
        "Start testing...\n",
        "Finding mean for k=7..."
       ]
      },
      {
       "output_type": "stream",
       "stream": "stdout",
       "text": [
        "\n",
        "[ 0.98  0.    0.    0.    0.    0.    0.01  0.    0.    0.  ]"
       ]
      },
      {
       "output_type": "stream",
       "stream": "stdout",
       "text": [
        "\n",
        "[ 0.    0.99  0.    0.    0.    0.    0.    0.    0.    0.  ]"
       ]
      },
      {
       "output_type": "stream",
       "stream": "stdout",
       "text": [
        "\n",
        "[ 0.02  0.04  0.87  0.02  0.01  0.    0.01  0.02  0.01  0.  ]"
       ]
      },
      {
       "output_type": "stream",
       "stream": "stdout",
       "text": [
        "\n",
        "[ 0.01  0.02  0.01  0.9   0.    0.03  0.    0.02  0.01  0.01]"
       ]
      },
      {
       "output_type": "stream",
       "stream": "stdout",
       "text": [
        "\n",
        "[ 0.    0.03  0.    0.    0.89  0.    0.    0.01  0.    0.05]"
       ]
      },
      {
       "output_type": "stream",
       "stream": "stdout",
       "text": [
        "\n",
        "[ 0.01  0.02  0.    0.04  0.01  0.87  0.02  0.01  0.02  0.01]"
       ]
      },
      {
       "output_type": "stream",
       "stream": "stdout",
       "text": [
        "\n",
        "[ 0.01  0.01  0.    0.    0.    0.01  0.97  0.    0.    0.  ]"
       ]
      },
      {
       "output_type": "stream",
       "stream": "stdout",
       "text": [
        "\n",
        "[ 0.    0.02  0.    0.    0.01  0.    0.    0.93  0.    0.03]"
       ]
      },
      {
       "output_type": "stream",
       "stream": "stdout",
       "text": [
        "\n",
        "[ 0.02  0.05  0.01  0.03  0.01  0.05  0.01  0.01  0.8   0.03]"
       ]
      },
      {
       "output_type": "stream",
       "stream": "stdout",
       "text": [
        "\n",
        "[ 0.    0.01  0.    0.01  0.02  0.    0.    0.04  0.    0.91]"
       ]
      },
      {
       "output_type": "stream",
       "stream": "stdout",
       "text": [
        "\n",
        "Start testing...\n",
        "Finding mean for k=9..."
       ]
      },
      {
       "output_type": "stream",
       "stream": "stdout",
       "text": [
        "\n",
        "[ 0.98  0.01  0.    0.    0.    0.    0.01  0.    0.    0.  ]"
       ]
      },
      {
       "output_type": "stream",
       "stream": "stdout",
       "text": [
        "\n",
        "[ 0.    0.99  0.    0.    0.    0.    0.    0.    0.    0.  ]"
       ]
      },
      {
       "output_type": "stream",
       "stream": "stdout",
       "text": [
        "\n",
        "[ 0.02  0.05  0.85  0.02  0.01  0.    0.01  0.02  0.01  0.01]"
       ]
      },
      {
       "output_type": "stream",
       "stream": "stdout",
       "text": [
        "\n",
        "[ 0.01  0.03  0.01  0.88  0.    0.03  0.    0.02  0.01  0.01]"
       ]
      },
      {
       "output_type": "stream",
       "stream": "stdout",
       "text": [
        "\n",
        "[ 0.    0.04  0.    0.    0.88  0.    0.    0.01  0.    0.06]"
       ]
      },
      {
       "output_type": "stream",
       "stream": "stdout",
       "text": [
        "\n",
        "[ 0.01  0.02  0.    0.04  0.01  0.85  0.02  0.01  0.02  0.02]"
       ]
      },
      {
       "output_type": "stream",
       "stream": "stdout",
       "text": [
        "\n",
        "[ 0.01  0.01  0.    0.    0.    0.01  0.96  0.    0.    0.  ]"
       ]
      },
      {
       "output_type": "stream",
       "stream": "stdout",
       "text": [
        "\n",
        "[ 0.    0.02  0.    0.    0.01  0.    0.    0.92  0.    0.04]"
       ]
      },
      {
       "output_type": "stream",
       "stream": "stdout",
       "text": [
        "\n",
        "[ 0.02  0.06  0.01  0.03  0.01  0.05  0.01  0.01  0.78  0.03]"
       ]
      },
      {
       "output_type": "stream",
       "stream": "stdout",
       "text": [
        "\n",
        "[ 0.    0.01  0.    0.01  0.03  0.    0.    0.05  0.    0.9 ]"
       ]
      },
      {
       "output_type": "stream",
       "stream": "stdout",
       "text": [
        "\n",
        "Start testing...\n",
        "Finding mean for k=11..."
       ]
      },
      {
       "output_type": "stream",
       "stream": "stdout",
       "text": [
        "\n",
        "[ 0.97  0.01  0.    0.    0.    0.    0.01  0.    0.    0.  ]"
       ]
      },
      {
       "output_type": "stream",
       "stream": "stdout",
       "text": [
        "\n",
        "[ 0.    0.99  0.    0.    0.    0.    0.    0.    0.    0.  ]"
       ]
      },
      {
       "output_type": "stream",
       "stream": "stdout",
       "text": [
        "\n",
        "[ 0.03  0.06  0.83  0.03  0.01  0.    0.01  0.02  0.01  0.01]"
       ]
      },
      {
       "output_type": "stream",
       "stream": "stdout",
       "text": [
        "\n",
        "[ 0.01  0.03  0.01  0.87  0.    0.04  0.    0.02  0.01  0.01]"
       ]
      },
      {
       "output_type": "stream",
       "stream": "stdout",
       "text": [
        "\n",
        "[ 0.    0.04  0.    0.    0.87  0.    0.    0.01  0.    0.07]"
       ]
      },
      {
       "output_type": "stream",
       "stream": "stdout",
       "text": [
        "\n",
        "[ 0.01  0.03  0.    0.05  0.01  0.84  0.02  0.01  0.02  0.02]"
       ]
      },
      {
       "output_type": "stream",
       "stream": "stdout",
       "text": [
        "\n",
        "[ 0.02  0.01  0.    0.    0.    0.01  0.96  0.    0.    0.  ]"
       ]
      },
      {
       "output_type": "stream",
       "stream": "stdout",
       "text": [
        "\n",
        "[ 0.    0.02  0.    0.    0.01  0.    0.    0.92  0.    0.04]"
       ]
      },
      {
       "output_type": "stream",
       "stream": "stdout",
       "text": [
        "\n",
        "[ 0.02  0.06  0.01  0.03  0.01  0.05  0.01  0.01  0.76  0.03]"
       ]
      },
      {
       "output_type": "stream",
       "stream": "stdout",
       "text": [
        "\n",
        "[ 0.01  0.01  0.    0.01  0.03  0.    0.    0.05  0.    0.89]"
       ]
      },
      {
       "output_type": "stream",
       "stream": "stdout",
       "text": [
        "\n",
        "Start testing...\n",
        "Finding mean for k=20..."
       ]
      },
      {
       "output_type": "stream",
       "stream": "stdout",
       "text": [
        "\n",
        "[ 0.96  0.02  0.    0.    0.    0.    0.01  0.    0.    0.  ]"
       ]
      },
      {
       "output_type": "stream",
       "stream": "stdout",
       "text": [
        "\n",
        "[ 0.    0.99  0.    0.    0.    0.    0.    0.    0.    0.  ]"
       ]
      },
      {
       "output_type": "stream",
       "stream": "stdout",
       "text": [
        "\n",
        "[ 0.03  0.09  0.76  0.04  0.01  0.    0.01  0.03  0.01  0.01]"
       ]
      },
      {
       "output_type": "stream",
       "stream": "stdout",
       "text": [
        "\n",
        "[ 0.01  0.05  0.01  0.82  0.    0.04  0.    0.03  0.01  0.01]"
       ]
      },
      {
       "output_type": "stream",
       "stream": "stdout",
       "text": [
        "\n",
        "[ 0.    0.06  0.    0.    0.82  0.    0.    0.02  0.    0.08]"
       ]
      },
      {
       "output_type": "stream",
       "stream": "stdout",
       "text": [
        "\n",
        "[ 0.01  0.05  0.    0.06  0.01  0.79  0.02  0.01  0.03  0.02]"
       ]
      },
      {
       "output_type": "stream",
       "stream": "stdout",
       "text": [
        "\n",
        "[ 0.02  0.02  0.    0.    0.    0.01  0.94  0.    0.    0.  ]"
       ]
      },
      {
       "output_type": "stream",
       "stream": "stdout",
       "text": [
        "\n",
        "[ 0.    0.03  0.    0.    0.02  0.    0.    0.89  0.    0.05]"
       ]
      },
      {
       "output_type": "stream",
       "stream": "stdout",
       "text": [
        "\n",
        "[ 0.03  0.1   0.01  0.04  0.02  0.06  0.01  0.01  0.68  0.04]"
       ]
      },
      {
       "output_type": "stream",
       "stream": "stdout",
       "text": [
        "\n",
        "[ 0.01  0.02  0.    0.01  0.04  0.    0.    0.07  0.    0.86]"
       ]
      },
      {
       "output_type": "stream",
       "stream": "stdout",
       "text": [
        "\n",
        "Start testing...\n",
        "Finding mean for k=40..."
       ]
      },
      {
       "output_type": "stream",
       "stream": "stdout",
       "text": [
        "\n",
        "[ 0.93  0.04  0.    0.    0.    0.01  0.01  0.    0.    0.  ]"
       ]
      },
      {
       "output_type": "stream",
       "stream": "stdout",
       "text": [
        "\n",
        "[ 0.    0.99  0.    0.    0.    0.    0.    0.    0.    0.  ]"
       ]
      },
      {
       "output_type": "stream",
       "stream": "stdout",
       "text": [
        "\n",
        "[ 0.04  0.15  0.67  0.05  0.02  0.01  0.01  0.04  0.01  0.01]"
       ]
      },
      {
       "output_type": "stream",
       "stream": "stdout",
       "text": [
        "\n",
        "[ 0.01  0.1   0.01  0.74  0.01  0.05  0.    0.04  0.01  0.02]"
       ]
      },
      {
       "output_type": "stream",
       "stream": "stdout",
       "text": [
        "\n",
        "[ 0.    0.1   0.    0.    0.75  0.    0.01  0.03  0.    0.11]"
       ]
      },
      {
       "output_type": "stream",
       "stream": "stdout",
       "text": [
        "\n",
        "[ 0.02  0.08  0.    0.07  0.02  0.71  0.03  0.01  0.03  0.03]"
       ]
      },
      {
       "output_type": "stream",
       "stream": "stdout",
       "text": [
        "\n",
        "[ 0.03  0.04  0.    0.    0.01  0.01  0.91  0.    0.    0.  ]"
       ]
      },
      {
       "output_type": "stream",
       "stream": "stdout",
       "text": [
        "\n",
        "[ 0.    0.05  0.    0.    0.02  0.    0.    0.85  0.    0.07]"
       ]
      },
      {
       "output_type": "stream",
       "stream": "stdout",
       "text": [
        "\n",
        "[ 0.03  0.16  0.01  0.04  0.02  0.06  0.01  0.01  0.59  0.05]"
       ]
      },
      {
       "output_type": "stream",
       "stream": "stdout",
       "text": [
        "\n",
        "[ 0.01  0.03  0.    0.01  0.04  0.    0.    0.09  0.    0.81]"
       ]
      },
      {
       "output_type": "stream",
       "stream": "stdout",
       "text": [
        "\n",
        "Start testing...\n",
        "[array([ 0.0627009,  0.0627009]), array([ 0.06780097,  0.06158659]), array([ 0.06917242,  0.06407234]), array([ 0.07251532,  0.06432949]), array([ 0.07530108,  0.06561522]), array([ 0.08040115,  0.06780097]), array([ 0.09497279,  0.07491536]), array([ 0.12677324,  0.08944413])]"
       ]
      },
      {
       "output_type": "stream",
       "stream": "stdout",
       "text": [
        "\n"
       ]
      },
      {
       "metadata": {},
       "output_type": "display_data",
       "png": "[encoded data removed]",
       "text": [
        "<matplotlib.figure.Figure at 0x124e65c0>"
       ]
      }
     ],
     "prompt_number": 12
    },
    {
     "cell_type": "code",
     "collapsed": false,
     "input": [
      "(ts_m,ts_sd,x) = run_experiment_fixed_P(3, transformed_data, mnist.target, alpha=1, bias=1e-2, metric='euclidean')\n",
      "plot_results(ts_m,ts_sd,x)"
     ],
     "language": "python",
     "metadata": {},
     "outputs": [
      {
       "output_type": "stream",
       "stream": "stdout",
       "text": [
        "== Fold 0 ==\n",
        "Fitting model..."
       ]
      },
      {
       "output_type": "stream",
       "stream": "stdout",
       "text": [
        "\n",
        "Finding mean for k=1..."
       ]
      },
      {
       "output_type": "stream",
       "stream": "stdout",
       "text": [
        "\n",
        "[ 1.  0.  0.  0.  0.  0.  0.  0.  0.  0.]"
       ]
      },
      {
       "output_type": "stream",
       "stream": "stdout",
       "text": [
        "\n",
        "[ 0.  1.  0.  0.  0.  0.  0.  0.  0.  0.]"
       ]
      },
      {
       "output_type": "stream",
       "stream": "stdout",
       "text": [
        "\n",
        "[ 0.  0.  1.  0.  0.  0.  0.  0.  0.  0.]"
       ]
      },
      {
       "output_type": "stream",
       "stream": "stdout",
       "text": [
        "\n",
        "[ 0.  0.  0.  1.  0.  0.  0.  0.  0.  0.]"
       ]
      },
      {
       "output_type": "stream",
       "stream": "stdout",
       "text": [
        "\n",
        "[ 0.  0.  0.  0.  1.  0.  0.  0.  0.  0.]"
       ]
      },
      {
       "output_type": "stream",
       "stream": "stdout",
       "text": [
        "\n",
        "[ 0.  0.  0.  0.  0.  1.  0.  0.  0.  0.]"
       ]
      },
      {
       "output_type": "stream",
       "stream": "stdout",
       "text": [
        "\n",
        "[ 0.  0.  0.  0.  0.  0.  1.  0.  0.  0.]"
       ]
      },
      {
       "output_type": "stream",
       "stream": "stdout",
       "text": [
        "\n",
        "[ 0.  0.  0.  0.  0.  0.  0.  1.  0.  0.]"
       ]
      },
      {
       "output_type": "stream",
       "stream": "stdout",
       "text": [
        "\n",
        "[ 0.  0.  0.  0.  0.  0.  0.  0.  1.  0.]"
       ]
      },
      {
       "output_type": "stream",
       "stream": "stdout",
       "text": [
        "\n",
        "[ 0.  0.  0.  0.  0.  0.  0.  0.  0.  1.]"
       ]
      },
      {
       "output_type": "stream",
       "stream": "stdout",
       "text": [
        "\n",
        "Start testing...\n",
        "Finding mean for k=3..."
       ]
      },
      {
       "output_type": "stream",
       "stream": "stdout",
       "text": [
        "\n",
        "[ 0.99  0.    0.    0.    0.    0.    0.    0.    0.    0.  ]"
       ]
      },
      {
       "output_type": "stream",
       "stream": "stdout",
       "text": [
        "\n",
        "[ 0.    0.99  0.    0.    0.    0.    0.    0.    0.    0.  ]"
       ]
      },
      {
       "output_type": "stream",
       "stream": "stdout",
       "text": [
        "\n",
        "[ 0.01  0.02  0.93  0.01  0.    0.    0.    0.01  0.01  0.  ]"
       ]
      },
      {
       "output_type": "stream",
       "stream": "stdout",
       "text": [
        "\n",
        "[ 0.    0.01  0.01  0.94  0.    0.02  0.    0.01  0.01  0.  ]"
       ]
      },
      {
       "output_type": "stream",
       "stream": "stdout",
       "text": [
        "\n",
        "[ 0.    0.01  0.    0.    0.94  0.    0.    0.01  0.    0.03]"
       ]
      },
      {
       "output_type": "stream",
       "stream": "stdout",
       "text": [
        "\n",
        "[ 0.    0.01  0.    0.03  0.01  0.92  0.01  0.    0.01  0.01]"
       ]
      },
      {
       "output_type": "stream",
       "stream": "stdout",
       "text": [
        "\n",
        "[ 0.01  0.    0.    0.    0.    0.    0.98  0.    0.    0.  ]"
       ]
      },
      {
       "output_type": "stream",
       "stream": "stdout",
       "text": [
        "\n",
        "[ 0.    0.01  0.    0.    0.01  0.    0.    0.96  0.    0.02]"
       ]
      },
      {
       "output_type": "stream",
       "stream": "stdout",
       "text": [
        "\n",
        "[ 0.01  0.03  0.01  0.02  0.01  0.03  0.    0.    0.88  0.01]"
       ]
      },
      {
       "output_type": "stream",
       "stream": "stdout",
       "text": [
        "\n",
        "[ 0.    0.    0.    0.    0.01  0.    0.    0.03  0.    0.94]"
       ]
      },
      {
       "output_type": "stream",
       "stream": "stdout",
       "text": [
        "\n",
        "Start testing...\n",
        "Finding mean for k=5..."
       ]
      },
      {
       "output_type": "stream",
       "stream": "stdout",
       "text": [
        "\n",
        "[ 0.98  0.    0.    0.    0.    0.    0.01  0.    0.    0.  ]"
       ]
      },
      {
       "output_type": "stream",
       "stream": "stdout",
       "text": [
        "\n",
        "[ 0.    0.99  0.    0.    0.    0.    0.    0.    0.    0.  ]"
       ]
      },
      {
       "output_type": "stream",
       "stream": "stdout",
       "text": [
        "\n",
        "[ 0.02  0.03  0.89  0.02  0.01  0.    0.    0.02  0.01  0.  ]"
       ]
      },
      {
       "output_type": "stream",
       "stream": "stdout",
       "text": [
        "\n",
        "[ 0.    0.01  0.01  0.91  0.    0.03  0.    0.02  0.01  0.01]"
       ]
      },
      {
       "output_type": "stream",
       "stream": "stdout",
       "text": [
        "\n",
        "[ 0.    0.02  0.    0.    0.91  0.    0.    0.01  0.    0.05]"
       ]
      },
      {
       "output_type": "stream",
       "stream": "stdout",
       "text": [
        "\n",
        "[ 0.01  0.01  0.    0.04  0.01  0.89  0.01  0.    0.01  0.01]"
       ]
      },
      {
       "output_type": "stream",
       "stream": "stdout",
       "text": [
        "\n",
        "[ 0.01  0.01  0.    0.    0.    0.01  0.97  0.    0.    0.  ]"
       ]
      },
      {
       "output_type": "stream",
       "stream": "stdout",
       "text": [
        "\n",
        "[ 0.    0.01  0.    0.    0.01  0.    0.    0.94  0.    0.03]"
       ]
      },
      {
       "output_type": "stream",
       "stream": "stdout",
       "text": [
        "\n",
        "[ 0.01  0.04  0.01  0.03  0.01  0.04  0.01  0.01  0.82  0.02]"
       ]
      },
      {
       "output_type": "stream",
       "stream": "stdout",
       "text": [
        "\n",
        "[ 0.    0.01  0.    0.01  0.02  0.    0.    0.04  0.    0.92]"
       ]
      },
      {
       "output_type": "stream",
       "stream": "stdout",
       "text": [
        "\n",
        "Start testing...\n",
        "Finding mean for k=7..."
       ]
      },
      {
       "output_type": "stream",
       "stream": "stdout",
       "text": [
        "\n",
        "[ 0.98  0.    0.    0.    0.    0.    0.01  0.    0.    0.  ]"
       ]
      },
      {
       "output_type": "stream",
       "stream": "stdout",
       "text": [
        "\n",
        "[ 0.    0.99  0.    0.    0.    0.    0.    0.    0.    0.  ]"
       ]
      },
      {
       "output_type": "stream",
       "stream": "stdout",
       "text": [
        "\n",
        "[ 0.02  0.04  0.86  0.03  0.01  0.    0.    0.02  0.01  0.  ]"
       ]
      },
      {
       "output_type": "stream",
       "stream": "stdout",
       "text": [
        "\n",
        "[ 0.01  0.02  0.01  0.89  0.    0.03  0.    0.02  0.01  0.01]"
       ]
      },
      {
       "output_type": "stream",
       "stream": "stdout",
       "text": [
        "\n",
        "[ 0.    0.03  0.    0.    0.89  0.    0.    0.01  0.    0.06]"
       ]
      },
      {
       "output_type": "stream",
       "stream": "stdout",
       "text": [
        "\n",
        "[ 0.01  0.01  0.    0.04  0.01  0.87  0.02  0.01  0.02  0.01]"
       ]
      },
      {
       "output_type": "stream",
       "stream": "stdout",
       "text": [
        "\n",
        "[ 0.01  0.01  0.    0.    0.    0.01  0.97  0.    0.    0.  ]"
       ]
      },
      {
       "output_type": "stream",
       "stream": "stdout",
       "text": [
        "\n",
        "[ 0.    0.02  0.    0.    0.01  0.    0.    0.93  0.    0.04]"
       ]
      },
      {
       "output_type": "stream",
       "stream": "stdout",
       "text": [
        "\n",
        "[ 0.02  0.05  0.01  0.03  0.01  0.05  0.01  0.01  0.79  0.02]"
       ]
      },
      {
       "output_type": "stream",
       "stream": "stdout",
       "text": [
        "\n",
        "[ 0.    0.01  0.    0.01  0.02  0.    0.    0.05  0.    0.91]"
       ]
      },
      {
       "output_type": "stream",
       "stream": "stdout",
       "text": [
        "\n",
        "Start testing...\n",
        "Finding mean for k=9..."
       ]
      },
      {
       "output_type": "stream",
       "stream": "stdout",
       "text": [
        "\n",
        "[ 0.98  0.    0.    0.    0.    0.    0.01  0.    0.    0.  ]"
       ]
      },
      {
       "output_type": "stream",
       "stream": "stdout",
       "text": [
        "\n",
        "[ 0.    0.99  0.    0.    0.    0.    0.    0.    0.    0.  ]"
       ]
      },
      {
       "output_type": "stream",
       "stream": "stdout",
       "text": [
        "\n",
        "[ 0.03  0.05  0.84  0.03  0.01  0.    0.    0.03  0.01  0.01]"
       ]
      },
      {
       "output_type": "stream",
       "stream": "stdout",
       "text": [
        "\n",
        "[ 0.01  0.02  0.01  0.88  0.    0.04  0.    0.02  0.01  0.01]"
       ]
      },
      {
       "output_type": "stream",
       "stream": "stdout",
       "text": [
        "\n",
        "[ 0.    0.03  0.    0.    0.87  0.    0.    0.01  0.    0.07]"
       ]
      },
      {
       "output_type": "stream",
       "stream": "stdout",
       "text": [
        "\n",
        "[ 0.01  0.02  0.    0.05  0.01  0.85  0.02  0.01  0.02  0.02]"
       ]
      },
      {
       "output_type": "stream",
       "stream": "stdout",
       "text": [
        "\n",
        "[ 0.02  0.01  0.    0.    0.    0.01  0.96  0.    0.    0.  ]"
       ]
      },
      {
       "output_type": "stream",
       "stream": "stdout",
       "text": [
        "\n",
        "[ 0.    0.02  0.    0.    0.01  0.    0.    0.92  0.    0.04]"
       ]
      },
      {
       "output_type": "stream",
       "stream": "stdout",
       "text": [
        "\n",
        "[ 0.02  0.06  0.01  0.03  0.01  0.05  0.01  0.01  0.76  0.03]"
       ]
      },
      {
       "output_type": "stream",
       "stream": "stdout",
       "text": [
        "\n",
        "[ 0.01  0.01  0.    0.01  0.02  0.    0.    0.05  0.    0.89]"
       ]
      },
      {
       "output_type": "stream",
       "stream": "stdout",
       "text": [
        "\n",
        "Start testing...\n",
        "Finding mean for k=11..."
       ]
      },
      {
       "output_type": "stream",
       "stream": "stdout",
       "text": [
        "\n",
        "[ 0.98  0.    0.    0.    0.    0.    0.01  0.    0.    0.  ]"
       ]
      },
      {
       "output_type": "stream",
       "stream": "stdout",
       "text": [
        "\n",
        "[ 0.    0.99  0.    0.    0.    0.    0.    0.    0.    0.  ]"
       ]
      },
      {
       "output_type": "stream",
       "stream": "stdout",
       "text": [
        "\n",
        "[ 0.03  0.06  0.81  0.03  0.01  0.    0.    0.03  0.01  0.01]"
       ]
      },
      {
       "output_type": "stream",
       "stream": "stdout",
       "text": [
        "\n",
        "[ 0.01  0.03  0.01  0.86  0.    0.04  0.    0.03  0.01  0.01]"
       ]
      },
      {
       "output_type": "stream",
       "stream": "stdout",
       "text": [
        "\n",
        "[ 0.    0.04  0.    0.    0.86  0.    0.    0.02  0.    0.07]"
       ]
      },
      {
       "output_type": "stream",
       "stream": "stdout",
       "text": [
        "\n",
        "[ 0.01  0.02  0.    0.05  0.01  0.84  0.02  0.01  0.02  0.02]"
       ]
      },
      {
       "output_type": "stream",
       "stream": "stdout",
       "text": [
        "\n",
        "[ 0.02  0.01  0.    0.    0.    0.01  0.96  0.    0.    0.  ]"
       ]
      },
      {
       "output_type": "stream",
       "stream": "stdout",
       "text": [
        "\n",
        "[ 0.    0.02  0.    0.    0.01  0.    0.    0.91  0.    0.05]"
       ]
      },
      {
       "output_type": "stream",
       "stream": "stdout",
       "text": [
        "\n",
        "[ 0.02  0.07  0.01  0.04  0.01  0.05  0.01  0.01  0.74  0.03]"
       ]
      },
      {
       "output_type": "stream",
       "stream": "stdout",
       "text": [
        "\n",
        "[ 0.01  0.01  0.    0.01  0.03  0.    0.    0.06  0.    0.89]"
       ]
      },
      {
       "output_type": "stream",
       "stream": "stdout",
       "text": [
        "\n",
        "Start testing...\n",
        "Finding mean for k=20..."
       ]
      },
      {
       "output_type": "stream",
       "stream": "stdout",
       "text": [
        "\n",
        "[ 0.97  0.01  0.    0.    0.    0.01  0.01  0.    0.    0.  ]"
       ]
      },
      {
       "output_type": "stream",
       "stream": "stdout",
       "text": [
        "\n",
        "[ 0.    0.99  0.    0.    0.    0.    0.    0.    0.    0.  ]"
       ]
      },
      {
       "output_type": "stream",
       "stream": "stdout",
       "text": [
        "\n",
        "[ 0.03  0.09  0.75  0.04  0.01  0.    0.01  0.03  0.01  0.01]"
       ]
      },
      {
       "output_type": "stream",
       "stream": "stdout",
       "text": [
        "\n",
        "[ 0.01  0.05  0.01  0.81  0.    0.05  0.    0.03  0.01  0.01]"
       ]
      },
      {
       "output_type": "stream",
       "stream": "stdout",
       "text": [
        "\n",
        "[ 0.    0.06  0.01  0.    0.81  0.    0.    0.02  0.    0.09]"
       ]
      },
      {
       "output_type": "stream",
       "stream": "stdout",
       "text": [
        "\n",
        "[ 0.01  0.04  0.    0.07  0.01  0.79  0.02  0.01  0.03  0.02]"
       ]
      },
      {
       "output_type": "stream",
       "stream": "stdout",
       "text": [
        "\n",
        "[ 0.02  0.02  0.    0.    0.    0.01  0.94  0.    0.    0.  ]"
       ]
      },
      {
       "output_type": "stream",
       "stream": "stdout",
       "text": [
        "\n",
        "[ 0.    0.03  0.    0.    0.02  0.    0.    0.88  0.    0.06]"
       ]
      },
      {
       "output_type": "stream",
       "stream": "stdout",
       "text": [
        "\n",
        "[ 0.02  0.11  0.01  0.04  0.02  0.06  0.01  0.01  0.67  0.04]"
       ]
      },
      {
       "output_type": "stream",
       "stream": "stdout",
       "text": [
        "\n",
        "[ 0.01  0.01  0.    0.01  0.03  0.    0.    0.08  0.    0.85]"
       ]
      },
      {
       "output_type": "stream",
       "stream": "stdout",
       "text": [
        "\n",
        "Start testing...\n",
        "Finding mean for k=40..."
       ]
      },
      {
       "output_type": "stream",
       "stream": "stdout",
       "text": [
        "\n",
        "[ 0.95  0.01  0.    0.    0.    0.01  0.01  0.    0.    0.  ]"
       ]
      },
      {
       "output_type": "stream",
       "stream": "stdout",
       "text": [
        "\n",
        "[ 0.    0.99  0.    0.    0.    0.    0.    0.    0.    0.  ]"
       ]
      },
      {
       "output_type": "stream",
       "stream": "stdout",
       "text": [
        "\n",
        "[ 0.04  0.15  0.65  0.06  0.02  0.01  0.01  0.04  0.01  0.01]"
       ]
      },
      {
       "output_type": "stream",
       "stream": "stdout",
       "text": [
        "\n",
        "[ 0.01  0.1   0.02  0.74  0.01  0.05  0.    0.04  0.01  0.02]"
       ]
      },
      {
       "output_type": "stream",
       "stream": "stdout",
       "text": [
        "\n",
        "[ 0.    0.09  0.01  0.    0.74  0.    0.    0.03  0.    0.12]"
       ]
      },
      {
       "output_type": "stream",
       "stream": "stdout",
       "text": [
        "\n",
        "[ 0.02  0.07  0.    0.08  0.02  0.71  0.02  0.01  0.03  0.03]"
       ]
      },
      {
       "output_type": "stream",
       "stream": "stdout",
       "text": [
        "\n",
        "[ 0.03  0.03  0.    0.    0.01  0.01  0.91  0.    0.    0.  ]"
       ]
      },
      {
       "output_type": "stream",
       "stream": "stdout",
       "text": [
        "\n",
        "[ 0.    0.05  0.    0.    0.02  0.    0.    0.85  0.    0.08]"
       ]
      },
      {
       "output_type": "stream",
       "stream": "stdout",
       "text": [
        "\n",
        "[ 0.03  0.16  0.01  0.05  0.02  0.06  0.01  0.01  0.58  0.05]"
       ]
      },
      {
       "output_type": "stream",
       "stream": "stdout",
       "text": [
        "\n",
        "[ 0.01  0.03  0.    0.01  0.04  0.    0.    0.1   0.    0.81]"
       ]
      },
      {
       "output_type": "stream",
       "stream": "stdout",
       "text": [
        "\n",
        "Start testing...\n",
        "[array([ 0.0655267,  0.0655267]), array([ 0.06616954,  0.06119825]), array([ 0.06848376,  0.0633839 ]), array([ 0.07101226,  0.06351247]), array([ 0.07572641,  0.06441245]), array([ 0.07928345,  0.06749807]), array([ 0.09479729,  0.07418359]), array([ 0.12389646,  0.08764035])]"
       ]
      },
      {
       "output_type": "stream",
       "stream": "stdout",
       "text": [
        "\n",
        "== Fold 1 ==\n",
        "Fitting model..."
       ]
      },
      {
       "output_type": "stream",
       "stream": "stdout",
       "text": [
        "\n",
        "Finding mean for k=1..."
       ]
      },
      {
       "output_type": "stream",
       "stream": "stdout",
       "text": [
        "\n",
        "[ 1.  0.  0.  0.  0.  0.  0.  0.  0.  0.]"
       ]
      },
      {
       "output_type": "stream",
       "stream": "stdout",
       "text": [
        "\n",
        "[ 0.  1.  0.  0.  0.  0.  0.  0.  0.  0.]"
       ]
      },
      {
       "output_type": "stream",
       "stream": "stdout",
       "text": [
        "\n",
        "[ 0.  0.  1.  0.  0.  0.  0.  0.  0.  0.]"
       ]
      },
      {
       "output_type": "stream",
       "stream": "stdout",
       "text": [
        "\n",
        "[ 0.  0.  0.  1.  0.  0.  0.  0.  0.  0.]"
       ]
      },
      {
       "output_type": "stream",
       "stream": "stdout",
       "text": [
        "\n",
        "[ 0.  0.  0.  0.  1.  0.  0.  0.  0.  0.]"
       ]
      },
      {
       "output_type": "stream",
       "stream": "stdout",
       "text": [
        "\n",
        "[ 0.  0.  0.  0.  0.  1.  0.  0.  0.  0.]"
       ]
      },
      {
       "output_type": "stream",
       "stream": "stdout",
       "text": [
        "\n",
        "[ 0.  0.  0.  0.  0.  0.  1.  0.  0.  0.]"
       ]
      },
      {
       "output_type": "stream",
       "stream": "stdout",
       "text": [
        "\n",
        "[ 0.  0.  0.  0.  0.  0.  0.  1.  0.  0.]"
       ]
      },
      {
       "output_type": "stream",
       "stream": "stdout",
       "text": [
        "\n",
        "[ 0.  0.  0.  0.  0.  0.  0.  0.  1.  0.]"
       ]
      },
      {
       "output_type": "stream",
       "stream": "stdout",
       "text": [
        "\n",
        "[ 0.  0.  0.  0.  0.  0.  0.  0.  0.  1.]"
       ]
      },
      {
       "output_type": "stream",
       "stream": "stdout",
       "text": [
        "\n",
        "Start testing...\n",
        "Finding mean for k=3..."
       ]
      },
      {
       "output_type": "stream",
       "stream": "stdout",
       "text": [
        "\n",
        "[ 0.99  0.    0.    0.    0.    0.    0.    0.    0.    0.  ]"
       ]
      },
      {
       "output_type": "stream",
       "stream": "stdout",
       "text": [
        "\n",
        "[ 0.    0.99  0.    0.    0.    0.    0.    0.    0.    0.  ]"
       ]
      },
      {
       "output_type": "stream",
       "stream": "stdout",
       "text": [
        "\n",
        "[ 0.01  0.02  0.93  0.01  0.    0.    0.    0.01  0.    0.  ]"
       ]
      },
      {
       "output_type": "stream",
       "stream": "stdout",
       "text": [
        "\n",
        "[ 0.    0.01  0.01  0.94  0.    0.02  0.    0.01  0.01  0.  ]"
       ]
      },
      {
       "output_type": "stream",
       "stream": "stdout",
       "text": [
        "\n",
        "[ 0.    0.02  0.    0.    0.94  0.    0.    0.01  0.    0.03]"
       ]
      },
      {
       "output_type": "stream",
       "stream": "stdout",
       "text": [
        "\n",
        "[ 0.01  0.01  0.    0.03  0.    0.93  0.01  0.    0.01  0.01]"
       ]
      },
      {
       "output_type": "stream",
       "stream": "stdout",
       "text": [
        "\n",
        "[ 0.01  0.    0.    0.    0.    0.01  0.98  0.    0.    0.  ]"
       ]
      },
      {
       "output_type": "stream",
       "stream": "stdout",
       "text": [
        "\n",
        "[ 0.    0.01  0.    0.    0.01  0.    0.    0.96  0.    0.02]"
       ]
      },
      {
       "output_type": "stream",
       "stream": "stdout",
       "text": [
        "\n",
        "[ 0.01  0.03  0.01  0.02  0.01  0.03  0.    0.    0.88  0.02]"
       ]
      },
      {
       "output_type": "stream",
       "stream": "stdout",
       "text": [
        "\n",
        "[ 0.    0.    0.    0.    0.01  0.    0.    0.03  0.    0.95]"
       ]
      },
      {
       "output_type": "stream",
       "stream": "stdout",
       "text": [
        "\n",
        "Start testing...\n",
        "Finding mean for k=5..."
       ]
      },
      {
       "output_type": "stream",
       "stream": "stdout",
       "text": [
        "\n",
        "[ 0.99  0.    0.    0.    0.    0.    0.01  0.    0.    0.  ]"
       ]
      },
      {
       "output_type": "stream",
       "stream": "stdout",
       "text": [
        "\n",
        "[ 0.    0.99  0.    0.    0.    0.    0.    0.    0.    0.  ]"
       ]
      },
      {
       "output_type": "stream",
       "stream": "stdout",
       "text": [
        "\n",
        "[ 0.02  0.03  0.89  0.02  0.01  0.    0.    0.02  0.01  0.  ]"
       ]
      },
      {
       "output_type": "stream",
       "stream": "stdout",
       "text": [
        "\n",
        "[ 0.    0.01  0.01  0.91  0.    0.03  0.    0.01  0.01  0.01]"
       ]
      },
      {
       "output_type": "stream",
       "stream": "stdout",
       "text": [
        "\n",
        "[ 0.    0.02  0.    0.    0.91  0.    0.    0.01  0.    0.05]"
       ]
      },
      {
       "output_type": "stream",
       "stream": "stdout",
       "text": [
        "\n",
        "[ 0.01  0.01  0.    0.04  0.    0.89  0.02  0.    0.01  0.01]"
       ]
      },
      {
       "output_type": "stream",
       "stream": "stdout",
       "text": [
        "\n",
        "[ 0.01  0.01  0.    0.    0.    0.01  0.97  0.    0.    0.  ]"
       ]
      },
      {
       "output_type": "stream",
       "stream": "stdout",
       "text": [
        "\n",
        "[ 0.    0.01  0.    0.    0.01  0.    0.    0.94  0.    0.03]"
       ]
      },
      {
       "output_type": "stream",
       "stream": "stdout",
       "text": [
        "\n",
        "[ 0.01  0.04  0.01  0.02  0.01  0.04  0.01  0.01  0.83  0.02]"
       ]
      },
      {
       "output_type": "stream",
       "stream": "stdout",
       "text": [
        "\n",
        "[ 0.    0.01  0.    0.    0.02  0.    0.    0.04  0.    0.92]"
       ]
      },
      {
       "output_type": "stream",
       "stream": "stdout",
       "text": [
        "\n",
        "Start testing...\n",
        "Finding mean for k=7..."
       ]
      },
      {
       "output_type": "stream",
       "stream": "stdout",
       "text": [
        "\n",
        "[ 0.98  0.    0.    0.    0.    0.    0.01  0.    0.    0.  ]"
       ]
      },
      {
       "output_type": "stream",
       "stream": "stdout",
       "text": [
        "\n",
        "[ 0.    0.99  0.    0.    0.    0.    0.    0.    0.    0.  ]"
       ]
      },
      {
       "output_type": "stream",
       "stream": "stdout",
       "text": [
        "\n",
        "[ 0.02  0.04  0.86  0.02  0.01  0.    0.    0.02  0.01  0.  ]"
       ]
      },
      {
       "output_type": "stream",
       "stream": "stdout",
       "text": [
        "\n",
        "[ 0.01  0.02  0.01  0.89  0.    0.03  0.    0.02  0.01  0.01]"
       ]
      },
      {
       "output_type": "stream",
       "stream": "stdout",
       "text": [
        "\n",
        "[ 0.    0.03  0.    0.    0.89  0.    0.    0.01  0.    0.06]"
       ]
      },
      {
       "output_type": "stream",
       "stream": "stdout",
       "text": [
        "\n",
        "[ 0.01  0.01  0.    0.04  0.01  0.87  0.02  0.    0.02  0.01]"
       ]
      },
      {
       "output_type": "stream",
       "stream": "stdout",
       "text": [
        "\n",
        "[ 0.01  0.01  0.    0.    0.    0.01  0.96  0.    0.    0.  ]"
       ]
      },
      {
       "output_type": "stream",
       "stream": "stdout",
       "text": [
        "\n",
        "[ 0.    0.02  0.    0.    0.01  0.    0.    0.93  0.    0.03]"
       ]
      },
      {
       "output_type": "stream",
       "stream": "stdout",
       "text": [
        "\n",
        "[ 0.02  0.05  0.01  0.03  0.01  0.05  0.01  0.01  0.79  0.03]"
       ]
      },
      {
       "output_type": "stream",
       "stream": "stdout",
       "text": [
        "\n",
        "[ 0.    0.01  0.    0.01  0.02  0.    0.    0.05  0.    0.91]"
       ]
      },
      {
       "output_type": "stream",
       "stream": "stdout",
       "text": [
        "\n",
        "Start testing...\n",
        "Finding mean for k=9..."
       ]
      },
      {
       "output_type": "stream",
       "stream": "stdout",
       "text": [
        "\n",
        "[ 0.98  0.    0.    0.    0.    0.    0.01  0.    0.    0.  ]"
       ]
      },
      {
       "output_type": "stream",
       "stream": "stdout",
       "text": [
        "\n",
        "[ 0.    0.99  0.    0.    0.    0.    0.    0.    0.    0.  ]"
       ]
      },
      {
       "output_type": "stream",
       "stream": "stdout",
       "text": [
        "\n",
        "[ 0.03  0.05  0.84  0.03  0.01  0.    0.    0.02  0.01  0.01]"
       ]
      },
      {
       "output_type": "stream",
       "stream": "stdout",
       "text": [
        "\n",
        "[ 0.01  0.02  0.01  0.88  0.    0.04  0.    0.02  0.01  0.01]"
       ]
      },
      {
       "output_type": "stream",
       "stream": "stdout",
       "text": [
        "\n",
        "[ 0.    0.03  0.    0.    0.87  0.    0.    0.01  0.    0.07]"
       ]
      },
      {
       "output_type": "stream",
       "stream": "stdout",
       "text": [
        "\n",
        "[ 0.01  0.02  0.    0.05  0.01  0.85  0.02  0.01  0.02  0.02]"
       ]
      },
      {
       "output_type": "stream",
       "stream": "stdout",
       "text": [
        "\n",
        "[ 0.02  0.01  0.    0.    0.    0.01  0.96  0.    0.    0.  ]"
       ]
      },
      {
       "output_type": "stream",
       "stream": "stdout",
       "text": [
        "\n",
        "[ 0.    0.02  0.    0.    0.01  0.    0.    0.92  0.    0.04]"
       ]
      },
      {
       "output_type": "stream",
       "stream": "stdout",
       "text": [
        "\n",
        "[ 0.02  0.06  0.01  0.03  0.01  0.05  0.01  0.01  0.77  0.03]"
       ]
      },
      {
       "output_type": "stream",
       "stream": "stdout",
       "text": [
        "\n",
        "[ 0.    0.01  0.    0.01  0.03  0.    0.    0.05  0.    0.9 ]"
       ]
      },
      {
       "output_type": "stream",
       "stream": "stdout",
       "text": [
        "\n",
        "Start testing...\n",
        "Finding mean for k=11..."
       ]
      },
      {
       "output_type": "stream",
       "stream": "stdout",
       "text": [
        "\n",
        "[ 0.98  0.    0.    0.    0.    0.    0.01  0.    0.    0.  ]"
       ]
      },
      {
       "output_type": "stream",
       "stream": "stdout",
       "text": [
        "\n",
        "[ 0.    0.99  0.    0.    0.    0.    0.    0.    0.    0.  ]"
       ]
      },
      {
       "output_type": "stream",
       "stream": "stdout",
       "text": [
        "\n",
        "[ 0.03  0.06  0.82  0.03  0.01  0.    0.01  0.03  0.01  0.01]"
       ]
      },
      {
       "output_type": "stream",
       "stream": "stdout",
       "text": [
        "\n",
        "[ 0.01  0.03  0.01  0.87  0.    0.04  0.    0.02  0.01  0.01]"
       ]
      },
      {
       "output_type": "stream",
       "stream": "stdout",
       "text": [
        "\n",
        "[ 0.    0.04  0.    0.    0.86  0.    0.    0.01  0.    0.07]"
       ]
      },
      {
       "output_type": "stream",
       "stream": "stdout",
       "text": [
        "\n",
        "[ 0.01  0.02  0.    0.05  0.01  0.84  0.02  0.01  0.02  0.02]"
       ]
      },
      {
       "output_type": "stream",
       "stream": "stdout",
       "text": [
        "\n",
        "[ 0.02  0.01  0.    0.    0.    0.01  0.95  0.    0.    0.  ]"
       ]
      },
      {
       "output_type": "stream",
       "stream": "stdout",
       "text": [
        "\n",
        "[ 0.    0.02  0.    0.    0.01  0.    0.    0.91  0.    0.04]"
       ]
      },
      {
       "output_type": "stream",
       "stream": "stdout",
       "text": [
        "\n",
        "[ 0.02  0.07  0.01  0.03  0.01  0.05  0.01  0.01  0.75  0.03]"
       ]
      },
      {
       "output_type": "stream",
       "stream": "stdout",
       "text": [
        "\n",
        "[ 0.    0.01  0.    0.01  0.03  0.    0.    0.06  0.    0.89]"
       ]
      },
      {
       "output_type": "stream",
       "stream": "stdout",
       "text": [
        "\n",
        "Start testing...\n",
        "Finding mean for k=20..."
       ]
      },
      {
       "output_type": "stream",
       "stream": "stdout",
       "text": [
        "\n",
        "[ 0.97  0.01  0.    0.    0.    0.01  0.01  0.    0.    0.  ]"
       ]
      },
      {
       "output_type": "stream",
       "stream": "stdout",
       "text": [
        "\n",
        "[ 0.    0.99  0.    0.    0.    0.    0.    0.    0.    0.  ]"
       ]
      },
      {
       "output_type": "stream",
       "stream": "stdout",
       "text": [
        "\n",
        "[ 0.04  0.09  0.75  0.04  0.01  0.    0.01  0.03  0.01  0.01]"
       ]
      },
      {
       "output_type": "stream",
       "stream": "stdout",
       "text": [
        "\n",
        "[ 0.01  0.05  0.01  0.82  0.    0.05  0.    0.03  0.01  0.01]"
       ]
      },
      {
       "output_type": "stream",
       "stream": "stdout",
       "text": [
        "\n",
        "[ 0.    0.06  0.    0.    0.81  0.    0.    0.02  0.    0.09]"
       ]
      },
      {
       "output_type": "stream",
       "stream": "stdout",
       "text": [
        "\n",
        "[ 0.01  0.04  0.    0.06  0.01  0.79  0.02  0.01  0.03  0.03]"
       ]
      },
      {
       "output_type": "stream",
       "stream": "stdout",
       "text": [
        "\n",
        "[ 0.02  0.02  0.    0.    0.    0.01  0.94  0.    0.    0.  ]"
       ]
      },
      {
       "output_type": "stream",
       "stream": "stdout",
       "text": [
        "\n",
        "[ 0.    0.03  0.    0.    0.02  0.    0.    0.89  0.    0.06]"
       ]
      },
      {
       "output_type": "stream",
       "stream": "stdout",
       "text": [
        "\n",
        "[ 0.02  0.11  0.01  0.04  0.02  0.06  0.01  0.01  0.68  0.04]"
       ]
      },
      {
       "output_type": "stream",
       "stream": "stdout",
       "text": [
        "\n",
        "[ 0.01  0.01  0.    0.01  0.04  0.    0.    0.07  0.    0.86]"
       ]
      },
      {
       "output_type": "stream",
       "stream": "stdout",
       "text": [
        "\n",
        "Start testing...\n",
        "Finding mean for k=40..."
       ]
      },
      {
       "output_type": "stream",
       "stream": "stdout",
       "text": [
        "\n",
        "[ 0.95  0.01  0.    0.    0.    0.01  0.01  0.    0.    0.  ]"
       ]
      },
      {
       "output_type": "stream",
       "stream": "stdout",
       "text": [
        "\n",
        "[ 0.    0.99  0.    0.    0.    0.    0.    0.    0.    0.  ]"
       ]
      },
      {
       "output_type": "stream",
       "stream": "stdout",
       "text": [
        "\n",
        "[ 0.04  0.15  0.66  0.06  0.02  0.01  0.01  0.04  0.01  0.01]"
       ]
      },
      {
       "output_type": "stream",
       "stream": "stdout",
       "text": [
        "\n",
        "[ 0.01  0.1   0.02  0.75  0.    0.05  0.    0.04  0.01  0.02]"
       ]
      },
      {
       "output_type": "stream",
       "stream": "stdout",
       "text": [
        "\n",
        "[ 0.    0.09  0.01  0.    0.74  0.    0.    0.03  0.    0.12]"
       ]
      },
      {
       "output_type": "stream",
       "stream": "stdout",
       "text": [
        "\n",
        "[ 0.02  0.07  0.    0.07  0.02  0.71  0.03  0.01  0.03  0.03]"
       ]
      },
      {
       "output_type": "stream",
       "stream": "stdout",
       "text": [
        "\n",
        "[ 0.03  0.03  0.    0.    0.01  0.01  0.91  0.    0.    0.  ]"
       ]
      },
      {
       "output_type": "stream",
       "stream": "stdout",
       "text": [
        "\n",
        "[ 0.    0.05  0.    0.    0.02  0.    0.    0.85  0.    0.08]"
       ]
      },
      {
       "output_type": "stream",
       "stream": "stdout",
       "text": [
        "\n",
        "[ 0.03  0.16  0.01  0.04  0.02  0.06  0.01  0.01  0.59  0.05]"
       ]
      },
      {
       "output_type": "stream",
       "stream": "stdout",
       "text": [
        "\n",
        "[ 0.01  0.02  0.    0.01  0.05  0.    0.    0.09  0.    0.81]"
       ]
      },
      {
       "output_type": "stream",
       "stream": "stdout",
       "text": [
        "\n",
        "Start testing...\n",
        "[array([ 0.06578665,  0.06578665]), array([ 0.06647238,  0.06214374]), array([ 0.06861527,  0.06475807]), array([ 0.07105816,  0.0633009 ]), array([ 0.07397249,  0.06570094]), array([ 0.07924399,  0.06737239]), array([ 0.09415849,  0.0762868 ]), array([ 0.12283033,  0.08824412])]"
       ]
      },
      {
       "output_type": "stream",
       "stream": "stdout",
       "text": [
        "\n",
        "== Fold 2 ==\n",
        "Fitting model..."
       ]
      },
      {
       "output_type": "stream",
       "stream": "stdout",
       "text": [
        "\n",
        "Finding mean for k=1..."
       ]
      },
      {
       "output_type": "stream",
       "stream": "stdout",
       "text": [
        "\n",
        "[ 1.  0.  0.  0.  0.  0.  0.  0.  0.  0.]"
       ]
      },
      {
       "output_type": "stream",
       "stream": "stdout",
       "text": [
        "\n",
        "[ 0.  1.  0.  0.  0.  0.  0.  0.  0.  0.]"
       ]
      },
      {
       "output_type": "stream",
       "stream": "stdout",
       "text": [
        "\n",
        "[ 0.  0.  1.  0.  0.  0.  0.  0.  0.  0.]"
       ]
      },
      {
       "output_type": "stream",
       "stream": "stdout",
       "text": [
        "\n",
        "[ 0.  0.  0.  1.  0.  0.  0.  0.  0.  0.]"
       ]
      },
      {
       "output_type": "stream",
       "stream": "stdout",
       "text": [
        "\n",
        "[ 0.  0.  0.  0.  1.  0.  0.  0.  0.  0.]"
       ]
      },
      {
       "output_type": "stream",
       "stream": "stdout",
       "text": [
        "\n",
        "[ 0.  0.  0.  0.  0.  1.  0.  0.  0.  0.]"
       ]
      },
      {
       "output_type": "stream",
       "stream": "stdout",
       "text": [
        "\n",
        "[ 0.  0.  0.  0.  0.  0.  1.  0.  0.  0.]"
       ]
      },
      {
       "output_type": "stream",
       "stream": "stdout",
       "text": [
        "\n",
        "[ 0.  0.  0.  0.  0.  0.  0.  1.  0.  0.]"
       ]
      },
      {
       "output_type": "stream",
       "stream": "stdout",
       "text": [
        "\n",
        "[ 0.  0.  0.  0.  0.  0.  0.  0.  1.  0.]"
       ]
      },
      {
       "output_type": "stream",
       "stream": "stdout",
       "text": [
        "\n",
        "[ 0.  0.  0.  0.  0.  0.  0.  0.  0.  1.]"
       ]
      },
      {
       "output_type": "stream",
       "stream": "stdout",
       "text": [
        "\n",
        "Start testing...\n",
        "Finding mean for k=3..."
       ]
      },
      {
       "output_type": "stream",
       "stream": "stdout",
       "text": [
        "\n",
        "[ 0.99  0.    0.    0.    0.    0.    0.    0.    0.    0.  ]"
       ]
      },
      {
       "output_type": "stream",
       "stream": "stdout",
       "text": [
        "\n",
        "[ 0.  1.  0.  0.  0.  0.  0.  0.  0.  0.]"
       ]
      },
      {
       "output_type": "stream",
       "stream": "stdout",
       "text": [
        "\n",
        "[ 0.01  0.02  0.93  0.01  0.    0.    0.    0.01  0.    0.  ]"
       ]
      },
      {
       "output_type": "stream",
       "stream": "stdout",
       "text": [
        "\n",
        "[ 0.    0.01  0.01  0.94  0.    0.02  0.    0.01  0.01  0.01]"
       ]
      },
      {
       "output_type": "stream",
       "stream": "stdout",
       "text": [
        "\n",
        "[ 0.    0.02  0.    0.    0.94  0.    0.    0.01  0.    0.03]"
       ]
      },
      {
       "output_type": "stream",
       "stream": "stdout",
       "text": [
        "\n",
        "[ 0.    0.01  0.    0.03  0.    0.92  0.01  0.    0.01  0.01]"
       ]
      },
      {
       "output_type": "stream",
       "stream": "stdout",
       "text": [
        "\n",
        "[ 0.01  0.    0.    0.    0.    0.    0.98  0.    0.    0.  ]"
       ]
      },
      {
       "output_type": "stream",
       "stream": "stdout",
       "text": [
        "\n",
        "[ 0.    0.01  0.    0.    0.01  0.    0.    0.96  0.    0.02]"
       ]
      },
      {
       "output_type": "stream",
       "stream": "stdout",
       "text": [
        "\n",
        "[ 0.01  0.02  0.    0.02  0.01  0.03  0.    0.    0.88  0.01]"
       ]
      },
      {
       "output_type": "stream",
       "stream": "stdout",
       "text": [
        "\n",
        "[ 0.    0.    0.    0.    0.01  0.    0.    0.02  0.    0.95]"
       ]
      },
      {
       "output_type": "stream",
       "stream": "stdout",
       "text": [
        "\n",
        "Start testing...\n",
        "Finding mean for k=5..."
       ]
      },
      {
       "output_type": "stream",
       "stream": "stdout",
       "text": [
        "\n",
        "[ 0.99  0.    0.    0.    0.    0.    0.01  0.    0.    0.  ]"
       ]
      },
      {
       "output_type": "stream",
       "stream": "stdout",
       "text": [
        "\n",
        "[ 0.    0.99  0.    0.    0.    0.    0.    0.    0.    0.  ]"
       ]
      },
      {
       "output_type": "stream",
       "stream": "stdout",
       "text": [
        "\n",
        "[ 0.02  0.03  0.89  0.02  0.01  0.    0.    0.02  0.01  0.  ]"
       ]
      },
      {
       "output_type": "stream",
       "stream": "stdout",
       "text": [
        "\n",
        "[ 0.    0.01  0.01  0.91  0.    0.03  0.    0.02  0.01  0.01]"
       ]
      },
      {
       "output_type": "stream",
       "stream": "stdout",
       "text": [
        "\n",
        "[ 0.    0.02  0.    0.    0.91  0.    0.    0.01  0.    0.04]"
       ]
      },
      {
       "output_type": "stream",
       "stream": "stdout",
       "text": [
        "\n",
        "[ 0.01  0.01  0.    0.04  0.01  0.89  0.02  0.    0.01  0.01]"
       ]
      },
      {
       "output_type": "stream",
       "stream": "stdout",
       "text": [
        "\n",
        "[ 0.01  0.01  0.    0.    0.    0.01  0.97  0.    0.    0.  ]"
       ]
      },
      {
       "output_type": "stream",
       "stream": "stdout",
       "text": [
        "\n",
        "[ 0.    0.01  0.    0.    0.01  0.    0.    0.94  0.    0.03]"
       ]
      },
      {
       "output_type": "stream",
       "stream": "stdout",
       "text": [
        "\n",
        "[ 0.01  0.03  0.01  0.02  0.01  0.04  0.01  0.01  0.84  0.02]"
       ]
      },
      {
       "output_type": "stream",
       "stream": "stdout",
       "text": [
        "\n",
        "[ 0.    0.    0.    0.01  0.02  0.    0.    0.04  0.    0.92]"
       ]
      },
      {
       "output_type": "stream",
       "stream": "stdout",
       "text": [
        "\n",
        "Start testing...\n",
        "Finding mean for k=7..."
       ]
      },
      {
       "output_type": "stream",
       "stream": "stdout",
       "text": [
        "\n",
        "[ 0.98  0.    0.    0.    0.    0.    0.01  0.    0.    0.  ]"
       ]
      },
      {
       "output_type": "stream",
       "stream": "stdout",
       "text": [
        "\n",
        "[ 0.    0.99  0.    0.    0.    0.    0.    0.    0.    0.  ]"
       ]
      },
      {
       "output_type": "stream",
       "stream": "stdout",
       "text": [
        "\n",
        "[ 0.02  0.04  0.86  0.02  0.01  0.    0.    0.02  0.01  0.  ]"
       ]
      },
      {
       "output_type": "stream",
       "stream": "stdout",
       "text": [
        "\n",
        "[ 0.01  0.01  0.01  0.9   0.    0.03  0.    0.02  0.01  0.01]"
       ]
      },
      {
       "output_type": "stream",
       "stream": "stdout",
       "text": [
        "\n",
        "[ 0.    0.03  0.    0.    0.89  0.    0.    0.01  0.    0.05]"
       ]
      },
      {
       "output_type": "stream",
       "stream": "stdout",
       "text": [
        "\n",
        "[ 0.01  0.01  0.    0.04  0.01  0.87  0.02  0.01  0.02  0.01]"
       ]
      },
      {
       "output_type": "stream",
       "stream": "stdout",
       "text": [
        "\n",
        "[ 0.01  0.01  0.    0.    0.    0.01  0.96  0.    0.    0.  ]"
       ]
      },
      {
       "output_type": "stream",
       "stream": "stdout",
       "text": [
        "\n",
        "[ 0.    0.02  0.    0.    0.01  0.    0.    0.93  0.    0.03]"
       ]
      },
      {
       "output_type": "stream",
       "stream": "stdout",
       "text": [
        "\n",
        "[ 0.02  0.05  0.01  0.03  0.01  0.05  0.01  0.01  0.8   0.02]"
       ]
      },
      {
       "output_type": "stream",
       "stream": "stdout",
       "text": [
        "\n",
        "[ 0.01  0.01  0.    0.01  0.02  0.    0.    0.05  0.    0.91]"
       ]
      },
      {
       "output_type": "stream",
       "stream": "stdout",
       "text": [
        "\n",
        "Start testing...\n",
        "Finding mean for k=9..."
       ]
      },
      {
       "output_type": "stream",
       "stream": "stdout",
       "text": [
        "\n",
        "[ 0.98  0.    0.    0.    0.    0.    0.01  0.    0.    0.  ]"
       ]
      },
      {
       "output_type": "stream",
       "stream": "stdout",
       "text": [
        "\n",
        "[ 0.    0.99  0.    0.    0.    0.    0.    0.    0.    0.  ]"
       ]
      },
      {
       "output_type": "stream",
       "stream": "stdout",
       "text": [
        "\n",
        "[ 0.03  0.05  0.84  0.03  0.01  0.    0.01  0.02  0.01  0.01]"
       ]
      },
      {
       "output_type": "stream",
       "stream": "stdout",
       "text": [
        "\n",
        "[ 0.01  0.02  0.01  0.88  0.    0.04  0.    0.02  0.01  0.01]"
       ]
      },
      {
       "output_type": "stream",
       "stream": "stdout",
       "text": [
        "\n",
        "[ 0.    0.04  0.    0.    0.88  0.    0.    0.01  0.    0.06]"
       ]
      },
      {
       "output_type": "stream",
       "stream": "stdout",
       "text": [
        "\n",
        "[ 0.01  0.02  0.    0.05  0.01  0.85  0.02  0.01  0.02  0.02]"
       ]
      },
      {
       "output_type": "stream",
       "stream": "stdout",
       "text": [
        "\n",
        "[ 0.02  0.01  0.    0.    0.    0.01  0.96  0.    0.    0.  ]"
       ]
      },
      {
       "output_type": "stream",
       "stream": "stdout",
       "text": [
        "\n",
        "[ 0.    0.02  0.    0.    0.01  0.    0.    0.92  0.    0.04]"
       ]
      },
      {
       "output_type": "stream",
       "stream": "stdout",
       "text": [
        "\n",
        "[ 0.02  0.06  0.01  0.03  0.01  0.05  0.01  0.01  0.77  0.03]"
       ]
      },
      {
       "output_type": "stream",
       "stream": "stdout",
       "text": [
        "\n",
        "[ 0.01  0.01  0.    0.01  0.03  0.    0.    0.05  0.    0.89]"
       ]
      },
      {
       "output_type": "stream",
       "stream": "stdout",
       "text": [
        "\n",
        "Start testing...\n",
        "Finding mean for k=11..."
       ]
      },
      {
       "output_type": "stream",
       "stream": "stdout",
       "text": [
        "\n",
        "[ 0.98  0.    0.    0.    0.    0.    0.01  0.    0.    0.  ]"
       ]
      },
      {
       "output_type": "stream",
       "stream": "stdout",
       "text": [
        "\n",
        "[ 0.    0.99  0.    0.    0.    0.    0.    0.    0.    0.  ]"
       ]
      },
      {
       "output_type": "stream",
       "stream": "stdout",
       "text": [
        "\n",
        "[ 0.03  0.06  0.82  0.03  0.01  0.    0.01  0.03  0.01  0.01]"
       ]
      },
      {
       "output_type": "stream",
       "stream": "stdout",
       "text": [
        "\n",
        "[ 0.01  0.02  0.01  0.87  0.    0.04  0.    0.02  0.01  0.01]"
       ]
      },
      {
       "output_type": "stream",
       "stream": "stdout",
       "text": [
        "\n",
        "[ 0.    0.04  0.    0.    0.86  0.    0.    0.02  0.    0.07]"
       ]
      },
      {
       "output_type": "stream",
       "stream": "stdout",
       "text": [
        "\n",
        "[ 0.01  0.02  0.    0.05  0.01  0.83  0.02  0.01  0.02  0.02]"
       ]
      },
      {
       "output_type": "stream",
       "stream": "stdout",
       "text": [
        "\n",
        "[ 0.02  0.01  0.    0.    0.    0.01  0.95  0.    0.    0.  ]"
       ]
      },
      {
       "output_type": "stream",
       "stream": "stdout",
       "text": [
        "\n",
        "[ 0.    0.02  0.    0.    0.01  0.    0.    0.91  0.    0.04]"
       ]
      },
      {
       "output_type": "stream",
       "stream": "stdout",
       "text": [
        "\n",
        "[ 0.02  0.07  0.01  0.03  0.01  0.06  0.01  0.01  0.75  0.03]"
       ]
      },
      {
       "output_type": "stream",
       "stream": "stdout",
       "text": [
        "\n",
        "[ 0.01  0.01  0.    0.01  0.03  0.    0.    0.06  0.    0.88]"
       ]
      },
      {
       "output_type": "stream",
       "stream": "stdout",
       "text": [
        "\n",
        "Start testing...\n",
        "Finding mean for k=20..."
       ]
      },
      {
       "output_type": "stream",
       "stream": "stdout",
       "text": [
        "\n",
        "[ 0.97  0.01  0.    0.    0.    0.    0.01  0.    0.    0.  ]"
       ]
      },
      {
       "output_type": "stream",
       "stream": "stdout",
       "text": [
        "\n",
        "[ 0.    0.99  0.    0.    0.    0.    0.    0.    0.    0.  ]"
       ]
      },
      {
       "output_type": "stream",
       "stream": "stdout",
       "text": [
        "\n",
        "[ 0.03  0.09  0.76  0.04  0.01  0.    0.01  0.03  0.01  0.01]"
       ]
      },
      {
       "output_type": "stream",
       "stream": "stdout",
       "text": [
        "\n",
        "[ 0.01  0.04  0.01  0.83  0.    0.04  0.    0.03  0.01  0.01]"
       ]
      },
      {
       "output_type": "stream",
       "stream": "stdout",
       "text": [
        "\n",
        "[ 0.    0.06  0.    0.    0.82  0.    0.    0.02  0.    0.09]"
       ]
      },
      {
       "output_type": "stream",
       "stream": "stdout",
       "text": [
        "\n",
        "[ 0.01  0.04  0.    0.06  0.01  0.78  0.03  0.01  0.03  0.03]"
       ]
      },
      {
       "output_type": "stream",
       "stream": "stdout",
       "text": [
        "\n",
        "[ 0.02  0.02  0.    0.    0.    0.01  0.94  0.    0.    0.  ]"
       ]
      },
      {
       "output_type": "stream",
       "stream": "stdout",
       "text": [
        "\n",
        "[ 0.    0.03  0.    0.    0.02  0.    0.    0.89  0.    0.06]"
       ]
      },
      {
       "output_type": "stream",
       "stream": "stdout",
       "text": [
        "\n",
        "[ 0.03  0.1   0.01  0.04  0.02  0.06  0.01  0.01  0.68  0.04]"
       ]
      },
      {
       "output_type": "stream",
       "stream": "stdout",
       "text": [
        "\n",
        "[ 0.01  0.01  0.    0.01  0.04  0.    0.    0.08  0.    0.85]"
       ]
      },
      {
       "output_type": "stream",
       "stream": "stdout",
       "text": [
        "\n",
        "Start testing...\n",
        "Finding mean for k=40..."
       ]
      },
      {
       "output_type": "stream",
       "stream": "stdout",
       "text": [
        "\n",
        "[ 0.95  0.01  0.    0.    0.    0.01  0.01  0.    0.    0.  ]"
       ]
      },
      {
       "output_type": "stream",
       "stream": "stdout",
       "text": [
        "\n",
        "[ 0.    0.99  0.    0.    0.    0.    0.    0.    0.    0.  ]"
       ]
      },
      {
       "output_type": "stream",
       "stream": "stdout",
       "text": [
        "\n",
        "[ 0.04  0.14  0.66  0.06  0.02  0.01  0.01  0.04  0.01  0.01]"
       ]
      },
      {
       "output_type": "stream",
       "stream": "stdout",
       "text": [
        "\n",
        "[ 0.01  0.09  0.02  0.75  0.    0.05  0.    0.04  0.01  0.02]"
       ]
      },
      {
       "output_type": "stream",
       "stream": "stdout",
       "text": [
        "\n",
        "[ 0.    0.1   0.01  0.    0.75  0.    0.    0.03  0.    0.11]"
       ]
      },
      {
       "output_type": "stream",
       "stream": "stdout",
       "text": [
        "\n",
        "[ 0.02  0.07  0.    0.07  0.02  0.71  0.03  0.01  0.03  0.03]"
       ]
      },
      {
       "output_type": "stream",
       "stream": "stdout",
       "text": [
        "\n",
        "[ 0.03  0.03  0.    0.    0.01  0.01  0.91  0.    0.    0.  ]"
       ]
      },
      {
       "output_type": "stream",
       "stream": "stdout",
       "text": [
        "\n",
        "[ 0.    0.04  0.    0.    0.02  0.    0.    0.85  0.    0.08]"
       ]
      },
      {
       "output_type": "stream",
       "stream": "stdout",
       "text": [
        "\n",
        "[ 0.03  0.16  0.01  0.05  0.02  0.07  0.01  0.01  0.59  0.05]"
       ]
      },
      {
       "output_type": "stream",
       "stream": "stdout",
       "text": [
        "\n",
        "[ 0.01  0.02  0.    0.01  0.05  0.    0.    0.1   0.    0.81]"
       ]
      },
      {
       "output_type": "stream",
       "stream": "stdout",
       "text": [
        "\n",
        "Start testing...\n",
        "[array([ 0.06497236,  0.06497236]), array([ 0.07080101,  0.06510093]), array([ 0.07144388,  0.06600094]), array([ 0.07397249,  0.0663438 ]), array([ 0.07830112,  0.06835812]), array([ 0.08215832,  0.07037243]), array([ 0.09784425,  0.07842969]), array([ 0.12737325,  0.09077273])]"
       ]
      },
      {
       "output_type": "stream",
       "stream": "stdout",
       "text": [
        "\n"
       ]
      },
      {
       "metadata": {},
       "output_type": "display_data",
       "png": "[encoded data removed]",
       "text": [
        "<matplotlib.figure.Figure at 0x124d8dd8>"
       ]
      }
     ],
     "prompt_number": 13
    }
   ],
   "metadata": {}
  }
 ]
}