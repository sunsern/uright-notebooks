{
 "metadata": {
  "name": ""
 },
 "nbformat": 3,
 "nbformat_minor": 0,
 "worksheets": [
  {
   "cells": [
    {
     "cell_type": "code",
     "collapsed": false,
     "input": [
      "import scipy.io\n",
      "train_data = scipy.io.loadmat('train_32x32.mat')"
     ],
     "language": "python",
     "metadata": {},
     "outputs": [],
     "prompt_number": 1
    },
    {
     "cell_type": "code",
     "collapsed": false,
     "input": [
      "import numpy as np \n",
      "import skimage.color\n",
      "import skimage.feature\n",
      "from skimage.filter import threshold_otsu, threshold_adaptive\n",
      "\n",
      "def rgb_to_hog(rgb):\n",
      "    cropped = rgb[:,8:-8,:]\n",
      "    gray = skimage.color.rgb2gray(cropped)\n",
      "    \n",
      "    #global_threshold = threshold_otsu(gray)\n",
      "    #binary = gray > global_threshold\n",
      "    \n",
      "    #binary = threshold_adaptive(gray, 16)\n",
      "    binary = gray\n",
      "    \n",
      "    return skimage.feature.hog(binary, \n",
      "                               orientations=12, \n",
      "                               pixels_per_cell=(4, 4), \n",
      "                               cells_per_block=(1, 1), \n",
      "                               visualise=False, \n",
      "                               normalise=True)\n",
      "\n",
      "train_images = train_data['X']\n",
      "X_train = np.asarray([rgb_to_hog(train_images[:,:,:,i]) for i in range(train_images.shape[3])])\n",
      "Y_train = np.ravel(train_data['y'][:train_images.shape[3]]) % 10"
     ],
     "language": "python",
     "metadata": {},
     "outputs": [],
     "prompt_number": 2
    },
    {
     "cell_type": "code",
     "collapsed": false,
     "input": [
      "#X_train_small = X_train[:1000]\n",
      "#Y_train_small = Y_train[:1000]\n",
      "\n",
      "from sklearn.neighbors import KNeighborsClassifier\n",
      "\n",
      "nn = KNeighborsClassifier(metric='manhattan')\n",
      "nn.fit(X_train, Y_train)"
     ],
     "language": "python",
     "metadata": {},
     "outputs": [
      {
       "metadata": {},
       "output_type": "pyout",
       "prompt_number": 3,
       "text": [
        "KNeighborsClassifier(algorithm='auto', leaf_size=30, metric='manhattan',\n",
        "           n_neighbors=5, p=2, weights='uniform')"
       ]
      }
     ],
     "prompt_number": 3
    },
    {
     "cell_type": "code",
     "collapsed": false,
     "input": [
      "def make_distribution(nx, M=10):\n",
      "    a,_ = np.histogram(nx, bins=M, range=(0,M), density=True)\n",
      "    return a\n",
      "    \n",
      "def compute_P(X_train, Y_train, nn, k, M=10):\n",
      "    if k == 1:\n",
      "        return np.eye(M)\n",
      "    else:\n",
      "        P = np.zeros((M,M))\n",
      "        for i in range(M):\n",
      "            idx = (Y_train == i)\n",
      "            nx = nn.kneighbors(X_train[idx,:], n_neighbors=k, return_distance=False)\n",
      "            P[i,:] = make_distribution(np.ravel(Y_train[nx]))\n",
      "        return P"
     ],
     "language": "python",
     "metadata": {},
     "outputs": [],
     "prompt_number": 4
    },
    {
     "cell_type": "code",
     "collapsed": false,
     "input": [
      "def knn_classifier(neighborhood):\n",
      "    return np.argmax(neighborhood)\n",
      "\n",
      "def kld(p,q):\n",
      "    EPS = 1e-6\n",
      "    return -np.sum(p * np.log2(q+EPS))\n",
      "\n",
      "def kl_classifier(neighborhood, P):\n",
      "    c = np.argmin([kld(neighborhood, P[i,:]) for i in range(P.shape[0])])\n",
      "    return c"
     ],
     "language": "python",
     "metadata": {},
     "outputs": [],
     "prompt_number": 5
    },
    {
     "cell_type": "code",
     "collapsed": false,
     "input": [
      "def calculate_error(nn, P, Y_train, X_test, Y_test, k):\n",
      "    correct_knn = 0\n",
      "    correct_kl = 0\n",
      "    \n",
      "    neighborhood = nn.kneighbors(X_test, n_neighbors=k, return_distance=False)\n",
      "    neighborhood = Y_train[neighborhood]\n",
      "        \n",
      "    for i in range(neighborhood.shape[0]):\n",
      "        dx = make_distribution(neighborhood[i,:])\n",
      "        c1 = knn_classifier(dx)\n",
      "        c2 = kl_classifier(dx, P)\n",
      "        if c1 == Y_test[i]:\n",
      "            correct_knn += 1\n",
      "        if c2 == Y_test[i]:\n",
      "            correct_kl += 1\n",
      "            \n",
      "    return (1.0 - float(correct_knn)/X_test.shape[0],\n",
      "            1.0 - float(correct_kl)/X_test.shape[0])\n",
      "        "
     ],
     "language": "python",
     "metadata": {},
     "outputs": [],
     "prompt_number": 6
    },
    {
     "cell_type": "markdown",
     "metadata": {},
     "source": [
      "Testing\n",
      "======="
     ]
    },
    {
     "cell_type": "code",
     "collapsed": false,
     "input": [
      "test_data = scipy.io.loadmat('test_32x32.mat')"
     ],
     "language": "python",
     "metadata": {},
     "outputs": [],
     "prompt_number": 7
    },
    {
     "cell_type": "code",
     "collapsed": false,
     "input": [
      "test_images = test_data['X']\n",
      "X_test = np.asarray([rgb_to_hog(test_images[:,:,:,i]) for i in range(test_images.shape[3])])\n",
      "Y_test = np.ravel(test_data['y'][:test_images.shape[3]]) % 10"
     ],
     "language": "python",
     "metadata": {},
     "outputs": [],
     "prompt_number": 8
    },
    {
     "cell_type": "code",
     "collapsed": false,
     "input": [
      "all_k = range(1,30,2)\n",
      "all_errors = np.zeros((len(all_k), 2))\n",
      "for i,k in enumerate(all_k):\n",
      "    P = compute_P(X_train, Y_train, nn, k)\n",
      "    print P.round(2)\n",
      "    lle, kle = calculate_error(nn, P, Y_train, X_test, Y_test, k)\n",
      "    all_errors[i, 0] = lle\n",
      "    all_errors[i, 1] = kle\n",
      "    print k,lle,kle"
     ],
     "language": "python",
     "metadata": {},
     "outputs": [
      {
       "output_type": "stream",
       "stream": "stdout",
       "text": [
        "[[ 1.  0.  0.  0.  0.  0.  0.  0.  0.  0.]\n",
        " [ 0.  1.  0.  0.  0.  0.  0.  0.  0.  0.]\n",
        " [ 0.  0.  1.  0.  0.  0.  0.  0.  0.  0.]\n",
        " [ 0.  0.  0.  1.  0.  0.  0.  0.  0.  0.]\n",
        " [ 0.  0.  0.  0.  1.  0.  0.  0.  0.  0.]\n",
        " [ 0.  0.  0.  0.  0.  1.  0.  0.  0.  0.]\n",
        " [ 0.  0.  0.  0.  0.  0.  1.  0.  0.  0.]\n",
        " [ 0.  0.  0.  0.  0.  0.  0.  1.  0.  0.]\n",
        " [ 0.  0.  0.  0.  0.  0.  0.  0.  1.  0.]\n",
        " [ 0.  0.  0.  0.  0.  0.  0.  0.  0.  1.]]\n",
        "1"
       ]
      },
      {
       "output_type": "stream",
       "stream": "stdout",
       "text": [
        " 0.226259987707 0.226259987707\n",
        "[[ 0.88  0.05  0.01  0.01  0.    0.    0.01  0.    0.01  0.02]\n",
        " [ 0.03  0.93  0.01  0.01  0.01  0.    0.01  0.01  0.01  0.  ]\n",
        " [ 0.01  0.03  0.9   0.01  0.01  0.01  0.    0.02  0.01  0.01]\n",
        " [ 0.02  0.04  0.01  0.79  0.01  0.04  0.02  0.01  0.04  0.02]\n",
        " [ 0.01  0.06  0.01  0.01  0.86  0.01  0.01  0.01  0.01  0.01]\n",
        " [ 0.01  0.02  0.01  0.05  0.01  0.84  0.04  0.    0.02  0.01]\n",
        " [ 0.03  0.03  0.01  0.02  0.01  0.03  0.82  0.    0.04  0.01]\n",
        " [ 0.01  0.07  0.02  0.01  0.    0.01  0.01  0.86  0.01  0.  ]\n",
        " [ 0.03  0.04  0.01  0.03  0.01  0.01  0.04  0.    0.81  0.02]\n",
        " [ 0.05  0.03  0.02  0.02  0.01  0.01  0.01  0.01  0.02  0.83]]"
       ]
      },
      {
       "output_type": "stream",
       "stream": "stdout",
       "text": [
        "\n",
        "3"
       ]
      },
      {
       "output_type": "stream",
       "stream": "stdout",
       "text": [
        " 0.205708358943 0.196488936693\n",
        "[[ 0.85  0.07  0.01  0.01  0.01  0.    0.02  0.01  0.01  0.02]\n",
        " [ 0.04  0.91  0.01  0.01  0.01  0.    0.01  0.01  0.01  0.  ]\n",
        " [ 0.01  0.04  0.87  0.02  0.01  0.01  0.01  0.02  0.01  0.01]\n",
        " [ 0.02  0.05  0.02  0.74  0.01  0.06  0.03  0.01  0.05  0.02]\n",
        " [ 0.02  0.07  0.02  0.02  0.82  0.01  0.01  0.01  0.02  0.01]\n",
        " [ 0.01  0.02  0.01  0.06  0.01  0.8   0.05  0.01  0.02  0.01]\n",
        " [ 0.04  0.04  0.01  0.02  0.01  0.04  0.78  0.01  0.05  0.01]\n",
        " [ 0.01  0.09  0.02  0.02  0.01  0.01  0.01  0.82  0.01  0.01]\n",
        " [ 0.03  0.05  0.01  0.04  0.01  0.02  0.05  0.01  0.76  0.02]\n",
        " [ 0.06  0.04  0.02  0.03  0.01  0.02  0.01  0.01  0.03  0.77]]"
       ]
      },
      {
       "output_type": "stream",
       "stream": "stdout",
       "text": [
        "\n",
        "5"
       ]
      },
      {
       "output_type": "stream",
       "stream": "stdout",
       "text": [
        " 0.186731714813 0.178626306085\n",
        "[[ 0.83  0.07  0.01  0.01  0.01  0.    0.02  0.01  0.02  0.02]\n",
        " [ 0.04  0.9   0.01  0.01  0.01  0.    0.01  0.01  0.01  0.  ]\n",
        " [ 0.01  0.04  0.86  0.02  0.01  0.01  0.01  0.02  0.02  0.01]\n",
        " [ 0.02  0.05  0.02  0.71  0.01  0.06  0.03  0.01  0.06  0.02]\n",
        " [ 0.02  0.08  0.02  0.02  0.79  0.01  0.01  0.01  0.02  0.01]\n",
        " [ 0.01  0.03  0.01  0.07  0.01  0.78  0.06  0.01  0.02  0.02]\n",
        " [ 0.04  0.04  0.01  0.03  0.01  0.04  0.75  0.01  0.06  0.01]\n",
        " [ 0.01  0.1   0.03  0.02  0.01  0.01  0.01  0.8   0.01  0.01]\n",
        " [ 0.04  0.06  0.01  0.04  0.01  0.02  0.06  0.01  0.73  0.03]\n",
        " [ 0.07  0.04  0.03  0.03  0.01  0.02  0.01  0.01  0.04  0.75]]"
       ]
      },
      {
       "output_type": "stream",
       "stream": "stdout",
       "text": [
        "\n",
        "7"
       ]
      },
      {
       "output_type": "stream",
       "stream": "stdout",
       "text": [
        " 0.182851874616 0.172825752919\n",
        "[[ 0.82  0.08  0.01  0.01  0.01  0.01  0.02  0.01  0.02  0.02]\n",
        " [ 0.04  0.89  0.01  0.01  0.01  0.    0.01  0.01  0.01  0.  ]\n",
        " [ 0.01  0.04  0.85  0.02  0.01  0.01  0.01  0.02  0.02  0.02]\n",
        " [ 0.02  0.05  0.02  0.69  0.01  0.07  0.03  0.02  0.06  0.03]\n",
        " [ 0.02  0.09  0.02  0.02  0.78  0.01  0.02  0.01  0.02  0.01]\n",
        " [ 0.01  0.03  0.01  0.07  0.01  0.76  0.06  0.01  0.02  0.02]\n",
        " [ 0.05  0.04  0.01  0.03  0.01  0.04  0.74  0.01  0.06  0.01]\n",
        " [ 0.01  0.1   0.03  0.02  0.01  0.01  0.01  0.79  0.01  0.01]\n",
        " [ 0.04  0.06  0.01  0.05  0.01  0.02  0.06  0.01  0.71  0.03]\n",
        " [ 0.07  0.04  0.03  0.03  0.01  0.02  0.01  0.01  0.04  0.73]]"
       ]
      },
      {
       "output_type": "stream",
       "stream": "stdout",
       "text": [
        "\n",
        "9"
       ]
      },
      {
       "output_type": "stream",
       "stream": "stdout",
       "text": [
        " 0.175975722188 0.167716656423\n",
        "[[ 0.81  0.08  0.01  0.01  0.01  0.01  0.02  0.01  0.02  0.03]\n",
        " [ 0.04  0.88  0.01  0.01  0.01  0.    0.01  0.02  0.01  0.01]\n",
        " [ 0.01  0.04  0.84  0.02  0.01  0.01  0.01  0.02  0.02  0.02]\n",
        " [ 0.03  0.06  0.02  0.67  0.01  0.07  0.03  0.02  0.06  0.03]\n",
        " [ 0.02  0.09  0.02  0.02  0.77  0.01  0.02  0.01  0.02  0.02]\n",
        " [ 0.01  0.03  0.01  0.08  0.01  0.75  0.06  0.01  0.02  0.02]\n",
        " [ 0.05  0.04  0.01  0.03  0.01  0.05  0.73  0.01  0.07  0.01]\n",
        " [ 0.02  0.11  0.03  0.02  0.01  0.01  0.01  0.78  0.01  0.01]\n",
        " [ 0.04  0.06  0.01  0.05  0.01  0.02  0.06  0.01  0.7   0.03]\n",
        " [ 0.08  0.04  0.03  0.03  0.01  0.02  0.01  0.01  0.04  0.72]]"
       ]
      },
      {
       "output_type": "stream",
       "stream": "stdout",
       "text": [
        "\n",
        "11"
       ]
      },
      {
       "output_type": "stream",
       "stream": "stdout",
       "text": [
        " 0.173862937923 0.167486170867\n",
        "[[ 0.81  0.08  0.01  0.01  0.01  0.01  0.02  0.01  0.02  0.03]\n",
        " [ 0.05  0.88  0.01  0.01  0.01  0.    0.01  0.02  0.01  0.01]\n",
        " [ 0.01  0.04  0.83  0.02  0.01  0.01  0.01  0.03  0.02  0.02]\n",
        " [ 0.03  0.06  0.02  0.66  0.01  0.07  0.03  0.02  0.07  0.03]\n",
        " [ 0.02  0.09  0.02  0.02  0.76  0.01  0.02  0.01  0.02  0.02]\n",
        " [ 0.01  0.03  0.01  0.08  0.01  0.74  0.07  0.01  0.03  0.02]\n",
        " [ 0.05  0.05  0.01  0.03  0.01  0.05  0.71  0.01  0.07  0.01]\n",
        " [ 0.02  0.11  0.03  0.02  0.01  0.01  0.01  0.77  0.01  0.01]\n",
        " [ 0.04  0.06  0.02  0.05  0.01  0.02  0.06  0.01  0.69  0.03]\n",
        " [ 0.08  0.05  0.03  0.03  0.01  0.02  0.02  0.01  0.04  0.71]]"
       ]
      },
      {
       "output_type": "stream",
       "stream": "stdout",
       "text": [
        "\n",
        "13"
       ]
      },
      {
       "output_type": "stream",
       "stream": "stdout",
       "text": [
        " 0.173670866626 0.166448985864\n",
        "[[ 0.8   0.09  0.01  0.01  0.01  0.01  0.02  0.01  0.02  0.03]\n",
        " [ 0.05  0.88  0.01  0.01  0.01  0.    0.01  0.02  0.01  0.01]\n",
        " [ 0.01  0.04  0.83  0.02  0.01  0.01  0.01  0.03  0.02  0.02]\n",
        " [ 0.03  0.06  0.02  0.65  0.02  0.08  0.04  0.02  0.07  0.03]\n",
        " [ 0.03  0.1   0.02  0.02  0.75  0.01  0.02  0.01  0.02  0.02]\n",
        " [ 0.01  0.03  0.01  0.08  0.01  0.74  0.07  0.01  0.03  0.02]\n",
        " [ 0.05  0.05  0.01  0.03  0.01  0.05  0.71  0.01  0.07  0.01]\n",
        " [ 0.02  0.11  0.03  0.02  0.01  0.01  0.01  0.77  0.01  0.01]\n",
        " [ 0.04  0.06  0.02  0.05  0.01  0.02  0.07  0.01  0.68  0.03]\n",
        " [ 0.08  0.05  0.03  0.03  0.01  0.02  0.02  0.01  0.05  0.7 ]]"
       ]
      },
      {
       "output_type": "stream",
       "stream": "stdout",
       "text": [
        "\n",
        "15"
       ]
      },
      {
       "output_type": "stream",
       "stream": "stdout",
       "text": [
        " 0.172019053473 0.165872771973\n",
        "[[ 0.8   0.09  0.01  0.01  0.01  0.01  0.02  0.01  0.02  0.03]\n",
        " [ 0.05  0.87  0.01  0.01  0.01  0.    0.01  0.02  0.01  0.01]\n",
        " [ 0.01  0.04  0.83  0.02  0.01  0.01  0.01  0.03  0.02  0.02]\n",
        " [ 0.03  0.06  0.02  0.64  0.02  0.08  0.04  0.02  0.07  0.03]\n",
        " [ 0.03  0.1   0.02  0.02  0.75  0.01  0.02  0.01  0.02  0.02]\n",
        " [ 0.01  0.03  0.01  0.08  0.01  0.73  0.07  0.01  0.03  0.02]\n",
        " [ 0.05  0.05  0.01  0.03  0.01  0.05  0.7   0.01  0.07  0.01]\n",
        " [ 0.02  0.12  0.03  0.02  0.01  0.01  0.01  0.76  0.01  0.01]\n",
        " [ 0.05  0.07  0.02  0.05  0.01  0.02  0.07  0.01  0.68  0.03]\n",
        " [ 0.09  0.05  0.03  0.04  0.01  0.02  0.02  0.01  0.05  0.69]]"
       ]
      },
      {
       "output_type": "stream",
       "stream": "stdout",
       "text": [
        "\n",
        "17"
       ]
      },
      {
       "output_type": "stream",
       "stream": "stdout",
       "text": [
        " 0.170828211432 0.164489858636\n",
        "[[ 0.79  0.09  0.01  0.01  0.01  0.01  0.02  0.01  0.02  0.03]\n",
        " [ 0.05  0.87  0.01  0.01  0.01  0.    0.01  0.02  0.01  0.01]\n",
        " [ 0.01  0.05  0.82  0.02  0.01  0.01  0.01  0.03  0.02  0.02]\n",
        " [ 0.03  0.06  0.02  0.63  0.02  0.08  0.04  0.02  0.07  0.03]\n",
        " [ 0.03  0.1   0.02  0.02  0.74  0.01  0.02  0.01  0.02  0.02]\n",
        " [ 0.01  0.03  0.01  0.09  0.01  0.72  0.07  0.01  0.03  0.02]\n",
        " [ 0.05  0.05  0.01  0.03  0.01  0.05  0.69  0.01  0.07  0.01]\n",
        " [ 0.02  0.12  0.03  0.02  0.01  0.01  0.01  0.76  0.01  0.01]\n",
        " [ 0.05  0.07  0.02  0.05  0.01  0.02  0.07  0.01  0.67  0.03]\n",
        " [ 0.09  0.05  0.03  0.04  0.01  0.02  0.02  0.01  0.05  0.68]]"
       ]
      },
      {
       "output_type": "stream",
       "stream": "stdout",
       "text": [
        "\n",
        "19"
       ]
      },
      {
       "output_type": "stream",
       "stream": "stdout",
       "text": [
        " 0.171404425323 0.165949600492\n",
        "[[ 0.79  0.09  0.01  0.01  0.01  0.01  0.02  0.01  0.02  0.03]\n",
        " [ 0.05  0.87  0.01  0.01  0.01  0.    0.01  0.02  0.01  0.01]\n",
        " [ 0.01  0.05  0.82  0.02  0.01  0.01  0.01  0.03  0.02  0.02]\n",
        " [ 0.03  0.06  0.02  0.63  0.02  0.08  0.04  0.02  0.07  0.03]\n",
        " [ 0.03  0.1   0.02  0.02  0.74  0.01  0.02  0.01  0.02  0.02]\n",
        " [ 0.01  0.03  0.01  0.09  0.01  0.72  0.07  0.01  0.03  0.02]\n",
        " [ 0.05  0.05  0.01  0.04  0.01  0.05  0.69  0.01  0.08  0.01]\n",
        " [ 0.02  0.12  0.04  0.02  0.01  0.01  0.01  0.75  0.01  0.01]\n",
        " [ 0.05  0.07  0.02  0.05  0.01  0.02  0.07  0.01  0.66  0.03]\n",
        " [ 0.09  0.05  0.03  0.04  0.01  0.03  0.02  0.01  0.05  0.68]]"
       ]
      },
      {
       "output_type": "stream",
       "stream": "stdout",
       "text": [
        "\n",
        "21"
       ]
      },
      {
       "output_type": "stream",
       "stream": "stdout",
       "text": [
        " 0.17036724032 0.166448985864\n",
        "[[ 0.79  0.09  0.01  0.01  0.01  0.01  0.03  0.01  0.02  0.03]\n",
        " [ 0.05  0.87  0.01  0.01  0.01  0.    0.01  0.02  0.01  0.01]\n",
        " [ 0.01  0.05  0.82  0.02  0.01  0.01  0.01  0.03  0.02  0.02]\n",
        " [ 0.03  0.06  0.02  0.62  0.02  0.08  0.04  0.02  0.08  0.03]\n",
        " [ 0.03  0.1   0.02  0.02  0.73  0.01  0.02  0.01  0.02  0.02]\n",
        " [ 0.01  0.03  0.01  0.09  0.01  0.72  0.07  0.01  0.03  0.02]\n",
        " [ 0.05  0.05  0.01  0.04  0.01  0.05  0.68  0.01  0.08  0.01]\n",
        " [ 0.02  0.12  0.04  0.02  0.01  0.01  0.01  0.75  0.01  0.01]\n",
        " [ 0.05  0.07  0.02  0.06  0.01  0.02  0.07  0.01  0.66  0.04]\n",
        " [ 0.09  0.05  0.03  0.04  0.01  0.03  0.02  0.01  0.05  0.67]]"
       ]
      },
      {
       "output_type": "stream",
       "stream": "stdout",
       "text": [
        "\n",
        "23"
       ]
      },
      {
       "output_type": "stream",
       "stream": "stdout",
       "text": [
        " 0.171634910879 0.166525814382\n",
        "[[ 0.78  0.09  0.01  0.01  0.01  0.01  0.03  0.01  0.02  0.03]\n",
        " [ 0.05  0.87  0.01  0.01  0.01  0.    0.01  0.02  0.01  0.01]\n",
        " [ 0.01  0.05  0.81  0.02  0.01  0.01  0.01  0.03  0.02  0.02]\n",
        " [ 0.03  0.06  0.02  0.62  0.02  0.08  0.04  0.02  0.08  0.03]\n",
        " [ 0.03  0.1   0.02  0.03  0.73  0.01  0.02  0.01  0.02  0.02]\n",
        " [ 0.01  0.03  0.01  0.09  0.01  0.71  0.07  0.01  0.03  0.02]\n",
        " [ 0.06  0.05  0.01  0.04  0.01  0.05  0.68  0.01  0.08  0.01]\n",
        " [ 0.02  0.12  0.04  0.02  0.01  0.01  0.01  0.75  0.01  0.01]\n",
        " [ 0.05  0.07  0.02  0.06  0.01  0.03  0.07  0.01  0.65  0.04]\n",
        " [ 0.09  0.05  0.03  0.04  0.01  0.03  0.02  0.01  0.05  0.67]]"
       ]
      },
      {
       "output_type": "stream",
       "stream": "stdout",
       "text": [
        "\n",
        "25"
       ]
      },
      {
       "output_type": "stream",
       "stream": "stdout",
       "text": [
        " 0.171020282729 0.166295328826\n",
        "[[ 0.78  0.09  0.01  0.01  0.01  0.01  0.03  0.01  0.02  0.03]\n",
        " [ 0.05  0.86  0.01  0.01  0.01  0.    0.01  0.02  0.01  0.01]\n",
        " [ 0.01  0.05  0.81  0.02  0.01  0.01  0.01  0.03  0.02  0.02]\n",
        " [ 0.03  0.06  0.02  0.61  0.02  0.08  0.04  0.02  0.08  0.03]\n",
        " [ 0.03  0.11  0.03  0.03  0.73  0.01  0.02  0.01  0.03  0.02]\n",
        " [ 0.01  0.03  0.01  0.09  0.01  0.71  0.07  0.01  0.03  0.02]\n",
        " [ 0.06  0.05  0.01  0.04  0.01  0.06  0.68  0.01  0.08  0.01]\n",
        " [ 0.02  0.12  0.04  0.02  0.01  0.01  0.01  0.74  0.01  0.01]\n",
        " [ 0.05  0.07  0.02  0.06  0.01  0.03  0.07  0.01  0.65  0.04]\n",
        " [ 0.09  0.05  0.03  0.04  0.01  0.03  0.02  0.01  0.05  0.66]]"
       ]
      },
      {
       "output_type": "stream",
       "stream": "stdout",
       "text": [
        "\n",
        "27"
       ]
      },
      {
       "output_type": "stream",
       "stream": "stdout",
       "text": [
        " 0.169829440688 0.164758758451\n",
        "[[ 0.78  0.1   0.01  0.01  0.01  0.01  0.03  0.01  0.02  0.03]\n",
        " [ 0.05  0.86  0.01  0.01  0.01  0.    0.01  0.02  0.01  0.01]\n",
        " [ 0.01  0.05  0.81  0.02  0.01  0.01  0.01  0.03  0.02  0.02]\n",
        " [ 0.03  0.06  0.02  0.61  0.02  0.09  0.04  0.02  0.08  0.03]\n",
        " [ 0.03  0.11  0.03  0.03  0.72  0.01  0.02  0.01  0.03  0.02]\n",
        " [ 0.01  0.03  0.01  0.09  0.01  0.71  0.07  0.01  0.03  0.02]\n",
        " [ 0.06  0.05  0.01  0.04  0.01  0.06  0.67  0.01  0.08  0.01]\n",
        " [ 0.02  0.12  0.04  0.02  0.01  0.01  0.01  0.74  0.01  0.01]\n",
        " [ 0.05  0.07  0.02  0.06  0.01  0.03  0.07  0.01  0.65  0.04]\n",
        " [ 0.09  0.05  0.03  0.04  0.01  0.03  0.02  0.01  0.05  0.66]]"
       ]
      },
      {
       "output_type": "stream",
       "stream": "stdout",
       "text": [
        "\n",
        "29"
       ]
      },
      {
       "output_type": "stream",
       "stream": "stdout",
       "text": [
        " 0.170059926245 0.16606484327\n"
       ]
      }
     ],
     "prompt_number": 9
    },
    {
     "cell_type": "code",
     "collapsed": false,
     "input": [
      "%pylab inline"
     ],
     "language": "python",
     "metadata": {},
     "outputs": [
      {
       "output_type": "stream",
       "stream": "stdout",
       "text": [
        "Populating the interactive namespace from numpy and matplotlib\n"
       ]
      }
     ],
     "prompt_number": 10
    },
    {
     "cell_type": "code",
     "collapsed": false,
     "input": [
      "def plot_error(all_k, error, X_test):\n",
      "    figure(figsize=(12,8))\n",
      "    sd = np.sqrt(error*(1.0-error)/X_test.shape[0])\n",
      "    errorbar(all_k, error[:,0], yerr=sd[:,0], label='Maj')\n",
      "    errorbar(all_k, error[:,1], yerr=sd[:,1], label='MinKL')\n",
      "    legend()\n",
      "    grid()\n",
      "    xlabel('neighborhood size')\n",
      "    ylabel('error rate')\n",
      "plot_error(all_k, all_errors, X_test)"
     ],
     "language": "python",
     "metadata": {},
     "outputs": [
      {
       "metadata": {},
       "output_type": "display_data",
       "png": "[encoded data removed]",
       "text": [
        "<matplotlib.figure.Figure at 0x3061b630>"
       ]
      }
     ],
     "prompt_number": 11
    },
    {
     "cell_type": "code",
     "collapsed": false,
     "input": [],
     "language": "python",
     "metadata": {},
     "outputs": []
    }
   ],
   "metadata": {}
  }
 ]
}