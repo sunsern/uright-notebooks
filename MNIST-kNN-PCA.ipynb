{
 "metadata": {
  "name": ""
 },
 "nbformat": 3,
 "nbformat_minor": 0,
 "worksheets": [
  {
   "cells": [
    {
     "cell_type": "markdown",
     "metadata": {},
     "source": [
      "### Preprocessing\n",
      "\n",
      "* Scale down 50%\n",
      "* 100 PCA components"
     ]
    },
    {
     "cell_type": "code",
     "collapsed": false,
     "input": [
      "%pylab inline"
     ],
     "language": "python",
     "metadata": {},
     "outputs": [
      {
       "output_type": "stream",
       "stream": "stdout",
       "text": [
        "Populating the interactive namespace from numpy and matplotlib\n"
       ]
      },
      {
       "output_type": "stream",
       "stream": "stderr",
       "text": [
        "WARNING: pylab import has clobbered these variables: ['random']\n",
        "`%pylab --no-import-all` prevents importing * from pylab and numpy\n"
       ]
      }
     ],
     "prompt_number": 7
    },
    {
     "cell_type": "code",
     "collapsed": false,
     "input": [
      "def scale_image(x, scale=0.5):\n",
      "    from scipy.misc import imresize\n",
      "    n = x.shape[0]\n",
      "    sx = x.reshape((np.sqrt(n),np.sqrt(n)))\n",
      "    small = imresize(sx, scale)\n",
      "    return small.reshape(-1)\n",
      "\n",
      "def transform_data_pca(X):\n",
      "    from sklearn.decomposition import PCA\n",
      "    X = np.array([scale_image(x, 0.5) for x in X])\n",
      "    pca = PCA(n_components=100)\n",
      "    Tx = pca.fit_transform(X)\n",
      "    print(pca.explained_variance_ratio_.cumsum()) \n",
      "    return Tx"
     ],
     "language": "python",
     "metadata": {},
     "outputs": [],
     "prompt_number": 1
    },
    {
     "cell_type": "code",
     "collapsed": false,
     "input": [
      "import numpy as np\n",
      "from sklearn.datasets import fetch_mldata\n",
      " \n",
      "mnist = fetch_mldata('MNIST original', data_home='.')\n",
      "\n",
      "max_n = min(100000, len(mnist.data))\n",
      "rand_idx = range(len(mnist.data))\n",
      "np.random.shuffle(rand_idx)\n",
      "mnist.data = mnist.data[rand_idx[:max_n]]\n",
      "mnist.target = mnist.target[rand_idx[:max_n]].astype(int)\n",
      "\n",
      "transformed_data = transform_data_pca(mnist.data)"
     ],
     "language": "python",
     "metadata": {},
     "outputs": [
      {
       "output_type": "stream",
       "stream": "stdout",
       "text": [
        "[ 0.11927157  0.20141198  0.27317535  0.33701896  0.39595125  0.44568336\n",
        "  0.48403913  0.51638455  0.54801397  0.57409843  0.59673934  0.6186863\n",
        "  0.63767529  0.65573946  0.67259762  0.68888316  0.70268778  0.71612584\n",
        "  0.72849945  0.74043844  0.75145726  0.76170285  0.77168574  0.78086334\n",
        "  0.78990028  0.79833735  0.80654752  0.81445466  0.82178672  0.82851853\n",
        "  0.83508252  0.84144811  0.84732361  0.85311327  0.85864321  0.86371521\n",
        "  0.86869694  0.87344925  0.87809384  0.88256871  0.88695871  0.89115231\n",
        "  0.89511105  0.89896974  0.90265163  0.90629467  0.90967628  0.91296343\n",
        "  0.9161359   0.91926056  0.92215473  0.92500793  0.92777457  0.93044488\n",
        "  0.93305222  0.93558822  0.93805705  0.94040592  0.94274031  0.94502212\n",
        "  0.94720633  0.94930085  0.95128694  0.95319509  0.95502267  0.95680166\n",
        "  0.95849345  0.96013987  0.96175307  0.96334118  0.96484113  0.96631602\n",
        "  0.96775059  0.96912943  0.97043201  0.9716996   0.97293683  0.9741189\n",
        "  0.9752639   0.97637341  0.9774712   0.97853621  0.9795563   0.98052763\n",
        "  0.98148708  0.9824244   0.98332492  0.98419504  0.98502328  0.98584033\n",
        "  0.9866374   0.98737122  0.98806358  0.98872808  0.98936969  0.98996419\n",
        "  0.99054721  0.99111421  0.99166638  0.99218236]\n"
       ]
      }
     ],
     "prompt_number": 10
    },
    {
     "cell_type": "code",
     "collapsed": false,
     "input": [
      "def kld(p,q):\n",
      "    return -np.sum(p * np.log(q))\n",
      "    \n",
      "def alpha_divergence(exp, obs, alpha=1):\n",
      "    if alpha==1:\n",
      "        return kld(obs, exp)\n",
      "    p = obs\n",
      "    q = exp\n",
      "    return (np.sum((p**alpha)*(q**(1-alpha))) - 1.0)/(alpha*(alpha-1))\n",
      "\n",
      "def alpha_classifier(obs, P, alpha):\n",
      "    c = np.argmin([alpha_divergence(P[i,:], obs, alpha) for i in range(P.shape[0])])\n",
      "    return c\n",
      "\n",
      "def max_classifier(obs):\n",
      "    return obs.argmax()"
     ],
     "language": "python",
     "metadata": {},
     "outputs": [],
     "prompt_number": 11
    },
    {
     "cell_type": "code",
     "collapsed": false,
     "input": [
      "from sklearn import cross_validation\n",
      "from sklearn.neighbors import KNeighborsClassifier\n",
      "import pickle\n",
      "import random\n",
      "\n",
      "def make_distribution(Sx, M):\n",
      "    dist,_  = np.histogram(Sx, bins=M, range=(0,M), density=True)\n",
      "    return dist\n",
      "    \n",
      "def prototypical_P(nx, Y_train, M):\n",
      "    m = make_distribution(Y_train[nx].reshape(-1), M)\n",
      "    print m.round(2)\n",
      "    return m\n",
      "\n",
      "def compute_errors_fixed_P(X_test, Y_test, Y_train, P, nn_all, kn, M, alpha):         \n",
      "    correct_ll = 0\n",
      "    correct_ah = 0\n",
      "    nx = nn_all.kneighbors(X_test, n_neighbors=kn, return_distance=False)\n",
      "    for i,x in enumerate(nx):\n",
      "        dx = make_distribution(Y_train[x], M)\n",
      "        ll = max_classifier(dx)\n",
      "        ah = alpha_classifier(dx, P, alpha)\n",
      "        if ll == Y_test[i]:\n",
      "            correct_ll += 1\n",
      "        if ah == Y_test[i]:\n",
      "            correct_ah += 1\n",
      "    return 1.0 - np.array([float(correct_ll)/len(X_test), float(correct_ah)/len(X_test)])\n",
      "\n",
      "def run_experiment_fixed_P(kfold, X, Y, alpha, bias=0.01, metric='manhattan'):\n",
      "    test_errors = []\n",
      "    plot_data = {}\n",
      "    skf = cross_validation.StratifiedKFold(Y, n_folds=kfold)\n",
      "    M = np.max(Y).astype(int) + 1\n",
      "    for (fold_idx,(train_index, test_index)) in enumerate(skf):\n",
      "        \n",
      "        print \"== Fold %d ==\"%fold_idx\n",
      "        \n",
      "        X_train = X[train_index]\n",
      "        Y_train = Y[train_index] \n",
      "        X_test = X[test_index]\n",
      "        Y_test = Y[test_index]\n",
      "            \n",
      "        # train overall NN models\n",
      "        print \"Fitting model...\"\n",
      "        nn_all = KNeighborsClassifier(metric=metric)\n",
      "        nn_all.fit(X_train, Y_train)\n",
      "            \n",
      "        # compute test errors using different k\n",
      "        test_err = []\n",
      "        all_kn = [1,3,5,7,9,11,20,40]\n",
      "        for kn in all_kn:\n",
      "            \n",
      "            print \"Finding mean for k=%d...\"%kn\n",
      "            P = np.zeros((M,M))\n",
      "            for j in range(M):\n",
      "                idx = (Y_train == j)\n",
      "                #i_idx, = np.nonzero(idx)\n",
      "                #idx = np.random.choice(i_idx, size=10)\n",
      "                nx = nn_all.kneighbors(X_train[idx], n_neighbors=kn, return_distance=False)\n",
      "                P[j,:] = prototypical_P(nx, Y_train, M) + bias\n",
      "                P[j,:] = P[j,:] / P[j,:].sum()\n",
      "   \n",
      "            print \"Saving plot_data...\"\n",
      "            plot_data[(fold_idx, kn)] = P\n",
      "            pickle.dump(plot_data, open('mnist_knn_plot_data.p','wb'))\n",
      "                \n",
      "            print \"Start testing...\"\n",
      "            test_err.append(compute_errors_fixed_P(X_test, Y_test, Y_train, P, nn_all, kn, M, alpha))\n",
      "            #raise\n",
      "            \n",
      "        print test_err\n",
      "        test_errors.append(test_err)\n",
      "        \n",
      "    test_error_mean = np.mean(test_errors, axis=0)\n",
      "    test_error_std = np.std(test_errors, axis=0)\n",
      "    return (test_error_mean, test_error_std, all_kn) \n",
      "\n",
      "def plot_results(ts_m,ts_sd,x):\n",
      "    figure(figsize=(10,8))\n",
      "    errorbar(x, ts_m[:,0], yerr=ts_sd[:,0], fmt='sb-', label='max', lw=2)\n",
      "    errorbar(x, ts_m[:,1], yerr=ts_sd[:,1], fmt='or-', label='alpha-d', lw=2)\n",
      "    legend()\n",
      "    xlabel('size of neighborhood')\n",
      "    ylabel('error rate')\n",
      "    title(\"Test error\")\n",
      "    grid()"
     ],
     "language": "python",
     "metadata": {},
     "outputs": [],
     "prompt_number": 12
    },
    {
     "cell_type": "code",
     "collapsed": false,
     "input": [
      "(ts_m,ts_sd,x) = run_experiment_fixed_P(3, transformed_data, mnist.target, alpha=1, bias=1e-2)\n",
      "plot_results(ts_m,ts_sd,x)"
     ],
     "language": "python",
     "metadata": {},
     "outputs": [
      {
       "output_type": "stream",
       "stream": "stdout",
       "text": [
        "== Fold 0 ==\n",
        "Fitting model..."
       ]
      },
      {
       "output_type": "stream",
       "stream": "stdout",
       "text": [
        "\n",
        "Finding mean for k=1..."
       ]
      },
      {
       "output_type": "stream",
       "stream": "stdout",
       "text": [
        "\n",
        "[ 1.  0.  0.  0.  0.  0.  0.  0.  0.  0.]"
       ]
      },
      {
       "output_type": "stream",
       "stream": "stdout",
       "text": [
        "\n",
        "[ 0.  1.  0.  0.  0.  0.  0.  0.  0.  0.]"
       ]
      },
      {
       "output_type": "stream",
       "stream": "stdout",
       "text": [
        "\n",
        "[ 0.  0.  1.  0.  0.  0.  0.  0.  0.  0.]"
       ]
      },
      {
       "output_type": "stream",
       "stream": "stdout",
       "text": [
        "\n",
        "[ 0.  0.  0.  1.  0.  0.  0.  0.  0.  0.]"
       ]
      },
      {
       "output_type": "stream",
       "stream": "stdout",
       "text": [
        "\n",
        "[ 0.  0.  0.  0.  1.  0.  0.  0.  0.  0.]"
       ]
      },
      {
       "output_type": "stream",
       "stream": "stdout",
       "text": [
        "\n",
        "[ 0.  0.  0.  0.  0.  1.  0.  0.  0.  0.]"
       ]
      },
      {
       "output_type": "stream",
       "stream": "stdout",
       "text": [
        "\n",
        "[ 0.  0.  0.  0.  0.  0.  1.  0.  0.  0.]"
       ]
      },
      {
       "output_type": "stream",
       "stream": "stdout",
       "text": [
        "\n",
        "[ 0.  0.  0.  0.  0.  0.  0.  1.  0.  0.]"
       ]
      },
      {
       "output_type": "stream",
       "stream": "stdout",
       "text": [
        "\n",
        "[ 0.  0.  0.  0.  0.  0.  0.  0.  1.  0.]"
       ]
      },
      {
       "output_type": "stream",
       "stream": "stdout",
       "text": [
        "\n",
        "[ 0.  0.  0.  0.  0.  0.  0.  0.  0.  1.]"
       ]
      },
      {
       "output_type": "stream",
       "stream": "stdout",
       "text": [
        "\n",
        "Saving plot_data...\n",
        "Start testing...\n",
        "Finding mean for k=3..."
       ]
      },
      {
       "output_type": "stream",
       "stream": "stdout",
       "text": [
        "\n",
        "[ 0.99  0.    0.    0.    0.    0.    0.    0.    0.    0.  ]"
       ]
      },
      {
       "output_type": "stream",
       "stream": "stdout",
       "text": [
        "\n",
        "[ 0.    0.99  0.    0.    0.    0.    0.    0.    0.    0.  ]"
       ]
      },
      {
       "output_type": "stream",
       "stream": "stdout",
       "text": [
        "\n",
        "[ 0.01  0.    0.97  0.    0.    0.    0.    0.01  0.    0.  ]"
       ]
      },
      {
       "output_type": "stream",
       "stream": "stdout",
       "text": [
        "\n",
        "[ 0.    0.    0.    0.97  0.    0.01  0.    0.    0.01  0.  ]"
       ]
      },
      {
       "output_type": "stream",
       "stream": "stdout",
       "text": [
        "\n",
        "[ 0.    0.    0.    0.    0.97  0.    0.    0.    0.    0.02]"
       ]
      },
      {
       "output_type": "stream",
       "stream": "stdout",
       "text": [
        "\n",
        "[ 0.    0.    0.    0.01  0.    0.97  0.01  0.    0.    0.01]"
       ]
      },
      {
       "output_type": "stream",
       "stream": "stdout",
       "text": [
        "\n",
        "[ 0.    0.    0.    0.    0.    0.    0.99  0.    0.    0.  ]"
       ]
      },
      {
       "output_type": "stream",
       "stream": "stdout",
       "text": [
        "\n",
        "[ 0.    0.01  0.    0.    0.    0.    0.    0.98  0.    0.01]"
       ]
      },
      {
       "output_type": "stream",
       "stream": "stdout",
       "text": [
        "\n",
        "[ 0.    0.01  0.    0.01  0.    0.01  0.    0.    0.95  0.01]"
       ]
      },
      {
       "output_type": "stream",
       "stream": "stdout",
       "text": [
        "\n",
        "[ 0.    0.    0.    0.    0.01  0.    0.    0.01  0.    0.97]"
       ]
      },
      {
       "output_type": "stream",
       "stream": "stdout",
       "text": [
        "\n",
        "Saving plot_data...\n",
        "Start testing...\n",
        "Finding mean for k=5..."
       ]
      },
      {
       "output_type": "stream",
       "stream": "stdout",
       "text": [
        "\n",
        "[ 0.99  0.    0.    0.    0.    0.    0.    0.    0.    0.  ]"
       ]
      },
      {
       "output_type": "stream",
       "stream": "stdout",
       "text": [
        "\n",
        "[ 0.    0.99  0.    0.    0.    0.    0.    0.    0.    0.  ]"
       ]
      },
      {
       "output_type": "stream",
       "stream": "stdout",
       "text": [
        "\n",
        "[ 0.01  0.01  0.96  0.01  0.    0.    0.    0.01  0.    0.  ]"
       ]
      },
      {
       "output_type": "stream",
       "stream": "stdout",
       "text": [
        "\n",
        "[ 0.    0.    0.01  0.95  0.    0.02  0.    0.01  0.01  0.01]"
       ]
      },
      {
       "output_type": "stream",
       "stream": "stdout",
       "text": [
        "\n",
        "[ 0.    0.01  0.    0.    0.95  0.    0.    0.    0.    0.04]"
       ]
      },
      {
       "output_type": "stream",
       "stream": "stdout",
       "text": [
        "\n",
        "[ 0.    0.    0.    0.02  0.    0.95  0.01  0.    0.01  0.01]"
       ]
      },
      {
       "output_type": "stream",
       "stream": "stdout",
       "text": [
        "\n",
        "[ 0.    0.    0.    0.    0.    0.    0.99  0.    0.    0.  ]"
       ]
      },
      {
       "output_type": "stream",
       "stream": "stdout",
       "text": [
        "\n",
        "[ 0.    0.01  0.    0.    0.01  0.    0.    0.97  0.    0.01]"
       ]
      },
      {
       "output_type": "stream",
       "stream": "stdout",
       "text": [
        "\n",
        "[ 0.    0.01  0.    0.01  0.01  0.02  0.01  0.    0.92  0.01]"
       ]
      },
      {
       "output_type": "stream",
       "stream": "stdout",
       "text": [
        "\n",
        "[ 0.    0.    0.    0.    0.01  0.    0.    0.02  0.    0.96]"
       ]
      },
      {
       "output_type": "stream",
       "stream": "stdout",
       "text": [
        "\n",
        "Saving plot_data...\n",
        "Start testing...\n",
        "Finding mean for k=7..."
       ]
      },
      {
       "output_type": "stream",
       "stream": "stdout",
       "text": [
        "\n",
        "[ 0.99  0.    0.    0.    0.    0.    0.    0.    0.    0.  ]"
       ]
      },
      {
       "output_type": "stream",
       "stream": "stdout",
       "text": [
        "\n",
        "[ 0.    0.99  0.    0.    0.    0.    0.    0.    0.    0.  ]"
       ]
      },
      {
       "output_type": "stream",
       "stream": "stdout",
       "text": [
        "\n",
        "[ 0.01  0.01  0.95  0.01  0.    0.    0.    0.01  0.    0.  ]"
       ]
      },
      {
       "output_type": "stream",
       "stream": "stdout",
       "text": [
        "\n",
        "[ 0.    0.    0.01  0.94  0.    0.02  0.    0.01  0.01  0.01]"
       ]
      },
      {
       "output_type": "stream",
       "stream": "stdout",
       "text": [
        "\n",
        "[ 0.    0.01  0.    0.    0.94  0.    0.    0.    0.    0.04]"
       ]
      },
      {
       "output_type": "stream",
       "stream": "stdout",
       "text": [
        "\n",
        "[ 0.    0.    0.    0.02  0.    0.94  0.01  0.    0.01  0.01]"
       ]
      },
      {
       "output_type": "stream",
       "stream": "stdout",
       "text": [
        "\n",
        "[ 0.01  0.    0.    0.    0.    0.    0.98  0.    0.    0.  ]"
       ]
      },
      {
       "output_type": "stream",
       "stream": "stdout",
       "text": [
        "\n",
        "[ 0.    0.01  0.    0.    0.01  0.    0.    0.96  0.    0.02]"
       ]
      },
      {
       "output_type": "stream",
       "stream": "stdout",
       "text": [
        "\n",
        "[ 0.01  0.01  0.    0.02  0.01  0.02  0.01  0.    0.91  0.02]"
       ]
      },
      {
       "output_type": "stream",
       "stream": "stdout",
       "text": [
        "\n",
        "[ 0.    0.    0.    0.01  0.02  0.    0.    0.02  0.    0.95]"
       ]
      },
      {
       "output_type": "stream",
       "stream": "stdout",
       "text": [
        "\n",
        "Saving plot_data...\n",
        "Start testing...\n",
        "Finding mean for k=9..."
       ]
      },
      {
       "output_type": "stream",
       "stream": "stdout",
       "text": [
        "\n",
        "[ 0.99  0.    0.    0.    0.    0.    0.    0.    0.    0.  ]"
       ]
      },
      {
       "output_type": "stream",
       "stream": "stdout",
       "text": [
        "\n",
        "[ 0.    0.99  0.    0.    0.    0.    0.    0.    0.    0.  ]"
       ]
      },
      {
       "output_type": "stream",
       "stream": "stdout",
       "text": [
        "\n",
        "[ 0.01  0.01  0.94  0.01  0.    0.    0.    0.02  0.01  0.  ]"
       ]
      },
      {
       "output_type": "stream",
       "stream": "stdout",
       "text": [
        "\n",
        "[ 0.    0.01  0.01  0.93  0.    0.02  0.    0.01  0.01  0.01]"
       ]
      },
      {
       "output_type": "stream",
       "stream": "stdout",
       "text": [
        "\n",
        "[ 0.    0.01  0.    0.    0.93  0.    0.    0.    0.    0.05]"
       ]
      },
      {
       "output_type": "stream",
       "stream": "stdout",
       "text": [
        "\n",
        "[ 0.    0.    0.    0.02  0.    0.93  0.01  0.    0.01  0.01]"
       ]
      },
      {
       "output_type": "stream",
       "stream": "stdout",
       "text": [
        "\n",
        "[ 0.01  0.    0.    0.    0.    0.01  0.98  0.    0.    0.  ]"
       ]
      },
      {
       "output_type": "stream",
       "stream": "stdout",
       "text": [
        "\n",
        "[ 0.    0.01  0.    0.    0.01  0.    0.    0.95  0.    0.02]"
       ]
      },
      {
       "output_type": "stream",
       "stream": "stdout",
       "text": [
        "\n",
        "[ 0.01  0.01  0.01  0.02  0.01  0.02  0.01  0.    0.89  0.02]"
       ]
      },
      {
       "output_type": "stream",
       "stream": "stdout",
       "text": [
        "\n",
        "[ 0.    0.    0.    0.01  0.02  0.    0.    0.02  0.    0.94]"
       ]
      },
      {
       "output_type": "stream",
       "stream": "stdout",
       "text": [
        "\n",
        "Saving plot_data...\n",
        "Start testing...\n",
        "Finding mean for k=11..."
       ]
      },
      {
       "output_type": "stream",
       "stream": "stdout",
       "text": [
        "\n",
        "[ 0.99  0.    0.    0.    0.    0.    0.01  0.    0.    0.  ]"
       ]
      },
      {
       "output_type": "stream",
       "stream": "stdout",
       "text": [
        "\n",
        "[ 0.    0.99  0.    0.    0.    0.    0.    0.    0.    0.  ]"
       ]
      },
      {
       "output_type": "stream",
       "stream": "stdout",
       "text": [
        "\n",
        "[ 0.01  0.01  0.93  0.01  0.    0.    0.    0.02  0.01  0.  ]"
       ]
      },
      {
       "output_type": "stream",
       "stream": "stdout",
       "text": [
        "\n",
        "[ 0.    0.01  0.01  0.93  0.    0.03  0.    0.01  0.01  0.01]"
       ]
      },
      {
       "output_type": "stream",
       "stream": "stdout",
       "text": [
        "\n",
        "[ 0.    0.01  0.    0.    0.92  0.    0.    0.    0.    0.06]"
       ]
      },
      {
       "output_type": "stream",
       "stream": "stdout",
       "text": [
        "\n",
        "[ 0.    0.    0.    0.03  0.    0.92  0.01  0.    0.01  0.01]"
       ]
      },
      {
       "output_type": "stream",
       "stream": "stdout",
       "text": [
        "\n",
        "[ 0.01  0.    0.    0.    0.    0.01  0.98  0.    0.    0.  ]"
       ]
      },
      {
       "output_type": "stream",
       "stream": "stdout",
       "text": [
        "\n",
        "[ 0.    0.01  0.    0.    0.01  0.    0.    0.95  0.    0.02]"
       ]
      },
      {
       "output_type": "stream",
       "stream": "stdout",
       "text": [
        "\n",
        "[ 0.01  0.01  0.01  0.02  0.01  0.03  0.01  0.    0.88  0.02]"
       ]
      },
      {
       "output_type": "stream",
       "stream": "stdout",
       "text": [
        "\n",
        "[ 0.    0.    0.    0.01  0.02  0.    0.    0.03  0.    0.93]"
       ]
      },
      {
       "output_type": "stream",
       "stream": "stdout",
       "text": [
        "\n",
        "Saving plot_data...\n",
        "Start testing...\n",
        "Finding mean for k=20..."
       ]
      },
      {
       "output_type": "stream",
       "stream": "stdout",
       "text": [
        "\n",
        "[ 0.98  0.    0.    0.    0.    0.    0.01  0.    0.    0.  ]"
       ]
      },
      {
       "output_type": "stream",
       "stream": "stdout",
       "text": [
        "\n",
        "[ 0.    0.99  0.    0.    0.    0.    0.    0.    0.    0.  ]"
       ]
      },
      {
       "output_type": "stream",
       "stream": "stdout",
       "text": [
        "\n",
        "[ 0.02  0.02  0.9   0.01  0.    0.    0.    0.02  0.01  0.  ]"
       ]
      },
      {
       "output_type": "stream",
       "stream": "stdout",
       "text": [
        "\n",
        "[ 0.    0.01  0.01  0.91  0.    0.03  0.    0.01  0.01  0.01]"
       ]
      },
      {
       "output_type": "stream",
       "stream": "stdout",
       "text": [
        "\n",
        "[ 0.    0.01  0.    0.    0.89  0.    0.01  0.01  0.    0.08]"
       ]
      },
      {
       "output_type": "stream",
       "stream": "stdout",
       "text": [
        "\n",
        "[ 0.01  0.01  0.    0.04  0.    0.9   0.02  0.    0.02  0.01]"
       ]
      },
      {
       "output_type": "stream",
       "stream": "stdout",
       "text": [
        "\n",
        "[ 0.01  0.01  0.    0.    0.    0.01  0.97  0.    0.    0.  ]"
       ]
      },
      {
       "output_type": "stream",
       "stream": "stdout",
       "text": [
        "\n",
        "[ 0.    0.02  0.    0.    0.01  0.    0.    0.94  0.    0.03]"
       ]
      },
      {
       "output_type": "stream",
       "stream": "stdout",
       "text": [
        "\n",
        "[ 0.01  0.02  0.01  0.03  0.01  0.03  0.01  0.01  0.85  0.03]"
       ]
      },
      {
       "output_type": "stream",
       "stream": "stdout",
       "text": [
        "\n",
        "[ 0.    0.    0.    0.01  0.03  0.    0.    0.03  0.    0.91]"
       ]
      },
      {
       "output_type": "stream",
       "stream": "stdout",
       "text": [
        "\n",
        "Saving plot_data...\n",
        "Start testing...\n",
        "Finding mean for k=40..."
       ]
      },
      {
       "output_type": "stream",
       "stream": "stdout",
       "text": [
        "\n",
        "[ 0.98  0.    0.    0.    0.    0.    0.01  0.    0.    0.  ]"
       ]
      },
      {
       "output_type": "stream",
       "stream": "stdout",
       "text": [
        "\n",
        "[ 0.    0.99  0.    0.    0.    0.    0.    0.    0.    0.  ]"
       ]
      },
      {
       "output_type": "stream",
       "stream": "stdout",
       "text": [
        "\n",
        "[ 0.02  0.03  0.86  0.02  0.01  0.    0.01  0.03  0.01  0.01]"
       ]
      },
      {
       "output_type": "stream",
       "stream": "stdout",
       "text": [
        "\n",
        "[ 0.    0.01  0.01  0.88  0.    0.04  0.    0.01  0.02  0.01]"
       ]
      },
      {
       "output_type": "stream",
       "stream": "stdout",
       "text": [
        "\n",
        "[ 0.    0.02  0.    0.    0.85  0.    0.01  0.01  0.    0.1 ]"
       ]
      },
      {
       "output_type": "stream",
       "stream": "stdout",
       "text": [
        "\n",
        "[ 0.01  0.01  0.    0.05  0.01  0.86  0.02  0.    0.02  0.02]"
       ]
      },
      {
       "output_type": "stream",
       "stream": "stdout",
       "text": [
        "\n",
        "[ 0.01  0.01  0.    0.    0.    0.01  0.96  0.    0.    0.  ]"
       ]
      },
      {
       "output_type": "stream",
       "stream": "stdout",
       "text": [
        "\n",
        "[ 0.    0.02  0.    0.    0.01  0.    0.    0.91  0.    0.04]"
       ]
      },
      {
       "output_type": "stream",
       "stream": "stdout",
       "text": [
        "\n",
        "[ 0.01  0.03  0.01  0.04  0.01  0.04  0.01  0.01  0.81  0.03]"
       ]
      },
      {
       "output_type": "stream",
       "stream": "stdout",
       "text": [
        "\n",
        "[ 0.01  0.01  0.    0.01  0.04  0.    0.    0.05  0.    0.88]"
       ]
      },
      {
       "output_type": "stream",
       "stream": "stdout",
       "text": [
        "\n",
        "Saving plot_data...\n",
        "Start testing...\n",
        "[array([ 0.03072769,  0.03072769]), array([ 0.03158481,  0.02987058]), array([ 0.03235622,  0.03059913]), array([ 0.03325619,  0.03184195]), array([ 0.03527042,  0.03261335]), array([ 0.0369418 ,  0.03411331]), array([ 0.04268449,  0.03981315]), array([ 0.05206994,  0.04757007])]"
       ]
      },
      {
       "output_type": "stream",
       "stream": "stdout",
       "text": [
        "\n",
        "== Fold 1 ==\n",
        "Fitting model..."
       ]
      },
      {
       "output_type": "stream",
       "stream": "stdout",
       "text": [
        "\n",
        "Finding mean for k=1..."
       ]
      },
      {
       "output_type": "stream",
       "stream": "stdout",
       "text": [
        "\n",
        "[ 1.  0.  0.  0.  0.  0.  0.  0.  0.  0.]"
       ]
      },
      {
       "output_type": "stream",
       "stream": "stdout",
       "text": [
        "\n",
        "[ 0.  1.  0.  0.  0.  0.  0.  0.  0.  0.]"
       ]
      },
      {
       "output_type": "stream",
       "stream": "stdout",
       "text": [
        "\n",
        "[ 0.  0.  1.  0.  0.  0.  0.  0.  0.  0.]"
       ]
      },
      {
       "output_type": "stream",
       "stream": "stdout",
       "text": [
        "\n",
        "[ 0.  0.  0.  1.  0.  0.  0.  0.  0.  0.]"
       ]
      },
      {
       "output_type": "stream",
       "stream": "stdout",
       "text": [
        "\n",
        "[ 0.  0.  0.  0.  1.  0.  0.  0.  0.  0.]"
       ]
      },
      {
       "output_type": "stream",
       "stream": "stdout",
       "text": [
        "\n",
        "[ 0.  0.  0.  0.  0.  1.  0.  0.  0.  0.]"
       ]
      },
      {
       "output_type": "stream",
       "stream": "stdout",
       "text": [
        "\n",
        "[ 0.  0.  0.  0.  0.  0.  1.  0.  0.  0.]"
       ]
      },
      {
       "output_type": "stream",
       "stream": "stdout",
       "text": [
        "\n",
        "[ 0.  0.  0.  0.  0.  0.  0.  1.  0.  0.]"
       ]
      },
      {
       "output_type": "stream",
       "stream": "stdout",
       "text": [
        "\n",
        "[ 0.  0.  0.  0.  0.  0.  0.  0.  1.  0.]"
       ]
      },
      {
       "output_type": "stream",
       "stream": "stdout",
       "text": [
        "\n",
        "[ 0.  0.  0.  0.  0.  0.  0.  0.  0.  1.]"
       ]
      },
      {
       "output_type": "stream",
       "stream": "stdout",
       "text": [
        "\n",
        "Saving plot_data...\n",
        "Start testing...\n",
        "Finding mean for k=3..."
       ]
      },
      {
       "output_type": "stream",
       "stream": "stdout",
       "text": [
        "\n",
        "[ 0.99  0.    0.    0.    0.    0.    0.    0.    0.    0.  ]"
       ]
      },
      {
       "output_type": "stream",
       "stream": "stdout",
       "text": [
        "\n",
        "[ 0.  1.  0.  0.  0.  0.  0.  0.  0.  0.]"
       ]
      },
      {
       "output_type": "stream",
       "stream": "stdout",
       "text": [
        "\n",
        "[ 0.    0.    0.97  0.    0.    0.    0.    0.01  0.    0.  ]"
       ]
      },
      {
       "output_type": "stream",
       "stream": "stdout",
       "text": [
        "\n",
        "[ 0.    0.    0.    0.97  0.    0.01  0.    0.    0.01  0.  ]"
       ]
      },
      {
       "output_type": "stream",
       "stream": "stdout",
       "text": [
        "\n",
        "[ 0.    0.    0.    0.    0.97  0.    0.    0.    0.    0.02]"
       ]
      },
      {
       "output_type": "stream",
       "stream": "stdout",
       "text": [
        "\n",
        "[ 0.    0.    0.    0.01  0.    0.97  0.01  0.    0.    0.  ]"
       ]
      },
      {
       "output_type": "stream",
       "stream": "stdout",
       "text": [
        "\n",
        "[ 0.    0.    0.    0.    0.    0.    0.99  0.    0.    0.  ]"
       ]
      },
      {
       "output_type": "stream",
       "stream": "stdout",
       "text": [
        "\n",
        "[ 0.    0.01  0.    0.    0.    0.    0.    0.98  0.    0.01]"
       ]
      },
      {
       "output_type": "stream",
       "stream": "stdout",
       "text": [
        "\n",
        "[ 0.    0.01  0.    0.01  0.    0.01  0.    0.    0.95  0.01]"
       ]
      },
      {
       "output_type": "stream",
       "stream": "stdout",
       "text": [
        "\n",
        "[ 0.    0.    0.    0.    0.01  0.    0.    0.01  0.    0.97]"
       ]
      },
      {
       "output_type": "stream",
       "stream": "stdout",
       "text": [
        "\n",
        "Saving plot_data...\n",
        "Start testing...\n",
        "Finding mean for k=5..."
       ]
      },
      {
       "output_type": "stream",
       "stream": "stdout",
       "text": [
        "\n",
        "[ 0.99  0.    0.    0.    0.    0.    0.    0.    0.    0.  ]"
       ]
      },
      {
       "output_type": "stream",
       "stream": "stdout",
       "text": [
        "\n",
        "[ 0.    0.99  0.    0.    0.    0.    0.    0.    0.    0.  ]"
       ]
      },
      {
       "output_type": "stream",
       "stream": "stdout",
       "text": [
        "\n",
        "[ 0.01  0.01  0.96  0.01  0.    0.    0.    0.01  0.    0.  ]"
       ]
      },
      {
       "output_type": "stream",
       "stream": "stdout",
       "text": [
        "\n",
        "[ 0.    0.    0.01  0.95  0.    0.02  0.    0.01  0.01  0.01]"
       ]
      },
      {
       "output_type": "stream",
       "stream": "stdout",
       "text": [
        "\n",
        "[ 0.    0.01  0.    0.    0.95  0.    0.    0.    0.    0.04]"
       ]
      },
      {
       "output_type": "stream",
       "stream": "stdout",
       "text": [
        "\n",
        "[ 0.    0.    0.    0.02  0.    0.95  0.01  0.    0.01  0.01]"
       ]
      },
      {
       "output_type": "stream",
       "stream": "stdout",
       "text": [
        "\n",
        "[ 0.    0.    0.    0.    0.    0.    0.99  0.    0.    0.  ]"
       ]
      },
      {
       "output_type": "stream",
       "stream": "stdout",
       "text": [
        "\n",
        "[ 0.    0.01  0.    0.    0.    0.    0.    0.97  0.    0.01]"
       ]
      },
      {
       "output_type": "stream",
       "stream": "stdout",
       "text": [
        "\n",
        "[ 0.    0.01  0.    0.01  0.    0.02  0.    0.    0.92  0.01]"
       ]
      },
      {
       "output_type": "stream",
       "stream": "stdout",
       "text": [
        "\n",
        "[ 0.    0.    0.    0.01  0.02  0.    0.    0.02  0.    0.95]"
       ]
      },
      {
       "output_type": "stream",
       "stream": "stdout",
       "text": [
        "\n",
        "Saving plot_data...\n",
        "Start testing...\n",
        "Finding mean for k=7..."
       ]
      },
      {
       "output_type": "stream",
       "stream": "stdout",
       "text": [
        "\n",
        "[ 0.99  0.    0.    0.    0.    0.    0.    0.    0.    0.  ]"
       ]
      },
      {
       "output_type": "stream",
       "stream": "stdout",
       "text": [
        "\n",
        "[ 0.    0.99  0.    0.    0.    0.    0.    0.    0.    0.  ]"
       ]
      },
      {
       "output_type": "stream",
       "stream": "stdout",
       "text": [
        "\n",
        "[ 0.01  0.01  0.94  0.01  0.    0.    0.    0.02  0.01  0.  ]"
       ]
      },
      {
       "output_type": "stream",
       "stream": "stdout",
       "text": [
        "\n",
        "[ 0.    0.    0.01  0.94  0.    0.02  0.    0.01  0.01  0.01]"
       ]
      },
      {
       "output_type": "stream",
       "stream": "stdout",
       "text": [
        "\n",
        "[ 0.    0.01  0.    0.    0.94  0.    0.    0.    0.    0.04]"
       ]
      },
      {
       "output_type": "stream",
       "stream": "stdout",
       "text": [
        "\n",
        "[ 0.    0.    0.    0.02  0.    0.94  0.01  0.    0.01  0.01]"
       ]
      },
      {
       "output_type": "stream",
       "stream": "stdout",
       "text": [
        "\n",
        "[ 0.01  0.    0.    0.    0.    0.    0.98  0.    0.    0.  ]"
       ]
      },
      {
       "output_type": "stream",
       "stream": "stdout",
       "text": [
        "\n",
        "[ 0.    0.01  0.    0.    0.01  0.    0.    0.96  0.    0.02]"
       ]
      },
      {
       "output_type": "stream",
       "stream": "stdout",
       "text": [
        "\n",
        "[ 0.01  0.01  0.01  0.02  0.    0.02  0.    0.    0.91  0.01]"
       ]
      },
      {
       "output_type": "stream",
       "stream": "stdout",
       "text": [
        "\n",
        "[ 0.    0.    0.    0.01  0.02  0.    0.    0.02  0.    0.94]"
       ]
      },
      {
       "output_type": "stream",
       "stream": "stdout",
       "text": [
        "\n",
        "Saving plot_data...\n",
        "Start testing...\n",
        "Finding mean for k=9..."
       ]
      },
      {
       "output_type": "stream",
       "stream": "stdout",
       "text": [
        "\n",
        "[ 0.99  0.    0.    0.    0.    0.    0.    0.    0.    0.  ]"
       ]
      },
      {
       "output_type": "stream",
       "stream": "stdout",
       "text": [
        "\n",
        "[ 0.    0.99  0.    0.    0.    0.    0.    0.    0.    0.  ]"
       ]
      },
      {
       "output_type": "stream",
       "stream": "stdout",
       "text": [
        "\n",
        "[ 0.01  0.01  0.93  0.01  0.    0.    0.    0.02  0.01  0.  ]"
       ]
      },
      {
       "output_type": "stream",
       "stream": "stdout",
       "text": [
        "\n",
        "[ 0.    0.01  0.01  0.94  0.    0.02  0.    0.01  0.01  0.01]"
       ]
      },
      {
       "output_type": "stream",
       "stream": "stdout",
       "text": [
        "\n",
        "[ 0.    0.01  0.    0.    0.93  0.    0.    0.    0.    0.05]"
       ]
      },
      {
       "output_type": "stream",
       "stream": "stdout",
       "text": [
        "\n",
        "[ 0.    0.    0.    0.02  0.    0.93  0.01  0.    0.01  0.01]"
       ]
      },
      {
       "output_type": "stream",
       "stream": "stdout",
       "text": [
        "\n",
        "[ 0.01  0.    0.    0.    0.    0.01  0.98  0.    0.    0.  ]"
       ]
      },
      {
       "output_type": "stream",
       "stream": "stdout",
       "text": [
        "\n",
        "[ 0.    0.01  0.    0.    0.01  0.    0.    0.96  0.    0.02]"
       ]
      },
      {
       "output_type": "stream",
       "stream": "stdout",
       "text": [
        "\n",
        "[ 0.01  0.01  0.01  0.02  0.01  0.03  0.01  0.    0.89  0.02]"
       ]
      },
      {
       "output_type": "stream",
       "stream": "stdout",
       "text": [
        "\n",
        "[ 0.    0.    0.    0.01  0.02  0.    0.    0.02  0.    0.94]"
       ]
      },
      {
       "output_type": "stream",
       "stream": "stdout",
       "text": [
        "\n",
        "Saving plot_data...\n",
        "Start testing...\n",
        "Finding mean for k=11..."
       ]
      },
      {
       "output_type": "stream",
       "stream": "stdout",
       "text": [
        "\n",
        "[ 0.99  0.    0.    0.    0.    0.    0.01  0.    0.    0.  ]"
       ]
      },
      {
       "output_type": "stream",
       "stream": "stdout",
       "text": [
        "\n",
        "[ 0.    0.99  0.    0.    0.    0.    0.    0.    0.    0.  ]"
       ]
      },
      {
       "output_type": "stream",
       "stream": "stdout",
       "text": [
        "\n",
        "[ 0.01  0.02  0.93  0.01  0.    0.    0.    0.02  0.01  0.  ]"
       ]
      },
      {
       "output_type": "stream",
       "stream": "stdout",
       "text": [
        "\n",
        "[ 0.    0.01  0.01  0.93  0.    0.02  0.    0.01  0.01  0.01]"
       ]
      },
      {
       "output_type": "stream",
       "stream": "stdout",
       "text": [
        "\n",
        "[ 0.    0.01  0.    0.    0.92  0.    0.    0.01  0.    0.05]"
       ]
      },
      {
       "output_type": "stream",
       "stream": "stdout",
       "text": [
        "\n",
        "[ 0.    0.    0.    0.03  0.    0.93  0.01  0.    0.01  0.01]"
       ]
      },
      {
       "output_type": "stream",
       "stream": "stdout",
       "text": [
        "\n",
        "[ 0.01  0.    0.    0.    0.    0.01  0.98  0.    0.    0.  ]"
       ]
      },
      {
       "output_type": "stream",
       "stream": "stdout",
       "text": [
        "\n",
        "[ 0.    0.01  0.    0.    0.01  0.    0.    0.95  0.    0.02]"
       ]
      },
      {
       "output_type": "stream",
       "stream": "stdout",
       "text": [
        "\n",
        "[ 0.01  0.02  0.01  0.02  0.01  0.03  0.01  0.01  0.88  0.02]"
       ]
      },
      {
       "output_type": "stream",
       "stream": "stdout",
       "text": [
        "\n",
        "[ 0.    0.    0.    0.01  0.02  0.    0.    0.03  0.    0.93]"
       ]
      },
      {
       "output_type": "stream",
       "stream": "stdout",
       "text": [
        "\n",
        "Saving plot_data...\n",
        "Start testing...\n",
        "Finding mean for k=20..."
       ]
      },
      {
       "output_type": "stream",
       "stream": "stdout",
       "text": [
        "\n",
        "[ 0.98  0.    0.    0.    0.    0.    0.01  0.    0.    0.  ]"
       ]
      },
      {
       "output_type": "stream",
       "stream": "stdout",
       "text": [
        "\n",
        "[ 0.    0.99  0.    0.    0.    0.    0.    0.    0.    0.  ]"
       ]
      },
      {
       "output_type": "stream",
       "stream": "stdout",
       "text": [
        "\n",
        "[ 0.01  0.02  0.9   0.01  0.    0.    0.    0.02  0.01  0.  ]"
       ]
      },
      {
       "output_type": "stream",
       "stream": "stdout",
       "text": [
        "\n",
        "[ 0.    0.01  0.01  0.91  0.    0.03  0.    0.01  0.01  0.01]"
       ]
      },
      {
       "output_type": "stream",
       "stream": "stdout",
       "text": [
        "\n",
        "[ 0.    0.01  0.    0.    0.9   0.    0.01  0.01  0.    0.07]"
       ]
      },
      {
       "output_type": "stream",
       "stream": "stdout",
       "text": [
        "\n",
        "[ 0.01  0.01  0.    0.03  0.01  0.9   0.02  0.    0.01  0.01]"
       ]
      },
      {
       "output_type": "stream",
       "stream": "stdout",
       "text": [
        "\n",
        "[ 0.01  0.    0.    0.    0.    0.01  0.97  0.    0.    0.  ]"
       ]
      },
      {
       "output_type": "stream",
       "stream": "stdout",
       "text": [
        "\n",
        "[ 0.    0.02  0.    0.    0.01  0.    0.    0.93  0.    0.03]"
       ]
      },
      {
       "output_type": "stream",
       "stream": "stdout",
       "text": [
        "\n",
        "[ 0.01  0.02  0.01  0.03  0.01  0.03  0.01  0.01  0.85  0.03]"
       ]
      },
      {
       "output_type": "stream",
       "stream": "stdout",
       "text": [
        "\n",
        "[ 0.    0.01  0.    0.01  0.03  0.    0.    0.03  0.    0.91]"
       ]
      },
      {
       "output_type": "stream",
       "stream": "stdout",
       "text": [
        "\n",
        "Saving plot_data...\n",
        "Start testing...\n",
        "Finding mean for k=40..."
       ]
      },
      {
       "output_type": "stream",
       "stream": "stdout",
       "text": [
        "\n",
        "[ 0.98  0.    0.    0.    0.    0.    0.01  0.    0.    0.  ]"
       ]
      },
      {
       "output_type": "stream",
       "stream": "stdout",
       "text": [
        "\n",
        "[ 0.    0.99  0.    0.    0.    0.    0.    0.    0.    0.  ]"
       ]
      },
      {
       "output_type": "stream",
       "stream": "stdout",
       "text": [
        "\n",
        "[ 0.02  0.03  0.86  0.02  0.01  0.    0.01  0.03  0.01  0.01]"
       ]
      },
      {
       "output_type": "stream",
       "stream": "stdout",
       "text": [
        "\n",
        "[ 0.    0.01  0.01  0.88  0.    0.04  0.    0.01  0.02  0.01]"
       ]
      },
      {
       "output_type": "stream",
       "stream": "stdout",
       "text": [
        "\n",
        "[ 0.    0.02  0.    0.    0.86  0.    0.01  0.01  0.    0.1 ]"
       ]
      },
      {
       "output_type": "stream",
       "stream": "stdout",
       "text": [
        "\n",
        "[ 0.01  0.01  0.    0.05  0.01  0.87  0.02  0.    0.02  0.02]"
       ]
      },
      {
       "output_type": "stream",
       "stream": "stdout",
       "text": [
        "\n",
        "[ 0.01  0.01  0.    0.    0.    0.01  0.96  0.    0.    0.  ]"
       ]
      },
      {
       "output_type": "stream",
       "stream": "stdout",
       "text": [
        "\n",
        "[ 0.    0.02  0.    0.    0.01  0.    0.    0.91  0.    0.04]"
       ]
      },
      {
       "output_type": "stream",
       "stream": "stdout",
       "text": [
        "\n",
        "[ 0.01  0.03  0.01  0.04  0.01  0.04  0.01  0.01  0.8   0.03]"
       ]
      },
      {
       "output_type": "stream",
       "stream": "stdout",
       "text": [
        "\n",
        "[ 0.    0.01  0.    0.01  0.04  0.    0.    0.05  0.    0.88]"
       ]
      },
      {
       "output_type": "stream",
       "stream": "stdout",
       "text": [
        "\n",
        "Saving plot_data...\n",
        "Start testing...\n",
        "[array([ 0.03274332,  0.03274332]), array([ 0.03390048,  0.03282904]), array([ 0.03488621,  0.03364334]), array([ 0.03565765,  0.03437192]), array([ 0.03788626,  0.03660052]), array([ 0.03874341,  0.03660052]), array([ 0.04508636,  0.0417006 ]), array([ 0.05515793,  0.05005786])]"
       ]
      },
      {
       "output_type": "stream",
       "stream": "stdout",
       "text": [
        "\n",
        "== Fold 2 ==\n",
        "Fitting model..."
       ]
      },
      {
       "output_type": "stream",
       "stream": "stdout",
       "text": [
        "\n",
        "Finding mean for k=1..."
       ]
      },
      {
       "output_type": "stream",
       "stream": "stdout",
       "text": [
        "\n",
        "[ 1.  0.  0.  0.  0.  0.  0.  0.  0.  0.]"
       ]
      },
      {
       "output_type": "stream",
       "stream": "stdout",
       "text": [
        "\n",
        "[ 0.  1.  0.  0.  0.  0.  0.  0.  0.  0.]"
       ]
      },
      {
       "output_type": "stream",
       "stream": "stdout",
       "text": [
        "\n",
        "[ 0.  0.  1.  0.  0.  0.  0.  0.  0.  0.]"
       ]
      },
      {
       "output_type": "stream",
       "stream": "stdout",
       "text": [
        "\n",
        "[ 0.  0.  0.  1.  0.  0.  0.  0.  0.  0.]"
       ]
      },
      {
       "output_type": "stream",
       "stream": "stdout",
       "text": [
        "\n",
        "[ 0.  0.  0.  0.  1.  0.  0.  0.  0.  0.]"
       ]
      },
      {
       "output_type": "stream",
       "stream": "stdout",
       "text": [
        "\n",
        "[ 0.  0.  0.  0.  0.  1.  0.  0.  0.  0.]"
       ]
      },
      {
       "output_type": "stream",
       "stream": "stdout",
       "text": [
        "\n",
        "[ 0.  0.  0.  0.  0.  0.  1.  0.  0.  0.]"
       ]
      },
      {
       "output_type": "stream",
       "stream": "stdout",
       "text": [
        "\n",
        "[ 0.  0.  0.  0.  0.  0.  0.  1.  0.  0.]"
       ]
      },
      {
       "output_type": "stream",
       "stream": "stdout",
       "text": [
        "\n",
        "[ 0.  0.  0.  0.  0.  0.  0.  0.  1.  0.]"
       ]
      },
      {
       "output_type": "stream",
       "stream": "stdout",
       "text": [
        "\n",
        "[ 0.  0.  0.  0.  0.  0.  0.  0.  0.  1.]"
       ]
      },
      {
       "output_type": "stream",
       "stream": "stdout",
       "text": [
        "\n",
        "Saving plot_data...\n",
        "Start testing...\n",
        "Finding mean for k=3..."
       ]
      },
      {
       "output_type": "stream",
       "stream": "stdout",
       "text": [
        "\n",
        "[ 0.99  0.    0.    0.    0.    0.    0.    0.    0.    0.  ]"
       ]
      },
      {
       "output_type": "stream",
       "stream": "stdout",
       "text": [
        "\n",
        "[ 0.    0.99  0.    0.    0.    0.    0.    0.    0.    0.  ]"
       ]
      },
      {
       "output_type": "stream",
       "stream": "stdout",
       "text": [
        "\n",
        "[ 0.01  0.    0.97  0.    0.    0.    0.    0.01  0.    0.  ]"
       ]
      },
      {
       "output_type": "stream",
       "stream": "stdout",
       "text": [
        "\n",
        "[ 0.    0.    0.    0.97  0.    0.01  0.    0.    0.01  0.  ]"
       ]
      },
      {
       "output_type": "stream",
       "stream": "stdout",
       "text": [
        "\n",
        "[ 0.    0.    0.    0.    0.96  0.    0.    0.    0.    0.02]"
       ]
      },
      {
       "output_type": "stream",
       "stream": "stdout",
       "text": [
        "\n",
        "[ 0.    0.    0.    0.01  0.    0.96  0.01  0.    0.01  0.  ]"
       ]
      },
      {
       "output_type": "stream",
       "stream": "stdout",
       "text": [
        "\n",
        "[ 0.    0.    0.    0.    0.    0.    0.99  0.    0.    0.  ]"
       ]
      },
      {
       "output_type": "stream",
       "stream": "stdout",
       "text": [
        "\n",
        "[ 0.    0.01  0.    0.    0.    0.    0.    0.98  0.    0.01]"
       ]
      },
      {
       "output_type": "stream",
       "stream": "stdout",
       "text": [
        "\n",
        "[ 0.    0.01  0.    0.01  0.    0.01  0.    0.    0.95  0.01]"
       ]
      },
      {
       "output_type": "stream",
       "stream": "stdout",
       "text": [
        "\n",
        "[ 0.    0.    0.    0.    0.01  0.    0.    0.01  0.    0.97]"
       ]
      },
      {
       "output_type": "stream",
       "stream": "stdout",
       "text": [
        "\n",
        "Saving plot_data...\n",
        "Start testing...\n",
        "Finding mean for k=5..."
       ]
      },
      {
       "output_type": "stream",
       "stream": "stdout",
       "text": [
        "\n",
        "[ 0.99  0.    0.    0.    0.    0.    0.    0.    0.    0.  ]"
       ]
      },
      {
       "output_type": "stream",
       "stream": "stdout",
       "text": [
        "\n",
        "[ 0.    0.99  0.    0.    0.    0.    0.    0.    0.    0.  ]"
       ]
      },
      {
       "output_type": "stream",
       "stream": "stdout",
       "text": [
        "\n",
        "[ 0.01  0.01  0.96  0.    0.    0.    0.    0.01  0.    0.  ]"
       ]
      },
      {
       "output_type": "stream",
       "stream": "stdout",
       "text": [
        "\n",
        "[ 0.    0.    0.    0.95  0.    0.02  0.    0.01  0.01  0.01]"
       ]
      },
      {
       "output_type": "stream",
       "stream": "stdout",
       "text": [
        "\n",
        "[ 0.    0.01  0.    0.    0.95  0.    0.    0.    0.    0.03]"
       ]
      },
      {
       "output_type": "stream",
       "stream": "stdout",
       "text": [
        "\n",
        "[ 0.    0.    0.    0.02  0.    0.95  0.01  0.    0.01  0.01]"
       ]
      },
      {
       "output_type": "stream",
       "stream": "stdout",
       "text": [
        "\n",
        "[ 0.01  0.    0.    0.    0.    0.    0.99  0.    0.    0.  ]"
       ]
      },
      {
       "output_type": "stream",
       "stream": "stdout",
       "text": [
        "\n",
        "[ 0.    0.01  0.    0.    0.    0.    0.    0.97  0.    0.01]"
       ]
      },
      {
       "output_type": "stream",
       "stream": "stdout",
       "text": [
        "\n",
        "[ 0.    0.01  0.    0.01  0.01  0.02  0.01  0.    0.92  0.01]"
       ]
      },
      {
       "output_type": "stream",
       "stream": "stdout",
       "text": [
        "\n",
        "[ 0.    0.    0.    0.    0.01  0.    0.    0.01  0.    0.96]"
       ]
      },
      {
       "output_type": "stream",
       "stream": "stdout",
       "text": [
        "\n",
        "Saving plot_data...\n",
        "Start testing...\n",
        "Finding mean for k=7..."
       ]
      },
      {
       "output_type": "stream",
       "stream": "stdout",
       "text": [
        "\n",
        "[ 0.99  0.    0.    0.    0.    0.    0.    0.    0.    0.  ]"
       ]
      },
      {
       "output_type": "stream",
       "stream": "stdout",
       "text": [
        "\n",
        "[ 0.    0.99  0.    0.    0.    0.    0.    0.    0.    0.  ]"
       ]
      },
      {
       "output_type": "stream",
       "stream": "stdout",
       "text": [
        "\n",
        "[ 0.01  0.01  0.94  0.01  0.    0.    0.    0.01  0.01  0.  ]"
       ]
      },
      {
       "output_type": "stream",
       "stream": "stdout",
       "text": [
        "\n",
        "[ 0.    0.    0.01  0.94  0.    0.02  0.    0.01  0.01  0.01]"
       ]
      },
      {
       "output_type": "stream",
       "stream": "stdout",
       "text": [
        "\n",
        "[ 0.    0.01  0.    0.    0.94  0.    0.    0.    0.    0.04]"
       ]
      },
      {
       "output_type": "stream",
       "stream": "stdout",
       "text": [
        "\n",
        "[ 0.    0.    0.    0.02  0.    0.94  0.01  0.    0.01  0.01]"
       ]
      },
      {
       "output_type": "stream",
       "stream": "stdout",
       "text": [
        "\n",
        "[ 0.01  0.    0.    0.    0.    0.01  0.98  0.    0.    0.  ]"
       ]
      },
      {
       "output_type": "stream",
       "stream": "stdout",
       "text": [
        "\n",
        "[ 0.    0.01  0.    0.    0.01  0.    0.    0.96  0.    0.02]"
       ]
      },
      {
       "output_type": "stream",
       "stream": "stdout",
       "text": [
        "\n",
        "[ 0.01  0.01  0.    0.02  0.01  0.02  0.01  0.    0.91  0.02]"
       ]
      },
      {
       "output_type": "stream",
       "stream": "stdout",
       "text": [
        "\n",
        "[ 0.    0.    0.    0.01  0.02  0.    0.    0.02  0.    0.95]"
       ]
      },
      {
       "output_type": "stream",
       "stream": "stdout",
       "text": [
        "\n",
        "Saving plot_data...\n",
        "Start testing...\n",
        "Finding mean for k=9..."
       ]
      },
      {
       "output_type": "stream",
       "stream": "stdout",
       "text": [
        "\n",
        "[ 0.99  0.    0.    0.    0.    0.    0.01  0.    0.    0.  ]"
       ]
      },
      {
       "output_type": "stream",
       "stream": "stdout",
       "text": [
        "\n",
        "[ 0.    0.99  0.    0.    0.    0.    0.    0.    0.    0.  ]"
       ]
      },
      {
       "output_type": "stream",
       "stream": "stdout",
       "text": [
        "\n",
        "[ 0.01  0.01  0.93  0.01  0.    0.    0.    0.02  0.01  0.  ]"
       ]
      },
      {
       "output_type": "stream",
       "stream": "stdout",
       "text": [
        "\n",
        "[ 0.    0.    0.01  0.93  0.    0.02  0.    0.01  0.01  0.01]"
       ]
      },
      {
       "output_type": "stream",
       "stream": "stdout",
       "text": [
        "\n",
        "[ 0.    0.01  0.    0.    0.93  0.    0.    0.    0.    0.05]"
       ]
      },
      {
       "output_type": "stream",
       "stream": "stdout",
       "text": [
        "\n",
        "[ 0.    0.    0.    0.03  0.    0.93  0.01  0.    0.01  0.01]"
       ]
      },
      {
       "output_type": "stream",
       "stream": "stdout",
       "text": [
        "\n",
        "[ 0.01  0.    0.    0.    0.    0.01  0.98  0.    0.    0.  ]"
       ]
      },
      {
       "output_type": "stream",
       "stream": "stdout",
       "text": [
        "\n",
        "[ 0.    0.01  0.    0.    0.01  0.    0.    0.95  0.    0.02]"
       ]
      },
      {
       "output_type": "stream",
       "stream": "stdout",
       "text": [
        "\n",
        "[ 0.01  0.01  0.01  0.02  0.01  0.02  0.01  0.    0.89  0.02]"
       ]
      },
      {
       "output_type": "stream",
       "stream": "stdout",
       "text": [
        "\n",
        "[ 0.    0.    0.    0.01  0.02  0.    0.    0.02  0.    0.94]"
       ]
      },
      {
       "output_type": "stream",
       "stream": "stdout",
       "text": [
        "\n",
        "Saving plot_data...\n",
        "Start testing...\n",
        "Finding mean for k=11..."
       ]
      },
      {
       "output_type": "stream",
       "stream": "stdout",
       "text": [
        "\n",
        "[ 0.99  0.    0.    0.    0.    0.    0.01  0.    0.    0.  ]"
       ]
      },
      {
       "output_type": "stream",
       "stream": "stdout",
       "text": [
        "\n",
        "[ 0.    0.99  0.    0.    0.    0.    0.    0.    0.    0.  ]"
       ]
      },
      {
       "output_type": "stream",
       "stream": "stdout",
       "text": [
        "\n",
        "[ 0.01  0.02  0.92  0.01  0.    0.    0.    0.02  0.01  0.  ]"
       ]
      },
      {
       "output_type": "stream",
       "stream": "stdout",
       "text": [
        "\n",
        "[ 0.    0.01  0.01  0.93  0.    0.03  0.    0.01  0.01  0.01]"
       ]
      },
      {
       "output_type": "stream",
       "stream": "stdout",
       "text": [
        "\n",
        "[ 0.    0.01  0.    0.    0.92  0.    0.    0.    0.    0.05]"
       ]
      },
      {
       "output_type": "stream",
       "stream": "stdout",
       "text": [
        "\n",
        "[ 0.    0.    0.    0.03  0.    0.92  0.02  0.    0.01  0.01]"
       ]
      },
      {
       "output_type": "stream",
       "stream": "stdout",
       "text": [
        "\n",
        "[ 0.01  0.    0.    0.    0.    0.01  0.98  0.    0.    0.  ]"
       ]
      },
      {
       "output_type": "stream",
       "stream": "stdout",
       "text": [
        "\n",
        "[ 0.    0.01  0.    0.    0.01  0.    0.    0.95  0.    0.02]"
       ]
      },
      {
       "output_type": "stream",
       "stream": "stdout",
       "text": [
        "\n",
        "[ 0.01  0.01  0.01  0.02  0.01  0.03  0.01  0.    0.88  0.02]"
       ]
      },
      {
       "output_type": "stream",
       "stream": "stdout",
       "text": [
        "\n",
        "[ 0.    0.    0.    0.01  0.02  0.    0.    0.02  0.    0.93]"
       ]
      },
      {
       "output_type": "stream",
       "stream": "stdout",
       "text": [
        "\n",
        "Saving plot_data...\n",
        "Start testing...\n",
        "Finding mean for k=20..."
       ]
      },
      {
       "output_type": "stream",
       "stream": "stdout",
       "text": [
        "\n",
        "[ 0.98  0.    0.    0.    0.    0.    0.01  0.    0.    0.  ]"
       ]
      },
      {
       "output_type": "stream",
       "stream": "stdout",
       "text": [
        "\n",
        "[ 0.    0.99  0.    0.    0.    0.    0.    0.    0.    0.  ]"
       ]
      },
      {
       "output_type": "stream",
       "stream": "stdout",
       "text": [
        "\n",
        "[ 0.02  0.02  0.9   0.01  0.01  0.    0.01  0.02  0.01  0.  ]"
       ]
      },
      {
       "output_type": "stream",
       "stream": "stdout",
       "text": [
        "\n",
        "[ 0.    0.01  0.01  0.91  0.    0.03  0.    0.01  0.02  0.01]"
       ]
      },
      {
       "output_type": "stream",
       "stream": "stdout",
       "text": [
        "\n",
        "[ 0.    0.01  0.    0.    0.9   0.    0.01  0.01  0.    0.07]"
       ]
      },
      {
       "output_type": "stream",
       "stream": "stdout",
       "text": [
        "\n",
        "[ 0.01  0.01  0.    0.04  0.    0.89  0.02  0.    0.01  0.01]"
       ]
      },
      {
       "output_type": "stream",
       "stream": "stdout",
       "text": [
        "\n",
        "[ 0.01  0.01  0.    0.    0.    0.01  0.97  0.    0.    0.  ]"
       ]
      },
      {
       "output_type": "stream",
       "stream": "stdout",
       "text": [
        "\n",
        "[ 0.    0.02  0.    0.    0.01  0.    0.    0.93  0.    0.03]"
       ]
      },
      {
       "output_type": "stream",
       "stream": "stdout",
       "text": [
        "\n",
        "[ 0.01  0.02  0.01  0.03  0.01  0.03  0.01  0.01  0.85  0.02]"
       ]
      },
      {
       "output_type": "stream",
       "stream": "stdout",
       "text": [
        "\n",
        "[ 0.01  0.    0.    0.01  0.03  0.    0.    0.03  0.    0.91]"
       ]
      },
      {
       "output_type": "stream",
       "stream": "stdout",
       "text": [
        "\n",
        "Saving plot_data...\n",
        "Start testing...\n",
        "Finding mean for k=40..."
       ]
      },
      {
       "output_type": "stream",
       "stream": "stdout",
       "text": [
        "\n",
        "[ 0.98  0.    0.    0.    0.    0.    0.01  0.    0.    0.  ]"
       ]
      },
      {
       "output_type": "stream",
       "stream": "stdout",
       "text": [
        "\n",
        "[ 0.    0.99  0.    0.    0.    0.    0.    0.    0.    0.  ]"
       ]
      },
      {
       "output_type": "stream",
       "stream": "stdout",
       "text": [
        "\n",
        "[ 0.02  0.04  0.86  0.02  0.01  0.    0.01  0.03  0.01  0.01]"
       ]
      },
      {
       "output_type": "stream",
       "stream": "stdout",
       "text": [
        "\n",
        "[ 0.    0.01  0.01  0.88  0.    0.04  0.    0.01  0.02  0.01]"
       ]
      },
      {
       "output_type": "stream",
       "stream": "stdout",
       "text": [
        "\n",
        "[ 0.    0.02  0.    0.    0.86  0.    0.01  0.01  0.    0.1 ]"
       ]
      },
      {
       "output_type": "stream",
       "stream": "stdout",
       "text": [
        "\n",
        "[ 0.01  0.01  0.    0.05  0.01  0.86  0.02  0.    0.02  0.02]"
       ]
      },
      {
       "output_type": "stream",
       "stream": "stdout",
       "text": [
        "\n",
        "[ 0.01  0.01  0.    0.    0.    0.01  0.96  0.    0.    0.  ]"
       ]
      },
      {
       "output_type": "stream",
       "stream": "stdout",
       "text": [
        "\n",
        "[ 0.    0.02  0.    0.    0.01  0.    0.    0.91  0.    0.04]"
       ]
      },
      {
       "output_type": "stream",
       "stream": "stdout",
       "text": [
        "\n",
        "[ 0.01  0.03  0.01  0.04  0.01  0.04  0.01  0.01  0.8   0.03]"
       ]
      },
      {
       "output_type": "stream",
       "stream": "stdout",
       "text": [
        "\n",
        "[ 0.01  0.01  0.    0.01  0.04  0.    0.    0.04  0.    0.88]"
       ]
      },
      {
       "output_type": "stream",
       "stream": "stdout",
       "text": [
        "\n",
        "Saving plot_data...\n",
        "Start testing...\n",
        "[array([ 0.03107187,  0.03107187]), array([ 0.03047186,  0.02922899]), array([ 0.03158617,  0.03047186]), array([ 0.03278618,  0.03201474]), array([ 0.03407192,  0.03308619]), array([ 0.03638623,  0.03458621]), array([ 0.04161488,  0.03835769]), array([ 0.05215789,  0.04740068])]"
       ]
      },
      {
       "output_type": "stream",
       "stream": "stdout",
       "text": [
        "\n"
       ]
      },
      {
       "metadata": {},
       "output_type": "display_data",
       "png": "[encoded data removed]",
       "text": [
        "<matplotlib.figure.Figure at 0x16657400>"
       ]
      }
     ],
     "prompt_number": 13
    },
    {
     "cell_type": "code",
     "collapsed": false,
     "input": [
      "(ts_m,ts_sd,x) = run_experiment_fixed_P(3, transformed_data, mnist.target, alpha=1, bias=1e-2, metric='euclidean')\n",
      "plot_results(ts_m,ts_sd,x)"
     ],
     "language": "python",
     "metadata": {},
     "outputs": [
      {
       "output_type": "stream",
       "stream": "stdout",
       "text": [
        "== Fold 0 ==\n",
        "Fitting model..."
       ]
      },
      {
       "output_type": "stream",
       "stream": "stdout",
       "text": [
        "\n",
        "Finding mean for k=1..."
       ]
      },
      {
       "output_type": "stream",
       "stream": "stdout",
       "text": [
        "\n",
        "[ 1.  0.  0.  0.  0.  0.  0.  0.  0.  0.]"
       ]
      },
      {
       "output_type": "stream",
       "stream": "stdout",
       "text": [
        "\n",
        "[ 0.  1.  0.  0.  0.  0.  0.  0.  0.  0.]"
       ]
      },
      {
       "output_type": "stream",
       "stream": "stdout",
       "text": [
        "\n",
        "[ 0.  0.  1.  0.  0.  0.  0.  0.  0.  0.]"
       ]
      },
      {
       "output_type": "stream",
       "stream": "stdout",
       "text": [
        "\n",
        "[ 0.  0.  0.  1.  0.  0.  0.  0.  0.  0.]"
       ]
      },
      {
       "output_type": "stream",
       "stream": "stdout",
       "text": [
        "\n",
        "[ 0.  0.  0.  0.  1.  0.  0.  0.  0.  0.]"
       ]
      },
      {
       "output_type": "stream",
       "stream": "stdout",
       "text": [
        "\n",
        "[ 0.  0.  0.  0.  0.  1.  0.  0.  0.  0.]"
       ]
      },
      {
       "output_type": "stream",
       "stream": "stdout",
       "text": [
        "\n",
        "[ 0.  0.  0.  0.  0.  0.  1.  0.  0.  0.]"
       ]
      },
      {
       "output_type": "stream",
       "stream": "stdout",
       "text": [
        "\n",
        "[ 0.  0.  0.  0.  0.  0.  0.  1.  0.  0.]"
       ]
      },
      {
       "output_type": "stream",
       "stream": "stdout",
       "text": [
        "\n",
        "[ 0.  0.  0.  0.  0.  0.  0.  0.  1.  0.]"
       ]
      },
      {
       "output_type": "stream",
       "stream": "stdout",
       "text": [
        "\n",
        "[ 0.  0.  0.  0.  0.  0.  0.  0.  0.  1.]"
       ]
      },
      {
       "output_type": "stream",
       "stream": "stdout",
       "text": [
        "\n",
        "Saving plot_data...\n",
        "Start testing...\n",
        "Finding mean for k=3..."
       ]
      },
      {
       "output_type": "stream",
       "stream": "stdout",
       "text": [
        "\n",
        "[ 0.99  0.    0.    0.    0.    0.    0.    0.    0.    0.  ]"
       ]
      },
      {
       "output_type": "stream",
       "stream": "stdout",
       "text": [
        "\n",
        "[ 0.    0.99  0.    0.    0.    0.    0.    0.    0.    0.  ]"
       ]
      },
      {
       "output_type": "stream",
       "stream": "stdout",
       "text": [
        "\n",
        "[ 0.    0.    0.98  0.    0.    0.    0.    0.01  0.    0.  ]"
       ]
      },
      {
       "output_type": "stream",
       "stream": "stdout",
       "text": [
        "\n",
        "[ 0.    0.    0.    0.97  0.    0.01  0.    0.    0.01  0.  ]"
       ]
      },
      {
       "output_type": "stream",
       "stream": "stdout",
       "text": [
        "\n",
        "[ 0.    0.    0.    0.    0.97  0.    0.    0.    0.    0.02]"
       ]
      },
      {
       "output_type": "stream",
       "stream": "stdout",
       "text": [
        "\n",
        "[ 0.    0.    0.    0.01  0.    0.97  0.01  0.    0.    0.  ]"
       ]
      },
      {
       "output_type": "stream",
       "stream": "stdout",
       "text": [
        "\n",
        "[ 0.    0.    0.    0.    0.    0.    0.99  0.    0.    0.  ]"
       ]
      },
      {
       "output_type": "stream",
       "stream": "stdout",
       "text": [
        "\n",
        "[ 0.    0.    0.    0.    0.    0.    0.    0.98  0.    0.01]"
       ]
      },
      {
       "output_type": "stream",
       "stream": "stdout",
       "text": [
        "\n",
        "[ 0.    0.    0.    0.01  0.    0.01  0.    0.    0.96  0.01]"
       ]
      },
      {
       "output_type": "stream",
       "stream": "stdout",
       "text": [
        "\n",
        "[ 0.    0.    0.    0.    0.01  0.    0.    0.01  0.    0.97]"
       ]
      },
      {
       "output_type": "stream",
       "stream": "stdout",
       "text": [
        "\n",
        "Saving plot_data...\n",
        "Start testing...\n",
        "Finding mean for k=5..."
       ]
      },
      {
       "output_type": "stream",
       "stream": "stdout",
       "text": [
        "\n",
        "[ 0.99  0.    0.    0.    0.    0.    0.    0.    0.    0.  ]"
       ]
      },
      {
       "output_type": "stream",
       "stream": "stdout",
       "text": [
        "\n",
        "[ 0.    0.99  0.    0.    0.    0.    0.    0.    0.    0.  ]"
       ]
      },
      {
       "output_type": "stream",
       "stream": "stdout",
       "text": [
        "\n",
        "[ 0.01  0.    0.97  0.    0.    0.    0.    0.01  0.    0.  ]"
       ]
      },
      {
       "output_type": "stream",
       "stream": "stdout",
       "text": [
        "\n",
        "[ 0.    0.    0.01  0.96  0.    0.01  0.    0.01  0.01  0.01]"
       ]
      },
      {
       "output_type": "stream",
       "stream": "stdout",
       "text": [
        "\n",
        "[ 0.    0.    0.    0.    0.96  0.    0.    0.    0.    0.03]"
       ]
      },
      {
       "output_type": "stream",
       "stream": "stdout",
       "text": [
        "\n",
        "[ 0.    0.    0.    0.01  0.    0.96  0.01  0.    0.01  0.01]"
       ]
      },
      {
       "output_type": "stream",
       "stream": "stdout",
       "text": [
        "\n",
        "[ 0.    0.    0.    0.    0.    0.    0.99  0.    0.    0.  ]"
       ]
      },
      {
       "output_type": "stream",
       "stream": "stdout",
       "text": [
        "\n",
        "[ 0.    0.01  0.    0.    0.    0.    0.    0.97  0.    0.01]"
       ]
      },
      {
       "output_type": "stream",
       "stream": "stdout",
       "text": [
        "\n",
        "[ 0.    0.01  0.    0.01  0.    0.01  0.    0.    0.94  0.01]"
       ]
      },
      {
       "output_type": "stream",
       "stream": "stdout",
       "text": [
        "\n",
        "[ 0.    0.    0.    0.    0.01  0.    0.    0.01  0.    0.96]"
       ]
      },
      {
       "output_type": "stream",
       "stream": "stdout",
       "text": [
        "\n",
        "Saving plot_data...\n",
        "Start testing...\n",
        "Finding mean for k=7..."
       ]
      },
      {
       "output_type": "stream",
       "stream": "stdout",
       "text": [
        "\n",
        "[ 0.99  0.    0.    0.    0.    0.    0.    0.    0.    0.  ]"
       ]
      },
      {
       "output_type": "stream",
       "stream": "stdout",
       "text": [
        "\n",
        "[ 0.    0.99  0.    0.    0.    0.    0.    0.    0.    0.  ]"
       ]
      },
      {
       "output_type": "stream",
       "stream": "stdout",
       "text": [
        "\n",
        "[ 0.01  0.01  0.96  0.    0.    0.    0.    0.01  0.    0.  ]"
       ]
      },
      {
       "output_type": "stream",
       "stream": "stdout",
       "text": [
        "\n",
        "[ 0.    0.    0.01  0.95  0.    0.02  0.    0.01  0.01  0.01]"
       ]
      },
      {
       "output_type": "stream",
       "stream": "stdout",
       "text": [
        "\n",
        "[ 0.    0.    0.    0.    0.95  0.    0.    0.    0.    0.04]"
       ]
      },
      {
       "output_type": "stream",
       "stream": "stdout",
       "text": [
        "\n",
        "[ 0.    0.    0.    0.02  0.    0.95  0.01  0.    0.01  0.01]"
       ]
      },
      {
       "output_type": "stream",
       "stream": "stdout",
       "text": [
        "\n",
        "[ 0.    0.    0.    0.    0.    0.    0.99  0.    0.    0.  ]"
       ]
      },
      {
       "output_type": "stream",
       "stream": "stdout",
       "text": [
        "\n",
        "[ 0.    0.01  0.    0.    0.    0.    0.    0.97  0.    0.02]"
       ]
      },
      {
       "output_type": "stream",
       "stream": "stdout",
       "text": [
        "\n",
        "[ 0.    0.01  0.    0.01  0.    0.01  0.    0.    0.93  0.01]"
       ]
      },
      {
       "output_type": "stream",
       "stream": "stdout",
       "text": [
        "\n",
        "[ 0.    0.    0.    0.01  0.02  0.    0.    0.01  0.    0.95]"
       ]
      },
      {
       "output_type": "stream",
       "stream": "stdout",
       "text": [
        "\n",
        "Saving plot_data...\n",
        "Start testing...\n",
        "Finding mean for k=9..."
       ]
      },
      {
       "output_type": "stream",
       "stream": "stdout",
       "text": [
        "\n",
        "[ 0.99  0.    0.    0.    0.    0.    0.    0.    0.    0.  ]"
       ]
      },
      {
       "output_type": "stream",
       "stream": "stdout",
       "text": [
        "\n",
        "[ 0.    0.99  0.    0.    0.    0.    0.    0.    0.    0.  ]"
       ]
      },
      {
       "output_type": "stream",
       "stream": "stdout",
       "text": [
        "\n",
        "[ 0.01  0.01  0.95  0.01  0.    0.    0.    0.01  0.01  0.  ]"
       ]
      },
      {
       "output_type": "stream",
       "stream": "stdout",
       "text": [
        "\n",
        "[ 0.    0.    0.01  0.94  0.    0.02  0.    0.01  0.01  0.01]"
       ]
      },
      {
       "output_type": "stream",
       "stream": "stdout",
       "text": [
        "\n",
        "[ 0.    0.    0.    0.    0.94  0.    0.    0.    0.    0.05]"
       ]
      },
      {
       "output_type": "stream",
       "stream": "stdout",
       "text": [
        "\n",
        "[ 0.    0.    0.    0.02  0.    0.94  0.01  0.    0.01  0.01]"
       ]
      },
      {
       "output_type": "stream",
       "stream": "stdout",
       "text": [
        "\n",
        "[ 0.    0.    0.    0.    0.    0.01  0.98  0.    0.    0.  ]"
       ]
      },
      {
       "output_type": "stream",
       "stream": "stdout",
       "text": [
        "\n",
        "[ 0.    0.01  0.    0.    0.    0.    0.    0.96  0.    0.02]"
       ]
      },
      {
       "output_type": "stream",
       "stream": "stdout",
       "text": [
        "\n",
        "[ 0.    0.01  0.    0.02  0.01  0.02  0.01  0.    0.92  0.02]"
       ]
      },
      {
       "output_type": "stream",
       "stream": "stdout",
       "text": [
        "\n",
        "[ 0.    0.    0.    0.01  0.02  0.    0.    0.02  0.    0.94]"
       ]
      },
      {
       "output_type": "stream",
       "stream": "stdout",
       "text": [
        "\n",
        "Saving plot_data...\n",
        "Start testing...\n",
        "Finding mean for k=11..."
       ]
      },
      {
       "output_type": "stream",
       "stream": "stdout",
       "text": [
        "\n",
        "[ 0.99  0.    0.    0.    0.    0.    0.01  0.    0.    0.  ]"
       ]
      },
      {
       "output_type": "stream",
       "stream": "stdout",
       "text": [
        "\n",
        "[ 0.    0.99  0.    0.    0.    0.    0.    0.    0.    0.  ]"
       ]
      },
      {
       "output_type": "stream",
       "stream": "stdout",
       "text": [
        "\n",
        "[ 0.01  0.01  0.95  0.01  0.    0.    0.    0.01  0.01  0.  ]"
       ]
      },
      {
       "output_type": "stream",
       "stream": "stdout",
       "text": [
        "\n",
        "[ 0.    0.    0.01  0.94  0.    0.02  0.    0.01  0.01  0.01]"
       ]
      },
      {
       "output_type": "stream",
       "stream": "stdout",
       "text": [
        "\n",
        "[ 0.    0.01  0.    0.    0.93  0.    0.    0.    0.    0.05]"
       ]
      },
      {
       "output_type": "stream",
       "stream": "stdout",
       "text": [
        "\n",
        "[ 0.    0.    0.    0.02  0.    0.94  0.01  0.    0.01  0.01]"
       ]
      },
      {
       "output_type": "stream",
       "stream": "stdout",
       "text": [
        "\n",
        "[ 0.01  0.    0.    0.    0.    0.01  0.98  0.    0.    0.  ]"
       ]
      },
      {
       "output_type": "stream",
       "stream": "stdout",
       "text": [
        "\n",
        "[ 0.    0.01  0.    0.    0.01  0.    0.    0.96  0.    0.02]"
       ]
      },
      {
       "output_type": "stream",
       "stream": "stdout",
       "text": [
        "\n",
        "[ 0.    0.01  0.    0.02  0.01  0.02  0.01  0.    0.92  0.02]"
       ]
      },
      {
       "output_type": "stream",
       "stream": "stdout",
       "text": [
        "\n",
        "[ 0.    0.    0.    0.01  0.02  0.    0.    0.02  0.    0.94]"
       ]
      },
      {
       "output_type": "stream",
       "stream": "stdout",
       "text": [
        "\n",
        "Saving plot_data...\n",
        "Start testing...\n",
        "Finding mean for k=20..."
       ]
      },
      {
       "output_type": "stream",
       "stream": "stdout",
       "text": [
        "\n",
        "[ 0.98  0.    0.    0.    0.    0.    0.01  0.    0.    0.  ]"
       ]
      },
      {
       "output_type": "stream",
       "stream": "stdout",
       "text": [
        "\n",
        "[ 0.    0.99  0.    0.    0.    0.    0.    0.    0.    0.  ]"
       ]
      },
      {
       "output_type": "stream",
       "stream": "stdout",
       "text": [
        "\n",
        "[ 0.01  0.01  0.93  0.01  0.    0.    0.    0.02  0.01  0.  ]"
       ]
      },
      {
       "output_type": "stream",
       "stream": "stdout",
       "text": [
        "\n",
        "[ 0.    0.01  0.01  0.92  0.    0.03  0.    0.01  0.02  0.01]"
       ]
      },
      {
       "output_type": "stream",
       "stream": "stdout",
       "text": [
        "\n",
        "[ 0.    0.01  0.    0.    0.91  0.    0.01  0.    0.    0.07]"
       ]
      },
      {
       "output_type": "stream",
       "stream": "stdout",
       "text": [
        "\n",
        "[ 0.    0.    0.    0.03  0.    0.92  0.02  0.    0.01  0.01]"
       ]
      },
      {
       "output_type": "stream",
       "stream": "stdout",
       "text": [
        "\n",
        "[ 0.01  0.    0.    0.    0.    0.01  0.98  0.    0.    0.  ]"
       ]
      },
      {
       "output_type": "stream",
       "stream": "stdout",
       "text": [
        "\n",
        "[ 0.    0.01  0.    0.    0.01  0.    0.    0.95  0.    0.03]"
       ]
      },
      {
       "output_type": "stream",
       "stream": "stdout",
       "text": [
        "\n",
        "[ 0.    0.01  0.01  0.02  0.01  0.02  0.01  0.    0.89  0.02]"
       ]
      },
      {
       "output_type": "stream",
       "stream": "stdout",
       "text": [
        "\n",
        "[ 0.    0.    0.    0.01  0.03  0.    0.    0.02  0.    0.92]"
       ]
      },
      {
       "output_type": "stream",
       "stream": "stdout",
       "text": [
        "\n",
        "Saving plot_data...\n",
        "Start testing...\n",
        "Finding mean for k=40..."
       ]
      },
      {
       "output_type": "stream",
       "stream": "stdout",
       "text": [
        "\n",
        "[ 0.98  0.    0.    0.    0.    0.    0.01  0.    0.    0.  ]"
       ]
      },
      {
       "output_type": "stream",
       "stream": "stdout",
       "text": [
        "\n",
        "[ 0.    0.99  0.    0.    0.    0.    0.    0.    0.    0.  ]"
       ]
      },
      {
       "output_type": "stream",
       "stream": "stdout",
       "text": [
        "\n",
        "[ 0.01  0.02  0.9   0.01  0.01  0.    0.01  0.02  0.01  0.01]"
       ]
      },
      {
       "output_type": "stream",
       "stream": "stdout",
       "text": [
        "\n",
        "[ 0.    0.01  0.01  0.89  0.    0.03  0.    0.01  0.02  0.01]"
       ]
      },
      {
       "output_type": "stream",
       "stream": "stdout",
       "text": [
        "\n",
        "[ 0.    0.01  0.    0.    0.87  0.    0.01  0.01  0.    0.1 ]"
       ]
      },
      {
       "output_type": "stream",
       "stream": "stdout",
       "text": [
        "\n",
        "[ 0.01  0.    0.    0.04  0.    0.89  0.02  0.    0.02  0.02]"
       ]
      },
      {
       "output_type": "stream",
       "stream": "stdout",
       "text": [
        "\n",
        "[ 0.01  0.    0.    0.    0.    0.01  0.97  0.    0.    0.  ]"
       ]
      },
      {
       "output_type": "stream",
       "stream": "stdout",
       "text": [
        "\n",
        "[ 0.    0.02  0.    0.    0.01  0.    0.    0.93  0.    0.04]"
       ]
      },
      {
       "output_type": "stream",
       "stream": "stdout",
       "text": [
        "\n",
        "[ 0.01  0.01  0.01  0.03  0.01  0.03  0.01  0.01  0.86  0.03]"
       ]
      },
      {
       "output_type": "stream",
       "stream": "stdout",
       "text": [
        "\n",
        "[ 0.    0.    0.    0.01  0.04  0.    0.    0.03  0.    0.89]"
       ]
      },
      {
       "output_type": "stream",
       "stream": "stdout",
       "text": [
        "\n",
        "Saving plot_data...\n",
        "Start testing...\n",
        "[array([ 0.02502786,  0.02502786]), array([ 0.02558498,  0.02468501]), array([ 0.0264421 ,  0.02545642]), array([ 0.02777064,  0.0268278 ]), array([ 0.02939916,  0.02807063]), array([ 0.02987058,  0.02841347]), array([ 0.03479901,  0.03282763]), array([ 0.04294163,  0.03977029])]"
       ]
      },
      {
       "output_type": "stream",
       "stream": "stdout",
       "text": [
        "\n",
        "== Fold 1 ==\n",
        "Fitting model..."
       ]
      },
      {
       "output_type": "stream",
       "stream": "stdout",
       "text": [
        "\n",
        "Finding mean for k=1..."
       ]
      },
      {
       "output_type": "stream",
       "stream": "stdout",
       "text": [
        "\n",
        "[ 1.  0.  0.  0.  0.  0.  0.  0.  0.  0.]"
       ]
      },
      {
       "output_type": "stream",
       "stream": "stdout",
       "text": [
        "\n",
        "[ 0.  1.  0.  0.  0.  0.  0.  0.  0.  0.]"
       ]
      },
      {
       "output_type": "stream",
       "stream": "stdout",
       "text": [
        "\n",
        "[ 0.  0.  1.  0.  0.  0.  0.  0.  0.  0.]"
       ]
      },
      {
       "output_type": "stream",
       "stream": "stdout",
       "text": [
        "\n",
        "[ 0.  0.  0.  1.  0.  0.  0.  0.  0.  0.]"
       ]
      },
      {
       "output_type": "stream",
       "stream": "stdout",
       "text": [
        "\n",
        "[ 0.  0.  0.  0.  1.  0.  0.  0.  0.  0.]"
       ]
      },
      {
       "output_type": "stream",
       "stream": "stdout",
       "text": [
        "\n",
        "[ 0.  0.  0.  0.  0.  1.  0.  0.  0.  0.]"
       ]
      },
      {
       "output_type": "stream",
       "stream": "stdout",
       "text": [
        "\n",
        "[ 0.  0.  0.  0.  0.  0.  1.  0.  0.  0.]"
       ]
      },
      {
       "output_type": "stream",
       "stream": "stdout",
       "text": [
        "\n",
        "[ 0.  0.  0.  0.  0.  0.  0.  1.  0.  0.]"
       ]
      },
      {
       "output_type": "stream",
       "stream": "stdout",
       "text": [
        "\n",
        "[ 0.  0.  0.  0.  0.  0.  0.  0.  1.  0.]"
       ]
      },
      {
       "output_type": "stream",
       "stream": "stdout",
       "text": [
        "\n",
        "[ 0.  0.  0.  0.  0.  0.  0.  0.  0.  1.]"
       ]
      },
      {
       "output_type": "stream",
       "stream": "stdout",
       "text": [
        "\n",
        "Saving plot_data...\n",
        "Start testing...\n",
        "Finding mean for k=3..."
       ]
      },
      {
       "output_type": "stream",
       "stream": "stdout",
       "text": [
        "\n",
        "[ 0.99  0.    0.    0.    0.    0.    0.    0.    0.    0.  ]"
       ]
      },
      {
       "output_type": "stream",
       "stream": "stdout",
       "text": [
        "\n",
        "[ 0.    0.99  0.    0.    0.    0.    0.    0.    0.    0.  ]"
       ]
      },
      {
       "output_type": "stream",
       "stream": "stdout",
       "text": [
        "\n",
        "[ 0.    0.    0.98  0.    0.    0.    0.    0.01  0.    0.  ]"
       ]
      },
      {
       "output_type": "stream",
       "stream": "stdout",
       "text": [
        "\n",
        "[ 0.    0.    0.    0.97  0.    0.01  0.    0.    0.01  0.  ]"
       ]
      },
      {
       "output_type": "stream",
       "stream": "stdout",
       "text": [
        "\n",
        "[ 0.    0.    0.    0.    0.97  0.    0.    0.    0.    0.02]"
       ]
      },
      {
       "output_type": "stream",
       "stream": "stdout",
       "text": [
        "\n",
        "[ 0.    0.    0.    0.01  0.    0.97  0.01  0.    0.    0.  ]"
       ]
      },
      {
       "output_type": "stream",
       "stream": "stdout",
       "text": [
        "\n",
        "[ 0.    0.    0.    0.    0.    0.    0.99  0.    0.    0.  ]"
       ]
      },
      {
       "output_type": "stream",
       "stream": "stdout",
       "text": [
        "\n",
        "[ 0.    0.    0.    0.    0.    0.    0.    0.98  0.    0.01]"
       ]
      },
      {
       "output_type": "stream",
       "stream": "stdout",
       "text": [
        "\n",
        "[ 0.    0.    0.    0.01  0.    0.01  0.    0.    0.96  0.01]"
       ]
      },
      {
       "output_type": "stream",
       "stream": "stdout",
       "text": [
        "\n",
        "[ 0.    0.    0.    0.    0.01  0.    0.    0.01  0.    0.97]"
       ]
      },
      {
       "output_type": "stream",
       "stream": "stdout",
       "text": [
        "\n",
        "Saving plot_data...\n",
        "Start testing...\n",
        "Finding mean for k=5..."
       ]
      },
      {
       "output_type": "stream",
       "stream": "stdout",
       "text": [
        "\n",
        "[ 0.99  0.    0.    0.    0.    0.    0.    0.    0.    0.  ]"
       ]
      },
      {
       "output_type": "stream",
       "stream": "stdout",
       "text": [
        "\n",
        "[ 0.    0.99  0.    0.    0.    0.    0.    0.    0.    0.  ]"
       ]
      },
      {
       "output_type": "stream",
       "stream": "stdout",
       "text": [
        "\n",
        "[ 0.    0.01  0.97  0.    0.    0.    0.    0.01  0.    0.  ]"
       ]
      },
      {
       "output_type": "stream",
       "stream": "stdout",
       "text": [
        "\n",
        "[ 0.    0.    0.01  0.96  0.    0.01  0.    0.01  0.01  0.  ]"
       ]
      },
      {
       "output_type": "stream",
       "stream": "stdout",
       "text": [
        "\n",
        "[ 0.    0.    0.    0.    0.96  0.    0.    0.    0.    0.03]"
       ]
      },
      {
       "output_type": "stream",
       "stream": "stdout",
       "text": [
        "\n",
        "[ 0.    0.    0.    0.01  0.    0.96  0.01  0.    0.01  0.  ]"
       ]
      },
      {
       "output_type": "stream",
       "stream": "stdout",
       "text": [
        "\n",
        "[ 0.    0.    0.    0.    0.    0.    0.99  0.    0.    0.  ]"
       ]
      },
      {
       "output_type": "stream",
       "stream": "stdout",
       "text": [
        "\n",
        "[ 0.    0.01  0.    0.    0.    0.    0.    0.97  0.    0.01]"
       ]
      },
      {
       "output_type": "stream",
       "stream": "stdout",
       "text": [
        "\n",
        "[ 0.    0.01  0.    0.01  0.    0.01  0.    0.    0.95  0.01]"
       ]
      },
      {
       "output_type": "stream",
       "stream": "stdout",
       "text": [
        "\n",
        "[ 0.    0.    0.    0.    0.02  0.    0.    0.01  0.    0.96]"
       ]
      },
      {
       "output_type": "stream",
       "stream": "stdout",
       "text": [
        "\n",
        "Saving plot_data...\n",
        "Start testing...\n",
        "Finding mean for k=7..."
       ]
      },
      {
       "output_type": "stream",
       "stream": "stdout",
       "text": [
        "\n",
        "[ 0.99  0.    0.    0.    0.    0.    0.    0.    0.    0.  ]"
       ]
      },
      {
       "output_type": "stream",
       "stream": "stdout",
       "text": [
        "\n",
        "[ 0.    0.99  0.    0.    0.    0.    0.    0.    0.    0.  ]"
       ]
      },
      {
       "output_type": "stream",
       "stream": "stdout",
       "text": [
        "\n",
        "[ 0.01  0.01  0.96  0.    0.    0.    0.    0.01  0.01  0.  ]"
       ]
      },
      {
       "output_type": "stream",
       "stream": "stdout",
       "text": [
        "\n",
        "[ 0.    0.    0.01  0.95  0.    0.01  0.    0.01  0.01  0.01]"
       ]
      },
      {
       "output_type": "stream",
       "stream": "stdout",
       "text": [
        "\n",
        "[ 0.    0.    0.    0.    0.95  0.    0.    0.    0.    0.04]"
       ]
      },
      {
       "output_type": "stream",
       "stream": "stdout",
       "text": [
        "\n",
        "[ 0.    0.    0.    0.02  0.    0.95  0.01  0.    0.01  0.01]"
       ]
      },
      {
       "output_type": "stream",
       "stream": "stdout",
       "text": [
        "\n",
        "[ 0.    0.    0.    0.    0.    0.    0.99  0.    0.    0.  ]"
       ]
      },
      {
       "output_type": "stream",
       "stream": "stdout",
       "text": [
        "\n",
        "[ 0.    0.01  0.    0.    0.    0.    0.    0.97  0.    0.02]"
       ]
      },
      {
       "output_type": "stream",
       "stream": "stdout",
       "text": [
        "\n",
        "[ 0.    0.01  0.    0.02  0.    0.01  0.    0.    0.93  0.01]"
       ]
      },
      {
       "output_type": "stream",
       "stream": "stdout",
       "text": [
        "\n",
        "[ 0.    0.    0.    0.01  0.02  0.    0.    0.01  0.    0.95]"
       ]
      },
      {
       "output_type": "stream",
       "stream": "stdout",
       "text": [
        "\n",
        "Saving plot_data...\n",
        "Start testing...\n",
        "Finding mean for k=9..."
       ]
      },
      {
       "output_type": "stream",
       "stream": "stdout",
       "text": [
        "\n",
        "[ 0.99  0.    0.    0.    0.    0.    0.    0.    0.    0.  ]"
       ]
      },
      {
       "output_type": "stream",
       "stream": "stdout",
       "text": [
        "\n",
        "[ 0.    0.99  0.    0.    0.    0.    0.    0.    0.    0.  ]"
       ]
      },
      {
       "output_type": "stream",
       "stream": "stdout",
       "text": [
        "\n",
        "[ 0.01  0.01  0.95  0.01  0.    0.    0.    0.02  0.01  0.  ]"
       ]
      },
      {
       "output_type": "stream",
       "stream": "stdout",
       "text": [
        "\n",
        "[ 0.    0.    0.01  0.95  0.    0.02  0.    0.01  0.01  0.01]"
       ]
      },
      {
       "output_type": "stream",
       "stream": "stdout",
       "text": [
        "\n",
        "[ 0.    0.    0.    0.    0.94  0.    0.    0.    0.    0.04]"
       ]
      },
      {
       "output_type": "stream",
       "stream": "stdout",
       "text": [
        "\n",
        "[ 0.    0.    0.    0.02  0.    0.95  0.01  0.    0.01  0.01]"
       ]
      },
      {
       "output_type": "stream",
       "stream": "stdout",
       "text": [
        "\n",
        "[ 0.    0.    0.    0.    0.    0.    0.99  0.    0.    0.  ]"
       ]
      },
      {
       "output_type": "stream",
       "stream": "stdout",
       "text": [
        "\n",
        "[ 0.    0.01  0.    0.    0.    0.    0.    0.96  0.    0.02]"
       ]
      },
      {
       "output_type": "stream",
       "stream": "stdout",
       "text": [
        "\n",
        "[ 0.    0.01  0.    0.02  0.    0.02  0.    0.    0.92  0.01]"
       ]
      },
      {
       "output_type": "stream",
       "stream": "stdout",
       "text": [
        "\n",
        "[ 0.    0.    0.    0.01  0.02  0.    0.    0.02  0.    0.94]"
       ]
      },
      {
       "output_type": "stream",
       "stream": "stdout",
       "text": [
        "\n",
        "Saving plot_data...\n",
        "Start testing...\n",
        "Finding mean for k=11..."
       ]
      },
      {
       "output_type": "stream",
       "stream": "stdout",
       "text": [
        "\n",
        "[ 0.99  0.    0.    0.    0.    0.    0.    0.    0.    0.  ]"
       ]
      },
      {
       "output_type": "stream",
       "stream": "stdout",
       "text": [
        "\n",
        "[ 0.    0.99  0.    0.    0.    0.    0.    0.    0.    0.  ]"
       ]
      },
      {
       "output_type": "stream",
       "stream": "stdout",
       "text": [
        "\n",
        "[ 0.01  0.01  0.95  0.01  0.    0.    0.    0.02  0.01  0.  ]"
       ]
      },
      {
       "output_type": "stream",
       "stream": "stdout",
       "text": [
        "\n",
        "[ 0.    0.    0.01  0.94  0.    0.02  0.    0.01  0.01  0.01]"
       ]
      },
      {
       "output_type": "stream",
       "stream": "stdout",
       "text": [
        "\n",
        "[ 0.    0.    0.    0.    0.93  0.    0.    0.    0.    0.05]"
       ]
      },
      {
       "output_type": "stream",
       "stream": "stdout",
       "text": [
        "\n",
        "[ 0.    0.    0.    0.02  0.    0.94  0.01  0.    0.01  0.01]"
       ]
      },
      {
       "output_type": "stream",
       "stream": "stdout",
       "text": [
        "\n",
        "[ 0.    0.    0.    0.    0.    0.01  0.98  0.    0.    0.  ]"
       ]
      },
      {
       "output_type": "stream",
       "stream": "stdout",
       "text": [
        "\n",
        "[ 0.    0.01  0.    0.    0.01  0.    0.    0.96  0.    0.02]"
       ]
      },
      {
       "output_type": "stream",
       "stream": "stdout",
       "text": [
        "\n",
        "[ 0.    0.01  0.    0.02  0.    0.02  0.01  0.    0.91  0.02]"
       ]
      },
      {
       "output_type": "stream",
       "stream": "stdout",
       "text": [
        "\n",
        "[ 0.    0.    0.    0.01  0.02  0.    0.    0.02  0.    0.94]"
       ]
      },
      {
       "output_type": "stream",
       "stream": "stdout",
       "text": [
        "\n",
        "Saving plot_data...\n",
        "Start testing...\n",
        "Finding mean for k=20..."
       ]
      },
      {
       "output_type": "stream",
       "stream": "stdout",
       "text": [
        "\n",
        "[ 0.99  0.    0.    0.    0.    0.    0.01  0.    0.    0.  ]"
       ]
      },
      {
       "output_type": "stream",
       "stream": "stdout",
       "text": [
        "\n",
        "[ 0.    0.99  0.    0.    0.    0.    0.    0.    0.    0.  ]"
       ]
      },
      {
       "output_type": "stream",
       "stream": "stdout",
       "text": [
        "\n",
        "[ 0.01  0.01  0.93  0.01  0.    0.    0.    0.02  0.01  0.  ]"
       ]
      },
      {
       "output_type": "stream",
       "stream": "stdout",
       "text": [
        "\n",
        "[ 0.    0.01  0.01  0.92  0.    0.02  0.    0.01  0.02  0.01]"
       ]
      },
      {
       "output_type": "stream",
       "stream": "stdout",
       "text": [
        "\n",
        "[ 0.    0.01  0.    0.    0.91  0.    0.01  0.    0.    0.07]"
       ]
      },
      {
       "output_type": "stream",
       "stream": "stdout",
       "text": [
        "\n",
        "[ 0.    0.    0.    0.03  0.    0.92  0.02  0.    0.01  0.01]"
       ]
      },
      {
       "output_type": "stream",
       "stream": "stdout",
       "text": [
        "\n",
        "[ 0.01  0.    0.    0.    0.    0.01  0.98  0.    0.    0.  ]"
       ]
      },
      {
       "output_type": "stream",
       "stream": "stdout",
       "text": [
        "\n",
        "[ 0.    0.01  0.    0.    0.01  0.    0.    0.94  0.    0.03]"
       ]
      },
      {
       "output_type": "stream",
       "stream": "stdout",
       "text": [
        "\n",
        "[ 0.    0.01  0.01  0.03  0.01  0.02  0.01  0.01  0.89  0.02]"
       ]
      },
      {
       "output_type": "stream",
       "stream": "stdout",
       "text": [
        "\n",
        "[ 0.    0.    0.    0.01  0.03  0.    0.    0.02  0.    0.92]"
       ]
      },
      {
       "output_type": "stream",
       "stream": "stdout",
       "text": [
        "\n",
        "Saving plot_data...\n",
        "Start testing...\n",
        "Finding mean for k=40..."
       ]
      },
      {
       "output_type": "stream",
       "stream": "stdout",
       "text": [
        "\n",
        "[ 0.98  0.    0.    0.    0.    0.    0.01  0.    0.    0.  ]"
       ]
      },
      {
       "output_type": "stream",
       "stream": "stdout",
       "text": [
        "\n",
        "[ 0.    0.99  0.    0.    0.    0.    0.    0.    0.    0.  ]"
       ]
      },
      {
       "output_type": "stream",
       "stream": "stdout",
       "text": [
        "\n",
        "[ 0.01  0.02  0.9   0.01  0.01  0.    0.01  0.03  0.01  0.  ]"
       ]
      },
      {
       "output_type": "stream",
       "stream": "stdout",
       "text": [
        "\n",
        "[ 0.    0.01  0.01  0.9   0.    0.03  0.    0.01  0.02  0.01]"
       ]
      },
      {
       "output_type": "stream",
       "stream": "stdout",
       "text": [
        "\n",
        "[ 0.    0.01  0.    0.    0.88  0.    0.01  0.01  0.    0.09]"
       ]
      },
      {
       "output_type": "stream",
       "stream": "stdout",
       "text": [
        "\n",
        "[ 0.01  0.01  0.    0.04  0.    0.89  0.02  0.    0.02  0.01]"
       ]
      },
      {
       "output_type": "stream",
       "stream": "stdout",
       "text": [
        "\n",
        "[ 0.01  0.    0.    0.    0.    0.01  0.97  0.    0.    0.  ]"
       ]
      },
      {
       "output_type": "stream",
       "stream": "stdout",
       "text": [
        "\n",
        "[ 0.    0.02  0.    0.    0.01  0.    0.    0.93  0.    0.04]"
       ]
      },
      {
       "output_type": "stream",
       "stream": "stdout",
       "text": [
        "\n",
        "[ 0.01  0.02  0.01  0.04  0.01  0.03  0.01  0.01  0.86  0.03]"
       ]
      },
      {
       "output_type": "stream",
       "stream": "stdout",
       "text": [
        "\n",
        "[ 0.    0.01  0.    0.01  0.04  0.    0.    0.03  0.    0.89]"
       ]
      },
      {
       "output_type": "stream",
       "stream": "stdout",
       "text": [
        "\n",
        "Saving plot_data...\n",
        "Start testing...\n",
        "[array([ 0.02785754,  0.02785754]), array([ 0.02691467,  0.02635752]), array([ 0.02837183,  0.02764325]), array([ 0.03021472,  0.02978614]), array([ 0.03111473,  0.03068615]), array([ 0.03214332,  0.0312433 ]), array([ 0.03600051,  0.03458621]), array([ 0.04465778,  0.04187203])]"
       ]
      },
      {
       "output_type": "stream",
       "stream": "stdout",
       "text": [
        "\n",
        "== Fold 2 ==\n",
        "Fitting model..."
       ]
      },
      {
       "output_type": "stream",
       "stream": "stdout",
       "text": [
        "\n",
        "Finding mean for k=1..."
       ]
      },
      {
       "output_type": "stream",
       "stream": "stdout",
       "text": [
        "\n",
        "[ 1.  0.  0.  0.  0.  0.  0.  0.  0.  0.]"
       ]
      },
      {
       "output_type": "stream",
       "stream": "stdout",
       "text": [
        "\n",
        "[ 0.  1.  0.  0.  0.  0.  0.  0.  0.  0.]"
       ]
      },
      {
       "output_type": "stream",
       "stream": "stdout",
       "text": [
        "\n",
        "[ 0.  0.  1.  0.  0.  0.  0.  0.  0.  0.]"
       ]
      },
      {
       "output_type": "stream",
       "stream": "stdout",
       "text": [
        "\n",
        "[ 0.  0.  0.  1.  0.  0.  0.  0.  0.  0.]"
       ]
      },
      {
       "output_type": "stream",
       "stream": "stdout",
       "text": [
        "\n",
        "[ 0.  0.  0.  0.  1.  0.  0.  0.  0.  0.]"
       ]
      },
      {
       "output_type": "stream",
       "stream": "stdout",
       "text": [
        "\n",
        "[ 0.  0.  0.  0.  0.  1.  0.  0.  0.  0.]"
       ]
      },
      {
       "output_type": "stream",
       "stream": "stdout",
       "text": [
        "\n",
        "[ 0.  0.  0.  0.  0.  0.  1.  0.  0.  0.]"
       ]
      },
      {
       "output_type": "stream",
       "stream": "stdout",
       "text": [
        "\n",
        "[ 0.  0.  0.  0.  0.  0.  0.  1.  0.  0.]"
       ]
      },
      {
       "output_type": "stream",
       "stream": "stdout",
       "text": [
        "\n",
        "[ 0.  0.  0.  0.  0.  0.  0.  0.  1.  0.]"
       ]
      },
      {
       "output_type": "stream",
       "stream": "stdout",
       "text": [
        "\n",
        "[ 0.  0.  0.  0.  0.  0.  0.  0.  0.  1.]"
       ]
      },
      {
       "output_type": "stream",
       "stream": "stdout",
       "text": [
        "\n",
        "Saving plot_data...\n",
        "Start testing...\n",
        "Finding mean for k=3..."
       ]
      },
      {
       "output_type": "stream",
       "stream": "stdout",
       "text": [
        "\n",
        "[ 0.99  0.    0.    0.    0.    0.    0.    0.    0.    0.  ]"
       ]
      },
      {
       "output_type": "stream",
       "stream": "stdout",
       "text": [
        "\n",
        "[ 0.    0.99  0.    0.    0.    0.    0.    0.    0.    0.  ]"
       ]
      },
      {
       "output_type": "stream",
       "stream": "stdout",
       "text": [
        "\n",
        "[ 0.    0.    0.98  0.    0.    0.    0.    0.01  0.    0.  ]"
       ]
      },
      {
       "output_type": "stream",
       "stream": "stdout",
       "text": [
        "\n",
        "[ 0.    0.    0.    0.97  0.    0.01  0.    0.    0.01  0.  ]"
       ]
      },
      {
       "output_type": "stream",
       "stream": "stdout",
       "text": [
        "\n",
        "[ 0.    0.    0.    0.    0.97  0.    0.    0.    0.    0.02]"
       ]
      },
      {
       "output_type": "stream",
       "stream": "stdout",
       "text": [
        "\n",
        "[ 0.    0.    0.    0.01  0.    0.97  0.01  0.    0.    0.  ]"
       ]
      },
      {
       "output_type": "stream",
       "stream": "stdout",
       "text": [
        "\n",
        "[ 0.    0.    0.    0.    0.    0.    0.99  0.    0.    0.  ]"
       ]
      },
      {
       "output_type": "stream",
       "stream": "stdout",
       "text": [
        "\n",
        "[ 0.    0.    0.    0.    0.    0.    0.    0.98  0.    0.01]"
       ]
      },
      {
       "output_type": "stream",
       "stream": "stdout",
       "text": [
        "\n",
        "[ 0.    0.    0.    0.01  0.    0.01  0.    0.    0.96  0.01]"
       ]
      },
      {
       "output_type": "stream",
       "stream": "stdout",
       "text": [
        "\n",
        "[ 0.    0.    0.    0.    0.01  0.    0.    0.01  0.    0.97]"
       ]
      },
      {
       "output_type": "stream",
       "stream": "stdout",
       "text": [
        "\n",
        "Saving plot_data...\n",
        "Start testing...\n",
        "Finding mean for k=5..."
       ]
      },
      {
       "output_type": "stream",
       "stream": "stdout",
       "text": [
        "\n",
        "[ 0.99  0.    0.    0.    0.    0.    0.    0.    0.    0.  ]"
       ]
      },
      {
       "output_type": "stream",
       "stream": "stdout",
       "text": [
        "\n",
        "[ 0.    0.99  0.    0.    0.    0.    0.    0.    0.    0.  ]"
       ]
      },
      {
       "output_type": "stream",
       "stream": "stdout",
       "text": [
        "\n",
        "[ 0.01  0.01  0.97  0.    0.    0.    0.    0.01  0.    0.  ]"
       ]
      },
      {
       "output_type": "stream",
       "stream": "stdout",
       "text": [
        "\n",
        "[ 0.    0.    0.    0.96  0.    0.01  0.    0.01  0.01  0.  ]"
       ]
      },
      {
       "output_type": "stream",
       "stream": "stdout",
       "text": [
        "\n",
        "[ 0.    0.    0.    0.    0.96  0.    0.    0.    0.    0.03]"
       ]
      },
      {
       "output_type": "stream",
       "stream": "stdout",
       "text": [
        "\n",
        "[ 0.    0.    0.    0.02  0.    0.95  0.01  0.    0.01  0.01]"
       ]
      },
      {
       "output_type": "stream",
       "stream": "stdout",
       "text": [
        "\n",
        "[ 0.    0.    0.    0.    0.    0.    0.99  0.    0.    0.  ]"
       ]
      },
      {
       "output_type": "stream",
       "stream": "stdout",
       "text": [
        "\n",
        "[ 0.    0.01  0.    0.    0.    0.    0.    0.97  0.    0.01]"
       ]
      },
      {
       "output_type": "stream",
       "stream": "stdout",
       "text": [
        "\n",
        "[ 0.    0.01  0.    0.01  0.    0.01  0.    0.    0.94  0.01]"
       ]
      },
      {
       "output_type": "stream",
       "stream": "stdout",
       "text": [
        "\n",
        "[ 0.    0.    0.    0.    0.01  0.    0.    0.01  0.    0.96]"
       ]
      },
      {
       "output_type": "stream",
       "stream": "stdout",
       "text": [
        "\n",
        "Saving plot_data...\n",
        "Start testing...\n",
        "Finding mean for k=7..."
       ]
      },
      {
       "output_type": "stream",
       "stream": "stdout",
       "text": [
        "\n",
        "[ 0.99  0.    0.    0.    0.    0.    0.    0.    0.    0.  ]"
       ]
      },
      {
       "output_type": "stream",
       "stream": "stdout",
       "text": [
        "\n",
        "[ 0.    0.99  0.    0.    0.    0.    0.    0.    0.    0.  ]"
       ]
      },
      {
       "output_type": "stream",
       "stream": "stdout",
       "text": [
        "\n",
        "[ 0.01  0.01  0.96  0.    0.    0.    0.    0.01  0.01  0.  ]"
       ]
      },
      {
       "output_type": "stream",
       "stream": "stdout",
       "text": [
        "\n",
        "[ 0.    0.    0.01  0.95  0.    0.02  0.    0.01  0.01  0.01]"
       ]
      },
      {
       "output_type": "stream",
       "stream": "stdout",
       "text": [
        "\n",
        "[ 0.    0.01  0.    0.    0.95  0.    0.    0.    0.    0.04]"
       ]
      },
      {
       "output_type": "stream",
       "stream": "stdout",
       "text": [
        "\n",
        "[ 0.    0.    0.    0.02  0.    0.95  0.01  0.    0.01  0.01]"
       ]
      },
      {
       "output_type": "stream",
       "stream": "stdout",
       "text": [
        "\n",
        "[ 0.    0.    0.    0.    0.    0.    0.99  0.    0.    0.  ]"
       ]
      },
      {
       "output_type": "stream",
       "stream": "stdout",
       "text": [
        "\n",
        "[ 0.    0.01  0.    0.    0.    0.    0.    0.97  0.    0.01]"
       ]
      },
      {
       "output_type": "stream",
       "stream": "stdout",
       "text": [
        "\n",
        "[ 0.    0.01  0.    0.02  0.    0.02  0.01  0.    0.93  0.01]"
       ]
      },
      {
       "output_type": "stream",
       "stream": "stdout",
       "text": [
        "\n",
        "[ 0.    0.    0.    0.01  0.02  0.    0.    0.01  0.    0.95]"
       ]
      },
      {
       "output_type": "stream",
       "stream": "stdout",
       "text": [
        "\n",
        "Saving plot_data...\n",
        "Start testing...\n",
        "Finding mean for k=9..."
       ]
      },
      {
       "output_type": "stream",
       "stream": "stdout",
       "text": [
        "\n",
        "[ 0.99  0.    0.    0.    0.    0.    0.01  0.    0.    0.  ]"
       ]
      },
      {
       "output_type": "stream",
       "stream": "stdout",
       "text": [
        "\n",
        "[ 0.    0.99  0.    0.    0.    0.    0.    0.    0.    0.  ]"
       ]
      },
      {
       "output_type": "stream",
       "stream": "stdout",
       "text": [
        "\n",
        "[ 0.01  0.01  0.95  0.01  0.    0.    0.    0.01  0.01  0.  ]"
       ]
      },
      {
       "output_type": "stream",
       "stream": "stdout",
       "text": [
        "\n",
        "[ 0.    0.    0.01  0.94  0.    0.02  0.    0.01  0.01  0.01]"
       ]
      },
      {
       "output_type": "stream",
       "stream": "stdout",
       "text": [
        "\n",
        "[ 0.    0.01  0.    0.    0.94  0.    0.    0.    0.    0.04]"
       ]
      },
      {
       "output_type": "stream",
       "stream": "stdout",
       "text": [
        "\n",
        "[ 0.    0.    0.    0.02  0.    0.94  0.01  0.    0.01  0.01]"
       ]
      },
      {
       "output_type": "stream",
       "stream": "stdout",
       "text": [
        "\n",
        "[ 0.01  0.    0.    0.    0.    0.01  0.98  0.    0.    0.  ]"
       ]
      },
      {
       "output_type": "stream",
       "stream": "stdout",
       "text": [
        "\n",
        "[ 0.    0.01  0.    0.    0.01  0.    0.    0.96  0.    0.02]"
       ]
      },
      {
       "output_type": "stream",
       "stream": "stdout",
       "text": [
        "\n",
        "[ 0.    0.01  0.    0.02  0.    0.02  0.01  0.    0.92  0.02]"
       ]
      },
      {
       "output_type": "stream",
       "stream": "stdout",
       "text": [
        "\n",
        "[ 0.    0.    0.    0.01  0.02  0.    0.    0.02  0.    0.94]"
       ]
      },
      {
       "output_type": "stream",
       "stream": "stdout",
       "text": [
        "\n",
        "Saving plot_data...\n",
        "Start testing...\n",
        "Finding mean for k=11..."
       ]
      },
      {
       "output_type": "stream",
       "stream": "stdout",
       "text": [
        "\n",
        "[ 0.99  0.    0.    0.    0.    0.    0.01  0.    0.    0.  ]"
       ]
      },
      {
       "output_type": "stream",
       "stream": "stdout",
       "text": [
        "\n",
        "[ 0.    0.99  0.    0.    0.    0.    0.    0.    0.    0.  ]"
       ]
      },
      {
       "output_type": "stream",
       "stream": "stdout",
       "text": [
        "\n",
        "[ 0.01  0.01  0.95  0.01  0.    0.    0.    0.02  0.01  0.  ]"
       ]
      },
      {
       "output_type": "stream",
       "stream": "stdout",
       "text": [
        "\n",
        "[ 0.    0.    0.01  0.94  0.    0.02  0.    0.01  0.01  0.01]"
       ]
      },
      {
       "output_type": "stream",
       "stream": "stdout",
       "text": [
        "\n",
        "[ 0.    0.01  0.    0.    0.93  0.    0.    0.    0.    0.05]"
       ]
      },
      {
       "output_type": "stream",
       "stream": "stdout",
       "text": [
        "\n",
        "[ 0.    0.    0.    0.02  0.    0.93  0.01  0.    0.01  0.01]"
       ]
      },
      {
       "output_type": "stream",
       "stream": "stdout",
       "text": [
        "\n",
        "[ 0.01  0.    0.    0.    0.    0.01  0.98  0.    0.    0.  ]"
       ]
      },
      {
       "output_type": "stream",
       "stream": "stdout",
       "text": [
        "\n",
        "[ 0.    0.01  0.    0.    0.01  0.    0.    0.96  0.    0.02]"
       ]
      },
      {
       "output_type": "stream",
       "stream": "stdout",
       "text": [
        "\n",
        "[ 0.    0.01  0.01  0.02  0.01  0.02  0.01  0.    0.91  0.02]"
       ]
      },
      {
       "output_type": "stream",
       "stream": "stdout",
       "text": [
        "\n",
        "[ 0.    0.    0.    0.01  0.02  0.    0.    0.02  0.    0.94]"
       ]
      },
      {
       "output_type": "stream",
       "stream": "stdout",
       "text": [
        "\n",
        "Saving plot_data...\n",
        "Start testing...\n",
        "Finding mean for k=20..."
       ]
      },
      {
       "output_type": "stream",
       "stream": "stdout",
       "text": [
        "\n",
        "[ 0.98  0.    0.    0.    0.    0.    0.01  0.    0.    0.  ]"
       ]
      },
      {
       "output_type": "stream",
       "stream": "stdout",
       "text": [
        "\n",
        "[ 0.    0.99  0.    0.    0.    0.    0.    0.    0.    0.  ]"
       ]
      },
      {
       "output_type": "stream",
       "stream": "stdout",
       "text": [
        "\n",
        "[ 0.01  0.01  0.93  0.01  0.    0.    0.    0.02  0.01  0.  ]"
       ]
      },
      {
       "output_type": "stream",
       "stream": "stdout",
       "text": [
        "\n",
        "[ 0.    0.01  0.01  0.92  0.    0.03  0.    0.01  0.02  0.01]"
       ]
      },
      {
       "output_type": "stream",
       "stream": "stdout",
       "text": [
        "\n",
        "[ 0.    0.01  0.    0.    0.91  0.    0.01  0.    0.    0.07]"
       ]
      },
      {
       "output_type": "stream",
       "stream": "stdout",
       "text": [
        "\n",
        "[ 0.    0.    0.    0.03  0.    0.91  0.02  0.    0.01  0.01]"
       ]
      },
      {
       "output_type": "stream",
       "stream": "stdout",
       "text": [
        "\n",
        "[ 0.01  0.    0.    0.    0.    0.01  0.98  0.    0.    0.  ]"
       ]
      },
      {
       "output_type": "stream",
       "stream": "stdout",
       "text": [
        "\n",
        "[ 0.    0.01  0.    0.    0.01  0.    0.    0.95  0.    0.03]"
       ]
      },
      {
       "output_type": "stream",
       "stream": "stdout",
       "text": [
        "\n",
        "[ 0.    0.01  0.01  0.03  0.01  0.03  0.01  0.    0.88  0.02]"
       ]
      },
      {
       "output_type": "stream",
       "stream": "stdout",
       "text": [
        "\n",
        "[ 0.    0.    0.    0.01  0.03  0.    0.    0.02  0.    0.92]"
       ]
      },
      {
       "output_type": "stream",
       "stream": "stdout",
       "text": [
        "\n",
        "Saving plot_data...\n",
        "Start testing...\n",
        "Finding mean for k=40..."
       ]
      },
      {
       "output_type": "stream",
       "stream": "stdout",
       "text": [
        "\n",
        "[ 0.98  0.    0.    0.    0.    0.    0.01  0.    0.    0.  ]"
       ]
      },
      {
       "output_type": "stream",
       "stream": "stdout",
       "text": [
        "\n",
        "[ 0.    0.99  0.    0.    0.    0.    0.    0.    0.    0.  ]"
       ]
      },
      {
       "output_type": "stream",
       "stream": "stdout",
       "text": [
        "\n",
        "[ 0.01  0.02  0.9   0.01  0.    0.    0.01  0.02  0.01  0.  ]"
       ]
      },
      {
       "output_type": "stream",
       "stream": "stdout",
       "text": [
        "\n",
        "[ 0.    0.01  0.01  0.9   0.    0.03  0.    0.01  0.02  0.01]"
       ]
      },
      {
       "output_type": "stream",
       "stream": "stdout",
       "text": [
        "\n",
        "[ 0.    0.01  0.    0.    0.88  0.    0.01  0.01  0.    0.09]"
       ]
      },
      {
       "output_type": "stream",
       "stream": "stdout",
       "text": [
        "\n",
        "[ 0.01  0.01  0.    0.04  0.    0.89  0.02  0.    0.02  0.02]"
       ]
      },
      {
       "output_type": "stream",
       "stream": "stdout",
       "text": [
        "\n",
        "[ 0.01  0.    0.    0.    0.    0.01  0.97  0.    0.    0.  ]"
       ]
      },
      {
       "output_type": "stream",
       "stream": "stdout",
       "text": [
        "\n",
        "[ 0.    0.02  0.01  0.    0.01  0.    0.    0.93  0.    0.04]"
       ]
      },
      {
       "output_type": "stream",
       "stream": "stdout",
       "text": [
        "\n",
        "[ 0.01  0.02  0.01  0.04  0.01  0.03  0.01  0.01  0.85  0.03]"
       ]
      },
      {
       "output_type": "stream",
       "stream": "stdout",
       "text": [
        "\n",
        "[ 0.    0.01  0.    0.01  0.04  0.    0.    0.03  0.    0.9 ]"
       ]
      },
      {
       "output_type": "stream",
       "stream": "stdout",
       "text": [
        "\n",
        "Saving plot_data...\n",
        "Start testing...\n",
        "[array([ 0.0267861,  0.0267861]), array([ 0.02524322,  0.02447178]), array([ 0.0248575 ,  0.02460035]), array([ 0.02691467,  0.02665752]), array([ 0.02828612,  0.02772897]), array([ 0.02940042,  0.02798611]), array([ 0.03334333,  0.03192903]), array([ 0.04178631,  0.03904341])]"
       ]
      },
      {
       "output_type": "stream",
       "stream": "stdout",
       "text": [
        "\n"
       ]
      },
      {
       "metadata": {},
       "output_type": "display_data",
       "png": "[encoded data removed]",
       "text": [
        "<matplotlib.figure.Figure at 0xf98d3c8>"
       ]
      }
     ],
     "prompt_number": 14
    }
   ],
   "metadata": {}
  }
 ]
}