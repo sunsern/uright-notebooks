{
 "metadata": {
  "name": "dtw_vs_hmm"
 },
 "nbformat": 3,
 "nbformat_minor": 0,
 "worksheets": [
  {
   "cells": [
    {
     "cell_type": "markdown",
     "metadata": {},
     "source": [
      "DTW vs HMM\n",
      "==========\n",
      "We compare classifiers using different underlying models: DTW-based prototypes and HMM-based prototypes."
     ]
    },
    {
     "cell_type": "code",
     "collapsed": true,
     "input": [
      "from uright.inkutils import (json2array,normalize_ink,filter_bad_ink)\n",
      "import pickle\n",
      "\n",
      "filename = \"candidate_prototypes_1368819209.p\"\n",
      "candidate_proto = pickle.load(open(filename,\"rb\"))\n",
      "\n",
      "clustered_data = {}\n",
      "label_ink_pairs = []\n",
      "for label in candidate_proto.keys():\n",
      "    clustered_data[label] = []\n",
      "    for _,examples in candidate_proto[label]:\n",
      "        # process all ink associated with the cluster\n",
      "        data = [np.nan_to_num(normalize_ink(json2array(ink)))\n",
      "                for ink in filter_bad_ink(examples)]\n",
      "        weights = [1] * len(data)\n",
      "        clustered_data[label].append(zip(data,weights))\n",
      "        label_ink_pairs += [(label,ink) for ink in data]"
     ],
     "language": "python",
     "metadata": {},
     "outputs": [],
     "prompt_number": 1
    },
    {
     "cell_type": "markdown",
     "metadata": {},
     "source": [
      "The training/testing comes from all users."
     ]
    },
    {
     "cell_type": "markdown",
     "metadata": {},
     "source": [
      "DTW-based Prototypes\n",
      "-------------------\n",
      "Each DTW-based prototype is represented by a sequence of [x,y,dx,dy,penup] and the score of an example given a prototype is defined to be the negative DTW distance between them.  "
     ]
    },
    {
     "cell_type": "code",
     "collapsed": false,
     "input": [
      "from uright.classifier import ClassifierDTW\n",
      "\n",
      "dtw = ClassifierDTW(alpha=0.5)\n",
      "dtw.train(clustered_data)"
     ],
     "language": "python",
     "metadata": {},
     "outputs": [],
     "prompt_number": 2
    },
    {
     "cell_type": "code",
     "collapsed": false,
     "input": [
      "from IPython.core.display import HTML\n",
      "    \n",
      "(accu_dtw,_,_) = dtw.test(label_ink_pairs)\n",
      "HTML(\"<h1>Accuracy = %0.2f</h1>\"%accu_dtw)"
     ],
     "language": "python",
     "metadata": {},
     "outputs": [
      {
       "html": [
        "<h1>Accuracy = 97.27</h1>"
       ],
       "output_type": "pyout",
       "prompt_number": 3,
       "text": [
        "<IPython.core.display.HTML at 0x6f20a10>"
       ]
      }
     ],
     "prompt_number": 3
    },
    {
     "cell_type": "markdown",
     "metadata": {},
     "source": [
      "HMM-based Prototypes\n",
      "--------------------\n",
      "Each HMM-based prototype is modeled using a left-to-right Gaussian HMM with the following default properties:\n",
      "\n",
      "+  The number of hidden states = 0.5 * average length of the training observations\n",
      "+  The transition probability $A_{i,j}$ is 0.8 if j = i, 0.2 if j = i+1 and $\\epsilon$ otherwise.\n",
      "+  The emission distribution of each state is a Gaussian distibution with a diagonal covariance matrix.\n",
      "+  An observation is a sequence of vectors [x,y,dx,dy,pen-up].\n",
      "+  Only observation means and covariance matrices are updated in the M-step.\n",
      "\n",
      "The score of an example given a prototype is the probability of observing the example and being in the right-most state at the end of the sequence."
     ]
    },
    {
     "cell_type": "code",
     "collapsed": true,
     "input": [
      "from uright.classifier import ClassifierHMM\n",
      "\n",
      "hmm = ClassifierHMM()\n",
      "hmm.train(clustered_data)"
     ],
     "language": "python",
     "metadata": {},
     "outputs": [],
     "prompt_number": 4
    },
    {
     "cell_type": "code",
     "collapsed": false,
     "input": [
      "from IPython.core.display import HTML\n",
      "    \n",
      "accu_hmm,_,_ = hmm.test(label_ink_pairs)\n",
      "HTML(\"<h1>Accuracy = %0.2f</h1>\"%accu_hmm)"
     ],
     "language": "python",
     "metadata": {},
     "outputs": [
      {
       "html": [
        "<h1>Accuracy = 95.63</h1>"
       ],
       "output_type": "pyout",
       "prompt_number": 5,
       "text": [
        "<IPython.core.display.HTML at 0x706a310>"
       ]
      }
     ],
     "prompt_number": 5
    },
    {
     "cell_type": "markdown",
     "metadata": {},
     "source": [
      "DTW-based prototypes w/ forward algorithm and beam search\n",
      "---------------------------------------------------------\n",
      "In our real-time application, we use forward algorithm for the classification task."
     ]
    },
    {
     "cell_type": "code",
     "collapsed": false,
     "input": [
      "from uright.classifier import ClassifierBeam\n",
      "\n",
      "beam = ClassifierBeam()\n",
      "beam.train(clustered_data)"
     ],
     "language": "python",
     "metadata": {},
     "outputs": [],
     "prompt_number": 6
    },
    {
     "cell_type": "code",
     "collapsed": false,
     "input": [
      "from IPython.core.display import HTML\n",
      "\n",
      "accu_beam,_,_ = beam.test(label_ink_pairs)\n",
      "HTML(\"<h1>Accuracy = %0.2f</h1>\"%accu_beam)"
     ],
     "language": "python",
     "metadata": {},
     "outputs": [
      {
       "html": [
        "<h1>Accuracy = 94.83</h1>"
       ],
       "output_type": "pyout",
       "prompt_number": 7,
       "text": [
        "<IPython.core.display.HTML at 0x706cd50>"
       ]
      }
     ],
     "prompt_number": 7
    },
    {
     "cell_type": "markdown",
     "metadata": {},
     "source": [
      "DTW-based prototypes (state-reduced) w/ forward algorithm and beam search\n",
      "---------------------------------------------------------\n",
      "We ran the state reduction over the prototypes and re-run the test."
     ]
    },
    {
     "cell_type": "code",
     "collapsed": false,
     "input": [
      "from uright.classifier import ClassifierBeam\n",
      "\n",
      "reduced_beam = ClassifierBeam()\n",
      "reduced_beam.train(clustered_data, state_reduction=True)"
     ],
     "language": "python",
     "metadata": {},
     "outputs": [],
     "prompt_number": 8
    },
    {
     "cell_type": "code",
     "collapsed": false,
     "input": [
      "from IPython.core.display import HTML\n",
      "\n",
      "accu_reduced_beam,_,_ = reduced_beam.test(label_ink_pairs)\n",
      "HTML(\"<h1>Accuracy = %0.2f</h1>\"%accu_reduced_beam)"
     ],
     "language": "python",
     "metadata": {},
     "outputs": [
      {
       "html": [
        "<h1>Accuracy = 94.21</h1>"
       ],
       "output_type": "pyout",
       "prompt_number": 9,
       "text": [
        "<IPython.core.display.HTML at 0x709f710>"
       ]
      }
     ],
     "prompt_number": 9
    }
   ],
   "metadata": {}
  }
 ]
}